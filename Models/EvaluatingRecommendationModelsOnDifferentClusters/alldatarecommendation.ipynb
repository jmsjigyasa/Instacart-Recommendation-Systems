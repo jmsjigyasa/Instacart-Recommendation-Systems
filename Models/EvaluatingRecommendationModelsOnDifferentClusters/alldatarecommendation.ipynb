{
 "cells": [
  {
   "cell_type": "markdown",
   "metadata": {},
   "source": [
    "### Evaluating Recommendation models on all the data"
   ]
  },
  {
   "cell_type": "code",
   "execution_count": 1,
   "metadata": {},
   "outputs": [],
   "source": [
    "\n",
    "from io import StringIO\n",
    "import requests\n",
    "import json\n",
    "import pandas as pd\n",
    "\n",
    "# @hidden_cell\n",
    "# This function accesses a file in your Object Storage. The definition contains your credentials.\n",
    "# You might want to remove those credentials before you share your notebook.\n",
    "def get_object_storage_file_with_credentials_836eb90819e64bfab21841eef5b3bf3c(container, filename):\n",
    "    \"\"\"This functions returns a StringIO object containing\n",
    "    the file content from Bluemix Object Storage.\"\"\"\n",
    "\n",
    "    url1 = ''.join(['https://identity.open.softlayer.com', '/v3/auth/tokens'])\n",
    "    data = {'auth': {'identity': {'methods': ['password'],\n",
    "            'password': {'user': {'name': 'member_6429e107b4727d3f5906de019f7fad88ada04fb8','domain': {'id': 'b5bbfbbc2d764a9096fd4aeb7d0d1477'},\n",
    "            'password': 'o{a{0]Dnx^MJ-dc1'}}}}}\n",
    "    headers1 = {'Content-Type': 'application/json'}\n",
    "    resp1 = requests.post(url=url1, data=json.dumps(data), headers=headers1)\n",
    "    resp1_body = resp1.json()\n",
    "    for e1 in resp1_body['token']['catalog']:\n",
    "        if(e1['type']=='object-store'):\n",
    "            for e2 in e1['endpoints']:\n",
    "                        if(e2['interface']=='public'and e2['region']=='dallas'):\n",
    "                            url2 = ''.join([e2['url'],'/', container, '/', filename])\n",
    "    s_subject_token = resp1.headers['x-subject-token']\n",
    "    headers2 = {'X-Auth-Token': s_subject_token, 'accept': 'application/json'}\n",
    "    resp2 = requests.get(url=url2, headers=headers2)\n",
    "    return StringIO(resp2.text)\n",
    "\n"
   ]
  },
  {
   "cell_type": "code",
   "execution_count": 2,
   "metadata": {},
   "outputs": [
    {
     "data": {
      "text/html": [
       "<div>\n",
       "<table border=\"1\" class=\"dataframe\">\n",
       "  <thead>\n",
       "    <tr style=\"text-align: right;\">\n",
       "      <th></th>\n",
       "      <th>user_id</th>\n",
       "      <th>product_id</th>\n",
       "      <th>rating</th>\n",
       "    </tr>\n",
       "  </thead>\n",
       "  <tbody>\n",
       "    <tr>\n",
       "      <th>0</th>\n",
       "      <td>1</td>\n",
       "      <td>196</td>\n",
       "      <td>5.000000</td>\n",
       "    </tr>\n",
       "    <tr>\n",
       "      <th>1</th>\n",
       "      <td>1</td>\n",
       "      <td>10258</td>\n",
       "      <td>4.545455</td>\n",
       "    </tr>\n",
       "    <tr>\n",
       "      <th>2</th>\n",
       "      <td>1</td>\n",
       "      <td>12427</td>\n",
       "      <td>4.545455</td>\n",
       "    </tr>\n",
       "    <tr>\n",
       "      <th>3</th>\n",
       "      <td>1</td>\n",
       "      <td>25133</td>\n",
       "      <td>4.090909</td>\n",
       "    </tr>\n",
       "    <tr>\n",
       "      <th>4</th>\n",
       "      <td>1</td>\n",
       "      <td>13032</td>\n",
       "      <td>1.818182</td>\n",
       "    </tr>\n",
       "  </tbody>\n",
       "</table>\n",
       "</div>"
      ],
      "text/plain": [
       "   user_id  product_id    rating\n",
       "0        1         196  5.000000\n",
       "1        1       10258  4.545455\n",
       "2        1       12427  4.545455\n",
       "3        1       25133  4.090909\n",
       "4        1       13032  1.818182"
      ]
     },
     "execution_count": 2,
     "metadata": {},
     "output_type": "execute_result"
    }
   ],
   "source": [
    "normratings= pd.read_csv(get_object_storage_file_with_credentials_836eb90819e64bfab21841eef5b3bf3c('insta', 'recommendwithratings.csv'))\n",
    "normratings.head()\n"
   ]
  },
  {
   "cell_type": "code",
   "execution_count": 3,
   "metadata": {},
   "outputs": [
    {
     "name": "stdout",
     "output_type": "stream",
     "text": [
      "Collecting https://get.graphlab.com/GraphLab-Create/2.1/goel.t@husky.neu.edu/E914-C086-1338-7082-B278-E8A7-1C13-1FDE/GraphLab-Create-License.tar.gz\n",
      "  Downloading https://get.graphlab.com/GraphLab-Create/2.1/goel.t@husky.neu.edu/E914-C086-1338-7082-B278-E8A7-1C13-1FDE/GraphLab-Create-License.tar.gz\n",
      "Requirement already up-to-date: graphlab-create>=2.1 in /gpfs/global_fs01/sym_shared/YPProdSpark/user/sed1-980fc88e6d89d3-f770736419c3/.local/lib/python2.7/site-packages (from GraphLab-Create-License==2.1)\n",
      "Requirement already up-to-date: psclient in /gpfs/global_fs01/sym_shared/YPProdSpark/user/sed1-980fc88e6d89d3-f770736419c3/.local/lib/python2.7/site-packages (from graphlab-create>=2.1->GraphLab-Create-License==2.1)\n",
      "Requirement already up-to-date: boto==2.33.0 in /gpfs/global_fs01/sym_shared/YPProdSpark/user/sed1-980fc88e6d89d3-f770736419c3/.local/lib/python2.7/site-packages (from graphlab-create>=2.1->GraphLab-Create-License==2.1)\n",
      "Requirement already up-to-date: decorator==4.0.9 in /gpfs/global_fs01/sym_shared/YPProdSpark/user/sed1-980fc88e6d89d3-f770736419c3/.local/lib/python2.7/site-packages (from graphlab-create>=2.1->GraphLab-Create-License==2.1)\n",
      "Requirement already up-to-date: tornado==4.3 in /usr/local/src/bluemix_jupyter_bundle.v73/notebook/lib/python2.7/site-packages (from graphlab-create>=2.1->GraphLab-Create-License==2.1)\n",
      "Requirement already up-to-date: prettytable==0.7.2 in /usr/local/src/bluemix_jupyter_bundle.v73/notebook/lib/python2.7/site-packages (from graphlab-create>=2.1->GraphLab-Create-License==2.1)\n",
      "Requirement already up-to-date: requests==2.9.1 in /gpfs/global_fs01/sym_shared/YPProdSpark/user/sed1-980fc88e6d89d3-f770736419c3/.local/lib/python2.7/site-packages (from graphlab-create>=2.1->GraphLab-Create-License==2.1)\n",
      "Requirement already up-to-date: awscli==1.6.2 in /gpfs/global_fs01/sym_shared/YPProdSpark/user/sed1-980fc88e6d89d3-f770736419c3/.local/lib/python2.7/site-packages (from graphlab-create>=2.1->GraphLab-Create-License==2.1)\n",
      "Requirement already up-to-date: sseclient==0.0.8 in /gpfs/global_fs01/sym_shared/YPProdSpark/user/sed1-980fc88e6d89d3-f770736419c3/.local/lib/python2.7/site-packages (from graphlab-create>=2.1->GraphLab-Create-License==2.1)\n",
      "Requirement already up-to-date: multipledispatch>=0.4.7 in /gpfs/global_fs01/sym_shared/YPProdSpark/user/sed1-980fc88e6d89d3-f770736419c3/.local/lib/python2.7/site-packages (from graphlab-create>=2.1->GraphLab-Create-License==2.1)\n",
      "Requirement already up-to-date: certifi==2015.04.28 in /gpfs/global_fs01/sym_shared/YPProdSpark/user/sed1-980fc88e6d89d3-f770736419c3/.local/lib/python2.7/site-packages (from graphlab-create>=2.1->GraphLab-Create-License==2.1)\n",
      "Requirement already up-to-date: jsonschema==2.5.1 in /usr/local/src/bluemix_jupyter_bundle.v73/notebook/lib/python2.7/site-packages (from graphlab-create>=2.1->GraphLab-Create-License==2.1)\n",
      "Requirement already up-to-date: genson==0.1.0 in /gpfs/global_fs01/sym_shared/YPProdSpark/user/sed1-980fc88e6d89d3-f770736419c3/.local/lib/python2.7/site-packages (from graphlab-create>=2.1->GraphLab-Create-License==2.1)\n",
      "Requirement already up-to-date: python-dateutil in /gpfs/global_fs01/sym_shared/YPProdSpark/user/sed1-980fc88e6d89d3-f770736419c3/.local/lib/python2.7/site-packages (from psclient->graphlab-create>=2.1->GraphLab-Create-License==2.1)\n",
      "Requirement already up-to-date: backports.ssl_match_hostname in /gpfs/global_fs01/sym_shared/YPProdSpark/user/sed1-980fc88e6d89d3-f770736419c3/.local/lib/python2.7/site-packages (from tornado==4.3->graphlab-create>=2.1->GraphLab-Create-License==2.1)\n",
      "Requirement already up-to-date: singledispatch in /usr/local/src/bluemix_jupyter_bundle.v73/notebook/lib/python2.7/site-packages (from tornado==4.3->graphlab-create>=2.1->GraphLab-Create-License==2.1)\n",
      "Requirement already up-to-date: backports_abc>=0.4 in /gpfs/global_fs01/sym_shared/YPProdSpark/user/sed1-980fc88e6d89d3-f770736419c3/.local/lib/python2.7/site-packages (from tornado==4.3->graphlab-create>=2.1->GraphLab-Create-License==2.1)\n",
      "Requirement already up-to-date: botocore<0.74.0,>=0.73.0 in /gpfs/global_fs01/sym_shared/YPProdSpark/user/sed1-980fc88e6d89d3-f770736419c3/.local/lib/python2.7/site-packages (from awscli==1.6.2->graphlab-create>=2.1->GraphLab-Create-License==2.1)\n",
      "Requirement already up-to-date: bcdoc<0.13.0,>=0.12.0 in /gpfs/global_fs01/sym_shared/YPProdSpark/user/sed1-980fc88e6d89d3-f770736419c3/.local/lib/python2.7/site-packages (from awscli==1.6.2->graphlab-create>=2.1->GraphLab-Create-License==2.1)\n",
      "Requirement already up-to-date: six>=1.1.0 in /gpfs/global_fs01/sym_shared/YPProdSpark/user/sed1-980fc88e6d89d3-f770736419c3/.local/lib/python2.7/site-packages (from awscli==1.6.2->graphlab-create>=2.1->GraphLab-Create-License==2.1)\n",
      "Requirement already up-to-date: colorama==0.2.5 in /gpfs/global_fs01/sym_shared/YPProdSpark/user/sed1-980fc88e6d89d3-f770736419c3/.local/lib/python2.7/site-packages (from awscli==1.6.2->graphlab-create>=2.1->GraphLab-Create-License==2.1)\n",
      "Requirement already up-to-date: docutils>=0.10 in /gpfs/global_fs01/sym_shared/YPProdSpark/user/sed1-980fc88e6d89d3-f770736419c3/.local/lib/python2.7/site-packages (from awscli==1.6.2->graphlab-create>=2.1->GraphLab-Create-License==2.1)\n",
      "Requirement already up-to-date: rsa==3.1.2 in /gpfs/global_fs01/sym_shared/YPProdSpark/user/sed1-980fc88e6d89d3-f770736419c3/.local/lib/python2.7/site-packages (from awscli==1.6.2->graphlab-create>=2.1->GraphLab-Create-License==2.1)\n",
      "Requirement already up-to-date: functools32; python_version == \"2.7\" in /usr/local/src/bluemix_jupyter_bundle.v73/notebook/lib/python2.7/site-packages (from jsonschema==2.5.1->graphlab-create>=2.1->GraphLab-Create-License==2.1)\n",
      "Requirement already up-to-date: jmespath==0.5.0 in /gpfs/global_fs01/sym_shared/YPProdSpark/user/sed1-980fc88e6d89d3-f770736419c3/.local/lib/python2.7/site-packages (from botocore<0.74.0,>=0.73.0->awscli==1.6.2->graphlab-create>=2.1->GraphLab-Create-License==2.1)\n",
      "Requirement already up-to-date: pyasn1>=0.1.3 in /gpfs/global_fs01/sym_shared/YPProdSpark/user/sed1-980fc88e6d89d3-f770736419c3/.local/lib/python2.7/site-packages (from rsa==3.1.2->awscli==1.6.2->graphlab-create>=2.1->GraphLab-Create-License==2.1)\n",
      "Installing collected packages: GraphLab-Create-License\n",
      "  Found existing installation: GraphLab-Create-License 2.1\n",
      "    Uninstalling GraphLab-Create-License-2.1:\n",
      "      Successfully uninstalled GraphLab-Create-License-2.1\n",
      "  Running setup.py install for GraphLab-Create-License ... \u001b[?25ldone\n",
      "\u001b[?25hSuccessfully installed GraphLab-Create-License-2.1\n"
     ]
    }
   ],
   "source": [
    "!pip install --user --upgrade --no-cache-dir https://get.graphlab.com/GraphLab-Create/2.1/goel.t@husky.neu.edu/E914-C086-1338-7082-B278-E8A7-1C13-1FDE/GraphLab-Create-License.tar.gz\n",
    "    "
   ]
  },
  {
   "cell_type": "code",
   "execution_count": 4,
   "metadata": {},
   "outputs": [
    {
     "name": "stdout",
     "output_type": "stream",
     "text": [
      "This non-commercial license of GraphLab Create for academic use is assigned to goel.t@husky.neu.edu and will expire on December 04, 2018.\n"
     ]
    },
    {
     "name": "stderr",
     "output_type": "stream",
     "text": [
      "[INFO] graphlab.cython.cy_server: GraphLab Create v2.1 started. Logging: /tmp/graphlab_server_1513103137.log\n"
     ]
    }
   ],
   "source": [
    "import numpy as np\n",
    "import graphlab\n",
    "\n",
    "msk = np.random.rand(len(normratings)) < 0.8\n",
    "train = normratings[msk]\n",
    "test = normratings[~msk]\n",
    "train_data = graphlab.SFrame(train)\n",
    "test_data=graphlab.SFrame(test)"
   ]
  },
  {
   "cell_type": "markdown",
   "metadata": {},
   "source": [
    "#### Creating item similarity model, popularity model and latent model on the whole data for comparing and selecting best out of them"
   ]
  },
  {
   "cell_type": "code",
   "execution_count": 5,
   "metadata": {},
   "outputs": [
    {
     "data": {
      "text/html": [
       "<pre>Recsys training: model = item_similarity</pre>"
      ],
      "text/plain": [
       "Recsys training: model = item_similarity"
      ]
     },
     "metadata": {},
     "output_type": "display_data"
    },
    {
     "data": {
      "text/html": [
       "<pre>Preparing data set.</pre>"
      ],
      "text/plain": [
       "Preparing data set."
      ]
     },
     "metadata": {},
     "output_type": "display_data"
    },
    {
     "data": {
      "text/html": [
       "<pre>    Data has 11091223 observations with 206125 users and 49636 items.</pre>"
      ],
      "text/plain": [
       "    Data has 11091223 observations with 206125 users and 49636 items."
      ]
     },
     "metadata": {},
     "output_type": "display_data"
    },
    {
     "data": {
      "text/html": [
       "<pre>    Data prepared in: 11.3874s</pre>"
      ],
      "text/plain": [
       "    Data prepared in: 11.3874s"
      ]
     },
     "metadata": {},
     "output_type": "display_data"
    },
    {
     "data": {
      "text/html": [
       "<pre>Training model from provided data.</pre>"
      ],
      "text/plain": [
       "Training model from provided data."
      ]
     },
     "metadata": {},
     "output_type": "display_data"
    },
    {
     "data": {
      "text/html": [
       "<pre>Gathering per-item and per-user statistics.</pre>"
      ],
      "text/plain": [
       "Gathering per-item and per-user statistics."
      ]
     },
     "metadata": {},
     "output_type": "display_data"
    },
    {
     "data": {
      "text/html": [
       "<pre>+--------------------------------+------------+</pre>"
      ],
      "text/plain": [
       "+--------------------------------+------------+"
      ]
     },
     "metadata": {},
     "output_type": "display_data"
    },
    {
     "data": {
      "text/html": [
       "<pre>| Elapsed Time (Item Statistics) | % Complete |</pre>"
      ],
      "text/plain": [
       "| Elapsed Time (Item Statistics) | % Complete |"
      ]
     },
     "metadata": {},
     "output_type": "display_data"
    },
    {
     "data": {
      "text/html": [
       "<pre>+--------------------------------+------------+</pre>"
      ],
      "text/plain": [
       "+--------------------------------+------------+"
      ]
     },
     "metadata": {},
     "output_type": "display_data"
    },
    {
     "data": {
      "text/html": [
       "<pre>| 6.691ms                        | 4.25       |</pre>"
      ],
      "text/plain": [
       "| 6.691ms                        | 4.25       |"
      ]
     },
     "metadata": {},
     "output_type": "display_data"
    },
    {
     "data": {
      "text/html": [
       "<pre>| 606.057ms                      | 100        |</pre>"
      ],
      "text/plain": [
       "| 606.057ms                      | 100        |"
      ]
     },
     "metadata": {},
     "output_type": "display_data"
    },
    {
     "data": {
      "text/html": [
       "<pre>+--------------------------------+------------+</pre>"
      ],
      "text/plain": [
       "+--------------------------------+------------+"
      ]
     },
     "metadata": {},
     "output_type": "display_data"
    },
    {
     "data": {
      "text/html": [
       "<pre>Setting up lookup tables.</pre>"
      ],
      "text/plain": [
       "Setting up lookup tables."
      ]
     },
     "metadata": {},
     "output_type": "display_data"
    },
    {
     "data": {
      "text/html": [
       "<pre>Processing data in 2 passes using dense lookup tables.</pre>"
      ],
      "text/plain": [
       "Processing data in 2 passes using dense lookup tables."
      ]
     },
     "metadata": {},
     "output_type": "display_data"
    },
    {
     "data": {
      "text/html": [
       "<pre>+-------------------------------------+------------------+-----------------+</pre>"
      ],
      "text/plain": [
       "+-------------------------------------+------------------+-----------------+"
      ]
     },
     "metadata": {},
     "output_type": "display_data"
    },
    {
     "data": {
      "text/html": [
       "<pre>| Elapsed Time (Constructing Lookups) | Total % Complete | Items Processed |</pre>"
      ],
      "text/plain": [
       "| Elapsed Time (Constructing Lookups) | Total % Complete | Items Processed |"
      ]
     },
     "metadata": {},
     "output_type": "display_data"
    },
    {
     "data": {
      "text/html": [
       "<pre>+-------------------------------------+------------------+-----------------+</pre>"
      ],
      "text/plain": [
       "+-------------------------------------+------------------+-----------------+"
      ]
     },
     "metadata": {},
     "output_type": "display_data"
    },
    {
     "data": {
      "text/html": [
       "<pre>| 2.80s                               | 0                | 0               |</pre>"
      ],
      "text/plain": [
       "| 2.80s                               | 0                | 0               |"
      ]
     },
     "metadata": {},
     "output_type": "display_data"
    },
    {
     "data": {
      "text/html": [
       "<pre>| 3.87s                               | 0                | 107             |</pre>"
      ],
      "text/plain": [
       "| 3.87s                               | 0                | 107             |"
      ]
     },
     "metadata": {},
     "output_type": "display_data"
    },
    {
     "data": {
      "text/html": [
       "<pre>| 4.87s                               | 0.25             | 164             |</pre>"
      ],
      "text/plain": [
       "| 4.87s                               | 0.25             | 164             |"
      ]
     },
     "metadata": {},
     "output_type": "display_data"
    },
    {
     "data": {
      "text/html": [
       "<pre>| 5.87s                               | 0.25             | 211             |</pre>"
      ],
      "text/plain": [
       "| 5.87s                               | 0.25             | 211             |"
      ]
     },
     "metadata": {},
     "output_type": "display_data"
    },
    {
     "data": {
      "text/html": [
       "<pre>| 6.87s                               | 0.5              | 282             |</pre>"
      ],
      "text/plain": [
       "| 6.87s                               | 0.5              | 282             |"
      ]
     },
     "metadata": {},
     "output_type": "display_data"
    },
    {
     "data": {
      "text/html": [
       "<pre>| 7.87s                               | 0.5              | 360             |</pre>"
      ],
      "text/plain": [
       "| 7.87s                               | 0.5              | 360             |"
      ]
     },
     "metadata": {},
     "output_type": "display_data"
    },
    {
     "data": {
      "text/html": [
       "<pre>| 8.87s                               | 0.75             | 462             |</pre>"
      ],
      "text/plain": [
       "| 8.87s                               | 0.75             | 462             |"
      ]
     },
     "metadata": {},
     "output_type": "display_data"
    },
    {
     "data": {
      "text/html": [
       "<pre>| 9.87s                               | 1                | 552             |</pre>"
      ],
      "text/plain": [
       "| 9.87s                               | 1                | 552             |"
      ]
     },
     "metadata": {},
     "output_type": "display_data"
    },
    {
     "data": {
      "text/html": [
       "<pre>| 10.87s                              | 1.25             | 629             |</pre>"
      ],
      "text/plain": [
       "| 10.87s                              | 1.25             | 629             |"
      ]
     },
     "metadata": {},
     "output_type": "display_data"
    },
    {
     "data": {
      "text/html": [
       "<pre>| 11.87s                              | 1.25             | 728             |</pre>"
      ],
      "text/plain": [
       "| 11.87s                              | 1.25             | 728             |"
      ]
     },
     "metadata": {},
     "output_type": "display_data"
    },
    {
     "data": {
      "text/html": [
       "<pre>| 12.87s                              | 1.5              | 808             |</pre>"
      ],
      "text/plain": [
       "| 12.87s                              | 1.5              | 808             |"
      ]
     },
     "metadata": {},
     "output_type": "display_data"
    },
    {
     "data": {
      "text/html": [
       "<pre>| 13.87s                              | 1.75             | 897             |</pre>"
      ],
      "text/plain": [
       "| 13.87s                              | 1.75             | 897             |"
      ]
     },
     "metadata": {},
     "output_type": "display_data"
    },
    {
     "data": {
      "text/html": [
       "<pre>| 14.87s                              | 1.75             | 982             |</pre>"
      ],
      "text/plain": [
       "| 14.87s                              | 1.75             | 982             |"
      ]
     },
     "metadata": {},
     "output_type": "display_data"
    },
    {
     "data": {
      "text/html": [
       "<pre>| 15.87s                              | 2                | 1091            |</pre>"
      ],
      "text/plain": [
       "| 15.87s                              | 2                | 1091            |"
      ]
     },
     "metadata": {},
     "output_type": "display_data"
    },
    {
     "data": {
      "text/html": [
       "<pre>| 16.87s                              | 2.25             | 1209            |</pre>"
      ],
      "text/plain": [
       "| 16.87s                              | 2.25             | 1209            |"
      ]
     },
     "metadata": {},
     "output_type": "display_data"
    },
    {
     "data": {
      "text/html": [
       "<pre>| 17.87s                              | 2.5              | 1320            |</pre>"
      ],
      "text/plain": [
       "| 17.87s                              | 2.5              | 1320            |"
      ]
     },
     "metadata": {},
     "output_type": "display_data"
    },
    {
     "data": {
      "text/html": [
       "<pre>| 18.87s                              | 2.75             | 1439            |</pre>"
      ],
      "text/plain": [
       "| 18.87s                              | 2.75             | 1439            |"
      ]
     },
     "metadata": {},
     "output_type": "display_data"
    },
    {
     "data": {
      "text/html": [
       "<pre>| 19.87s                              | 3                | 1540            |</pre>"
      ],
      "text/plain": [
       "| 19.87s                              | 3                | 1540            |"
      ]
     },
     "metadata": {},
     "output_type": "display_data"
    },
    {
     "data": {
      "text/html": [
       "<pre>| 20.87s                              | 3.25             | 1652            |</pre>"
      ],
      "text/plain": [
       "| 20.87s                              | 3.25             | 1652            |"
      ]
     },
     "metadata": {},
     "output_type": "display_data"
    },
    {
     "data": {
      "text/html": [
       "<pre>| 21.87s                              | 3.5              | 1762            |</pre>"
      ],
      "text/plain": [
       "| 21.87s                              | 3.5              | 1762            |"
      ]
     },
     "metadata": {},
     "output_type": "display_data"
    },
    {
     "data": {
      "text/html": [
       "<pre>| 22.87s                              | 3.75             | 1872            |</pre>"
      ],
      "text/plain": [
       "| 22.87s                              | 3.75             | 1872            |"
      ]
     },
     "metadata": {},
     "output_type": "display_data"
    },
    {
     "data": {
      "text/html": [
       "<pre>| 23.87s                              | 3.75             | 1979            |</pre>"
      ],
      "text/plain": [
       "| 23.87s                              | 3.75             | 1979            |"
      ]
     },
     "metadata": {},
     "output_type": "display_data"
    },
    {
     "data": {
      "text/html": [
       "<pre>| 24.87s                              | 4                | 2080            |</pre>"
      ],
      "text/plain": [
       "| 24.87s                              | 4                | 2080            |"
      ]
     },
     "metadata": {},
     "output_type": "display_data"
    },
    {
     "data": {
      "text/html": [
       "<pre>| 25.87s                              | 4.25             | 2179            |</pre>"
      ],
      "text/plain": [
       "| 25.87s                              | 4.25             | 2179            |"
      ]
     },
     "metadata": {},
     "output_type": "display_data"
    },
    {
     "data": {
      "text/html": [
       "<pre>| 26.87s                              | 4.5              | 2275            |</pre>"
      ],
      "text/plain": [
       "| 26.87s                              | 4.5              | 2275            |"
      ]
     },
     "metadata": {},
     "output_type": "display_data"
    },
    {
     "data": {
      "text/html": [
       "<pre>| 27.87s                              | 4.75             | 2390            |</pre>"
      ],
      "text/plain": [
       "| 27.87s                              | 4.75             | 2390            |"
      ]
     },
     "metadata": {},
     "output_type": "display_data"
    },
    {
     "data": {
      "text/html": [
       "<pre>| 28.87s                              | 5                | 2504            |</pre>"
      ],
      "text/plain": [
       "| 28.87s                              | 5                | 2504            |"
      ]
     },
     "metadata": {},
     "output_type": "display_data"
    },
    {
     "data": {
      "text/html": [
       "<pre>| 29.87s                              | 5.25             | 2618            |</pre>"
      ],
      "text/plain": [
       "| 29.87s                              | 5.25             | 2618            |"
      ]
     },
     "metadata": {},
     "output_type": "display_data"
    },
    {
     "data": {
      "text/html": [
       "<pre>| 30.87s                              | 5.5              | 2731            |</pre>"
      ],
      "text/plain": [
       "| 30.87s                              | 5.5              | 2731            |"
      ]
     },
     "metadata": {},
     "output_type": "display_data"
    },
    {
     "data": {
      "text/html": [
       "<pre>| 31.87s                              | 5.5              | 2841            |</pre>"
      ],
      "text/plain": [
       "| 31.87s                              | 5.5              | 2841            |"
      ]
     },
     "metadata": {},
     "output_type": "display_data"
    },
    {
     "data": {
      "text/html": [
       "<pre>| 32.87s                              | 5.75             | 2943            |</pre>"
      ],
      "text/plain": [
       "| 32.87s                              | 5.75             | 2943            |"
      ]
     },
     "metadata": {},
     "output_type": "display_data"
    },
    {
     "data": {
      "text/html": [
       "<pre>| 33.87s                              | 6                | 3043            |</pre>"
      ],
      "text/plain": [
       "| 33.87s                              | 6                | 3043            |"
      ]
     },
     "metadata": {},
     "output_type": "display_data"
    },
    {
     "data": {
      "text/html": [
       "<pre>| 34.87s                              | 6.25             | 3151            |</pre>"
      ],
      "text/plain": [
       "| 34.87s                              | 6.25             | 3151            |"
      ]
     },
     "metadata": {},
     "output_type": "display_data"
    },
    {
     "data": {
      "text/html": [
       "<pre>| 35.87s                              | 6.5              | 3231            |</pre>"
      ],
      "text/plain": [
       "| 35.87s                              | 6.5              | 3231            |"
      ]
     },
     "metadata": {},
     "output_type": "display_data"
    },
    {
     "data": {
      "text/html": [
       "<pre>| 36.87s                              | 6.5              | 3333            |</pre>"
      ],
      "text/plain": [
       "| 36.87s                              | 6.5              | 3333            |"
      ]
     },
     "metadata": {},
     "output_type": "display_data"
    },
    {
     "data": {
      "text/html": [
       "<pre>| 37.87s                              | 6.75             | 3445            |</pre>"
      ],
      "text/plain": [
       "| 37.87s                              | 6.75             | 3445            |"
      ]
     },
     "metadata": {},
     "output_type": "display_data"
    },
    {
     "data": {
      "text/html": [
       "<pre>| 38.87s                              | 7                | 3546            |</pre>"
      ],
      "text/plain": [
       "| 38.87s                              | 7                | 3546            |"
      ]
     },
     "metadata": {},
     "output_type": "display_data"
    },
    {
     "data": {
      "text/html": [
       "<pre>| 39.87s                              | 7.25             | 3659            |</pre>"
      ],
      "text/plain": [
       "| 39.87s                              | 7.25             | 3659            |"
      ]
     },
     "metadata": {},
     "output_type": "display_data"
    },
    {
     "data": {
      "text/html": [
       "<pre>| 40.87s                              | 7.5              | 3760            |</pre>"
      ],
      "text/plain": [
       "| 40.87s                              | 7.5              | 3760            |"
      ]
     },
     "metadata": {},
     "output_type": "display_data"
    },
    {
     "data": {
      "text/html": [
       "<pre>| 41.87s                              | 7.75             | 3871            |</pre>"
      ],
      "text/plain": [
       "| 41.87s                              | 7.75             | 3871            |"
      ]
     },
     "metadata": {},
     "output_type": "display_data"
    },
    {
     "data": {
      "text/html": [
       "<pre>| 42.87s                              | 8                | 3990            |</pre>"
      ],
      "text/plain": [
       "| 42.87s                              | 8                | 3990            |"
      ]
     },
     "metadata": {},
     "output_type": "display_data"
    },
    {
     "data": {
      "text/html": [
       "<pre>| 43.87s                              | 8.25             | 4104            |</pre>"
      ],
      "text/plain": [
       "| 43.87s                              | 8.25             | 4104            |"
      ]
     },
     "metadata": {},
     "output_type": "display_data"
    },
    {
     "data": {
      "text/html": [
       "<pre>| 44.87s                              | 8.25             | 4216            |</pre>"
      ],
      "text/plain": [
       "| 44.87s                              | 8.25             | 4216            |"
      ]
     },
     "metadata": {},
     "output_type": "display_data"
    },
    {
     "data": {
      "text/html": [
       "<pre>| 45.87s                              | 8.5              | 4335            |</pre>"
      ],
      "text/plain": [
       "| 45.87s                              | 8.5              | 4335            |"
      ]
     },
     "metadata": {},
     "output_type": "display_data"
    },
    {
     "data": {
      "text/html": [
       "<pre>| 46.87s                              | 8.75             | 4441            |</pre>"
      ],
      "text/plain": [
       "| 46.87s                              | 8.75             | 4441            |"
      ]
     },
     "metadata": {},
     "output_type": "display_data"
    },
    {
     "data": {
      "text/html": [
       "<pre>| 47.87s                              | 9                | 4541            |</pre>"
      ],
      "text/plain": [
       "| 47.87s                              | 9                | 4541            |"
      ]
     },
     "metadata": {},
     "output_type": "display_data"
    },
    {
     "data": {
      "text/html": [
       "<pre>| 48.87s                              | 9.25             | 4636            |</pre>"
      ],
      "text/plain": [
       "| 48.87s                              | 9.25             | 4636            |"
      ]
     },
     "metadata": {},
     "output_type": "display_data"
    },
    {
     "data": {
      "text/html": [
       "<pre>| 49.87s                              | 9.5              | 4750            |</pre>"
      ],
      "text/plain": [
       "| 49.87s                              | 9.5              | 4750            |"
      ]
     },
     "metadata": {},
     "output_type": "display_data"
    },
    {
     "data": {
      "text/html": [
       "<pre>| 50.87s                              | 9.75             | 4852            |</pre>"
      ],
      "text/plain": [
       "| 50.87s                              | 9.75             | 4852            |"
      ]
     },
     "metadata": {},
     "output_type": "display_data"
    },
    {
     "data": {
      "text/html": [
       "<pre>| 51.87s                              | 9.75             | 4961            |</pre>"
      ],
      "text/plain": [
       "| 51.87s                              | 9.75             | 4961            |"
      ]
     },
     "metadata": {},
     "output_type": "display_data"
    },
    {
     "data": {
      "text/html": [
       "<pre>| 52.87s                              | 10               | 5076            |</pre>"
      ],
      "text/plain": [
       "| 52.87s                              | 10               | 5076            |"
      ]
     },
     "metadata": {},
     "output_type": "display_data"
    },
    {
     "data": {
      "text/html": [
       "<pre>| 53.87s                              | 10.25            | 5194            |</pre>"
      ],
      "text/plain": [
       "| 53.87s                              | 10.25            | 5194            |"
      ]
     },
     "metadata": {},
     "output_type": "display_data"
    },
    {
     "data": {
      "text/html": [
       "<pre>| 54.87s                              | 10.5             | 5303            |</pre>"
      ],
      "text/plain": [
       "| 54.87s                              | 10.5             | 5303            |"
      ]
     },
     "metadata": {},
     "output_type": "display_data"
    },
    {
     "data": {
      "text/html": [
       "<pre>| 55.87s                              | 10.75            | 5417            |</pre>"
      ],
      "text/plain": [
       "| 55.87s                              | 10.75            | 5417            |"
      ]
     },
     "metadata": {},
     "output_type": "display_data"
    },
    {
     "data": {
      "text/html": [
       "<pre>| 56.87s                              | 11               | 5524            |</pre>"
      ],
      "text/plain": [
       "| 56.87s                              | 11               | 5524            |"
      ]
     },
     "metadata": {},
     "output_type": "display_data"
    },
    {
     "data": {
      "text/html": [
       "<pre>| 57.87s                              | 11.25            | 5639            |</pre>"
      ],
      "text/plain": [
       "| 57.87s                              | 11.25            | 5639            |"
      ]
     },
     "metadata": {},
     "output_type": "display_data"
    },
    {
     "data": {
      "text/html": [
       "<pre>| 58.87s                              | 11.5             | 5740            |</pre>"
      ],
      "text/plain": [
       "| 58.87s                              | 11.5             | 5740            |"
      ]
     },
     "metadata": {},
     "output_type": "display_data"
    },
    {
     "data": {
      "text/html": [
       "<pre>| 59.87s                              | 11.75            | 5834            |</pre>"
      ],
      "text/plain": [
       "| 59.87s                              | 11.75            | 5834            |"
      ]
     },
     "metadata": {},
     "output_type": "display_data"
    },
    {
     "data": {
      "text/html": [
       "<pre>| 1m 0s                               | 11.75            | 5933            |</pre>"
      ],
      "text/plain": [
       "| 1m 0s                               | 11.75            | 5933            |"
      ]
     },
     "metadata": {},
     "output_type": "display_data"
    },
    {
     "data": {
      "text/html": [
       "<pre>| 1m 1s                               | 12               | 6041            |</pre>"
      ],
      "text/plain": [
       "| 1m 1s                               | 12               | 6041            |"
      ]
     },
     "metadata": {},
     "output_type": "display_data"
    },
    {
     "data": {
      "text/html": [
       "<pre>| 1m 2s                               | 12.25            | 6149            |</pre>"
      ],
      "text/plain": [
       "| 1m 2s                               | 12.25            | 6149            |"
      ]
     },
     "metadata": {},
     "output_type": "display_data"
    },
    {
     "data": {
      "text/html": [
       "<pre>| 1m 3s                               | 12.5             | 6254            |</pre>"
      ],
      "text/plain": [
       "| 1m 3s                               | 12.5             | 6254            |"
      ]
     },
     "metadata": {},
     "output_type": "display_data"
    },
    {
     "data": {
      "text/html": [
       "<pre>| 1m 4s                               | 12.75            | 6356            |</pre>"
      ],
      "text/plain": [
       "| 1m 4s                               | 12.75            | 6356            |"
      ]
     },
     "metadata": {},
     "output_type": "display_data"
    },
    {
     "data": {
      "text/html": [
       "<pre>| 1m 5s                               | 13               | 6459            |</pre>"
      ],
      "text/plain": [
       "| 1m 5s                               | 13               | 6459            |"
      ]
     },
     "metadata": {},
     "output_type": "display_data"
    },
    {
     "data": {
      "text/html": [
       "<pre>| 1m 6s                               | 13               | 6553            |</pre>"
      ],
      "text/plain": [
       "| 1m 6s                               | 13               | 6553            |"
      ]
     },
     "metadata": {},
     "output_type": "display_data"
    },
    {
     "data": {
      "text/html": [
       "<pre>| 1m 7s                               | 13.25            | 6657            |</pre>"
      ],
      "text/plain": [
       "| 1m 7s                               | 13.25            | 6657            |"
      ]
     },
     "metadata": {},
     "output_type": "display_data"
    },
    {
     "data": {
      "text/html": [
       "<pre>| 1m 8s                               | 13.5             | 6766            |</pre>"
      ],
      "text/plain": [
       "| 1m 8s                               | 13.5             | 6766            |"
      ]
     },
     "metadata": {},
     "output_type": "display_data"
    },
    {
     "data": {
      "text/html": [
       "<pre>| 1m 9s                               | 13.75            | 6860            |</pre>"
      ],
      "text/plain": [
       "| 1m 9s                               | 13.75            | 6860            |"
      ]
     },
     "metadata": {},
     "output_type": "display_data"
    },
    {
     "data": {
      "text/html": [
       "<pre>| 1m 10s                              | 14               | 6968            |</pre>"
      ],
      "text/plain": [
       "| 1m 10s                              | 14               | 6968            |"
      ]
     },
     "metadata": {},
     "output_type": "display_data"
    },
    {
     "data": {
      "text/html": [
       "<pre>| 1m 11s                              | 14               | 7071            |</pre>"
      ],
      "text/plain": [
       "| 1m 11s                              | 14               | 7071            |"
      ]
     },
     "metadata": {},
     "output_type": "display_data"
    },
    {
     "data": {
      "text/html": [
       "<pre>| 1m 12s                              | 14.25            | 7182            |</pre>"
      ],
      "text/plain": [
       "| 1m 12s                              | 14.25            | 7182            |"
      ]
     },
     "metadata": {},
     "output_type": "display_data"
    },
    {
     "data": {
      "text/html": [
       "<pre>| 1m 13s                              | 14.5             | 7296            |</pre>"
      ],
      "text/plain": [
       "| 1m 13s                              | 14.5             | 7296            |"
      ]
     },
     "metadata": {},
     "output_type": "display_data"
    },
    {
     "data": {
      "text/html": [
       "<pre>| 1m 14s                              | 14.75            | 7408            |</pre>"
      ],
      "text/plain": [
       "| 1m 14s                              | 14.75            | 7408            |"
      ]
     },
     "metadata": {},
     "output_type": "display_data"
    },
    {
     "data": {
      "text/html": [
       "<pre>| 1m 15s                              | 15               | 7522            |</pre>"
      ],
      "text/plain": [
       "| 1m 15s                              | 15               | 7522            |"
      ]
     },
     "metadata": {},
     "output_type": "display_data"
    },
    {
     "data": {
      "text/html": [
       "<pre>| 1m 16s                              | 15.25            | 7627            |</pre>"
      ],
      "text/plain": [
       "| 1m 16s                              | 15.25            | 7627            |"
      ]
     },
     "metadata": {},
     "output_type": "display_data"
    },
    {
     "data": {
      "text/html": [
       "<pre>| 1m 17s                              | 15.5             | 7743            |</pre>"
      ],
      "text/plain": [
       "| 1m 17s                              | 15.5             | 7743            |"
      ]
     },
     "metadata": {},
     "output_type": "display_data"
    },
    {
     "data": {
      "text/html": [
       "<pre>| 1m 18s                              | 15.75            | 7853            |</pre>"
      ],
      "text/plain": [
       "| 1m 18s                              | 15.75            | 7853            |"
      ]
     },
     "metadata": {},
     "output_type": "display_data"
    },
    {
     "data": {
      "text/html": [
       "<pre>| 1m 19s                              | 16               | 7960            |</pre>"
      ],
      "text/plain": [
       "| 1m 19s                              | 16               | 7960            |"
      ]
     },
     "metadata": {},
     "output_type": "display_data"
    },
    {
     "data": {
      "text/html": [
       "<pre>| 1m 20s                              | 16.25            | 8072            |</pre>"
      ],
      "text/plain": [
       "| 1m 20s                              | 16.25            | 8072            |"
      ]
     },
     "metadata": {},
     "output_type": "display_data"
    },
    {
     "data": {
      "text/html": [
       "<pre>| 1m 21s                              | 16.25            | 8181            |</pre>"
      ],
      "text/plain": [
       "| 1m 21s                              | 16.25            | 8181            |"
      ]
     },
     "metadata": {},
     "output_type": "display_data"
    },
    {
     "data": {
      "text/html": [
       "<pre>| 1m 22s                              | 16.5             | 8274            |</pre>"
      ],
      "text/plain": [
       "| 1m 22s                              | 16.5             | 8274            |"
      ]
     },
     "metadata": {},
     "output_type": "display_data"
    },
    {
     "data": {
      "text/html": [
       "<pre>| 1m 23s                              | 16.75            | 8382            |</pre>"
      ],
      "text/plain": [
       "| 1m 23s                              | 16.75            | 8382            |"
      ]
     },
     "metadata": {},
     "output_type": "display_data"
    },
    {
     "data": {
      "text/html": [
       "<pre>| 1m 24s                              | 17               | 8484            |</pre>"
      ],
      "text/plain": [
       "| 1m 24s                              | 17               | 8484            |"
      ]
     },
     "metadata": {},
     "output_type": "display_data"
    },
    {
     "data": {
      "text/html": [
       "<pre>| 1m 25s                              | 17.25            | 8588            |</pre>"
      ],
      "text/plain": [
       "| 1m 25s                              | 17.25            | 8588            |"
      ]
     },
     "metadata": {},
     "output_type": "display_data"
    },
    {
     "data": {
      "text/html": [
       "<pre>| 1m 26s                              | 17.5             | 8707            |</pre>"
      ],
      "text/plain": [
       "| 1m 26s                              | 17.5             | 8707            |"
      ]
     },
     "metadata": {},
     "output_type": "display_data"
    },
    {
     "data": {
      "text/html": [
       "<pre>| 1m 27s                              | 17.75            | 8815            |</pre>"
      ],
      "text/plain": [
       "| 1m 27s                              | 17.75            | 8815            |"
      ]
     },
     "metadata": {},
     "output_type": "display_data"
    },
    {
     "data": {
      "text/html": [
       "<pre>| 1m 28s                              | 17.75            | 8921            |</pre>"
      ],
      "text/plain": [
       "| 1m 28s                              | 17.75            | 8921            |"
      ]
     },
     "metadata": {},
     "output_type": "display_data"
    },
    {
     "data": {
      "text/html": [
       "<pre>| 1m 29s                              | 18               | 9021            |</pre>"
      ],
      "text/plain": [
       "| 1m 29s                              | 18               | 9021            |"
      ]
     },
     "metadata": {},
     "output_type": "display_data"
    },
    {
     "data": {
      "text/html": [
       "<pre>| 1m 30s                              | 18.25            | 9137            |</pre>"
      ],
      "text/plain": [
       "| 1m 30s                              | 18.25            | 9137            |"
      ]
     },
     "metadata": {},
     "output_type": "display_data"
    },
    {
     "data": {
      "text/html": [
       "<pre>| 1m 31s                              | 18.5             | 9244            |</pre>"
      ],
      "text/plain": [
       "| 1m 31s                              | 18.5             | 9244            |"
      ]
     },
     "metadata": {},
     "output_type": "display_data"
    },
    {
     "data": {
      "text/html": [
       "<pre>| 1m 32s                              | 18.75            | 9337            |</pre>"
      ],
      "text/plain": [
       "| 1m 32s                              | 18.75            | 9337            |"
      ]
     },
     "metadata": {},
     "output_type": "display_data"
    },
    {
     "data": {
      "text/html": [
       "<pre>| 1m 33s                              | 19               | 9436            |</pre>"
      ],
      "text/plain": [
       "| 1m 33s                              | 19               | 9436            |"
      ]
     },
     "metadata": {},
     "output_type": "display_data"
    },
    {
     "data": {
      "text/html": [
       "<pre>| 1m 34s                              | 19               | 9545            |</pre>"
      ],
      "text/plain": [
       "| 1m 34s                              | 19               | 9545            |"
      ]
     },
     "metadata": {},
     "output_type": "display_data"
    },
    {
     "data": {
      "text/html": [
       "<pre>| 1m 35s                              | 19.25            | 9628            |</pre>"
      ],
      "text/plain": [
       "| 1m 35s                              | 19.25            | 9628            |"
      ]
     },
     "metadata": {},
     "output_type": "display_data"
    },
    {
     "data": {
      "text/html": [
       "<pre>| 1m 36s                              | 19.5             | 9752            |</pre>"
      ],
      "text/plain": [
       "| 1m 36s                              | 19.5             | 9752            |"
      ]
     },
     "metadata": {},
     "output_type": "display_data"
    },
    {
     "data": {
      "text/html": [
       "<pre>| 1m 37s                              | 19.75            | 9844            |</pre>"
      ],
      "text/plain": [
       "| 1m 37s                              | 19.75            | 9844            |"
      ]
     },
     "metadata": {},
     "output_type": "display_data"
    },
    {
     "data": {
      "text/html": [
       "<pre>| 1m 38s                              | 20               | 9952            |</pre>"
      ],
      "text/plain": [
       "| 1m 38s                              | 20               | 9952            |"
      ]
     },
     "metadata": {},
     "output_type": "display_data"
    },
    {
     "data": {
      "text/html": [
       "<pre>| 1m 39s                              | 20.25            | 10064           |</pre>"
      ],
      "text/plain": [
       "| 1m 39s                              | 20.25            | 10064           |"
      ]
     },
     "metadata": {},
     "output_type": "display_data"
    },
    {
     "data": {
      "text/html": [
       "<pre>| 1m 40s                              | 20.5             | 10182           |</pre>"
      ],
      "text/plain": [
       "| 1m 40s                              | 20.5             | 10182           |"
      ]
     },
     "metadata": {},
     "output_type": "display_data"
    },
    {
     "data": {
      "text/html": [
       "<pre>| 1m 41s                              | 20.5             | 10298           |</pre>"
      ],
      "text/plain": [
       "| 1m 41s                              | 20.5             | 10298           |"
      ]
     },
     "metadata": {},
     "output_type": "display_data"
    },
    {
     "data": {
      "text/html": [
       "<pre>| 1m 42s                              | 20.75            | 10397           |</pre>"
      ],
      "text/plain": [
       "| 1m 42s                              | 20.75            | 10397           |"
      ]
     },
     "metadata": {},
     "output_type": "display_data"
    },
    {
     "data": {
      "text/html": [
       "<pre>| 1m 43s                              | 21               | 10506           |</pre>"
      ],
      "text/plain": [
       "| 1m 43s                              | 21               | 10506           |"
      ]
     },
     "metadata": {},
     "output_type": "display_data"
    },
    {
     "data": {
      "text/html": [
       "<pre>| 1m 44s                              | 21.25            | 10618           |</pre>"
      ],
      "text/plain": [
       "| 1m 44s                              | 21.25            | 10618           |"
      ]
     },
     "metadata": {},
     "output_type": "display_data"
    },
    {
     "data": {
      "text/html": [
       "<pre>| 1m 45s                              | 21.5             | 10709           |</pre>"
      ],
      "text/plain": [
       "| 1m 45s                              | 21.5             | 10709           |"
      ]
     },
     "metadata": {},
     "output_type": "display_data"
    },
    {
     "data": {
      "text/html": [
       "<pre>| 1m 46s                              | 21.75            | 10805           |</pre>"
      ],
      "text/plain": [
       "| 1m 46s                              | 21.75            | 10805           |"
      ]
     },
     "metadata": {},
     "output_type": "display_data"
    },
    {
     "data": {
      "text/html": [
       "<pre>| 1m 47s                              | 21.75            | 10908           |</pre>"
      ],
      "text/plain": [
       "| 1m 47s                              | 21.75            | 10908           |"
      ]
     },
     "metadata": {},
     "output_type": "display_data"
    },
    {
     "data": {
      "text/html": [
       "<pre>| 1m 48s                              | 22               | 11018           |</pre>"
      ],
      "text/plain": [
       "| 1m 48s                              | 22               | 11018           |"
      ]
     },
     "metadata": {},
     "output_type": "display_data"
    },
    {
     "data": {
      "text/html": [
       "<pre>| 1m 49s                              | 22.25            | 11124           |</pre>"
      ],
      "text/plain": [
       "| 1m 49s                              | 22.25            | 11124           |"
      ]
     },
     "metadata": {},
     "output_type": "display_data"
    },
    {
     "data": {
      "text/html": [
       "<pre>| 1m 50s                              | 22.5             | 11213           |</pre>"
      ],
      "text/plain": [
       "| 1m 50s                              | 22.5             | 11213           |"
      ]
     },
     "metadata": {},
     "output_type": "display_data"
    },
    {
     "data": {
      "text/html": [
       "<pre>| 1m 51s                              | 22.75            | 11323           |</pre>"
      ],
      "text/plain": [
       "| 1m 51s                              | 22.75            | 11323           |"
      ]
     },
     "metadata": {},
     "output_type": "display_data"
    },
    {
     "data": {
      "text/html": [
       "<pre>| 1m 52s                              | 23               | 11438           |</pre>"
      ],
      "text/plain": [
       "| 1m 52s                              | 23               | 11438           |"
      ]
     },
     "metadata": {},
     "output_type": "display_data"
    },
    {
     "data": {
      "text/html": [
       "<pre>| 1m 53s                              | 23.25            | 11546           |</pre>"
      ],
      "text/plain": [
       "| 1m 53s                              | 23.25            | 11546           |"
      ]
     },
     "metadata": {},
     "output_type": "display_data"
    },
    {
     "data": {
      "text/html": [
       "<pre>| 1m 54s                              | 23.25            | 11650           |</pre>"
      ],
      "text/plain": [
       "| 1m 54s                              | 23.25            | 11650           |"
      ]
     },
     "metadata": {},
     "output_type": "display_data"
    },
    {
     "data": {
      "text/html": [
       "<pre>| 1m 55s                              | 23.5             | 11765           |</pre>"
      ],
      "text/plain": [
       "| 1m 55s                              | 23.5             | 11765           |"
      ]
     },
     "metadata": {},
     "output_type": "display_data"
    },
    {
     "data": {
      "text/html": [
       "<pre>| 1m 56s                              | 23.75            | 11862           |</pre>"
      ],
      "text/plain": [
       "| 1m 56s                              | 23.75            | 11862           |"
      ]
     },
     "metadata": {},
     "output_type": "display_data"
    },
    {
     "data": {
      "text/html": [
       "<pre>| 1m 57s                              | 24               | 11969           |</pre>"
      ],
      "text/plain": [
       "| 1m 57s                              | 24               | 11969           |"
      ]
     },
     "metadata": {},
     "output_type": "display_data"
    },
    {
     "data": {
      "text/html": [
       "<pre>| 1m 58s                              | 24.25            | 12063           |</pre>"
      ],
      "text/plain": [
       "| 1m 58s                              | 24.25            | 12063           |"
      ]
     },
     "metadata": {},
     "output_type": "display_data"
    },
    {
     "data": {
      "text/html": [
       "<pre>| 1m 59s                              | 24.5             | 12161           |</pre>"
      ],
      "text/plain": [
       "| 1m 59s                              | 24.5             | 12161           |"
      ]
     },
     "metadata": {},
     "output_type": "display_data"
    },
    {
     "data": {
      "text/html": [
       "<pre>| 2m 0s                               | 24.5             | 12275           |</pre>"
      ],
      "text/plain": [
       "| 2m 0s                               | 24.5             | 12275           |"
      ]
     },
     "metadata": {},
     "output_type": "display_data"
    },
    {
     "data": {
      "text/html": [
       "<pre>| 2m 1s                               | 24.75            | 12388           |</pre>"
      ],
      "text/plain": [
       "| 2m 1s                               | 24.75            | 12388           |"
      ]
     },
     "metadata": {},
     "output_type": "display_data"
    },
    {
     "data": {
      "text/html": [
       "<pre>| 2m 2s                               | 25               | 12478           |</pre>"
      ],
      "text/plain": [
       "| 2m 2s                               | 25               | 12478           |"
      ]
     },
     "metadata": {},
     "output_type": "display_data"
    },
    {
     "data": {
      "text/html": [
       "<pre>| 2m 3s                               | 25.25            | 12594           |</pre>"
      ],
      "text/plain": [
       "| 2m 3s                               | 25.25            | 12594           |"
      ]
     },
     "metadata": {},
     "output_type": "display_data"
    },
    {
     "data": {
      "text/html": [
       "<pre>| 2m 4s                               | 25.5             | 12706           |</pre>"
      ],
      "text/plain": [
       "| 2m 4s                               | 25.5             | 12706           |"
      ]
     },
     "metadata": {},
     "output_type": "display_data"
    },
    {
     "data": {
      "text/html": [
       "<pre>| 2m 5s                               | 25.75            | 12801           |</pre>"
      ],
      "text/plain": [
       "| 2m 5s                               | 25.75            | 12801           |"
      ]
     },
     "metadata": {},
     "output_type": "display_data"
    },
    {
     "data": {
      "text/html": [
       "<pre>| 2m 6s                               | 25.75            | 12892           |</pre>"
      ],
      "text/plain": [
       "| 2m 6s                               | 25.75            | 12892           |"
      ]
     },
     "metadata": {},
     "output_type": "display_data"
    },
    {
     "data": {
      "text/html": [
       "<pre>| 2m 7s                               | 26               | 12987           |</pre>"
      ],
      "text/plain": [
       "| 2m 7s                               | 26               | 12987           |"
      ]
     },
     "metadata": {},
     "output_type": "display_data"
    },
    {
     "data": {
      "text/html": [
       "<pre>| 2m 8s                               | 26.25            | 13091           |</pre>"
      ],
      "text/plain": [
       "| 2m 8s                               | 26.25            | 13091           |"
      ]
     },
     "metadata": {},
     "output_type": "display_data"
    },
    {
     "data": {
      "text/html": [
       "<pre>| 2m 9s                               | 26.5             | 13199           |</pre>"
      ],
      "text/plain": [
       "| 2m 9s                               | 26.5             | 13199           |"
      ]
     },
     "metadata": {},
     "output_type": "display_data"
    },
    {
     "data": {
      "text/html": [
       "<pre>| 2m 10s                              | 26.75            | 13302           |</pre>"
      ],
      "text/plain": [
       "| 2m 10s                              | 26.75            | 13302           |"
      ]
     },
     "metadata": {},
     "output_type": "display_data"
    },
    {
     "data": {
      "text/html": [
       "<pre>| 2m 11s                              | 27               | 13414           |</pre>"
      ],
      "text/plain": [
       "| 2m 11s                              | 27               | 13414           |"
      ]
     },
     "metadata": {},
     "output_type": "display_data"
    },
    {
     "data": {
      "text/html": [
       "<pre>| 2m 12s                              | 27.25            | 13527           |</pre>"
      ],
      "text/plain": [
       "| 2m 12s                              | 27.25            | 13527           |"
      ]
     },
     "metadata": {},
     "output_type": "display_data"
    },
    {
     "data": {
      "text/html": [
       "<pre>| 2m 13s                              | 27.25            | 13636           |</pre>"
      ],
      "text/plain": [
       "| 2m 13s                              | 27.25            | 13636           |"
      ]
     },
     "metadata": {},
     "output_type": "display_data"
    },
    {
     "data": {
      "text/html": [
       "<pre>| 2m 14s                              | 27.5             | 13742           |</pre>"
      ],
      "text/plain": [
       "| 2m 14s                              | 27.5             | 13742           |"
      ]
     },
     "metadata": {},
     "output_type": "display_data"
    },
    {
     "data": {
      "text/html": [
       "<pre>| 2m 15s                              | 27.75            | 13849           |</pre>"
      ],
      "text/plain": [
       "| 2m 15s                              | 27.75            | 13849           |"
      ]
     },
     "metadata": {},
     "output_type": "display_data"
    },
    {
     "data": {
      "text/html": [
       "<pre>| 2m 16s                              | 28               | 13962           |</pre>"
      ],
      "text/plain": [
       "| 2m 16s                              | 28               | 13962           |"
      ]
     },
     "metadata": {},
     "output_type": "display_data"
    },
    {
     "data": {
      "text/html": [
       "<pre>| 2m 17s                              | 28.25            | 14077           |</pre>"
      ],
      "text/plain": [
       "| 2m 17s                              | 28.25            | 14077           |"
      ]
     },
     "metadata": {},
     "output_type": "display_data"
    },
    {
     "data": {
      "text/html": [
       "<pre>| 2m 18s                              | 28.5             | 14191           |</pre>"
      ],
      "text/plain": [
       "| 2m 18s                              | 28.5             | 14191           |"
      ]
     },
     "metadata": {},
     "output_type": "display_data"
    },
    {
     "data": {
      "text/html": [
       "<pre>| 2m 19s                              | 28.75            | 14287           |</pre>"
      ],
      "text/plain": [
       "| 2m 19s                              | 28.75            | 14287           |"
      ]
     },
     "metadata": {},
     "output_type": "display_data"
    },
    {
     "data": {
      "text/html": [
       "<pre>| 2m 20s                              | 28.75            | 14391           |</pre>"
      ],
      "text/plain": [
       "| 2m 20s                              | 28.75            | 14391           |"
      ]
     },
     "metadata": {},
     "output_type": "display_data"
    },
    {
     "data": {
      "text/html": [
       "<pre>| 2m 21s                              | 29               | 14489           |</pre>"
      ],
      "text/plain": [
       "| 2m 21s                              | 29               | 14489           |"
      ]
     },
     "metadata": {},
     "output_type": "display_data"
    },
    {
     "data": {
      "text/html": [
       "<pre>| 2m 22s                              | 29.25            | 14600           |</pre>"
      ],
      "text/plain": [
       "| 2m 22s                              | 29.25            | 14600           |"
      ]
     },
     "metadata": {},
     "output_type": "display_data"
    },
    {
     "data": {
      "text/html": [
       "<pre>| 2m 23s                              | 29.5             | 14721           |</pre>"
      ],
      "text/plain": [
       "| 2m 23s                              | 29.5             | 14721           |"
      ]
     },
     "metadata": {},
     "output_type": "display_data"
    },
    {
     "data": {
      "text/html": [
       "<pre>| 2m 24s                              | 29.75            | 14828           |</pre>"
      ],
      "text/plain": [
       "| 2m 24s                              | 29.75            | 14828           |"
      ]
     },
     "metadata": {},
     "output_type": "display_data"
    },
    {
     "data": {
      "text/html": [
       "<pre>| 2m 25s                              | 30               | 14947           |</pre>"
      ],
      "text/plain": [
       "| 2m 25s                              | 30               | 14947           |"
      ]
     },
     "metadata": {},
     "output_type": "display_data"
    },
    {
     "data": {
      "text/html": [
       "<pre>| 2m 26s                              | 30.25            | 15053           |</pre>"
      ],
      "text/plain": [
       "| 2m 26s                              | 30.25            | 15053           |"
      ]
     },
     "metadata": {},
     "output_type": "display_data"
    },
    {
     "data": {
      "text/html": [
       "<pre>| 2m 27s                              | 30.5             | 15158           |</pre>"
      ],
      "text/plain": [
       "| 2m 27s                              | 30.5             | 15158           |"
      ]
     },
     "metadata": {},
     "output_type": "display_data"
    },
    {
     "data": {
      "text/html": [
       "<pre>| 2m 28s                              | 30.75            | 15271           |</pre>"
      ],
      "text/plain": [
       "| 2m 28s                              | 30.75            | 15271           |"
      ]
     },
     "metadata": {},
     "output_type": "display_data"
    },
    {
     "data": {
      "text/html": [
       "<pre>| 2m 29s                              | 30.75            | 15385           |</pre>"
      ],
      "text/plain": [
       "| 2m 29s                              | 30.75            | 15385           |"
      ]
     },
     "metadata": {},
     "output_type": "display_data"
    },
    {
     "data": {
      "text/html": [
       "<pre>| 2m 30s                              | 31               | 15472           |</pre>"
      ],
      "text/plain": [
       "| 2m 30s                              | 31               | 15472           |"
      ]
     },
     "metadata": {},
     "output_type": "display_data"
    },
    {
     "data": {
      "text/html": [
       "<pre>| 2m 31s                              | 31.25            | 15585           |</pre>"
      ],
      "text/plain": [
       "| 2m 31s                              | 31.25            | 15585           |"
      ]
     },
     "metadata": {},
     "output_type": "display_data"
    },
    {
     "data": {
      "text/html": [
       "<pre>| 2m 32s                              | 31.5             | 15662           |</pre>"
      ],
      "text/plain": [
       "| 2m 32s                              | 31.5             | 15662           |"
      ]
     },
     "metadata": {},
     "output_type": "display_data"
    },
    {
     "data": {
      "text/html": [
       "<pre>| 2m 33s                              | 31.75            | 15761           |</pre>"
      ],
      "text/plain": [
       "| 2m 33s                              | 31.75            | 15761           |"
      ]
     },
     "metadata": {},
     "output_type": "display_data"
    },
    {
     "data": {
      "text/html": [
       "<pre>| 2m 34s                              | 31.75            | 15846           |</pre>"
      ],
      "text/plain": [
       "| 2m 34s                              | 31.75            | 15846           |"
      ]
     },
     "metadata": {},
     "output_type": "display_data"
    },
    {
     "data": {
      "text/html": [
       "<pre>| 2m 35s                              | 32               | 15945           |</pre>"
      ],
      "text/plain": [
       "| 2m 35s                              | 32               | 15945           |"
      ]
     },
     "metadata": {},
     "output_type": "display_data"
    },
    {
     "data": {
      "text/html": [
       "<pre>| 2m 36s                              | 32.25            | 16052           |</pre>"
      ],
      "text/plain": [
       "| 2m 36s                              | 32.25            | 16052           |"
      ]
     },
     "metadata": {},
     "output_type": "display_data"
    },
    {
     "data": {
      "text/html": [
       "<pre>| 2m 37s                              | 32.5             | 16153           |</pre>"
      ],
      "text/plain": [
       "| 2m 37s                              | 32.5             | 16153           |"
      ]
     },
     "metadata": {},
     "output_type": "display_data"
    },
    {
     "data": {
      "text/html": [
       "<pre>| 2m 38s                              | 32.75            | 16262           |</pre>"
      ],
      "text/plain": [
       "| 2m 38s                              | 32.75            | 16262           |"
      ]
     },
     "metadata": {},
     "output_type": "display_data"
    },
    {
     "data": {
      "text/html": [
       "<pre>| 2m 39s                              | 32.75            | 16376           |</pre>"
      ],
      "text/plain": [
       "| 2m 39s                              | 32.75            | 16376           |"
      ]
     },
     "metadata": {},
     "output_type": "display_data"
    },
    {
     "data": {
      "text/html": [
       "<pre>| 2m 40s                              | 33               | 16468           |</pre>"
      ],
      "text/plain": [
       "| 2m 40s                              | 33               | 16468           |"
      ]
     },
     "metadata": {},
     "output_type": "display_data"
    },
    {
     "data": {
      "text/html": [
       "<pre>| 2m 41s                              | 33.25            | 16576           |</pre>"
      ],
      "text/plain": [
       "| 2m 41s                              | 33.25            | 16576           |"
      ]
     },
     "metadata": {},
     "output_type": "display_data"
    },
    {
     "data": {
      "text/html": [
       "<pre>| 2m 42s                              | 33.5             | 16678           |</pre>"
      ],
      "text/plain": [
       "| 2m 42s                              | 33.5             | 16678           |"
      ]
     },
     "metadata": {},
     "output_type": "display_data"
    },
    {
     "data": {
      "text/html": [
       "<pre>| 2m 43s                              | 33.75            | 16775           |</pre>"
      ],
      "text/plain": [
       "| 2m 43s                              | 33.75            | 16775           |"
      ]
     },
     "metadata": {},
     "output_type": "display_data"
    },
    {
     "data": {
      "text/html": [
       "<pre>| 2m 44s                              | 33.75            | 16871           |</pre>"
      ],
      "text/plain": [
       "| 2m 44s                              | 33.75            | 16871           |"
      ]
     },
     "metadata": {},
     "output_type": "display_data"
    },
    {
     "data": {
      "text/html": [
       "<pre>| 2m 45s                              | 34               | 16943           |</pre>"
      ],
      "text/plain": [
       "| 2m 45s                              | 34               | 16943           |"
      ]
     },
     "metadata": {},
     "output_type": "display_data"
    },
    {
     "data": {
      "text/html": [
       "<pre>| 2m 46s                              | 34.25            | 17050           |</pre>"
      ],
      "text/plain": [
       "| 2m 46s                              | 34.25            | 17050           |"
      ]
     },
     "metadata": {},
     "output_type": "display_data"
    },
    {
     "data": {
      "text/html": [
       "<pre>| 2m 47s                              | 34.5             | 17154           |</pre>"
      ],
      "text/plain": [
       "| 2m 47s                              | 34.5             | 17154           |"
      ]
     },
     "metadata": {},
     "output_type": "display_data"
    },
    {
     "data": {
      "text/html": [
       "<pre>| 2m 48s                              | 34.75            | 17259           |</pre>"
      ],
      "text/plain": [
       "| 2m 48s                              | 34.75            | 17259           |"
      ]
     },
     "metadata": {},
     "output_type": "display_data"
    },
    {
     "data": {
      "text/html": [
       "<pre>| 2m 49s                              | 34.75            | 17365           |</pre>"
      ],
      "text/plain": [
       "| 2m 49s                              | 34.75            | 17365           |"
      ]
     },
     "metadata": {},
     "output_type": "display_data"
    },
    {
     "data": {
      "text/html": [
       "<pre>| 2m 50s                              | 35               | 17481           |</pre>"
      ],
      "text/plain": [
       "| 2m 50s                              | 35               | 17481           |"
      ]
     },
     "metadata": {},
     "output_type": "display_data"
    },
    {
     "data": {
      "text/html": [
       "<pre>| 2m 51s                              | 35.25            | 17583           |</pre>"
      ],
      "text/plain": [
       "| 2m 51s                              | 35.25            | 17583           |"
      ]
     },
     "metadata": {},
     "output_type": "display_data"
    },
    {
     "data": {
      "text/html": [
       "<pre>| 2m 52s                              | 35.5             | 17688           |</pre>"
      ],
      "text/plain": [
       "| 2m 52s                              | 35.5             | 17688           |"
      ]
     },
     "metadata": {},
     "output_type": "display_data"
    },
    {
     "data": {
      "text/html": [
       "<pre>| 2m 53s                              | 35.75            | 17787           |</pre>"
      ],
      "text/plain": [
       "| 2m 53s                              | 35.75            | 17787           |"
      ]
     },
     "metadata": {},
     "output_type": "display_data"
    },
    {
     "data": {
      "text/html": [
       "<pre>| 2m 54s                              | 36               | 17870           |</pre>"
      ],
      "text/plain": [
       "| 2m 54s                              | 36               | 17870           |"
      ]
     },
     "metadata": {},
     "output_type": "display_data"
    },
    {
     "data": {
      "text/html": [
       "<pre>| 2m 55s                              | 36               | 17957           |</pre>"
      ],
      "text/plain": [
       "| 2m 55s                              | 36               | 17957           |"
      ]
     },
     "metadata": {},
     "output_type": "display_data"
    },
    {
     "data": {
      "text/html": [
       "<pre>| 2m 56s                              | 36.25            | 18050           |</pre>"
      ],
      "text/plain": [
       "| 2m 56s                              | 36.25            | 18050           |"
      ]
     },
     "metadata": {},
     "output_type": "display_data"
    },
    {
     "data": {
      "text/html": [
       "<pre>| 2m 57s                              | 36.5             | 18153           |</pre>"
      ],
      "text/plain": [
       "| 2m 57s                              | 36.5             | 18153           |"
      ]
     },
     "metadata": {},
     "output_type": "display_data"
    },
    {
     "data": {
      "text/html": [
       "<pre>| 2m 58s                              | 36.75            | 18263           |</pre>"
      ],
      "text/plain": [
       "| 2m 58s                              | 36.75            | 18263           |"
      ]
     },
     "metadata": {},
     "output_type": "display_data"
    },
    {
     "data": {
      "text/html": [
       "<pre>| 2m 59s                              | 37               | 18369           |</pre>"
      ],
      "text/plain": [
       "| 2m 59s                              | 37               | 18369           |"
      ]
     },
     "metadata": {},
     "output_type": "display_data"
    },
    {
     "data": {
      "text/html": [
       "<pre>| 3m 0s                               | 37               | 18485           |</pre>"
      ],
      "text/plain": [
       "| 3m 0s                               | 37               | 18485           |"
      ]
     },
     "metadata": {},
     "output_type": "display_data"
    },
    {
     "data": {
      "text/html": [
       "<pre>| 3m 1s                               | 37.25            | 18585           |</pre>"
      ],
      "text/plain": [
       "| 3m 1s                               | 37.25            | 18585           |"
      ]
     },
     "metadata": {},
     "output_type": "display_data"
    },
    {
     "data": {
      "text/html": [
       "<pre>| 3m 2s                               | 37.5             | 18674           |</pre>"
      ],
      "text/plain": [
       "| 3m 2s                               | 37.5             | 18674           |"
      ]
     },
     "metadata": {},
     "output_type": "display_data"
    },
    {
     "data": {
      "text/html": [
       "<pre>| 3m 3s                               | 37.75            | 18773           |</pre>"
      ],
      "text/plain": [
       "| 3m 3s                               | 37.75            | 18773           |"
      ]
     },
     "metadata": {},
     "output_type": "display_data"
    },
    {
     "data": {
      "text/html": [
       "<pre>| 3m 4s                               | 38               | 18879           |</pre>"
      ],
      "text/plain": [
       "| 3m 4s                               | 38               | 18879           |"
      ]
     },
     "metadata": {},
     "output_type": "display_data"
    },
    {
     "data": {
      "text/html": [
       "<pre>| 3m 5s                               | 38               | 18956           |</pre>"
      ],
      "text/plain": [
       "| 3m 5s                               | 38               | 18956           |"
      ]
     },
     "metadata": {},
     "output_type": "display_data"
    },
    {
     "data": {
      "text/html": [
       "<pre>| 3m 6s                               | 38.25            | 19060           |</pre>"
      ],
      "text/plain": [
       "| 3m 6s                               | 38.25            | 19060           |"
      ]
     },
     "metadata": {},
     "output_type": "display_data"
    },
    {
     "data": {
      "text/html": [
       "<pre>| 3m 7s                               | 38.5             | 19148           |</pre>"
      ],
      "text/plain": [
       "| 3m 7s                               | 38.5             | 19148           |"
      ]
     },
     "metadata": {},
     "output_type": "display_data"
    },
    {
     "data": {
      "text/html": [
       "<pre>| 3m 8s                               | 38.75            | 19257           |</pre>"
      ],
      "text/plain": [
       "| 3m 8s                               | 38.75            | 19257           |"
      ]
     },
     "metadata": {},
     "output_type": "display_data"
    },
    {
     "data": {
      "text/html": [
       "<pre>| 3m 9s                               | 39               | 19378           |</pre>"
      ],
      "text/plain": [
       "| 3m 9s                               | 39               | 19378           |"
      ]
     },
     "metadata": {},
     "output_type": "display_data"
    },
    {
     "data": {
      "text/html": [
       "<pre>| 3m 10s                              | 39.25            | 19485           |</pre>"
      ],
      "text/plain": [
       "| 3m 10s                              | 39.25            | 19485           |"
      ]
     },
     "metadata": {},
     "output_type": "display_data"
    },
    {
     "data": {
      "text/html": [
       "<pre>| 3m 11s                              | 39.25            | 19590           |</pre>"
      ],
      "text/plain": [
       "| 3m 11s                              | 39.25            | 19590           |"
      ]
     },
     "metadata": {},
     "output_type": "display_data"
    },
    {
     "data": {
      "text/html": [
       "<pre>| 3m 12s                              | 39.5             | 19704           |</pre>"
      ],
      "text/plain": [
       "| 3m 12s                              | 39.5             | 19704           |"
      ]
     },
     "metadata": {},
     "output_type": "display_data"
    },
    {
     "data": {
      "text/html": [
       "<pre>| 3m 13s                              | 39.75            | 19810           |</pre>"
      ],
      "text/plain": [
       "| 3m 13s                              | 39.75            | 19810           |"
      ]
     },
     "metadata": {},
     "output_type": "display_data"
    },
    {
     "data": {
      "text/html": [
       "<pre>| 3m 14s                              | 40               | 19922           |</pre>"
      ],
      "text/plain": [
       "| 3m 14s                              | 40               | 19922           |"
      ]
     },
     "metadata": {},
     "output_type": "display_data"
    },
    {
     "data": {
      "text/html": [
       "<pre>| 3m 15s                              | 40.25            | 20031           |</pre>"
      ],
      "text/plain": [
       "| 3m 15s                              | 40.25            | 20031           |"
      ]
     },
     "metadata": {},
     "output_type": "display_data"
    },
    {
     "data": {
      "text/html": [
       "<pre>| 3m 16s                              | 40.5             | 20149           |</pre>"
      ],
      "text/plain": [
       "| 3m 16s                              | 40.5             | 20149           |"
      ]
     },
     "metadata": {},
     "output_type": "display_data"
    },
    {
     "data": {
      "text/html": [
       "<pre>| 3m 17s                              | 40.75            | 20247           |</pre>"
      ],
      "text/plain": [
       "| 3m 17s                              | 40.75            | 20247           |"
      ]
     },
     "metadata": {},
     "output_type": "display_data"
    },
    {
     "data": {
      "text/html": [
       "<pre>| 3m 18s                              | 40.75            | 20337           |</pre>"
      ],
      "text/plain": [
       "| 3m 18s                              | 40.75            | 20337           |"
      ]
     },
     "metadata": {},
     "output_type": "display_data"
    },
    {
     "data": {
      "text/html": [
       "<pre>| 3m 19s                              | 41               | 20443           |</pre>"
      ],
      "text/plain": [
       "| 3m 19s                              | 41               | 20443           |"
      ]
     },
     "metadata": {},
     "output_type": "display_data"
    },
    {
     "data": {
      "text/html": [
       "<pre>| 3m 20s                              | 41.25            | 20549           |</pre>"
      ],
      "text/plain": [
       "| 3m 20s                              | 41.25            | 20549           |"
      ]
     },
     "metadata": {},
     "output_type": "display_data"
    },
    {
     "data": {
      "text/html": [
       "<pre>| 3m 21s                              | 41.5             | 20638           |</pre>"
      ],
      "text/plain": [
       "| 3m 21s                              | 41.5             | 20638           |"
      ]
     },
     "metadata": {},
     "output_type": "display_data"
    },
    {
     "data": {
      "text/html": [
       "<pre>| 3m 22s                              | 41.75            | 20742           |</pre>"
      ],
      "text/plain": [
       "| 3m 22s                              | 41.75            | 20742           |"
      ]
     },
     "metadata": {},
     "output_type": "display_data"
    },
    {
     "data": {
      "text/html": [
       "<pre>| 3m 23s                              | 41.75            | 20843           |</pre>"
      ],
      "text/plain": [
       "| 3m 23s                              | 41.75            | 20843           |"
      ]
     },
     "metadata": {},
     "output_type": "display_data"
    },
    {
     "data": {
      "text/html": [
       "<pre>| 3m 24s                              | 42               | 20959           |</pre>"
      ],
      "text/plain": [
       "| 3m 24s                              | 42               | 20959           |"
      ]
     },
     "metadata": {},
     "output_type": "display_data"
    },
    {
     "data": {
      "text/html": [
       "<pre>| 3m 25s                              | 42.25            | 21069           |</pre>"
      ],
      "text/plain": [
       "| 3m 25s                              | 42.25            | 21069           |"
      ]
     },
     "metadata": {},
     "output_type": "display_data"
    },
    {
     "data": {
      "text/html": [
       "<pre>| 3m 26s                              | 42.5             | 21171           |</pre>"
      ],
      "text/plain": [
       "| 3m 26s                              | 42.5             | 21171           |"
      ]
     },
     "metadata": {},
     "output_type": "display_data"
    },
    {
     "data": {
      "text/html": [
       "<pre>| 3m 27s                              | 42.75            | 21276           |</pre>"
      ],
      "text/plain": [
       "| 3m 27s                              | 42.75            | 21276           |"
      ]
     },
     "metadata": {},
     "output_type": "display_data"
    },
    {
     "data": {
      "text/html": [
       "<pre>| 3m 28s                              | 43               | 21383           |</pre>"
      ],
      "text/plain": [
       "| 3m 28s                              | 43               | 21383           |"
      ]
     },
     "metadata": {},
     "output_type": "display_data"
    },
    {
     "data": {
      "text/html": [
       "<pre>| 3m 29s                              | 43               | 21458           |</pre>"
      ],
      "text/plain": [
       "| 3m 29s                              | 43               | 21458           |"
      ]
     },
     "metadata": {},
     "output_type": "display_data"
    },
    {
     "data": {
      "text/html": [
       "<pre>| 3m 30s                              | 43.25            | 21551           |</pre>"
      ],
      "text/plain": [
       "| 3m 30s                              | 43.25            | 21551           |"
      ]
     },
     "metadata": {},
     "output_type": "display_data"
    },
    {
     "data": {
      "text/html": [
       "<pre>| 3m 31s                              | 43.5             | 21668           |</pre>"
      ],
      "text/plain": [
       "| 3m 31s                              | 43.5             | 21668           |"
      ]
     },
     "metadata": {},
     "output_type": "display_data"
    },
    {
     "data": {
      "text/html": [
       "<pre>| 3m 32s                              | 43.75            | 21748           |</pre>"
      ],
      "text/plain": [
       "| 3m 32s                              | 43.75            | 21748           |"
      ]
     },
     "metadata": {},
     "output_type": "display_data"
    },
    {
     "data": {
      "text/html": [
       "<pre>| 3m 33s                              | 44               | 21852           |</pre>"
      ],
      "text/plain": [
       "| 3m 33s                              | 44               | 21852           |"
      ]
     },
     "metadata": {},
     "output_type": "display_data"
    },
    {
     "data": {
      "text/html": [
       "<pre>| 3m 34s                              | 44.25            | 21974           |</pre>"
      ],
      "text/plain": [
       "| 3m 34s                              | 44.25            | 21974           |"
      ]
     },
     "metadata": {},
     "output_type": "display_data"
    },
    {
     "data": {
      "text/html": [
       "<pre>| 3m 35s                              | 44.25            | 22084           |</pre>"
      ],
      "text/plain": [
       "| 3m 35s                              | 44.25            | 22084           |"
      ]
     },
     "metadata": {},
     "output_type": "display_data"
    },
    {
     "data": {
      "text/html": [
       "<pre>| 3m 36s                              | 44.5             | 22198           |</pre>"
      ],
      "text/plain": [
       "| 3m 36s                              | 44.5             | 22198           |"
      ]
     },
     "metadata": {},
     "output_type": "display_data"
    },
    {
     "data": {
      "text/html": [
       "<pre>| 3m 37s                              | 44.75            | 22302           |</pre>"
      ],
      "text/plain": [
       "| 3m 37s                              | 44.75            | 22302           |"
      ]
     },
     "metadata": {},
     "output_type": "display_data"
    },
    {
     "data": {
      "text/html": [
       "<pre>| 3m 38s                              | 45               | 22425           |</pre>"
      ],
      "text/plain": [
       "| 3m 38s                              | 45               | 22425           |"
      ]
     },
     "metadata": {},
     "output_type": "display_data"
    },
    {
     "data": {
      "text/html": [
       "<pre>| 3m 39s                              | 45.25            | 22538           |</pre>"
      ],
      "text/plain": [
       "| 3m 39s                              | 45.25            | 22538           |"
      ]
     },
     "metadata": {},
     "output_type": "display_data"
    },
    {
     "data": {
      "text/html": [
       "<pre>| 3m 40s                              | 45.5             | 22628           |</pre>"
      ],
      "text/plain": [
       "| 3m 40s                              | 45.5             | 22628           |"
      ]
     },
     "metadata": {},
     "output_type": "display_data"
    },
    {
     "data": {
      "text/html": [
       "<pre>| 3m 41s                              | 45.75            | 22714           |</pre>"
      ],
      "text/plain": [
       "| 3m 41s                              | 45.75            | 22714           |"
      ]
     },
     "metadata": {},
     "output_type": "display_data"
    },
    {
     "data": {
      "text/html": [
       "<pre>| 3m 42s                              | 45.75            | 22809           |</pre>"
      ],
      "text/plain": [
       "| 3m 42s                              | 45.75            | 22809           |"
      ]
     },
     "metadata": {},
     "output_type": "display_data"
    },
    {
     "data": {
      "text/html": [
       "<pre>| 3m 43s                              | 46               | 22894           |</pre>"
      ],
      "text/plain": [
       "| 3m 43s                              | 46               | 22894           |"
      ]
     },
     "metadata": {},
     "output_type": "display_data"
    },
    {
     "data": {
      "text/html": [
       "<pre>| 3m 44s                              | 46.25            | 22980           |</pre>"
      ],
      "text/plain": [
       "| 3m 44s                              | 46.25            | 22980           |"
      ]
     },
     "metadata": {},
     "output_type": "display_data"
    },
    {
     "data": {
      "text/html": [
       "<pre>| 3m 45s                              | 46.25            | 23071           |</pre>"
      ],
      "text/plain": [
       "| 3m 45s                              | 46.25            | 23071           |"
      ]
     },
     "metadata": {},
     "output_type": "display_data"
    },
    {
     "data": {
      "text/html": [
       "<pre>| 3m 46s                              | 46.5             | 23160           |</pre>"
      ],
      "text/plain": [
       "| 3m 46s                              | 46.5             | 23160           |"
      ]
     },
     "metadata": {},
     "output_type": "display_data"
    },
    {
     "data": {
      "text/html": [
       "<pre>| 3m 47s                              | 46.75            | 23247           |</pre>"
      ],
      "text/plain": [
       "| 3m 47s                              | 46.75            | 23247           |"
      ]
     },
     "metadata": {},
     "output_type": "display_data"
    },
    {
     "data": {
      "text/html": [
       "<pre>| 3m 48s                              | 46.75            | 23328           |</pre>"
      ],
      "text/plain": [
       "| 3m 48s                              | 46.75            | 23328           |"
      ]
     },
     "metadata": {},
     "output_type": "display_data"
    },
    {
     "data": {
      "text/html": [
       "<pre>| 3m 49s                              | 47               | 23418           |</pre>"
      ],
      "text/plain": [
       "| 3m 49s                              | 47               | 23418           |"
      ]
     },
     "metadata": {},
     "output_type": "display_data"
    },
    {
     "data": {
      "text/html": [
       "<pre>| 3m 50s                              | 47.25            | 23520           |</pre>"
      ],
      "text/plain": [
       "| 3m 50s                              | 47.25            | 23520           |"
      ]
     },
     "metadata": {},
     "output_type": "display_data"
    },
    {
     "data": {
      "text/html": [
       "<pre>| 3m 51s                              | 47.5             | 23605           |</pre>"
      ],
      "text/plain": [
       "| 3m 51s                              | 47.5             | 23605           |"
      ]
     },
     "metadata": {},
     "output_type": "display_data"
    },
    {
     "data": {
      "text/html": [
       "<pre>| 3m 52s                              | 47.75            | 23703           |</pre>"
      ],
      "text/plain": [
       "| 3m 52s                              | 47.75            | 23703           |"
      ]
     },
     "metadata": {},
     "output_type": "display_data"
    },
    {
     "data": {
      "text/html": [
       "<pre>| 3m 53s                              | 47.75            | 23802           |</pre>"
      ],
      "text/plain": [
       "| 3m 53s                              | 47.75            | 23802           |"
      ]
     },
     "metadata": {},
     "output_type": "display_data"
    },
    {
     "data": {
      "text/html": [
       "<pre>| 3m 54s                              | 48               | 23889           |</pre>"
      ],
      "text/plain": [
       "| 3m 54s                              | 48               | 23889           |"
      ]
     },
     "metadata": {},
     "output_type": "display_data"
    },
    {
     "data": {
      "text/html": [
       "<pre>| 3m 55s                              | 48.25            | 23978           |</pre>"
      ],
      "text/plain": [
       "| 3m 55s                              | 48.25            | 23978           |"
      ]
     },
     "metadata": {},
     "output_type": "display_data"
    },
    {
     "data": {
      "text/html": [
       "<pre>| 3m 56s                              | 48.25            | 24072           |</pre>"
      ],
      "text/plain": [
       "| 3m 56s                              | 48.25            | 24072           |"
      ]
     },
     "metadata": {},
     "output_type": "display_data"
    },
    {
     "data": {
      "text/html": [
       "<pre>| 3m 57s                              | 48.5             | 24174           |</pre>"
      ],
      "text/plain": [
       "| 3m 57s                              | 48.5             | 24174           |"
      ]
     },
     "metadata": {},
     "output_type": "display_data"
    },
    {
     "data": {
      "text/html": [
       "<pre>| 3m 58s                              | 48.75            | 24270           |</pre>"
      ],
      "text/plain": [
       "| 3m 58s                              | 48.75            | 24270           |"
      ]
     },
     "metadata": {},
     "output_type": "display_data"
    },
    {
     "data": {
      "text/html": [
       "<pre>| 3m 59s                              | 49               | 24378           |</pre>"
      ],
      "text/plain": [
       "| 3m 59s                              | 49               | 24378           |"
      ]
     },
     "metadata": {},
     "output_type": "display_data"
    },
    {
     "data": {
      "text/html": [
       "<pre>| 4m 0s                               | 49.25            | 24502           |</pre>"
      ],
      "text/plain": [
       "| 4m 0s                               | 49.25            | 24502           |"
      ]
     },
     "metadata": {},
     "output_type": "display_data"
    },
    {
     "data": {
      "text/html": [
       "<pre>| 4m 1s                               | 49.5             | 24651           |</pre>"
      ],
      "text/plain": [
       "| 4m 1s                               | 49.5             | 24651           |"
      ]
     },
     "metadata": {},
     "output_type": "display_data"
    },
    {
     "data": {
      "text/html": [
       "<pre>| 4m 13s                              | 49.75            | 24816           |</pre>"
      ],
      "text/plain": [
       "| 4m 13s                              | 49.75            | 24816           |"
      ]
     },
     "metadata": {},
     "output_type": "display_data"
    },
    {
     "data": {
      "text/html": [
       "<pre>| 4m 14s                              | 100              | 49636           |</pre>"
      ],
      "text/plain": [
       "| 4m 14s                              | 100              | 49636           |"
      ]
     },
     "metadata": {},
     "output_type": "display_data"
    },
    {
     "data": {
      "text/html": [
       "<pre>+-------------------------------------+------------------+-----------------+</pre>"
      ],
      "text/plain": [
       "+-------------------------------------+------------------+-----------------+"
      ]
     },
     "metadata": {},
     "output_type": "display_data"
    },
    {
     "data": {
      "text/html": [
       "<pre>Finalizing lookup tables.</pre>"
      ],
      "text/plain": [
       "Finalizing lookup tables."
      ]
     },
     "metadata": {},
     "output_type": "display_data"
    },
    {
     "data": {
      "text/html": [
       "<pre>Generating candidate set for working with new users.</pre>"
      ],
      "text/plain": [
       "Generating candidate set for working with new users."
      ]
     },
     "metadata": {},
     "output_type": "display_data"
    },
    {
     "data": {
      "text/html": [
       "<pre>Finished training in 255.92s</pre>"
      ],
      "text/plain": [
       "Finished training in 255.92s"
      ]
     },
     "metadata": {},
     "output_type": "display_data"
    },
    {
     "data": {
      "text/html": [
       "<pre>Recsys training: model = popularity</pre>"
      ],
      "text/plain": [
       "Recsys training: model = popularity"
      ]
     },
     "metadata": {},
     "output_type": "display_data"
    },
    {
     "data": {
      "text/html": [
       "<pre>Preparing data set.</pre>"
      ],
      "text/plain": [
       "Preparing data set."
      ]
     },
     "metadata": {},
     "output_type": "display_data"
    },
    {
     "data": {
      "text/html": [
       "<pre>    Data has 11091223 observations with 206125 users and 49636 items.</pre>"
      ],
      "text/plain": [
       "    Data has 11091223 observations with 206125 users and 49636 items."
      ]
     },
     "metadata": {},
     "output_type": "display_data"
    },
    {
     "data": {
      "text/html": [
       "<pre>    Data prepared in: 11.004s</pre>"
      ],
      "text/plain": [
       "    Data prepared in: 11.004s"
      ]
     },
     "metadata": {},
     "output_type": "display_data"
    },
    {
     "data": {
      "text/html": [
       "<pre>11091223 observations to process; with 49636 unique items.</pre>"
      ],
      "text/plain": [
       "11091223 observations to process; with 49636 unique items."
      ]
     },
     "metadata": {},
     "output_type": "display_data"
    },
    {
     "data": {
      "text/html": [
       "<pre>Recsys training: model = factorization_recommender</pre>"
      ],
      "text/plain": [
       "Recsys training: model = factorization_recommender"
      ]
     },
     "metadata": {},
     "output_type": "display_data"
    },
    {
     "data": {
      "text/html": [
       "<pre>Preparing data set.</pre>"
      ],
      "text/plain": [
       "Preparing data set."
      ]
     },
     "metadata": {},
     "output_type": "display_data"
    },
    {
     "data": {
      "text/html": [
       "<pre>    Data has 11091223 observations with 206125 users and 49636 items.</pre>"
      ],
      "text/plain": [
       "    Data has 11091223 observations with 206125 users and 49636 items."
      ]
     },
     "metadata": {},
     "output_type": "display_data"
    },
    {
     "data": {
      "text/html": [
       "<pre>    Data prepared in: 11.4607s</pre>"
      ],
      "text/plain": [
       "    Data prepared in: 11.4607s"
      ]
     },
     "metadata": {},
     "output_type": "display_data"
    },
    {
     "data": {
      "text/html": [
       "<pre>Training factorization_recommender for recommendations.</pre>"
      ],
      "text/plain": [
       "Training factorization_recommender for recommendations."
      ]
     },
     "metadata": {},
     "output_type": "display_data"
    },
    {
     "data": {
      "text/html": [
       "<pre>+--------------------------------+--------------------------------------------------+----------+</pre>"
      ],
      "text/plain": [
       "+--------------------------------+--------------------------------------------------+----------+"
      ]
     },
     "metadata": {},
     "output_type": "display_data"
    },
    {
     "data": {
      "text/html": [
       "<pre>| Parameter                      | Description                                      | Value    |</pre>"
      ],
      "text/plain": [
       "| Parameter                      | Description                                      | Value    |"
      ]
     },
     "metadata": {},
     "output_type": "display_data"
    },
    {
     "data": {
      "text/html": [
       "<pre>+--------------------------------+--------------------------------------------------+----------+</pre>"
      ],
      "text/plain": [
       "+--------------------------------+--------------------------------------------------+----------+"
      ]
     },
     "metadata": {},
     "output_type": "display_data"
    },
    {
     "data": {
      "text/html": [
       "<pre>| num_factors                    | Factor Dimension                                 | 8        |</pre>"
      ],
      "text/plain": [
       "| num_factors                    | Factor Dimension                                 | 8        |"
      ]
     },
     "metadata": {},
     "output_type": "display_data"
    },
    {
     "data": {
      "text/html": [
       "<pre>| regularization                 | L2 Regularization on Factors                     | 1e-08    |</pre>"
      ],
      "text/plain": [
       "| regularization                 | L2 Regularization on Factors                     | 1e-08    |"
      ]
     },
     "metadata": {},
     "output_type": "display_data"
    },
    {
     "data": {
      "text/html": [
       "<pre>| solver                         | Solver used for training                         | sgd      |</pre>"
      ],
      "text/plain": [
       "| solver                         | Solver used for training                         | sgd      |"
      ]
     },
     "metadata": {},
     "output_type": "display_data"
    },
    {
     "data": {
      "text/html": [
       "<pre>| linear_regularization          | L2 Regularization on Linear Coefficients         | 1e-10    |</pre>"
      ],
      "text/plain": [
       "| linear_regularization          | L2 Regularization on Linear Coefficients         | 1e-10    |"
      ]
     },
     "metadata": {},
     "output_type": "display_data"
    },
    {
     "data": {
      "text/html": [
       "<pre>| max_iterations                 | Maximum Number of Iterations                     | 50       |</pre>"
      ],
      "text/plain": [
       "| max_iterations                 | Maximum Number of Iterations                     | 50       |"
      ]
     },
     "metadata": {},
     "output_type": "display_data"
    },
    {
     "data": {
      "text/html": [
       "<pre>+--------------------------------+--------------------------------------------------+----------+</pre>"
      ],
      "text/plain": [
       "+--------------------------------+--------------------------------------------------+----------+"
      ]
     },
     "metadata": {},
     "output_type": "display_data"
    },
    {
     "data": {
      "text/html": [
       "<pre>  Optimizing model using SGD; tuning step size.</pre>"
      ],
      "text/plain": [
       "  Optimizing model using SGD; tuning step size."
      ]
     },
     "metadata": {},
     "output_type": "display_data"
    },
    {
     "data": {
      "text/html": [
       "<pre>  Using 1386402 / 11091223 points for tuning the step size.</pre>"
      ],
      "text/plain": [
       "  Using 1386402 / 11091223 points for tuning the step size."
      ]
     },
     "metadata": {},
     "output_type": "display_data"
    },
    {
     "data": {
      "text/html": [
       "<pre>+---------+-------------------+------------------------------------------+</pre>"
      ],
      "text/plain": [
       "+---------+-------------------+------------------------------------------+"
      ]
     },
     "metadata": {},
     "output_type": "display_data"
    },
    {
     "data": {
      "text/html": [
       "<pre>| Attempt | Initial Step Size | Estimated Objective Value                |</pre>"
      ],
      "text/plain": [
       "| Attempt | Initial Step Size | Estimated Objective Value                |"
      ]
     },
     "metadata": {},
     "output_type": "display_data"
    },
    {
     "data": {
      "text/html": [
       "<pre>+---------+-------------------+------------------------------------------+</pre>"
      ],
      "text/plain": [
       "+---------+-------------------+------------------------------------------+"
      ]
     },
     "metadata": {},
     "output_type": "display_data"
    },
    {
     "data": {
      "text/html": [
       "<pre>| 0       | 25                | Not Viable                               |</pre>"
      ],
      "text/plain": [
       "| 0       | 25                | Not Viable                               |"
      ]
     },
     "metadata": {},
     "output_type": "display_data"
    },
    {
     "data": {
      "text/html": [
       "<pre>| 1       | 6.25              | Not Viable                               |</pre>"
      ],
      "text/plain": [
       "| 1       | 6.25              | Not Viable                               |"
      ]
     },
     "metadata": {},
     "output_type": "display_data"
    },
    {
     "data": {
      "text/html": [
       "<pre>| 2       | 1.5625            | Not Viable                               |</pre>"
      ],
      "text/plain": [
       "| 2       | 1.5625            | Not Viable                               |"
      ]
     },
     "metadata": {},
     "output_type": "display_data"
    },
    {
     "data": {
      "text/html": [
       "<pre>| 3       | 0.390625          | Not Viable                               |</pre>"
      ],
      "text/plain": [
       "| 3       | 0.390625          | Not Viable                               |"
      ]
     },
     "metadata": {},
     "output_type": "display_data"
    },
    {
     "data": {
      "text/html": [
       "<pre>| 4       | 0.0976562         | 0.327983                                 |</pre>"
      ],
      "text/plain": [
       "| 4       | 0.0976562         | 0.327983                                 |"
      ]
     },
     "metadata": {},
     "output_type": "display_data"
    },
    {
     "data": {
      "text/html": [
       "<pre>| 5       | 0.0488281         | 0.59467                                  |</pre>"
      ],
      "text/plain": [
       "| 5       | 0.0488281         | 0.59467                                  |"
      ]
     },
     "metadata": {},
     "output_type": "display_data"
    },
    {
     "data": {
      "text/html": [
       "<pre>| 6       | 0.0244141         | 0.71305                                  |</pre>"
      ],
      "text/plain": [
       "| 6       | 0.0244141         | 0.71305                                  |"
      ]
     },
     "metadata": {},
     "output_type": "display_data"
    },
    {
     "data": {
      "text/html": [
       "<pre>+---------+-------------------+------------------------------------------+</pre>"
      ],
      "text/plain": [
       "+---------+-------------------+------------------------------------------+"
      ]
     },
     "metadata": {},
     "output_type": "display_data"
    },
    {
     "data": {
      "text/html": [
       "<pre>| Final   | 0.0976562         | 0.327983                                 |</pre>"
      ],
      "text/plain": [
       "| Final   | 0.0976562         | 0.327983                                 |"
      ]
     },
     "metadata": {},
     "output_type": "display_data"
    },
    {
     "data": {
      "text/html": [
       "<pre>+---------+-------------------+------------------------------------------+</pre>"
      ],
      "text/plain": [
       "+---------+-------------------+------------------------------------------+"
      ]
     },
     "metadata": {},
     "output_type": "display_data"
    },
    {
     "data": {
      "text/html": [
       "<pre>Starting Optimization.</pre>"
      ],
      "text/plain": [
       "Starting Optimization."
      ]
     },
     "metadata": {},
     "output_type": "display_data"
    },
    {
     "data": {
      "text/html": [
       "<pre>+---------+--------------+-------------------+-----------------------+-------------+</pre>"
      ],
      "text/plain": [
       "+---------+--------------+-------------------+-----------------------+-------------+"
      ]
     },
     "metadata": {},
     "output_type": "display_data"
    },
    {
     "data": {
      "text/html": [
       "<pre>| Iter.   | Elapsed Time | Approx. Objective | Approx. Training RMSE | Step Size   |</pre>"
      ],
      "text/plain": [
       "| Iter.   | Elapsed Time | Approx. Objective | Approx. Training RMSE | Step Size   |"
      ]
     },
     "metadata": {},
     "output_type": "display_data"
    },
    {
     "data": {
      "text/html": [
       "<pre>+---------+--------------+-------------------+-----------------------+-------------+</pre>"
      ],
      "text/plain": [
       "+---------+--------------+-------------------+-----------------------+-------------+"
      ]
     },
     "metadata": {},
     "output_type": "display_data"
    },
    {
     "data": {
      "text/html": [
       "<pre>| Initial | 212us        | 1.17989           | 1.08623               |             |</pre>"
      ],
      "text/plain": [
       "| Initial | 212us        | 1.17989           | 1.08623               |             |"
      ]
     },
     "metadata": {},
     "output_type": "display_data"
    },
    {
     "data": {
      "text/html": [
       "<pre>+---------+--------------+-------------------+-----------------------+-------------+</pre>"
      ],
      "text/plain": [
       "+---------+--------------+-------------------+-----------------------+-------------+"
      ]
     },
     "metadata": {},
     "output_type": "display_data"
    },
    {
     "data": {
      "text/html": [
       "<pre>| 1       | 6.37s        | 1.01881           | 1.00773               | 0.0976562   |</pre>"
      ],
      "text/plain": [
       "| 1       | 6.37s        | 1.01881           | 1.00773               | 0.0976562   |"
      ]
     },
     "metadata": {},
     "output_type": "display_data"
    },
    {
     "data": {
      "text/html": [
       "<pre>| 2       | 13.19s       | 0.870029          | 0.931526              | 0.0580668   |</pre>"
      ],
      "text/plain": [
       "| 2       | 13.19s       | 0.870029          | 0.931526              | 0.0580668   |"
      ]
     },
     "metadata": {},
     "output_type": "display_data"
    },
    {
     "data": {
      "text/html": [
       "<pre>| 3       | 21.76s       | 0.78609           | 0.885393              | 0.042841    |</pre>"
      ],
      "text/plain": [
       "| 3       | 21.76s       | 0.78609           | 0.885393              | 0.042841    |"
      ]
     },
     "metadata": {},
     "output_type": "display_data"
    },
    {
     "data": {
      "text/html": [
       "<pre>| 4       | 29.34s       | 0.726743          | 0.851143              | 0.0345267   |</pre>"
      ],
      "text/plain": [
       "| 4       | 29.34s       | 0.726743          | 0.851143              | 0.0345267   |"
      ]
     },
     "metadata": {},
     "output_type": "display_data"
    },
    {
     "data": {
      "text/html": [
       "<pre>| 5       | 36.58s       | 0.682237          | 0.824481              | 0.029206    |</pre>"
      ],
      "text/plain": [
       "| 5       | 36.58s       | 0.682237          | 0.824481              | 0.029206    |"
      ]
     },
     "metadata": {},
     "output_type": "display_data"
    },
    {
     "data": {
      "text/html": [
       "<pre>| 6       | 44.31s       | 0.648824          | 0.803861              | 0.0254734   |</pre>"
      ],
      "text/plain": [
       "| 6       | 44.31s       | 0.648824          | 0.803861              | 0.0254734   |"
      ]
     },
     "metadata": {},
     "output_type": "display_data"
    },
    {
     "data": {
      "text/html": [
       "<pre>| 7       | 52.08s       | 0.624079          | 0.788235              | 0.0226922   |</pre>"
      ],
      "text/plain": [
       "| 7       | 52.08s       | 0.624079          | 0.788235              | 0.0226922   |"
      ]
     },
     "metadata": {},
     "output_type": "display_data"
    },
    {
     "data": {
      "text/html": [
       "<pre>| 8       | 59.65s       | 0.605959          | 0.776585              | 0.0205297   |</pre>"
      ],
      "text/plain": [
       "| 8       | 59.65s       | 0.605959          | 0.776585              | 0.0205297   |"
      ]
     },
     "metadata": {},
     "output_type": "display_data"
    },
    {
     "data": {
      "text/html": [
       "<pre>| 9       | 1m 7s        | 0.592056          | 0.767519              | 0.018794    |</pre>"
      ],
      "text/plain": [
       "| 9       | 1m 7s        | 0.592056          | 0.767519              | 0.018794    |"
      ]
     },
     "metadata": {},
     "output_type": "display_data"
    },
    {
     "data": {
      "text/html": [
       "<pre>| 10      | 1m 15s       | 0.581402          | 0.760493              | 0.017366    |</pre>"
      ],
      "text/plain": [
       "| 10      | 1m 15s       | 0.581402          | 0.760493              | 0.017366    |"
      ]
     },
     "metadata": {},
     "output_type": "display_data"
    },
    {
     "data": {
      "text/html": [
       "<pre>| 11      | 1m 22s       | 0.572391          | 0.754495              | 0.016168    |</pre>"
      ],
      "text/plain": [
       "| 11      | 1m 22s       | 0.572391          | 0.754495              | 0.016168    |"
      ]
     },
     "metadata": {},
     "output_type": "display_data"
    },
    {
     "data": {
      "text/html": [
       "<pre>| 12      | 1m 30s       | 0.565136          | 0.749626              | 0.0151466   |</pre>"
      ],
      "text/plain": [
       "| 12      | 1m 30s       | 0.565136          | 0.749626              | 0.0151466   |"
      ]
     },
     "metadata": {},
     "output_type": "display_data"
    },
    {
     "data": {
      "text/html": [
       "<pre>| 13      | 1m 38s       | 0.558751          | 0.745313              | 0.014264    |</pre>"
      ],
      "text/plain": [
       "| 13      | 1m 38s       | 0.558751          | 0.745313              | 0.014264    |"
      ]
     },
     "metadata": {},
     "output_type": "display_data"
    },
    {
     "data": {
      "text/html": [
       "<pre>| 14      | 1m 46s       | 0.553325          | 0.741626              | 0.0134929   |</pre>"
      ],
      "text/plain": [
       "| 14      | 1m 46s       | 0.553325          | 0.741626              | 0.0134929   |"
      ]
     },
     "metadata": {},
     "output_type": "display_data"
    },
    {
     "data": {
      "text/html": [
       "<pre>| 15      | 1m 53s       | 0.548635          | 0.738422              | 0.0128124   |</pre>"
      ],
      "text/plain": [
       "| 15      | 1m 53s       | 0.548635          | 0.738422              | 0.0128124   |"
      ]
     },
     "metadata": {},
     "output_type": "display_data"
    },
    {
     "data": {
      "text/html": [
       "<pre>| 16      | 2m 1s        | 0.544393          | 0.73551               | 0.012207    |</pre>"
      ],
      "text/plain": [
       "| 16      | 2m 1s        | 0.544393          | 0.73551               | 0.012207    |"
      ]
     },
     "metadata": {},
     "output_type": "display_data"
    },
    {
     "data": {
      "text/html": [
       "<pre>| 17      | 2m 9s        | 0.540645          | 0.732926              | 0.0116644   |</pre>"
      ],
      "text/plain": [
       "| 17      | 2m 9s        | 0.540645          | 0.732926              | 0.0116644   |"
      ]
     },
     "metadata": {},
     "output_type": "display_data"
    },
    {
     "data": {
      "text/html": [
       "<pre>| 18      | 2m 17s       | 0.53721           | 0.730549              | 0.011175    |</pre>"
      ],
      "text/plain": [
       "| 18      | 2m 17s       | 0.53721           | 0.730549              | 0.011175    |"
      ]
     },
     "metadata": {},
     "output_type": "display_data"
    },
    {
     "data": {
      "text/html": [
       "<pre>| 19      | 2m 24s       | 0.534171          | 0.728439              | 0.0107309   |</pre>"
      ],
      "text/plain": [
       "| 19      | 2m 24s       | 0.534171          | 0.728439              | 0.0107309   |"
      ]
     },
     "metadata": {},
     "output_type": "display_data"
    },
    {
     "data": {
      "text/html": [
       "<pre>| 20      | 2m 32s       | 0.531328          | 0.726458              | 0.0103259   |</pre>"
      ],
      "text/plain": [
       "| 20      | 2m 32s       | 0.531328          | 0.726458              | 0.0103259   |"
      ]
     },
     "metadata": {},
     "output_type": "display_data"
    },
    {
     "data": {
      "text/html": [
       "<pre>| 21      | 2m 40s       | 0.528745          | 0.724653              | 0.00995487  |</pre>"
      ],
      "text/plain": [
       "| 21      | 2m 40s       | 0.528745          | 0.724653              | 0.00995487  |"
      ]
     },
     "metadata": {},
     "output_type": "display_data"
    },
    {
     "data": {
      "text/html": [
       "<pre>| 22      | 2m 48s       | 0.526383          | 0.722998              | 0.00961353  |</pre>"
      ],
      "text/plain": [
       "| 22      | 2m 48s       | 0.526383          | 0.722998              | 0.00961353  |"
      ]
     },
     "metadata": {},
     "output_type": "display_data"
    },
    {
     "data": {
      "text/html": [
       "<pre>| 23      | 2m 55s       | 0.524156          | 0.721433              | 0.00929831  |</pre>"
      ],
      "text/plain": [
       "| 23      | 2m 55s       | 0.524156          | 0.721433              | 0.00929831  |"
      ]
     },
     "metadata": {},
     "output_type": "display_data"
    },
    {
     "data": {
      "text/html": [
       "<pre>| 24      | 3m 3s        | 0.522185          | 0.720043              | 0.0090062   |</pre>"
      ],
      "text/plain": [
       "| 24      | 3m 3s        | 0.522185          | 0.720043              | 0.0090062   |"
      ]
     },
     "metadata": {},
     "output_type": "display_data"
    },
    {
     "data": {
      "text/html": [
       "<pre>| 25      | 3m 11s       | 0.520357          | 0.718752              | 0.00873464  |</pre>"
      ],
      "text/plain": [
       "| 25      | 3m 11s       | 0.520357          | 0.718752              | 0.00873464  |"
      ]
     },
     "metadata": {},
     "output_type": "display_data"
    },
    {
     "data": {
      "text/html": [
       "<pre>| 26      | 3m 19s       | 0.518556          | 0.717478              | 0.00848145  |</pre>"
      ],
      "text/plain": [
       "| 26      | 3m 19s       | 0.518556          | 0.717478              | 0.00848145  |"
      ]
     },
     "metadata": {},
     "output_type": "display_data"
    },
    {
     "data": {
      "text/html": [
       "<pre>| 27      | 3m 26s       | 0.516887          | 0.716294              | 0.00824474  |</pre>"
      ],
      "text/plain": [
       "| 27      | 3m 26s       | 0.516887          | 0.716294              | 0.00824474  |"
      ]
     },
     "metadata": {},
     "output_type": "display_data"
    },
    {
     "data": {
      "text/html": [
       "<pre>| 28      | 3m 34s       | 0.515269          | 0.715145              | 0.0080229   |</pre>"
      ],
      "text/plain": [
       "| 28      | 3m 34s       | 0.515269          | 0.715145              | 0.0080229   |"
      ]
     },
     "metadata": {},
     "output_type": "display_data"
    },
    {
     "data": {
      "text/html": [
       "<pre>| 29      | 3m 42s       | 0.513906          | 0.714174              | 0.00781451  |</pre>"
      ],
      "text/plain": [
       "| 29      | 3m 42s       | 0.513906          | 0.714174              | 0.00781451  |"
      ]
     },
     "metadata": {},
     "output_type": "display_data"
    },
    {
     "data": {
      "text/html": [
       "<pre>| 30      | 3m 49s       | 0.512534          | 0.713195              | 0.00761832  |</pre>"
      ],
      "text/plain": [
       "| 30      | 3m 49s       | 0.512534          | 0.713195              | 0.00761832  |"
      ]
     },
     "metadata": {},
     "output_type": "display_data"
    },
    {
     "data": {
      "text/html": [
       "<pre>| 31      | 3m 57s       | 0.511185          | 0.712232              | 0.00743325  |</pre>"
      ],
      "text/plain": [
       "| 31      | 3m 57s       | 0.511185          | 0.712232              | 0.00743325  |"
      ]
     },
     "metadata": {},
     "output_type": "display_data"
    },
    {
     "data": {
      "text/html": [
       "<pre>| 32      | 4m 4s        | 0.509937          | 0.711339              | 0.00725834  |</pre>"
      ],
      "text/plain": [
       "| 32      | 4m 4s        | 0.509937          | 0.711339              | 0.00725834  |"
      ]
     },
     "metadata": {},
     "output_type": "display_data"
    },
    {
     "data": {
      "text/html": [
       "<pre>| 33      | 4m 11s       | 0.508775          | 0.710506              | 0.00709275  |</pre>"
      ],
      "text/plain": [
       "| 33      | 4m 11s       | 0.508775          | 0.710506              | 0.00709275  |"
      ]
     },
     "metadata": {},
     "output_type": "display_data"
    },
    {
     "data": {
      "text/html": [
       "<pre>| 34      | 4m 19s       | 0.507651          | 0.709699              | 0.00693571  |</pre>"
      ],
      "text/plain": [
       "| 34      | 4m 19s       | 0.507651          | 0.709699              | 0.00693571  |"
      ]
     },
     "metadata": {},
     "output_type": "display_data"
    },
    {
     "data": {
      "text/html": [
       "<pre>| 35      | 4m 27s       | 0.506575          | 0.708926              | 0.00678655  |</pre>"
      ],
      "text/plain": [
       "| 35      | 4m 27s       | 0.506575          | 0.708926              | 0.00678655  |"
      ]
     },
     "metadata": {},
     "output_type": "display_data"
    },
    {
     "data": {
      "text/html": [
       "<pre>| 36      | 4m 35s       | 0.505491          | 0.708147              | 0.00664467  |</pre>"
      ],
      "text/plain": [
       "| 36      | 4m 35s       | 0.505491          | 0.708147              | 0.00664467  |"
      ]
     },
     "metadata": {},
     "output_type": "display_data"
    },
    {
     "data": {
      "text/html": [
       "<pre>| 37      | 4m 42s       | 0.504579          | 0.707488              | 0.00650952  |</pre>"
      ],
      "text/plain": [
       "| 37      | 4m 42s       | 0.504579          | 0.707488              | 0.00650952  |"
      ]
     },
     "metadata": {},
     "output_type": "display_data"
    },
    {
     "data": {
      "text/html": [
       "<pre>| 38      | 4m 50s       | 0.503687          | 0.706843              | 0.00638061  |</pre>"
      ],
      "text/plain": [
       "| 38      | 4m 50s       | 0.503687          | 0.706843              | 0.00638061  |"
      ]
     },
     "metadata": {},
     "output_type": "display_data"
    },
    {
     "data": {
      "text/html": [
       "<pre>| 39      | 4m 58s       | 0.502821          | 0.706218              | 0.00625751  |</pre>"
      ],
      "text/plain": [
       "| 39      | 4m 58s       | 0.502821          | 0.706218              | 0.00625751  |"
      ]
     },
     "metadata": {},
     "output_type": "display_data"
    },
    {
     "data": {
      "text/html": [
       "<pre>| 40      | 5m 5s        | 0.501968          | 0.7056                | 0.00613981  |</pre>"
      ],
      "text/plain": [
       "| 40      | 5m 5s        | 0.501968          | 0.7056                | 0.00613981  |"
      ]
     },
     "metadata": {},
     "output_type": "display_data"
    },
    {
     "data": {
      "text/html": [
       "<pre>| 41      | 5m 13s       | 0.501115          | 0.704983              | 0.00602715  |</pre>"
      ],
      "text/plain": [
       "| 41      | 5m 13s       | 0.501115          | 0.704983              | 0.00602715  |"
      ]
     },
     "metadata": {},
     "output_type": "display_data"
    },
    {
     "data": {
      "text/html": [
       "<pre>| 42      | 5m 20s       | 0.500353          | 0.704429              | 0.0059192   |</pre>"
      ],
      "text/plain": [
       "| 42      | 5m 20s       | 0.500353          | 0.704429              | 0.0059192   |"
      ]
     },
     "metadata": {},
     "output_type": "display_data"
    },
    {
     "data": {
      "text/html": [
       "<pre>| 43      | 5m 27s       | 0.49958           | 0.703869              | 0.00581566  |</pre>"
      ],
      "text/plain": [
       "| 43      | 5m 27s       | 0.49958           | 0.703869              | 0.00581566  |"
      ]
     },
     "metadata": {},
     "output_type": "display_data"
    },
    {
     "data": {
      "text/html": [
       "<pre>| 44      | 5m 35s       | 0.498861          | 0.703346              | 0.00571624  |</pre>"
      ],
      "text/plain": [
       "| 44      | 5m 35s       | 0.498861          | 0.703346              | 0.00571624  |"
      ]
     },
     "metadata": {},
     "output_type": "display_data"
    },
    {
     "data": {
      "text/html": [
       "<pre>| 45      | 5m 42s       | 0.498166          | 0.702841              | 0.0056207   |</pre>"
      ],
      "text/plain": [
       "| 45      | 5m 42s       | 0.498166          | 0.702841              | 0.0056207   |"
      ]
     },
     "metadata": {},
     "output_type": "display_data"
    },
    {
     "data": {
      "text/html": [
       "<pre>| 46      | 5m 50s       | 0.497475          | 0.702337              | 0.00552881  |</pre>"
      ],
      "text/plain": [
       "| 46      | 5m 50s       | 0.497475          | 0.702337              | 0.00552881  |"
      ]
     },
     "metadata": {},
     "output_type": "display_data"
    },
    {
     "data": {
      "text/html": [
       "<pre>| 47      | 5m 57s       | 0.496814          | 0.701856              | 0.00544035  |</pre>"
      ],
      "text/plain": [
       "| 47      | 5m 57s       | 0.496814          | 0.701856              | 0.00544035  |"
      ]
     },
     "metadata": {},
     "output_type": "display_data"
    },
    {
     "data": {
      "text/html": [
       "<pre>| 48      | 6m 4s        | 0.496223          | 0.701424              | 0.00535512  |</pre>"
      ],
      "text/plain": [
       "| 48      | 6m 4s        | 0.496223          | 0.701424              | 0.00535512  |"
      ]
     },
     "metadata": {},
     "output_type": "display_data"
    },
    {
     "data": {
      "text/html": [
       "<pre>| 49      | 6m 12s       | 0.49559           | 0.700962              | 0.00527294  |</pre>"
      ],
      "text/plain": [
       "| 49      | 6m 12s       | 0.49559           | 0.700962              | 0.00527294  |"
      ]
     },
     "metadata": {},
     "output_type": "display_data"
    },
    {
     "data": {
      "text/html": [
       "<pre>| 50      | 6m 19s       | 0.495001          | 0.700531              | 0.00519365  |</pre>"
      ],
      "text/plain": [
       "| 50      | 6m 19s       | 0.495001          | 0.700531              | 0.00519365  |"
      ]
     },
     "metadata": {},
     "output_type": "display_data"
    },
    {
     "data": {
      "text/html": [
       "<pre>+---------+--------------+-------------------+-----------------------+-------------+</pre>"
      ],
      "text/plain": [
       "+---------+--------------+-------------------+-----------------------+-------------+"
      ]
     },
     "metadata": {},
     "output_type": "display_data"
    },
    {
     "data": {
      "text/html": [
       "<pre>Optimization Complete: Maximum number of passes through the data reached.</pre>"
      ],
      "text/plain": [
       "Optimization Complete: Maximum number of passes through the data reached."
      ]
     },
     "metadata": {},
     "output_type": "display_data"
    },
    {
     "data": {
      "text/html": [
       "<pre>Computing final objective value and training RMSE.</pre>"
      ],
      "text/plain": [
       "Computing final objective value and training RMSE."
      ]
     },
     "metadata": {},
     "output_type": "display_data"
    },
    {
     "data": {
      "text/html": [
       "<pre>       Final objective value: 0.474631</pre>"
      ],
      "text/plain": [
       "       Final objective value: 0.474631"
      ]
     },
     "metadata": {},
     "output_type": "display_data"
    },
    {
     "data": {
      "text/html": [
       "<pre>       Final training RMSE: 0.685838</pre>"
      ],
      "text/plain": [
       "       Final training RMSE: 0.685838"
      ]
     },
     "metadata": {},
     "output_type": "display_data"
    },
    {
     "name": "stdout",
     "output_type": "stream",
     "text": [
      "PROGRESS: Evaluate model M0\n"
     ]
    },
    {
     "data": {
      "text/html": [
       "<pre>recommendations finished on 1000/202029 queries. users per second: 3224.49</pre>"
      ],
      "text/plain": [
       "recommendations finished on 1000/202029 queries. users per second: 3224.49"
      ]
     },
     "metadata": {},
     "output_type": "display_data"
    },
    {
     "data": {
      "text/html": [
       "<pre>recommendations finished on 2000/202029 queries. users per second: 3317.11</pre>"
      ],
      "text/plain": [
       "recommendations finished on 2000/202029 queries. users per second: 3317.11"
      ]
     },
     "metadata": {},
     "output_type": "display_data"
    },
    {
     "data": {
      "text/html": [
       "<pre>recommendations finished on 3000/202029 queries. users per second: 3332.35</pre>"
      ],
      "text/plain": [
       "recommendations finished on 3000/202029 queries. users per second: 3332.35"
      ]
     },
     "metadata": {},
     "output_type": "display_data"
    },
    {
     "data": {
      "text/html": [
       "<pre>recommendations finished on 4000/202029 queries. users per second: 3352.64</pre>"
      ],
      "text/plain": [
       "recommendations finished on 4000/202029 queries. users per second: 3352.64"
      ]
     },
     "metadata": {},
     "output_type": "display_data"
    },
    {
     "data": {
      "text/html": [
       "<pre>recommendations finished on 5000/202029 queries. users per second: 3551.24</pre>"
      ],
      "text/plain": [
       "recommendations finished on 5000/202029 queries. users per second: 3551.24"
      ]
     },
     "metadata": {},
     "output_type": "display_data"
    },
    {
     "data": {
      "text/html": [
       "<pre>recommendations finished on 6000/202029 queries. users per second: 3522.2</pre>"
      ],
      "text/plain": [
       "recommendations finished on 6000/202029 queries. users per second: 3522.2"
      ]
     },
     "metadata": {},
     "output_type": "display_data"
    },
    {
     "data": {
      "text/html": [
       "<pre>recommendations finished on 7000/202029 queries. users per second: 3505.09</pre>"
      ],
      "text/plain": [
       "recommendations finished on 7000/202029 queries. users per second: 3505.09"
      ]
     },
     "metadata": {},
     "output_type": "display_data"
    },
    {
     "data": {
      "text/html": [
       "<pre>recommendations finished on 8000/202029 queries. users per second: 3487.47</pre>"
      ],
      "text/plain": [
       "recommendations finished on 8000/202029 queries. users per second: 3487.47"
      ]
     },
     "metadata": {},
     "output_type": "display_data"
    },
    {
     "data": {
      "text/html": [
       "<pre>recommendations finished on 9000/202029 queries. users per second: 3590.19</pre>"
      ],
      "text/plain": [
       "recommendations finished on 9000/202029 queries. users per second: 3590.19"
      ]
     },
     "metadata": {},
     "output_type": "display_data"
    },
    {
     "data": {
      "text/html": [
       "<pre>recommendations finished on 10000/202029 queries. users per second: 3570.94</pre>"
      ],
      "text/plain": [
       "recommendations finished on 10000/202029 queries. users per second: 3570.94"
      ]
     },
     "metadata": {},
     "output_type": "display_data"
    },
    {
     "data": {
      "text/html": [
       "<pre>recommendations finished on 11000/202029 queries. users per second: 3552.16</pre>"
      ],
      "text/plain": [
       "recommendations finished on 11000/202029 queries. users per second: 3552.16"
      ]
     },
     "metadata": {},
     "output_type": "display_data"
    },
    {
     "data": {
      "text/html": [
       "<pre>recommendations finished on 12000/202029 queries. users per second: 3536.57</pre>"
      ],
      "text/plain": [
       "recommendations finished on 12000/202029 queries. users per second: 3536.57"
      ]
     },
     "metadata": {},
     "output_type": "display_data"
    },
    {
     "data": {
      "text/html": [
       "<pre>recommendations finished on 13000/202029 queries. users per second: 3608.15</pre>"
      ],
      "text/plain": [
       "recommendations finished on 13000/202029 queries. users per second: 3608.15"
      ]
     },
     "metadata": {},
     "output_type": "display_data"
    },
    {
     "data": {
      "text/html": [
       "<pre>recommendations finished on 14000/202029 queries. users per second: 3591.72</pre>"
      ],
      "text/plain": [
       "recommendations finished on 14000/202029 queries. users per second: 3591.72"
      ]
     },
     "metadata": {},
     "output_type": "display_data"
    },
    {
     "data": {
      "text/html": [
       "<pre>recommendations finished on 15000/202029 queries. users per second: 3576.53</pre>"
      ],
      "text/plain": [
       "recommendations finished on 15000/202029 queries. users per second: 3576.53"
      ]
     },
     "metadata": {},
     "output_type": "display_data"
    },
    {
     "data": {
      "text/html": [
       "<pre>recommendations finished on 16000/202029 queries. users per second: 3632.4</pre>"
      ],
      "text/plain": [
       "recommendations finished on 16000/202029 queries. users per second: 3632.4"
      ]
     },
     "metadata": {},
     "output_type": "display_data"
    },
    {
     "data": {
      "text/html": [
       "<pre>recommendations finished on 17000/202029 queries. users per second: 3616.32</pre>"
      ],
      "text/plain": [
       "recommendations finished on 17000/202029 queries. users per second: 3616.32"
      ]
     },
     "metadata": {},
     "output_type": "display_data"
    },
    {
     "data": {
      "text/html": [
       "<pre>recommendations finished on 18000/202029 queries. users per second: 3601.18</pre>"
      ],
      "text/plain": [
       "recommendations finished on 18000/202029 queries. users per second: 3601.18"
      ]
     },
     "metadata": {},
     "output_type": "display_data"
    },
    {
     "data": {
      "text/html": [
       "<pre>recommendations finished on 19000/202029 queries. users per second: 3589.37</pre>"
      ],
      "text/plain": [
       "recommendations finished on 19000/202029 queries. users per second: 3589.37"
      ]
     },
     "metadata": {},
     "output_type": "display_data"
    },
    {
     "data": {
      "text/html": [
       "<pre>recommendations finished on 20000/202029 queries. users per second: 3634.79</pre>"
      ],
      "text/plain": [
       "recommendations finished on 20000/202029 queries. users per second: 3634.79"
      ]
     },
     "metadata": {},
     "output_type": "display_data"
    },
    {
     "data": {
      "text/html": [
       "<pre>recommendations finished on 21000/202029 queries. users per second: 3621.85</pre>"
      ],
      "text/plain": [
       "recommendations finished on 21000/202029 queries. users per second: 3621.85"
      ]
     },
     "metadata": {},
     "output_type": "display_data"
    },
    {
     "data": {
      "text/html": [
       "<pre>recommendations finished on 22000/202029 queries. users per second: 3610.21</pre>"
      ],
      "text/plain": [
       "recommendations finished on 22000/202029 queries. users per second: 3610.21"
      ]
     },
     "metadata": {},
     "output_type": "display_data"
    },
    {
     "data": {
      "text/html": [
       "<pre>recommendations finished on 23000/202029 queries. users per second: 3648.66</pre>"
      ],
      "text/plain": [
       "recommendations finished on 23000/202029 queries. users per second: 3648.66"
      ]
     },
     "metadata": {},
     "output_type": "display_data"
    },
    {
     "data": {
      "text/html": [
       "<pre>recommendations finished on 24000/202029 queries. users per second: 3636.42</pre>"
      ],
      "text/plain": [
       "recommendations finished on 24000/202029 queries. users per second: 3636.42"
      ]
     },
     "metadata": {},
     "output_type": "display_data"
    },
    {
     "data": {
      "text/html": [
       "<pre>recommendations finished on 25000/202029 queries. users per second: 3625.84</pre>"
      ],
      "text/plain": [
       "recommendations finished on 25000/202029 queries. users per second: 3625.84"
      ]
     },
     "metadata": {},
     "output_type": "display_data"
    },
    {
     "data": {
      "text/html": [
       "<pre>recommendations finished on 26000/202029 queries. users per second: 3659.92</pre>"
      ],
      "text/plain": [
       "recommendations finished on 26000/202029 queries. users per second: 3659.92"
      ]
     },
     "metadata": {},
     "output_type": "display_data"
    },
    {
     "data": {
      "text/html": [
       "<pre>recommendations finished on 27000/202029 queries. users per second: 3649.45</pre>"
      ],
      "text/plain": [
       "recommendations finished on 27000/202029 queries. users per second: 3649.45"
      ]
     },
     "metadata": {},
     "output_type": "display_data"
    },
    {
     "data": {
      "text/html": [
       "<pre>recommendations finished on 28000/202029 queries. users per second: 3639.24</pre>"
      ],
      "text/plain": [
       "recommendations finished on 28000/202029 queries. users per second: 3639.24"
      ]
     },
     "metadata": {},
     "output_type": "display_data"
    },
    {
     "data": {
      "text/html": [
       "<pre>recommendations finished on 29000/202029 queries. users per second: 3669.41</pre>"
      ],
      "text/plain": [
       "recommendations finished on 29000/202029 queries. users per second: 3669.41"
      ]
     },
     "metadata": {},
     "output_type": "display_data"
    },
    {
     "data": {
      "text/html": [
       "<pre>recommendations finished on 30000/202029 queries. users per second: 3659.09</pre>"
      ],
      "text/plain": [
       "recommendations finished on 30000/202029 queries. users per second: 3659.09"
      ]
     },
     "metadata": {},
     "output_type": "display_data"
    },
    {
     "data": {
      "text/html": [
       "<pre>recommendations finished on 31000/202029 queries. users per second: 3649.74</pre>"
      ],
      "text/plain": [
       "recommendations finished on 31000/202029 queries. users per second: 3649.74"
      ]
     },
     "metadata": {},
     "output_type": "display_data"
    },
    {
     "data": {
      "text/html": [
       "<pre>recommendations finished on 32000/202029 queries. users per second: 3677.55</pre>"
      ],
      "text/plain": [
       "recommendations finished on 32000/202029 queries. users per second: 3677.55"
      ]
     },
     "metadata": {},
     "output_type": "display_data"
    },
    {
     "data": {
      "text/html": [
       "<pre>recommendations finished on 33000/202029 queries. users per second: 3667.08</pre>"
      ],
      "text/plain": [
       "recommendations finished on 33000/202029 queries. users per second: 3667.08"
      ]
     },
     "metadata": {},
     "output_type": "display_data"
    },
    {
     "data": {
      "text/html": [
       "<pre>recommendations finished on 34000/202029 queries. users per second: 3657.34</pre>"
      ],
      "text/plain": [
       "recommendations finished on 34000/202029 queries. users per second: 3657.34"
      ]
     },
     "metadata": {},
     "output_type": "display_data"
    },
    {
     "data": {
      "text/html": [
       "<pre>recommendations finished on 35000/202029 queries. users per second: 3648.62</pre>"
      ],
      "text/plain": [
       "recommendations finished on 35000/202029 queries. users per second: 3648.62"
      ]
     },
     "metadata": {},
     "output_type": "display_data"
    },
    {
     "data": {
      "text/html": [
       "<pre>recommendations finished on 36000/202029 queries. users per second: 3672.96</pre>"
      ],
      "text/plain": [
       "recommendations finished on 36000/202029 queries. users per second: 3672.96"
      ]
     },
     "metadata": {},
     "output_type": "display_data"
    },
    {
     "data": {
      "text/html": [
       "<pre>recommendations finished on 37000/202029 queries. users per second: 3664.35</pre>"
      ],
      "text/plain": [
       "recommendations finished on 37000/202029 queries. users per second: 3664.35"
      ]
     },
     "metadata": {},
     "output_type": "display_data"
    },
    {
     "data": {
      "text/html": [
       "<pre>recommendations finished on 38000/202029 queries. users per second: 3655.84</pre>"
      ],
      "text/plain": [
       "recommendations finished on 38000/202029 queries. users per second: 3655.84"
      ]
     },
     "metadata": {},
     "output_type": "display_data"
    },
    {
     "data": {
      "text/html": [
       "<pre>recommendations finished on 39000/202029 queries. users per second: 3678.2</pre>"
      ],
      "text/plain": [
       "recommendations finished on 39000/202029 queries. users per second: 3678.2"
      ]
     },
     "metadata": {},
     "output_type": "display_data"
    },
    {
     "data": {
      "text/html": [
       "<pre>recommendations finished on 40000/202029 queries. users per second: 3670.46</pre>"
      ],
      "text/plain": [
       "recommendations finished on 40000/202029 queries. users per second: 3670.46"
      ]
     },
     "metadata": {},
     "output_type": "display_data"
    },
    {
     "data": {
      "text/html": [
       "<pre>recommendations finished on 41000/202029 queries. users per second: 3662.72</pre>"
      ],
      "text/plain": [
       "recommendations finished on 41000/202029 queries. users per second: 3662.72"
      ]
     },
     "metadata": {},
     "output_type": "display_data"
    },
    {
     "data": {
      "text/html": [
       "<pre>recommendations finished on 42000/202029 queries. users per second: 3683.08</pre>"
      ],
      "text/plain": [
       "recommendations finished on 42000/202029 queries. users per second: 3683.08"
      ]
     },
     "metadata": {},
     "output_type": "display_data"
    },
    {
     "data": {
      "text/html": [
       "<pre>recommendations finished on 43000/202029 queries. users per second: 3675.34</pre>"
      ],
      "text/plain": [
       "recommendations finished on 43000/202029 queries. users per second: 3675.34"
      ]
     },
     "metadata": {},
     "output_type": "display_data"
    },
    {
     "data": {
      "text/html": [
       "<pre>recommendations finished on 44000/202029 queries. users per second: 3667.97</pre>"
      ],
      "text/plain": [
       "recommendations finished on 44000/202029 queries. users per second: 3667.97"
      ]
     },
     "metadata": {},
     "output_type": "display_data"
    },
    {
     "data": {
      "text/html": [
       "<pre>recommendations finished on 45000/202029 queries. users per second: 3661</pre>"
      ],
      "text/plain": [
       "recommendations finished on 45000/202029 queries. users per second: 3661"
      ]
     },
     "metadata": {},
     "output_type": "display_data"
    },
    {
     "data": {
      "text/html": [
       "<pre>recommendations finished on 46000/202029 queries. users per second: 3679.59</pre>"
      ],
      "text/plain": [
       "recommendations finished on 46000/202029 queries. users per second: 3679.59"
      ]
     },
     "metadata": {},
     "output_type": "display_data"
    },
    {
     "data": {
      "text/html": [
       "<pre>recommendations finished on 47000/202029 queries. users per second: 3672.73</pre>"
      ],
      "text/plain": [
       "recommendations finished on 47000/202029 queries. users per second: 3672.73"
      ]
     },
     "metadata": {},
     "output_type": "display_data"
    },
    {
     "data": {
      "text/html": [
       "<pre>recommendations finished on 48000/202029 queries. users per second: 3690.58</pre>"
      ],
      "text/plain": [
       "recommendations finished on 48000/202029 queries. users per second: 3690.58"
      ]
     },
     "metadata": {},
     "output_type": "display_data"
    },
    {
     "data": {
      "text/html": [
       "<pre>recommendations finished on 49000/202029 queries. users per second: 3684.23</pre>"
      ],
      "text/plain": [
       "recommendations finished on 49000/202029 queries. users per second: 3684.23"
      ]
     },
     "metadata": {},
     "output_type": "display_data"
    },
    {
     "data": {
      "text/html": [
       "<pre>recommendations finished on 50000/202029 queries. users per second: 3677.68</pre>"
      ],
      "text/plain": [
       "recommendations finished on 50000/202029 queries. users per second: 3677.68"
      ]
     },
     "metadata": {},
     "output_type": "display_data"
    },
    {
     "data": {
      "text/html": [
       "<pre>recommendations finished on 51000/202029 queries. users per second: 3670.9</pre>"
      ],
      "text/plain": [
       "recommendations finished on 51000/202029 queries. users per second: 3670.9"
      ]
     },
     "metadata": {},
     "output_type": "display_data"
    },
    {
     "data": {
      "text/html": [
       "<pre>recommendations finished on 52000/202029 queries. users per second: 3687.18</pre>"
      ],
      "text/plain": [
       "recommendations finished on 52000/202029 queries. users per second: 3687.18"
      ]
     },
     "metadata": {},
     "output_type": "display_data"
    },
    {
     "data": {
      "text/html": [
       "<pre>recommendations finished on 53000/202029 queries. users per second: 3680.99</pre>"
      ],
      "text/plain": [
       "recommendations finished on 53000/202029 queries. users per second: 3680.99"
      ]
     },
     "metadata": {},
     "output_type": "display_data"
    },
    {
     "data": {
      "text/html": [
       "<pre>recommendations finished on 54000/202029 queries. users per second: 3674.7</pre>"
      ],
      "text/plain": [
       "recommendations finished on 54000/202029 queries. users per second: 3674.7"
      ]
     },
     "metadata": {},
     "output_type": "display_data"
    },
    {
     "data": {
      "text/html": [
       "<pre>recommendations finished on 55000/202029 queries. users per second: 3689.77</pre>"
      ],
      "text/plain": [
       "recommendations finished on 55000/202029 queries. users per second: 3689.77"
      ]
     },
     "metadata": {},
     "output_type": "display_data"
    },
    {
     "data": {
      "text/html": [
       "<pre>recommendations finished on 56000/202029 queries. users per second: 3683.93</pre>"
      ],
      "text/plain": [
       "recommendations finished on 56000/202029 queries. users per second: 3683.93"
      ]
     },
     "metadata": {},
     "output_type": "display_data"
    },
    {
     "data": {
      "text/html": [
       "<pre>recommendations finished on 57000/202029 queries. users per second: 3678.08</pre>"
      ],
      "text/plain": [
       "recommendations finished on 57000/202029 queries. users per second: 3678.08"
      ]
     },
     "metadata": {},
     "output_type": "display_data"
    },
    {
     "data": {
      "text/html": [
       "<pre>recommendations finished on 58000/202029 queries. users per second: 3672.19</pre>"
      ],
      "text/plain": [
       "recommendations finished on 58000/202029 queries. users per second: 3672.19"
      ]
     },
     "metadata": {},
     "output_type": "display_data"
    },
    {
     "data": {
      "text/html": [
       "<pre>recommendations finished on 59000/202029 queries. users per second: 3686.25</pre>"
      ],
      "text/plain": [
       "recommendations finished on 59000/202029 queries. users per second: 3686.25"
      ]
     },
     "metadata": {},
     "output_type": "display_data"
    },
    {
     "data": {
      "text/html": [
       "<pre>recommendations finished on 60000/202029 queries. users per second: 3680.87</pre>"
      ],
      "text/plain": [
       "recommendations finished on 60000/202029 queries. users per second: 3680.87"
      ]
     },
     "metadata": {},
     "output_type": "display_data"
    },
    {
     "data": {
      "text/html": [
       "<pre>recommendations finished on 61000/202029 queries. users per second: 3675.41</pre>"
      ],
      "text/plain": [
       "recommendations finished on 61000/202029 queries. users per second: 3675.41"
      ]
     },
     "metadata": {},
     "output_type": "display_data"
    },
    {
     "data": {
      "text/html": [
       "<pre>recommendations finished on 62000/202029 queries. users per second: 3670.41</pre>"
      ],
      "text/plain": [
       "recommendations finished on 62000/202029 queries. users per second: 3670.41"
      ]
     },
     "metadata": {},
     "output_type": "display_data"
    },
    {
     "data": {
      "text/html": [
       "<pre>recommendations finished on 63000/202029 queries. users per second: 3684.11</pre>"
      ],
      "text/plain": [
       "recommendations finished on 63000/202029 queries. users per second: 3684.11"
      ]
     },
     "metadata": {},
     "output_type": "display_data"
    },
    {
     "data": {
      "text/html": [
       "<pre>recommendations finished on 64000/202029 queries. users per second: 3678.95</pre>"
      ],
      "text/plain": [
       "recommendations finished on 64000/202029 queries. users per second: 3678.95"
      ]
     },
     "metadata": {},
     "output_type": "display_data"
    },
    {
     "data": {
      "text/html": [
       "<pre>recommendations finished on 65000/202029 queries. users per second: 3673.77</pre>"
      ],
      "text/plain": [
       "recommendations finished on 65000/202029 queries. users per second: 3673.77"
      ]
     },
     "metadata": {},
     "output_type": "display_data"
    },
    {
     "data": {
      "text/html": [
       "<pre>recommendations finished on 66000/202029 queries. users per second: 3686.48</pre>"
      ],
      "text/plain": [
       "recommendations finished on 66000/202029 queries. users per second: 3686.48"
      ]
     },
     "metadata": {},
     "output_type": "display_data"
    },
    {
     "data": {
      "text/html": [
       "<pre>recommendations finished on 67000/202029 queries. users per second: 3681.42</pre>"
      ],
      "text/plain": [
       "recommendations finished on 67000/202029 queries. users per second: 3681.42"
      ]
     },
     "metadata": {},
     "output_type": "display_data"
    },
    {
     "data": {
      "text/html": [
       "<pre>recommendations finished on 68000/202029 queries. users per second: 3676.25</pre>"
      ],
      "text/plain": [
       "recommendations finished on 68000/202029 queries. users per second: 3676.25"
      ]
     },
     "metadata": {},
     "output_type": "display_data"
    },
    {
     "data": {
      "text/html": [
       "<pre>recommendations finished on 69000/202029 queries. users per second: 3670.99</pre>"
      ],
      "text/plain": [
       "recommendations finished on 69000/202029 queries. users per second: 3670.99"
      ]
     },
     "metadata": {},
     "output_type": "display_data"
    },
    {
     "data": {
      "text/html": [
       "<pre>recommendations finished on 70000/202029 queries. users per second: 3666.13</pre>"
      ],
      "text/plain": [
       "recommendations finished on 70000/202029 queries. users per second: 3666.13"
      ]
     },
     "metadata": {},
     "output_type": "display_data"
    },
    {
     "data": {
      "text/html": [
       "<pre>recommendations finished on 71000/202029 queries. users per second: 3678.19</pre>"
      ],
      "text/plain": [
       "recommendations finished on 71000/202029 queries. users per second: 3678.19"
      ]
     },
     "metadata": {},
     "output_type": "display_data"
    },
    {
     "data": {
      "text/html": [
       "<pre>recommendations finished on 72000/202029 queries. users per second: 3673.77</pre>"
      ],
      "text/plain": [
       "recommendations finished on 72000/202029 queries. users per second: 3673.77"
      ]
     },
     "metadata": {},
     "output_type": "display_data"
    },
    {
     "data": {
      "text/html": [
       "<pre>recommendations finished on 73000/202029 queries. users per second: 3669.4</pre>"
      ],
      "text/plain": [
       "recommendations finished on 73000/202029 queries. users per second: 3669.4"
      ]
     },
     "metadata": {},
     "output_type": "display_data"
    },
    {
     "data": {
      "text/html": [
       "<pre>recommendations finished on 74000/202029 queries. users per second: 3680.75</pre>"
      ],
      "text/plain": [
       "recommendations finished on 74000/202029 queries. users per second: 3680.75"
      ]
     },
     "metadata": {},
     "output_type": "display_data"
    },
    {
     "data": {
      "text/html": [
       "<pre>recommendations finished on 75000/202029 queries. users per second: 3676.54</pre>"
      ],
      "text/plain": [
       "recommendations finished on 75000/202029 queries. users per second: 3676.54"
      ]
     },
     "metadata": {},
     "output_type": "display_data"
    },
    {
     "data": {
      "text/html": [
       "<pre>recommendations finished on 76000/202029 queries. users per second: 3672.43</pre>"
      ],
      "text/plain": [
       "recommendations finished on 76000/202029 queries. users per second: 3672.43"
      ]
     },
     "metadata": {},
     "output_type": "display_data"
    },
    {
     "data": {
      "text/html": [
       "<pre>recommendations finished on 77000/202029 queries. users per second: 3683.54</pre>"
      ],
      "text/plain": [
       "recommendations finished on 77000/202029 queries. users per second: 3683.54"
      ]
     },
     "metadata": {},
     "output_type": "display_data"
    },
    {
     "data": {
      "text/html": [
       "<pre>recommendations finished on 78000/202029 queries. users per second: 3679.69</pre>"
      ],
      "text/plain": [
       "recommendations finished on 78000/202029 queries. users per second: 3679.69"
      ]
     },
     "metadata": {},
     "output_type": "display_data"
    },
    {
     "data": {
      "text/html": [
       "<pre>recommendations finished on 79000/202029 queries. users per second: 3675.46</pre>"
      ],
      "text/plain": [
       "recommendations finished on 79000/202029 queries. users per second: 3675.46"
      ]
     },
     "metadata": {},
     "output_type": "display_data"
    },
    {
     "data": {
      "text/html": [
       "<pre>recommendations finished on 80000/202029 queries. users per second: 3686.11</pre>"
      ],
      "text/plain": [
       "recommendations finished on 80000/202029 queries. users per second: 3686.11"
      ]
     },
     "metadata": {},
     "output_type": "display_data"
    },
    {
     "data": {
      "text/html": [
       "<pre>recommendations finished on 81000/202029 queries. users per second: 3681.87</pre>"
      ],
      "text/plain": [
       "recommendations finished on 81000/202029 queries. users per second: 3681.87"
      ]
     },
     "metadata": {},
     "output_type": "display_data"
    },
    {
     "data": {
      "text/html": [
       "<pre>recommendations finished on 82000/202029 queries. users per second: 3677.9</pre>"
      ],
      "text/plain": [
       "recommendations finished on 82000/202029 queries. users per second: 3677.9"
      ]
     },
     "metadata": {},
     "output_type": "display_data"
    },
    {
     "data": {
      "text/html": [
       "<pre>recommendations finished on 83000/202029 queries. users per second: 3687.77</pre>"
      ],
      "text/plain": [
       "recommendations finished on 83000/202029 queries. users per second: 3687.77"
      ]
     },
     "metadata": {},
     "output_type": "display_data"
    },
    {
     "data": {
      "text/html": [
       "<pre>recommendations finished on 84000/202029 queries. users per second: 3683.93</pre>"
      ],
      "text/plain": [
       "recommendations finished on 84000/202029 queries. users per second: 3683.93"
      ]
     },
     "metadata": {},
     "output_type": "display_data"
    },
    {
     "data": {
      "text/html": [
       "<pre>recommendations finished on 85000/202029 queries. users per second: 3680.26</pre>"
      ],
      "text/plain": [
       "recommendations finished on 85000/202029 queries. users per second: 3680.26"
      ]
     },
     "metadata": {},
     "output_type": "display_data"
    },
    {
     "data": {
      "text/html": [
       "<pre>recommendations finished on 86000/202029 queries. users per second: 3676.46</pre>"
      ],
      "text/plain": [
       "recommendations finished on 86000/202029 queries. users per second: 3676.46"
      ]
     },
     "metadata": {},
     "output_type": "display_data"
    },
    {
     "data": {
      "text/html": [
       "<pre>recommendations finished on 87000/202029 queries. users per second: 3686.29</pre>"
      ],
      "text/plain": [
       "recommendations finished on 87000/202029 queries. users per second: 3686.29"
      ]
     },
     "metadata": {},
     "output_type": "display_data"
    },
    {
     "data": {
      "text/html": [
       "<pre>recommendations finished on 88000/202029 queries. users per second: 3682.48</pre>"
      ],
      "text/plain": [
       "recommendations finished on 88000/202029 queries. users per second: 3682.48"
      ]
     },
     "metadata": {},
     "output_type": "display_data"
    },
    {
     "data": {
      "text/html": [
       "<pre>recommendations finished on 89000/202029 queries. users per second: 3678.88</pre>"
      ],
      "text/plain": [
       "recommendations finished on 89000/202029 queries. users per second: 3678.88"
      ]
     },
     "metadata": {},
     "output_type": "display_data"
    },
    {
     "data": {
      "text/html": [
       "<pre>recommendations finished on 90000/202029 queries. users per second: 3688.25</pre>"
      ],
      "text/plain": [
       "recommendations finished on 90000/202029 queries. users per second: 3688.25"
      ]
     },
     "metadata": {},
     "output_type": "display_data"
    },
    {
     "data": {
      "text/html": [
       "<pre>recommendations finished on 91000/202029 queries. users per second: 3684.35</pre>"
      ],
      "text/plain": [
       "recommendations finished on 91000/202029 queries. users per second: 3684.35"
      ]
     },
     "metadata": {},
     "output_type": "display_data"
    },
    {
     "data": {
      "text/html": [
       "<pre>recommendations finished on 92000/202029 queries. users per second: 3680.68</pre>"
      ],
      "text/plain": [
       "recommendations finished on 92000/202029 queries. users per second: 3680.68"
      ]
     },
     "metadata": {},
     "output_type": "display_data"
    },
    {
     "data": {
      "text/html": [
       "<pre>recommendations finished on 93000/202029 queries. users per second: 3689.6</pre>"
      ],
      "text/plain": [
       "recommendations finished on 93000/202029 queries. users per second: 3689.6"
      ]
     },
     "metadata": {},
     "output_type": "display_data"
    },
    {
     "data": {
      "text/html": [
       "<pre>recommendations finished on 94000/202029 queries. users per second: 3686.33</pre>"
      ],
      "text/plain": [
       "recommendations finished on 94000/202029 queries. users per second: 3686.33"
      ]
     },
     "metadata": {},
     "output_type": "display_data"
    },
    {
     "data": {
      "text/html": [
       "<pre>recommendations finished on 95000/202029 queries. users per second: 3682.73</pre>"
      ],
      "text/plain": [
       "recommendations finished on 95000/202029 queries. users per second: 3682.73"
      ]
     },
     "metadata": {},
     "output_type": "display_data"
    },
    {
     "data": {
      "text/html": [
       "<pre>recommendations finished on 96000/202029 queries. users per second: 3679.24</pre>"
      ],
      "text/plain": [
       "recommendations finished on 96000/202029 queries. users per second: 3679.24"
      ]
     },
     "metadata": {},
     "output_type": "display_data"
    },
    {
     "data": {
      "text/html": [
       "<pre>recommendations finished on 97000/202029 queries. users per second: 3687.69</pre>"
      ],
      "text/plain": [
       "recommendations finished on 97000/202029 queries. users per second: 3687.69"
      ]
     },
     "metadata": {},
     "output_type": "display_data"
    },
    {
     "data": {
      "text/html": [
       "<pre>recommendations finished on 98000/202029 queries. users per second: 3684.21</pre>"
      ],
      "text/plain": [
       "recommendations finished on 98000/202029 queries. users per second: 3684.21"
      ]
     },
     "metadata": {},
     "output_type": "display_data"
    },
    {
     "data": {
      "text/html": [
       "<pre>recommendations finished on 99000/202029 queries. users per second: 3680.99</pre>"
      ],
      "text/plain": [
       "recommendations finished on 99000/202029 queries. users per second: 3680.99"
      ]
     },
     "metadata": {},
     "output_type": "display_data"
    },
    {
     "data": {
      "text/html": [
       "<pre>recommendations finished on 100000/202029 queries. users per second: 3689.59</pre>"
      ],
      "text/plain": [
       "recommendations finished on 100000/202029 queries. users per second: 3689.59"
      ]
     },
     "metadata": {},
     "output_type": "display_data"
    },
    {
     "data": {
      "text/html": [
       "<pre>recommendations finished on 101000/202029 queries. users per second: 3686.16</pre>"
      ],
      "text/plain": [
       "recommendations finished on 101000/202029 queries. users per second: 3686.16"
      ]
     },
     "metadata": {},
     "output_type": "display_data"
    },
    {
     "data": {
      "text/html": [
       "<pre>recommendations finished on 102000/202029 queries. users per second: 3682.96</pre>"
      ],
      "text/plain": [
       "recommendations finished on 102000/202029 queries. users per second: 3682.96"
      ]
     },
     "metadata": {},
     "output_type": "display_data"
    },
    {
     "data": {
      "text/html": [
       "<pre>recommendations finished on 103000/202029 queries. users per second: 3690.88</pre>"
      ],
      "text/plain": [
       "recommendations finished on 103000/202029 queries. users per second: 3690.88"
      ]
     },
     "metadata": {},
     "output_type": "display_data"
    },
    {
     "data": {
      "text/html": [
       "<pre>recommendations finished on 104000/202029 queries. users per second: 3688.06</pre>"
      ],
      "text/plain": [
       "recommendations finished on 104000/202029 queries. users per second: 3688.06"
      ]
     },
     "metadata": {},
     "output_type": "display_data"
    },
    {
     "data": {
      "text/html": [
       "<pre>recommendations finished on 105000/202029 queries. users per second: 3684.52</pre>"
      ],
      "text/plain": [
       "recommendations finished on 105000/202029 queries. users per second: 3684.52"
      ]
     },
     "metadata": {},
     "output_type": "display_data"
    },
    {
     "data": {
      "text/html": [
       "<pre>recommendations finished on 106000/202029 queries. users per second: 3681.45</pre>"
      ],
      "text/plain": [
       "recommendations finished on 106000/202029 queries. users per second: 3681.45"
      ]
     },
     "metadata": {},
     "output_type": "display_data"
    },
    {
     "data": {
      "text/html": [
       "<pre>recommendations finished on 107000/202029 queries. users per second: 3689.16</pre>"
      ],
      "text/plain": [
       "recommendations finished on 107000/202029 queries. users per second: 3689.16"
      ]
     },
     "metadata": {},
     "output_type": "display_data"
    },
    {
     "data": {
      "text/html": [
       "<pre>recommendations finished on 108000/202029 queries. users per second: 3686.11</pre>"
      ],
      "text/plain": [
       "recommendations finished on 108000/202029 queries. users per second: 3686.11"
      ]
     },
     "metadata": {},
     "output_type": "display_data"
    },
    {
     "data": {
      "text/html": [
       "<pre>recommendations finished on 109000/202029 queries. users per second: 3682.89</pre>"
      ],
      "text/plain": [
       "recommendations finished on 109000/202029 queries. users per second: 3682.89"
      ]
     },
     "metadata": {},
     "output_type": "display_data"
    },
    {
     "data": {
      "text/html": [
       "<pre>recommendations finished on 110000/202029 queries. users per second: 3680</pre>"
      ],
      "text/plain": [
       "recommendations finished on 110000/202029 queries. users per second: 3680"
      ]
     },
     "metadata": {},
     "output_type": "display_data"
    },
    {
     "data": {
      "text/html": [
       "<pre>recommendations finished on 111000/202029 queries. users per second: 3687.5</pre>"
      ],
      "text/plain": [
       "recommendations finished on 111000/202029 queries. users per second: 3687.5"
      ]
     },
     "metadata": {},
     "output_type": "display_data"
    },
    {
     "data": {
      "text/html": [
       "<pre>recommendations finished on 112000/202029 queries. users per second: 3684.37</pre>"
      ],
      "text/plain": [
       "recommendations finished on 112000/202029 queries. users per second: 3684.37"
      ]
     },
     "metadata": {},
     "output_type": "display_data"
    },
    {
     "data": {
      "text/html": [
       "<pre>recommendations finished on 113000/202029 queries. users per second: 3681.43</pre>"
      ],
      "text/plain": [
       "recommendations finished on 113000/202029 queries. users per second: 3681.43"
      ]
     },
     "metadata": {},
     "output_type": "display_data"
    },
    {
     "data": {
      "text/html": [
       "<pre>recommendations finished on 114000/202029 queries. users per second: 3688.7</pre>"
      ],
      "text/plain": [
       "recommendations finished on 114000/202029 queries. users per second: 3688.7"
      ]
     },
     "metadata": {},
     "output_type": "display_data"
    },
    {
     "data": {
      "text/html": [
       "<pre>recommendations finished on 115000/202029 queries. users per second: 3685.9</pre>"
      ],
      "text/plain": [
       "recommendations finished on 115000/202029 queries. users per second: 3685.9"
      ]
     },
     "metadata": {},
     "output_type": "display_data"
    },
    {
     "data": {
      "text/html": [
       "<pre>recommendations finished on 116000/202029 queries. users per second: 3683.18</pre>"
      ],
      "text/plain": [
       "recommendations finished on 116000/202029 queries. users per second: 3683.18"
      ]
     },
     "metadata": {},
     "output_type": "display_data"
    },
    {
     "data": {
      "text/html": [
       "<pre>recommendations finished on 117000/202029 queries. users per second: 3690.42</pre>"
      ],
      "text/plain": [
       "recommendations finished on 117000/202029 queries. users per second: 3690.42"
      ]
     },
     "metadata": {},
     "output_type": "display_data"
    },
    {
     "data": {
      "text/html": [
       "<pre>recommendations finished on 118000/202029 queries. users per second: 3687.42</pre>"
      ],
      "text/plain": [
       "recommendations finished on 118000/202029 queries. users per second: 3687.42"
      ]
     },
     "metadata": {},
     "output_type": "display_data"
    },
    {
     "data": {
      "text/html": [
       "<pre>recommendations finished on 119000/202029 queries. users per second: 3684.4</pre>"
      ],
      "text/plain": [
       "recommendations finished on 119000/202029 queries. users per second: 3684.4"
      ]
     },
     "metadata": {},
     "output_type": "display_data"
    },
    {
     "data": {
      "text/html": [
       "<pre>recommendations finished on 120000/202029 queries. users per second: 3681.67</pre>"
      ],
      "text/plain": [
       "recommendations finished on 120000/202029 queries. users per second: 3681.67"
      ]
     },
     "metadata": {},
     "output_type": "display_data"
    },
    {
     "data": {
      "text/html": [
       "<pre>recommendations finished on 121000/202029 queries. users per second: 3688.34</pre>"
      ],
      "text/plain": [
       "recommendations finished on 121000/202029 queries. users per second: 3688.34"
      ]
     },
     "metadata": {},
     "output_type": "display_data"
    },
    {
     "data": {
      "text/html": [
       "<pre>recommendations finished on 122000/202029 queries. users per second: 3685.82</pre>"
      ],
      "text/plain": [
       "recommendations finished on 122000/202029 queries. users per second: 3685.82"
      ]
     },
     "metadata": {},
     "output_type": "display_data"
    },
    {
     "data": {
      "text/html": [
       "<pre>recommendations finished on 123000/202029 queries. users per second: 3683.25</pre>"
      ],
      "text/plain": [
       "recommendations finished on 123000/202029 queries. users per second: 3683.25"
      ]
     },
     "metadata": {},
     "output_type": "display_data"
    },
    {
     "data": {
      "text/html": [
       "<pre>recommendations finished on 124000/202029 queries. users per second: 3689.98</pre>"
      ],
      "text/plain": [
       "recommendations finished on 124000/202029 queries. users per second: 3689.98"
      ]
     },
     "metadata": {},
     "output_type": "display_data"
    },
    {
     "data": {
      "text/html": [
       "<pre>recommendations finished on 125000/202029 queries. users per second: 3687.49</pre>"
      ],
      "text/plain": [
       "recommendations finished on 125000/202029 queries. users per second: 3687.49"
      ]
     },
     "metadata": {},
     "output_type": "display_data"
    },
    {
     "data": {
      "text/html": [
       "<pre>recommendations finished on 126000/202029 queries. users per second: 3684.73</pre>"
      ],
      "text/plain": [
       "recommendations finished on 126000/202029 queries. users per second: 3684.73"
      ]
     },
     "metadata": {},
     "output_type": "display_data"
    },
    {
     "data": {
      "text/html": [
       "<pre>recommendations finished on 127000/202029 queries. users per second: 3691.2</pre>"
      ],
      "text/plain": [
       "recommendations finished on 127000/202029 queries. users per second: 3691.2"
      ]
     },
     "metadata": {},
     "output_type": "display_data"
    },
    {
     "data": {
      "text/html": [
       "<pre>recommendations finished on 128000/202029 queries. users per second: 3688.69</pre>"
      ],
      "text/plain": [
       "recommendations finished on 128000/202029 queries. users per second: 3688.69"
      ]
     },
     "metadata": {},
     "output_type": "display_data"
    },
    {
     "data": {
      "text/html": [
       "<pre>recommendations finished on 129000/202029 queries. users per second: 3686.15</pre>"
      ],
      "text/plain": [
       "recommendations finished on 129000/202029 queries. users per second: 3686.15"
      ]
     },
     "metadata": {},
     "output_type": "display_data"
    },
    {
     "data": {
      "text/html": [
       "<pre>recommendations finished on 130000/202029 queries. users per second: 3683.55</pre>"
      ],
      "text/plain": [
       "recommendations finished on 130000/202029 queries. users per second: 3683.55"
      ]
     },
     "metadata": {},
     "output_type": "display_data"
    },
    {
     "data": {
      "text/html": [
       "<pre>recommendations finished on 131000/202029 queries. users per second: 3689.84</pre>"
      ],
      "text/plain": [
       "recommendations finished on 131000/202029 queries. users per second: 3689.84"
      ]
     },
     "metadata": {},
     "output_type": "display_data"
    },
    {
     "data": {
      "text/html": [
       "<pre>recommendations finished on 132000/202029 queries. users per second: 3687.2</pre>"
      ],
      "text/plain": [
       "recommendations finished on 132000/202029 queries. users per second: 3687.2"
      ]
     },
     "metadata": {},
     "output_type": "display_data"
    },
    {
     "data": {
      "text/html": [
       "<pre>recommendations finished on 133000/202029 queries. users per second: 3684.69</pre>"
      ],
      "text/plain": [
       "recommendations finished on 133000/202029 queries. users per second: 3684.69"
      ]
     },
     "metadata": {},
     "output_type": "display_data"
    },
    {
     "data": {
      "text/html": [
       "<pre>recommendations finished on 134000/202029 queries. users per second: 3681.82</pre>"
      ],
      "text/plain": [
       "recommendations finished on 134000/202029 queries. users per second: 3681.82"
      ]
     },
     "metadata": {},
     "output_type": "display_data"
    },
    {
     "data": {
      "text/html": [
       "<pre>recommendations finished on 135000/202029 queries. users per second: 3679.33</pre>"
      ],
      "text/plain": [
       "recommendations finished on 135000/202029 queries. users per second: 3679.33"
      ]
     },
     "metadata": {},
     "output_type": "display_data"
    },
    {
     "data": {
      "text/html": [
       "<pre>recommendations finished on 136000/202029 queries. users per second: 3676.53</pre>"
      ],
      "text/plain": [
       "recommendations finished on 136000/202029 queries. users per second: 3676.53"
      ]
     },
     "metadata": {},
     "output_type": "display_data"
    },
    {
     "data": {
      "text/html": [
       "<pre>recommendations finished on 137000/202029 queries. users per second: 3682.52</pre>"
      ],
      "text/plain": [
       "recommendations finished on 137000/202029 queries. users per second: 3682.52"
      ]
     },
     "metadata": {},
     "output_type": "display_data"
    },
    {
     "data": {
      "text/html": [
       "<pre>recommendations finished on 138000/202029 queries. users per second: 3670.94</pre>"
      ],
      "text/plain": [
       "recommendations finished on 138000/202029 queries. users per second: 3670.94"
      ]
     },
     "metadata": {},
     "output_type": "display_data"
    },
    {
     "data": {
      "text/html": [
       "<pre>recommendations finished on 139000/202029 queries. users per second: 3668.27</pre>"
      ],
      "text/plain": [
       "recommendations finished on 139000/202029 queries. users per second: 3668.27"
      ]
     },
     "metadata": {},
     "output_type": "display_data"
    },
    {
     "data": {
      "text/html": [
       "<pre>recommendations finished on 140000/202029 queries. users per second: 3674.14</pre>"
      ],
      "text/plain": [
       "recommendations finished on 140000/202029 queries. users per second: 3674.14"
      ]
     },
     "metadata": {},
     "output_type": "display_data"
    },
    {
     "data": {
      "text/html": [
       "<pre>recommendations finished on 141000/202029 queries. users per second: 3671.85</pre>"
      ],
      "text/plain": [
       "recommendations finished on 141000/202029 queries. users per second: 3671.85"
      ]
     },
     "metadata": {},
     "output_type": "display_data"
    },
    {
     "data": {
      "text/html": [
       "<pre>recommendations finished on 142000/202029 queries. users per second: 3669.44</pre>"
      ],
      "text/plain": [
       "recommendations finished on 142000/202029 queries. users per second: 3669.44"
      ]
     },
     "metadata": {},
     "output_type": "display_data"
    },
    {
     "data": {
      "text/html": [
       "<pre>recommendations finished on 143000/202029 queries. users per second: 3667.26</pre>"
      ],
      "text/plain": [
       "recommendations finished on 143000/202029 queries. users per second: 3667.26"
      ]
     },
     "metadata": {},
     "output_type": "display_data"
    },
    {
     "data": {
      "text/html": [
       "<pre>recommendations finished on 144000/202029 queries. users per second: 3673.09</pre>"
      ],
      "text/plain": [
       "recommendations finished on 144000/202029 queries. users per second: 3673.09"
      ]
     },
     "metadata": {},
     "output_type": "display_data"
    },
    {
     "data": {
      "text/html": [
       "<pre>recommendations finished on 145000/202029 queries. users per second: 3671.04</pre>"
      ],
      "text/plain": [
       "recommendations finished on 145000/202029 queries. users per second: 3671.04"
      ]
     },
     "metadata": {},
     "output_type": "display_data"
    },
    {
     "data": {
      "text/html": [
       "<pre>recommendations finished on 146000/202029 queries. users per second: 3668.85</pre>"
      ],
      "text/plain": [
       "recommendations finished on 146000/202029 queries. users per second: 3668.85"
      ]
     },
     "metadata": {},
     "output_type": "display_data"
    },
    {
     "data": {
      "text/html": [
       "<pre>recommendations finished on 147000/202029 queries. users per second: 3674.58</pre>"
      ],
      "text/plain": [
       "recommendations finished on 147000/202029 queries. users per second: 3674.58"
      ]
     },
     "metadata": {},
     "output_type": "display_data"
    },
    {
     "data": {
      "text/html": [
       "<pre>recommendations finished on 148000/202029 queries. users per second: 3672.47</pre>"
      ],
      "text/plain": [
       "recommendations finished on 148000/202029 queries. users per second: 3672.47"
      ]
     },
     "metadata": {},
     "output_type": "display_data"
    },
    {
     "data": {
      "text/html": [
       "<pre>recommendations finished on 149000/202029 queries. users per second: 3670.37</pre>"
      ],
      "text/plain": [
       "recommendations finished on 149000/202029 queries. users per second: 3670.37"
      ]
     },
     "metadata": {},
     "output_type": "display_data"
    },
    {
     "data": {
      "text/html": [
       "<pre>recommendations finished on 150000/202029 queries. users per second: 3675.96</pre>"
      ],
      "text/plain": [
       "recommendations finished on 150000/202029 queries. users per second: 3675.96"
      ]
     },
     "metadata": {},
     "output_type": "display_data"
    },
    {
     "data": {
      "text/html": [
       "<pre>recommendations finished on 151000/202029 queries. users per second: 3674.05</pre>"
      ],
      "text/plain": [
       "recommendations finished on 151000/202029 queries. users per second: 3674.05"
      ]
     },
     "metadata": {},
     "output_type": "display_data"
    },
    {
     "data": {
      "text/html": [
       "<pre>recommendations finished on 152000/202029 queries. users per second: 3671.96</pre>"
      ],
      "text/plain": [
       "recommendations finished on 152000/202029 queries. users per second: 3671.96"
      ]
     },
     "metadata": {},
     "output_type": "display_data"
    },
    {
     "data": {
      "text/html": [
       "<pre>recommendations finished on 153000/202029 queries. users per second: 3677.38</pre>"
      ],
      "text/plain": [
       "recommendations finished on 153000/202029 queries. users per second: 3677.38"
      ]
     },
     "metadata": {},
     "output_type": "display_data"
    },
    {
     "data": {
      "text/html": [
       "<pre>recommendations finished on 154000/202029 queries. users per second: 3675.43</pre>"
      ],
      "text/plain": [
       "recommendations finished on 154000/202029 queries. users per second: 3675.43"
      ]
     },
     "metadata": {},
     "output_type": "display_data"
    },
    {
     "data": {
      "text/html": [
       "<pre>recommendations finished on 155000/202029 queries. users per second: 3673.42</pre>"
      ],
      "text/plain": [
       "recommendations finished on 155000/202029 queries. users per second: 3673.42"
      ]
     },
     "metadata": {},
     "output_type": "display_data"
    },
    {
     "data": {
      "text/html": [
       "<pre>recommendations finished on 156000/202029 queries. users per second: 3678.93</pre>"
      ],
      "text/plain": [
       "recommendations finished on 156000/202029 queries. users per second: 3678.93"
      ]
     },
     "metadata": {},
     "output_type": "display_data"
    },
    {
     "data": {
      "text/html": [
       "<pre>recommendations finished on 157000/202029 queries. users per second: 3676.92</pre>"
      ],
      "text/plain": [
       "recommendations finished on 157000/202029 queries. users per second: 3676.92"
      ]
     },
     "metadata": {},
     "output_type": "display_data"
    },
    {
     "data": {
      "text/html": [
       "<pre>recommendations finished on 158000/202029 queries. users per second: 3674.73</pre>"
      ],
      "text/plain": [
       "recommendations finished on 158000/202029 queries. users per second: 3674.73"
      ]
     },
     "metadata": {},
     "output_type": "display_data"
    },
    {
     "data": {
      "text/html": [
       "<pre>recommendations finished on 159000/202029 queries. users per second: 3672.71</pre>"
      ],
      "text/plain": [
       "recommendations finished on 159000/202029 queries. users per second: 3672.71"
      ]
     },
     "metadata": {},
     "output_type": "display_data"
    },
    {
     "data": {
      "text/html": [
       "<pre>recommendations finished on 160000/202029 queries. users per second: 3678.11</pre>"
      ],
      "text/plain": [
       "recommendations finished on 160000/202029 queries. users per second: 3678.11"
      ]
     },
     "metadata": {},
     "output_type": "display_data"
    },
    {
     "data": {
      "text/html": [
       "<pre>recommendations finished on 161000/202029 queries. users per second: 3676.06</pre>"
      ],
      "text/plain": [
       "recommendations finished on 161000/202029 queries. users per second: 3676.06"
      ]
     },
     "metadata": {},
     "output_type": "display_data"
    },
    {
     "data": {
      "text/html": [
       "<pre>recommendations finished on 162000/202029 queries. users per second: 3674.07</pre>"
      ],
      "text/plain": [
       "recommendations finished on 162000/202029 queries. users per second: 3674.07"
      ]
     },
     "metadata": {},
     "output_type": "display_data"
    },
    {
     "data": {
      "text/html": [
       "<pre>recommendations finished on 163000/202029 queries. users per second: 3679.33</pre>"
      ],
      "text/plain": [
       "recommendations finished on 163000/202029 queries. users per second: 3679.33"
      ]
     },
     "metadata": {},
     "output_type": "display_data"
    },
    {
     "data": {
      "text/html": [
       "<pre>recommendations finished on 164000/202029 queries. users per second: 3677.19</pre>"
      ],
      "text/plain": [
       "recommendations finished on 164000/202029 queries. users per second: 3677.19"
      ]
     },
     "metadata": {},
     "output_type": "display_data"
    },
    {
     "data": {
      "text/html": [
       "<pre>recommendations finished on 165000/202029 queries. users per second: 3675.27</pre>"
      ],
      "text/plain": [
       "recommendations finished on 165000/202029 queries. users per second: 3675.27"
      ]
     },
     "metadata": {},
     "output_type": "display_data"
    },
    {
     "data": {
      "text/html": [
       "<pre>recommendations finished on 166000/202029 queries. users per second: 3680.48</pre>"
      ],
      "text/plain": [
       "recommendations finished on 166000/202029 queries. users per second: 3680.48"
      ]
     },
     "metadata": {},
     "output_type": "display_data"
    },
    {
     "data": {
      "text/html": [
       "<pre>recommendations finished on 167000/202029 queries. users per second: 3678.56</pre>"
      ],
      "text/plain": [
       "recommendations finished on 167000/202029 queries. users per second: 3678.56"
      ]
     },
     "metadata": {},
     "output_type": "display_data"
    },
    {
     "data": {
      "text/html": [
       "<pre>recommendations finished on 168000/202029 queries. users per second: 3676.74</pre>"
      ],
      "text/plain": [
       "recommendations finished on 168000/202029 queries. users per second: 3676.74"
      ]
     },
     "metadata": {},
     "output_type": "display_data"
    },
    {
     "data": {
      "text/html": [
       "<pre>recommendations finished on 169000/202029 queries. users per second: 3681.73</pre>"
      ],
      "text/plain": [
       "recommendations finished on 169000/202029 queries. users per second: 3681.73"
      ]
     },
     "metadata": {},
     "output_type": "display_data"
    },
    {
     "data": {
      "text/html": [
       "<pre>recommendations finished on 170000/202029 queries. users per second: 3679.83</pre>"
      ],
      "text/plain": [
       "recommendations finished on 170000/202029 queries. users per second: 3679.83"
      ]
     },
     "metadata": {},
     "output_type": "display_data"
    },
    {
     "data": {
      "text/html": [
       "<pre>recommendations finished on 171000/202029 queries. users per second: 3677.76</pre>"
      ],
      "text/plain": [
       "recommendations finished on 171000/202029 queries. users per second: 3677.76"
      ]
     },
     "metadata": {},
     "output_type": "display_data"
    },
    {
     "data": {
      "text/html": [
       "<pre>recommendations finished on 172000/202029 queries. users per second: 3682.7</pre>"
      ],
      "text/plain": [
       "recommendations finished on 172000/202029 queries. users per second: 3682.7"
      ]
     },
     "metadata": {},
     "output_type": "display_data"
    },
    {
     "data": {
      "text/html": [
       "<pre>recommendations finished on 173000/202029 queries. users per second: 3680.75</pre>"
      ],
      "text/plain": [
       "recommendations finished on 173000/202029 queries. users per second: 3680.75"
      ]
     },
     "metadata": {},
     "output_type": "display_data"
    },
    {
     "data": {
      "text/html": [
       "<pre>recommendations finished on 174000/202029 queries. users per second: 3678.82</pre>"
      ],
      "text/plain": [
       "recommendations finished on 174000/202029 queries. users per second: 3678.82"
      ]
     },
     "metadata": {},
     "output_type": "display_data"
    },
    {
     "data": {
      "text/html": [
       "<pre>recommendations finished on 175000/202029 queries. users per second: 3677.01</pre>"
      ],
      "text/plain": [
       "recommendations finished on 175000/202029 queries. users per second: 3677.01"
      ]
     },
     "metadata": {},
     "output_type": "display_data"
    },
    {
     "data": {
      "text/html": [
       "<pre>recommendations finished on 176000/202029 queries. users per second: 3681.77</pre>"
      ],
      "text/plain": [
       "recommendations finished on 176000/202029 queries. users per second: 3681.77"
      ]
     },
     "metadata": {},
     "output_type": "display_data"
    },
    {
     "data": {
      "text/html": [
       "<pre>recommendations finished on 177000/202029 queries. users per second: 3679.82</pre>"
      ],
      "text/plain": [
       "recommendations finished on 177000/202029 queries. users per second: 3679.82"
      ]
     },
     "metadata": {},
     "output_type": "display_data"
    },
    {
     "data": {
      "text/html": [
       "<pre>recommendations finished on 178000/202029 queries. users per second: 3677.94</pre>"
      ],
      "text/plain": [
       "recommendations finished on 178000/202029 queries. users per second: 3677.94"
      ]
     },
     "metadata": {},
     "output_type": "display_data"
    },
    {
     "data": {
      "text/html": [
       "<pre>recommendations finished on 179000/202029 queries. users per second: 3675.99</pre>"
      ],
      "text/plain": [
       "recommendations finished on 179000/202029 queries. users per second: 3675.99"
      ]
     },
     "metadata": {},
     "output_type": "display_data"
    },
    {
     "data": {
      "text/html": [
       "<pre>recommendations finished on 180000/202029 queries. users per second: 3674.05</pre>"
      ],
      "text/plain": [
       "recommendations finished on 180000/202029 queries. users per second: 3674.05"
      ]
     },
     "metadata": {},
     "output_type": "display_data"
    },
    {
     "data": {
      "text/html": [
       "<pre>recommendations finished on 181000/202029 queries. users per second: 3671.97</pre>"
      ],
      "text/plain": [
       "recommendations finished on 181000/202029 queries. users per second: 3671.97"
      ]
     },
     "metadata": {},
     "output_type": "display_data"
    },
    {
     "data": {
      "text/html": [
       "<pre>recommendations finished on 182000/202029 queries. users per second: 3669.78</pre>"
      ],
      "text/plain": [
       "recommendations finished on 182000/202029 queries. users per second: 3669.78"
      ]
     },
     "metadata": {},
     "output_type": "display_data"
    },
    {
     "data": {
      "text/html": [
       "<pre>recommendations finished on 183000/202029 queries. users per second: 3667.48</pre>"
      ],
      "text/plain": [
       "recommendations finished on 183000/202029 queries. users per second: 3667.48"
      ]
     },
     "metadata": {},
     "output_type": "display_data"
    },
    {
     "data": {
      "text/html": [
       "<pre>recommendations finished on 184000/202029 queries. users per second: 3658.68</pre>"
      ],
      "text/plain": [
       "recommendations finished on 184000/202029 queries. users per second: 3658.68"
      ]
     },
     "metadata": {},
     "output_type": "display_data"
    },
    {
     "data": {
      "text/html": [
       "<pre>recommendations finished on 185000/202029 queries. users per second: 3656.57</pre>"
      ],
      "text/plain": [
       "recommendations finished on 185000/202029 queries. users per second: 3656.57"
      ]
     },
     "metadata": {},
     "output_type": "display_data"
    },
    {
     "data": {
      "text/html": [
       "<pre>recommendations finished on 186000/202029 queries. users per second: 3654.6</pre>"
      ],
      "text/plain": [
       "recommendations finished on 186000/202029 queries. users per second: 3654.6"
      ]
     },
     "metadata": {},
     "output_type": "display_data"
    },
    {
     "data": {
      "text/html": [
       "<pre>recommendations finished on 187000/202029 queries. users per second: 3658.94</pre>"
      ],
      "text/plain": [
       "recommendations finished on 187000/202029 queries. users per second: 3658.94"
      ]
     },
     "metadata": {},
     "output_type": "display_data"
    },
    {
     "data": {
      "text/html": [
       "<pre>recommendations finished on 188000/202029 queries. users per second: 3657.35</pre>"
      ],
      "text/plain": [
       "recommendations finished on 188000/202029 queries. users per second: 3657.35"
      ]
     },
     "metadata": {},
     "output_type": "display_data"
    },
    {
     "data": {
      "text/html": [
       "<pre>recommendations finished on 189000/202029 queries. users per second: 3655.97</pre>"
      ],
      "text/plain": [
       "recommendations finished on 189000/202029 queries. users per second: 3655.97"
      ]
     },
     "metadata": {},
     "output_type": "display_data"
    },
    {
     "data": {
      "text/html": [
       "<pre>recommendations finished on 190000/202029 queries. users per second: 3654.38</pre>"
      ],
      "text/plain": [
       "recommendations finished on 190000/202029 queries. users per second: 3654.38"
      ]
     },
     "metadata": {},
     "output_type": "display_data"
    },
    {
     "data": {
      "text/html": [
       "<pre>recommendations finished on 191000/202029 queries. users per second: 3658.84</pre>"
      ],
      "text/plain": [
       "recommendations finished on 191000/202029 queries. users per second: 3658.84"
      ]
     },
     "metadata": {},
     "output_type": "display_data"
    },
    {
     "data": {
      "text/html": [
       "<pre>recommendations finished on 192000/202029 queries. users per second: 3657.25</pre>"
      ],
      "text/plain": [
       "recommendations finished on 192000/202029 queries. users per second: 3657.25"
      ]
     },
     "metadata": {},
     "output_type": "display_data"
    },
    {
     "data": {
      "text/html": [
       "<pre>recommendations finished on 193000/202029 queries. users per second: 3655.73</pre>"
      ],
      "text/plain": [
       "recommendations finished on 193000/202029 queries. users per second: 3655.73"
      ]
     },
     "metadata": {},
     "output_type": "display_data"
    },
    {
     "data": {
      "text/html": [
       "<pre>recommendations finished on 194000/202029 queries. users per second: 3660.2</pre>"
      ],
      "text/plain": [
       "recommendations finished on 194000/202029 queries. users per second: 3660.2"
      ]
     },
     "metadata": {},
     "output_type": "display_data"
    },
    {
     "data": {
      "text/html": [
       "<pre>recommendations finished on 195000/202029 queries. users per second: 3658.73</pre>"
      ],
      "text/plain": [
       "recommendations finished on 195000/202029 queries. users per second: 3658.73"
      ]
     },
     "metadata": {},
     "output_type": "display_data"
    },
    {
     "data": {
      "text/html": [
       "<pre>recommendations finished on 196000/202029 queries. users per second: 3657.21</pre>"
      ],
      "text/plain": [
       "recommendations finished on 196000/202029 queries. users per second: 3657.21"
      ]
     },
     "metadata": {},
     "output_type": "display_data"
    },
    {
     "data": {
      "text/html": [
       "<pre>recommendations finished on 197000/202029 queries. users per second: 3661.6</pre>"
      ],
      "text/plain": [
       "recommendations finished on 197000/202029 queries. users per second: 3661.6"
      ]
     },
     "metadata": {},
     "output_type": "display_data"
    },
    {
     "data": {
      "text/html": [
       "<pre>recommendations finished on 198000/202029 queries. users per second: 3660.13</pre>"
      ],
      "text/plain": [
       "recommendations finished on 198000/202029 queries. users per second: 3660.13"
      ]
     },
     "metadata": {},
     "output_type": "display_data"
    },
    {
     "data": {
      "text/html": [
       "<pre>recommendations finished on 199000/202029 queries. users per second: 3664.46</pre>"
      ],
      "text/plain": [
       "recommendations finished on 199000/202029 queries. users per second: 3664.46"
      ]
     },
     "metadata": {},
     "output_type": "display_data"
    },
    {
     "data": {
      "text/html": [
       "<pre>recommendations finished on 200000/202029 queries. users per second: 3663.21</pre>"
      ],
      "text/plain": [
       "recommendations finished on 200000/202029 queries. users per second: 3663.21"
      ]
     },
     "metadata": {},
     "output_type": "display_data"
    },
    {
     "data": {
      "text/html": [
       "<pre>recommendations finished on 201000/202029 queries. users per second: 3667.34</pre>"
      ],
      "text/plain": [
       "recommendations finished on 201000/202029 queries. users per second: 3667.34"
      ]
     },
     "metadata": {},
     "output_type": "display_data"
    },
    {
     "data": {
      "text/html": [
       "<pre>recommendations finished on 202000/202029 queries. users per second: 3667.05</pre>"
      ],
      "text/plain": [
       "recommendations finished on 202000/202029 queries. users per second: 3667.05"
      ]
     },
     "metadata": {},
     "output_type": "display_data"
    },
    {
     "name": "stdout",
     "output_type": "stream",
     "text": [
      "\n",
      "Precision and recall summary statistics by cutoff\n",
      "+--------+-------------------+-------------------+\n",
      "| cutoff |   mean_precision  |    mean_recall    |\n",
      "+--------+-------------------+-------------------+\n",
      "|   1    | 4.94978443689e-06 | 4.12482036407e-07 |\n",
      "|   2    | 4.94978443689e-06 | 9.07460480096e-07 |\n",
      "|   3    | 4.94978443689e-06 | 1.01277504258e-06 |\n",
      "|   4    | 4.94978443689e-06 | 2.00273192996e-06 |\n",
      "|   5    | 4.94978443689e-06 | 2.82769600278e-06 |\n",
      "|   6    | 4.94978443689e-06 | 3.13705753008e-06 |\n",
      "|   7    | 4.94978443689e-06 | 3.49061356129e-06 |\n",
      "|   8    | 4.94978443689e-06 | 3.60310866213e-06 |\n",
      "|   9    | 4.94978443689e-06 | 3.86362363249e-06 |\n",
      "|   10   | 4.94978443689e-06 | 3.91518388704e-06 |\n",
      "+--------+-------------------+-------------------+\n",
      "[10 rows x 3 columns]\n",
      "\n",
      "PROGRESS: Evaluate model M1\n"
     ]
    },
    {
     "data": {
      "text/html": [
       "<pre>recommendations finished on 1000/202029 queries. users per second: 2602.09</pre>"
      ],
      "text/plain": [
       "recommendations finished on 1000/202029 queries. users per second: 2602.09"
      ]
     },
     "metadata": {},
     "output_type": "display_data"
    },
    {
     "data": {
      "text/html": [
       "<pre>recommendations finished on 2000/202029 queries. users per second: 2909.43</pre>"
      ],
      "text/plain": [
       "recommendations finished on 2000/202029 queries. users per second: 2909.43"
      ]
     },
     "metadata": {},
     "output_type": "display_data"
    },
    {
     "data": {
      "text/html": [
       "<pre>recommendations finished on 3000/202029 queries. users per second: 2788.88</pre>"
      ],
      "text/plain": [
       "recommendations finished on 3000/202029 queries. users per second: 2788.88"
      ]
     },
     "metadata": {},
     "output_type": "display_data"
    },
    {
     "data": {
      "text/html": [
       "<pre>recommendations finished on 4000/202029 queries. users per second: 2899.83</pre>"
      ],
      "text/plain": [
       "recommendations finished on 4000/202029 queries. users per second: 2899.83"
      ]
     },
     "metadata": {},
     "output_type": "display_data"
    },
    {
     "data": {
      "text/html": [
       "<pre>recommendations finished on 5000/202029 queries. users per second: 2974.23</pre>"
      ],
      "text/plain": [
       "recommendations finished on 5000/202029 queries. users per second: 2974.23"
      ]
     },
     "metadata": {},
     "output_type": "display_data"
    },
    {
     "data": {
      "text/html": [
       "<pre>recommendations finished on 6000/202029 queries. users per second: 3021.29</pre>"
      ],
      "text/plain": [
       "recommendations finished on 6000/202029 queries. users per second: 3021.29"
      ]
     },
     "metadata": {},
     "output_type": "display_data"
    },
    {
     "data": {
      "text/html": [
       "<pre>recommendations finished on 7000/202029 queries. users per second: 2948.39</pre>"
      ],
      "text/plain": [
       "recommendations finished on 7000/202029 queries. users per second: 2948.39"
      ]
     },
     "metadata": {},
     "output_type": "display_data"
    },
    {
     "data": {
      "text/html": [
       "<pre>recommendations finished on 8000/202029 queries. users per second: 2989.88</pre>"
      ],
      "text/plain": [
       "recommendations finished on 8000/202029 queries. users per second: 2989.88"
      ]
     },
     "metadata": {},
     "output_type": "display_data"
    },
    {
     "data": {
      "text/html": [
       "<pre>recommendations finished on 9000/202029 queries. users per second: 3020.45</pre>"
      ],
      "text/plain": [
       "recommendations finished on 9000/202029 queries. users per second: 3020.45"
      ]
     },
     "metadata": {},
     "output_type": "display_data"
    },
    {
     "data": {
      "text/html": [
       "<pre>recommendations finished on 10000/202029 queries. users per second: 3045.88</pre>"
      ],
      "text/plain": [
       "recommendations finished on 10000/202029 queries. users per second: 3045.88"
      ]
     },
     "metadata": {},
     "output_type": "display_data"
    },
    {
     "data": {
      "text/html": [
       "<pre>recommendations finished on 11000/202029 queries. users per second: 3067.32</pre>"
      ],
      "text/plain": [
       "recommendations finished on 11000/202029 queries. users per second: 3067.32"
      ]
     },
     "metadata": {},
     "output_type": "display_data"
    },
    {
     "data": {
      "text/html": [
       "<pre>recommendations finished on 12000/202029 queries. users per second: 3018.66</pre>"
      ],
      "text/plain": [
       "recommendations finished on 12000/202029 queries. users per second: 3018.66"
      ]
     },
     "metadata": {},
     "output_type": "display_data"
    },
    {
     "data": {
      "text/html": [
       "<pre>recommendations finished on 13000/202029 queries. users per second: 3038.98</pre>"
      ],
      "text/plain": [
       "recommendations finished on 13000/202029 queries. users per second: 3038.98"
      ]
     },
     "metadata": {},
     "output_type": "display_data"
    },
    {
     "data": {
      "text/html": [
       "<pre>recommendations finished on 14000/202029 queries. users per second: 3057.05</pre>"
      ],
      "text/plain": [
       "recommendations finished on 14000/202029 queries. users per second: 3057.05"
      ]
     },
     "metadata": {},
     "output_type": "display_data"
    },
    {
     "data": {
      "text/html": [
       "<pre>recommendations finished on 15000/202029 queries. users per second: 3072.57</pre>"
      ],
      "text/plain": [
       "recommendations finished on 15000/202029 queries. users per second: 3072.57"
      ]
     },
     "metadata": {},
     "output_type": "display_data"
    },
    {
     "data": {
      "text/html": [
       "<pre>recommendations finished on 16000/202029 queries. users per second: 3085.85</pre>"
      ],
      "text/plain": [
       "recommendations finished on 16000/202029 queries. users per second: 3085.85"
      ]
     },
     "metadata": {},
     "output_type": "display_data"
    },
    {
     "data": {
      "text/html": [
       "<pre>recommendations finished on 17000/202029 queries. users per second: 3096.34</pre>"
      ],
      "text/plain": [
       "recommendations finished on 17000/202029 queries. users per second: 3096.34"
      ]
     },
     "metadata": {},
     "output_type": "display_data"
    },
    {
     "data": {
      "text/html": [
       "<pre>recommendations finished on 18000/202029 queries. users per second: 3062.91</pre>"
      ],
      "text/plain": [
       "recommendations finished on 18000/202029 queries. users per second: 3062.91"
      ]
     },
     "metadata": {},
     "output_type": "display_data"
    },
    {
     "data": {
      "text/html": [
       "<pre>recommendations finished on 19000/202029 queries. users per second: 3072.53</pre>"
      ],
      "text/plain": [
       "recommendations finished on 19000/202029 queries. users per second: 3072.53"
      ]
     },
     "metadata": {},
     "output_type": "display_data"
    },
    {
     "data": {
      "text/html": [
       "<pre>recommendations finished on 20000/202029 queries. users per second: 3083.55</pre>"
      ],
      "text/plain": [
       "recommendations finished on 20000/202029 queries. users per second: 3083.55"
      ]
     },
     "metadata": {},
     "output_type": "display_data"
    },
    {
     "data": {
      "text/html": [
       "<pre>recommendations finished on 21000/202029 queries. users per second: 3054.36</pre>"
      ],
      "text/plain": [
       "recommendations finished on 21000/202029 queries. users per second: 3054.36"
      ]
     },
     "metadata": {},
     "output_type": "display_data"
    },
    {
     "data": {
      "text/html": [
       "<pre>recommendations finished on 22000/202029 queries. users per second: 3064.6</pre>"
      ],
      "text/plain": [
       "recommendations finished on 22000/202029 queries. users per second: 3064.6"
      ]
     },
     "metadata": {},
     "output_type": "display_data"
    },
    {
     "data": {
      "text/html": [
       "<pre>recommendations finished on 23000/202029 queries. users per second: 3073.97</pre>"
      ],
      "text/plain": [
       "recommendations finished on 23000/202029 queries. users per second: 3073.97"
      ]
     },
     "metadata": {},
     "output_type": "display_data"
    },
    {
     "data": {
      "text/html": [
       "<pre>recommendations finished on 24000/202029 queries. users per second: 3082.99</pre>"
      ],
      "text/plain": [
       "recommendations finished on 24000/202029 queries. users per second: 3082.99"
      ]
     },
     "metadata": {},
     "output_type": "display_data"
    },
    {
     "data": {
      "text/html": [
       "<pre>recommendations finished on 25000/202029 queries. users per second: 3058.21</pre>"
      ],
      "text/plain": [
       "recommendations finished on 25000/202029 queries. users per second: 3058.21"
      ]
     },
     "metadata": {},
     "output_type": "display_data"
    },
    {
     "data": {
      "text/html": [
       "<pre>recommendations finished on 26000/202029 queries. users per second: 3066.92</pre>"
      ],
      "text/plain": [
       "recommendations finished on 26000/202029 queries. users per second: 3066.92"
      ]
     },
     "metadata": {},
     "output_type": "display_data"
    },
    {
     "data": {
      "text/html": [
       "<pre>recommendations finished on 27000/202029 queries. users per second: 3074.68</pre>"
      ],
      "text/plain": [
       "recommendations finished on 27000/202029 queries. users per second: 3074.68"
      ]
     },
     "metadata": {},
     "output_type": "display_data"
    },
    {
     "data": {
      "text/html": [
       "<pre>recommendations finished on 28000/202029 queries. users per second: 3082.14</pre>"
      ],
      "text/plain": [
       "recommendations finished on 28000/202029 queries. users per second: 3082.14"
      ]
     },
     "metadata": {},
     "output_type": "display_data"
    },
    {
     "data": {
      "text/html": [
       "<pre>recommendations finished on 29000/202029 queries. users per second: 3060.74</pre>"
      ],
      "text/plain": [
       "recommendations finished on 29000/202029 queries. users per second: 3060.74"
      ]
     },
     "metadata": {},
     "output_type": "display_data"
    },
    {
     "data": {
      "text/html": [
       "<pre>recommendations finished on 30000/202029 queries. users per second: 3067.91</pre>"
      ],
      "text/plain": [
       "recommendations finished on 30000/202029 queries. users per second: 3067.91"
      ]
     },
     "metadata": {},
     "output_type": "display_data"
    },
    {
     "data": {
      "text/html": [
       "<pre>recommendations finished on 31000/202029 queries. users per second: 3074.4</pre>"
      ],
      "text/plain": [
       "recommendations finished on 31000/202029 queries. users per second: 3074.4"
      ]
     },
     "metadata": {},
     "output_type": "display_data"
    },
    {
     "data": {
      "text/html": [
       "<pre>recommendations finished on 32000/202029 queries. users per second: 3080.15</pre>"
      ],
      "text/plain": [
       "recommendations finished on 32000/202029 queries. users per second: 3080.15"
      ]
     },
     "metadata": {},
     "output_type": "display_data"
    },
    {
     "data": {
      "text/html": [
       "<pre>recommendations finished on 33000/202029 queries. users per second: 3061.48</pre>"
      ],
      "text/plain": [
       "recommendations finished on 33000/202029 queries. users per second: 3061.48"
      ]
     },
     "metadata": {},
     "output_type": "display_data"
    },
    {
     "data": {
      "text/html": [
       "<pre>recommendations finished on 34000/202029 queries. users per second: 3066.28</pre>"
      ],
      "text/plain": [
       "recommendations finished on 34000/202029 queries. users per second: 3066.28"
      ]
     },
     "metadata": {},
     "output_type": "display_data"
    },
    {
     "data": {
      "text/html": [
       "<pre>recommendations finished on 35000/202029 queries. users per second: 3049.24</pre>"
      ],
      "text/plain": [
       "recommendations finished on 35000/202029 queries. users per second: 3049.24"
      ]
     },
     "metadata": {},
     "output_type": "display_data"
    },
    {
     "data": {
      "text/html": [
       "<pre>recommendations finished on 36000/202029 queries. users per second: 3055.31</pre>"
      ],
      "text/plain": [
       "recommendations finished on 36000/202029 queries. users per second: 3055.31"
      ]
     },
     "metadata": {},
     "output_type": "display_data"
    },
    {
     "data": {
      "text/html": [
       "<pre>recommendations finished on 37000/202029 queries. users per second: 3061.33</pre>"
      ],
      "text/plain": [
       "recommendations finished on 37000/202029 queries. users per second: 3061.33"
      ]
     },
     "metadata": {},
     "output_type": "display_data"
    },
    {
     "data": {
      "text/html": [
       "<pre>recommendations finished on 38000/202029 queries. users per second: 3066.99</pre>"
      ],
      "text/plain": [
       "recommendations finished on 38000/202029 queries. users per second: 3066.99"
      ]
     },
     "metadata": {},
     "output_type": "display_data"
    },
    {
     "data": {
      "text/html": [
       "<pre>recommendations finished on 39000/202029 queries. users per second: 3052.48</pre>"
      ],
      "text/plain": [
       "recommendations finished on 39000/202029 queries. users per second: 3052.48"
      ]
     },
     "metadata": {},
     "output_type": "display_data"
    },
    {
     "data": {
      "text/html": [
       "<pre>recommendations finished on 40000/202029 queries. users per second: 3058.11</pre>"
      ],
      "text/plain": [
       "recommendations finished on 40000/202029 queries. users per second: 3058.11"
      ]
     },
     "metadata": {},
     "output_type": "display_data"
    },
    {
     "data": {
      "text/html": [
       "<pre>recommendations finished on 41000/202029 queries. users per second: 3063.51</pre>"
      ],
      "text/plain": [
       "recommendations finished on 41000/202029 queries. users per second: 3063.51"
      ]
     },
     "metadata": {},
     "output_type": "display_data"
    },
    {
     "data": {
      "text/html": [
       "<pre>recommendations finished on 42000/202029 queries. users per second: 3068.74</pre>"
      ],
      "text/plain": [
       "recommendations finished on 42000/202029 queries. users per second: 3068.74"
      ]
     },
     "metadata": {},
     "output_type": "display_data"
    },
    {
     "data": {
      "text/html": [
       "<pre>recommendations finished on 43000/202029 queries. users per second: 3055.01</pre>"
      ],
      "text/plain": [
       "recommendations finished on 43000/202029 queries. users per second: 3055.01"
      ]
     },
     "metadata": {},
     "output_type": "display_data"
    },
    {
     "data": {
      "text/html": [
       "<pre>recommendations finished on 44000/202029 queries. users per second: 3060.14</pre>"
      ],
      "text/plain": [
       "recommendations finished on 44000/202029 queries. users per second: 3060.14"
      ]
     },
     "metadata": {},
     "output_type": "display_data"
    },
    {
     "data": {
      "text/html": [
       "<pre>recommendations finished on 45000/202029 queries. users per second: 3065.32</pre>"
      ],
      "text/plain": [
       "recommendations finished on 45000/202029 queries. users per second: 3065.32"
      ]
     },
     "metadata": {},
     "output_type": "display_data"
    },
    {
     "data": {
      "text/html": [
       "<pre>recommendations finished on 46000/202029 queries. users per second: 3069.87</pre>"
      ],
      "text/plain": [
       "recommendations finished on 46000/202029 queries. users per second: 3069.87"
      ]
     },
     "metadata": {},
     "output_type": "display_data"
    },
    {
     "data": {
      "text/html": [
       "<pre>recommendations finished on 47000/202029 queries. users per second: 3074.4</pre>"
      ],
      "text/plain": [
       "recommendations finished on 47000/202029 queries. users per second: 3074.4"
      ]
     },
     "metadata": {},
     "output_type": "display_data"
    },
    {
     "data": {
      "text/html": [
       "<pre>recommendations finished on 48000/202029 queries. users per second: 3061.81</pre>"
      ],
      "text/plain": [
       "recommendations finished on 48000/202029 queries. users per second: 3061.81"
      ]
     },
     "metadata": {},
     "output_type": "display_data"
    },
    {
     "data": {
      "text/html": [
       "<pre>recommendations finished on 49000/202029 queries. users per second: 3066.12</pre>"
      ],
      "text/plain": [
       "recommendations finished on 49000/202029 queries. users per second: 3066.12"
      ]
     },
     "metadata": {},
     "output_type": "display_data"
    },
    {
     "data": {
      "text/html": [
       "<pre>recommendations finished on 50000/202029 queries. users per second: 3070.47</pre>"
      ],
      "text/plain": [
       "recommendations finished on 50000/202029 queries. users per second: 3070.47"
      ]
     },
     "metadata": {},
     "output_type": "display_data"
    },
    {
     "data": {
      "text/html": [
       "<pre>recommendations finished on 51000/202029 queries. users per second: 3058.48</pre>"
      ],
      "text/plain": [
       "recommendations finished on 51000/202029 queries. users per second: 3058.48"
      ]
     },
     "metadata": {},
     "output_type": "display_data"
    },
    {
     "data": {
      "text/html": [
       "<pre>recommendations finished on 52000/202029 queries. users per second: 3062.76</pre>"
      ],
      "text/plain": [
       "recommendations finished on 52000/202029 queries. users per second: 3062.76"
      ]
     },
     "metadata": {},
     "output_type": "display_data"
    },
    {
     "data": {
      "text/html": [
       "<pre>recommendations finished on 53000/202029 queries. users per second: 3067.01</pre>"
      ],
      "text/plain": [
       "recommendations finished on 53000/202029 queries. users per second: 3067.01"
      ]
     },
     "metadata": {},
     "output_type": "display_data"
    },
    {
     "data": {
      "text/html": [
       "<pre>recommendations finished on 54000/202029 queries. users per second: 3070.92</pre>"
      ],
      "text/plain": [
       "recommendations finished on 54000/202029 queries. users per second: 3070.92"
      ]
     },
     "metadata": {},
     "output_type": "display_data"
    },
    {
     "data": {
      "text/html": [
       "<pre>recommendations finished on 55000/202029 queries. users per second: 3074.49</pre>"
      ],
      "text/plain": [
       "recommendations finished on 55000/202029 queries. users per second: 3074.49"
      ]
     },
     "metadata": {},
     "output_type": "display_data"
    },
    {
     "data": {
      "text/html": [
       "<pre>recommendations finished on 56000/202029 queries. users per second: 3064.02</pre>"
      ],
      "text/plain": [
       "recommendations finished on 56000/202029 queries. users per second: 3064.02"
      ]
     },
     "metadata": {},
     "output_type": "display_data"
    },
    {
     "data": {
      "text/html": [
       "<pre>recommendations finished on 57000/202029 queries. users per second: 3067.55</pre>"
      ],
      "text/plain": [
       "recommendations finished on 57000/202029 queries. users per second: 3067.55"
      ]
     },
     "metadata": {},
     "output_type": "display_data"
    },
    {
     "data": {
      "text/html": [
       "<pre>recommendations finished on 58000/202029 queries. users per second: 3071.1</pre>"
      ],
      "text/plain": [
       "recommendations finished on 58000/202029 queries. users per second: 3071.1"
      ]
     },
     "metadata": {},
     "output_type": "display_data"
    },
    {
     "data": {
      "text/html": [
       "<pre>recommendations finished on 59000/202029 queries. users per second: 3060.75</pre>"
      ],
      "text/plain": [
       "recommendations finished on 59000/202029 queries. users per second: 3060.75"
      ]
     },
     "metadata": {},
     "output_type": "display_data"
    },
    {
     "data": {
      "text/html": [
       "<pre>recommendations finished on 60000/202029 queries. users per second: 3064.16</pre>"
      ],
      "text/plain": [
       "recommendations finished on 60000/202029 queries. users per second: 3064.16"
      ]
     },
     "metadata": {},
     "output_type": "display_data"
    },
    {
     "data": {
      "text/html": [
       "<pre>recommendations finished on 61000/202029 queries. users per second: 3067.56</pre>"
      ],
      "text/plain": [
       "recommendations finished on 61000/202029 queries. users per second: 3067.56"
      ]
     },
     "metadata": {},
     "output_type": "display_data"
    },
    {
     "data": {
      "text/html": [
       "<pre>recommendations finished on 62000/202029 queries. users per second: 3058</pre>"
      ],
      "text/plain": [
       "recommendations finished on 62000/202029 queries. users per second: 3058"
      ]
     },
     "metadata": {},
     "output_type": "display_data"
    },
    {
     "data": {
      "text/html": [
       "<pre>recommendations finished on 63000/202029 queries. users per second: 3061.6</pre>"
      ],
      "text/plain": [
       "recommendations finished on 63000/202029 queries. users per second: 3061.6"
      ]
     },
     "metadata": {},
     "output_type": "display_data"
    },
    {
     "data": {
      "text/html": [
       "<pre>recommendations finished on 64000/202029 queries. users per second: 3064.97</pre>"
      ],
      "text/plain": [
       "recommendations finished on 64000/202029 queries. users per second: 3064.97"
      ]
     },
     "metadata": {},
     "output_type": "display_data"
    },
    {
     "data": {
      "text/html": [
       "<pre>recommendations finished on 65000/202029 queries. users per second: 3068.34</pre>"
      ],
      "text/plain": [
       "recommendations finished on 65000/202029 queries. users per second: 3068.34"
      ]
     },
     "metadata": {},
     "output_type": "display_data"
    },
    {
     "data": {
      "text/html": [
       "<pre>recommendations finished on 66000/202029 queries. users per second: 3059.1</pre>"
      ],
      "text/plain": [
       "recommendations finished on 66000/202029 queries. users per second: 3059.1"
      ]
     },
     "metadata": {},
     "output_type": "display_data"
    },
    {
     "data": {
      "text/html": [
       "<pre>recommendations finished on 67000/202029 queries. users per second: 3062.39</pre>"
      ],
      "text/plain": [
       "recommendations finished on 67000/202029 queries. users per second: 3062.39"
      ]
     },
     "metadata": {},
     "output_type": "display_data"
    },
    {
     "data": {
      "text/html": [
       "<pre>recommendations finished on 68000/202029 queries. users per second: 3065.23</pre>"
      ],
      "text/plain": [
       "recommendations finished on 68000/202029 queries. users per second: 3065.23"
      ]
     },
     "metadata": {},
     "output_type": "display_data"
    },
    {
     "data": {
      "text/html": [
       "<pre>recommendations finished on 69000/202029 queries. users per second: 3056.12</pre>"
      ],
      "text/plain": [
       "recommendations finished on 69000/202029 queries. users per second: 3056.12"
      ]
     },
     "metadata": {},
     "output_type": "display_data"
    },
    {
     "data": {
      "text/html": [
       "<pre>recommendations finished on 70000/202029 queries. users per second: 3058.79</pre>"
      ],
      "text/plain": [
       "recommendations finished on 70000/202029 queries. users per second: 3058.79"
      ]
     },
     "metadata": {},
     "output_type": "display_data"
    },
    {
     "data": {
      "text/html": [
       "<pre>recommendations finished on 71000/202029 queries. users per second: 3050.14</pre>"
      ],
      "text/plain": [
       "recommendations finished on 71000/202029 queries. users per second: 3050.14"
      ]
     },
     "metadata": {},
     "output_type": "display_data"
    },
    {
     "data": {
      "text/html": [
       "<pre>recommendations finished on 72000/202029 queries. users per second: 3053.34</pre>"
      ],
      "text/plain": [
       "recommendations finished on 72000/202029 queries. users per second: 3053.34"
      ]
     },
     "metadata": {},
     "output_type": "display_data"
    },
    {
     "data": {
      "text/html": [
       "<pre>recommendations finished on 73000/202029 queries. users per second: 3056.3</pre>"
      ],
      "text/plain": [
       "recommendations finished on 73000/202029 queries. users per second: 3056.3"
      ]
     },
     "metadata": {},
     "output_type": "display_data"
    },
    {
     "data": {
      "text/html": [
       "<pre>recommendations finished on 74000/202029 queries. users per second: 3048.48</pre>"
      ],
      "text/plain": [
       "recommendations finished on 74000/202029 queries. users per second: 3048.48"
      ]
     },
     "metadata": {},
     "output_type": "display_data"
    },
    {
     "data": {
      "text/html": [
       "<pre>recommendations finished on 75000/202029 queries. users per second: 3051.49</pre>"
      ],
      "text/plain": [
       "recommendations finished on 75000/202029 queries. users per second: 3051.49"
      ]
     },
     "metadata": {},
     "output_type": "display_data"
    },
    {
     "data": {
      "text/html": [
       "<pre>recommendations finished on 76000/202029 queries. users per second: 3054.59</pre>"
      ],
      "text/plain": [
       "recommendations finished on 76000/202029 queries. users per second: 3054.59"
      ]
     },
     "metadata": {},
     "output_type": "display_data"
    },
    {
     "data": {
      "text/html": [
       "<pre>recommendations finished on 77000/202029 queries. users per second: 3057.69</pre>"
      ],
      "text/plain": [
       "recommendations finished on 77000/202029 queries. users per second: 3057.69"
      ]
     },
     "metadata": {},
     "output_type": "display_data"
    },
    {
     "data": {
      "text/html": [
       "<pre>recommendations finished on 78000/202029 queries. users per second: 3060.48</pre>"
      ],
      "text/plain": [
       "recommendations finished on 78000/202029 queries. users per second: 3060.48"
      ]
     },
     "metadata": {},
     "output_type": "display_data"
    },
    {
     "data": {
      "text/html": [
       "<pre>recommendations finished on 79000/202029 queries. users per second: 3052.91</pre>"
      ],
      "text/plain": [
       "recommendations finished on 79000/202029 queries. users per second: 3052.91"
      ]
     },
     "metadata": {},
     "output_type": "display_data"
    },
    {
     "data": {
      "text/html": [
       "<pre>recommendations finished on 80000/202029 queries. users per second: 3055.68</pre>"
      ],
      "text/plain": [
       "recommendations finished on 80000/202029 queries. users per second: 3055.68"
      ]
     },
     "metadata": {},
     "output_type": "display_data"
    },
    {
     "data": {
      "text/html": [
       "<pre>recommendations finished on 81000/202029 queries. users per second: 3058.38</pre>"
      ],
      "text/plain": [
       "recommendations finished on 81000/202029 queries. users per second: 3058.38"
      ]
     },
     "metadata": {},
     "output_type": "display_data"
    },
    {
     "data": {
      "text/html": [
       "<pre>recommendations finished on 82000/202029 queries. users per second: 3051.22</pre>"
      ],
      "text/plain": [
       "recommendations finished on 82000/202029 queries. users per second: 3051.22"
      ]
     },
     "metadata": {},
     "output_type": "display_data"
    },
    {
     "data": {
      "text/html": [
       "<pre>recommendations finished on 83000/202029 queries. users per second: 3054.04</pre>"
      ],
      "text/plain": [
       "recommendations finished on 83000/202029 queries. users per second: 3054.04"
      ]
     },
     "metadata": {},
     "output_type": "display_data"
    },
    {
     "data": {
      "text/html": [
       "<pre>recommendations finished on 84000/202029 queries. users per second: 3056.67</pre>"
      ],
      "text/plain": [
       "recommendations finished on 84000/202029 queries. users per second: 3056.67"
      ]
     },
     "metadata": {},
     "output_type": "display_data"
    },
    {
     "data": {
      "text/html": [
       "<pre>recommendations finished on 85000/202029 queries. users per second: 3059.3</pre>"
      ],
      "text/plain": [
       "recommendations finished on 85000/202029 queries. users per second: 3059.3"
      ]
     },
     "metadata": {},
     "output_type": "display_data"
    },
    {
     "data": {
      "text/html": [
       "<pre>recommendations finished on 86000/202029 queries. users per second: 3052.42</pre>"
      ],
      "text/plain": [
       "recommendations finished on 86000/202029 queries. users per second: 3052.42"
      ]
     },
     "metadata": {},
     "output_type": "display_data"
    },
    {
     "data": {
      "text/html": [
       "<pre>recommendations finished on 87000/202029 queries. users per second: 3055.04</pre>"
      ],
      "text/plain": [
       "recommendations finished on 87000/202029 queries. users per second: 3055.04"
      ]
     },
     "metadata": {},
     "output_type": "display_data"
    },
    {
     "data": {
      "text/html": [
       "<pre>recommendations finished on 88000/202029 queries. users per second: 3057.66</pre>"
      ],
      "text/plain": [
       "recommendations finished on 88000/202029 queries. users per second: 3057.66"
      ]
     },
     "metadata": {},
     "output_type": "display_data"
    },
    {
     "data": {
      "text/html": [
       "<pre>recommendations finished on 89000/202029 queries. users per second: 3060.08</pre>"
      ],
      "text/plain": [
       "recommendations finished on 89000/202029 queries. users per second: 3060.08"
      ]
     },
     "metadata": {},
     "output_type": "display_data"
    },
    {
     "data": {
      "text/html": [
       "<pre>recommendations finished on 90000/202029 queries. users per second: 3062.46</pre>"
      ],
      "text/plain": [
       "recommendations finished on 90000/202029 queries. users per second: 3062.46"
      ]
     },
     "metadata": {},
     "output_type": "display_data"
    },
    {
     "data": {
      "text/html": [
       "<pre>recommendations finished on 91000/202029 queries. users per second: 3056.17</pre>"
      ],
      "text/plain": [
       "recommendations finished on 91000/202029 queries. users per second: 3056.17"
      ]
     },
     "metadata": {},
     "output_type": "display_data"
    },
    {
     "data": {
      "text/html": [
       "<pre>recommendations finished on 92000/202029 queries. users per second: 3058.67</pre>"
      ],
      "text/plain": [
       "recommendations finished on 92000/202029 queries. users per second: 3058.67"
      ]
     },
     "metadata": {},
     "output_type": "display_data"
    },
    {
     "data": {
      "text/html": [
       "<pre>recommendations finished on 93000/202029 queries. users per second: 3061.24</pre>"
      ],
      "text/plain": [
       "recommendations finished on 93000/202029 queries. users per second: 3061.24"
      ]
     },
     "metadata": {},
     "output_type": "display_data"
    },
    {
     "data": {
      "text/html": [
       "<pre>recommendations finished on 94000/202029 queries. users per second: 3063.65</pre>"
      ],
      "text/plain": [
       "recommendations finished on 94000/202029 queries. users per second: 3063.65"
      ]
     },
     "metadata": {},
     "output_type": "display_data"
    },
    {
     "data": {
      "text/html": [
       "<pre>recommendations finished on 95000/202029 queries. users per second: 3066.08</pre>"
      ],
      "text/plain": [
       "recommendations finished on 95000/202029 queries. users per second: 3066.08"
      ]
     },
     "metadata": {},
     "output_type": "display_data"
    },
    {
     "data": {
      "text/html": [
       "<pre>recommendations finished on 96000/202029 queries. users per second: 3068.42</pre>"
      ],
      "text/plain": [
       "recommendations finished on 96000/202029 queries. users per second: 3068.42"
      ]
     },
     "metadata": {},
     "output_type": "display_data"
    },
    {
     "data": {
      "text/html": [
       "<pre>recommendations finished on 97000/202029 queries. users per second: 3062.3</pre>"
      ],
      "text/plain": [
       "recommendations finished on 97000/202029 queries. users per second: 3062.3"
      ]
     },
     "metadata": {},
     "output_type": "display_data"
    },
    {
     "data": {
      "text/html": [
       "<pre>recommendations finished on 98000/202029 queries. users per second: 3064.56</pre>"
      ],
      "text/plain": [
       "recommendations finished on 98000/202029 queries. users per second: 3064.56"
      ]
     },
     "metadata": {},
     "output_type": "display_data"
    },
    {
     "data": {
      "text/html": [
       "<pre>recommendations finished on 99000/202029 queries. users per second: 3066.68</pre>"
      ],
      "text/plain": [
       "recommendations finished on 99000/202029 queries. users per second: 3066.68"
      ]
     },
     "metadata": {},
     "output_type": "display_data"
    },
    {
     "data": {
      "text/html": [
       "<pre>recommendations finished on 100000/202029 queries. users per second: 3068.82</pre>"
      ],
      "text/plain": [
       "recommendations finished on 100000/202029 queries. users per second: 3068.82"
      ]
     },
     "metadata": {},
     "output_type": "display_data"
    },
    {
     "data": {
      "text/html": [
       "<pre>recommendations finished on 101000/202029 queries. users per second: 3062.92</pre>"
      ],
      "text/plain": [
       "recommendations finished on 101000/202029 queries. users per second: 3062.92"
      ]
     },
     "metadata": {},
     "output_type": "display_data"
    },
    {
     "data": {
      "text/html": [
       "<pre>recommendations finished on 102000/202029 queries. users per second: 3065.09</pre>"
      ],
      "text/plain": [
       "recommendations finished on 102000/202029 queries. users per second: 3065.09"
      ]
     },
     "metadata": {},
     "output_type": "display_data"
    },
    {
     "data": {
      "text/html": [
       "<pre>recommendations finished on 103000/202029 queries. users per second: 3067.13</pre>"
      ],
      "text/plain": [
       "recommendations finished on 103000/202029 queries. users per second: 3067.13"
      ]
     },
     "metadata": {},
     "output_type": "display_data"
    },
    {
     "data": {
      "text/html": [
       "<pre>recommendations finished on 104000/202029 queries. users per second: 3069.17</pre>"
      ],
      "text/plain": [
       "recommendations finished on 104000/202029 queries. users per second: 3069.17"
      ]
     },
     "metadata": {},
     "output_type": "display_data"
    },
    {
     "data": {
      "text/html": [
       "<pre>recommendations finished on 105000/202029 queries. users per second: 3063.53</pre>"
      ],
      "text/plain": [
       "recommendations finished on 105000/202029 queries. users per second: 3063.53"
      ]
     },
     "metadata": {},
     "output_type": "display_data"
    },
    {
     "data": {
      "text/html": [
       "<pre>recommendations finished on 106000/202029 queries. users per second: 3065.6</pre>"
      ],
      "text/plain": [
       "recommendations finished on 106000/202029 queries. users per second: 3065.6"
      ]
     },
     "metadata": {},
     "output_type": "display_data"
    },
    {
     "data": {
      "text/html": [
       "<pre>recommendations finished on 107000/202029 queries. users per second: 3067.79</pre>"
      ],
      "text/plain": [
       "recommendations finished on 107000/202029 queries. users per second: 3067.79"
      ]
     },
     "metadata": {},
     "output_type": "display_data"
    },
    {
     "data": {
      "text/html": [
       "<pre>recommendations finished on 108000/202029 queries. users per second: 3069.85</pre>"
      ],
      "text/plain": [
       "recommendations finished on 108000/202029 queries. users per second: 3069.85"
      ]
     },
     "metadata": {},
     "output_type": "display_data"
    },
    {
     "data": {
      "text/html": [
       "<pre>recommendations finished on 109000/202029 queries. users per second: 3071.87</pre>"
      ],
      "text/plain": [
       "recommendations finished on 109000/202029 queries. users per second: 3071.87"
      ]
     },
     "metadata": {},
     "output_type": "display_data"
    },
    {
     "data": {
      "text/html": [
       "<pre>recommendations finished on 110000/202029 queries. users per second: 3073.84</pre>"
      ],
      "text/plain": [
       "recommendations finished on 110000/202029 queries. users per second: 3073.84"
      ]
     },
     "metadata": {},
     "output_type": "display_data"
    },
    {
     "data": {
      "text/html": [
       "<pre>recommendations finished on 111000/202029 queries. users per second: 3068.36</pre>"
      ],
      "text/plain": [
       "recommendations finished on 111000/202029 queries. users per second: 3068.36"
      ]
     },
     "metadata": {},
     "output_type": "display_data"
    },
    {
     "data": {
      "text/html": [
       "<pre>recommendations finished on 112000/202029 queries. users per second: 3070.36</pre>"
      ],
      "text/plain": [
       "recommendations finished on 112000/202029 queries. users per second: 3070.36"
      ]
     },
     "metadata": {},
     "output_type": "display_data"
    },
    {
     "data": {
      "text/html": [
       "<pre>recommendations finished on 113000/202029 queries. users per second: 3072.27</pre>"
      ],
      "text/plain": [
       "recommendations finished on 113000/202029 queries. users per second: 3072.27"
      ]
     },
     "metadata": {},
     "output_type": "display_data"
    },
    {
     "data": {
      "text/html": [
       "<pre>recommendations finished on 114000/202029 queries. users per second: 3074.08</pre>"
      ],
      "text/plain": [
       "recommendations finished on 114000/202029 queries. users per second: 3074.08"
      ]
     },
     "metadata": {},
     "output_type": "display_data"
    },
    {
     "data": {
      "text/html": [
       "<pre>recommendations finished on 115000/202029 queries. users per second: 3075.65</pre>"
      ],
      "text/plain": [
       "recommendations finished on 115000/202029 queries. users per second: 3075.65"
      ]
     },
     "metadata": {},
     "output_type": "display_data"
    },
    {
     "data": {
      "text/html": [
       "<pre>recommendations finished on 116000/202029 queries. users per second: 3070.6</pre>"
      ],
      "text/plain": [
       "recommendations finished on 116000/202029 queries. users per second: 3070.6"
      ]
     },
     "metadata": {},
     "output_type": "display_data"
    },
    {
     "data": {
      "text/html": [
       "<pre>recommendations finished on 117000/202029 queries. users per second: 3072.41</pre>"
      ],
      "text/plain": [
       "recommendations finished on 117000/202029 queries. users per second: 3072.41"
      ]
     },
     "metadata": {},
     "output_type": "display_data"
    },
    {
     "data": {
      "text/html": [
       "<pre>recommendations finished on 118000/202029 queries. users per second: 3074.12</pre>"
      ],
      "text/plain": [
       "recommendations finished on 118000/202029 queries. users per second: 3074.12"
      ]
     },
     "metadata": {},
     "output_type": "display_data"
    },
    {
     "data": {
      "text/html": [
       "<pre>recommendations finished on 119000/202029 queries. users per second: 3068.8</pre>"
      ],
      "text/plain": [
       "recommendations finished on 119000/202029 queries. users per second: 3068.8"
      ]
     },
     "metadata": {},
     "output_type": "display_data"
    },
    {
     "data": {
      "text/html": [
       "<pre>recommendations finished on 120000/202029 queries. users per second: 3070.56</pre>"
      ],
      "text/plain": [
       "recommendations finished on 120000/202029 queries. users per second: 3070.56"
      ]
     },
     "metadata": {},
     "output_type": "display_data"
    },
    {
     "data": {
      "text/html": [
       "<pre>recommendations finished on 121000/202029 queries. users per second: 3072.31</pre>"
      ],
      "text/plain": [
       "recommendations finished on 121000/202029 queries. users per second: 3072.31"
      ]
     },
     "metadata": {},
     "output_type": "display_data"
    },
    {
     "data": {
      "text/html": [
       "<pre>recommendations finished on 122000/202029 queries. users per second: 3073.93</pre>"
      ],
      "text/plain": [
       "recommendations finished on 122000/202029 queries. users per second: 3073.93"
      ]
     },
     "metadata": {},
     "output_type": "display_data"
    },
    {
     "data": {
      "text/html": [
       "<pre>recommendations finished on 123000/202029 queries. users per second: 3069.15</pre>"
      ],
      "text/plain": [
       "recommendations finished on 123000/202029 queries. users per second: 3069.15"
      ]
     },
     "metadata": {},
     "output_type": "display_data"
    },
    {
     "data": {
      "text/html": [
       "<pre>recommendations finished on 124000/202029 queries. users per second: 3070.98</pre>"
      ],
      "text/plain": [
       "recommendations finished on 124000/202029 queries. users per second: 3070.98"
      ]
     },
     "metadata": {},
     "output_type": "display_data"
    },
    {
     "data": {
      "text/html": [
       "<pre>recommendations finished on 125000/202029 queries. users per second: 3072.58</pre>"
      ],
      "text/plain": [
       "recommendations finished on 125000/202029 queries. users per second: 3072.58"
      ]
     },
     "metadata": {},
     "output_type": "display_data"
    },
    {
     "data": {
      "text/html": [
       "<pre>recommendations finished on 126000/202029 queries. users per second: 3074.31</pre>"
      ],
      "text/plain": [
       "recommendations finished on 126000/202029 queries. users per second: 3074.31"
      ]
     },
     "metadata": {},
     "output_type": "display_data"
    },
    {
     "data": {
      "text/html": [
       "<pre>recommendations finished on 127000/202029 queries. users per second: 3075.97</pre>"
      ],
      "text/plain": [
       "recommendations finished on 127000/202029 queries. users per second: 3075.97"
      ]
     },
     "metadata": {},
     "output_type": "display_data"
    },
    {
     "data": {
      "text/html": [
       "<pre>recommendations finished on 128000/202029 queries. users per second: 3071.42</pre>"
      ],
      "text/plain": [
       "recommendations finished on 128000/202029 queries. users per second: 3071.42"
      ]
     },
     "metadata": {},
     "output_type": "display_data"
    },
    {
     "data": {
      "text/html": [
       "<pre>recommendations finished on 129000/202029 queries. users per second: 3073.12</pre>"
      ],
      "text/plain": [
       "recommendations finished on 129000/202029 queries. users per second: 3073.12"
      ]
     },
     "metadata": {},
     "output_type": "display_data"
    },
    {
     "data": {
      "text/html": [
       "<pre>recommendations finished on 130000/202029 queries. users per second: 3074.69</pre>"
      ],
      "text/plain": [
       "recommendations finished on 130000/202029 queries. users per second: 3074.69"
      ]
     },
     "metadata": {},
     "output_type": "display_data"
    },
    {
     "data": {
      "text/html": [
       "<pre>recommendations finished on 131000/202029 queries. users per second: 3076.3</pre>"
      ],
      "text/plain": [
       "recommendations finished on 131000/202029 queries. users per second: 3076.3"
      ]
     },
     "metadata": {},
     "output_type": "display_data"
    },
    {
     "data": {
      "text/html": [
       "<pre>recommendations finished on 132000/202029 queries. users per second: 3077.97</pre>"
      ],
      "text/plain": [
       "recommendations finished on 132000/202029 queries. users per second: 3077.97"
      ]
     },
     "metadata": {},
     "output_type": "display_data"
    },
    {
     "data": {
      "text/html": [
       "<pre>recommendations finished on 133000/202029 queries. users per second: 3073.36</pre>"
      ],
      "text/plain": [
       "recommendations finished on 133000/202029 queries. users per second: 3073.36"
      ]
     },
     "metadata": {},
     "output_type": "display_data"
    },
    {
     "data": {
      "text/html": [
       "<pre>recommendations finished on 134000/202029 queries. users per second: 3074.79</pre>"
      ],
      "text/plain": [
       "recommendations finished on 134000/202029 queries. users per second: 3074.79"
      ]
     },
     "metadata": {},
     "output_type": "display_data"
    },
    {
     "data": {
      "text/html": [
       "<pre>recommendations finished on 135000/202029 queries. users per second: 3076.33</pre>"
      ],
      "text/plain": [
       "recommendations finished on 135000/202029 queries. users per second: 3076.33"
      ]
     },
     "metadata": {},
     "output_type": "display_data"
    },
    {
     "data": {
      "text/html": [
       "<pre>recommendations finished on 136000/202029 queries. users per second: 3071.67</pre>"
      ],
      "text/plain": [
       "recommendations finished on 136000/202029 queries. users per second: 3071.67"
      ]
     },
     "metadata": {},
     "output_type": "display_data"
    },
    {
     "data": {
      "text/html": [
       "<pre>recommendations finished on 137000/202029 queries. users per second: 3073.07</pre>"
      ],
      "text/plain": [
       "recommendations finished on 137000/202029 queries. users per second: 3073.07"
      ]
     },
     "metadata": {},
     "output_type": "display_data"
    },
    {
     "data": {
      "text/html": [
       "<pre>recommendations finished on 138000/202029 queries. users per second: 3068.42</pre>"
      ],
      "text/plain": [
       "recommendations finished on 138000/202029 queries. users per second: 3068.42"
      ]
     },
     "metadata": {},
     "output_type": "display_data"
    },
    {
     "data": {
      "text/html": [
       "<pre>recommendations finished on 139000/202029 queries. users per second: 3069.75</pre>"
      ],
      "text/plain": [
       "recommendations finished on 139000/202029 queries. users per second: 3069.75"
      ]
     },
     "metadata": {},
     "output_type": "display_data"
    },
    {
     "data": {
      "text/html": [
       "<pre>recommendations finished on 140000/202029 queries. users per second: 3065.05</pre>"
      ],
      "text/plain": [
       "recommendations finished on 140000/202029 queries. users per second: 3065.05"
      ]
     },
     "metadata": {},
     "output_type": "display_data"
    },
    {
     "data": {
      "text/html": [
       "<pre>recommendations finished on 141000/202029 queries. users per second: 3066.66</pre>"
      ],
      "text/plain": [
       "recommendations finished on 141000/202029 queries. users per second: 3066.66"
      ]
     },
     "metadata": {},
     "output_type": "display_data"
    },
    {
     "data": {
      "text/html": [
       "<pre>recommendations finished on 142000/202029 queries. users per second: 3068.22</pre>"
      ],
      "text/plain": [
       "recommendations finished on 142000/202029 queries. users per second: 3068.22"
      ]
     },
     "metadata": {},
     "output_type": "display_data"
    },
    {
     "data": {
      "text/html": [
       "<pre>recommendations finished on 143000/202029 queries. users per second: 3069.71</pre>"
      ],
      "text/plain": [
       "recommendations finished on 143000/202029 queries. users per second: 3069.71"
      ]
     },
     "metadata": {},
     "output_type": "display_data"
    },
    {
     "data": {
      "text/html": [
       "<pre>recommendations finished on 144000/202029 queries. users per second: 3071.22</pre>"
      ],
      "text/plain": [
       "recommendations finished on 144000/202029 queries. users per second: 3071.22"
      ]
     },
     "metadata": {},
     "output_type": "display_data"
    },
    {
     "data": {
      "text/html": [
       "<pre>recommendations finished on 145000/202029 queries. users per second: 3067.14</pre>"
      ],
      "text/plain": [
       "recommendations finished on 145000/202029 queries. users per second: 3067.14"
      ]
     },
     "metadata": {},
     "output_type": "display_data"
    },
    {
     "data": {
      "text/html": [
       "<pre>recommendations finished on 146000/202029 queries. users per second: 3068.61</pre>"
      ],
      "text/plain": [
       "recommendations finished on 146000/202029 queries. users per second: 3068.61"
      ]
     },
     "metadata": {},
     "output_type": "display_data"
    },
    {
     "data": {
      "text/html": [
       "<pre>recommendations finished on 147000/202029 queries. users per second: 3070.07</pre>"
      ],
      "text/plain": [
       "recommendations finished on 147000/202029 queries. users per second: 3070.07"
      ]
     },
     "metadata": {},
     "output_type": "display_data"
    },
    {
     "data": {
      "text/html": [
       "<pre>recommendations finished on 148000/202029 queries. users per second: 3071.59</pre>"
      ],
      "text/plain": [
       "recommendations finished on 148000/202029 queries. users per second: 3071.59"
      ]
     },
     "metadata": {},
     "output_type": "display_data"
    },
    {
     "data": {
      "text/html": [
       "<pre>recommendations finished on 149000/202029 queries. users per second: 3072.97</pre>"
      ],
      "text/plain": [
       "recommendations finished on 149000/202029 queries. users per second: 3072.97"
      ]
     },
     "metadata": {},
     "output_type": "display_data"
    },
    {
     "data": {
      "text/html": [
       "<pre>recommendations finished on 150000/202029 queries. users per second: 3068.88</pre>"
      ],
      "text/plain": [
       "recommendations finished on 150000/202029 queries. users per second: 3068.88"
      ]
     },
     "metadata": {},
     "output_type": "display_data"
    },
    {
     "data": {
      "text/html": [
       "<pre>recommendations finished on 151000/202029 queries. users per second: 3070.38</pre>"
      ],
      "text/plain": [
       "recommendations finished on 151000/202029 queries. users per second: 3070.38"
      ]
     },
     "metadata": {},
     "output_type": "display_data"
    },
    {
     "data": {
      "text/html": [
       "<pre>recommendations finished on 152000/202029 queries. users per second: 3071.72</pre>"
      ],
      "text/plain": [
       "recommendations finished on 152000/202029 queries. users per second: 3071.72"
      ]
     },
     "metadata": {},
     "output_type": "display_data"
    },
    {
     "data": {
      "text/html": [
       "<pre>recommendations finished on 153000/202029 queries. users per second: 3073.06</pre>"
      ],
      "text/plain": [
       "recommendations finished on 153000/202029 queries. users per second: 3073.06"
      ]
     },
     "metadata": {},
     "output_type": "display_data"
    },
    {
     "data": {
      "text/html": [
       "<pre>recommendations finished on 154000/202029 queries. users per second: 3069.06</pre>"
      ],
      "text/plain": [
       "recommendations finished on 154000/202029 queries. users per second: 3069.06"
      ]
     },
     "metadata": {},
     "output_type": "display_data"
    },
    {
     "data": {
      "text/html": [
       "<pre>recommendations finished on 155000/202029 queries. users per second: 3070.35</pre>"
      ],
      "text/plain": [
       "recommendations finished on 155000/202029 queries. users per second: 3070.35"
      ]
     },
     "metadata": {},
     "output_type": "display_data"
    },
    {
     "data": {
      "text/html": [
       "<pre>recommendations finished on 156000/202029 queries. users per second: 3066.39</pre>"
      ],
      "text/plain": [
       "recommendations finished on 156000/202029 queries. users per second: 3066.39"
      ]
     },
     "metadata": {},
     "output_type": "display_data"
    },
    {
     "data": {
      "text/html": [
       "<pre>recommendations finished on 157000/202029 queries. users per second: 3067.38</pre>"
      ],
      "text/plain": [
       "recommendations finished on 157000/202029 queries. users per second: 3067.38"
      ]
     },
     "metadata": {},
     "output_type": "display_data"
    },
    {
     "data": {
      "text/html": [
       "<pre>recommendations finished on 158000/202029 queries. users per second: 3063.41</pre>"
      ],
      "text/plain": [
       "recommendations finished on 158000/202029 queries. users per second: 3063.41"
      ]
     },
     "metadata": {},
     "output_type": "display_data"
    },
    {
     "data": {
      "text/html": [
       "<pre>recommendations finished on 159000/202029 queries. users per second: 3064.6</pre>"
      ],
      "text/plain": [
       "recommendations finished on 159000/202029 queries. users per second: 3064.6"
      ]
     },
     "metadata": {},
     "output_type": "display_data"
    },
    {
     "data": {
      "text/html": [
       "<pre>recommendations finished on 160000/202029 queries. users per second: 3060.74</pre>"
      ],
      "text/plain": [
       "recommendations finished on 160000/202029 queries. users per second: 3060.74"
      ]
     },
     "metadata": {},
     "output_type": "display_data"
    },
    {
     "data": {
      "text/html": [
       "<pre>recommendations finished on 161000/202029 queries. users per second: 3062.15</pre>"
      ],
      "text/plain": [
       "recommendations finished on 161000/202029 queries. users per second: 3062.15"
      ]
     },
     "metadata": {},
     "output_type": "display_data"
    },
    {
     "data": {
      "text/html": [
       "<pre>recommendations finished on 162000/202029 queries. users per second: 3063.48</pre>"
      ],
      "text/plain": [
       "recommendations finished on 162000/202029 queries. users per second: 3063.48"
      ]
     },
     "metadata": {},
     "output_type": "display_data"
    },
    {
     "data": {
      "text/html": [
       "<pre>recommendations finished on 163000/202029 queries. users per second: 3064.83</pre>"
      ],
      "text/plain": [
       "recommendations finished on 163000/202029 queries. users per second: 3064.83"
      ]
     },
     "metadata": {},
     "output_type": "display_data"
    },
    {
     "data": {
      "text/html": [
       "<pre>recommendations finished on 164000/202029 queries. users per second: 3066.22</pre>"
      ],
      "text/plain": [
       "recommendations finished on 164000/202029 queries. users per second: 3066.22"
      ]
     },
     "metadata": {},
     "output_type": "display_data"
    },
    {
     "data": {
      "text/html": [
       "<pre>recommendations finished on 165000/202029 queries. users per second: 3067.71</pre>"
      ],
      "text/plain": [
       "recommendations finished on 165000/202029 queries. users per second: 3067.71"
      ]
     },
     "metadata": {},
     "output_type": "display_data"
    },
    {
     "data": {
      "text/html": [
       "<pre>recommendations finished on 166000/202029 queries. users per second: 3064.17</pre>"
      ],
      "text/plain": [
       "recommendations finished on 166000/202029 queries. users per second: 3064.17"
      ]
     },
     "metadata": {},
     "output_type": "display_data"
    },
    {
     "data": {
      "text/html": [
       "<pre>recommendations finished on 167000/202029 queries. users per second: 3065.51</pre>"
      ],
      "text/plain": [
       "recommendations finished on 167000/202029 queries. users per second: 3065.51"
      ]
     },
     "metadata": {},
     "output_type": "display_data"
    },
    {
     "data": {
      "text/html": [
       "<pre>recommendations finished on 168000/202029 queries. users per second: 3066.77</pre>"
      ],
      "text/plain": [
       "recommendations finished on 168000/202029 queries. users per second: 3066.77"
      ]
     },
     "metadata": {},
     "output_type": "display_data"
    },
    {
     "data": {
      "text/html": [
       "<pre>recommendations finished on 169000/202029 queries. users per second: 3068.05</pre>"
      ],
      "text/plain": [
       "recommendations finished on 169000/202029 queries. users per second: 3068.05"
      ]
     },
     "metadata": {},
     "output_type": "display_data"
    },
    {
     "data": {
      "text/html": [
       "<pre>recommendations finished on 170000/202029 queries. users per second: 3064.48</pre>"
      ],
      "text/plain": [
       "recommendations finished on 170000/202029 queries. users per second: 3064.48"
      ]
     },
     "metadata": {},
     "output_type": "display_data"
    },
    {
     "data": {
      "text/html": [
       "<pre>recommendations finished on 171000/202029 queries. users per second: 3065.75</pre>"
      ],
      "text/plain": [
       "recommendations finished on 171000/202029 queries. users per second: 3065.75"
      ]
     },
     "metadata": {},
     "output_type": "display_data"
    },
    {
     "data": {
      "text/html": [
       "<pre>recommendations finished on 172000/202029 queries. users per second: 3066.96</pre>"
      ],
      "text/plain": [
       "recommendations finished on 172000/202029 queries. users per second: 3066.96"
      ]
     },
     "metadata": {},
     "output_type": "display_data"
    },
    {
     "data": {
      "text/html": [
       "<pre>recommendations finished on 173000/202029 queries. users per second: 3068.18</pre>"
      ],
      "text/plain": [
       "recommendations finished on 173000/202029 queries. users per second: 3068.18"
      ]
     },
     "metadata": {},
     "output_type": "display_data"
    },
    {
     "data": {
      "text/html": [
       "<pre>recommendations finished on 174000/202029 queries. users per second: 3064.68</pre>"
      ],
      "text/plain": [
       "recommendations finished on 174000/202029 queries. users per second: 3064.68"
      ]
     },
     "metadata": {},
     "output_type": "display_data"
    },
    {
     "data": {
      "text/html": [
       "<pre>recommendations finished on 175000/202029 queries. users per second: 3065.91</pre>"
      ],
      "text/plain": [
       "recommendations finished on 175000/202029 queries. users per second: 3065.91"
      ]
     },
     "metadata": {},
     "output_type": "display_data"
    },
    {
     "data": {
      "text/html": [
       "<pre>recommendations finished on 176000/202029 queries. users per second: 3067.02</pre>"
      ],
      "text/plain": [
       "recommendations finished on 176000/202029 queries. users per second: 3067.02"
      ]
     },
     "metadata": {},
     "output_type": "display_data"
    },
    {
     "data": {
      "text/html": [
       "<pre>recommendations finished on 177000/202029 queries. users per second: 3063.53</pre>"
      ],
      "text/plain": [
       "recommendations finished on 177000/202029 queries. users per second: 3063.53"
      ]
     },
     "metadata": {},
     "output_type": "display_data"
    },
    {
     "data": {
      "text/html": [
       "<pre>recommendations finished on 178000/202029 queries. users per second: 3064.68</pre>"
      ],
      "text/plain": [
       "recommendations finished on 178000/202029 queries. users per second: 3064.68"
      ]
     },
     "metadata": {},
     "output_type": "display_data"
    },
    {
     "data": {
      "text/html": [
       "<pre>recommendations finished on 179000/202029 queries. users per second: 3065.73</pre>"
      ],
      "text/plain": [
       "recommendations finished on 179000/202029 queries. users per second: 3065.73"
      ]
     },
     "metadata": {},
     "output_type": "display_data"
    },
    {
     "data": {
      "text/html": [
       "<pre>recommendations finished on 180000/202029 queries. users per second: 3062.33</pre>"
      ],
      "text/plain": [
       "recommendations finished on 180000/202029 queries. users per second: 3062.33"
      ]
     },
     "metadata": {},
     "output_type": "display_data"
    },
    {
     "data": {
      "text/html": [
       "<pre>recommendations finished on 181000/202029 queries. users per second: 3063.45</pre>"
      ],
      "text/plain": [
       "recommendations finished on 181000/202029 queries. users per second: 3063.45"
      ]
     },
     "metadata": {},
     "output_type": "display_data"
    },
    {
     "data": {
      "text/html": [
       "<pre>recommendations finished on 182000/202029 queries. users per second: 3059.96</pre>"
      ],
      "text/plain": [
       "recommendations finished on 182000/202029 queries. users per second: 3059.96"
      ]
     },
     "metadata": {},
     "output_type": "display_data"
    },
    {
     "data": {
      "text/html": [
       "<pre>recommendations finished on 183000/202029 queries. users per second: 3060.99</pre>"
      ],
      "text/plain": [
       "recommendations finished on 183000/202029 queries. users per second: 3060.99"
      ]
     },
     "metadata": {},
     "output_type": "display_data"
    },
    {
     "data": {
      "text/html": [
       "<pre>recommendations finished on 184000/202029 queries. users per second: 3057.66</pre>"
      ],
      "text/plain": [
       "recommendations finished on 184000/202029 queries. users per second: 3057.66"
      ]
     },
     "metadata": {},
     "output_type": "display_data"
    },
    {
     "data": {
      "text/html": [
       "<pre>recommendations finished on 185000/202029 queries. users per second: 3058.67</pre>"
      ],
      "text/plain": [
       "recommendations finished on 185000/202029 queries. users per second: 3058.67"
      ]
     },
     "metadata": {},
     "output_type": "display_data"
    },
    {
     "data": {
      "text/html": [
       "<pre>recommendations finished on 186000/202029 queries. users per second: 3055.48</pre>"
      ],
      "text/plain": [
       "recommendations finished on 186000/202029 queries. users per second: 3055.48"
      ]
     },
     "metadata": {},
     "output_type": "display_data"
    },
    {
     "data": {
      "text/html": [
       "<pre>recommendations finished on 187000/202029 queries. users per second: 3056.65</pre>"
      ],
      "text/plain": [
       "recommendations finished on 187000/202029 queries. users per second: 3056.65"
      ]
     },
     "metadata": {},
     "output_type": "display_data"
    },
    {
     "data": {
      "text/html": [
       "<pre>recommendations finished on 188000/202029 queries. users per second: 3057.79</pre>"
      ],
      "text/plain": [
       "recommendations finished on 188000/202029 queries. users per second: 3057.79"
      ]
     },
     "metadata": {},
     "output_type": "display_data"
    },
    {
     "data": {
      "text/html": [
       "<pre>recommendations finished on 189000/202029 queries. users per second: 3058.95</pre>"
      ],
      "text/plain": [
       "recommendations finished on 189000/202029 queries. users per second: 3058.95"
      ]
     },
     "metadata": {},
     "output_type": "display_data"
    },
    {
     "data": {
      "text/html": [
       "<pre>recommendations finished on 190000/202029 queries. users per second: 3055.94</pre>"
      ],
      "text/plain": [
       "recommendations finished on 190000/202029 queries. users per second: 3055.94"
      ]
     },
     "metadata": {},
     "output_type": "display_data"
    },
    {
     "data": {
      "text/html": [
       "<pre>recommendations finished on 191000/202029 queries. users per second: 3057.14</pre>"
      ],
      "text/plain": [
       "recommendations finished on 191000/202029 queries. users per second: 3057.14"
      ]
     },
     "metadata": {},
     "output_type": "display_data"
    },
    {
     "data": {
      "text/html": [
       "<pre>recommendations finished on 192000/202029 queries. users per second: 3058.33</pre>"
      ],
      "text/plain": [
       "recommendations finished on 192000/202029 queries. users per second: 3058.33"
      ]
     },
     "metadata": {},
     "output_type": "display_data"
    },
    {
     "data": {
      "text/html": [
       "<pre>recommendations finished on 193000/202029 queries. users per second: 3059.59</pre>"
      ],
      "text/plain": [
       "recommendations finished on 193000/202029 queries. users per second: 3059.59"
      ]
     },
     "metadata": {},
     "output_type": "display_data"
    },
    {
     "data": {
      "text/html": [
       "<pre>recommendations finished on 194000/202029 queries. users per second: 3060.75</pre>"
      ],
      "text/plain": [
       "recommendations finished on 194000/202029 queries. users per second: 3060.75"
      ]
     },
     "metadata": {},
     "output_type": "display_data"
    },
    {
     "data": {
      "text/html": [
       "<pre>recommendations finished on 195000/202029 queries. users per second: 3061.94</pre>"
      ],
      "text/plain": [
       "recommendations finished on 195000/202029 queries. users per second: 3061.94"
      ]
     },
     "metadata": {},
     "output_type": "display_data"
    },
    {
     "data": {
      "text/html": [
       "<pre>recommendations finished on 196000/202029 queries. users per second: 3058.88</pre>"
      ],
      "text/plain": [
       "recommendations finished on 196000/202029 queries. users per second: 3058.88"
      ]
     },
     "metadata": {},
     "output_type": "display_data"
    },
    {
     "data": {
      "text/html": [
       "<pre>recommendations finished on 197000/202029 queries. users per second: 3060.07</pre>"
      ],
      "text/plain": [
       "recommendations finished on 197000/202029 queries. users per second: 3060.07"
      ]
     },
     "metadata": {},
     "output_type": "display_data"
    },
    {
     "data": {
      "text/html": [
       "<pre>recommendations finished on 198000/202029 queries. users per second: 3061.17</pre>"
      ],
      "text/plain": [
       "recommendations finished on 198000/202029 queries. users per second: 3061.17"
      ]
     },
     "metadata": {},
     "output_type": "display_data"
    },
    {
     "data": {
      "text/html": [
       "<pre>recommendations finished on 199000/202029 queries. users per second: 3062.4</pre>"
      ],
      "text/plain": [
       "recommendations finished on 199000/202029 queries. users per second: 3062.4"
      ]
     },
     "metadata": {},
     "output_type": "display_data"
    },
    {
     "data": {
      "text/html": [
       "<pre>recommendations finished on 200000/202029 queries. users per second: 3063.6</pre>"
      ],
      "text/plain": [
       "recommendations finished on 200000/202029 queries. users per second: 3063.6"
      ]
     },
     "metadata": {},
     "output_type": "display_data"
    },
    {
     "data": {
      "text/html": [
       "<pre>recommendations finished on 201000/202029 queries. users per second: 3065</pre>"
      ],
      "text/plain": [
       "recommendations finished on 201000/202029 queries. users per second: 3065"
      ]
     },
     "metadata": {},
     "output_type": "display_data"
    },
    {
     "data": {
      "text/html": [
       "<pre>recommendations finished on 202000/202029 queries. users per second: 3066.7</pre>"
      ],
      "text/plain": [
       "recommendations finished on 202000/202029 queries. users per second: 3066.7"
      ]
     },
     "metadata": {},
     "output_type": "display_data"
    },
    {
     "name": "stdout",
     "output_type": "stream",
     "text": [
      "\n",
      "Precision and recall summary statistics by cutoff\n",
      "+--------+-------------------+-------------------+\n",
      "| cutoff |   mean_precision  |    mean_recall    |\n",
      "+--------+-------------------+-------------------+\n",
      "|   1    |        0.0        |        0.0        |\n",
      "|   2    | 7.42467665533e-06 | 1.18588585467e-06 |\n",
      "|   3    | 6.59971258252e-06 | 1.53944188588e-06 |\n",
      "|   4    | 6.18723054611e-06 | 2.03442032957e-06 |\n",
      "|   5    | 4.94978443689e-06 | 2.03442032957e-06 |\n",
      "|   6    |  5.7747485097e-06 | 2.55221692846e-06 |\n",
      "|   7    | 6.36400856171e-06 | 2.93647650975e-06 |\n",
      "|   8    |  5.5685074915e-06 | 2.93647650975e-06 |\n",
      "|   9    | 4.94978443689e-06 | 2.93647650975e-06 |\n",
      "|   10   |  4.4548059932e-06 | 2.93647650975e-06 |\n",
      "+--------+-------------------+-------------------+\n",
      "[10 rows x 3 columns]\n",
      "\n",
      "PROGRESS: Evaluate model M2\n"
     ]
    },
    {
     "data": {
      "text/html": [
       "<pre>recommendations finished on 1000/202029 queries. users per second: 2131.36</pre>"
      ],
      "text/plain": [
       "recommendations finished on 1000/202029 queries. users per second: 2131.36"
      ]
     },
     "metadata": {},
     "output_type": "display_data"
    },
    {
     "data": {
      "text/html": [
       "<pre>recommendations finished on 2000/202029 queries. users per second: 2576.7</pre>"
      ],
      "text/plain": [
       "recommendations finished on 2000/202029 queries. users per second: 2576.7"
      ]
     },
     "metadata": {},
     "output_type": "display_data"
    },
    {
     "data": {
      "text/html": [
       "<pre>recommendations finished on 3000/202029 queries. users per second: 2570.06</pre>"
      ],
      "text/plain": [
       "recommendations finished on 3000/202029 queries. users per second: 2570.06"
      ]
     },
     "metadata": {},
     "output_type": "display_data"
    },
    {
     "data": {
      "text/html": [
       "<pre>recommendations finished on 4000/202029 queries. users per second: 2716.77</pre>"
      ],
      "text/plain": [
       "recommendations finished on 4000/202029 queries. users per second: 2716.77"
      ]
     },
     "metadata": {},
     "output_type": "display_data"
    },
    {
     "data": {
      "text/html": [
       "<pre>recommendations finished on 5000/202029 queries. users per second: 2811.7</pre>"
      ],
      "text/plain": [
       "recommendations finished on 5000/202029 queries. users per second: 2811.7"
      ]
     },
     "metadata": {},
     "output_type": "display_data"
    },
    {
     "data": {
      "text/html": [
       "<pre>recommendations finished on 6000/202029 queries. users per second: 2766.52</pre>"
      ],
      "text/plain": [
       "recommendations finished on 6000/202029 queries. users per second: 2766.52"
      ]
     },
     "metadata": {},
     "output_type": "display_data"
    },
    {
     "data": {
      "text/html": [
       "<pre>recommendations finished on 7000/202029 queries. users per second: 2828.05</pre>"
      ],
      "text/plain": [
       "recommendations finished on 7000/202029 queries. users per second: 2828.05"
      ]
     },
     "metadata": {},
     "output_type": "display_data"
    },
    {
     "data": {
      "text/html": [
       "<pre>recommendations finished on 8000/202029 queries. users per second: 2878.82</pre>"
      ],
      "text/plain": [
       "recommendations finished on 8000/202029 queries. users per second: 2878.82"
      ]
     },
     "metadata": {},
     "output_type": "display_data"
    },
    {
     "data": {
      "text/html": [
       "<pre>recommendations finished on 9000/202029 queries. users per second: 2837.66</pre>"
      ],
      "text/plain": [
       "recommendations finished on 9000/202029 queries. users per second: 2837.66"
      ]
     },
     "metadata": {},
     "output_type": "display_data"
    },
    {
     "data": {
      "text/html": [
       "<pre>recommendations finished on 10000/202029 queries. users per second: 2876.38</pre>"
      ],
      "text/plain": [
       "recommendations finished on 10000/202029 queries. users per second: 2876.38"
      ]
     },
     "metadata": {},
     "output_type": "display_data"
    },
    {
     "data": {
      "text/html": [
       "<pre>recommendations finished on 11000/202029 queries. users per second: 2842.12</pre>"
      ],
      "text/plain": [
       "recommendations finished on 11000/202029 queries. users per second: 2842.12"
      ]
     },
     "metadata": {},
     "output_type": "display_data"
    },
    {
     "data": {
      "text/html": [
       "<pre>recommendations finished on 12000/202029 queries. users per second: 2873.87</pre>"
      ],
      "text/plain": [
       "recommendations finished on 12000/202029 queries. users per second: 2873.87"
      ]
     },
     "metadata": {},
     "output_type": "display_data"
    },
    {
     "data": {
      "text/html": [
       "<pre>recommendations finished on 13000/202029 queries. users per second: 2845.09</pre>"
      ],
      "text/plain": [
       "recommendations finished on 13000/202029 queries. users per second: 2845.09"
      ]
     },
     "metadata": {},
     "output_type": "display_data"
    },
    {
     "data": {
      "text/html": [
       "<pre>recommendations finished on 14000/202029 queries. users per second: 2870.82</pre>"
      ],
      "text/plain": [
       "recommendations finished on 14000/202029 queries. users per second: 2870.82"
      ]
     },
     "metadata": {},
     "output_type": "display_data"
    },
    {
     "data": {
      "text/html": [
       "<pre>recommendations finished on 15000/202029 queries. users per second: 2846.98</pre>"
      ],
      "text/plain": [
       "recommendations finished on 15000/202029 queries. users per second: 2846.98"
      ]
     },
     "metadata": {},
     "output_type": "display_data"
    },
    {
     "data": {
      "text/html": [
       "<pre>recommendations finished on 16000/202029 queries. users per second: 2870.02</pre>"
      ],
      "text/plain": [
       "recommendations finished on 16000/202029 queries. users per second: 2870.02"
      ]
     },
     "metadata": {},
     "output_type": "display_data"
    },
    {
     "data": {
      "text/html": [
       "<pre>recommendations finished on 17000/202029 queries. users per second: 2847.53</pre>"
      ],
      "text/plain": [
       "recommendations finished on 17000/202029 queries. users per second: 2847.53"
      ]
     },
     "metadata": {},
     "output_type": "display_data"
    },
    {
     "data": {
      "text/html": [
       "<pre>recommendations finished on 18000/202029 queries. users per second: 2867.5</pre>"
      ],
      "text/plain": [
       "recommendations finished on 18000/202029 queries. users per second: 2867.5"
      ]
     },
     "metadata": {},
     "output_type": "display_data"
    },
    {
     "data": {
      "text/html": [
       "<pre>recommendations finished on 19000/202029 queries. users per second: 2848.28</pre>"
      ],
      "text/plain": [
       "recommendations finished on 19000/202029 queries. users per second: 2848.28"
      ]
     },
     "metadata": {},
     "output_type": "display_data"
    },
    {
     "data": {
      "text/html": [
       "<pre>recommendations finished on 20000/202029 queries. users per second: 2867.18</pre>"
      ],
      "text/plain": [
       "recommendations finished on 20000/202029 queries. users per second: 2867.18"
      ]
     },
     "metadata": {},
     "output_type": "display_data"
    },
    {
     "data": {
      "text/html": [
       "<pre>recommendations finished on 21000/202029 queries. users per second: 2850.01</pre>"
      ],
      "text/plain": [
       "recommendations finished on 21000/202029 queries. users per second: 2850.01"
      ]
     },
     "metadata": {},
     "output_type": "display_data"
    },
    {
     "data": {
      "text/html": [
       "<pre>recommendations finished on 22000/202029 queries. users per second: 2866.76</pre>"
      ],
      "text/plain": [
       "recommendations finished on 22000/202029 queries. users per second: 2866.76"
      ]
     },
     "metadata": {},
     "output_type": "display_data"
    },
    {
     "data": {
      "text/html": [
       "<pre>recommendations finished on 23000/202029 queries. users per second: 2882.25</pre>"
      ],
      "text/plain": [
       "recommendations finished on 23000/202029 queries. users per second: 2882.25"
      ]
     },
     "metadata": {},
     "output_type": "display_data"
    },
    {
     "data": {
      "text/html": [
       "<pre>recommendations finished on 24000/202029 queries. users per second: 2866.7</pre>"
      ],
      "text/plain": [
       "recommendations finished on 24000/202029 queries. users per second: 2866.7"
      ]
     },
     "metadata": {},
     "output_type": "display_data"
    },
    {
     "data": {
      "text/html": [
       "<pre>recommendations finished on 25000/202029 queries. users per second: 2881.08</pre>"
      ],
      "text/plain": [
       "recommendations finished on 25000/202029 queries. users per second: 2881.08"
      ]
     },
     "metadata": {},
     "output_type": "display_data"
    },
    {
     "data": {
      "text/html": [
       "<pre>recommendations finished on 26000/202029 queries. users per second: 2866.72</pre>"
      ],
      "text/plain": [
       "recommendations finished on 26000/202029 queries. users per second: 2866.72"
      ]
     },
     "metadata": {},
     "output_type": "display_data"
    },
    {
     "data": {
      "text/html": [
       "<pre>recommendations finished on 27000/202029 queries. users per second: 2879.45</pre>"
      ],
      "text/plain": [
       "recommendations finished on 27000/202029 queries. users per second: 2879.45"
      ]
     },
     "metadata": {},
     "output_type": "display_data"
    },
    {
     "data": {
      "text/html": [
       "<pre>recommendations finished on 28000/202029 queries. users per second: 2865.92</pre>"
      ],
      "text/plain": [
       "recommendations finished on 28000/202029 queries. users per second: 2865.92"
      ]
     },
     "metadata": {},
     "output_type": "display_data"
    },
    {
     "data": {
      "text/html": [
       "<pre>recommendations finished on 29000/202029 queries. users per second: 2877.62</pre>"
      ],
      "text/plain": [
       "recommendations finished on 29000/202029 queries. users per second: 2877.62"
      ]
     },
     "metadata": {},
     "output_type": "display_data"
    },
    {
     "data": {
      "text/html": [
       "<pre>recommendations finished on 30000/202029 queries. users per second: 2866.07</pre>"
      ],
      "text/plain": [
       "recommendations finished on 30000/202029 queries. users per second: 2866.07"
      ]
     },
     "metadata": {},
     "output_type": "display_data"
    },
    {
     "data": {
      "text/html": [
       "<pre>recommendations finished on 31000/202029 queries. users per second: 2877.63</pre>"
      ],
      "text/plain": [
       "recommendations finished on 31000/202029 queries. users per second: 2877.63"
      ]
     },
     "metadata": {},
     "output_type": "display_data"
    },
    {
     "data": {
      "text/html": [
       "<pre>recommendations finished on 32000/202029 queries. users per second: 2888.88</pre>"
      ],
      "text/plain": [
       "recommendations finished on 32000/202029 queries. users per second: 2888.88"
      ]
     },
     "metadata": {},
     "output_type": "display_data"
    },
    {
     "data": {
      "text/html": [
       "<pre>recommendations finished on 33000/202029 queries. users per second: 2877.33</pre>"
      ],
      "text/plain": [
       "recommendations finished on 33000/202029 queries. users per second: 2877.33"
      ]
     },
     "metadata": {},
     "output_type": "display_data"
    },
    {
     "data": {
      "text/html": [
       "<pre>recommendations finished on 34000/202029 queries. users per second: 2887.59</pre>"
      ],
      "text/plain": [
       "recommendations finished on 34000/202029 queries. users per second: 2887.59"
      ]
     },
     "metadata": {},
     "output_type": "display_data"
    },
    {
     "data": {
      "text/html": [
       "<pre>recommendations finished on 35000/202029 queries. users per second: 2876.52</pre>"
      ],
      "text/plain": [
       "recommendations finished on 35000/202029 queries. users per second: 2876.52"
      ]
     },
     "metadata": {},
     "output_type": "display_data"
    },
    {
     "data": {
      "text/html": [
       "<pre>recommendations finished on 36000/202029 queries. users per second: 2886.1</pre>"
      ],
      "text/plain": [
       "recommendations finished on 36000/202029 queries. users per second: 2886.1"
      ]
     },
     "metadata": {},
     "output_type": "display_data"
    },
    {
     "data": {
      "text/html": [
       "<pre>recommendations finished on 37000/202029 queries. users per second: 2895.04</pre>"
      ],
      "text/plain": [
       "recommendations finished on 37000/202029 queries. users per second: 2895.04"
      ]
     },
     "metadata": {},
     "output_type": "display_data"
    },
    {
     "data": {
      "text/html": [
       "<pre>recommendations finished on 38000/202029 queries. users per second: 2884.64</pre>"
      ],
      "text/plain": [
       "recommendations finished on 38000/202029 queries. users per second: 2884.64"
      ]
     },
     "metadata": {},
     "output_type": "display_data"
    },
    {
     "data": {
      "text/html": [
       "<pre>recommendations finished on 39000/202029 queries. users per second: 2893.46</pre>"
      ],
      "text/plain": [
       "recommendations finished on 39000/202029 queries. users per second: 2893.46"
      ]
     },
     "metadata": {},
     "output_type": "display_data"
    },
    {
     "data": {
      "text/html": [
       "<pre>recommendations finished on 40000/202029 queries. users per second: 2883.7</pre>"
      ],
      "text/plain": [
       "recommendations finished on 40000/202029 queries. users per second: 2883.7"
      ]
     },
     "metadata": {},
     "output_type": "display_data"
    },
    {
     "data": {
      "text/html": [
       "<pre>recommendations finished on 41000/202029 queries. users per second: 2891.82</pre>"
      ],
      "text/plain": [
       "recommendations finished on 41000/202029 queries. users per second: 2891.82"
      ]
     },
     "metadata": {},
     "output_type": "display_data"
    },
    {
     "data": {
      "text/html": [
       "<pre>recommendations finished on 42000/202029 queries. users per second: 2882.79</pre>"
      ],
      "text/plain": [
       "recommendations finished on 42000/202029 queries. users per second: 2882.79"
      ]
     },
     "metadata": {},
     "output_type": "display_data"
    },
    {
     "data": {
      "text/html": [
       "<pre>recommendations finished on 43000/202029 queries. users per second: 2890.35</pre>"
      ],
      "text/plain": [
       "recommendations finished on 43000/202029 queries. users per second: 2890.35"
      ]
     },
     "metadata": {},
     "output_type": "display_data"
    },
    {
     "data": {
      "text/html": [
       "<pre>recommendations finished on 44000/202029 queries. users per second: 2881.83</pre>"
      ],
      "text/plain": [
       "recommendations finished on 44000/202029 queries. users per second: 2881.83"
      ]
     },
     "metadata": {},
     "output_type": "display_data"
    },
    {
     "data": {
      "text/html": [
       "<pre>recommendations finished on 45000/202029 queries. users per second: 2889.46</pre>"
      ],
      "text/plain": [
       "recommendations finished on 45000/202029 queries. users per second: 2889.46"
      ]
     },
     "metadata": {},
     "output_type": "display_data"
    },
    {
     "data": {
      "text/html": [
       "<pre>recommendations finished on 46000/202029 queries. users per second: 2896.86</pre>"
      ],
      "text/plain": [
       "recommendations finished on 46000/202029 queries. users per second: 2896.86"
      ]
     },
     "metadata": {},
     "output_type": "display_data"
    },
    {
     "data": {
      "text/html": [
       "<pre>recommendations finished on 47000/202029 queries. users per second: 2888.16</pre>"
      ],
      "text/plain": [
       "recommendations finished on 47000/202029 queries. users per second: 2888.16"
      ]
     },
     "metadata": {},
     "output_type": "display_data"
    },
    {
     "data": {
      "text/html": [
       "<pre>recommendations finished on 48000/202029 queries. users per second: 2895.32</pre>"
      ],
      "text/plain": [
       "recommendations finished on 48000/202029 queries. users per second: 2895.32"
      ]
     },
     "metadata": {},
     "output_type": "display_data"
    },
    {
     "data": {
      "text/html": [
       "<pre>recommendations finished on 49000/202029 queries. users per second: 2887.36</pre>"
      ],
      "text/plain": [
       "recommendations finished on 49000/202029 queries. users per second: 2887.36"
      ]
     },
     "metadata": {},
     "output_type": "display_data"
    },
    {
     "data": {
      "text/html": [
       "<pre>recommendations finished on 50000/202029 queries. users per second: 2894.28</pre>"
      ],
      "text/plain": [
       "recommendations finished on 50000/202029 queries. users per second: 2894.28"
      ]
     },
     "metadata": {},
     "output_type": "display_data"
    },
    {
     "data": {
      "text/html": [
       "<pre>recommendations finished on 51000/202029 queries. users per second: 2900.76</pre>"
      ],
      "text/plain": [
       "recommendations finished on 51000/202029 queries. users per second: 2900.76"
      ]
     },
     "metadata": {},
     "output_type": "display_data"
    },
    {
     "data": {
      "text/html": [
       "<pre>recommendations finished on 52000/202029 queries. users per second: 2893.31</pre>"
      ],
      "text/plain": [
       "recommendations finished on 52000/202029 queries. users per second: 2893.31"
      ]
     },
     "metadata": {},
     "output_type": "display_data"
    },
    {
     "data": {
      "text/html": [
       "<pre>recommendations finished on 53000/202029 queries. users per second: 2899.68</pre>"
      ],
      "text/plain": [
       "recommendations finished on 53000/202029 queries. users per second: 2899.68"
      ]
     },
     "metadata": {},
     "output_type": "display_data"
    },
    {
     "data": {
      "text/html": [
       "<pre>recommendations finished on 54000/202029 queries. users per second: 2892.05</pre>"
      ],
      "text/plain": [
       "recommendations finished on 54000/202029 queries. users per second: 2892.05"
      ]
     },
     "metadata": {},
     "output_type": "display_data"
    },
    {
     "data": {
      "text/html": [
       "<pre>recommendations finished on 55000/202029 queries. users per second: 2898.11</pre>"
      ],
      "text/plain": [
       "recommendations finished on 55000/202029 queries. users per second: 2898.11"
      ]
     },
     "metadata": {},
     "output_type": "display_data"
    },
    {
     "data": {
      "text/html": [
       "<pre>recommendations finished on 56000/202029 queries. users per second: 2891</pre>"
      ],
      "text/plain": [
       "recommendations finished on 56000/202029 queries. users per second: 2891"
      ]
     },
     "metadata": {},
     "output_type": "display_data"
    },
    {
     "data": {
      "text/html": [
       "<pre>recommendations finished on 57000/202029 queries. users per second: 2896.8</pre>"
      ],
      "text/plain": [
       "recommendations finished on 57000/202029 queries. users per second: 2896.8"
      ]
     },
     "metadata": {},
     "output_type": "display_data"
    },
    {
     "data": {
      "text/html": [
       "<pre>recommendations finished on 58000/202029 queries. users per second: 2889.87</pre>"
      ],
      "text/plain": [
       "recommendations finished on 58000/202029 queries. users per second: 2889.87"
      ]
     },
     "metadata": {},
     "output_type": "display_data"
    },
    {
     "data": {
      "text/html": [
       "<pre>recommendations finished on 59000/202029 queries. users per second: 2895.33</pre>"
      ],
      "text/plain": [
       "recommendations finished on 59000/202029 queries. users per second: 2895.33"
      ]
     },
     "metadata": {},
     "output_type": "display_data"
    },
    {
     "data": {
      "text/html": [
       "<pre>recommendations finished on 60000/202029 queries. users per second: 2888.63</pre>"
      ],
      "text/plain": [
       "recommendations finished on 60000/202029 queries. users per second: 2888.63"
      ]
     },
     "metadata": {},
     "output_type": "display_data"
    },
    {
     "data": {
      "text/html": [
       "<pre>recommendations finished on 61000/202029 queries. users per second: 2894.13</pre>"
      ],
      "text/plain": [
       "recommendations finished on 61000/202029 queries. users per second: 2894.13"
      ]
     },
     "metadata": {},
     "output_type": "display_data"
    },
    {
     "data": {
      "text/html": [
       "<pre>recommendations finished on 62000/202029 queries. users per second: 2887.68</pre>"
      ],
      "text/plain": [
       "recommendations finished on 62000/202029 queries. users per second: 2887.68"
      ]
     },
     "metadata": {},
     "output_type": "display_data"
    },
    {
     "data": {
      "text/html": [
       "<pre>recommendations finished on 63000/202029 queries. users per second: 2893.19</pre>"
      ],
      "text/plain": [
       "recommendations finished on 63000/202029 queries. users per second: 2893.19"
      ]
     },
     "metadata": {},
     "output_type": "display_data"
    },
    {
     "data": {
      "text/html": [
       "<pre>recommendations finished on 64000/202029 queries. users per second: 2886.97</pre>"
      ],
      "text/plain": [
       "recommendations finished on 64000/202029 queries. users per second: 2886.97"
      ]
     },
     "metadata": {},
     "output_type": "display_data"
    },
    {
     "data": {
      "text/html": [
       "<pre>recommendations finished on 65000/202029 queries. users per second: 2892.13</pre>"
      ],
      "text/plain": [
       "recommendations finished on 65000/202029 queries. users per second: 2892.13"
      ]
     },
     "metadata": {},
     "output_type": "display_data"
    },
    {
     "data": {
      "text/html": [
       "<pre>recommendations finished on 66000/202029 queries. users per second: 2886.22</pre>"
      ],
      "text/plain": [
       "recommendations finished on 66000/202029 queries. users per second: 2886.22"
      ]
     },
     "metadata": {},
     "output_type": "display_data"
    },
    {
     "data": {
      "text/html": [
       "<pre>recommendations finished on 67000/202029 queries. users per second: 2890.89</pre>"
      ],
      "text/plain": [
       "recommendations finished on 67000/202029 queries. users per second: 2890.89"
      ]
     },
     "metadata": {},
     "output_type": "display_data"
    },
    {
     "data": {
      "text/html": [
       "<pre>recommendations finished on 68000/202029 queries. users per second: 2884.73</pre>"
      ],
      "text/plain": [
       "recommendations finished on 68000/202029 queries. users per second: 2884.73"
      ]
     },
     "metadata": {},
     "output_type": "display_data"
    },
    {
     "data": {
      "text/html": [
       "<pre>recommendations finished on 69000/202029 queries. users per second: 2878.95</pre>"
      ],
      "text/plain": [
       "recommendations finished on 69000/202029 queries. users per second: 2878.95"
      ]
     },
     "metadata": {},
     "output_type": "display_data"
    },
    {
     "data": {
      "text/html": [
       "<pre>recommendations finished on 70000/202029 queries. users per second: 2883.48</pre>"
      ],
      "text/plain": [
       "recommendations finished on 70000/202029 queries. users per second: 2883.48"
      ]
     },
     "metadata": {},
     "output_type": "display_data"
    },
    {
     "data": {
      "text/html": [
       "<pre>recommendations finished on 71000/202029 queries. users per second: 2878.23</pre>"
      ],
      "text/plain": [
       "recommendations finished on 71000/202029 queries. users per second: 2878.23"
      ]
     },
     "metadata": {},
     "output_type": "display_data"
    },
    {
     "data": {
      "text/html": [
       "<pre>recommendations finished on 72000/202029 queries. users per second: 2883.04</pre>"
      ],
      "text/plain": [
       "recommendations finished on 72000/202029 queries. users per second: 2883.04"
      ]
     },
     "metadata": {},
     "output_type": "display_data"
    },
    {
     "data": {
      "text/html": [
       "<pre>recommendations finished on 73000/202029 queries. users per second: 2887.77</pre>"
      ],
      "text/plain": [
       "recommendations finished on 73000/202029 queries. users per second: 2887.77"
      ]
     },
     "metadata": {},
     "output_type": "display_data"
    },
    {
     "data": {
      "text/html": [
       "<pre>recommendations finished on 74000/202029 queries. users per second: 2882.57</pre>"
      ],
      "text/plain": [
       "recommendations finished on 74000/202029 queries. users per second: 2882.57"
      ]
     },
     "metadata": {},
     "output_type": "display_data"
    },
    {
     "data": {
      "text/html": [
       "<pre>recommendations finished on 75000/202029 queries. users per second: 2887.21</pre>"
      ],
      "text/plain": [
       "recommendations finished on 75000/202029 queries. users per second: 2887.21"
      ]
     },
     "metadata": {},
     "output_type": "display_data"
    },
    {
     "data": {
      "text/html": [
       "<pre>recommendations finished on 76000/202029 queries. users per second: 2882.07</pre>"
      ],
      "text/plain": [
       "recommendations finished on 76000/202029 queries. users per second: 2882.07"
      ]
     },
     "metadata": {},
     "output_type": "display_data"
    },
    {
     "data": {
      "text/html": [
       "<pre>recommendations finished on 77000/202029 queries. users per second: 2886.45</pre>"
      ],
      "text/plain": [
       "recommendations finished on 77000/202029 queries. users per second: 2886.45"
      ]
     },
     "metadata": {},
     "output_type": "display_data"
    },
    {
     "data": {
      "text/html": [
       "<pre>recommendations finished on 78000/202029 queries. users per second: 2881.57</pre>"
      ],
      "text/plain": [
       "recommendations finished on 78000/202029 queries. users per second: 2881.57"
      ]
     },
     "metadata": {},
     "output_type": "display_data"
    },
    {
     "data": {
      "text/html": [
       "<pre>recommendations finished on 79000/202029 queries. users per second: 2885.76</pre>"
      ],
      "text/plain": [
       "recommendations finished on 79000/202029 queries. users per second: 2885.76"
      ]
     },
     "metadata": {},
     "output_type": "display_data"
    },
    {
     "data": {
      "text/html": [
       "<pre>recommendations finished on 80000/202029 queries. users per second: 2880.91</pre>"
      ],
      "text/plain": [
       "recommendations finished on 80000/202029 queries. users per second: 2880.91"
      ]
     },
     "metadata": {},
     "output_type": "display_data"
    },
    {
     "data": {
      "text/html": [
       "<pre>recommendations finished on 81000/202029 queries. users per second: 2884.98</pre>"
      ],
      "text/plain": [
       "recommendations finished on 81000/202029 queries. users per second: 2884.98"
      ]
     },
     "metadata": {},
     "output_type": "display_data"
    },
    {
     "data": {
      "text/html": [
       "<pre>recommendations finished on 82000/202029 queries. users per second: 2880.36</pre>"
      ],
      "text/plain": [
       "recommendations finished on 82000/202029 queries. users per second: 2880.36"
      ]
     },
     "metadata": {},
     "output_type": "display_data"
    },
    {
     "data": {
      "text/html": [
       "<pre>recommendations finished on 83000/202029 queries. users per second: 2884.24</pre>"
      ],
      "text/plain": [
       "recommendations finished on 83000/202029 queries. users per second: 2884.24"
      ]
     },
     "metadata": {},
     "output_type": "display_data"
    },
    {
     "data": {
      "text/html": [
       "<pre>recommendations finished on 84000/202029 queries. users per second: 2888.29</pre>"
      ],
      "text/plain": [
       "recommendations finished on 84000/202029 queries. users per second: 2888.29"
      ]
     },
     "metadata": {},
     "output_type": "display_data"
    },
    {
     "data": {
      "text/html": [
       "<pre>recommendations finished on 85000/202029 queries. users per second: 2883.99</pre>"
      ],
      "text/plain": [
       "recommendations finished on 85000/202029 queries. users per second: 2883.99"
      ]
     },
     "metadata": {},
     "output_type": "display_data"
    },
    {
     "data": {
      "text/html": [
       "<pre>recommendations finished on 86000/202029 queries. users per second: 2888.08</pre>"
      ],
      "text/plain": [
       "recommendations finished on 86000/202029 queries. users per second: 2888.08"
      ]
     },
     "metadata": {},
     "output_type": "display_data"
    },
    {
     "data": {
      "text/html": [
       "<pre>recommendations finished on 87000/202029 queries. users per second: 2883.71</pre>"
      ],
      "text/plain": [
       "recommendations finished on 87000/202029 queries. users per second: 2883.71"
      ]
     },
     "metadata": {},
     "output_type": "display_data"
    },
    {
     "data": {
      "text/html": [
       "<pre>recommendations finished on 88000/202029 queries. users per second: 2887.61</pre>"
      ],
      "text/plain": [
       "recommendations finished on 88000/202029 queries. users per second: 2887.61"
      ]
     },
     "metadata": {},
     "output_type": "display_data"
    },
    {
     "data": {
      "text/html": [
       "<pre>recommendations finished on 89000/202029 queries. users per second: 2891.26</pre>"
      ],
      "text/plain": [
       "recommendations finished on 89000/202029 queries. users per second: 2891.26"
      ]
     },
     "metadata": {},
     "output_type": "display_data"
    },
    {
     "data": {
      "text/html": [
       "<pre>recommendations finished on 90000/202029 queries. users per second: 2887.21</pre>"
      ],
      "text/plain": [
       "recommendations finished on 90000/202029 queries. users per second: 2887.21"
      ]
     },
     "metadata": {},
     "output_type": "display_data"
    },
    {
     "data": {
      "text/html": [
       "<pre>recommendations finished on 91000/202029 queries. users per second: 2890.87</pre>"
      ],
      "text/plain": [
       "recommendations finished on 91000/202029 queries. users per second: 2890.87"
      ]
     },
     "metadata": {},
     "output_type": "display_data"
    },
    {
     "data": {
      "text/html": [
       "<pre>recommendations finished on 92000/202029 queries. users per second: 2886.58</pre>"
      ],
      "text/plain": [
       "recommendations finished on 92000/202029 queries. users per second: 2886.58"
      ]
     },
     "metadata": {},
     "output_type": "display_data"
    },
    {
     "data": {
      "text/html": [
       "<pre>recommendations finished on 93000/202029 queries. users per second: 2890.22</pre>"
      ],
      "text/plain": [
       "recommendations finished on 93000/202029 queries. users per second: 2890.22"
      ]
     },
     "metadata": {},
     "output_type": "display_data"
    },
    {
     "data": {
      "text/html": [
       "<pre>recommendations finished on 94000/202029 queries. users per second: 2886.04</pre>"
      ],
      "text/plain": [
       "recommendations finished on 94000/202029 queries. users per second: 2886.04"
      ]
     },
     "metadata": {},
     "output_type": "display_data"
    },
    {
     "data": {
      "text/html": [
       "<pre>recommendations finished on 95000/202029 queries. users per second: 2889.62</pre>"
      ],
      "text/plain": [
       "recommendations finished on 95000/202029 queries. users per second: 2889.62"
      ]
     },
     "metadata": {},
     "output_type": "display_data"
    },
    {
     "data": {
      "text/html": [
       "<pre>recommendations finished on 96000/202029 queries. users per second: 2885.72</pre>"
      ],
      "text/plain": [
       "recommendations finished on 96000/202029 queries. users per second: 2885.72"
      ]
     },
     "metadata": {},
     "output_type": "display_data"
    },
    {
     "data": {
      "text/html": [
       "<pre>recommendations finished on 97000/202029 queries. users per second: 2889.2</pre>"
      ],
      "text/plain": [
       "recommendations finished on 97000/202029 queries. users per second: 2889.2"
      ]
     },
     "metadata": {},
     "output_type": "display_data"
    },
    {
     "data": {
      "text/html": [
       "<pre>recommendations finished on 98000/202029 queries. users per second: 2885.12</pre>"
      ],
      "text/plain": [
       "recommendations finished on 98000/202029 queries. users per second: 2885.12"
      ]
     },
     "metadata": {},
     "output_type": "display_data"
    },
    {
     "data": {
      "text/html": [
       "<pre>recommendations finished on 99000/202029 queries. users per second: 2888.47</pre>"
      ],
      "text/plain": [
       "recommendations finished on 99000/202029 queries. users per second: 2888.47"
      ]
     },
     "metadata": {},
     "output_type": "display_data"
    },
    {
     "data": {
      "text/html": [
       "<pre>recommendations finished on 100000/202029 queries. users per second: 2891.71</pre>"
      ],
      "text/plain": [
       "recommendations finished on 100000/202029 queries. users per second: 2891.71"
      ]
     },
     "metadata": {},
     "output_type": "display_data"
    },
    {
     "data": {
      "text/html": [
       "<pre>recommendations finished on 101000/202029 queries. users per second: 2888.05</pre>"
      ],
      "text/plain": [
       "recommendations finished on 101000/202029 queries. users per second: 2888.05"
      ]
     },
     "metadata": {},
     "output_type": "display_data"
    },
    {
     "data": {
      "text/html": [
       "<pre>recommendations finished on 102000/202029 queries. users per second: 2891.45</pre>"
      ],
      "text/plain": [
       "recommendations finished on 102000/202029 queries. users per second: 2891.45"
      ]
     },
     "metadata": {},
     "output_type": "display_data"
    },
    {
     "data": {
      "text/html": [
       "<pre>recommendations finished on 103000/202029 queries. users per second: 2887.69</pre>"
      ],
      "text/plain": [
       "recommendations finished on 103000/202029 queries. users per second: 2887.69"
      ]
     },
     "metadata": {},
     "output_type": "display_data"
    },
    {
     "data": {
      "text/html": [
       "<pre>recommendations finished on 104000/202029 queries. users per second: 2890.87</pre>"
      ],
      "text/plain": [
       "recommendations finished on 104000/202029 queries. users per second: 2890.87"
      ]
     },
     "metadata": {},
     "output_type": "display_data"
    },
    {
     "data": {
      "text/html": [
       "<pre>recommendations finished on 105000/202029 queries. users per second: 2893.88</pre>"
      ],
      "text/plain": [
       "recommendations finished on 105000/202029 queries. users per second: 2893.88"
      ]
     },
     "metadata": {},
     "output_type": "display_data"
    },
    {
     "data": {
      "text/html": [
       "<pre>recommendations finished on 106000/202029 queries. users per second: 2890.29</pre>"
      ],
      "text/plain": [
       "recommendations finished on 106000/202029 queries. users per second: 2890.29"
      ]
     },
     "metadata": {},
     "output_type": "display_data"
    },
    {
     "data": {
      "text/html": [
       "<pre>recommendations finished on 107000/202029 queries. users per second: 2886.66</pre>"
      ],
      "text/plain": [
       "recommendations finished on 107000/202029 queries. users per second: 2886.66"
      ]
     },
     "metadata": {},
     "output_type": "display_data"
    },
    {
     "data": {
      "text/html": [
       "<pre>recommendations finished on 108000/202029 queries. users per second: 2889.71</pre>"
      ],
      "text/plain": [
       "recommendations finished on 108000/202029 queries. users per second: 2889.71"
      ]
     },
     "metadata": {},
     "output_type": "display_data"
    },
    {
     "data": {
      "text/html": [
       "<pre>recommendations finished on 109000/202029 queries. users per second: 2886.06</pre>"
      ],
      "text/plain": [
       "recommendations finished on 109000/202029 queries. users per second: 2886.06"
      ]
     },
     "metadata": {},
     "output_type": "display_data"
    },
    {
     "data": {
      "text/html": [
       "<pre>recommendations finished on 110000/202029 queries. users per second: 2889.06</pre>"
      ],
      "text/plain": [
       "recommendations finished on 110000/202029 queries. users per second: 2889.06"
      ]
     },
     "metadata": {},
     "output_type": "display_data"
    },
    {
     "data": {
      "text/html": [
       "<pre>recommendations finished on 111000/202029 queries. users per second: 2885.48</pre>"
      ],
      "text/plain": [
       "recommendations finished on 111000/202029 queries. users per second: 2885.48"
      ]
     },
     "metadata": {},
     "output_type": "display_data"
    },
    {
     "data": {
      "text/html": [
       "<pre>recommendations finished on 112000/202029 queries. users per second: 2888.48</pre>"
      ],
      "text/plain": [
       "recommendations finished on 112000/202029 queries. users per second: 2888.48"
      ]
     },
     "metadata": {},
     "output_type": "display_data"
    },
    {
     "data": {
      "text/html": [
       "<pre>recommendations finished on 113000/202029 queries. users per second: 2884.95</pre>"
      ],
      "text/plain": [
       "recommendations finished on 113000/202029 queries. users per second: 2884.95"
      ]
     },
     "metadata": {},
     "output_type": "display_data"
    },
    {
     "data": {
      "text/html": [
       "<pre>recommendations finished on 114000/202029 queries. users per second: 2887.7</pre>"
      ],
      "text/plain": [
       "recommendations finished on 114000/202029 queries. users per second: 2887.7"
      ]
     },
     "metadata": {},
     "output_type": "display_data"
    },
    {
     "data": {
      "text/html": [
       "<pre>recommendations finished on 115000/202029 queries. users per second: 2884.3</pre>"
      ],
      "text/plain": [
       "recommendations finished on 115000/202029 queries. users per second: 2884.3"
      ]
     },
     "metadata": {},
     "output_type": "display_data"
    },
    {
     "data": {
      "text/html": [
       "<pre>recommendations finished on 116000/202029 queries. users per second: 2887.31</pre>"
      ],
      "text/plain": [
       "recommendations finished on 116000/202029 queries. users per second: 2887.31"
      ]
     },
     "metadata": {},
     "output_type": "display_data"
    },
    {
     "data": {
      "text/html": [
       "<pre>recommendations finished on 117000/202029 queries. users per second: 2883.94</pre>"
      ],
      "text/plain": [
       "recommendations finished on 117000/202029 queries. users per second: 2883.94"
      ]
     },
     "metadata": {},
     "output_type": "display_data"
    },
    {
     "data": {
      "text/html": [
       "<pre>recommendations finished on 118000/202029 queries. users per second: 2886.75</pre>"
      ],
      "text/plain": [
       "recommendations finished on 118000/202029 queries. users per second: 2886.75"
      ]
     },
     "metadata": {},
     "output_type": "display_data"
    },
    {
     "data": {
      "text/html": [
       "<pre>recommendations finished on 119000/202029 queries. users per second: 2889.78</pre>"
      ],
      "text/plain": [
       "recommendations finished on 119000/202029 queries. users per second: 2889.78"
      ]
     },
     "metadata": {},
     "output_type": "display_data"
    },
    {
     "data": {
      "text/html": [
       "<pre>recommendations finished on 120000/202029 queries. users per second: 2886.57</pre>"
      ],
      "text/plain": [
       "recommendations finished on 120000/202029 queries. users per second: 2886.57"
      ]
     },
     "metadata": {},
     "output_type": "display_data"
    },
    {
     "data": {
      "text/html": [
       "<pre>recommendations finished on 121000/202029 queries. users per second: 2889.28</pre>"
      ],
      "text/plain": [
       "recommendations finished on 121000/202029 queries. users per second: 2889.28"
      ]
     },
     "metadata": {},
     "output_type": "display_data"
    },
    {
     "data": {
      "text/html": [
       "<pre>recommendations finished on 122000/202029 queries. users per second: 2886.13</pre>"
      ],
      "text/plain": [
       "recommendations finished on 122000/202029 queries. users per second: 2886.13"
      ]
     },
     "metadata": {},
     "output_type": "display_data"
    },
    {
     "data": {
      "text/html": [
       "<pre>recommendations finished on 123000/202029 queries. users per second: 2888.95</pre>"
      ],
      "text/plain": [
       "recommendations finished on 123000/202029 queries. users per second: 2888.95"
      ]
     },
     "metadata": {},
     "output_type": "display_data"
    },
    {
     "data": {
      "text/html": [
       "<pre>recommendations finished on 124000/202029 queries. users per second: 2885.8</pre>"
      ],
      "text/plain": [
       "recommendations finished on 124000/202029 queries. users per second: 2885.8"
      ]
     },
     "metadata": {},
     "output_type": "display_data"
    },
    {
     "data": {
      "text/html": [
       "<pre>recommendations finished on 125000/202029 queries. users per second: 2888.49</pre>"
      ],
      "text/plain": [
       "recommendations finished on 125000/202029 queries. users per second: 2888.49"
      ]
     },
     "metadata": {},
     "output_type": "display_data"
    },
    {
     "data": {
      "text/html": [
       "<pre>recommendations finished on 126000/202029 queries. users per second: 2885.36</pre>"
      ],
      "text/plain": [
       "recommendations finished on 126000/202029 queries. users per second: 2885.36"
      ]
     },
     "metadata": {},
     "output_type": "display_data"
    },
    {
     "data": {
      "text/html": [
       "<pre>recommendations finished on 127000/202029 queries. users per second: 2888.05</pre>"
      ],
      "text/plain": [
       "recommendations finished on 127000/202029 queries. users per second: 2888.05"
      ]
     },
     "metadata": {},
     "output_type": "display_data"
    },
    {
     "data": {
      "text/html": [
       "<pre>recommendations finished on 128000/202029 queries. users per second: 2890.7</pre>"
      ],
      "text/plain": [
       "recommendations finished on 128000/202029 queries. users per second: 2890.7"
      ]
     },
     "metadata": {},
     "output_type": "display_data"
    },
    {
     "data": {
      "text/html": [
       "<pre>recommendations finished on 129000/202029 queries. users per second: 2887.65</pre>"
      ],
      "text/plain": [
       "recommendations finished on 129000/202029 queries. users per second: 2887.65"
      ]
     },
     "metadata": {},
     "output_type": "display_data"
    },
    {
     "data": {
      "text/html": [
       "<pre>recommendations finished on 130000/202029 queries. users per second: 2890.17</pre>"
      ],
      "text/plain": [
       "recommendations finished on 130000/202029 queries. users per second: 2890.17"
      ]
     },
     "metadata": {},
     "output_type": "display_data"
    },
    {
     "data": {
      "text/html": [
       "<pre>recommendations finished on 131000/202029 queries. users per second: 2887.23</pre>"
      ],
      "text/plain": [
       "recommendations finished on 131000/202029 queries. users per second: 2887.23"
      ]
     },
     "metadata": {},
     "output_type": "display_data"
    },
    {
     "data": {
      "text/html": [
       "<pre>recommendations finished on 132000/202029 queries. users per second: 2889.51</pre>"
      ],
      "text/plain": [
       "recommendations finished on 132000/202029 queries. users per second: 2889.51"
      ]
     },
     "metadata": {},
     "output_type": "display_data"
    },
    {
     "data": {
      "text/html": [
       "<pre>recommendations finished on 133000/202029 queries. users per second: 2886.56</pre>"
      ],
      "text/plain": [
       "recommendations finished on 133000/202029 queries. users per second: 2886.56"
      ]
     },
     "metadata": {},
     "output_type": "display_data"
    },
    {
     "data": {
      "text/html": [
       "<pre>recommendations finished on 134000/202029 queries. users per second: 2883.66</pre>"
      ],
      "text/plain": [
       "recommendations finished on 134000/202029 queries. users per second: 2883.66"
      ]
     },
     "metadata": {},
     "output_type": "display_data"
    },
    {
     "data": {
      "text/html": [
       "<pre>recommendations finished on 135000/202029 queries. users per second: 2886.04</pre>"
      ],
      "text/plain": [
       "recommendations finished on 135000/202029 queries. users per second: 2886.04"
      ]
     },
     "metadata": {},
     "output_type": "display_data"
    },
    {
     "data": {
      "text/html": [
       "<pre>recommendations finished on 136000/202029 queries. users per second: 2882.97</pre>"
      ],
      "text/plain": [
       "recommendations finished on 136000/202029 queries. users per second: 2882.97"
      ]
     },
     "metadata": {},
     "output_type": "display_data"
    },
    {
     "data": {
      "text/html": [
       "<pre>recommendations finished on 137000/202029 queries. users per second: 2880.08</pre>"
      ],
      "text/plain": [
       "recommendations finished on 137000/202029 queries. users per second: 2880.08"
      ]
     },
     "metadata": {},
     "output_type": "display_data"
    },
    {
     "data": {
      "text/html": [
       "<pre>recommendations finished on 138000/202029 queries. users per second: 2882.38</pre>"
      ],
      "text/plain": [
       "recommendations finished on 138000/202029 queries. users per second: 2882.38"
      ]
     },
     "metadata": {},
     "output_type": "display_data"
    },
    {
     "data": {
      "text/html": [
       "<pre>recommendations finished on 139000/202029 queries. users per second: 2879.58</pre>"
      ],
      "text/plain": [
       "recommendations finished on 139000/202029 queries. users per second: 2879.58"
      ]
     },
     "metadata": {},
     "output_type": "display_data"
    },
    {
     "data": {
      "text/html": [
       "<pre>recommendations finished on 140000/202029 queries. users per second: 2882.05</pre>"
      ],
      "text/plain": [
       "recommendations finished on 140000/202029 queries. users per second: 2882.05"
      ]
     },
     "metadata": {},
     "output_type": "display_data"
    },
    {
     "data": {
      "text/html": [
       "<pre>recommendations finished on 141000/202029 queries. users per second: 2879.38</pre>"
      ],
      "text/plain": [
       "recommendations finished on 141000/202029 queries. users per second: 2879.38"
      ]
     },
     "metadata": {},
     "output_type": "display_data"
    },
    {
     "data": {
      "text/html": [
       "<pre>recommendations finished on 142000/202029 queries. users per second: 2881.77</pre>"
      ],
      "text/plain": [
       "recommendations finished on 142000/202029 queries. users per second: 2881.77"
      ]
     },
     "metadata": {},
     "output_type": "display_data"
    },
    {
     "data": {
      "text/html": [
       "<pre>recommendations finished on 143000/202029 queries. users per second: 2884.14</pre>"
      ],
      "text/plain": [
       "recommendations finished on 143000/202029 queries. users per second: 2884.14"
      ]
     },
     "metadata": {},
     "output_type": "display_data"
    },
    {
     "data": {
      "text/html": [
       "<pre>recommendations finished on 144000/202029 queries. users per second: 2881.66</pre>"
      ],
      "text/plain": [
       "recommendations finished on 144000/202029 queries. users per second: 2881.66"
      ]
     },
     "metadata": {},
     "output_type": "display_data"
    },
    {
     "data": {
      "text/html": [
       "<pre>recommendations finished on 145000/202029 queries. users per second: 2884.09</pre>"
      ],
      "text/plain": [
       "recommendations finished on 145000/202029 queries. users per second: 2884.09"
      ]
     },
     "metadata": {},
     "output_type": "display_data"
    },
    {
     "data": {
      "text/html": [
       "<pre>recommendations finished on 146000/202029 queries. users per second: 2881.46</pre>"
      ],
      "text/plain": [
       "recommendations finished on 146000/202029 queries. users per second: 2881.46"
      ]
     },
     "metadata": {},
     "output_type": "display_data"
    },
    {
     "data": {
      "text/html": [
       "<pre>recommendations finished on 147000/202029 queries. users per second: 2883.78</pre>"
      ],
      "text/plain": [
       "recommendations finished on 147000/202029 queries. users per second: 2883.78"
      ]
     },
     "metadata": {},
     "output_type": "display_data"
    },
    {
     "data": {
      "text/html": [
       "<pre>recommendations finished on 148000/202029 queries. users per second: 2886.13</pre>"
      ],
      "text/plain": [
       "recommendations finished on 148000/202029 queries. users per second: 2886.13"
      ]
     },
     "metadata": {},
     "output_type": "display_data"
    },
    {
     "data": {
      "text/html": [
       "<pre>recommendations finished on 149000/202029 queries. users per second: 2883.46</pre>"
      ],
      "text/plain": [
       "recommendations finished on 149000/202029 queries. users per second: 2883.46"
      ]
     },
     "metadata": {},
     "output_type": "display_data"
    },
    {
     "data": {
      "text/html": [
       "<pre>recommendations finished on 150000/202029 queries. users per second: 2885.63</pre>"
      ],
      "text/plain": [
       "recommendations finished on 150000/202029 queries. users per second: 2885.63"
      ]
     },
     "metadata": {},
     "output_type": "display_data"
    },
    {
     "data": {
      "text/html": [
       "<pre>recommendations finished on 151000/202029 queries. users per second: 2883.17</pre>"
      ],
      "text/plain": [
       "recommendations finished on 151000/202029 queries. users per second: 2883.17"
      ]
     },
     "metadata": {},
     "output_type": "display_data"
    },
    {
     "data": {
      "text/html": [
       "<pre>recommendations finished on 152000/202029 queries. users per second: 2885.36</pre>"
      ],
      "text/plain": [
       "recommendations finished on 152000/202029 queries. users per second: 2885.36"
      ]
     },
     "metadata": {},
     "output_type": "display_data"
    },
    {
     "data": {
      "text/html": [
       "<pre>recommendations finished on 153000/202029 queries. users per second: 2882.88</pre>"
      ],
      "text/plain": [
       "recommendations finished on 153000/202029 queries. users per second: 2882.88"
      ]
     },
     "metadata": {},
     "output_type": "display_data"
    },
    {
     "data": {
      "text/html": [
       "<pre>recommendations finished on 154000/202029 queries. users per second: 2885.03</pre>"
      ],
      "text/plain": [
       "recommendations finished on 154000/202029 queries. users per second: 2885.03"
      ]
     },
     "metadata": {},
     "output_type": "display_data"
    },
    {
     "data": {
      "text/html": [
       "<pre>recommendations finished on 155000/202029 queries. users per second: 2882.63</pre>"
      ],
      "text/plain": [
       "recommendations finished on 155000/202029 queries. users per second: 2882.63"
      ]
     },
     "metadata": {},
     "output_type": "display_data"
    },
    {
     "data": {
      "text/html": [
       "<pre>recommendations finished on 156000/202029 queries. users per second: 2884.84</pre>"
      ],
      "text/plain": [
       "recommendations finished on 156000/202029 queries. users per second: 2884.84"
      ]
     },
     "metadata": {},
     "output_type": "display_data"
    },
    {
     "data": {
      "text/html": [
       "<pre>recommendations finished on 157000/202029 queries. users per second: 2882.44</pre>"
      ],
      "text/plain": [
       "recommendations finished on 157000/202029 queries. users per second: 2882.44"
      ]
     },
     "metadata": {},
     "output_type": "display_data"
    },
    {
     "data": {
      "text/html": [
       "<pre>recommendations finished on 158000/202029 queries. users per second: 2884.56</pre>"
      ],
      "text/plain": [
       "recommendations finished on 158000/202029 queries. users per second: 2884.56"
      ]
     },
     "metadata": {},
     "output_type": "display_data"
    },
    {
     "data": {
      "text/html": [
       "<pre>recommendations finished on 159000/202029 queries. users per second: 2882.15</pre>"
      ],
      "text/plain": [
       "recommendations finished on 159000/202029 queries. users per second: 2882.15"
      ]
     },
     "metadata": {},
     "output_type": "display_data"
    },
    {
     "data": {
      "text/html": [
       "<pre>recommendations finished on 160000/202029 queries. users per second: 2884.26</pre>"
      ],
      "text/plain": [
       "recommendations finished on 160000/202029 queries. users per second: 2884.26"
      ]
     },
     "metadata": {},
     "output_type": "display_data"
    },
    {
     "data": {
      "text/html": [
       "<pre>recommendations finished on 161000/202029 queries. users per second: 2886.36</pre>"
      ],
      "text/plain": [
       "recommendations finished on 161000/202029 queries. users per second: 2886.36"
      ]
     },
     "metadata": {},
     "output_type": "display_data"
    },
    {
     "data": {
      "text/html": [
       "<pre>recommendations finished on 162000/202029 queries. users per second: 2884</pre>"
      ],
      "text/plain": [
       "recommendations finished on 162000/202029 queries. users per second: 2884"
      ]
     },
     "metadata": {},
     "output_type": "display_data"
    },
    {
     "data": {
      "text/html": [
       "<pre>recommendations finished on 163000/202029 queries. users per second: 2886.01</pre>"
      ],
      "text/plain": [
       "recommendations finished on 163000/202029 queries. users per second: 2886.01"
      ]
     },
     "metadata": {},
     "output_type": "display_data"
    },
    {
     "data": {
      "text/html": [
       "<pre>recommendations finished on 164000/202029 queries. users per second: 2883.65</pre>"
      ],
      "text/plain": [
       "recommendations finished on 164000/202029 queries. users per second: 2883.65"
      ]
     },
     "metadata": {},
     "output_type": "display_data"
    },
    {
     "data": {
      "text/html": [
       "<pre>recommendations finished on 165000/202029 queries. users per second: 2885.72</pre>"
      ],
      "text/plain": [
       "recommendations finished on 165000/202029 queries. users per second: 2885.72"
      ]
     },
     "metadata": {},
     "output_type": "display_data"
    },
    {
     "data": {
      "text/html": [
       "<pre>recommendations finished on 166000/202029 queries. users per second: 2883.35</pre>"
      ],
      "text/plain": [
       "recommendations finished on 166000/202029 queries. users per second: 2883.35"
      ]
     },
     "metadata": {},
     "output_type": "display_data"
    },
    {
     "data": {
      "text/html": [
       "<pre>recommendations finished on 167000/202029 queries. users per second: 2885.34</pre>"
      ],
      "text/plain": [
       "recommendations finished on 167000/202029 queries. users per second: 2885.34"
      ]
     },
     "metadata": {},
     "output_type": "display_data"
    },
    {
     "data": {
      "text/html": [
       "<pre>recommendations finished on 168000/202029 queries. users per second: 2883</pre>"
      ],
      "text/plain": [
       "recommendations finished on 168000/202029 queries. users per second: 2883"
      ]
     },
     "metadata": {},
     "output_type": "display_data"
    },
    {
     "data": {
      "text/html": [
       "<pre>recommendations finished on 169000/202029 queries. users per second: 2884.87</pre>"
      ],
      "text/plain": [
       "recommendations finished on 169000/202029 queries. users per second: 2884.87"
      ]
     },
     "metadata": {},
     "output_type": "display_data"
    },
    {
     "data": {
      "text/html": [
       "<pre>recommendations finished on 170000/202029 queries. users per second: 2882.61</pre>"
      ],
      "text/plain": [
       "recommendations finished on 170000/202029 queries. users per second: 2882.61"
      ]
     },
     "metadata": {},
     "output_type": "display_data"
    },
    {
     "data": {
      "text/html": [
       "<pre>recommendations finished on 171000/202029 queries. users per second: 2884.61</pre>"
      ],
      "text/plain": [
       "recommendations finished on 171000/202029 queries. users per second: 2884.61"
      ]
     },
     "metadata": {},
     "output_type": "display_data"
    },
    {
     "data": {
      "text/html": [
       "<pre>recommendations finished on 172000/202029 queries. users per second: 2882.5</pre>"
      ],
      "text/plain": [
       "recommendations finished on 172000/202029 queries. users per second: 2882.5"
      ]
     },
     "metadata": {},
     "output_type": "display_data"
    },
    {
     "data": {
      "text/html": [
       "<pre>recommendations finished on 173000/202029 queries. users per second: 2884.4</pre>"
      ],
      "text/plain": [
       "recommendations finished on 173000/202029 queries. users per second: 2884.4"
      ]
     },
     "metadata": {},
     "output_type": "display_data"
    },
    {
     "data": {
      "text/html": [
       "<pre>recommendations finished on 174000/202029 queries. users per second: 2882.17</pre>"
      ],
      "text/plain": [
       "recommendations finished on 174000/202029 queries. users per second: 2882.17"
      ]
     },
     "metadata": {},
     "output_type": "display_data"
    },
    {
     "data": {
      "text/html": [
       "<pre>recommendations finished on 175000/202029 queries. users per second: 2884.09</pre>"
      ],
      "text/plain": [
       "recommendations finished on 175000/202029 queries. users per second: 2884.09"
      ]
     },
     "metadata": {},
     "output_type": "display_data"
    },
    {
     "data": {
      "text/html": [
       "<pre>recommendations finished on 176000/202029 queries. users per second: 2881.9</pre>"
      ],
      "text/plain": [
       "recommendations finished on 176000/202029 queries. users per second: 2881.9"
      ]
     },
     "metadata": {},
     "output_type": "display_data"
    },
    {
     "data": {
      "text/html": [
       "<pre>recommendations finished on 177000/202029 queries. users per second: 2883.75</pre>"
      ],
      "text/plain": [
       "recommendations finished on 177000/202029 queries. users per second: 2883.75"
      ]
     },
     "metadata": {},
     "output_type": "display_data"
    },
    {
     "data": {
      "text/html": [
       "<pre>recommendations finished on 178000/202029 queries. users per second: 2881.69</pre>"
      ],
      "text/plain": [
       "recommendations finished on 178000/202029 queries. users per second: 2881.69"
      ]
     },
     "metadata": {},
     "output_type": "display_data"
    },
    {
     "data": {
      "text/html": [
       "<pre>recommendations finished on 179000/202029 queries. users per second: 2883.57</pre>"
      ],
      "text/plain": [
       "recommendations finished on 179000/202029 queries. users per second: 2883.57"
      ]
     },
     "metadata": {},
     "output_type": "display_data"
    },
    {
     "data": {
      "text/html": [
       "<pre>recommendations finished on 180000/202029 queries. users per second: 2881.42</pre>"
      ],
      "text/plain": [
       "recommendations finished on 180000/202029 queries. users per second: 2881.42"
      ]
     },
     "metadata": {},
     "output_type": "display_data"
    },
    {
     "data": {
      "text/html": [
       "<pre>recommendations finished on 181000/202029 queries. users per second: 2883.2</pre>"
      ],
      "text/plain": [
       "recommendations finished on 181000/202029 queries. users per second: 2883.2"
      ]
     },
     "metadata": {},
     "output_type": "display_data"
    },
    {
     "data": {
      "text/html": [
       "<pre>recommendations finished on 182000/202029 queries. users per second: 2881</pre>"
      ],
      "text/plain": [
       "recommendations finished on 182000/202029 queries. users per second: 2881"
      ]
     },
     "metadata": {},
     "output_type": "display_data"
    },
    {
     "data": {
      "text/html": [
       "<pre>recommendations finished on 183000/202029 queries. users per second: 2878.8</pre>"
      ],
      "text/plain": [
       "recommendations finished on 183000/202029 queries. users per second: 2878.8"
      ]
     },
     "metadata": {},
     "output_type": "display_data"
    },
    {
     "data": {
      "text/html": [
       "<pre>recommendations finished on 184000/202029 queries. users per second: 2880.48</pre>"
      ],
      "text/plain": [
       "recommendations finished on 184000/202029 queries. users per second: 2880.48"
      ]
     },
     "metadata": {},
     "output_type": "display_data"
    },
    {
     "data": {
      "text/html": [
       "<pre>recommendations finished on 185000/202029 queries. users per second: 2878.25</pre>"
      ],
      "text/plain": [
       "recommendations finished on 185000/202029 queries. users per second: 2878.25"
      ]
     },
     "metadata": {},
     "output_type": "display_data"
    },
    {
     "data": {
      "text/html": [
       "<pre>recommendations finished on 186000/202029 queries. users per second: 2876.2</pre>"
      ],
      "text/plain": [
       "recommendations finished on 186000/202029 queries. users per second: 2876.2"
      ]
     },
     "metadata": {},
     "output_type": "display_data"
    },
    {
     "data": {
      "text/html": [
       "<pre>recommendations finished on 187000/202029 queries. users per second: 2878.02</pre>"
      ],
      "text/plain": [
       "recommendations finished on 187000/202029 queries. users per second: 2878.02"
      ]
     },
     "metadata": {},
     "output_type": "display_data"
    },
    {
     "data": {
      "text/html": [
       "<pre>recommendations finished on 188000/202029 queries. users per second: 2875.99</pre>"
      ],
      "text/plain": [
       "recommendations finished on 188000/202029 queries. users per second: 2875.99"
      ]
     },
     "metadata": {},
     "output_type": "display_data"
    },
    {
     "data": {
      "text/html": [
       "<pre>recommendations finished on 189000/202029 queries. users per second: 2877.8</pre>"
      ],
      "text/plain": [
       "recommendations finished on 189000/202029 queries. users per second: 2877.8"
      ]
     },
     "metadata": {},
     "output_type": "display_data"
    },
    {
     "data": {
      "text/html": [
       "<pre>recommendations finished on 190000/202029 queries. users per second: 2875.84</pre>"
      ],
      "text/plain": [
       "recommendations finished on 190000/202029 queries. users per second: 2875.84"
      ]
     },
     "metadata": {},
     "output_type": "display_data"
    },
    {
     "data": {
      "text/html": [
       "<pre>recommendations finished on 191000/202029 queries. users per second: 2877.73</pre>"
      ],
      "text/plain": [
       "recommendations finished on 191000/202029 queries. users per second: 2877.73"
      ]
     },
     "metadata": {},
     "output_type": "display_data"
    },
    {
     "data": {
      "text/html": [
       "<pre>recommendations finished on 192000/202029 queries. users per second: 2879.55</pre>"
      ],
      "text/plain": [
       "recommendations finished on 192000/202029 queries. users per second: 2879.55"
      ]
     },
     "metadata": {},
     "output_type": "display_data"
    },
    {
     "data": {
      "text/html": [
       "<pre>recommendations finished on 193000/202029 queries. users per second: 2877.62</pre>"
      ],
      "text/plain": [
       "recommendations finished on 193000/202029 queries. users per second: 2877.62"
      ]
     },
     "metadata": {},
     "output_type": "display_data"
    },
    {
     "data": {
      "text/html": [
       "<pre>recommendations finished on 194000/202029 queries. users per second: 2879.35</pre>"
      ],
      "text/plain": [
       "recommendations finished on 194000/202029 queries. users per second: 2879.35"
      ]
     },
     "metadata": {},
     "output_type": "display_data"
    },
    {
     "data": {
      "text/html": [
       "<pre>recommendations finished on 195000/202029 queries. users per second: 2877.42</pre>"
      ],
      "text/plain": [
       "recommendations finished on 195000/202029 queries. users per second: 2877.42"
      ]
     },
     "metadata": {},
     "output_type": "display_data"
    },
    {
     "data": {
      "text/html": [
       "<pre>recommendations finished on 196000/202029 queries. users per second: 2879.17</pre>"
      ],
      "text/plain": [
       "recommendations finished on 196000/202029 queries. users per second: 2879.17"
      ]
     },
     "metadata": {},
     "output_type": "display_data"
    },
    {
     "data": {
      "text/html": [
       "<pre>recommendations finished on 197000/202029 queries. users per second: 2880.98</pre>"
      ],
      "text/plain": [
       "recommendations finished on 197000/202029 queries. users per second: 2880.98"
      ]
     },
     "metadata": {},
     "output_type": "display_data"
    },
    {
     "data": {
      "text/html": [
       "<pre>recommendations finished on 198000/202029 queries. users per second: 2879.13</pre>"
      ],
      "text/plain": [
       "recommendations finished on 198000/202029 queries. users per second: 2879.13"
      ]
     },
     "metadata": {},
     "output_type": "display_data"
    },
    {
     "data": {
      "text/html": [
       "<pre>recommendations finished on 199000/202029 queries. users per second: 2880.9</pre>"
      ],
      "text/plain": [
       "recommendations finished on 199000/202029 queries. users per second: 2880.9"
      ]
     },
     "metadata": {},
     "output_type": "display_data"
    },
    {
     "data": {
      "text/html": [
       "<pre>recommendations finished on 200000/202029 queries. users per second: 2882.64</pre>"
      ],
      "text/plain": [
       "recommendations finished on 200000/202029 queries. users per second: 2882.64"
      ]
     },
     "metadata": {},
     "output_type": "display_data"
    },
    {
     "data": {
      "text/html": [
       "<pre>recommendations finished on 201000/202029 queries. users per second: 2884.4</pre>"
      ],
      "text/plain": [
       "recommendations finished on 201000/202029 queries. users per second: 2884.4"
      ]
     },
     "metadata": {},
     "output_type": "display_data"
    },
    {
     "data": {
      "text/html": [
       "<pre>recommendations finished on 202000/202029 queries. users per second: 2883.57</pre>"
      ],
      "text/plain": [
       "recommendations finished on 202000/202029 queries. users per second: 2883.57"
      ]
     },
     "metadata": {},
     "output_type": "display_data"
    },
    {
     "name": "stdout",
     "output_type": "stream",
     "text": [
      "\n",
      "Precision and recall summary statistics by cutoff\n",
      "+--------+------------------+-------------------+\n",
      "| cutoff |  mean_precision  |    mean_recall    |\n",
      "+--------+------------------+-------------------+\n",
      "|   1    | 0.0115626964446  | 0.000913421475807 |\n",
      "|   2    | 0.0092313479748  |  0.00148233276347 |\n",
      "|   3    | 0.00784375840432 |  0.00191872753452 |\n",
      "|   4    | 0.00689876205891 |  0.00230404032193 |\n",
      "|   5    | 0.00629513584683 |  0.00264680073719 |\n",
      "|   6    | 0.00579784750374 |  0.00295004988483 |\n",
      "|   7    | 0.00543910598408 |  0.00326441402051 |\n",
      "|   8    | 0.00510694009276 |  0.00352964737372 |\n",
      "|   9    | 0.00484253910742 |  0.00379207555727 |\n",
      "|   10   | 0.0046156739874  |  0.00403881432145 |\n",
      "+--------+------------------+-------------------+\n",
      "[10 rows x 3 columns]\n",
      "\n",
      "Model compare metric: precision_recall\n",
      "Canvas is accessible via web browser at the URL: http://localhost:40469/index.html\n",
      "Opening Canvas in default web browser.\n"
     ]
    }
   ],
   "source": [
    "item_sim_model = graphlab.item_similarity_recommender.create(train_data, user_id='user_id', item_id='product_id', target='rating', similarity_type='pearson')\n",
    "popularity_model = graphlab.popularity_recommender.create(train_data, user_id='user_id', item_id='product_id', target='rating')\n",
    "latent_model=graphlab.factorization_recommender.create(train_data, user_id='user_id', item_id='product_id', target='rating')\n",
    "model_performance = graphlab.compare(test_data, [popularity_model, item_sim_model,latent_model])\n",
    "graphlab.show_comparison(model_performance,[popularity_model, item_sim_model,latent_model])"
   ]
  },
  {
   "cell_type": "markdown",
   "metadata": {
    "collapsed": true
   },
   "source": [
    "###  As we can see that latent model which uses unsupervised learning to shrink the users traits into latent features gives us the best result\n",
    "\n",
    "###  Below is the code that is happening in the library\n",
    "  product_crosstab=pd.pivot_table(data=normratings,values='rating',index='user_id',columns='product_id',fill_value=0)\n",
    "\n",
    "  X=product_crosstab.values.T\n",
    "  \n",
    "  import sklearn\n",
    "  \n",
    "  from sklearn.decomposition import TruncatedSVD\n",
    "\n",
    "  SVD=TruncatedSVD(n_components=20,random_state=17)\n",
    "\n",
    "  resultant_matrix=SVD.fit_transform(X)  \n",
    "  \n",
    "  resultant_matrix.shape\n",
    "  \n",
    "  import numpy as np\n",
    "  \n",
    "  corr_mat = np.corrcoef(resultant_matrix)\n",
    "   \n",
    "  product_ids=product_crosstab.columns\n",
    "  \n",
    "  productlist=list(product_ids)\n",
    "  \n",
    "  productindexlist=[]\n",
    "  \n",
    " for i in productlist:\n",
    " \n",
    "    productindexlist.append(productlist.index(i))\n",
    "    \n",
    "  allrecommendations=[]    \n",
    "  \n",
    "  for j in productindexlist:\n",
    "  \n",
    "    corr_j=corr_mat[j]\n",
    " \n",
    "    corrlist=list(product_ids[(corr_j<1.0)&(corr_j>0.98)])\n",
    "    \n",
    "    corrlist.append(j)\n",
    "  \n",
    "    allrecommendations.append(corrlist)\n",
    "  \n",
    "  print(allrecommendations)\n",
    "\n",
    "### We use the Graphlab because it was able to scale since it was able to utilize the ibm dsx spark clusters"
   ]
  },
  {
   "cell_type": "code",
   "execution_count": null,
   "metadata": {},
   "outputs": [],
   "source": []
  }
 ],
 "metadata": {
  "kernelspec": {
   "display_name": "Python 2",
   "language": "python",
   "name": "python2"
  },
  "language_info": {
   "codemirror_mode": {
    "name": "ipython",
    "version": 2
   },
   "file_extension": ".py",
   "mimetype": "text/x-python",
   "name": "python",
   "nbconvert_exporter": "python",
   "pygments_lexer": "ipython2",
   "version": "2.7.13"
  }
 },
 "nbformat": 4,
 "nbformat_minor": 1
}
