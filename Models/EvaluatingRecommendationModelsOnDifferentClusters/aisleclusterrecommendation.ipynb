{
 "cells": [
  {
   "cell_type": "markdown",
   "metadata": {},
   "source": [
    "### Evaluating Recommendation models on aisle clustered data"
   ]
  },
  {
   "cell_type": "code",
   "execution_count": 2,
   "metadata": {},
   "outputs": [],
   "source": [
    "\n",
    "from io import StringIO\n",
    "import requests\n",
    "import json\n",
    "import pandas as pd\n",
    "\n",
    "# @hidden_cell\n",
    "# This function accesses a file in your Object Storage. The definition contains your credentials.\n",
    "# You might want to remove those credentials before you share your notebook.\n",
    "def get_object_storage_file_with_credentials_836eb90819e64bfab21841eef5b3bf3c(container, filename):\n",
    "    \"\"\"This functions returns a StringIO object containing\n",
    "    the file content from Bluemix Object Storage.\"\"\"\n",
    "\n",
    "    url1 = ''.join(['https://identity.open.softlayer.com', '/v3/auth/tokens'])\n",
    "    data = {'auth': {'identity': {'methods': ['password'],\n",
    "            'password': {'user': {'name': 'member_6429e107b4727d3f5906de019f7fad88ada04fb8','domain': {'id': 'b5bbfbbc2d764a9096fd4aeb7d0d1477'},\n",
    "            'password': 'o{a{0]Dnx^MJ-dc1'}}}}}\n",
    "    headers1 = {'Content-Type': 'application/json'}\n",
    "    resp1 = requests.post(url=url1, data=json.dumps(data), headers=headers1)\n",
    "    resp1_body = resp1.json()\n",
    "    for e1 in resp1_body['token']['catalog']:\n",
    "        if(e1['type']=='object-store'):\n",
    "            for e2 in e1['endpoints']:\n",
    "                        if(e2['interface']=='public'and e2['region']=='dallas'):\n",
    "                            url2 = ''.join([e2['url'],'/', container, '/', filename])\n",
    "    s_subject_token = resp1.headers['x-subject-token']\n",
    "    headers2 = {'X-Auth-Token': s_subject_token, 'accept': 'application/json'}\n",
    "    resp2 = requests.get(url=url2, headers=headers2)\n",
    "    return StringIO(resp2.text)\n",
    "\n"
   ]
  },
  {
   "cell_type": "code",
   "execution_count": 13,
   "metadata": {},
   "outputs": [
    {
     "data": {
      "text/html": [
       "<div>\n",
       "<table border=\"1\" class=\"dataframe\">\n",
       "  <thead>\n",
       "    <tr style=\"text-align: right;\">\n",
       "      <th></th>\n",
       "      <th>Unnamed: 0</th>\n",
       "      <th>user_id</th>\n",
       "      <th>product_id</th>\n",
       "      <th>rating</th>\n",
       "    </tr>\n",
       "  </thead>\n",
       "  <tbody>\n",
       "    <tr>\n",
       "      <th>0</th>\n",
       "      <td>0</td>\n",
       "      <td>1</td>\n",
       "      <td>13176</td>\n",
       "      <td>5.0</td>\n",
       "    </tr>\n",
       "    <tr>\n",
       "      <th>1</th>\n",
       "      <td>1</td>\n",
       "      <td>1</td>\n",
       "      <td>10326</td>\n",
       "      <td>2.5</td>\n",
       "    </tr>\n",
       "    <tr>\n",
       "      <th>2</th>\n",
       "      <td>2</td>\n",
       "      <td>1</td>\n",
       "      <td>17122</td>\n",
       "      <td>2.5</td>\n",
       "    </tr>\n",
       "    <tr>\n",
       "      <th>3</th>\n",
       "      <td>3</td>\n",
       "      <td>1</td>\n",
       "      <td>41787</td>\n",
       "      <td>2.5</td>\n",
       "    </tr>\n",
       "    <tr>\n",
       "      <th>4</th>\n",
       "      <td>4</td>\n",
       "      <td>2</td>\n",
       "      <td>24852</td>\n",
       "      <td>5.0</td>\n",
       "    </tr>\n",
       "  </tbody>\n",
       "</table>\n",
       "</div>"
      ],
      "text/plain": [
       "   Unnamed: 0  user_id  product_id  rating\n",
       "0           0        1       13176     5.0\n",
       "1           1        1       10326     2.5\n",
       "2           2        1       17122     2.5\n",
       "3           3        1       41787     2.5\n",
       "4           4        2       24852     5.0"
      ]
     },
     "execution_count": 13,
     "metadata": {},
     "output_type": "execute_result"
    }
   ],
   "source": [
    "normratings= pd.read_csv(get_object_storage_file_with_credentials_836eb90819e64bfab21841eef5b3bf3c('insta', 'aislecluster1.csv'))\n",
    "normratings.head()\n"
   ]
  },
  {
   "cell_type": "code",
   "execution_count": 3,
   "metadata": {
    "scrolled": true
   },
   "outputs": [
    {
     "name": "stdout",
     "output_type": "stream",
     "text": [
      "Collecting https://get.graphlab.com/GraphLab-Create/2.1/goel.t@husky.neu.edu/E914-C086-1338-7082-B278-E8A7-1C13-1FDE/GraphLab-Create-License.tar.gz\n",
      "  Downloading https://get.graphlab.com/GraphLab-Create/2.1/goel.t@husky.neu.edu/E914-C086-1338-7082-B278-E8A7-1C13-1FDE/GraphLab-Create-License.tar.gz\n",
      "Requirement already up-to-date: graphlab-create>=2.1 in /gpfs/global_fs01/sym_shared/YPProdSpark/user/sed1-980fc88e6d89d3-f770736419c3/.local/lib/python2.7/site-packages (from GraphLab-Create-License==2.1)\n",
      "Requirement already up-to-date: psclient in /gpfs/global_fs01/sym_shared/YPProdSpark/user/sed1-980fc88e6d89d3-f770736419c3/.local/lib/python2.7/site-packages (from graphlab-create>=2.1->GraphLab-Create-License==2.1)\n",
      "Requirement already up-to-date: boto==2.33.0 in /gpfs/global_fs01/sym_shared/YPProdSpark/user/sed1-980fc88e6d89d3-f770736419c3/.local/lib/python2.7/site-packages (from graphlab-create>=2.1->GraphLab-Create-License==2.1)\n",
      "Requirement already up-to-date: decorator==4.0.9 in /gpfs/global_fs01/sym_shared/YPProdSpark/user/sed1-980fc88e6d89d3-f770736419c3/.local/lib/python2.7/site-packages (from graphlab-create>=2.1->GraphLab-Create-License==2.1)\n",
      "Requirement already up-to-date: tornado==4.3 in /usr/local/src/bluemix_jupyter_bundle.v73/notebook/lib/python2.7/site-packages (from graphlab-create>=2.1->GraphLab-Create-License==2.1)\n",
      "Requirement already up-to-date: prettytable==0.7.2 in /usr/local/src/bluemix_jupyter_bundle.v73/notebook/lib/python2.7/site-packages (from graphlab-create>=2.1->GraphLab-Create-License==2.1)\n",
      "Requirement already up-to-date: requests==2.9.1 in /gpfs/global_fs01/sym_shared/YPProdSpark/user/sed1-980fc88e6d89d3-f770736419c3/.local/lib/python2.7/site-packages (from graphlab-create>=2.1->GraphLab-Create-License==2.1)\n",
      "Requirement already up-to-date: awscli==1.6.2 in /gpfs/global_fs01/sym_shared/YPProdSpark/user/sed1-980fc88e6d89d3-f770736419c3/.local/lib/python2.7/site-packages (from graphlab-create>=2.1->GraphLab-Create-License==2.1)\n",
      "Requirement already up-to-date: sseclient==0.0.8 in /gpfs/global_fs01/sym_shared/YPProdSpark/user/sed1-980fc88e6d89d3-f770736419c3/.local/lib/python2.7/site-packages (from graphlab-create>=2.1->GraphLab-Create-License==2.1)\n",
      "Requirement already up-to-date: multipledispatch>=0.4.7 in /gpfs/global_fs01/sym_shared/YPProdSpark/user/sed1-980fc88e6d89d3-f770736419c3/.local/lib/python2.7/site-packages (from graphlab-create>=2.1->GraphLab-Create-License==2.1)\n",
      "Requirement already up-to-date: certifi==2015.04.28 in /gpfs/global_fs01/sym_shared/YPProdSpark/user/sed1-980fc88e6d89d3-f770736419c3/.local/lib/python2.7/site-packages (from graphlab-create>=2.1->GraphLab-Create-License==2.1)\n",
      "Requirement already up-to-date: jsonschema==2.5.1 in /usr/local/src/bluemix_jupyter_bundle.v73/notebook/lib/python2.7/site-packages (from graphlab-create>=2.1->GraphLab-Create-License==2.1)\n",
      "Requirement already up-to-date: genson==0.1.0 in /gpfs/global_fs01/sym_shared/YPProdSpark/user/sed1-980fc88e6d89d3-f770736419c3/.local/lib/python2.7/site-packages (from graphlab-create>=2.1->GraphLab-Create-License==2.1)\n",
      "Requirement already up-to-date: python-dateutil in /gpfs/global_fs01/sym_shared/YPProdSpark/user/sed1-980fc88e6d89d3-f770736419c3/.local/lib/python2.7/site-packages (from psclient->graphlab-create>=2.1->GraphLab-Create-License==2.1)\n",
      "Requirement already up-to-date: backports.ssl_match_hostname in /gpfs/global_fs01/sym_shared/YPProdSpark/user/sed1-980fc88e6d89d3-f770736419c3/.local/lib/python2.7/site-packages (from tornado==4.3->graphlab-create>=2.1->GraphLab-Create-License==2.1)\n",
      "Requirement already up-to-date: singledispatch in /usr/local/src/bluemix_jupyter_bundle.v73/notebook/lib/python2.7/site-packages (from tornado==4.3->graphlab-create>=2.1->GraphLab-Create-License==2.1)\n",
      "Requirement already up-to-date: backports_abc>=0.4 in /gpfs/global_fs01/sym_shared/YPProdSpark/user/sed1-980fc88e6d89d3-f770736419c3/.local/lib/python2.7/site-packages (from tornado==4.3->graphlab-create>=2.1->GraphLab-Create-License==2.1)\n",
      "Requirement already up-to-date: botocore<0.74.0,>=0.73.0 in /gpfs/global_fs01/sym_shared/YPProdSpark/user/sed1-980fc88e6d89d3-f770736419c3/.local/lib/python2.7/site-packages (from awscli==1.6.2->graphlab-create>=2.1->GraphLab-Create-License==2.1)\n",
      "Requirement already up-to-date: bcdoc<0.13.0,>=0.12.0 in /gpfs/global_fs01/sym_shared/YPProdSpark/user/sed1-980fc88e6d89d3-f770736419c3/.local/lib/python2.7/site-packages (from awscli==1.6.2->graphlab-create>=2.1->GraphLab-Create-License==2.1)\n",
      "Requirement already up-to-date: six>=1.1.0 in /gpfs/global_fs01/sym_shared/YPProdSpark/user/sed1-980fc88e6d89d3-f770736419c3/.local/lib/python2.7/site-packages (from awscli==1.6.2->graphlab-create>=2.1->GraphLab-Create-License==2.1)\n",
      "Requirement already up-to-date: colorama==0.2.5 in /gpfs/global_fs01/sym_shared/YPProdSpark/user/sed1-980fc88e6d89d3-f770736419c3/.local/lib/python2.7/site-packages (from awscli==1.6.2->graphlab-create>=2.1->GraphLab-Create-License==2.1)\n",
      "Requirement already up-to-date: docutils>=0.10 in /gpfs/global_fs01/sym_shared/YPProdSpark/user/sed1-980fc88e6d89d3-f770736419c3/.local/lib/python2.7/site-packages (from awscli==1.6.2->graphlab-create>=2.1->GraphLab-Create-License==2.1)\n",
      "Requirement already up-to-date: rsa==3.1.2 in /gpfs/global_fs01/sym_shared/YPProdSpark/user/sed1-980fc88e6d89d3-f770736419c3/.local/lib/python2.7/site-packages (from awscli==1.6.2->graphlab-create>=2.1->GraphLab-Create-License==2.1)\n",
      "Requirement already up-to-date: functools32; python_version == \"2.7\" in /usr/local/src/bluemix_jupyter_bundle.v73/notebook/lib/python2.7/site-packages (from jsonschema==2.5.1->graphlab-create>=2.1->GraphLab-Create-License==2.1)\n",
      "Requirement already up-to-date: jmespath==0.5.0 in /gpfs/global_fs01/sym_shared/YPProdSpark/user/sed1-980fc88e6d89d3-f770736419c3/.local/lib/python2.7/site-packages (from botocore<0.74.0,>=0.73.0->awscli==1.6.2->graphlab-create>=2.1->GraphLab-Create-License==2.1)\n",
      "Requirement already up-to-date: pyasn1>=0.1.3 in /gpfs/global_fs01/sym_shared/YPProdSpark/user/sed1-980fc88e6d89d3-f770736419c3/.local/lib/python2.7/site-packages (from rsa==3.1.2->awscli==1.6.2->graphlab-create>=2.1->GraphLab-Create-License==2.1)\n",
      "Installing collected packages: GraphLab-Create-License\n",
      "  Found existing installation: GraphLab-Create-License 2.1\n",
      "    Uninstalling GraphLab-Create-License-2.1:\n",
      "      Successfully uninstalled GraphLab-Create-License-2.1\n",
      "  Running setup.py install for GraphLab-Create-License ... \u001b[?25ldone\n",
      "\u001b[?25hSuccessfully installed GraphLab-Create-License-2.1\n"
     ]
    }
   ],
   "source": [
    "!pip install --user --upgrade --no-cache-dir https://get.graphlab.com/GraphLab-Create/2.1/goel.t@husky.neu.edu/E914-C086-1338-7082-B278-E8A7-1C13-1FDE/GraphLab-Create-License.tar.gz\n",
    "    "
   ]
  },
  {
   "cell_type": "markdown",
   "metadata": {},
   "source": [
    "### Running Recommendations by clustering on basis of aisle"
   ]
  },
  {
   "cell_type": "code",
   "execution_count": 14,
   "metadata": {},
   "outputs": [],
   "source": [
    "import numpy as np\n",
    "import graphlab\n",
    "\n",
    "msk = np.random.rand(len(normratings)) < 0.8\n",
    "train = normratings[msk]\n",
    "test = normratings[~msk]\n",
    "train_data = graphlab.SFrame(train)\n",
    "test_data=graphlab.SFrame(test)"
   ]
  },
  {
   "cell_type": "markdown",
   "metadata": {},
   "source": [
    "#### Creating item similarity model, popularity model and latent model on the clustered data for comparing and selecting best out of them"
   ]
  },
  {
   "cell_type": "code",
   "execution_count": 15,
   "metadata": {},
   "outputs": [
    {
     "data": {
      "text/html": [
       "<pre>Recsys training: model = item_similarity</pre>"
      ],
      "text/plain": [
       "Recsys training: model = item_similarity"
      ]
     },
     "metadata": {},
     "output_type": "display_data"
    },
    {
     "data": {
      "text/html": [
       "<pre>Warning: Ignoring columns Unnamed: 0;</pre>"
      ],
      "text/plain": [
       "Warning: Ignoring columns Unnamed: 0;"
      ]
     },
     "metadata": {},
     "output_type": "display_data"
    },
    {
     "data": {
      "text/html": [
       "<pre>    To use these columns in scoring predictions, use a model that allows the use of additional features.</pre>"
      ],
      "text/plain": [
       "    To use these columns in scoring predictions, use a model that allows the use of additional features."
      ]
     },
     "metadata": {},
     "output_type": "display_data"
    },
    {
     "data": {
      "text/html": [
       "<pre>Preparing data set.</pre>"
      ],
      "text/plain": [
       "Preparing data set."
      ]
     },
     "metadata": {},
     "output_type": "display_data"
    },
    {
     "data": {
      "text/html": [
       "<pre>    Data has 853089 observations with 173475 users and 382 items.</pre>"
      ],
      "text/plain": [
       "    Data has 853089 observations with 173475 users and 382 items."
      ]
     },
     "metadata": {},
     "output_type": "display_data"
    },
    {
     "data": {
      "text/html": [
       "<pre>    Data prepared in: 2.27112s</pre>"
      ],
      "text/plain": [
       "    Data prepared in: 2.27112s"
      ]
     },
     "metadata": {},
     "output_type": "display_data"
    },
    {
     "data": {
      "text/html": [
       "<pre>Training model from provided data.</pre>"
      ],
      "text/plain": [
       "Training model from provided data."
      ]
     },
     "metadata": {},
     "output_type": "display_data"
    },
    {
     "data": {
      "text/html": [
       "<pre>Gathering per-item and per-user statistics.</pre>"
      ],
      "text/plain": [
       "Gathering per-item and per-user statistics."
      ]
     },
     "metadata": {},
     "output_type": "display_data"
    },
    {
     "data": {
      "text/html": [
       "<pre>+--------------------------------+------------+</pre>"
      ],
      "text/plain": [
       "+--------------------------------+------------+"
      ]
     },
     "metadata": {},
     "output_type": "display_data"
    },
    {
     "data": {
      "text/html": [
       "<pre>| Elapsed Time (Item Statistics) | % Complete |</pre>"
      ],
      "text/plain": [
       "| Elapsed Time (Item Statistics) | % Complete |"
      ]
     },
     "metadata": {},
     "output_type": "display_data"
    },
    {
     "data": {
      "text/html": [
       "<pre>+--------------------------------+------------+</pre>"
      ],
      "text/plain": [
       "+--------------------------------+------------+"
      ]
     },
     "metadata": {},
     "output_type": "display_data"
    },
    {
     "data": {
      "text/html": [
       "<pre>| 1.457ms                        | 3.25       |</pre>"
      ],
      "text/plain": [
       "| 1.457ms                        | 3.25       |"
      ]
     },
     "metadata": {},
     "output_type": "display_data"
    },
    {
     "data": {
      "text/html": [
       "<pre>| 1.00s                          | 60.5       |</pre>"
      ],
      "text/plain": [
       "| 1.00s                          | 60.5       |"
      ]
     },
     "metadata": {},
     "output_type": "display_data"
    },
    {
     "data": {
      "text/html": [
       "<pre>| 1.81s                          | 100        |</pre>"
      ],
      "text/plain": [
       "| 1.81s                          | 100        |"
      ]
     },
     "metadata": {},
     "output_type": "display_data"
    },
    {
     "data": {
      "text/html": [
       "<pre>+--------------------------------+------------+</pre>"
      ],
      "text/plain": [
       "+--------------------------------+------------+"
      ]
     },
     "metadata": {},
     "output_type": "display_data"
    },
    {
     "data": {
      "text/html": [
       "<pre>Setting up lookup tables.</pre>"
      ],
      "text/plain": [
       "Setting up lookup tables."
      ]
     },
     "metadata": {},
     "output_type": "display_data"
    },
    {
     "data": {
      "text/html": [
       "<pre>Processing data in one pass using dense lookup tables.</pre>"
      ],
      "text/plain": [
       "Processing data in one pass using dense lookup tables."
      ]
     },
     "metadata": {},
     "output_type": "display_data"
    },
    {
     "data": {
      "text/html": [
       "<pre>+-------------------------------------+------------------+-----------------+</pre>"
      ],
      "text/plain": [
       "+-------------------------------------+------------------+-----------------+"
      ]
     },
     "metadata": {},
     "output_type": "display_data"
    },
    {
     "data": {
      "text/html": [
       "<pre>| Elapsed Time (Constructing Lookups) | Total % Complete | Items Processed |</pre>"
      ],
      "text/plain": [
       "| Elapsed Time (Constructing Lookups) | Total % Complete | Items Processed |"
      ]
     },
     "metadata": {},
     "output_type": "display_data"
    },
    {
     "data": {
      "text/html": [
       "<pre>+-------------------------------------+------------------+-----------------+</pre>"
      ],
      "text/plain": [
       "+-------------------------------------+------------------+-----------------+"
      ]
     },
     "metadata": {},
     "output_type": "display_data"
    },
    {
     "data": {
      "text/html": [
       "<pre>| 1.81s                               | 0                | 0               |</pre>"
      ],
      "text/plain": [
       "| 1.81s                               | 0                | 0               |"
      ]
     },
     "metadata": {},
     "output_type": "display_data"
    },
    {
     "data": {
      "text/html": [
       "<pre>| 2.90s                               | 33.25            | 127             |</pre>"
      ],
      "text/plain": [
       "| 2.90s                               | 33.25            | 127             |"
      ]
     },
     "metadata": {},
     "output_type": "display_data"
    },
    {
     "data": {
      "text/html": [
       "<pre>| 3.70s                               | 100              | 382             |</pre>"
      ],
      "text/plain": [
       "| 3.70s                               | 100              | 382             |"
      ]
     },
     "metadata": {},
     "output_type": "display_data"
    },
    {
     "data": {
      "text/html": [
       "<pre>+-------------------------------------+------------------+-----------------+</pre>"
      ],
      "text/plain": [
       "+-------------------------------------+------------------+-----------------+"
      ]
     },
     "metadata": {},
     "output_type": "display_data"
    },
    {
     "data": {
      "text/html": [
       "<pre>Finalizing lookup tables.</pre>"
      ],
      "text/plain": [
       "Finalizing lookup tables."
      ]
     },
     "metadata": {},
     "output_type": "display_data"
    },
    {
     "data": {
      "text/html": [
       "<pre>Generating candidate set for working with new users.</pre>"
      ],
      "text/plain": [
       "Generating candidate set for working with new users."
      ]
     },
     "metadata": {},
     "output_type": "display_data"
    },
    {
     "data": {
      "text/html": [
       "<pre>Finished training in 5.02647s</pre>"
      ],
      "text/plain": [
       "Finished training in 5.02647s"
      ]
     },
     "metadata": {},
     "output_type": "display_data"
    },
    {
     "data": {
      "text/html": [
       "<pre>Recsys training: model = popularity</pre>"
      ],
      "text/plain": [
       "Recsys training: model = popularity"
      ]
     },
     "metadata": {},
     "output_type": "display_data"
    },
    {
     "data": {
      "text/html": [
       "<pre>Warning: Ignoring columns Unnamed: 0;</pre>"
      ],
      "text/plain": [
       "Warning: Ignoring columns Unnamed: 0;"
      ]
     },
     "metadata": {},
     "output_type": "display_data"
    },
    {
     "data": {
      "text/html": [
       "<pre>    To use these columns in scoring predictions, use a model that allows the use of additional features.</pre>"
      ],
      "text/plain": [
       "    To use these columns in scoring predictions, use a model that allows the use of additional features."
      ]
     },
     "metadata": {},
     "output_type": "display_data"
    },
    {
     "data": {
      "text/html": [
       "<pre>Preparing data set.</pre>"
      ],
      "text/plain": [
       "Preparing data set."
      ]
     },
     "metadata": {},
     "output_type": "display_data"
    },
    {
     "data": {
      "text/html": [
       "<pre>    Data has 853089 observations with 173475 users and 382 items.</pre>"
      ],
      "text/plain": [
       "    Data has 853089 observations with 173475 users and 382 items."
      ]
     },
     "metadata": {},
     "output_type": "display_data"
    },
    {
     "data": {
      "text/html": [
       "<pre>    Data prepared in: 2.45377s</pre>"
      ],
      "text/plain": [
       "    Data prepared in: 2.45377s"
      ]
     },
     "metadata": {},
     "output_type": "display_data"
    },
    {
     "data": {
      "text/html": [
       "<pre>853089 observations to process; with 382 unique items.</pre>"
      ],
      "text/plain": [
       "853089 observations to process; with 382 unique items."
      ]
     },
     "metadata": {},
     "output_type": "display_data"
    },
    {
     "data": {
      "text/html": [
       "<pre>Recsys training: model = factorization_recommender</pre>"
      ],
      "text/plain": [
       "Recsys training: model = factorization_recommender"
      ]
     },
     "metadata": {},
     "output_type": "display_data"
    },
    {
     "data": {
      "text/html": [
       "<pre>Preparing data set.</pre>"
      ],
      "text/plain": [
       "Preparing data set."
      ]
     },
     "metadata": {},
     "output_type": "display_data"
    },
    {
     "data": {
      "text/html": [
       "<pre>    Data has 853089 observations with 173475 users and 382 items.</pre>"
      ],
      "text/plain": [
       "    Data has 853089 observations with 173475 users and 382 items."
      ]
     },
     "metadata": {},
     "output_type": "display_data"
    },
    {
     "data": {
      "text/html": [
       "<pre>    Data prepared in: 2.47247s</pre>"
      ],
      "text/plain": [
       "    Data prepared in: 2.47247s"
      ]
     },
     "metadata": {},
     "output_type": "display_data"
    },
    {
     "data": {
      "text/html": [
       "<pre>Training factorization_recommender for recommendations.</pre>"
      ],
      "text/plain": [
       "Training factorization_recommender for recommendations."
      ]
     },
     "metadata": {},
     "output_type": "display_data"
    },
    {
     "data": {
      "text/html": [
       "<pre>+--------------------------------+--------------------------------------------------+----------+</pre>"
      ],
      "text/plain": [
       "+--------------------------------+--------------------------------------------------+----------+"
      ]
     },
     "metadata": {},
     "output_type": "display_data"
    },
    {
     "data": {
      "text/html": [
       "<pre>| Parameter                      | Description                                      | Value    |</pre>"
      ],
      "text/plain": [
       "| Parameter                      | Description                                      | Value    |"
      ]
     },
     "metadata": {},
     "output_type": "display_data"
    },
    {
     "data": {
      "text/html": [
       "<pre>+--------------------------------+--------------------------------------------------+----------+</pre>"
      ],
      "text/plain": [
       "+--------------------------------+--------------------------------------------------+----------+"
      ]
     },
     "metadata": {},
     "output_type": "display_data"
    },
    {
     "data": {
      "text/html": [
       "<pre>| num_factors                    | Factor Dimension                                 | 8        |</pre>"
      ],
      "text/plain": [
       "| num_factors                    | Factor Dimension                                 | 8        |"
      ]
     },
     "metadata": {},
     "output_type": "display_data"
    },
    {
     "data": {
      "text/html": [
       "<pre>| regularization                 | L2 Regularization on Factors                     | 1e-08    |</pre>"
      ],
      "text/plain": [
       "| regularization                 | L2 Regularization on Factors                     | 1e-08    |"
      ]
     },
     "metadata": {},
     "output_type": "display_data"
    },
    {
     "data": {
      "text/html": [
       "<pre>| solver                         | Solver used for training                         | adagrad  |</pre>"
      ],
      "text/plain": [
       "| solver                         | Solver used for training                         | adagrad  |"
      ]
     },
     "metadata": {},
     "output_type": "display_data"
    },
    {
     "data": {
      "text/html": [
       "<pre>| linear_regularization          | L2 Regularization on Linear Coefficients         | 1e-10    |</pre>"
      ],
      "text/plain": [
       "| linear_regularization          | L2 Regularization on Linear Coefficients         | 1e-10    |"
      ]
     },
     "metadata": {},
     "output_type": "display_data"
    },
    {
     "data": {
      "text/html": [
       "<pre>| max_iterations                 | Maximum Number of Iterations                     | 50       |</pre>"
      ],
      "text/plain": [
       "| max_iterations                 | Maximum Number of Iterations                     | 50       |"
      ]
     },
     "metadata": {},
     "output_type": "display_data"
    },
    {
     "data": {
      "text/html": [
       "<pre>+--------------------------------+--------------------------------------------------+----------+</pre>"
      ],
      "text/plain": [
       "+--------------------------------+--------------------------------------------------+----------+"
      ]
     },
     "metadata": {},
     "output_type": "display_data"
    },
    {
     "data": {
      "text/html": [
       "<pre>  Optimizing model using SGD; tuning step size.</pre>"
      ],
      "text/plain": [
       "  Optimizing model using SGD; tuning step size."
      ]
     },
     "metadata": {},
     "output_type": "display_data"
    },
    {
     "data": {
      "text/html": [
       "<pre>  Using 106636 / 853089 points for tuning the step size.</pre>"
      ],
      "text/plain": [
       "  Using 106636 / 853089 points for tuning the step size."
      ]
     },
     "metadata": {},
     "output_type": "display_data"
    },
    {
     "data": {
      "text/html": [
       "<pre>+---------+-------------------+------------------------------------------+</pre>"
      ],
      "text/plain": [
       "+---------+-------------------+------------------------------------------+"
      ]
     },
     "metadata": {},
     "output_type": "display_data"
    },
    {
     "data": {
      "text/html": [
       "<pre>| Attempt | Initial Step Size | Estimated Objective Value                |</pre>"
      ],
      "text/plain": [
       "| Attempt | Initial Step Size | Estimated Objective Value                |"
      ]
     },
     "metadata": {},
     "output_type": "display_data"
    },
    {
     "data": {
      "text/html": [
       "<pre>+---------+-------------------+------------------------------------------+</pre>"
      ],
      "text/plain": [
       "+---------+-------------------+------------------------------------------+"
      ]
     },
     "metadata": {},
     "output_type": "display_data"
    },
    {
     "data": {
      "text/html": [
       "<pre>| 0       | 16.6667           | Not Viable                               |</pre>"
      ],
      "text/plain": [
       "| 0       | 16.6667           | Not Viable                               |"
      ]
     },
     "metadata": {},
     "output_type": "display_data"
    },
    {
     "data": {
      "text/html": [
       "<pre>| 1       | 4.16667           | Not Viable                               |</pre>"
      ],
      "text/plain": [
       "| 1       | 4.16667           | Not Viable                               |"
      ]
     },
     "metadata": {},
     "output_type": "display_data"
    },
    {
     "data": {
      "text/html": [
       "<pre>| 2       | 1.04167           | Not Viable                               |</pre>"
      ],
      "text/plain": [
       "| 2       | 1.04167           | Not Viable                               |"
      ]
     },
     "metadata": {},
     "output_type": "display_data"
    },
    {
     "data": {
      "text/html": [
       "<pre>| 3       | 0.260417          | 0.289441                                 |</pre>"
      ],
      "text/plain": [
       "| 3       | 0.260417          | 0.289441                                 |"
      ]
     },
     "metadata": {},
     "output_type": "display_data"
    },
    {
     "data": {
      "text/html": [
       "<pre>| 4       | 0.130208          | 0.115794                                 |</pre>"
      ],
      "text/plain": [
       "| 4       | 0.130208          | 0.115794                                 |"
      ]
     },
     "metadata": {},
     "output_type": "display_data"
    },
    {
     "data": {
      "text/html": [
       "<pre>| 5       | 0.0651042         | 0.375418                                 |</pre>"
      ],
      "text/plain": [
       "| 5       | 0.0651042         | 0.375418                                 |"
      ]
     },
     "metadata": {},
     "output_type": "display_data"
    },
    {
     "data": {
      "text/html": [
       "<pre>+---------+-------------------+------------------------------------------+</pre>"
      ],
      "text/plain": [
       "+---------+-------------------+------------------------------------------+"
      ]
     },
     "metadata": {},
     "output_type": "display_data"
    },
    {
     "data": {
      "text/html": [
       "<pre>| Final   | 0.130208          | 0.115794                                 |</pre>"
      ],
      "text/plain": [
       "| Final   | 0.130208          | 0.115794                                 |"
      ]
     },
     "metadata": {},
     "output_type": "display_data"
    },
    {
     "data": {
      "text/html": [
       "<pre>+---------+-------------------+------------------------------------------+</pre>"
      ],
      "text/plain": [
       "+---------+-------------------+------------------------------------------+"
      ]
     },
     "metadata": {},
     "output_type": "display_data"
    },
    {
     "data": {
      "text/html": [
       "<pre>Starting Optimization.</pre>"
      ],
      "text/plain": [
       "Starting Optimization."
      ]
     },
     "metadata": {},
     "output_type": "display_data"
    },
    {
     "data": {
      "text/html": [
       "<pre>+---------+--------------+-------------------+-----------------------+-------------+</pre>"
      ],
      "text/plain": [
       "+---------+--------------+-------------------+-----------------------+-------------+"
      ]
     },
     "metadata": {},
     "output_type": "display_data"
    },
    {
     "data": {
      "text/html": [
       "<pre>| Iter.   | Elapsed Time | Approx. Objective | Approx. Training RMSE | Step Size   |</pre>"
      ],
      "text/plain": [
       "| Iter.   | Elapsed Time | Approx. Objective | Approx. Training RMSE | Step Size   |"
      ]
     },
     "metadata": {},
     "output_type": "display_data"
    },
    {
     "data": {
      "text/html": [
       "<pre>+---------+--------------+-------------------+-----------------------+-------------+</pre>"
      ],
      "text/plain": [
       "+---------+--------------+-------------------+-----------------------+-------------+"
      ]
     },
     "metadata": {},
     "output_type": "display_data"
    },
    {
     "data": {
      "text/html": [
       "<pre>| Initial | 119us        | 3.05412           | 1.7476                |             |</pre>"
      ],
      "text/plain": [
       "| Initial | 119us        | 3.05412           | 1.7476                |             |"
      ]
     },
     "metadata": {},
     "output_type": "display_data"
    },
    {
     "data": {
      "text/html": [
       "<pre>+---------+--------------+-------------------+-----------------------+-------------+</pre>"
      ],
      "text/plain": [
       "+---------+--------------+-------------------+-----------------------+-------------+"
      ]
     },
     "metadata": {},
     "output_type": "display_data"
    },
    {
     "data": {
      "text/html": [
       "<pre>| 1       | 5.67s        | 2.39574           | 1.54764               | 0.130208    |</pre>"
      ],
      "text/plain": [
       "| 1       | 5.67s        | 2.39574           | 1.54764               | 0.130208    |"
      ]
     },
     "metadata": {},
     "output_type": "display_data"
    },
    {
     "data": {
      "text/html": [
       "<pre>| 2       | 11.39s       | 1.9259            | 1.38751               | 0.130208    |</pre>"
      ],
      "text/plain": [
       "| 2       | 11.39s       | 1.9259            | 1.38751               | 0.130208    |"
      ]
     },
     "metadata": {},
     "output_type": "display_data"
    },
    {
     "data": {
      "text/html": [
       "<pre>| 3       | 16.69s       | 1.4563            | 1.20649               | 0.130208    |</pre>"
      ],
      "text/plain": [
       "| 3       | 16.69s       | 1.4563            | 1.20649               | 0.130208    |"
      ]
     },
     "metadata": {},
     "output_type": "display_data"
    },
    {
     "data": {
      "text/html": [
       "<pre>| 4       | 21.98s       | 1.03931           | 1.01911               | 0.130208    |</pre>"
      ],
      "text/plain": [
       "| 4       | 21.98s       | 1.03931           | 1.01911               | 0.130208    |"
      ]
     },
     "metadata": {},
     "output_type": "display_data"
    },
    {
     "data": {
      "text/html": [
       "<pre>| 5       | 27.17s       | 0.848968          | 0.920992              | 0.130208    |</pre>"
      ],
      "text/plain": [
       "| 5       | 27.17s       | 0.848968          | 0.920992              | 0.130208    |"
      ]
     },
     "metadata": {},
     "output_type": "display_data"
    },
    {
     "data": {
      "text/html": [
       "<pre>| 6       | 32.50s       | 0.727559          | 0.852526              | 0.130208    |</pre>"
      ],
      "text/plain": [
       "| 6       | 32.50s       | 0.727559          | 0.852526              | 0.130208    |"
      ]
     },
     "metadata": {},
     "output_type": "display_data"
    },
    {
     "data": {
      "text/html": [
       "<pre>| 7       | 37.90s       | 0.647339          | 0.804094              | 0.130208    |</pre>"
      ],
      "text/plain": [
       "| 7       | 37.90s       | 0.647339          | 0.804094              | 0.130208    |"
      ]
     },
     "metadata": {},
     "output_type": "display_data"
    },
    {
     "data": {
      "text/html": [
       "<pre>| 8       | 43.59s       | 0.58865           | 0.766726              | 0.130208    |</pre>"
      ],
      "text/plain": [
       "| 8       | 43.59s       | 0.58865           | 0.766726              | 0.130208    |"
      ]
     },
     "metadata": {},
     "output_type": "display_data"
    },
    {
     "data": {
      "text/html": [
       "<pre>| 9       | 48.88s       | 0.543111          | 0.736424              | 0.130208    |</pre>"
      ],
      "text/plain": [
       "| 9       | 48.88s       | 0.543111          | 0.736424              | 0.130208    |"
      ]
     },
     "metadata": {},
     "output_type": "display_data"
    },
    {
     "data": {
      "text/html": [
       "<pre>| 10      | 54.18s       | 0.506697          | 0.711266              | 0.130208    |</pre>"
      ],
      "text/plain": [
       "| 10      | 54.18s       | 0.506697          | 0.711266              | 0.130208    |"
      ]
     },
     "metadata": {},
     "output_type": "display_data"
    },
    {
     "data": {
      "text/html": [
       "<pre>| 11      | 59.40s       | 0.477429          | 0.69038               | 0.130208    |</pre>"
      ],
      "text/plain": [
       "| 11      | 59.40s       | 0.477429          | 0.69038               | 0.130208    |"
      ]
     },
     "metadata": {},
     "output_type": "display_data"
    },
    {
     "data": {
      "text/html": [
       "<pre>| 12      | 1m 4s        | 0.453154          | 0.672565              | 0.130208    |</pre>"
      ],
      "text/plain": [
       "| 12      | 1m 4s        | 0.453154          | 0.672565              | 0.130208    |"
      ]
     },
     "metadata": {},
     "output_type": "display_data"
    },
    {
     "data": {
      "text/html": [
       "<pre>| 13      | 1m 10s       | 0.43351           | 0.657795              | 0.130208    |</pre>"
      ],
      "text/plain": [
       "| 13      | 1m 10s       | 0.43351           | 0.657795              | 0.130208    |"
      ]
     },
     "metadata": {},
     "output_type": "display_data"
    },
    {
     "data": {
      "text/html": [
       "<pre>| 14      | 1m 15s       | 0.415975          | 0.644325              | 0.130208    |</pre>"
      ],
      "text/plain": [
       "| 14      | 1m 15s       | 0.415975          | 0.644325              | 0.130208    |"
      ]
     },
     "metadata": {},
     "output_type": "display_data"
    },
    {
     "data": {
      "text/html": [
       "<pre>| 15      | 1m 20s       | 0.400613          | 0.632288              | 0.130208    |</pre>"
      ],
      "text/plain": [
       "| 15      | 1m 20s       | 0.400613          | 0.632288              | 0.130208    |"
      ]
     },
     "metadata": {},
     "output_type": "display_data"
    },
    {
     "data": {
      "text/html": [
       "<pre>| 16      | 1m 25s       | 0.386786          | 0.621255              | 0.130208    |</pre>"
      ],
      "text/plain": [
       "| 16      | 1m 25s       | 0.386786          | 0.621255              | 0.130208    |"
      ]
     },
     "metadata": {},
     "output_type": "display_data"
    },
    {
     "data": {
      "text/html": [
       "<pre>| 17      | 1m 30s       | 0.374909          | 0.611619              | 0.130208    |</pre>"
      ],
      "text/plain": [
       "| 17      | 1m 30s       | 0.374909          | 0.611619              | 0.130208    |"
      ]
     },
     "metadata": {},
     "output_type": "display_data"
    },
    {
     "data": {
      "text/html": [
       "<pre>| 18      | 1m 35s       | 0.36376           | 0.602433              | 0.130208    |</pre>"
      ],
      "text/plain": [
       "| 18      | 1m 35s       | 0.36376           | 0.602433              | 0.130208    |"
      ]
     },
     "metadata": {},
     "output_type": "display_data"
    },
    {
     "data": {
      "text/html": [
       "<pre>| 19      | 1m 40s       | 0.354457          | 0.594659              | 0.130208    |</pre>"
      ],
      "text/plain": [
       "| 19      | 1m 40s       | 0.354457          | 0.594659              | 0.130208    |"
      ]
     },
     "metadata": {},
     "output_type": "display_data"
    },
    {
     "data": {
      "text/html": [
       "<pre>| 20      | 1m 45s       | 0.345487          | 0.587067              | 0.130208    |</pre>"
      ],
      "text/plain": [
       "| 20      | 1m 45s       | 0.345487          | 0.587067              | 0.130208    |"
      ]
     },
     "metadata": {},
     "output_type": "display_data"
    },
    {
     "data": {
      "text/html": [
       "<pre>| 21      | 1m 50s       | 0.337601          | 0.58031               | 0.130208    |</pre>"
      ],
      "text/plain": [
       "| 21      | 1m 50s       | 0.337601          | 0.58031               | 0.130208    |"
      ]
     },
     "metadata": {},
     "output_type": "display_data"
    },
    {
     "data": {
      "text/html": [
       "<pre>| 22      | 1m 55s       | 0.330619          | 0.574261              | 0.130208    |</pre>"
      ],
      "text/plain": [
       "| 22      | 1m 55s       | 0.330619          | 0.574261              | 0.130208    |"
      ]
     },
     "metadata": {},
     "output_type": "display_data"
    },
    {
     "data": {
      "text/html": [
       "<pre>| 23      | 2m 1s        | 0.3241            | 0.568555              | 0.130208    |</pre>"
      ],
      "text/plain": [
       "| 23      | 2m 1s        | 0.3241            | 0.568555              | 0.130208    |"
      ]
     },
     "metadata": {},
     "output_type": "display_data"
    },
    {
     "data": {
      "text/html": [
       "<pre>| 24      | 2m 6s        | 0.317944          | 0.563114              | 0.130208    |</pre>"
      ],
      "text/plain": [
       "| 24      | 2m 6s        | 0.317944          | 0.563114              | 0.130208    |"
      ]
     },
     "metadata": {},
     "output_type": "display_data"
    },
    {
     "data": {
      "text/html": [
       "<pre>| 25      | 2m 11s       | 0.312584          | 0.558334              | 0.130208    |</pre>"
      ],
      "text/plain": [
       "| 25      | 2m 11s       | 0.312584          | 0.558334              | 0.130208    |"
      ]
     },
     "metadata": {},
     "output_type": "display_data"
    },
    {
     "data": {
      "text/html": [
       "<pre>| 26      | 2m 17s       | 0.306998          | 0.553308              | 0.130208    |</pre>"
      ],
      "text/plain": [
       "| 26      | 2m 17s       | 0.306998          | 0.553308              | 0.130208    |"
      ]
     },
     "metadata": {},
     "output_type": "display_data"
    },
    {
     "data": {
      "text/html": [
       "<pre>| 27      | 2m 22s       | 0.301776          | 0.548567              | 0.130208    |</pre>"
      ],
      "text/plain": [
       "| 27      | 2m 22s       | 0.301776          | 0.548567              | 0.130208    |"
      ]
     },
     "metadata": {},
     "output_type": "display_data"
    },
    {
     "data": {
      "text/html": [
       "<pre>| 28      | 2m 27s       | 0.297064          | 0.544254              | 0.130208    |</pre>"
      ],
      "text/plain": [
       "| 28      | 2m 27s       | 0.297064          | 0.544254              | 0.130208    |"
      ]
     },
     "metadata": {},
     "output_type": "display_data"
    },
    {
     "data": {
      "text/html": [
       "<pre>| 29      | 2m 32s       | 0.292434          | 0.539982              | 0.130208    |</pre>"
      ],
      "text/plain": [
       "| 29      | 2m 32s       | 0.292434          | 0.539982              | 0.130208    |"
      ]
     },
     "metadata": {},
     "output_type": "display_data"
    },
    {
     "data": {
      "text/html": [
       "<pre>| 30      | 2m 37s       | 0.288438          | 0.536268              | 0.130208    |</pre>"
      ],
      "text/plain": [
       "| 30      | 2m 37s       | 0.288438          | 0.536268              | 0.130208    |"
      ]
     },
     "metadata": {},
     "output_type": "display_data"
    },
    {
     "data": {
      "text/html": [
       "<pre>| 31      | 2m 42s       | 0.284406          | 0.532495              | 0.130208    |</pre>"
      ],
      "text/plain": [
       "| 31      | 2m 42s       | 0.284406          | 0.532495              | 0.130208    |"
      ]
     },
     "metadata": {},
     "output_type": "display_data"
    },
    {
     "data": {
      "text/html": [
       "<pre>| 32      | 2m 48s       | 0.280649          | 0.528955              | 0.130208    |</pre>"
      ],
      "text/plain": [
       "| 32      | 2m 48s       | 0.280649          | 0.528955              | 0.130208    |"
      ]
     },
     "metadata": {},
     "output_type": "display_data"
    },
    {
     "data": {
      "text/html": [
       "<pre>| 33      | 2m 53s       | 0.27743           | 0.525902              | 0.130208    |</pre>"
      ],
      "text/plain": [
       "| 33      | 2m 53s       | 0.27743           | 0.525902              | 0.130208    |"
      ]
     },
     "metadata": {},
     "output_type": "display_data"
    },
    {
     "data": {
      "text/html": [
       "<pre>| 34      | 2m 59s       | 0.27404           | 0.522668              | 0.130208    |</pre>"
      ],
      "text/plain": [
       "| 34      | 2m 59s       | 0.27404           | 0.522668              | 0.130208    |"
      ]
     },
     "metadata": {},
     "output_type": "display_data"
    },
    {
     "data": {
      "text/html": [
       "<pre>| 35      | 3m 4s        | 0.27099           | 0.519742              | 0.130208    |</pre>"
      ],
      "text/plain": [
       "| 35      | 3m 4s        | 0.27099           | 0.519742              | 0.130208    |"
      ]
     },
     "metadata": {},
     "output_type": "display_data"
    },
    {
     "data": {
      "text/html": [
       "<pre>| 36      | 3m 9s        | 0.267986          | 0.516843              | 0.130208    |</pre>"
      ],
      "text/plain": [
       "| 36      | 3m 9s        | 0.267986          | 0.516843              | 0.130208    |"
      ]
     },
     "metadata": {},
     "output_type": "display_data"
    },
    {
     "data": {
      "text/html": [
       "<pre>| 37      | 3m 14s       | 0.265208          | 0.514148              | 0.130208    |</pre>"
      ],
      "text/plain": [
       "| 37      | 3m 14s       | 0.265208          | 0.514148              | 0.130208    |"
      ]
     },
     "metadata": {},
     "output_type": "display_data"
    },
    {
     "data": {
      "text/html": [
       "<pre>| 38      | 3m 19s       | 0.26263           | 0.511634              | 0.130208    |</pre>"
      ],
      "text/plain": [
       "| 38      | 3m 19s       | 0.26263           | 0.511634              | 0.130208    |"
      ]
     },
     "metadata": {},
     "output_type": "display_data"
    },
    {
     "data": {
      "text/html": [
       "<pre>| 39      | 3m 25s       | 0.260161          | 0.509215              | 0.130208    |</pre>"
      ],
      "text/plain": [
       "| 39      | 3m 25s       | 0.260161          | 0.509215              | 0.130208    |"
      ]
     },
     "metadata": {},
     "output_type": "display_data"
    },
    {
     "data": {
      "text/html": [
       "<pre>| 40      | 3m 30s       | 0.257333          | 0.506429              | 0.130208    |</pre>"
      ],
      "text/plain": [
       "| 40      | 3m 30s       | 0.257333          | 0.506429              | 0.130208    |"
      ]
     },
     "metadata": {},
     "output_type": "display_data"
    },
    {
     "data": {
      "text/html": [
       "<pre>| 41      | 3m 35s       | 0.255315          | 0.504432              | 0.130208    |</pre>"
      ],
      "text/plain": [
       "| 41      | 3m 35s       | 0.255315          | 0.504432              | 0.130208    |"
      ]
     },
     "metadata": {},
     "output_type": "display_data"
    },
    {
     "data": {
      "text/html": [
       "<pre>| 42      | 3m 41s       | 0.252965          | 0.502096              | 0.130208    |</pre>"
      ],
      "text/plain": [
       "| 42      | 3m 41s       | 0.252965          | 0.502096              | 0.130208    |"
      ]
     },
     "metadata": {},
     "output_type": "display_data"
    },
    {
     "data": {
      "text/html": [
       "<pre>| 43      | 3m 46s       | 0.250776          | 0.499911              | 0.130208    |</pre>"
      ],
      "text/plain": [
       "| 43      | 3m 46s       | 0.250776          | 0.499911              | 0.130208    |"
      ]
     },
     "metadata": {},
     "output_type": "display_data"
    },
    {
     "data": {
      "text/html": [
       "<pre>| 44      | 3m 51s       | 0.248662          | 0.497792              | 0.130208    |</pre>"
      ],
      "text/plain": [
       "| 44      | 3m 51s       | 0.248662          | 0.497792              | 0.130208    |"
      ]
     },
     "metadata": {},
     "output_type": "display_data"
    },
    {
     "data": {
      "text/html": [
       "<pre>| 45      | 3m 56s       | 0.246429          | 0.495543              | 0.130208    |</pre>"
      ],
      "text/plain": [
       "| 45      | 3m 56s       | 0.246429          | 0.495543              | 0.130208    |"
      ]
     },
     "metadata": {},
     "output_type": "display_data"
    },
    {
     "data": {
      "text/html": [
       "<pre>| 46      | 4m 1s        | 0.244671          | 0.493765              | 0.130208    |</pre>"
      ],
      "text/plain": [
       "| 46      | 4m 1s        | 0.244671          | 0.493765              | 0.130208    |"
      ]
     },
     "metadata": {},
     "output_type": "display_data"
    },
    {
     "data": {
      "text/html": [
       "<pre>| 47      | 4m 6s        | 0.242767          | 0.491833              | 0.130208    |</pre>"
      ],
      "text/plain": [
       "| 47      | 4m 6s        | 0.242767          | 0.491833              | 0.130208    |"
      ]
     },
     "metadata": {},
     "output_type": "display_data"
    },
    {
     "data": {
      "text/html": [
       "<pre>| 48      | 4m 11s       | 0.241075          | 0.490109              | 0.130208    |</pre>"
      ],
      "text/plain": [
       "| 48      | 4m 11s       | 0.241075          | 0.490109              | 0.130208    |"
      ]
     },
     "metadata": {},
     "output_type": "display_data"
    },
    {
     "data": {
      "text/html": [
       "<pre>| 49      | 4m 16s       | 0.23949           | 0.488489              | 0.130208    |</pre>"
      ],
      "text/plain": [
       "| 49      | 4m 16s       | 0.23949           | 0.488489              | 0.130208    |"
      ]
     },
     "metadata": {},
     "output_type": "display_data"
    },
    {
     "data": {
      "text/html": [
       "<pre>| 50      | 4m 22s       | 0.237897          | 0.486854              | 0.130208    |</pre>"
      ],
      "text/plain": [
       "| 50      | 4m 22s       | 0.237897          | 0.486854              | 0.130208    |"
      ]
     },
     "metadata": {},
     "output_type": "display_data"
    },
    {
     "data": {
      "text/html": [
       "<pre>+---------+--------------+-------------------+-----------------------+-------------+</pre>"
      ],
      "text/plain": [
       "+---------+--------------+-------------------+-----------------------+-------------+"
      ]
     },
     "metadata": {},
     "output_type": "display_data"
    },
    {
     "data": {
      "text/html": [
       "<pre>Optimization Complete: Maximum number of passes through the data reached.</pre>"
      ],
      "text/plain": [
       "Optimization Complete: Maximum number of passes through the data reached."
      ]
     },
     "metadata": {},
     "output_type": "display_data"
    },
    {
     "data": {
      "text/html": [
       "<pre>Computing final objective value and training RMSE.</pre>"
      ],
      "text/plain": [
       "Computing final objective value and training RMSE."
      ]
     },
     "metadata": {},
     "output_type": "display_data"
    },
    {
     "data": {
      "text/html": [
       "<pre>       Final objective value: 0.207536</pre>"
      ],
      "text/plain": [
       "       Final objective value: 0.207536"
      ]
     },
     "metadata": {},
     "output_type": "display_data"
    },
    {
     "data": {
      "text/html": [
       "<pre>       Final training RMSE: 0.454606</pre>"
      ],
      "text/plain": [
       "       Final training RMSE: 0.454606"
      ]
     },
     "metadata": {},
     "output_type": "display_data"
    },
    {
     "name": "stdout",
     "output_type": "stream",
     "text": [
      "PROGRESS: Evaluate model M0\n"
     ]
    },
    {
     "data": {
      "text/html": [
       "<pre>recommendations finished on 1000/110396 queries. users per second: 75397.7</pre>"
      ],
      "text/plain": [
       "recommendations finished on 1000/110396 queries. users per second: 75397.7"
      ]
     },
     "metadata": {},
     "output_type": "display_data"
    },
    {
     "data": {
      "text/html": [
       "<pre>recommendations finished on 2000/110396 queries. users per second: 26662.8</pre>"
      ],
      "text/plain": [
       "recommendations finished on 2000/110396 queries. users per second: 26662.8"
      ]
     },
     "metadata": {},
     "output_type": "display_data"
    },
    {
     "data": {
      "text/html": [
       "<pre>recommendations finished on 3000/110396 queries. users per second: 36870.4</pre>"
      ],
      "text/plain": [
       "recommendations finished on 3000/110396 queries. users per second: 36870.4"
      ]
     },
     "metadata": {},
     "output_type": "display_data"
    },
    {
     "data": {
      "text/html": [
       "<pre>recommendations finished on 4000/110396 queries. users per second: 23376.9</pre>"
      ],
      "text/plain": [
       "recommendations finished on 4000/110396 queries. users per second: 23376.9"
      ]
     },
     "metadata": {},
     "output_type": "display_data"
    },
    {
     "data": {
      "text/html": [
       "<pre>recommendations finished on 5000/110396 queries. users per second: 28062.1</pre>"
      ],
      "text/plain": [
       "recommendations finished on 5000/110396 queries. users per second: 28062.1"
      ]
     },
     "metadata": {},
     "output_type": "display_data"
    },
    {
     "data": {
      "text/html": [
       "<pre>recommendations finished on 6000/110396 queries. users per second: 32198.3</pre>"
      ],
      "text/plain": [
       "recommendations finished on 6000/110396 queries. users per second: 32198.3"
      ]
     },
     "metadata": {},
     "output_type": "display_data"
    },
    {
     "data": {
      "text/html": [
       "<pre>recommendations finished on 7000/110396 queries. users per second: 25504.1</pre>"
      ],
      "text/plain": [
       "recommendations finished on 7000/110396 queries. users per second: 25504.1"
      ]
     },
     "metadata": {},
     "output_type": "display_data"
    },
    {
     "data": {
      "text/html": [
       "<pre>recommendations finished on 8000/110396 queries. users per second: 28488.7</pre>"
      ],
      "text/plain": [
       "recommendations finished on 8000/110396 queries. users per second: 28488.7"
      ]
     },
     "metadata": {},
     "output_type": "display_data"
    },
    {
     "data": {
      "text/html": [
       "<pre>recommendations finished on 9000/110396 queries. users per second: 24320</pre>"
      ],
      "text/plain": [
       "recommendations finished on 9000/110396 queries. users per second: 24320"
      ]
     },
     "metadata": {},
     "output_type": "display_data"
    },
    {
     "data": {
      "text/html": [
       "<pre>recommendations finished on 10000/110396 queries. users per second: 26558.1</pre>"
      ],
      "text/plain": [
       "recommendations finished on 10000/110396 queries. users per second: 26558.1"
      ]
     },
     "metadata": {},
     "output_type": "display_data"
    },
    {
     "data": {
      "text/html": [
       "<pre>recommendations finished on 11000/110396 queries. users per second: 28609.9</pre>"
      ],
      "text/plain": [
       "recommendations finished on 11000/110396 queries. users per second: 28609.9"
      ]
     },
     "metadata": {},
     "output_type": "display_data"
    },
    {
     "data": {
      "text/html": [
       "<pre>recommendations finished on 12000/110396 queries. users per second: 25352</pre>"
      ],
      "text/plain": [
       "recommendations finished on 12000/110396 queries. users per second: 25352"
      ]
     },
     "metadata": {},
     "output_type": "display_data"
    },
    {
     "data": {
      "text/html": [
       "<pre>recommendations finished on 13000/110396 queries. users per second: 27102.6</pre>"
      ],
      "text/plain": [
       "recommendations finished on 13000/110396 queries. users per second: 27102.6"
      ]
     },
     "metadata": {},
     "output_type": "display_data"
    },
    {
     "data": {
      "text/html": [
       "<pre>recommendations finished on 14000/110396 queries. users per second: 24582.7</pre>"
      ],
      "text/plain": [
       "recommendations finished on 14000/110396 queries. users per second: 24582.7"
      ]
     },
     "metadata": {},
     "output_type": "display_data"
    },
    {
     "data": {
      "text/html": [
       "<pre>recommendations finished on 15000/110396 queries. users per second: 26017.7</pre>"
      ],
      "text/plain": [
       "recommendations finished on 15000/110396 queries. users per second: 26017.7"
      ]
     },
     "metadata": {},
     "output_type": "display_data"
    },
    {
     "data": {
      "text/html": [
       "<pre>recommendations finished on 16000/110396 queries. users per second: 27389</pre>"
      ],
      "text/plain": [
       "recommendations finished on 16000/110396 queries. users per second: 27389"
      ]
     },
     "metadata": {},
     "output_type": "display_data"
    },
    {
     "data": {
      "text/html": [
       "<pre>recommendations finished on 17000/110396 queries. users per second: 25261.1</pre>"
      ],
      "text/plain": [
       "recommendations finished on 17000/110396 queries. users per second: 25261.1"
      ]
     },
     "metadata": {},
     "output_type": "display_data"
    },
    {
     "data": {
      "text/html": [
       "<pre>recommendations finished on 18000/110396 queries. users per second: 26471.4</pre>"
      ],
      "text/plain": [
       "recommendations finished on 18000/110396 queries. users per second: 26471.4"
      ]
     },
     "metadata": {},
     "output_type": "display_data"
    },
    {
     "data": {
      "text/html": [
       "<pre>recommendations finished on 19000/110396 queries. users per second: 24678.7</pre>"
      ],
      "text/plain": [
       "recommendations finished on 19000/110396 queries. users per second: 24678.7"
      ]
     },
     "metadata": {},
     "output_type": "display_data"
    },
    {
     "data": {
      "text/html": [
       "<pre>recommendations finished on 20000/110396 queries. users per second: 25768.8</pre>"
      ],
      "text/plain": [
       "recommendations finished on 20000/110396 queries. users per second: 25768.8"
      ]
     },
     "metadata": {},
     "output_type": "display_data"
    },
    {
     "data": {
      "text/html": [
       "<pre>recommendations finished on 21000/110396 queries. users per second: 26804.8</pre>"
      ],
      "text/plain": [
       "recommendations finished on 21000/110396 queries. users per second: 26804.8"
      ]
     },
     "metadata": {},
     "output_type": "display_data"
    },
    {
     "data": {
      "text/html": [
       "<pre>recommendations finished on 22000/110396 queries. users per second: 25203.1</pre>"
      ],
      "text/plain": [
       "recommendations finished on 22000/110396 queries. users per second: 25203.1"
      ]
     },
     "metadata": {},
     "output_type": "display_data"
    },
    {
     "data": {
      "text/html": [
       "<pre>recommendations finished on 23000/110396 queries. users per second: 26147.2</pre>"
      ],
      "text/plain": [
       "recommendations finished on 23000/110396 queries. users per second: 26147.2"
      ]
     },
     "metadata": {},
     "output_type": "display_data"
    },
    {
     "data": {
      "text/html": [
       "<pre>recommendations finished on 24000/110396 queries. users per second: 24771</pre>"
      ],
      "text/plain": [
       "recommendations finished on 24000/110396 queries. users per second: 24771"
      ]
     },
     "metadata": {},
     "output_type": "display_data"
    },
    {
     "data": {
      "text/html": [
       "<pre>recommendations finished on 25000/110396 queries. users per second: 25628.2</pre>"
      ],
      "text/plain": [
       "recommendations finished on 25000/110396 queries. users per second: 25628.2"
      ]
     },
     "metadata": {},
     "output_type": "display_data"
    },
    {
     "data": {
      "text/html": [
       "<pre>recommendations finished on 26000/110396 queries. users per second: 26458.6</pre>"
      ],
      "text/plain": [
       "recommendations finished on 26000/110396 queries. users per second: 26458.6"
      ]
     },
     "metadata": {},
     "output_type": "display_data"
    },
    {
     "data": {
      "text/html": [
       "<pre>recommendations finished on 27000/110396 queries. users per second: 25173.8</pre>"
      ],
      "text/plain": [
       "recommendations finished on 27000/110396 queries. users per second: 25173.8"
      ]
     },
     "metadata": {},
     "output_type": "display_data"
    },
    {
     "data": {
      "text/html": [
       "<pre>recommendations finished on 28000/110396 queries. users per second: 25942.6</pre>"
      ],
      "text/plain": [
       "recommendations finished on 28000/110396 queries. users per second: 25942.6"
      ]
     },
     "metadata": {},
     "output_type": "display_data"
    },
    {
     "data": {
      "text/html": [
       "<pre>recommendations finished on 29000/110396 queries. users per second: 24809.2</pre>"
      ],
      "text/plain": [
       "recommendations finished on 29000/110396 queries. users per second: 24809.2"
      ]
     },
     "metadata": {},
     "output_type": "display_data"
    },
    {
     "data": {
      "text/html": [
       "<pre>recommendations finished on 30000/110396 queries. users per second: 25514.8</pre>"
      ],
      "text/plain": [
       "recommendations finished on 30000/110396 queries. users per second: 25514.8"
      ]
     },
     "metadata": {},
     "output_type": "display_data"
    },
    {
     "data": {
      "text/html": [
       "<pre>recommendations finished on 31000/110396 queries. users per second: 26191.9</pre>"
      ],
      "text/plain": [
       "recommendations finished on 31000/110396 queries. users per second: 26191.9"
      ]
     },
     "metadata": {},
     "output_type": "display_data"
    },
    {
     "data": {
      "text/html": [
       "<pre>recommendations finished on 32000/110396 queries. users per second: 25154.1</pre>"
      ],
      "text/plain": [
       "recommendations finished on 32000/110396 queries. users per second: 25154.1"
      ]
     },
     "metadata": {},
     "output_type": "display_data"
    },
    {
     "data": {
      "text/html": [
       "<pre>recommendations finished on 33000/110396 queries. users per second: 25842</pre>"
      ],
      "text/plain": [
       "recommendations finished on 33000/110396 queries. users per second: 25842"
      ]
     },
     "metadata": {},
     "output_type": "display_data"
    },
    {
     "data": {
      "text/html": [
       "<pre>recommendations finished on 34000/110396 queries. users per second: 26465.1</pre>"
      ],
      "text/plain": [
       "recommendations finished on 34000/110396 queries. users per second: 26465.1"
      ]
     },
     "metadata": {},
     "output_type": "display_data"
    },
    {
     "data": {
      "text/html": [
       "<pre>recommendations finished on 35000/110396 queries. users per second: 25468.9</pre>"
      ],
      "text/plain": [
       "recommendations finished on 35000/110396 queries. users per second: 25468.9"
      ]
     },
     "metadata": {},
     "output_type": "display_data"
    },
    {
     "data": {
      "text/html": [
       "<pre>recommendations finished on 36000/110396 queries. users per second: 26058.4</pre>"
      ],
      "text/plain": [
       "recommendations finished on 36000/110396 queries. users per second: 26058.4"
      ]
     },
     "metadata": {},
     "output_type": "display_data"
    },
    {
     "data": {
      "text/html": [
       "<pre>recommendations finished on 37000/110396 queries. users per second: 25137.7</pre>"
      ],
      "text/plain": [
       "recommendations finished on 37000/110396 queries. users per second: 25137.7"
      ]
     },
     "metadata": {},
     "output_type": "display_data"
    },
    {
     "data": {
      "text/html": [
       "<pre>recommendations finished on 38000/110396 queries. users per second: 25709.2</pre>"
      ],
      "text/plain": [
       "recommendations finished on 38000/110396 queries. users per second: 25709.2"
      ]
     },
     "metadata": {},
     "output_type": "display_data"
    },
    {
     "data": {
      "text/html": [
       "<pre>recommendations finished on 39000/110396 queries. users per second: 24864.3</pre>"
      ],
      "text/plain": [
       "recommendations finished on 39000/110396 queries. users per second: 24864.3"
      ]
     },
     "metadata": {},
     "output_type": "display_data"
    },
    {
     "data": {
      "text/html": [
       "<pre>recommendations finished on 40000/110396 queries. users per second: 25407.8</pre>"
      ],
      "text/plain": [
       "recommendations finished on 40000/110396 queries. users per second: 25407.8"
      ]
     },
     "metadata": {},
     "output_type": "display_data"
    },
    {
     "data": {
      "text/html": [
       "<pre>recommendations finished on 41000/110396 queries. users per second: 25936.1</pre>"
      ],
      "text/plain": [
       "recommendations finished on 41000/110396 queries. users per second: 25936.1"
      ]
     },
     "metadata": {},
     "output_type": "display_data"
    },
    {
     "data": {
      "text/html": [
       "<pre>recommendations finished on 42000/110396 queries. users per second: 25136.3</pre>"
      ],
      "text/plain": [
       "recommendations finished on 42000/110396 queries. users per second: 25136.3"
      ]
     },
     "metadata": {},
     "output_type": "display_data"
    },
    {
     "data": {
      "text/html": [
       "<pre>recommendations finished on 43000/110396 queries. users per second: 25640.3</pre>"
      ],
      "text/plain": [
       "recommendations finished on 43000/110396 queries. users per second: 25640.3"
      ]
     },
     "metadata": {},
     "output_type": "display_data"
    },
    {
     "data": {
      "text/html": [
       "<pre>recommendations finished on 44000/110396 queries. users per second: 26127.7</pre>"
      ],
      "text/plain": [
       "recommendations finished on 44000/110396 queries. users per second: 26127.7"
      ]
     },
     "metadata": {},
     "output_type": "display_data"
    },
    {
     "data": {
      "text/html": [
       "<pre>recommendations finished on 45000/110396 queries. users per second: 25403.2</pre>"
      ],
      "text/plain": [
       "recommendations finished on 45000/110396 queries. users per second: 25403.2"
      ]
     },
     "metadata": {},
     "output_type": "display_data"
    },
    {
     "data": {
      "text/html": [
       "<pre>recommendations finished on 46000/110396 queries. users per second: 25866.4</pre>"
      ],
      "text/plain": [
       "recommendations finished on 46000/110396 queries. users per second: 25866.4"
      ]
     },
     "metadata": {},
     "output_type": "display_data"
    },
    {
     "data": {
      "text/html": [
       "<pre>recommendations finished on 47000/110396 queries. users per second: 26244.1</pre>"
      ],
      "text/plain": [
       "recommendations finished on 47000/110396 queries. users per second: 26244.1"
      ]
     },
     "metadata": {},
     "output_type": "display_data"
    },
    {
     "data": {
      "text/html": [
       "<pre>recommendations finished on 48000/110396 queries. users per second: 25606</pre>"
      ],
      "text/plain": [
       "recommendations finished on 48000/110396 queries. users per second: 25606"
      ]
     },
     "metadata": {},
     "output_type": "display_data"
    },
    {
     "data": {
      "text/html": [
       "<pre>recommendations finished on 49000/110396 queries. users per second: 26047.2</pre>"
      ],
      "text/plain": [
       "recommendations finished on 49000/110396 queries. users per second: 26047.2"
      ]
     },
     "metadata": {},
     "output_type": "display_data"
    },
    {
     "data": {
      "text/html": [
       "<pre>recommendations finished on 50000/110396 queries. users per second: 25395</pre>"
      ],
      "text/plain": [
       "recommendations finished on 50000/110396 queries. users per second: 25395"
      ]
     },
     "metadata": {},
     "output_type": "display_data"
    },
    {
     "data": {
      "text/html": [
       "<pre>recommendations finished on 51000/110396 queries. users per second: 25817.1</pre>"
      ],
      "text/plain": [
       "recommendations finished on 51000/110396 queries. users per second: 25817.1"
      ]
     },
     "metadata": {},
     "output_type": "display_data"
    },
    {
     "data": {
      "text/html": [
       "<pre>recommendations finished on 52000/110396 queries. users per second: 26242.6</pre>"
      ],
      "text/plain": [
       "recommendations finished on 52000/110396 queries. users per second: 26242.6"
      ]
     },
     "metadata": {},
     "output_type": "display_data"
    },
    {
     "data": {
      "text/html": [
       "<pre>recommendations finished on 53000/110396 queries. users per second: 25607.2</pre>"
      ],
      "text/plain": [
       "recommendations finished on 53000/110396 queries. users per second: 25607.2"
      ]
     },
     "metadata": {},
     "output_type": "display_data"
    },
    {
     "data": {
      "text/html": [
       "<pre>recommendations finished on 54000/110396 queries. users per second: 26011.4</pre>"
      ],
      "text/plain": [
       "recommendations finished on 54000/110396 queries. users per second: 26011.4"
      ]
     },
     "metadata": {},
     "output_type": "display_data"
    },
    {
     "data": {
      "text/html": [
       "<pre>recommendations finished on 55000/110396 queries. users per second: 26405.3</pre>"
      ],
      "text/plain": [
       "recommendations finished on 55000/110396 queries. users per second: 26405.3"
      ]
     },
     "metadata": {},
     "output_type": "display_data"
    },
    {
     "data": {
      "text/html": [
       "<pre>recommendations finished on 56000/110396 queries. users per second: 25773.5</pre>"
      ],
      "text/plain": [
       "recommendations finished on 56000/110396 queries. users per second: 25773.5"
      ]
     },
     "metadata": {},
     "output_type": "display_data"
    },
    {
     "data": {
      "text/html": [
       "<pre>recommendations finished on 57000/110396 queries. users per second: 26145.3</pre>"
      ],
      "text/plain": [
       "recommendations finished on 57000/110396 queries. users per second: 26145.3"
      ]
     },
     "metadata": {},
     "output_type": "display_data"
    },
    {
     "data": {
      "text/html": [
       "<pre>recommendations finished on 58000/110396 queries. users per second: 25554.7</pre>"
      ],
      "text/plain": [
       "recommendations finished on 58000/110396 queries. users per second: 25554.7"
      ]
     },
     "metadata": {},
     "output_type": "display_data"
    },
    {
     "data": {
      "text/html": [
       "<pre>recommendations finished on 59000/110396 queries. users per second: 25908.7</pre>"
      ],
      "text/plain": [
       "recommendations finished on 59000/110396 queries. users per second: 25908.7"
      ]
     },
     "metadata": {},
     "output_type": "display_data"
    },
    {
     "data": {
      "text/html": [
       "<pre>recommendations finished on 60000/110396 queries. users per second: 26252.6</pre>"
      ],
      "text/plain": [
       "recommendations finished on 60000/110396 queries. users per second: 26252.6"
      ]
     },
     "metadata": {},
     "output_type": "display_data"
    },
    {
     "data": {
      "text/html": [
       "<pre>recommendations finished on 61000/110396 queries. users per second: 25727.6</pre>"
      ],
      "text/plain": [
       "recommendations finished on 61000/110396 queries. users per second: 25727.6"
      ]
     },
     "metadata": {},
     "output_type": "display_data"
    },
    {
     "data": {
      "text/html": [
       "<pre>recommendations finished on 62000/110396 queries. users per second: 26071.1</pre>"
      ],
      "text/plain": [
       "recommendations finished on 62000/110396 queries. users per second: 26071.1"
      ]
     },
     "metadata": {},
     "output_type": "display_data"
    },
    {
     "data": {
      "text/html": [
       "<pre>recommendations finished on 63000/110396 queries. users per second: 25520</pre>"
      ],
      "text/plain": [
       "recommendations finished on 63000/110396 queries. users per second: 25520"
      ]
     },
     "metadata": {},
     "output_type": "display_data"
    },
    {
     "data": {
      "text/html": [
       "<pre>recommendations finished on 64000/110396 queries. users per second: 25852.5</pre>"
      ],
      "text/plain": [
       "recommendations finished on 64000/110396 queries. users per second: 25852.5"
      ]
     },
     "metadata": {},
     "output_type": "display_data"
    },
    {
     "data": {
      "text/html": [
       "<pre>recommendations finished on 65000/110396 queries. users per second: 26178.3</pre>"
      ],
      "text/plain": [
       "recommendations finished on 65000/110396 queries. users per second: 26178.3"
      ]
     },
     "metadata": {},
     "output_type": "display_data"
    },
    {
     "data": {
      "text/html": [
       "<pre>recommendations finished on 66000/110396 queries. users per second: 25654.6</pre>"
      ],
      "text/plain": [
       "recommendations finished on 66000/110396 queries. users per second: 25654.6"
      ]
     },
     "metadata": {},
     "output_type": "display_data"
    },
    {
     "data": {
      "text/html": [
       "<pre>recommendations finished on 67000/110396 queries. users per second: 25975.2</pre>"
      ],
      "text/plain": [
       "recommendations finished on 67000/110396 queries. users per second: 25975.2"
      ]
     },
     "metadata": {},
     "output_type": "display_data"
    },
    {
     "data": {
      "text/html": [
       "<pre>recommendations finished on 68000/110396 queries. users per second: 25471.5</pre>"
      ],
      "text/plain": [
       "recommendations finished on 68000/110396 queries. users per second: 25471.5"
      ]
     },
     "metadata": {},
     "output_type": "display_data"
    },
    {
     "data": {
      "text/html": [
       "<pre>recommendations finished on 69000/110396 queries. users per second: 25780.5</pre>"
      ],
      "text/plain": [
       "recommendations finished on 69000/110396 queries. users per second: 25780.5"
      ]
     },
     "metadata": {},
     "output_type": "display_data"
    },
    {
     "data": {
      "text/html": [
       "<pre>recommendations finished on 70000/110396 queries. users per second: 26092.7</pre>"
      ],
      "text/plain": [
       "recommendations finished on 70000/110396 queries. users per second: 26092.7"
      ]
     },
     "metadata": {},
     "output_type": "display_data"
    },
    {
     "data": {
      "text/html": [
       "<pre>recommendations finished on 71000/110396 queries. users per second: 25616.6</pre>"
      ],
      "text/plain": [
       "recommendations finished on 71000/110396 queries. users per second: 25616.6"
      ]
     },
     "metadata": {},
     "output_type": "display_data"
    },
    {
     "data": {
      "text/html": [
       "<pre>recommendations finished on 72000/110396 queries. users per second: 25913.7</pre>"
      ],
      "text/plain": [
       "recommendations finished on 72000/110396 queries. users per second: 25913.7"
      ]
     },
     "metadata": {},
     "output_type": "display_data"
    },
    {
     "data": {
      "text/html": [
       "<pre>recommendations finished on 73000/110396 queries. users per second: 25444.1</pre>"
      ],
      "text/plain": [
       "recommendations finished on 73000/110396 queries. users per second: 25444.1"
      ]
     },
     "metadata": {},
     "output_type": "display_data"
    },
    {
     "data": {
      "text/html": [
       "<pre>recommendations finished on 74000/110396 queries. users per second: 25732</pre>"
      ],
      "text/plain": [
       "recommendations finished on 74000/110396 queries. users per second: 25732"
      ]
     },
     "metadata": {},
     "output_type": "display_data"
    },
    {
     "data": {
      "text/html": [
       "<pre>recommendations finished on 75000/110396 queries. users per second: 26009.7</pre>"
      ],
      "text/plain": [
       "recommendations finished on 75000/110396 queries. users per second: 26009.7"
      ]
     },
     "metadata": {},
     "output_type": "display_data"
    },
    {
     "data": {
      "text/html": [
       "<pre>recommendations finished on 76000/110396 queries. users per second: 25561.9</pre>"
      ],
      "text/plain": [
       "recommendations finished on 76000/110396 queries. users per second: 25561.9"
      ]
     },
     "metadata": {},
     "output_type": "display_data"
    },
    {
     "data": {
      "text/html": [
       "<pre>recommendations finished on 77000/110396 queries. users per second: 25843.9</pre>"
      ],
      "text/plain": [
       "recommendations finished on 77000/110396 queries. users per second: 25843.9"
      ]
     },
     "metadata": {},
     "output_type": "display_data"
    },
    {
     "data": {
      "text/html": [
       "<pre>recommendations finished on 78000/110396 queries. users per second: 25407.3</pre>"
      ],
      "text/plain": [
       "recommendations finished on 78000/110396 queries. users per second: 25407.3"
      ]
     },
     "metadata": {},
     "output_type": "display_data"
    },
    {
     "data": {
      "text/html": [
       "<pre>recommendations finished on 79000/110396 queries. users per second: 25669.7</pre>"
      ],
      "text/plain": [
       "recommendations finished on 79000/110396 queries. users per second: 25669.7"
      ]
     },
     "metadata": {},
     "output_type": "display_data"
    },
    {
     "data": {
      "text/html": [
       "<pre>recommendations finished on 80000/110396 queries. users per second: 25921.3</pre>"
      ],
      "text/plain": [
       "recommendations finished on 80000/110396 queries. users per second: 25921.3"
      ]
     },
     "metadata": {},
     "output_type": "display_data"
    },
    {
     "data": {
      "text/html": [
       "<pre>recommendations finished on 81000/110396 queries. users per second: 25507</pre>"
      ],
      "text/plain": [
       "recommendations finished on 81000/110396 queries. users per second: 25507"
      ]
     },
     "metadata": {},
     "output_type": "display_data"
    },
    {
     "data": {
      "text/html": [
       "<pre>recommendations finished on 82000/110396 queries. users per second: 25762.4</pre>"
      ],
      "text/plain": [
       "recommendations finished on 82000/110396 queries. users per second: 25762.4"
      ]
     },
     "metadata": {},
     "output_type": "display_data"
    },
    {
     "data": {
      "text/html": [
       "<pre>recommendations finished on 83000/110396 queries. users per second: 25372.4</pre>"
      ],
      "text/plain": [
       "recommendations finished on 83000/110396 queries. users per second: 25372.4"
      ]
     },
     "metadata": {},
     "output_type": "display_data"
    },
    {
     "data": {
      "text/html": [
       "<pre>recommendations finished on 84000/110396 queries. users per second: 25615.9</pre>"
      ],
      "text/plain": [
       "recommendations finished on 84000/110396 queries. users per second: 25615.9"
      ]
     },
     "metadata": {},
     "output_type": "display_data"
    },
    {
     "data": {
      "text/html": [
       "<pre>recommendations finished on 85000/110396 queries. users per second: 25223.7</pre>"
      ],
      "text/plain": [
       "recommendations finished on 85000/110396 queries. users per second: 25223.7"
      ]
     },
     "metadata": {},
     "output_type": "display_data"
    },
    {
     "data": {
      "text/html": [
       "<pre>recommendations finished on 86000/110396 queries. users per second: 25454.7</pre>"
      ],
      "text/plain": [
       "recommendations finished on 86000/110396 queries. users per second: 25454.7"
      ]
     },
     "metadata": {},
     "output_type": "display_data"
    },
    {
     "data": {
      "text/html": [
       "<pre>recommendations finished on 87000/110396 queries. users per second: 25684.9</pre>"
      ],
      "text/plain": [
       "recommendations finished on 87000/110396 queries. users per second: 25684.9"
      ]
     },
     "metadata": {},
     "output_type": "display_data"
    },
    {
     "data": {
      "text/html": [
       "<pre>recommendations finished on 88000/110396 queries. users per second: 25310.6</pre>"
      ],
      "text/plain": [
       "recommendations finished on 88000/110396 queries. users per second: 25310.6"
      ]
     },
     "metadata": {},
     "output_type": "display_data"
    },
    {
     "data": {
      "text/html": [
       "<pre>recommendations finished on 89000/110396 queries. users per second: 25533.4</pre>"
      ],
      "text/plain": [
       "recommendations finished on 89000/110396 queries. users per second: 25533.4"
      ]
     },
     "metadata": {},
     "output_type": "display_data"
    },
    {
     "data": {
      "text/html": [
       "<pre>recommendations finished on 90000/110396 queries. users per second: 25178.8</pre>"
      ],
      "text/plain": [
       "recommendations finished on 90000/110396 queries. users per second: 25178.8"
      ]
     },
     "metadata": {},
     "output_type": "display_data"
    },
    {
     "data": {
      "text/html": [
       "<pre>recommendations finished on 91000/110396 queries. users per second: 25399.1</pre>"
      ],
      "text/plain": [
       "recommendations finished on 91000/110396 queries. users per second: 25399.1"
      ]
     },
     "metadata": {},
     "output_type": "display_data"
    },
    {
     "data": {
      "text/html": [
       "<pre>recommendations finished on 92000/110396 queries. users per second: 25064.6</pre>"
      ],
      "text/plain": [
       "recommendations finished on 92000/110396 queries. users per second: 25064.6"
      ]
     },
     "metadata": {},
     "output_type": "display_data"
    },
    {
     "data": {
      "text/html": [
       "<pre>recommendations finished on 93000/110396 queries. users per second: 25274.7</pre>"
      ],
      "text/plain": [
       "recommendations finished on 93000/110396 queries. users per second: 25274.7"
      ]
     },
     "metadata": {},
     "output_type": "display_data"
    },
    {
     "data": {
      "text/html": [
       "<pre>recommendations finished on 94000/110396 queries. users per second: 25483.8</pre>"
      ],
      "text/plain": [
       "recommendations finished on 94000/110396 queries. users per second: 25483.8"
      ]
     },
     "metadata": {},
     "output_type": "display_data"
    },
    {
     "data": {
      "text/html": [
       "<pre>recommendations finished on 95000/110396 queries. users per second: 25175</pre>"
      ],
      "text/plain": [
       "recommendations finished on 95000/110396 queries. users per second: 25175"
      ]
     },
     "metadata": {},
     "output_type": "display_data"
    },
    {
     "data": {
      "text/html": [
       "<pre>recommendations finished on 96000/110396 queries. users per second: 25377.6</pre>"
      ],
      "text/plain": [
       "recommendations finished on 96000/110396 queries. users per second: 25377.6"
      ]
     },
     "metadata": {},
     "output_type": "display_data"
    },
    {
     "data": {
      "text/html": [
       "<pre>recommendations finished on 97000/110396 queries. users per second: 25586.4</pre>"
      ],
      "text/plain": [
       "recommendations finished on 97000/110396 queries. users per second: 25586.4"
      ]
     },
     "metadata": {},
     "output_type": "display_data"
    },
    {
     "data": {
      "text/html": [
       "<pre>recommendations finished on 98000/110396 queries. users per second: 25283.8</pre>"
      ],
      "text/plain": [
       "recommendations finished on 98000/110396 queries. users per second: 25283.8"
      ]
     },
     "metadata": {},
     "output_type": "display_data"
    },
    {
     "data": {
      "text/html": [
       "<pre>recommendations finished on 99000/110396 queries. users per second: 25487.3</pre>"
      ],
      "text/plain": [
       "recommendations finished on 99000/110396 queries. users per second: 25487.3"
      ]
     },
     "metadata": {},
     "output_type": "display_data"
    },
    {
     "data": {
      "text/html": [
       "<pre>recommendations finished on 100000/110396 queries. users per second: 25687.1</pre>"
      ],
      "text/plain": [
       "recommendations finished on 100000/110396 queries. users per second: 25687.1"
      ]
     },
     "metadata": {},
     "output_type": "display_data"
    },
    {
     "data": {
      "text/html": [
       "<pre>recommendations finished on 101000/110396 queries. users per second: 25403.1</pre>"
      ],
      "text/plain": [
       "recommendations finished on 101000/110396 queries. users per second: 25403.1"
      ]
     },
     "metadata": {},
     "output_type": "display_data"
    },
    {
     "data": {
      "text/html": [
       "<pre>recommendations finished on 102000/110396 queries. users per second: 25610.6</pre>"
      ],
      "text/plain": [
       "recommendations finished on 102000/110396 queries. users per second: 25610.6"
      ]
     },
     "metadata": {},
     "output_type": "display_data"
    },
    {
     "data": {
      "text/html": [
       "<pre>recommendations finished on 103000/110396 queries. users per second: 25813.8</pre>"
      ],
      "text/plain": [
       "recommendations finished on 103000/110396 queries. users per second: 25813.8"
      ]
     },
     "metadata": {},
     "output_type": "display_data"
    },
    {
     "data": {
      "text/html": [
       "<pre>recommendations finished on 104000/110396 queries. users per second: 26021</pre>"
      ],
      "text/plain": [
       "recommendations finished on 104000/110396 queries. users per second: 26021"
      ]
     },
     "metadata": {},
     "output_type": "display_data"
    },
    {
     "data": {
      "text/html": [
       "<pre>recommendations finished on 105000/110396 queries. users per second: 25765.9</pre>"
      ],
      "text/plain": [
       "recommendations finished on 105000/110396 queries. users per second: 25765.9"
      ]
     },
     "metadata": {},
     "output_type": "display_data"
    },
    {
     "data": {
      "text/html": [
       "<pre>recommendations finished on 106000/110396 queries. users per second: 25964.3</pre>"
      ],
      "text/plain": [
       "recommendations finished on 106000/110396 queries. users per second: 25964.3"
      ]
     },
     "metadata": {},
     "output_type": "display_data"
    },
    {
     "data": {
      "text/html": [
       "<pre>recommendations finished on 107000/110396 queries. users per second: 26171.7</pre>"
      ],
      "text/plain": [
       "recommendations finished on 107000/110396 queries. users per second: 26171.7"
      ]
     },
     "metadata": {},
     "output_type": "display_data"
    },
    {
     "data": {
      "text/html": [
       "<pre>recommendations finished on 108000/110396 queries. users per second: 26382.3</pre>"
      ],
      "text/plain": [
       "recommendations finished on 108000/110396 queries. users per second: 26382.3"
      ]
     },
     "metadata": {},
     "output_type": "display_data"
    },
    {
     "data": {
      "text/html": [
       "<pre>recommendations finished on 109000/110396 queries. users per second: 26593.2</pre>"
      ],
      "text/plain": [
       "recommendations finished on 109000/110396 queries. users per second: 26593.2"
      ]
     },
     "metadata": {},
     "output_type": "display_data"
    },
    {
     "data": {
      "text/html": [
       "<pre>recommendations finished on 110000/110396 queries. users per second: 26794.7</pre>"
      ],
      "text/plain": [
       "recommendations finished on 110000/110396 queries. users per second: 26794.7"
      ]
     },
     "metadata": {},
     "output_type": "display_data"
    },
    {
     "name": "stdout",
     "output_type": "stream",
     "text": [
      "\n",
      "Precision and recall summary statistics by cutoff\n",
      "+--------+-------------------+-------------------+\n",
      "| cutoff |   mean_precision  |    mean_recall    |\n",
      "+--------+-------------------+-------------------+\n",
      "|   1    | 2.71748976412e-05 | 1.33717750298e-05 |\n",
      "|   2    |  0.00115040400014 |  0.00180117809651 |\n",
      "|   3    | 0.000772974866239 |  0.00180721696266 |\n",
      "|   4    |   0.035345483532  |  0.0866038665762  |\n",
      "|   5    |  0.0282800101453  |  0.0866096897685  |\n",
      "|   6    |  0.0286468712635  |   0.102314692038  |\n",
      "|   7    |  0.0369423322791  |   0.155721243225  |\n",
      "|   8    |  0.0323732291025  |   0.156016543779  |\n",
      "|   9    |  0.0287993526335  |   0.156162986283  |\n",
      "|   10   |  0.0259348164789  |   0.15628225389   |\n",
      "+--------+-------------------+-------------------+\n",
      "[10 rows x 3 columns]\n",
      "\n",
      "PROGRESS: Evaluate model M1\n"
     ]
    },
    {
     "data": {
      "text/html": [
       "<pre>recommendations finished on 1000/110396 queries. users per second: 19895.4</pre>"
      ],
      "text/plain": [
       "recommendations finished on 1000/110396 queries. users per second: 19895.4"
      ]
     },
     "metadata": {},
     "output_type": "display_data"
    },
    {
     "data": {
      "text/html": [
       "<pre>recommendations finished on 2000/110396 queries. users per second: 35135.2</pre>"
      ],
      "text/plain": [
       "recommendations finished on 2000/110396 queries. users per second: 35135.2"
      ]
     },
     "metadata": {},
     "output_type": "display_data"
    },
    {
     "data": {
      "text/html": [
       "<pre>recommendations finished on 3000/110396 queries. users per second: 20457</pre>"
      ],
      "text/plain": [
       "recommendations finished on 3000/110396 queries. users per second: 20457"
      ]
     },
     "metadata": {},
     "output_type": "display_data"
    },
    {
     "data": {
      "text/html": [
       "<pre>recommendations finished on 4000/110396 queries. users per second: 26159.2</pre>"
      ],
      "text/plain": [
       "recommendations finished on 4000/110396 queries. users per second: 26159.2"
      ]
     },
     "metadata": {},
     "output_type": "display_data"
    },
    {
     "data": {
      "text/html": [
       "<pre>recommendations finished on 5000/110396 queries. users per second: 20499.5</pre>"
      ],
      "text/plain": [
       "recommendations finished on 5000/110396 queries. users per second: 20499.5"
      ]
     },
     "metadata": {},
     "output_type": "display_data"
    },
    {
     "data": {
      "text/html": [
       "<pre>recommendations finished on 6000/110396 queries. users per second: 23966.9</pre>"
      ],
      "text/plain": [
       "recommendations finished on 6000/110396 queries. users per second: 23966.9"
      ]
     },
     "metadata": {},
     "output_type": "display_data"
    },
    {
     "data": {
      "text/html": [
       "<pre>recommendations finished on 7000/110396 queries. users per second: 20416.1</pre>"
      ],
      "text/plain": [
       "recommendations finished on 7000/110396 queries. users per second: 20416.1"
      ]
     },
     "metadata": {},
     "output_type": "display_data"
    },
    {
     "data": {
      "text/html": [
       "<pre>recommendations finished on 8000/110396 queries. users per second: 22953.5</pre>"
      ],
      "text/plain": [
       "recommendations finished on 8000/110396 queries. users per second: 22953.5"
      ]
     },
     "metadata": {},
     "output_type": "display_data"
    },
    {
     "data": {
      "text/html": [
       "<pre>recommendations finished on 9000/110396 queries. users per second: 25391.1</pre>"
      ],
      "text/plain": [
       "recommendations finished on 9000/110396 queries. users per second: 25391.1"
      ]
     },
     "metadata": {},
     "output_type": "display_data"
    },
    {
     "data": {
      "text/html": [
       "<pre>recommendations finished on 10000/110396 queries. users per second: 22471.2</pre>"
      ],
      "text/plain": [
       "recommendations finished on 10000/110396 queries. users per second: 22471.2"
      ]
     },
     "metadata": {},
     "output_type": "display_data"
    },
    {
     "data": {
      "text/html": [
       "<pre>recommendations finished on 11000/110396 queries. users per second: 24416.3</pre>"
      ],
      "text/plain": [
       "recommendations finished on 11000/110396 queries. users per second: 24416.3"
      ]
     },
     "metadata": {},
     "output_type": "display_data"
    },
    {
     "data": {
      "text/html": [
       "<pre>recommendations finished on 12000/110396 queries. users per second: 26224.5</pre>"
      ],
      "text/plain": [
       "recommendations finished on 12000/110396 queries. users per second: 26224.5"
      ]
     },
     "metadata": {},
     "output_type": "display_data"
    },
    {
     "data": {
      "text/html": [
       "<pre>recommendations finished on 13000/110396 queries. users per second: 23764.9</pre>"
      ],
      "text/plain": [
       "recommendations finished on 13000/110396 queries. users per second: 23764.9"
      ]
     },
     "metadata": {},
     "output_type": "display_data"
    },
    {
     "data": {
      "text/html": [
       "<pre>recommendations finished on 14000/110396 queries. users per second: 25332.5</pre>"
      ],
      "text/plain": [
       "recommendations finished on 14000/110396 queries. users per second: 25332.5"
      ]
     },
     "metadata": {},
     "output_type": "display_data"
    },
    {
     "data": {
      "text/html": [
       "<pre>recommendations finished on 15000/110396 queries. users per second: 23305.3</pre>"
      ],
      "text/plain": [
       "recommendations finished on 15000/110396 queries. users per second: 23305.3"
      ]
     },
     "metadata": {},
     "output_type": "display_data"
    },
    {
     "data": {
      "text/html": [
       "<pre>recommendations finished on 16000/110396 queries. users per second: 24633</pre>"
      ],
      "text/plain": [
       "recommendations finished on 16000/110396 queries. users per second: 24633"
      ]
     },
     "metadata": {},
     "output_type": "display_data"
    },
    {
     "data": {
      "text/html": [
       "<pre>recommendations finished on 17000/110396 queries. users per second: 25920.8</pre>"
      ],
      "text/plain": [
       "recommendations finished on 17000/110396 queries. users per second: 25920.8"
      ]
     },
     "metadata": {},
     "output_type": "display_data"
    },
    {
     "data": {
      "text/html": [
       "<pre>recommendations finished on 18000/110396 queries. users per second: 24114.8</pre>"
      ],
      "text/plain": [
       "recommendations finished on 18000/110396 queries. users per second: 24114.8"
      ]
     },
     "metadata": {},
     "output_type": "display_data"
    },
    {
     "data": {
      "text/html": [
       "<pre>recommendations finished on 19000/110396 queries. users per second: 25267.6</pre>"
      ],
      "text/plain": [
       "recommendations finished on 19000/110396 queries. users per second: 25267.6"
      ]
     },
     "metadata": {},
     "output_type": "display_data"
    },
    {
     "data": {
      "text/html": [
       "<pre>recommendations finished on 20000/110396 queries. users per second: 23715</pre>"
      ],
      "text/plain": [
       "recommendations finished on 20000/110396 queries. users per second: 23715"
      ]
     },
     "metadata": {},
     "output_type": "display_data"
    },
    {
     "data": {
      "text/html": [
       "<pre>recommendations finished on 21000/110396 queries. users per second: 24736.5</pre>"
      ],
      "text/plain": [
       "recommendations finished on 21000/110396 queries. users per second: 24736.5"
      ]
     },
     "metadata": {},
     "output_type": "display_data"
    },
    {
     "data": {
      "text/html": [
       "<pre>recommendations finished on 22000/110396 queries. users per second: 25721.2</pre>"
      ],
      "text/plain": [
       "recommendations finished on 22000/110396 queries. users per second: 25721.2"
      ]
     },
     "metadata": {},
     "output_type": "display_data"
    },
    {
     "data": {
      "text/html": [
       "<pre>recommendations finished on 23000/110396 queries. users per second: 24307.7</pre>"
      ],
      "text/plain": [
       "recommendations finished on 23000/110396 queries. users per second: 24307.7"
      ]
     },
     "metadata": {},
     "output_type": "display_data"
    },
    {
     "data": {
      "text/html": [
       "<pre>recommendations finished on 24000/110396 queries. users per second: 25214.1</pre>"
      ],
      "text/plain": [
       "recommendations finished on 24000/110396 queries. users per second: 25214.1"
      ]
     },
     "metadata": {},
     "output_type": "display_data"
    },
    {
     "data": {
      "text/html": [
       "<pre>recommendations finished on 25000/110396 queries. users per second: 23968.7</pre>"
      ],
      "text/plain": [
       "recommendations finished on 25000/110396 queries. users per second: 23968.7"
      ]
     },
     "metadata": {},
     "output_type": "display_data"
    },
    {
     "data": {
      "text/html": [
       "<pre>recommendations finished on 26000/110396 queries. users per second: 24794.7</pre>"
      ],
      "text/plain": [
       "recommendations finished on 26000/110396 queries. users per second: 24794.7"
      ]
     },
     "metadata": {},
     "output_type": "display_data"
    },
    {
     "data": {
      "text/html": [
       "<pre>recommendations finished on 27000/110396 queries. users per second: 25508.2</pre>"
      ],
      "text/plain": [
       "recommendations finished on 27000/110396 queries. users per second: 25508.2"
      ]
     },
     "metadata": {},
     "output_type": "display_data"
    },
    {
     "data": {
      "text/html": [
       "<pre>recommendations finished on 28000/110396 queries. users per second: 24439.7</pre>"
      ],
      "text/plain": [
       "recommendations finished on 28000/110396 queries. users per second: 24439.7"
      ]
     },
     "metadata": {},
     "output_type": "display_data"
    },
    {
     "data": {
      "text/html": [
       "<pre>recommendations finished on 29000/110396 queries. users per second: 25181.9</pre>"
      ],
      "text/plain": [
       "recommendations finished on 29000/110396 queries. users per second: 25181.9"
      ]
     },
     "metadata": {},
     "output_type": "display_data"
    },
    {
     "data": {
      "text/html": [
       "<pre>recommendations finished on 30000/110396 queries. users per second: 25906.8</pre>"
      ],
      "text/plain": [
       "recommendations finished on 30000/110396 queries. users per second: 25906.8"
      ]
     },
     "metadata": {},
     "output_type": "display_data"
    },
    {
     "data": {
      "text/html": [
       "<pre>recommendations finished on 31000/110396 queries. users per second: 24848.2</pre>"
      ],
      "text/plain": [
       "recommendations finished on 31000/110396 queries. users per second: 24848.2"
      ]
     },
     "metadata": {},
     "output_type": "display_data"
    },
    {
     "data": {
      "text/html": [
       "<pre>recommendations finished on 32000/110396 queries. users per second: 25518.1</pre>"
      ],
      "text/plain": [
       "recommendations finished on 32000/110396 queries. users per second: 25518.1"
      ]
     },
     "metadata": {},
     "output_type": "display_data"
    },
    {
     "data": {
      "text/html": [
       "<pre>recommendations finished on 33000/110396 queries. users per second: 24542.4</pre>"
      ],
      "text/plain": [
       "recommendations finished on 33000/110396 queries. users per second: 24542.4"
      ]
     },
     "metadata": {},
     "output_type": "display_data"
    },
    {
     "data": {
      "text/html": [
       "<pre>recommendations finished on 34000/110396 queries. users per second: 25172.1</pre>"
      ],
      "text/plain": [
       "recommendations finished on 34000/110396 queries. users per second: 25172.1"
      ]
     },
     "metadata": {},
     "output_type": "display_data"
    },
    {
     "data": {
      "text/html": [
       "<pre>recommendations finished on 35000/110396 queries. users per second: 25788</pre>"
      ],
      "text/plain": [
       "recommendations finished on 35000/110396 queries. users per second: 25788"
      ]
     },
     "metadata": {},
     "output_type": "display_data"
    },
    {
     "data": {
      "text/html": [
       "<pre>recommendations finished on 36000/110396 queries. users per second: 24880.1</pre>"
      ],
      "text/plain": [
       "recommendations finished on 36000/110396 queries. users per second: 24880.1"
      ]
     },
     "metadata": {},
     "output_type": "display_data"
    },
    {
     "data": {
      "text/html": [
       "<pre>recommendations finished on 37000/110396 queries. users per second: 25476.6</pre>"
      ],
      "text/plain": [
       "recommendations finished on 37000/110396 queries. users per second: 25476.6"
      ]
     },
     "metadata": {},
     "output_type": "display_data"
    },
    {
     "data": {
      "text/html": [
       "<pre>recommendations finished on 38000/110396 queries. users per second: 24629</pre>"
      ],
      "text/plain": [
       "recommendations finished on 38000/110396 queries. users per second: 24629"
      ]
     },
     "metadata": {},
     "output_type": "display_data"
    },
    {
     "data": {
      "text/html": [
       "<pre>recommendations finished on 39000/110396 queries. users per second: 25182.3</pre>"
      ],
      "text/plain": [
       "recommendations finished on 39000/110396 queries. users per second: 25182.3"
      ]
     },
     "metadata": {},
     "output_type": "display_data"
    },
    {
     "data": {
      "text/html": [
       "<pre>recommendations finished on 40000/110396 queries. users per second: 25728.8</pre>"
      ],
      "text/plain": [
       "recommendations finished on 40000/110396 queries. users per second: 25728.8"
      ]
     },
     "metadata": {},
     "output_type": "display_data"
    },
    {
     "data": {
      "text/html": [
       "<pre>recommendations finished on 41000/110396 queries. users per second: 24910.8</pre>"
      ],
      "text/plain": [
       "recommendations finished on 41000/110396 queries. users per second: 24910.8"
      ]
     },
     "metadata": {},
     "output_type": "display_data"
    },
    {
     "data": {
      "text/html": [
       "<pre>recommendations finished on 42000/110396 queries. users per second: 25436.2</pre>"
      ],
      "text/plain": [
       "recommendations finished on 42000/110396 queries. users per second: 25436.2"
      ]
     },
     "metadata": {},
     "output_type": "display_data"
    },
    {
     "data": {
      "text/html": [
       "<pre>recommendations finished on 43000/110396 queries. users per second: 24674.1</pre>"
      ],
      "text/plain": [
       "recommendations finished on 43000/110396 queries. users per second: 24674.1"
      ]
     },
     "metadata": {},
     "output_type": "display_data"
    },
    {
     "data": {
      "text/html": [
       "<pre>recommendations finished on 44000/110396 queries. users per second: 25164</pre>"
      ],
      "text/plain": [
       "recommendations finished on 44000/110396 queries. users per second: 25164"
      ]
     },
     "metadata": {},
     "output_type": "display_data"
    },
    {
     "data": {
      "text/html": [
       "<pre>recommendations finished on 45000/110396 queries. users per second: 25643.1</pre>"
      ],
      "text/plain": [
       "recommendations finished on 45000/110396 queries. users per second: 25643.1"
      ]
     },
     "metadata": {},
     "output_type": "display_data"
    },
    {
     "data": {
      "text/html": [
       "<pre>recommendations finished on 46000/110396 queries. users per second: 24922.9</pre>"
      ],
      "text/plain": [
       "recommendations finished on 46000/110396 queries. users per second: 24922.9"
      ]
     },
     "metadata": {},
     "output_type": "display_data"
    },
    {
     "data": {
      "text/html": [
       "<pre>recommendations finished on 47000/110396 queries. users per second: 25371</pre>"
      ],
      "text/plain": [
       "recommendations finished on 47000/110396 queries. users per second: 25371"
      ]
     },
     "metadata": {},
     "output_type": "display_data"
    },
    {
     "data": {
      "text/html": [
       "<pre>recommendations finished on 48000/110396 queries. users per second: 24704.2</pre>"
      ],
      "text/plain": [
       "recommendations finished on 48000/110396 queries. users per second: 24704.2"
      ]
     },
     "metadata": {},
     "output_type": "display_data"
    },
    {
     "data": {
      "text/html": [
       "<pre>recommendations finished on 49000/110396 queries. users per second: 25136.6</pre>"
      ],
      "text/plain": [
       "recommendations finished on 49000/110396 queries. users per second: 25136.6"
      ]
     },
     "metadata": {},
     "output_type": "display_data"
    },
    {
     "data": {
      "text/html": [
       "<pre>recommendations finished on 50000/110396 queries. users per second: 25553</pre>"
      ],
      "text/plain": [
       "recommendations finished on 50000/110396 queries. users per second: 25553"
      ]
     },
     "metadata": {},
     "output_type": "display_data"
    },
    {
     "data": {
      "text/html": [
       "<pre>recommendations finished on 51000/110396 queries. users per second: 24918.2</pre>"
      ],
      "text/plain": [
       "recommendations finished on 51000/110396 queries. users per second: 24918.2"
      ]
     },
     "metadata": {},
     "output_type": "display_data"
    },
    {
     "data": {
      "text/html": [
       "<pre>recommendations finished on 52000/110396 queries. users per second: 25333.6</pre>"
      ],
      "text/plain": [
       "recommendations finished on 52000/110396 queries. users per second: 25333.6"
      ]
     },
     "metadata": {},
     "output_type": "display_data"
    },
    {
     "data": {
      "text/html": [
       "<pre>recommendations finished on 53000/110396 queries. users per second: 24725.9</pre>"
      ],
      "text/plain": [
       "recommendations finished on 53000/110396 queries. users per second: 24725.9"
      ]
     },
     "metadata": {},
     "output_type": "display_data"
    },
    {
     "data": {
      "text/html": [
       "<pre>recommendations finished on 54000/110396 queries. users per second: 25129.4</pre>"
      ],
      "text/plain": [
       "recommendations finished on 54000/110396 queries. users per second: 25129.4"
      ]
     },
     "metadata": {},
     "output_type": "display_data"
    },
    {
     "data": {
      "text/html": [
       "<pre>recommendations finished on 55000/110396 queries. users per second: 25525.2</pre>"
      ],
      "text/plain": [
       "recommendations finished on 55000/110396 queries. users per second: 25525.2"
      ]
     },
     "metadata": {},
     "output_type": "display_data"
    },
    {
     "data": {
      "text/html": [
       "<pre>recommendations finished on 56000/110396 queries. users per second: 24936.6</pre>"
      ],
      "text/plain": [
       "recommendations finished on 56000/110396 queries. users per second: 24936.6"
      ]
     },
     "metadata": {},
     "output_type": "display_data"
    },
    {
     "data": {
      "text/html": [
       "<pre>recommendations finished on 57000/110396 queries. users per second: 25312.9</pre>"
      ],
      "text/plain": [
       "recommendations finished on 57000/110396 queries. users per second: 25312.9"
      ]
     },
     "metadata": {},
     "output_type": "display_data"
    },
    {
     "data": {
      "text/html": [
       "<pre>recommendations finished on 58000/110396 queries. users per second: 24755.6</pre>"
      ],
      "text/plain": [
       "recommendations finished on 58000/110396 queries. users per second: 24755.6"
      ]
     },
     "metadata": {},
     "output_type": "display_data"
    },
    {
     "data": {
      "text/html": [
       "<pre>recommendations finished on 59000/110396 queries. users per second: 25113.4</pre>"
      ],
      "text/plain": [
       "recommendations finished on 59000/110396 queries. users per second: 25113.4"
      ]
     },
     "metadata": {},
     "output_type": "display_data"
    },
    {
     "data": {
      "text/html": [
       "<pre>recommendations finished on 60000/110396 queries. users per second: 25466.6</pre>"
      ],
      "text/plain": [
       "recommendations finished on 60000/110396 queries. users per second: 25466.6"
      ]
     },
     "metadata": {},
     "output_type": "display_data"
    },
    {
     "data": {
      "text/html": [
       "<pre>recommendations finished on 61000/110396 queries. users per second: 24930.1</pre>"
      ],
      "text/plain": [
       "recommendations finished on 61000/110396 queries. users per second: 24930.1"
      ]
     },
     "metadata": {},
     "output_type": "display_data"
    },
    {
     "data": {
      "text/html": [
       "<pre>recommendations finished on 62000/110396 queries. users per second: 25278</pre>"
      ],
      "text/plain": [
       "recommendations finished on 62000/110396 queries. users per second: 25278"
      ]
     },
     "metadata": {},
     "output_type": "display_data"
    },
    {
     "data": {
      "text/html": [
       "<pre>recommendations finished on 63000/110396 queries. users per second: 24766.3</pre>"
      ],
      "text/plain": [
       "recommendations finished on 63000/110396 queries. users per second: 24766.3"
      ]
     },
     "metadata": {},
     "output_type": "display_data"
    },
    {
     "data": {
      "text/html": [
       "<pre>recommendations finished on 64000/110396 queries. users per second: 25101</pre>"
      ],
      "text/plain": [
       "recommendations finished on 64000/110396 queries. users per second: 25101"
      ]
     },
     "metadata": {},
     "output_type": "display_data"
    },
    {
     "data": {
      "text/html": [
       "<pre>recommendations finished on 65000/110396 queries. users per second: 25414.4</pre>"
      ],
      "text/plain": [
       "recommendations finished on 65000/110396 queries. users per second: 25414.4"
      ]
     },
     "metadata": {},
     "output_type": "display_data"
    },
    {
     "data": {
      "text/html": [
       "<pre>recommendations finished on 66000/110396 queries. users per second: 24921.4</pre>"
      ],
      "text/plain": [
       "recommendations finished on 66000/110396 queries. users per second: 24921.4"
      ]
     },
     "metadata": {},
     "output_type": "display_data"
    },
    {
     "data": {
      "text/html": [
       "<pre>recommendations finished on 67000/110396 queries. users per second: 25231.8</pre>"
      ],
      "text/plain": [
       "recommendations finished on 67000/110396 queries. users per second: 25231.8"
      ]
     },
     "metadata": {},
     "output_type": "display_data"
    },
    {
     "data": {
      "text/html": [
       "<pre>recommendations finished on 68000/110396 queries. users per second: 24759.9</pre>"
      ],
      "text/plain": [
       "recommendations finished on 68000/110396 queries. users per second: 24759.9"
      ]
     },
     "metadata": {},
     "output_type": "display_data"
    },
    {
     "data": {
      "text/html": [
       "<pre>recommendations finished on 69000/110396 queries. users per second: 25071.4</pre>"
      ],
      "text/plain": [
       "recommendations finished on 69000/110396 queries. users per second: 25071.4"
      ]
     },
     "metadata": {},
     "output_type": "display_data"
    },
    {
     "data": {
      "text/html": [
       "<pre>recommendations finished on 70000/110396 queries. users per second: 24607.4</pre>"
      ],
      "text/plain": [
       "recommendations finished on 70000/110396 queries. users per second: 24607.4"
      ]
     },
     "metadata": {},
     "output_type": "display_data"
    },
    {
     "data": {
      "text/html": [
       "<pre>recommendations finished on 71000/110396 queries. users per second: 24899.2</pre>"
      ],
      "text/plain": [
       "recommendations finished on 71000/110396 queries. users per second: 24899.2"
      ]
     },
     "metadata": {},
     "output_type": "display_data"
    },
    {
     "data": {
      "text/html": [
       "<pre>recommendations finished on 72000/110396 queries. users per second: 24468.7</pre>"
      ],
      "text/plain": [
       "recommendations finished on 72000/110396 queries. users per second: 24468.7"
      ]
     },
     "metadata": {},
     "output_type": "display_data"
    },
    {
     "data": {
      "text/html": [
       "<pre>recommendations finished on 73000/110396 queries. users per second: 24758.3</pre>"
      ],
      "text/plain": [
       "recommendations finished on 73000/110396 queries. users per second: 24758.3"
      ]
     },
     "metadata": {},
     "output_type": "display_data"
    },
    {
     "data": {
      "text/html": [
       "<pre>recommendations finished on 74000/110396 queries. users per second: 25039.6</pre>"
      ],
      "text/plain": [
       "recommendations finished on 74000/110396 queries. users per second: 25039.6"
      ]
     },
     "metadata": {},
     "output_type": "display_data"
    },
    {
     "data": {
      "text/html": [
       "<pre>recommendations finished on 75000/110396 queries. users per second: 24624</pre>"
      ],
      "text/plain": [
       "recommendations finished on 75000/110396 queries. users per second: 24624"
      ]
     },
     "metadata": {},
     "output_type": "display_data"
    },
    {
     "data": {
      "text/html": [
       "<pre>recommendations finished on 76000/110396 queries. users per second: 24905.9</pre>"
      ],
      "text/plain": [
       "recommendations finished on 76000/110396 queries. users per second: 24905.9"
      ]
     },
     "metadata": {},
     "output_type": "display_data"
    },
    {
     "data": {
      "text/html": [
       "<pre>recommendations finished on 77000/110396 queries. users per second: 25171.7</pre>"
      ],
      "text/plain": [
       "recommendations finished on 77000/110396 queries. users per second: 25171.7"
      ]
     },
     "metadata": {},
     "output_type": "display_data"
    },
    {
     "data": {
      "text/html": [
       "<pre>recommendations finished on 78000/110396 queries. users per second: 24778.7</pre>"
      ],
      "text/plain": [
       "recommendations finished on 78000/110396 queries. users per second: 24778.7"
      ]
     },
     "metadata": {},
     "output_type": "display_data"
    },
    {
     "data": {
      "text/html": [
       "<pre>recommendations finished on 79000/110396 queries. users per second: 25052</pre>"
      ],
      "text/plain": [
       "recommendations finished on 79000/110396 queries. users per second: 25052"
      ]
     },
     "metadata": {},
     "output_type": "display_data"
    },
    {
     "data": {
      "text/html": [
       "<pre>recommendations finished on 80000/110396 queries. users per second: 24652.8</pre>"
      ],
      "text/plain": [
       "recommendations finished on 80000/110396 queries. users per second: 24652.8"
      ]
     },
     "metadata": {},
     "output_type": "display_data"
    },
    {
     "data": {
      "text/html": [
       "<pre>recommendations finished on 81000/110396 queries. users per second: 24912.8</pre>"
      ],
      "text/plain": [
       "recommendations finished on 81000/110396 queries. users per second: 24912.8"
      ]
     },
     "metadata": {},
     "output_type": "display_data"
    },
    {
     "data": {
      "text/html": [
       "<pre>recommendations finished on 82000/110396 queries. users per second: 25162.1</pre>"
      ],
      "text/plain": [
       "recommendations finished on 82000/110396 queries. users per second: 25162.1"
      ]
     },
     "metadata": {},
     "output_type": "display_data"
    },
    {
     "data": {
      "text/html": [
       "<pre>recommendations finished on 83000/110396 queries. users per second: 24790.8</pre>"
      ],
      "text/plain": [
       "recommendations finished on 83000/110396 queries. users per second: 24790.8"
      ]
     },
     "metadata": {},
     "output_type": "display_data"
    },
    {
     "data": {
      "text/html": [
       "<pre>recommendations finished on 84000/110396 queries. users per second: 25044.6</pre>"
      ],
      "text/plain": [
       "recommendations finished on 84000/110396 queries. users per second: 25044.6"
      ]
     },
     "metadata": {},
     "output_type": "display_data"
    },
    {
     "data": {
      "text/html": [
       "<pre>recommendations finished on 85000/110396 queries. users per second: 24676.6</pre>"
      ],
      "text/plain": [
       "recommendations finished on 85000/110396 queries. users per second: 24676.6"
      ]
     },
     "metadata": {},
     "output_type": "display_data"
    },
    {
     "data": {
      "text/html": [
       "<pre>recommendations finished on 86000/110396 queries. users per second: 24925.6</pre>"
      ],
      "text/plain": [
       "recommendations finished on 86000/110396 queries. users per second: 24925.6"
      ]
     },
     "metadata": {},
     "output_type": "display_data"
    },
    {
     "data": {
      "text/html": [
       "<pre>recommendations finished on 87000/110396 queries. users per second: 25166.5</pre>"
      ],
      "text/plain": [
       "recommendations finished on 87000/110396 queries. users per second: 25166.5"
      ]
     },
     "metadata": {},
     "output_type": "display_data"
    },
    {
     "data": {
      "text/html": [
       "<pre>recommendations finished on 88000/110396 queries. users per second: 24809.3</pre>"
      ],
      "text/plain": [
       "recommendations finished on 88000/110396 queries. users per second: 24809.3"
      ]
     },
     "metadata": {},
     "output_type": "display_data"
    },
    {
     "data": {
      "text/html": [
       "<pre>recommendations finished on 89000/110396 queries. users per second: 25048.6</pre>"
      ],
      "text/plain": [
       "recommendations finished on 89000/110396 queries. users per second: 25048.6"
      ]
     },
     "metadata": {},
     "output_type": "display_data"
    },
    {
     "data": {
      "text/html": [
       "<pre>recommendations finished on 90000/110396 queries. users per second: 24704.5</pre>"
      ],
      "text/plain": [
       "recommendations finished on 90000/110396 queries. users per second: 24704.5"
      ]
     },
     "metadata": {},
     "output_type": "display_data"
    },
    {
     "data": {
      "text/html": [
       "<pre>recommendations finished on 91000/110396 queries. users per second: 24936.5</pre>"
      ],
      "text/plain": [
       "recommendations finished on 91000/110396 queries. users per second: 24936.5"
      ]
     },
     "metadata": {},
     "output_type": "display_data"
    },
    {
     "data": {
      "text/html": [
       "<pre>recommendations finished on 92000/110396 queries. users per second: 25163.7</pre>"
      ],
      "text/plain": [
       "recommendations finished on 92000/110396 queries. users per second: 25163.7"
      ]
     },
     "metadata": {},
     "output_type": "display_data"
    },
    {
     "data": {
      "text/html": [
       "<pre>recommendations finished on 93000/110396 queries. users per second: 24819.2</pre>"
      ],
      "text/plain": [
       "recommendations finished on 93000/110396 queries. users per second: 24819.2"
      ]
     },
     "metadata": {},
     "output_type": "display_data"
    },
    {
     "data": {
      "text/html": [
       "<pre>recommendations finished on 94000/110396 queries. users per second: 25039.5</pre>"
      ],
      "text/plain": [
       "recommendations finished on 94000/110396 queries. users per second: 25039.5"
      ]
     },
     "metadata": {},
     "output_type": "display_data"
    },
    {
     "data": {
      "text/html": [
       "<pre>recommendations finished on 95000/110396 queries. users per second: 24711.7</pre>"
      ],
      "text/plain": [
       "recommendations finished on 95000/110396 queries. users per second: 24711.7"
      ]
     },
     "metadata": {},
     "output_type": "display_data"
    },
    {
     "data": {
      "text/html": [
       "<pre>recommendations finished on 96000/110396 queries. users per second: 24921.8</pre>"
      ],
      "text/plain": [
       "recommendations finished on 96000/110396 queries. users per second: 24921.8"
      ]
     },
     "metadata": {},
     "output_type": "display_data"
    },
    {
     "data": {
      "text/html": [
       "<pre>recommendations finished on 97000/110396 queries. users per second: 25126.4</pre>"
      ],
      "text/plain": [
       "recommendations finished on 97000/110396 queries. users per second: 25126.4"
      ]
     },
     "metadata": {},
     "output_type": "display_data"
    },
    {
     "data": {
      "text/html": [
       "<pre>recommendations finished on 98000/110396 queries. users per second: 24815.7</pre>"
      ],
      "text/plain": [
       "recommendations finished on 98000/110396 queries. users per second: 24815.7"
      ]
     },
     "metadata": {},
     "output_type": "display_data"
    },
    {
     "data": {
      "text/html": [
       "<pre>recommendations finished on 99000/110396 queries. users per second: 25012.6</pre>"
      ],
      "text/plain": [
       "recommendations finished on 99000/110396 queries. users per second: 25012.6"
      ]
     },
     "metadata": {},
     "output_type": "display_data"
    },
    {
     "data": {
      "text/html": [
       "<pre>recommendations finished on 100000/110396 queries. users per second: 24713.8</pre>"
      ],
      "text/plain": [
       "recommendations finished on 100000/110396 queries. users per second: 24713.8"
      ]
     },
     "metadata": {},
     "output_type": "display_data"
    },
    {
     "data": {
      "text/html": [
       "<pre>recommendations finished on 101000/110396 queries. users per second: 24904.1</pre>"
      ],
      "text/plain": [
       "recommendations finished on 101000/110396 queries. users per second: 24904.1"
      ]
     },
     "metadata": {},
     "output_type": "display_data"
    },
    {
     "data": {
      "text/html": [
       "<pre>recommendations finished on 102000/110396 queries. users per second: 25108.7</pre>"
      ],
      "text/plain": [
       "recommendations finished on 102000/110396 queries. users per second: 25108.7"
      ]
     },
     "metadata": {},
     "output_type": "display_data"
    },
    {
     "data": {
      "text/html": [
       "<pre>recommendations finished on 103000/110396 queries. users per second: 25329.7</pre>"
      ],
      "text/plain": [
       "recommendations finished on 103000/110396 queries. users per second: 25329.7"
      ]
     },
     "metadata": {},
     "output_type": "display_data"
    },
    {
     "data": {
      "text/html": [
       "<pre>recommendations finished on 104000/110396 queries. users per second: 25079.2</pre>"
      ],
      "text/plain": [
       "recommendations finished on 104000/110396 queries. users per second: 25079.2"
      ]
     },
     "metadata": {},
     "output_type": "display_data"
    },
    {
     "data": {
      "text/html": [
       "<pre>recommendations finished on 105000/110396 queries. users per second: 25292.2</pre>"
      ],
      "text/plain": [
       "recommendations finished on 105000/110396 queries. users per second: 25292.2"
      ]
     },
     "metadata": {},
     "output_type": "display_data"
    },
    {
     "data": {
      "text/html": [
       "<pre>recommendations finished on 106000/110396 queries. users per second: 25505.8</pre>"
      ],
      "text/plain": [
       "recommendations finished on 106000/110396 queries. users per second: 25505.8"
      ]
     },
     "metadata": {},
     "output_type": "display_data"
    },
    {
     "data": {
      "text/html": [
       "<pre>recommendations finished on 107000/110396 queries. users per second: 25716.8</pre>"
      ],
      "text/plain": [
       "recommendations finished on 107000/110396 queries. users per second: 25716.8"
      ]
     },
     "metadata": {},
     "output_type": "display_data"
    },
    {
     "data": {
      "text/html": [
       "<pre>recommendations finished on 108000/110396 queries. users per second: 25923</pre>"
      ],
      "text/plain": [
       "recommendations finished on 108000/110396 queries. users per second: 25923"
      ]
     },
     "metadata": {},
     "output_type": "display_data"
    },
    {
     "data": {
      "text/html": [
       "<pre>recommendations finished on 109000/110396 queries. users per second: 26136</pre>"
      ],
      "text/plain": [
       "recommendations finished on 109000/110396 queries. users per second: 26136"
      ]
     },
     "metadata": {},
     "output_type": "display_data"
    },
    {
     "data": {
      "text/html": [
       "<pre>recommendations finished on 110000/110396 queries. users per second: 26316.3</pre>"
      ],
      "text/plain": [
       "recommendations finished on 110000/110396 queries. users per second: 26316.3"
      ]
     },
     "metadata": {},
     "output_type": "display_data"
    },
    {
     "name": "stdout",
     "output_type": "stream",
     "text": [
      "\n",
      "Precision and recall summary statistics by cutoff\n",
      "+--------+-------------------+-------------------+\n",
      "| cutoff |   mean_precision  |    mean_recall    |\n",
      "+--------+-------------------+-------------------+\n",
      "|   1    | 2.71748976412e-05 | 1.33717750298e-05 |\n",
      "|   2    |  0.00115040400014 |  0.00180117809651 |\n",
      "|   3    | 0.000772974866239 |  0.00180721696266 |\n",
      "|   4    |   0.035345483532  |  0.0866038665762  |\n",
      "|   5    |  0.0282800101453  |  0.0866096897685  |\n",
      "|   6    |  0.0286468712635  |   0.102314692038  |\n",
      "|   7    |  0.0369423322791  |   0.155721243225  |\n",
      "|   8    |  0.0323720968151  |   0.15600748548   |\n",
      "|   9    |  0.0288003591112  |   0.156172044583  |\n",
      "|   10   |  0.0259348164789  |   0.15628225389   |\n",
      "+--------+-------------------+-------------------+\n",
      "[10 rows x 3 columns]\n",
      "\n",
      "PROGRESS: Evaluate model M2\n"
     ]
    },
    {
     "data": {
      "text/html": [
       "<pre>recommendations finished on 1000/110396 queries. users per second: 24835.5</pre>"
      ],
      "text/plain": [
       "recommendations finished on 1000/110396 queries. users per second: 24835.5"
      ]
     },
     "metadata": {},
     "output_type": "display_data"
    },
    {
     "data": {
      "text/html": [
       "<pre>recommendations finished on 2000/110396 queries. users per second: 44020.9</pre>"
      ],
      "text/plain": [
       "recommendations finished on 2000/110396 queries. users per second: 44020.9"
      ]
     },
     "metadata": {},
     "output_type": "display_data"
    },
    {
     "data": {
      "text/html": [
       "<pre>recommendations finished on 3000/110396 queries. users per second: 57425.1</pre>"
      ],
      "text/plain": [
       "recommendations finished on 3000/110396 queries. users per second: 57425.1"
      ]
     },
     "metadata": {},
     "output_type": "display_data"
    },
    {
     "data": {
      "text/html": [
       "<pre>recommendations finished on 4000/110396 queries. users per second: 28242.8</pre>"
      ],
      "text/plain": [
       "recommendations finished on 4000/110396 queries. users per second: 28242.8"
      ]
     },
     "metadata": {},
     "output_type": "display_data"
    },
    {
     "data": {
      "text/html": [
       "<pre>recommendations finished on 5000/110396 queries. users per second: 33996.7</pre>"
      ],
      "text/plain": [
       "recommendations finished on 5000/110396 queries. users per second: 33996.7"
      ]
     },
     "metadata": {},
     "output_type": "display_data"
    },
    {
     "data": {
      "text/html": [
       "<pre>recommendations finished on 6000/110396 queries. users per second: 25186.5</pre>"
      ],
      "text/plain": [
       "recommendations finished on 6000/110396 queries. users per second: 25186.5"
      ]
     },
     "metadata": {},
     "output_type": "display_data"
    },
    {
     "data": {
      "text/html": [
       "<pre>recommendations finished on 7000/110396 queries. users per second: 28805.5</pre>"
      ],
      "text/plain": [
       "recommendations finished on 7000/110396 queries. users per second: 28805.5"
      ]
     },
     "metadata": {},
     "output_type": "display_data"
    },
    {
     "data": {
      "text/html": [
       "<pre>recommendations finished on 8000/110396 queries. users per second: 32221.6</pre>"
      ],
      "text/plain": [
       "recommendations finished on 8000/110396 queries. users per second: 32221.6"
      ]
     },
     "metadata": {},
     "output_type": "display_data"
    },
    {
     "data": {
      "text/html": [
       "<pre>recommendations finished on 9000/110396 queries. users per second: 26387.9</pre>"
      ],
      "text/plain": [
       "recommendations finished on 9000/110396 queries. users per second: 26387.9"
      ]
     },
     "metadata": {},
     "output_type": "display_data"
    },
    {
     "data": {
      "text/html": [
       "<pre>recommendations finished on 10000/110396 queries. users per second: 28857</pre>"
      ],
      "text/plain": [
       "recommendations finished on 10000/110396 queries. users per second: 28857"
      ]
     },
     "metadata": {},
     "output_type": "display_data"
    },
    {
     "data": {
      "text/html": [
       "<pre>recommendations finished on 11000/110396 queries. users per second: 25106.8</pre>"
      ],
      "text/plain": [
       "recommendations finished on 11000/110396 queries. users per second: 25106.8"
      ]
     },
     "metadata": {},
     "output_type": "display_data"
    },
    {
     "data": {
      "text/html": [
       "<pre>recommendations finished on 12000/110396 queries. users per second: 27081.5</pre>"
      ],
      "text/plain": [
       "recommendations finished on 12000/110396 queries. users per second: 27081.5"
      ]
     },
     "metadata": {},
     "output_type": "display_data"
    },
    {
     "data": {
      "text/html": [
       "<pre>recommendations finished on 13000/110396 queries. users per second: 28948.6</pre>"
      ],
      "text/plain": [
       "recommendations finished on 13000/110396 queries. users per second: 28948.6"
      ]
     },
     "metadata": {},
     "output_type": "display_data"
    },
    {
     "data": {
      "text/html": [
       "<pre>recommendations finished on 14000/110396 queries. users per second: 25920.8</pre>"
      ],
      "text/plain": [
       "recommendations finished on 14000/110396 queries. users per second: 25920.8"
      ]
     },
     "metadata": {},
     "output_type": "display_data"
    },
    {
     "data": {
      "text/html": [
       "<pre>recommendations finished on 15000/110396 queries. users per second: 27487</pre>"
      ],
      "text/plain": [
       "recommendations finished on 15000/110396 queries. users per second: 27487"
      ]
     },
     "metadata": {},
     "output_type": "display_data"
    },
    {
     "data": {
      "text/html": [
       "<pre>recommendations finished on 16000/110396 queries. users per second: 28922.5</pre>"
      ],
      "text/plain": [
       "recommendations finished on 16000/110396 queries. users per second: 28922.5"
      ]
     },
     "metadata": {},
     "output_type": "display_data"
    },
    {
     "data": {
      "text/html": [
       "<pre>recommendations finished on 17000/110396 queries. users per second: 26429.1</pre>"
      ],
      "text/plain": [
       "recommendations finished on 17000/110396 queries. users per second: 26429.1"
      ]
     },
     "metadata": {},
     "output_type": "display_data"
    },
    {
     "data": {
      "text/html": [
       "<pre>recommendations finished on 18000/110396 queries. users per second: 27707.6</pre>"
      ],
      "text/plain": [
       "recommendations finished on 18000/110396 queries. users per second: 27707.6"
      ]
     },
     "metadata": {},
     "output_type": "display_data"
    },
    {
     "data": {
      "text/html": [
       "<pre>recommendations finished on 19000/110396 queries. users per second: 25669.3</pre>"
      ],
      "text/plain": [
       "recommendations finished on 19000/110396 queries. users per second: 25669.3"
      ]
     },
     "metadata": {},
     "output_type": "display_data"
    },
    {
     "data": {
      "text/html": [
       "<pre>recommendations finished on 20000/110396 queries. users per second: 26822.2</pre>"
      ],
      "text/plain": [
       "recommendations finished on 20000/110396 queries. users per second: 26822.2"
      ]
     },
     "metadata": {},
     "output_type": "display_data"
    },
    {
     "data": {
      "text/html": [
       "<pre>recommendations finished on 21000/110396 queries. users per second: 25068.8</pre>"
      ],
      "text/plain": [
       "recommendations finished on 21000/110396 queries. users per second: 25068.8"
      ]
     },
     "metadata": {},
     "output_type": "display_data"
    },
    {
     "data": {
      "text/html": [
       "<pre>recommendations finished on 22000/110396 queries. users per second: 26093.8</pre>"
      ],
      "text/plain": [
       "recommendations finished on 22000/110396 queries. users per second: 26093.8"
      ]
     },
     "metadata": {},
     "output_type": "display_data"
    },
    {
     "data": {
      "text/html": [
       "<pre>recommendations finished on 23000/110396 queries. users per second: 27124.1</pre>"
      ],
      "text/plain": [
       "recommendations finished on 23000/110396 queries. users per second: 27124.1"
      ]
     },
     "metadata": {},
     "output_type": "display_data"
    },
    {
     "data": {
      "text/html": [
       "<pre>recommendations finished on 24000/110396 queries. users per second: 25569.6</pre>"
      ],
      "text/plain": [
       "recommendations finished on 24000/110396 queries. users per second: 25569.6"
      ]
     },
     "metadata": {},
     "output_type": "display_data"
    },
    {
     "data": {
      "text/html": [
       "<pre>recommendations finished on 25000/110396 queries. users per second: 26487.4</pre>"
      ],
      "text/plain": [
       "recommendations finished on 25000/110396 queries. users per second: 26487.4"
      ]
     },
     "metadata": {},
     "output_type": "display_data"
    },
    {
     "data": {
      "text/html": [
       "<pre>recommendations finished on 26000/110396 queries. users per second: 27392</pre>"
      ],
      "text/plain": [
       "recommendations finished on 26000/110396 queries. users per second: 27392"
      ]
     },
     "metadata": {},
     "output_type": "display_data"
    },
    {
     "data": {
      "text/html": [
       "<pre>recommendations finished on 27000/110396 queries. users per second: 25989.2</pre>"
      ],
      "text/plain": [
       "recommendations finished on 27000/110396 queries. users per second: 25989.2"
      ]
     },
     "metadata": {},
     "output_type": "display_data"
    },
    {
     "data": {
      "text/html": [
       "<pre>recommendations finished on 28000/110396 queries. users per second: 26816.9</pre>"
      ],
      "text/plain": [
       "recommendations finished on 28000/110396 queries. users per second: 26816.9"
      ]
     },
     "metadata": {},
     "output_type": "display_data"
    },
    {
     "data": {
      "text/html": [
       "<pre>recommendations finished on 29000/110396 queries. users per second: 27607.3</pre>"
      ],
      "text/plain": [
       "recommendations finished on 29000/110396 queries. users per second: 27607.3"
      ]
     },
     "metadata": {},
     "output_type": "display_data"
    },
    {
     "data": {
      "text/html": [
       "<pre>recommendations finished on 30000/110396 queries. users per second: 26310.6</pre>"
      ],
      "text/plain": [
       "recommendations finished on 30000/110396 queries. users per second: 26310.6"
      ]
     },
     "metadata": {},
     "output_type": "display_data"
    },
    {
     "data": {
      "text/html": [
       "<pre>recommendations finished on 31000/110396 queries. users per second: 27056.2</pre>"
      ],
      "text/plain": [
       "recommendations finished on 31000/110396 queries. users per second: 27056.2"
      ]
     },
     "metadata": {},
     "output_type": "display_data"
    },
    {
     "data": {
      "text/html": [
       "<pre>recommendations finished on 32000/110396 queries. users per second: 27734.3</pre>"
      ],
      "text/plain": [
       "recommendations finished on 32000/110396 queries. users per second: 27734.3"
      ]
     },
     "metadata": {},
     "output_type": "display_data"
    },
    {
     "data": {
      "text/html": [
       "<pre>recommendations finished on 33000/110396 queries. users per second: 26567.7</pre>"
      ],
      "text/plain": [
       "recommendations finished on 33000/110396 queries. users per second: 26567.7"
      ]
     },
     "metadata": {},
     "output_type": "display_data"
    },
    {
     "data": {
      "text/html": [
       "<pre>recommendations finished on 34000/110396 queries. users per second: 27261.7</pre>"
      ],
      "text/plain": [
       "recommendations finished on 34000/110396 queries. users per second: 27261.7"
      ]
     },
     "metadata": {},
     "output_type": "display_data"
    },
    {
     "data": {
      "text/html": [
       "<pre>recommendations finished on 35000/110396 queries. users per second: 26170.4</pre>"
      ],
      "text/plain": [
       "recommendations finished on 35000/110396 queries. users per second: 26170.4"
      ]
     },
     "metadata": {},
     "output_type": "display_data"
    },
    {
     "data": {
      "text/html": [
       "<pre>recommendations finished on 36000/110396 queries. users per second: 26808.7</pre>"
      ],
      "text/plain": [
       "recommendations finished on 36000/110396 queries. users per second: 26808.7"
      ]
     },
     "metadata": {},
     "output_type": "display_data"
    },
    {
     "data": {
      "text/html": [
       "<pre>recommendations finished on 37000/110396 queries. users per second: 27435.2</pre>"
      ],
      "text/plain": [
       "recommendations finished on 37000/110396 queries. users per second: 27435.2"
      ]
     },
     "metadata": {},
     "output_type": "display_data"
    },
    {
     "data": {
      "text/html": [
       "<pre>recommendations finished on 38000/110396 queries. users per second: 26389.3</pre>"
      ],
      "text/plain": [
       "recommendations finished on 38000/110396 queries. users per second: 26389.3"
      ]
     },
     "metadata": {},
     "output_type": "display_data"
    },
    {
     "data": {
      "text/html": [
       "<pre>recommendations finished on 39000/110396 queries. users per second: 26983.6</pre>"
      ],
      "text/plain": [
       "recommendations finished on 39000/110396 queries. users per second: 26983.6"
      ]
     },
     "metadata": {},
     "output_type": "display_data"
    },
    {
     "data": {
      "text/html": [
       "<pre>recommendations finished on 40000/110396 queries. users per second: 27553.8</pre>"
      ],
      "text/plain": [
       "recommendations finished on 40000/110396 queries. users per second: 27553.8"
      ]
     },
     "metadata": {},
     "output_type": "display_data"
    },
    {
     "data": {
      "text/html": [
       "<pre>recommendations finished on 41000/110396 queries. users per second: 26607.7</pre>"
      ],
      "text/plain": [
       "recommendations finished on 41000/110396 queries. users per second: 26607.7"
      ]
     },
     "metadata": {},
     "output_type": "display_data"
    },
    {
     "data": {
      "text/html": [
       "<pre>recommendations finished on 42000/110396 queries. users per second: 27163.6</pre>"
      ],
      "text/plain": [
       "recommendations finished on 42000/110396 queries. users per second: 27163.6"
      ]
     },
     "metadata": {},
     "output_type": "display_data"
    },
    {
     "data": {
      "text/html": [
       "<pre>recommendations finished on 43000/110396 queries. users per second: 27702</pre>"
      ],
      "text/plain": [
       "recommendations finished on 43000/110396 queries. users per second: 27702"
      ]
     },
     "metadata": {},
     "output_type": "display_data"
    },
    {
     "data": {
      "text/html": [
       "<pre>recommendations finished on 44000/110396 queries. users per second: 26813.9</pre>"
      ],
      "text/plain": [
       "recommendations finished on 44000/110396 queries. users per second: 26813.9"
      ]
     },
     "metadata": {},
     "output_type": "display_data"
    },
    {
     "data": {
      "text/html": [
       "<pre>recommendations finished on 45000/110396 queries. users per second: 27336.9</pre>"
      ],
      "text/plain": [
       "recommendations finished on 45000/110396 queries. users per second: 27336.9"
      ]
     },
     "metadata": {},
     "output_type": "display_data"
    },
    {
     "data": {
      "text/html": [
       "<pre>recommendations finished on 46000/110396 queries. users per second: 27838.6</pre>"
      ],
      "text/plain": [
       "recommendations finished on 46000/110396 queries. users per second: 27838.6"
      ]
     },
     "metadata": {},
     "output_type": "display_data"
    },
    {
     "data": {
      "text/html": [
       "<pre>recommendations finished on 47000/110396 queries. users per second: 26989.7</pre>"
      ],
      "text/plain": [
       "recommendations finished on 47000/110396 queries. users per second: 26989.7"
      ]
     },
     "metadata": {},
     "output_type": "display_data"
    },
    {
     "data": {
      "text/html": [
       "<pre>recommendations finished on 48000/110396 queries. users per second: 27477.7</pre>"
      ],
      "text/plain": [
       "recommendations finished on 48000/110396 queries. users per second: 27477.7"
      ]
     },
     "metadata": {},
     "output_type": "display_data"
    },
    {
     "data": {
      "text/html": [
       "<pre>recommendations finished on 49000/110396 queries. users per second: 27937.4</pre>"
      ],
      "text/plain": [
       "recommendations finished on 49000/110396 queries. users per second: 27937.4"
      ]
     },
     "metadata": {},
     "output_type": "display_data"
    },
    {
     "data": {
      "text/html": [
       "<pre>recommendations finished on 50000/110396 queries. users per second: 27150.7</pre>"
      ],
      "text/plain": [
       "recommendations finished on 50000/110396 queries. users per second: 27150.7"
      ]
     },
     "metadata": {},
     "output_type": "display_data"
    },
    {
     "data": {
      "text/html": [
       "<pre>recommendations finished on 51000/110396 queries. users per second: 27623.6</pre>"
      ],
      "text/plain": [
       "recommendations finished on 51000/110396 queries. users per second: 27623.6"
      ]
     },
     "metadata": {},
     "output_type": "display_data"
    },
    {
     "data": {
      "text/html": [
       "<pre>recommendations finished on 52000/110396 queries. users per second: 28064.6</pre>"
      ],
      "text/plain": [
       "recommendations finished on 52000/110396 queries. users per second: 28064.6"
      ]
     },
     "metadata": {},
     "output_type": "display_data"
    },
    {
     "data": {
      "text/html": [
       "<pre>recommendations finished on 53000/110396 queries. users per second: 27306.8</pre>"
      ],
      "text/plain": [
       "recommendations finished on 53000/110396 queries. users per second: 27306.8"
      ]
     },
     "metadata": {},
     "output_type": "display_data"
    },
    {
     "data": {
      "text/html": [
       "<pre>recommendations finished on 54000/110396 queries. users per second: 27745.7</pre>"
      ],
      "text/plain": [
       "recommendations finished on 54000/110396 queries. users per second: 27745.7"
      ]
     },
     "metadata": {},
     "output_type": "display_data"
    },
    {
     "data": {
      "text/html": [
       "<pre>recommendations finished on 55000/110396 queries. users per second: 28148.6</pre>"
      ],
      "text/plain": [
       "recommendations finished on 55000/110396 queries. users per second: 28148.6"
      ]
     },
     "metadata": {},
     "output_type": "display_data"
    },
    {
     "data": {
      "text/html": [
       "<pre>recommendations finished on 56000/110396 queries. users per second: 27432</pre>"
      ],
      "text/plain": [
       "recommendations finished on 56000/110396 queries. users per second: 27432"
      ]
     },
     "metadata": {},
     "output_type": "display_data"
    },
    {
     "data": {
      "text/html": [
       "<pre>recommendations finished on 57000/110396 queries. users per second: 27847.8</pre>"
      ],
      "text/plain": [
       "recommendations finished on 57000/110396 queries. users per second: 27847.8"
      ]
     },
     "metadata": {},
     "output_type": "display_data"
    },
    {
     "data": {
      "text/html": [
       "<pre>recommendations finished on 58000/110396 queries. users per second: 27133.8</pre>"
      ],
      "text/plain": [
       "recommendations finished on 58000/110396 queries. users per second: 27133.8"
      ]
     },
     "metadata": {},
     "output_type": "display_data"
    },
    {
     "data": {
      "text/html": [
       "<pre>recommendations finished on 59000/110396 queries. users per second: 27534.2</pre>"
      ],
      "text/plain": [
       "recommendations finished on 59000/110396 queries. users per second: 27534.2"
      ]
     },
     "metadata": {},
     "output_type": "display_data"
    },
    {
     "data": {
      "text/html": [
       "<pre>recommendations finished on 60000/110396 queries. users per second: 27929.2</pre>"
      ],
      "text/plain": [
       "recommendations finished on 60000/110396 queries. users per second: 27929.2"
      ]
     },
     "metadata": {},
     "output_type": "display_data"
    },
    {
     "data": {
      "text/html": [
       "<pre>recommendations finished on 61000/110396 queries. users per second: 27243.1</pre>"
      ],
      "text/plain": [
       "recommendations finished on 61000/110396 queries. users per second: 27243.1"
      ]
     },
     "metadata": {},
     "output_type": "display_data"
    },
    {
     "data": {
      "text/html": [
       "<pre>recommendations finished on 62000/110396 queries. users per second: 27615.4</pre>"
      ],
      "text/plain": [
       "recommendations finished on 62000/110396 queries. users per second: 27615.4"
      ]
     },
     "metadata": {},
     "output_type": "display_data"
    },
    {
     "data": {
      "text/html": [
       "<pre>recommendations finished on 63000/110396 queries. users per second: 27962.1</pre>"
      ],
      "text/plain": [
       "recommendations finished on 63000/110396 queries. users per second: 27962.1"
      ]
     },
     "metadata": {},
     "output_type": "display_data"
    },
    {
     "data": {
      "text/html": [
       "<pre>recommendations finished on 64000/110396 queries. users per second: 27325.3</pre>"
      ],
      "text/plain": [
       "recommendations finished on 64000/110396 queries. users per second: 27325.3"
      ]
     },
     "metadata": {},
     "output_type": "display_data"
    },
    {
     "data": {
      "text/html": [
       "<pre>recommendations finished on 65000/110396 queries. users per second: 27692.6</pre>"
      ],
      "text/plain": [
       "recommendations finished on 65000/110396 queries. users per second: 27692.6"
      ]
     },
     "metadata": {},
     "output_type": "display_data"
    },
    {
     "data": {
      "text/html": [
       "<pre>recommendations finished on 66000/110396 queries. users per second: 27072.2</pre>"
      ],
      "text/plain": [
       "recommendations finished on 66000/110396 queries. users per second: 27072.2"
      ]
     },
     "metadata": {},
     "output_type": "display_data"
    },
    {
     "data": {
      "text/html": [
       "<pre>recommendations finished on 67000/110396 queries. users per second: 27415.6</pre>"
      ],
      "text/plain": [
       "recommendations finished on 67000/110396 queries. users per second: 27415.6"
      ]
     },
     "metadata": {},
     "output_type": "display_data"
    },
    {
     "data": {
      "text/html": [
       "<pre>recommendations finished on 68000/110396 queries. users per second: 27754.6</pre>"
      ],
      "text/plain": [
       "recommendations finished on 68000/110396 queries. users per second: 27754.6"
      ]
     },
     "metadata": {},
     "output_type": "display_data"
    },
    {
     "data": {
      "text/html": [
       "<pre>recommendations finished on 69000/110396 queries. users per second: 27163.3</pre>"
      ],
      "text/plain": [
       "recommendations finished on 69000/110396 queries. users per second: 27163.3"
      ]
     },
     "metadata": {},
     "output_type": "display_data"
    },
    {
     "data": {
      "text/html": [
       "<pre>recommendations finished on 70000/110396 queries. users per second: 27500.9</pre>"
      ],
      "text/plain": [
       "recommendations finished on 70000/110396 queries. users per second: 27500.9"
      ]
     },
     "metadata": {},
     "output_type": "display_data"
    },
    {
     "data": {
      "text/html": [
       "<pre>recommendations finished on 71000/110396 queries. users per second: 27817</pre>"
      ],
      "text/plain": [
       "recommendations finished on 71000/110396 queries. users per second: 27817"
      ]
     },
     "metadata": {},
     "output_type": "display_data"
    },
    {
     "data": {
      "text/html": [
       "<pre>recommendations finished on 72000/110396 queries. users per second: 27270.7</pre>"
      ],
      "text/plain": [
       "recommendations finished on 72000/110396 queries. users per second: 27270.7"
      ]
     },
     "metadata": {},
     "output_type": "display_data"
    },
    {
     "data": {
      "text/html": [
       "<pre>recommendations finished on 73000/110396 queries. users per second: 27585.6</pre>"
      ],
      "text/plain": [
       "recommendations finished on 73000/110396 queries. users per second: 27585.6"
      ]
     },
     "metadata": {},
     "output_type": "display_data"
    },
    {
     "data": {
      "text/html": [
       "<pre>recommendations finished on 74000/110396 queries. users per second: 27886.2</pre>"
      ],
      "text/plain": [
       "recommendations finished on 74000/110396 queries. users per second: 27886.2"
      ]
     },
     "metadata": {},
     "output_type": "display_data"
    },
    {
     "data": {
      "text/html": [
       "<pre>recommendations finished on 75000/110396 queries. users per second: 27364.6</pre>"
      ],
      "text/plain": [
       "recommendations finished on 75000/110396 queries. users per second: 27364.6"
      ]
     },
     "metadata": {},
     "output_type": "display_data"
    },
    {
     "data": {
      "text/html": [
       "<pre>recommendations finished on 76000/110396 queries. users per second: 27680</pre>"
      ],
      "text/plain": [
       "recommendations finished on 76000/110396 queries. users per second: 27680"
      ]
     },
     "metadata": {},
     "output_type": "display_data"
    },
    {
     "data": {
      "text/html": [
       "<pre>recommendations finished on 77000/110396 queries. users per second: 27983.9</pre>"
      ],
      "text/plain": [
       "recommendations finished on 77000/110396 queries. users per second: 27983.9"
      ]
     },
     "metadata": {},
     "output_type": "display_data"
    },
    {
     "data": {
      "text/html": [
       "<pre>recommendations finished on 78000/110396 queries. users per second: 27461.2</pre>"
      ],
      "text/plain": [
       "recommendations finished on 78000/110396 queries. users per second: 27461.2"
      ]
     },
     "metadata": {},
     "output_type": "display_data"
    },
    {
     "data": {
      "text/html": [
       "<pre>recommendations finished on 79000/110396 queries. users per second: 27764.8</pre>"
      ],
      "text/plain": [
       "recommendations finished on 79000/110396 queries. users per second: 27764.8"
      ]
     },
     "metadata": {},
     "output_type": "display_data"
    },
    {
     "data": {
      "text/html": [
       "<pre>recommendations finished on 80000/110396 queries. users per second: 27232.1</pre>"
      ],
      "text/plain": [
       "recommendations finished on 80000/110396 queries. users per second: 27232.1"
      ]
     },
     "metadata": {},
     "output_type": "display_data"
    },
    {
     "data": {
      "text/html": [
       "<pre>recommendations finished on 81000/110396 queries. users per second: 27524</pre>"
      ],
      "text/plain": [
       "recommendations finished on 81000/110396 queries. users per second: 27524"
      ]
     },
     "metadata": {},
     "output_type": "display_data"
    },
    {
     "data": {
      "text/html": [
       "<pre>recommendations finished on 82000/110396 queries. users per second: 27816.7</pre>"
      ],
      "text/plain": [
       "recommendations finished on 82000/110396 queries. users per second: 27816.7"
      ]
     },
     "metadata": {},
     "output_type": "display_data"
    },
    {
     "data": {
      "text/html": [
       "<pre>recommendations finished on 83000/110396 queries. users per second: 27312</pre>"
      ],
      "text/plain": [
       "recommendations finished on 83000/110396 queries. users per second: 27312"
      ]
     },
     "metadata": {},
     "output_type": "display_data"
    },
    {
     "data": {
      "text/html": [
       "<pre>recommendations finished on 84000/110396 queries. users per second: 27591.5</pre>"
      ],
      "text/plain": [
       "recommendations finished on 84000/110396 queries. users per second: 27591.5"
      ]
     },
     "metadata": {},
     "output_type": "display_data"
    },
    {
     "data": {
      "text/html": [
       "<pre>recommendations finished on 85000/110396 queries. users per second: 27865.6</pre>"
      ],
      "text/plain": [
       "recommendations finished on 85000/110396 queries. users per second: 27865.6"
      ]
     },
     "metadata": {},
     "output_type": "display_data"
    },
    {
     "data": {
      "text/html": [
       "<pre>recommendations finished on 86000/110396 queries. users per second: 27388.7</pre>"
      ],
      "text/plain": [
       "recommendations finished on 86000/110396 queries. users per second: 27388.7"
      ]
     },
     "metadata": {},
     "output_type": "display_data"
    },
    {
     "data": {
      "text/html": [
       "<pre>recommendations finished on 87000/110396 queries. users per second: 27659.1</pre>"
      ],
      "text/plain": [
       "recommendations finished on 87000/110396 queries. users per second: 27659.1"
      ]
     },
     "metadata": {},
     "output_type": "display_data"
    },
    {
     "data": {
      "text/html": [
       "<pre>recommendations finished on 88000/110396 queries. users per second: 27922.4</pre>"
      ],
      "text/plain": [
       "recommendations finished on 88000/110396 queries. users per second: 27922.4"
      ]
     },
     "metadata": {},
     "output_type": "display_data"
    },
    {
     "data": {
      "text/html": [
       "<pre>recommendations finished on 89000/110396 queries. users per second: 27463</pre>"
      ],
      "text/plain": [
       "recommendations finished on 89000/110396 queries. users per second: 27463"
      ]
     },
     "metadata": {},
     "output_type": "display_data"
    },
    {
     "data": {
      "text/html": [
       "<pre>recommendations finished on 90000/110396 queries. users per second: 27716.4</pre>"
      ],
      "text/plain": [
       "recommendations finished on 90000/110396 queries. users per second: 27716.4"
      ]
     },
     "metadata": {},
     "output_type": "display_data"
    },
    {
     "data": {
      "text/html": [
       "<pre>recommendations finished on 91000/110396 queries. users per second: 27958.9</pre>"
      ],
      "text/plain": [
       "recommendations finished on 91000/110396 queries. users per second: 27958.9"
      ]
     },
     "metadata": {},
     "output_type": "display_data"
    },
    {
     "data": {
      "text/html": [
       "<pre>recommendations finished on 92000/110396 queries. users per second: 27518.2</pre>"
      ],
      "text/plain": [
       "recommendations finished on 92000/110396 queries. users per second: 27518.2"
      ]
     },
     "metadata": {},
     "output_type": "display_data"
    },
    {
     "data": {
      "text/html": [
       "<pre>recommendations finished on 93000/110396 queries. users per second: 27766.3</pre>"
      ],
      "text/plain": [
       "recommendations finished on 93000/110396 queries. users per second: 27766.3"
      ]
     },
     "metadata": {},
     "output_type": "display_data"
    },
    {
     "data": {
      "text/html": [
       "<pre>recommendations finished on 94000/110396 queries. users per second: 27331.1</pre>"
      ],
      "text/plain": [
       "recommendations finished on 94000/110396 queries. users per second: 27331.1"
      ]
     },
     "metadata": {},
     "output_type": "display_data"
    },
    {
     "data": {
      "text/html": [
       "<pre>recommendations finished on 95000/110396 queries. users per second: 27566.8</pre>"
      ],
      "text/plain": [
       "recommendations finished on 95000/110396 queries. users per second: 27566.8"
      ]
     },
     "metadata": {},
     "output_type": "display_data"
    },
    {
     "data": {
      "text/html": [
       "<pre>recommendations finished on 96000/110396 queries. users per second: 27805.2</pre>"
      ],
      "text/plain": [
       "recommendations finished on 96000/110396 queries. users per second: 27805.2"
      ]
     },
     "metadata": {},
     "output_type": "display_data"
    },
    {
     "data": {
      "text/html": [
       "<pre>recommendations finished on 97000/110396 queries. users per second: 27385.2</pre>"
      ],
      "text/plain": [
       "recommendations finished on 97000/110396 queries. users per second: 27385.2"
      ]
     },
     "metadata": {},
     "output_type": "display_data"
    },
    {
     "data": {
      "text/html": [
       "<pre>recommendations finished on 98000/110396 queries. users per second: 27616.2</pre>"
      ],
      "text/plain": [
       "recommendations finished on 98000/110396 queries. users per second: 27616.2"
      ]
     },
     "metadata": {},
     "output_type": "display_data"
    },
    {
     "data": {
      "text/html": [
       "<pre>recommendations finished on 99000/110396 queries. users per second: 27212.1</pre>"
      ],
      "text/plain": [
       "recommendations finished on 99000/110396 queries. users per second: 27212.1"
      ]
     },
     "metadata": {},
     "output_type": "display_data"
    },
    {
     "data": {
      "text/html": [
       "<pre>recommendations finished on 100000/110396 queries. users per second: 27427.6</pre>"
      ],
      "text/plain": [
       "recommendations finished on 100000/110396 queries. users per second: 27427.6"
      ]
     },
     "metadata": {},
     "output_type": "display_data"
    },
    {
     "data": {
      "text/html": [
       "<pre>recommendations finished on 101000/110396 queries. users per second: 27637.9</pre>"
      ],
      "text/plain": [
       "recommendations finished on 101000/110396 queries. users per second: 27637.9"
      ]
     },
     "metadata": {},
     "output_type": "display_data"
    },
    {
     "data": {
      "text/html": [
       "<pre>recommendations finished on 102000/110396 queries. users per second: 27249.4</pre>"
      ],
      "text/plain": [
       "recommendations finished on 102000/110396 queries. users per second: 27249.4"
      ]
     },
     "metadata": {},
     "output_type": "display_data"
    },
    {
     "data": {
      "text/html": [
       "<pre>recommendations finished on 103000/110396 queries. users per second: 27457.9</pre>"
      ],
      "text/plain": [
       "recommendations finished on 103000/110396 queries. users per second: 27457.9"
      ]
     },
     "metadata": {},
     "output_type": "display_data"
    },
    {
     "data": {
      "text/html": [
       "<pre>recommendations finished on 104000/110396 queries. users per second: 27089.3</pre>"
      ],
      "text/plain": [
       "recommendations finished on 104000/110396 queries. users per second: 27089.3"
      ]
     },
     "metadata": {},
     "output_type": "display_data"
    },
    {
     "data": {
      "text/html": [
       "<pre>recommendations finished on 105000/110396 queries. users per second: 27288.4</pre>"
      ],
      "text/plain": [
       "recommendations finished on 105000/110396 queries. users per second: 27288.4"
      ]
     },
     "metadata": {},
     "output_type": "display_data"
    },
    {
     "data": {
      "text/html": [
       "<pre>recommendations finished on 106000/110396 queries. users per second: 27490</pre>"
      ],
      "text/plain": [
       "recommendations finished on 106000/110396 queries. users per second: 27490"
      ]
     },
     "metadata": {},
     "output_type": "display_data"
    },
    {
     "data": {
      "text/html": [
       "<pre>recommendations finished on 107000/110396 queries. users per second: 27172</pre>"
      ],
      "text/plain": [
       "recommendations finished on 107000/110396 queries. users per second: 27172"
      ]
     },
     "metadata": {},
     "output_type": "display_data"
    },
    {
     "data": {
      "text/html": [
       "<pre>recommendations finished on 108000/110396 queries. users per second: 27379.5</pre>"
      ],
      "text/plain": [
       "recommendations finished on 108000/110396 queries. users per second: 27379.5"
      ]
     },
     "metadata": {},
     "output_type": "display_data"
    },
    {
     "data": {
      "text/html": [
       "<pre>recommendations finished on 109000/110396 queries. users per second: 27595.1</pre>"
      ],
      "text/plain": [
       "recommendations finished on 109000/110396 queries. users per second: 27595.1"
      ]
     },
     "metadata": {},
     "output_type": "display_data"
    },
    {
     "data": {
      "text/html": [
       "<pre>recommendations finished on 110000/110396 queries. users per second: 27792.1</pre>"
      ],
      "text/plain": [
       "recommendations finished on 110000/110396 queries. users per second: 27792.1"
      ]
     },
     "metadata": {},
     "output_type": "display_data"
    },
    {
     "name": "stdout",
     "output_type": "stream",
     "text": [
      "\n",
      "Precision and recall summary statistics by cutoff\n",
      "+--------+-----------------+-----------------+\n",
      "| cutoff |  mean_precision |   mean_recall   |\n",
      "+--------+-----------------+-----------------+\n",
      "|   1    |  0.132323634914 | 0.0753840081397 |\n",
      "|   2    |  0.105805463966 |  0.121300706457 |\n",
      "|   3    | 0.0896409290192 |  0.152604569126 |\n",
      "|   4    | 0.0791038624588 |  0.178984412787 |\n",
      "|   5    | 0.0720171020689 |  0.20359594769  |\n",
      "|   6    |  0.06609086078  |  0.224188338861 |\n",
      "|   7    | 0.0607514247411 |  0.239555259192 |\n",
      "|   8    | 0.0569438657198 |  0.256470186652 |\n",
      "|   9    | 0.0534308811511 |  0.270199281195 |\n",
      "|   10   | 0.0507237581072 |  0.285379402861 |\n",
      "+--------+-----------------+-----------------+\n",
      "[10 rows x 3 columns]\n",
      "\n",
      "Model compare metric: precision_recall\n",
      "Canvas is accessible via web browser at the URL: http://localhost:42953/index.html\n",
      "Opening Canvas in default web browser.\n"
     ]
    }
   ],
   "source": [
    "item_sim_model = graphlab.item_similarity_recommender.create(train_data, user_id='user_id', item_id='product_id', target='rating', similarity_type='pearson')\n",
    "popularity_model = graphlab.popularity_recommender.create(train_data, user_id='user_id', item_id='product_id', target='rating')\n",
    "latent_model=graphlab.factorization_recommender.create(train_data, user_id='user_id', item_id='product_id', target='rating')\n",
    "model_performance = graphlab.compare(test_data, [popularity_model, item_sim_model,latent_model])\n",
    "graphlab.show_comparison(model_performance,[popularity_model, item_sim_model,latent_model])"
   ]
  },
  {
   "cell_type": "markdown",
   "metadata": {
    "collapsed": true
   },
   "source": [
    "###  As we can see that latent model which uses unsupervised learning to shrink the users traits into latent features gives us the best result\n",
    "\n",
    "###  Below is the code that is happening in the library\n",
    "  product_crosstab=pd.pivot_table(data=normratings,values='rating',index='user_id',columns='product_id',fill_value=0)\n",
    "\n",
    "  X=product_crosstab.values.T\n",
    "  \n",
    "  import sklearn\n",
    "  \n",
    "  from sklearn.decomposition import TruncatedSVD\n",
    "\n",
    "  SVD=TruncatedSVD(n_components=20,random_state=17)\n",
    "\n",
    "  resultant_matrix=SVD.fit_transform(X)  \n",
    "  \n",
    "  resultant_matrix.shape\n",
    "  \n",
    "  import numpy as np\n",
    "  \n",
    "  corr_mat = np.corrcoef(resultant_matrix)\n",
    "   \n",
    "  product_ids=product_crosstab.columns\n",
    "  \n",
    "  productlist=list(product_ids)\n",
    "  \n",
    "  productindexlist=[]\n",
    "  \n",
    " for i in productlist:\n",
    " \n",
    "    productindexlist.append(productlist.index(i))\n",
    "    \n",
    "  allrecommendations=[]    \n",
    "  \n",
    "  for j in productindexlist:\n",
    "  \n",
    "    corr_j=corr_mat[j]\n",
    " \n",
    "    corrlist=list(product_ids[(corr_j<1.0)&(corr_j>0.98)])\n",
    "    \n",
    "    corrlist.append(j)\n",
    "  \n",
    "    allrecommendations.append(corrlist)\n",
    "  \n",
    "  print(allrecommendations)\n",
    "\n",
    "### We use the Graphlab because it was able to scale since it was able to utilize the ibm dsx spark clusters"
   ]
  },
  {
   "cell_type": "code",
   "execution_count": null,
   "metadata": {},
   "outputs": [],
   "source": []
  }
 ],
 "metadata": {
  "kernelspec": {
   "display_name": "Python 2 with Spark 2.1",
   "language": "python",
   "name": "python2-spark21"
  },
  "language_info": {
   "codemirror_mode": {
    "name": "ipython",
    "version": 2
   },
   "file_extension": ".py",
   "mimetype": "text/x-python",
   "name": "python",
   "nbconvert_exporter": "python",
   "pygments_lexer": "ipython2",
   "version": "2.7.11"
  }
 },
 "nbformat": 4,
 "nbformat_minor": 1
}
