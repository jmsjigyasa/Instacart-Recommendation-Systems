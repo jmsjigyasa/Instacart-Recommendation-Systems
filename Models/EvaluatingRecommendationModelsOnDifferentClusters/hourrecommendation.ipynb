{
 "cells": [
  {
   "cell_type": "markdown",
   "metadata": {},
   "source": [
    "### Evaluating Recommendation models on hour clustered data"
   ]
  },
  {
   "cell_type": "code",
   "execution_count": 2,
   "metadata": {},
   "outputs": [],
   "source": [
    "\n",
    "from io import StringIO\n",
    "import requests\n",
    "import json\n",
    "import pandas as pd\n",
    "\n",
    "# @hidden_cell\n",
    "# This function accesses a file in your Object Storage. The definition contains your credentials.\n",
    "# You might want to remove those credentials before you share your notebook.\n",
    "def get_object_storage_file_with_credentials_836eb90819e64bfab21841eef5b3bf3c(container, filename):\n",
    "    \"\"\"This functions returns a StringIO object containing\n",
    "    the file content from Bluemix Object Storage.\"\"\"\n",
    "\n",
    "    url1 = ''.join(['https://identity.open.softlayer.com', '/v3/auth/tokens'])\n",
    "    data = {'auth': {'identity': {'methods': ['password'],\n",
    "            'password': {'user': {'name': 'member_6429e107b4727d3f5906de019f7fad88ada04fb8','domain': {'id': 'b5bbfbbc2d764a9096fd4aeb7d0d1477'},\n",
    "            'password': 'o{a{0]Dnx^MJ-dc1'}}}}}\n",
    "    headers1 = {'Content-Type': 'application/json'}\n",
    "    resp1 = requests.post(url=url1, data=json.dumps(data), headers=headers1)\n",
    "    resp1_body = resp1.json()\n",
    "    for e1 in resp1_body['token']['catalog']:\n",
    "        if(e1['type']=='object-store'):\n",
    "            for e2 in e1['endpoints']:\n",
    "                        if(e2['interface']=='public'and e2['region']=='dallas'):\n",
    "                            url2 = ''.join([e2['url'],'/', container, '/', filename])\n",
    "    s_subject_token = resp1.headers['x-subject-token']\n",
    "    headers2 = {'X-Auth-Token': s_subject_token, 'accept': 'application/json'}\n",
    "    resp2 = requests.get(url=url2, headers=headers2)\n",
    "    return StringIO(resp2.text)\n",
    "\n"
   ]
  },
  {
   "cell_type": "code",
   "execution_count": 16,
   "metadata": {},
   "outputs": [
    {
     "data": {
      "text/html": [
       "<div>\n",
       "<table border=\"1\" class=\"dataframe\">\n",
       "  <thead>\n",
       "    <tr style=\"text-align: right;\">\n",
       "      <th></th>\n",
       "      <th>Unnamed: 0</th>\n",
       "      <th>user_id</th>\n",
       "      <th>product_id</th>\n",
       "      <th>rating</th>\n",
       "    </tr>\n",
       "  </thead>\n",
       "  <tbody>\n",
       "    <tr>\n",
       "      <th>0</th>\n",
       "      <td>0</td>\n",
       "      <td>2</td>\n",
       "      <td>32792</td>\n",
       "      <td>5.000000</td>\n",
       "    </tr>\n",
       "    <tr>\n",
       "      <th>1</th>\n",
       "      <td>1</td>\n",
       "      <td>2</td>\n",
       "      <td>47209</td>\n",
       "      <td>5.000000</td>\n",
       "    </tr>\n",
       "    <tr>\n",
       "      <th>2</th>\n",
       "      <td>2</td>\n",
       "      <td>2</td>\n",
       "      <td>1559</td>\n",
       "      <td>3.333333</td>\n",
       "    </tr>\n",
       "    <tr>\n",
       "      <th>3</th>\n",
       "      <td>3</td>\n",
       "      <td>2</td>\n",
       "      <td>7781</td>\n",
       "      <td>3.333333</td>\n",
       "    </tr>\n",
       "    <tr>\n",
       "      <th>4</th>\n",
       "      <td>4</td>\n",
       "      <td>2</td>\n",
       "      <td>16589</td>\n",
       "      <td>3.333333</td>\n",
       "    </tr>\n",
       "  </tbody>\n",
       "</table>\n",
       "</div>"
      ],
      "text/plain": [
       "   Unnamed: 0  user_id  product_id    rating\n",
       "0           0        2       32792  5.000000\n",
       "1           1        2       47209  5.000000\n",
       "2           2        2        1559  3.333333\n",
       "3           3        2        7781  3.333333\n",
       "4           4        2       16589  3.333333"
      ]
     },
     "execution_count": 16,
     "metadata": {},
     "output_type": "execute_result"
    }
   ],
   "source": [
    "normratings= pd.read_csv(get_object_storage_file_with_credentials_836eb90819e64bfab21841eef5b3bf3c('insta', 'hourcluster1.csv'))\n",
    "normratings.head()\n"
   ]
  },
  {
   "cell_type": "code",
   "execution_count": 3,
   "metadata": {
    "scrolled": true
   },
   "outputs": [
    {
     "name": "stdout",
     "output_type": "stream",
     "text": [
      "Collecting https://get.graphlab.com/GraphLab-Create/2.1/goel.t@husky.neu.edu/E914-C086-1338-7082-B278-E8A7-1C13-1FDE/GraphLab-Create-License.tar.gz\n",
      "  Downloading https://get.graphlab.com/GraphLab-Create/2.1/goel.t@husky.neu.edu/E914-C086-1338-7082-B278-E8A7-1C13-1FDE/GraphLab-Create-License.tar.gz\n",
      "Requirement already up-to-date: graphlab-create>=2.1 in /gpfs/global_fs01/sym_shared/YPProdSpark/user/sed1-980fc88e6d89d3-f770736419c3/.local/lib/python2.7/site-packages (from GraphLab-Create-License==2.1)\n",
      "Requirement already up-to-date: psclient in /gpfs/global_fs01/sym_shared/YPProdSpark/user/sed1-980fc88e6d89d3-f770736419c3/.local/lib/python2.7/site-packages (from graphlab-create>=2.1->GraphLab-Create-License==2.1)\n",
      "Requirement already up-to-date: boto==2.33.0 in /gpfs/global_fs01/sym_shared/YPProdSpark/user/sed1-980fc88e6d89d3-f770736419c3/.local/lib/python2.7/site-packages (from graphlab-create>=2.1->GraphLab-Create-License==2.1)\n",
      "Requirement already up-to-date: decorator==4.0.9 in /gpfs/global_fs01/sym_shared/YPProdSpark/user/sed1-980fc88e6d89d3-f770736419c3/.local/lib/python2.7/site-packages (from graphlab-create>=2.1->GraphLab-Create-License==2.1)\n",
      "Requirement already up-to-date: tornado==4.3 in /usr/local/src/bluemix_jupyter_bundle.v73/notebook/lib/python2.7/site-packages (from graphlab-create>=2.1->GraphLab-Create-License==2.1)\n",
      "Requirement already up-to-date: prettytable==0.7.2 in /usr/local/src/bluemix_jupyter_bundle.v73/notebook/lib/python2.7/site-packages (from graphlab-create>=2.1->GraphLab-Create-License==2.1)\n",
      "Requirement already up-to-date: requests==2.9.1 in /gpfs/global_fs01/sym_shared/YPProdSpark/user/sed1-980fc88e6d89d3-f770736419c3/.local/lib/python2.7/site-packages (from graphlab-create>=2.1->GraphLab-Create-License==2.1)\n",
      "Requirement already up-to-date: awscli==1.6.2 in /gpfs/global_fs01/sym_shared/YPProdSpark/user/sed1-980fc88e6d89d3-f770736419c3/.local/lib/python2.7/site-packages (from graphlab-create>=2.1->GraphLab-Create-License==2.1)\n",
      "Requirement already up-to-date: sseclient==0.0.8 in /gpfs/global_fs01/sym_shared/YPProdSpark/user/sed1-980fc88e6d89d3-f770736419c3/.local/lib/python2.7/site-packages (from graphlab-create>=2.1->GraphLab-Create-License==2.1)\n",
      "Requirement already up-to-date: multipledispatch>=0.4.7 in /gpfs/global_fs01/sym_shared/YPProdSpark/user/sed1-980fc88e6d89d3-f770736419c3/.local/lib/python2.7/site-packages (from graphlab-create>=2.1->GraphLab-Create-License==2.1)\n",
      "Requirement already up-to-date: certifi==2015.04.28 in /gpfs/global_fs01/sym_shared/YPProdSpark/user/sed1-980fc88e6d89d3-f770736419c3/.local/lib/python2.7/site-packages (from graphlab-create>=2.1->GraphLab-Create-License==2.1)\n",
      "Requirement already up-to-date: jsonschema==2.5.1 in /usr/local/src/bluemix_jupyter_bundle.v73/notebook/lib/python2.7/site-packages (from graphlab-create>=2.1->GraphLab-Create-License==2.1)\n",
      "Requirement already up-to-date: genson==0.1.0 in /gpfs/global_fs01/sym_shared/YPProdSpark/user/sed1-980fc88e6d89d3-f770736419c3/.local/lib/python2.7/site-packages (from graphlab-create>=2.1->GraphLab-Create-License==2.1)\n",
      "Requirement already up-to-date: python-dateutil in /gpfs/global_fs01/sym_shared/YPProdSpark/user/sed1-980fc88e6d89d3-f770736419c3/.local/lib/python2.7/site-packages (from psclient->graphlab-create>=2.1->GraphLab-Create-License==2.1)\n",
      "Requirement already up-to-date: backports.ssl_match_hostname in /gpfs/global_fs01/sym_shared/YPProdSpark/user/sed1-980fc88e6d89d3-f770736419c3/.local/lib/python2.7/site-packages (from tornado==4.3->graphlab-create>=2.1->GraphLab-Create-License==2.1)\n",
      "Requirement already up-to-date: singledispatch in /usr/local/src/bluemix_jupyter_bundle.v73/notebook/lib/python2.7/site-packages (from tornado==4.3->graphlab-create>=2.1->GraphLab-Create-License==2.1)\n",
      "Requirement already up-to-date: backports_abc>=0.4 in /gpfs/global_fs01/sym_shared/YPProdSpark/user/sed1-980fc88e6d89d3-f770736419c3/.local/lib/python2.7/site-packages (from tornado==4.3->graphlab-create>=2.1->GraphLab-Create-License==2.1)\n",
      "Requirement already up-to-date: botocore<0.74.0,>=0.73.0 in /gpfs/global_fs01/sym_shared/YPProdSpark/user/sed1-980fc88e6d89d3-f770736419c3/.local/lib/python2.7/site-packages (from awscli==1.6.2->graphlab-create>=2.1->GraphLab-Create-License==2.1)\n",
      "Requirement already up-to-date: bcdoc<0.13.0,>=0.12.0 in /gpfs/global_fs01/sym_shared/YPProdSpark/user/sed1-980fc88e6d89d3-f770736419c3/.local/lib/python2.7/site-packages (from awscli==1.6.2->graphlab-create>=2.1->GraphLab-Create-License==2.1)\n",
      "Requirement already up-to-date: six>=1.1.0 in /gpfs/global_fs01/sym_shared/YPProdSpark/user/sed1-980fc88e6d89d3-f770736419c3/.local/lib/python2.7/site-packages (from awscli==1.6.2->graphlab-create>=2.1->GraphLab-Create-License==2.1)\n",
      "Requirement already up-to-date: colorama==0.2.5 in /gpfs/global_fs01/sym_shared/YPProdSpark/user/sed1-980fc88e6d89d3-f770736419c3/.local/lib/python2.7/site-packages (from awscli==1.6.2->graphlab-create>=2.1->GraphLab-Create-License==2.1)\n",
      "Requirement already up-to-date: docutils>=0.10 in /gpfs/global_fs01/sym_shared/YPProdSpark/user/sed1-980fc88e6d89d3-f770736419c3/.local/lib/python2.7/site-packages (from awscli==1.6.2->graphlab-create>=2.1->GraphLab-Create-License==2.1)\n",
      "Requirement already up-to-date: rsa==3.1.2 in /gpfs/global_fs01/sym_shared/YPProdSpark/user/sed1-980fc88e6d89d3-f770736419c3/.local/lib/python2.7/site-packages (from awscli==1.6.2->graphlab-create>=2.1->GraphLab-Create-License==2.1)\n",
      "Requirement already up-to-date: functools32; python_version == \"2.7\" in /usr/local/src/bluemix_jupyter_bundle.v73/notebook/lib/python2.7/site-packages (from jsonschema==2.5.1->graphlab-create>=2.1->GraphLab-Create-License==2.1)\n",
      "Requirement already up-to-date: jmespath==0.5.0 in /gpfs/global_fs01/sym_shared/YPProdSpark/user/sed1-980fc88e6d89d3-f770736419c3/.local/lib/python2.7/site-packages (from botocore<0.74.0,>=0.73.0->awscli==1.6.2->graphlab-create>=2.1->GraphLab-Create-License==2.1)\n",
      "Requirement already up-to-date: pyasn1>=0.1.3 in /gpfs/global_fs01/sym_shared/YPProdSpark/user/sed1-980fc88e6d89d3-f770736419c3/.local/lib/python2.7/site-packages (from rsa==3.1.2->awscli==1.6.2->graphlab-create>=2.1->GraphLab-Create-License==2.1)\n",
      "Installing collected packages: GraphLab-Create-License\n",
      "  Found existing installation: GraphLab-Create-License 2.1\n",
      "    Uninstalling GraphLab-Create-License-2.1:\n",
      "      Successfully uninstalled GraphLab-Create-License-2.1\n",
      "  Running setup.py install for GraphLab-Create-License ... \u001b[?25ldone\n",
      "\u001b[?25hSuccessfully installed GraphLab-Create-License-2.1\n"
     ]
    }
   ],
   "source": [
    "!pip install --user --upgrade --no-cache-dir https://get.graphlab.com/GraphLab-Create/2.1/goel.t@husky.neu.edu/E914-C086-1338-7082-B278-E8A7-1C13-1FDE/GraphLab-Create-License.tar.gz\n",
    "    "
   ]
  },
  {
   "cell_type": "markdown",
   "metadata": {},
   "source": [
    "### Running Recommendations by clustering on basis of hour the products were purchase"
   ]
  },
  {
   "cell_type": "code",
   "execution_count": 17,
   "metadata": {},
   "outputs": [],
   "source": [
    "import numpy as np\n",
    "import graphlab\n",
    "\n",
    "msk = np.random.rand(len(normratings)) < 0.8\n",
    "train = normratings[msk]\n",
    "test = normratings[~msk]\n",
    "train_data = graphlab.SFrame(train)\n",
    "test_data=graphlab.SFrame(test)"
   ]
  },
  {
   "cell_type": "markdown",
   "metadata": {},
   "source": [
    "#### Creating item similarity model, popularity model and latent model on the clustered data for comparing and selecting best out of them"
   ]
  },
  {
   "cell_type": "code",
   "execution_count": 18,
   "metadata": {},
   "outputs": [
    {
     "data": {
      "text/html": [
       "<pre>Recsys training: model = item_similarity</pre>"
      ],
      "text/plain": [
       "Recsys training: model = item_similarity"
      ]
     },
     "metadata": {},
     "output_type": "display_data"
    },
    {
     "data": {
      "text/html": [
       "<pre>Warning: Ignoring columns Unnamed: 0;</pre>"
      ],
      "text/plain": [
       "Warning: Ignoring columns Unnamed: 0;"
      ]
     },
     "metadata": {},
     "output_type": "display_data"
    },
    {
     "data": {
      "text/html": [
       "<pre>    To use these columns in scoring predictions, use a model that allows the use of additional features.</pre>"
      ],
      "text/plain": [
       "    To use these columns in scoring predictions, use a model that allows the use of additional features."
      ]
     },
     "metadata": {},
     "output_type": "display_data"
    },
    {
     "data": {
      "text/html": [
       "<pre>Preparing data set.</pre>"
      ],
      "text/plain": [
       "Preparing data set."
      ]
     },
     "metadata": {},
     "output_type": "display_data"
    },
    {
     "data": {
      "text/html": [
       "<pre>    Data has 1766505 observations with 111712 users and 40992 items.</pre>"
      ],
      "text/plain": [
       "    Data has 1766505 observations with 111712 users and 40992 items."
      ]
     },
     "metadata": {},
     "output_type": "display_data"
    },
    {
     "data": {
      "text/html": [
       "<pre>    Data prepared in: 2.02277s</pre>"
      ],
      "text/plain": [
       "    Data prepared in: 2.02277s"
      ]
     },
     "metadata": {},
     "output_type": "display_data"
    },
    {
     "data": {
      "text/html": [
       "<pre>Training model from provided data.</pre>"
      ],
      "text/plain": [
       "Training model from provided data."
      ]
     },
     "metadata": {},
     "output_type": "display_data"
    },
    {
     "data": {
      "text/html": [
       "<pre>Gathering per-item and per-user statistics.</pre>"
      ],
      "text/plain": [
       "Gathering per-item and per-user statistics."
      ]
     },
     "metadata": {},
     "output_type": "display_data"
    },
    {
     "data": {
      "text/html": [
       "<pre>+--------------------------------+------------+</pre>"
      ],
      "text/plain": [
       "+--------------------------------+------------+"
      ]
     },
     "metadata": {},
     "output_type": "display_data"
    },
    {
     "data": {
      "text/html": [
       "<pre>| Elapsed Time (Item Statistics) | % Complete |</pre>"
      ],
      "text/plain": [
       "| Elapsed Time (Item Statistics) | % Complete |"
      ]
     },
     "metadata": {},
     "output_type": "display_data"
    },
    {
     "data": {
      "text/html": [
       "<pre>+--------------------------------+------------+</pre>"
      ],
      "text/plain": [
       "+--------------------------------+------------+"
      ]
     },
     "metadata": {},
     "output_type": "display_data"
    },
    {
     "data": {
      "text/html": [
       "<pre>| 1.342ms                        | 14.25      |</pre>"
      ],
      "text/plain": [
       "| 1.342ms                        | 14.25      |"
      ]
     },
     "metadata": {},
     "output_type": "display_data"
    },
    {
     "data": {
      "text/html": [
       "<pre>| 139ms                          | 100        |</pre>"
      ],
      "text/plain": [
       "| 139ms                          | 100        |"
      ]
     },
     "metadata": {},
     "output_type": "display_data"
    },
    {
     "data": {
      "text/html": [
       "<pre>+--------------------------------+------------+</pre>"
      ],
      "text/plain": [
       "+--------------------------------+------------+"
      ]
     },
     "metadata": {},
     "output_type": "display_data"
    },
    {
     "data": {
      "text/html": [
       "<pre>Setting up lookup tables.</pre>"
      ],
      "text/plain": [
       "Setting up lookup tables."
      ]
     },
     "metadata": {},
     "output_type": "display_data"
    },
    {
     "data": {
      "text/html": [
       "<pre>Processing data in one pass using dense lookup tables.</pre>"
      ],
      "text/plain": [
       "Processing data in one pass using dense lookup tables."
      ]
     },
     "metadata": {},
     "output_type": "display_data"
    },
    {
     "data": {
      "text/html": [
       "<pre>+-------------------------------------+------------------+-----------------+</pre>"
      ],
      "text/plain": [
       "+-------------------------------------+------------------+-----------------+"
      ]
     },
     "metadata": {},
     "output_type": "display_data"
    },
    {
     "data": {
      "text/html": [
       "<pre>| Elapsed Time (Constructing Lookups) | Total % Complete | Items Processed |</pre>"
      ],
      "text/plain": [
       "| Elapsed Time (Constructing Lookups) | Total % Complete | Items Processed |"
      ]
     },
     "metadata": {},
     "output_type": "display_data"
    },
    {
     "data": {
      "text/html": [
       "<pre>+-------------------------------------+------------------+-----------------+</pre>"
      ],
      "text/plain": [
       "+-------------------------------------+------------------+-----------------+"
      ]
     },
     "metadata": {},
     "output_type": "display_data"
    },
    {
     "data": {
      "text/html": [
       "<pre>| 1.85s                               | 0                | 0               |</pre>"
      ],
      "text/plain": [
       "| 1.85s                               | 0                | 0               |"
      ]
     },
     "metadata": {},
     "output_type": "display_data"
    },
    {
     "data": {
      "text/html": [
       "<pre>| 2.92s                               | 7.25             | 2988            |</pre>"
      ],
      "text/plain": [
       "| 2.92s                               | 7.25             | 2988            |"
      ]
     },
     "metadata": {},
     "output_type": "display_data"
    },
    {
     "data": {
      "text/html": [
       "<pre>| 3.85s                               | 14               | 5796            |</pre>"
      ],
      "text/plain": [
       "| 3.85s                               | 14               | 5796            |"
      ]
     },
     "metadata": {},
     "output_type": "display_data"
    },
    {
     "data": {
      "text/html": [
       "<pre>| 4.92s                               | 19.75            | 8169            |</pre>"
      ],
      "text/plain": [
       "| 4.92s                               | 19.75            | 8169            |"
      ]
     },
     "metadata": {},
     "output_type": "display_data"
    },
    {
     "data": {
      "text/html": [
       "<pre>| 5.92s                               | 27.25            | 11203           |</pre>"
      ],
      "text/plain": [
       "| 5.92s                               | 27.25            | 11203           |"
      ]
     },
     "metadata": {},
     "output_type": "display_data"
    },
    {
     "data": {
      "text/html": [
       "<pre>| 6.92s                               | 33.75            | 13902           |</pre>"
      ],
      "text/plain": [
       "| 6.92s                               | 33.75            | 13902           |"
      ]
     },
     "metadata": {},
     "output_type": "display_data"
    },
    {
     "data": {
      "text/html": [
       "<pre>| 7.92s                               | 43               | 17713           |</pre>"
      ],
      "text/plain": [
       "| 7.92s                               | 43               | 17713           |"
      ]
     },
     "metadata": {},
     "output_type": "display_data"
    },
    {
     "data": {
      "text/html": [
       "<pre>| 8.92s                               | 50.75            | 20861           |</pre>"
      ],
      "text/plain": [
       "| 8.92s                               | 50.75            | 20861           |"
      ]
     },
     "metadata": {},
     "output_type": "display_data"
    },
    {
     "data": {
      "text/html": [
       "<pre>| 9.92s                               | 59.5             | 24396           |</pre>"
      ],
      "text/plain": [
       "| 9.92s                               | 59.5             | 24396           |"
      ]
     },
     "metadata": {},
     "output_type": "display_data"
    },
    {
     "data": {
      "text/html": [
       "<pre>| 10.92s                              | 68.25            | 27989           |</pre>"
      ],
      "text/plain": [
       "| 10.92s                              | 68.25            | 27989           |"
      ]
     },
     "metadata": {},
     "output_type": "display_data"
    },
    {
     "data": {
      "text/html": [
       "<pre>| 11.92s                              | 76.75            | 31476           |</pre>"
      ],
      "text/plain": [
       "| 11.92s                              | 76.75            | 31476           |"
      ]
     },
     "metadata": {},
     "output_type": "display_data"
    },
    {
     "data": {
      "text/html": [
       "<pre>| 12.92s                              | 84.5             | 34676           |</pre>"
      ],
      "text/plain": [
       "| 12.92s                              | 84.5             | 34676           |"
      ]
     },
     "metadata": {},
     "output_type": "display_data"
    },
    {
     "data": {
      "text/html": [
       "<pre>| 13.92s                              | 92.5             | 37963           |</pre>"
      ],
      "text/plain": [
       "| 13.92s                              | 92.5             | 37963           |"
      ]
     },
     "metadata": {},
     "output_type": "display_data"
    },
    {
     "data": {
      "text/html": [
       "<pre>| 20.85s                              | 100              | 40992           |</pre>"
      ],
      "text/plain": [
       "| 20.85s                              | 100              | 40992           |"
      ]
     },
     "metadata": {},
     "output_type": "display_data"
    },
    {
     "data": {
      "text/html": [
       "<pre>+-------------------------------------+------------------+-----------------+</pre>"
      ],
      "text/plain": [
       "+-------------------------------------+------------------+-----------------+"
      ]
     },
     "metadata": {},
     "output_type": "display_data"
    },
    {
     "data": {
      "text/html": [
       "<pre>Finalizing lookup tables.</pre>"
      ],
      "text/plain": [
       "Finalizing lookup tables."
      ]
     },
     "metadata": {},
     "output_type": "display_data"
    },
    {
     "data": {
      "text/html": [
       "<pre>Generating candidate set for working with new users.</pre>"
      ],
      "text/plain": [
       "Generating candidate set for working with new users."
      ]
     },
     "metadata": {},
     "output_type": "display_data"
    },
    {
     "data": {
      "text/html": [
       "<pre>Finished training in 21.3687s</pre>"
      ],
      "text/plain": [
       "Finished training in 21.3687s"
      ]
     },
     "metadata": {},
     "output_type": "display_data"
    },
    {
     "data": {
      "text/html": [
       "<pre>Recsys training: model = popularity</pre>"
      ],
      "text/plain": [
       "Recsys training: model = popularity"
      ]
     },
     "metadata": {},
     "output_type": "display_data"
    },
    {
     "data": {
      "text/html": [
       "<pre>Warning: Ignoring columns Unnamed: 0;</pre>"
      ],
      "text/plain": [
       "Warning: Ignoring columns Unnamed: 0;"
      ]
     },
     "metadata": {},
     "output_type": "display_data"
    },
    {
     "data": {
      "text/html": [
       "<pre>    To use these columns in scoring predictions, use a model that allows the use of additional features.</pre>"
      ],
      "text/plain": [
       "    To use these columns in scoring predictions, use a model that allows the use of additional features."
      ]
     },
     "metadata": {},
     "output_type": "display_data"
    },
    {
     "data": {
      "text/html": [
       "<pre>Preparing data set.</pre>"
      ],
      "text/plain": [
       "Preparing data set."
      ]
     },
     "metadata": {},
     "output_type": "display_data"
    },
    {
     "data": {
      "text/html": [
       "<pre>    Data has 1766505 observations with 111712 users and 40992 items.</pre>"
      ],
      "text/plain": [
       "    Data has 1766505 observations with 111712 users and 40992 items."
      ]
     },
     "metadata": {},
     "output_type": "display_data"
    },
    {
     "data": {
      "text/html": [
       "<pre>    Data prepared in: 1.91347s</pre>"
      ],
      "text/plain": [
       "    Data prepared in: 1.91347s"
      ]
     },
     "metadata": {},
     "output_type": "display_data"
    },
    {
     "data": {
      "text/html": [
       "<pre>1766505 observations to process; with 40992 unique items.</pre>"
      ],
      "text/plain": [
       "1766505 observations to process; with 40992 unique items."
      ]
     },
     "metadata": {},
     "output_type": "display_data"
    },
    {
     "data": {
      "text/html": [
       "<pre>Recsys training: model = factorization_recommender</pre>"
      ],
      "text/plain": [
       "Recsys training: model = factorization_recommender"
      ]
     },
     "metadata": {},
     "output_type": "display_data"
    },
    {
     "data": {
      "text/html": [
       "<pre>Preparing data set.</pre>"
      ],
      "text/plain": [
       "Preparing data set."
      ]
     },
     "metadata": {},
     "output_type": "display_data"
    },
    {
     "data": {
      "text/html": [
       "<pre>    Data has 1766505 observations with 111712 users and 40992 items.</pre>"
      ],
      "text/plain": [
       "    Data has 1766505 observations with 111712 users and 40992 items."
      ]
     },
     "metadata": {},
     "output_type": "display_data"
    },
    {
     "data": {
      "text/html": [
       "<pre>    Data prepared in: 2.24305s</pre>"
      ],
      "text/plain": [
       "    Data prepared in: 2.24305s"
      ]
     },
     "metadata": {},
     "output_type": "display_data"
    },
    {
     "data": {
      "text/html": [
       "<pre>Training factorization_recommender for recommendations.</pre>"
      ],
      "text/plain": [
       "Training factorization_recommender for recommendations."
      ]
     },
     "metadata": {},
     "output_type": "display_data"
    },
    {
     "data": {
      "text/html": [
       "<pre>+--------------------------------+--------------------------------------------------+----------+</pre>"
      ],
      "text/plain": [
       "+--------------------------------+--------------------------------------------------+----------+"
      ]
     },
     "metadata": {},
     "output_type": "display_data"
    },
    {
     "data": {
      "text/html": [
       "<pre>| Parameter                      | Description                                      | Value    |</pre>"
      ],
      "text/plain": [
       "| Parameter                      | Description                                      | Value    |"
      ]
     },
     "metadata": {},
     "output_type": "display_data"
    },
    {
     "data": {
      "text/html": [
       "<pre>+--------------------------------+--------------------------------------------------+----------+</pre>"
      ],
      "text/plain": [
       "+--------------------------------+--------------------------------------------------+----------+"
      ]
     },
     "metadata": {},
     "output_type": "display_data"
    },
    {
     "data": {
      "text/html": [
       "<pre>| num_factors                    | Factor Dimension                                 | 8        |</pre>"
      ],
      "text/plain": [
       "| num_factors                    | Factor Dimension                                 | 8        |"
      ]
     },
     "metadata": {},
     "output_type": "display_data"
    },
    {
     "data": {
      "text/html": [
       "<pre>| regularization                 | L2 Regularization on Factors                     | 1e-08    |</pre>"
      ],
      "text/plain": [
       "| regularization                 | L2 Regularization on Factors                     | 1e-08    |"
      ]
     },
     "metadata": {},
     "output_type": "display_data"
    },
    {
     "data": {
      "text/html": [
       "<pre>| solver                         | Solver used for training                         | adagrad  |</pre>"
      ],
      "text/plain": [
       "| solver                         | Solver used for training                         | adagrad  |"
      ]
     },
     "metadata": {},
     "output_type": "display_data"
    },
    {
     "data": {
      "text/html": [
       "<pre>| linear_regularization          | L2 Regularization on Linear Coefficients         | 1e-10    |</pre>"
      ],
      "text/plain": [
       "| linear_regularization          | L2 Regularization on Linear Coefficients         | 1e-10    |"
      ]
     },
     "metadata": {},
     "output_type": "display_data"
    },
    {
     "data": {
      "text/html": [
       "<pre>| max_iterations                 | Maximum Number of Iterations                     | 50       |</pre>"
      ],
      "text/plain": [
       "| max_iterations                 | Maximum Number of Iterations                     | 50       |"
      ]
     },
     "metadata": {},
     "output_type": "display_data"
    },
    {
     "data": {
      "text/html": [
       "<pre>+--------------------------------+--------------------------------------------------+----------+</pre>"
      ],
      "text/plain": [
       "+--------------------------------+--------------------------------------------------+----------+"
      ]
     },
     "metadata": {},
     "output_type": "display_data"
    },
    {
     "data": {
      "text/html": [
       "<pre>  Optimizing model using SGD; tuning step size.</pre>"
      ],
      "text/plain": [
       "  Optimizing model using SGD; tuning step size."
      ]
     },
     "metadata": {},
     "output_type": "display_data"
    },
    {
     "data": {
      "text/html": [
       "<pre>  Using 220813 / 1766505 points for tuning the step size.</pre>"
      ],
      "text/plain": [
       "  Using 220813 / 1766505 points for tuning the step size."
      ]
     },
     "metadata": {},
     "output_type": "display_data"
    },
    {
     "data": {
      "text/html": [
       "<pre>+---------+-------------------+------------------------------------------+</pre>"
      ],
      "text/plain": [
       "+---------+-------------------+------------------------------------------+"
      ]
     },
     "metadata": {},
     "output_type": "display_data"
    },
    {
     "data": {
      "text/html": [
       "<pre>| Attempt | Initial Step Size | Estimated Objective Value                |</pre>"
      ],
      "text/plain": [
       "| Attempt | Initial Step Size | Estimated Objective Value                |"
      ]
     },
     "metadata": {},
     "output_type": "display_data"
    },
    {
     "data": {
      "text/html": [
       "<pre>+---------+-------------------+------------------------------------------+</pre>"
      ],
      "text/plain": [
       "+---------+-------------------+------------------------------------------+"
      ]
     },
     "metadata": {},
     "output_type": "display_data"
    },
    {
     "data": {
      "text/html": [
       "<pre>| 0       | 16.6667           | Not Viable                               |</pre>"
      ],
      "text/plain": [
       "| 0       | 16.6667           | Not Viable                               |"
      ]
     },
     "metadata": {},
     "output_type": "display_data"
    },
    {
     "data": {
      "text/html": [
       "<pre>| 1       | 4.16667           | Not Viable                               |</pre>"
      ],
      "text/plain": [
       "| 1       | 4.16667           | Not Viable                               |"
      ]
     },
     "metadata": {},
     "output_type": "display_data"
    },
    {
     "data": {
      "text/html": [
       "<pre>| 2       | 1.04167           | Not Viable                               |</pre>"
      ],
      "text/plain": [
       "| 2       | 1.04167           | Not Viable                               |"
      ]
     },
     "metadata": {},
     "output_type": "display_data"
    },
    {
     "data": {
      "text/html": [
       "<pre>| 3       | 0.260417          | 0.229819                                 |</pre>"
      ],
      "text/plain": [
       "| 3       | 0.260417          | 0.229819                                 |"
      ]
     },
     "metadata": {},
     "output_type": "display_data"
    },
    {
     "data": {
      "text/html": [
       "<pre>| 4       | 0.130208          | 0.435021                                 |</pre>"
      ],
      "text/plain": [
       "| 4       | 0.130208          | 0.435021                                 |"
      ]
     },
     "metadata": {},
     "output_type": "display_data"
    },
    {
     "data": {
      "text/html": [
       "<pre>| 5       | 0.0651042         | 0.707194                                 |</pre>"
      ],
      "text/plain": [
       "| 5       | 0.0651042         | 0.707194                                 |"
      ]
     },
     "metadata": {},
     "output_type": "display_data"
    },
    {
     "data": {
      "text/html": [
       "<pre>+---------+-------------------+------------------------------------------+</pre>"
      ],
      "text/plain": [
       "+---------+-------------------+------------------------------------------+"
      ]
     },
     "metadata": {},
     "output_type": "display_data"
    },
    {
     "data": {
      "text/html": [
       "<pre>| Final   | 0.260417          | 0.229819                                 |</pre>"
      ],
      "text/plain": [
       "| Final   | 0.260417          | 0.229819                                 |"
      ]
     },
     "metadata": {},
     "output_type": "display_data"
    },
    {
     "data": {
      "text/html": [
       "<pre>+---------+-------------------+------------------------------------------+</pre>"
      ],
      "text/plain": [
       "+---------+-------------------+------------------------------------------+"
      ]
     },
     "metadata": {},
     "output_type": "display_data"
    },
    {
     "data": {
      "text/html": [
       "<pre>Starting Optimization.</pre>"
      ],
      "text/plain": [
       "Starting Optimization."
      ]
     },
     "metadata": {},
     "output_type": "display_data"
    },
    {
     "data": {
      "text/html": [
       "<pre>+---------+--------------+-------------------+-----------------------+-------------+</pre>"
      ],
      "text/plain": [
       "+---------+--------------+-------------------+-----------------------+-------------+"
      ]
     },
     "metadata": {},
     "output_type": "display_data"
    },
    {
     "data": {
      "text/html": [
       "<pre>| Iter.   | Elapsed Time | Approx. Objective | Approx. Training RMSE | Step Size   |</pre>"
      ],
      "text/plain": [
       "| Iter.   | Elapsed Time | Approx. Objective | Approx. Training RMSE | Step Size   |"
      ]
     },
     "metadata": {},
     "output_type": "display_data"
    },
    {
     "data": {
      "text/html": [
       "<pre>+---------+--------------+-------------------+-----------------------+-------------+</pre>"
      ],
      "text/plain": [
       "+---------+--------------+-------------------+-----------------------+-------------+"
      ]
     },
     "metadata": {},
     "output_type": "display_data"
    },
    {
     "data": {
      "text/html": [
       "<pre>| Initial | 591us        | 2.59014           | 1.60939               |             |</pre>"
      ],
      "text/plain": [
       "| Initial | 591us        | 2.59014           | 1.60939               |             |"
      ]
     },
     "metadata": {},
     "output_type": "display_data"
    },
    {
     "data": {
      "text/html": [
       "<pre>+---------+--------------+-------------------+-----------------------+-------------+</pre>"
      ],
      "text/plain": [
       "+---------+--------------+-------------------+-----------------------+-------------+"
      ]
     },
     "metadata": {},
     "output_type": "display_data"
    },
    {
     "data": {
      "text/html": [
       "<pre>| 1       | 5.41s        | DIVERGED          | DIVERGED              | 0.260417    |</pre>"
      ],
      "text/plain": [
       "| 1       | 5.41s        | DIVERGED          | DIVERGED              | 0.260417    |"
      ]
     },
     "metadata": {},
     "output_type": "display_data"
    },
    {
     "data": {
      "text/html": [
       "<pre>| RESET   | 6.01s        | 2.59014           | 1.60939               |             |</pre>"
      ],
      "text/plain": [
       "| RESET   | 6.01s        | 2.59014           | 1.60939               |             |"
      ]
     },
     "metadata": {},
     "output_type": "display_data"
    },
    {
     "data": {
      "text/html": [
       "<pre>| 1       | 10.69s       | 1.12822           | 1.06177               | 0.130208    |</pre>"
      ],
      "text/plain": [
       "| 1       | 10.69s       | 1.12822           | 1.06177               | 0.130208    |"
      ]
     },
     "metadata": {},
     "output_type": "display_data"
    },
    {
     "data": {
      "text/html": [
       "<pre>| 2       | 15.31s       | 0.854822          | 0.924104              | 0.130208    |</pre>"
      ],
      "text/plain": [
       "| 2       | 15.31s       | 0.854822          | 0.924104              | 0.130208    |"
      ]
     },
     "metadata": {},
     "output_type": "display_data"
    },
    {
     "data": {
      "text/html": [
       "<pre>| 3       | 20.22s       | 0.683463          | 0.826264              | 0.130208    |</pre>"
      ],
      "text/plain": [
       "| 3       | 20.22s       | 0.683463          | 0.826264              | 0.130208    |"
      ]
     },
     "metadata": {},
     "output_type": "display_data"
    },
    {
     "data": {
      "text/html": [
       "<pre>| 4       | 24.80s       | 0.624443          | 0.789748              | 0.130208    |</pre>"
      ],
      "text/plain": [
       "| 4       | 24.80s       | 0.624443          | 0.789748              | 0.130208    |"
      ]
     },
     "metadata": {},
     "output_type": "display_data"
    },
    {
     "data": {
      "text/html": [
       "<pre>| 5       | 29.20s       | 0.594351          | 0.770453              | 0.130208    |</pre>"
      ],
      "text/plain": [
       "| 5       | 29.20s       | 0.594351          | 0.770453              | 0.130208    |"
      ]
     },
     "metadata": {},
     "output_type": "display_data"
    },
    {
     "data": {
      "text/html": [
       "<pre>| 6       | 33.93s       | 0.571202          | 0.755268              | 0.130208    |</pre>"
      ],
      "text/plain": [
       "| 6       | 33.93s       | 0.571202          | 0.755268              | 0.130208    |"
      ]
     },
     "metadata": {},
     "output_type": "display_data"
    },
    {
     "data": {
      "text/html": [
       "<pre>| 7       | 38.51s       | 0.553304          | 0.743312              | 0.130208    |</pre>"
      ],
      "text/plain": [
       "| 7       | 38.51s       | 0.553304          | 0.743312              | 0.130208    |"
      ]
     },
     "metadata": {},
     "output_type": "display_data"
    },
    {
     "data": {
      "text/html": [
       "<pre>| 8       | 43.17s       | 0.537606          | 0.732663              | 0.130208    |</pre>"
      ],
      "text/plain": [
       "| 8       | 43.17s       | 0.537606          | 0.732663              | 0.130208    |"
      ]
     },
     "metadata": {},
     "output_type": "display_data"
    },
    {
     "data": {
      "text/html": [
       "<pre>| 9       | 47.70s       | 0.526097          | 0.72475               | 0.130208    |</pre>"
      ],
      "text/plain": [
       "| 9       | 47.70s       | 0.526097          | 0.72475               | 0.130208    |"
      ]
     },
     "metadata": {},
     "output_type": "display_data"
    },
    {
     "data": {
      "text/html": [
       "<pre>| 10      | 52.82s       | 0.516454          | 0.718049              | 0.130208    |</pre>"
      ],
      "text/plain": [
       "| 10      | 52.82s       | 0.516454          | 0.718049              | 0.130208    |"
      ]
     },
     "metadata": {},
     "output_type": "display_data"
    },
    {
     "data": {
      "text/html": [
       "<pre>| 11      | 57.50s       | 0.506584          | 0.711127              | 0.130208    |</pre>"
      ],
      "text/plain": [
       "| 11      | 57.50s       | 0.506584          | 0.711127              | 0.130208    |"
      ]
     },
     "metadata": {},
     "output_type": "display_data"
    },
    {
     "data": {
      "text/html": [
       "<pre>| 12      | 1m 2s        | 0.50203           | 0.707899              | 0.130208    |</pre>"
      ],
      "text/plain": [
       "| 12      | 1m 2s        | 0.50203           | 0.707899              | 0.130208    |"
      ]
     },
     "metadata": {},
     "output_type": "display_data"
    },
    {
     "data": {
      "text/html": [
       "<pre>| 13      | 1m 6s        | 0.527043          | 0.725327              | 0.130208    |</pre>"
      ],
      "text/plain": [
       "| 13      | 1m 6s        | 0.527043          | 0.725327              | 0.130208    |"
      ]
     },
     "metadata": {},
     "output_type": "display_data"
    },
    {
     "data": {
      "text/html": [
       "<pre>| 14      | 1m 11s       | 0.610597          | 0.780779              | 0.130208    |</pre>"
      ],
      "text/plain": [
       "| 14      | 1m 11s       | 0.610597          | 0.780779              | 0.130208    |"
      ]
     },
     "metadata": {},
     "output_type": "display_data"
    },
    {
     "data": {
      "text/html": [
       "<pre>| 15      | 1m 15s       | 0.72278           | 0.849576              | 0.130208    |</pre>"
      ],
      "text/plain": [
       "| 15      | 1m 15s       | 0.72278           | 0.849576              | 0.130208    |"
      ]
     },
     "metadata": {},
     "output_type": "display_data"
    },
    {
     "data": {
      "text/html": [
       "<pre>| 16      | 1m 20s       | 0.925276          | 0.961406              | 0.130208    |</pre>"
      ],
      "text/plain": [
       "| 16      | 1m 20s       | 0.925276          | 0.961406              | 0.130208    |"
      ]
     },
     "metadata": {},
     "output_type": "display_data"
    },
    {
     "data": {
      "text/html": [
       "<pre>| 17      | 1m 25s       | 0.655147          | 0.808812              | 0.130208    |</pre>"
      ],
      "text/plain": [
       "| 17      | 1m 25s       | 0.655147          | 0.808812              | 0.130208    |"
      ]
     },
     "metadata": {},
     "output_type": "display_data"
    },
    {
     "data": {
      "text/html": [
       "<pre>| 18      | 1m 29s       | 0.581306          | 0.761799              | 0.130208    |</pre>"
      ],
      "text/plain": [
       "| 18      | 1m 29s       | 0.581306          | 0.761799              | 0.130208    |"
      ]
     },
     "metadata": {},
     "output_type": "display_data"
    },
    {
     "data": {
      "text/html": [
       "<pre>| 19      | 1m 34s       | 0.531446          | 0.728339              | 0.130208    |</pre>"
      ],
      "text/plain": [
       "| 19      | 1m 34s       | 0.531446          | 0.728339              | 0.130208    |"
      ]
     },
     "metadata": {},
     "output_type": "display_data"
    },
    {
     "data": {
      "text/html": [
       "<pre>| 20      | 1m 38s       | 0.510201          | 0.713602              | 0.130208    |</pre>"
      ],
      "text/plain": [
       "| 20      | 1m 38s       | 0.510201          | 0.713602              | 0.130208    |"
      ]
     },
     "metadata": {},
     "output_type": "display_data"
    },
    {
     "data": {
      "text/html": [
       "<pre>| 21      | 1m 43s       | 0.497503          | 0.704646              | 0.130208    |</pre>"
      ],
      "text/plain": [
       "| 21      | 1m 43s       | 0.497503          | 0.704646              | 0.130208    |"
      ]
     },
     "metadata": {},
     "output_type": "display_data"
    },
    {
     "data": {
      "text/html": [
       "<pre>| 22      | 1m 47s       | 0.486981          | 0.697138              | 0.130208    |</pre>"
      ],
      "text/plain": [
       "| 22      | 1m 47s       | 0.486981          | 0.697138              | 0.130208    |"
      ]
     },
     "metadata": {},
     "output_type": "display_data"
    },
    {
     "data": {
      "text/html": [
       "<pre>| 23      | 1m 52s       | 0.479566          | 0.691795              | 0.130208    |</pre>"
      ],
      "text/plain": [
       "| 23      | 1m 52s       | 0.479566          | 0.691795              | 0.130208    |"
      ]
     },
     "metadata": {},
     "output_type": "display_data"
    },
    {
     "data": {
      "text/html": [
       "<pre>| 24      | 1m 57s       | 0.47352           | 0.687408              | 0.130208    |</pre>"
      ],
      "text/plain": [
       "| 24      | 1m 57s       | 0.47352           | 0.687408              | 0.130208    |"
      ]
     },
     "metadata": {},
     "output_type": "display_data"
    },
    {
     "data": {
      "text/html": [
       "<pre>| 25      | 2m 2s        | 0.467594          | 0.683081              | 0.130208    |</pre>"
      ],
      "text/plain": [
       "| 25      | 2m 2s        | 0.467594          | 0.683081              | 0.130208    |"
      ]
     },
     "metadata": {},
     "output_type": "display_data"
    },
    {
     "data": {
      "text/html": [
       "<pre>| 26      | 2m 7s        | 0.462295          | 0.679187              | 0.130208    |</pre>"
      ],
      "text/plain": [
       "| 26      | 2m 7s        | 0.462295          | 0.679187              | 0.130208    |"
      ]
     },
     "metadata": {},
     "output_type": "display_data"
    },
    {
     "data": {
      "text/html": [
       "<pre>| 27      | 2m 11s       | 0.457716          | 0.675805              | 0.130208    |</pre>"
      ],
      "text/plain": [
       "| 27      | 2m 11s       | 0.457716          | 0.675805              | 0.130208    |"
      ]
     },
     "metadata": {},
     "output_type": "display_data"
    },
    {
     "data": {
      "text/html": [
       "<pre>| 28      | 2m 16s       | 0.453514          | 0.672685              | 0.130208    |</pre>"
      ],
      "text/plain": [
       "| 28      | 2m 16s       | 0.453514          | 0.672685              | 0.130208    |"
      ]
     },
     "metadata": {},
     "output_type": "display_data"
    },
    {
     "data": {
      "text/html": [
       "<pre>| 29      | 2m 21s       | 0.449305          | 0.669546              | 0.130208    |</pre>"
      ],
      "text/plain": [
       "| 29      | 2m 21s       | 0.449305          | 0.669546              | 0.130208    |"
      ]
     },
     "metadata": {},
     "output_type": "display_data"
    },
    {
     "data": {
      "text/html": [
       "<pre>| 30      | 2m 26s       | 0.446031          | 0.667094              | 0.130208    |</pre>"
      ],
      "text/plain": [
       "| 30      | 2m 26s       | 0.446031          | 0.667094              | 0.130208    |"
      ]
     },
     "metadata": {},
     "output_type": "display_data"
    },
    {
     "data": {
      "text/html": [
       "<pre>| 31      | 2m 31s       | 0.442828          | 0.664685              | 0.130208    |</pre>"
      ],
      "text/plain": [
       "| 31      | 2m 31s       | 0.442828          | 0.664685              | 0.130208    |"
      ]
     },
     "metadata": {},
     "output_type": "display_data"
    },
    {
     "data": {
      "text/html": [
       "<pre>| 32      | 2m 36s       | 0.439771          | 0.662379              | 0.130208    |</pre>"
      ],
      "text/plain": [
       "| 32      | 2m 36s       | 0.439771          | 0.662379              | 0.130208    |"
      ]
     },
     "metadata": {},
     "output_type": "display_data"
    },
    {
     "data": {
      "text/html": [
       "<pre>| 33      | 2m 41s       | 0.437037          | 0.660309              | 0.130208    |</pre>"
      ],
      "text/plain": [
       "| 33      | 2m 41s       | 0.437037          | 0.660309              | 0.130208    |"
      ]
     },
     "metadata": {},
     "output_type": "display_data"
    },
    {
     "data": {
      "text/html": [
       "<pre>| 34      | 2m 46s       | 0.434286          | 0.658219              | 0.130208    |</pre>"
      ],
      "text/plain": [
       "| 34      | 2m 46s       | 0.434286          | 0.658219              | 0.130208    |"
      ]
     },
     "metadata": {},
     "output_type": "display_data"
    },
    {
     "data": {
      "text/html": [
       "<pre>| 35      | 2m 51s       | 0.431708          | 0.656255              | 0.130208    |</pre>"
      ],
      "text/plain": [
       "| 35      | 2m 51s       | 0.431708          | 0.656255              | 0.130208    |"
      ]
     },
     "metadata": {},
     "output_type": "display_data"
    },
    {
     "data": {
      "text/html": [
       "<pre>| 36      | 2m 56s       | 0.429272          | 0.654394              | 0.130208    |</pre>"
      ],
      "text/plain": [
       "| 36      | 2m 56s       | 0.429272          | 0.654394              | 0.130208    |"
      ]
     },
     "metadata": {},
     "output_type": "display_data"
    },
    {
     "data": {
      "text/html": [
       "<pre>| 37      | 3m 1s        | 0.426963          | 0.652624              | 0.130208    |</pre>"
      ],
      "text/plain": [
       "| 37      | 3m 1s        | 0.426963          | 0.652624              | 0.130208    |"
      ]
     },
     "metadata": {},
     "output_type": "display_data"
    },
    {
     "data": {
      "text/html": [
       "<pre>| 38      | 3m 5s        | 0.424332          | 0.650602              | 0.130208    |</pre>"
      ],
      "text/plain": [
       "| 38      | 3m 5s        | 0.424332          | 0.650602              | 0.130208    |"
      ]
     },
     "metadata": {},
     "output_type": "display_data"
    },
    {
     "data": {
      "text/html": [
       "<pre>| 39      | 3m 10s       | 0.422327          | 0.649057              | 0.130208    |</pre>"
      ],
      "text/plain": [
       "| 39      | 3m 10s       | 0.422327          | 0.649057              | 0.130208    |"
      ]
     },
     "metadata": {},
     "output_type": "display_data"
    },
    {
     "data": {
      "text/html": [
       "<pre>| 40      | 3m 15s       | 0.420152          | 0.647377              | 0.130208    |</pre>"
      ],
      "text/plain": [
       "| 40      | 3m 15s       | 0.420152          | 0.647377              | 0.130208    |"
      ]
     },
     "metadata": {},
     "output_type": "display_data"
    },
    {
     "data": {
      "text/html": [
       "<pre>| 41      | 3m 20s       | 0.418133          | 0.645813              | 0.130208    |</pre>"
      ],
      "text/plain": [
       "| 41      | 3m 20s       | 0.418133          | 0.645813              | 0.130208    |"
      ]
     },
     "metadata": {},
     "output_type": "display_data"
    },
    {
     "data": {
      "text/html": [
       "<pre>| 42      | 3m 24s       | 0.415922          | 0.644097              | 0.130208    |</pre>"
      ],
      "text/plain": [
       "| 42      | 3m 24s       | 0.415922          | 0.644097              | 0.130208    |"
      ]
     },
     "metadata": {},
     "output_type": "display_data"
    },
    {
     "data": {
      "text/html": [
       "<pre>| 43      | 3m 29s       | 0.413957          | 0.642568              | 0.130208    |</pre>"
      ],
      "text/plain": [
       "| 43      | 3m 29s       | 0.413957          | 0.642568              | 0.130208    |"
      ]
     },
     "metadata": {},
     "output_type": "display_data"
    },
    {
     "data": {
      "text/html": [
       "<pre>| 44      | 3m 33s       | 0.412422          | 0.641369              | 0.130208    |</pre>"
      ],
      "text/plain": [
       "| 44      | 3m 33s       | 0.412422          | 0.641369              | 0.130208    |"
      ]
     },
     "metadata": {},
     "output_type": "display_data"
    },
    {
     "data": {
      "text/html": [
       "<pre>| 45      | 3m 38s       | 0.410625          | 0.639965              | 0.130208    |</pre>"
      ],
      "text/plain": [
       "| 45      | 3m 38s       | 0.410625          | 0.639965              | 0.130208    |"
      ]
     },
     "metadata": {},
     "output_type": "display_data"
    },
    {
     "data": {
      "text/html": [
       "<pre>| 46      | 3m 43s       | 0.409156          | 0.638814              | 0.130208    |</pre>"
      ],
      "text/plain": [
       "| 46      | 3m 43s       | 0.409156          | 0.638814              | 0.130208    |"
      ]
     },
     "metadata": {},
     "output_type": "display_data"
    },
    {
     "data": {
      "text/html": [
       "<pre>| 47      | 3m 48s       | 0.407413          | 0.637446              | 0.130208    |</pre>"
      ],
      "text/plain": [
       "| 47      | 3m 48s       | 0.407413          | 0.637446              | 0.130208    |"
      ]
     },
     "metadata": {},
     "output_type": "display_data"
    },
    {
     "data": {
      "text/html": [
       "<pre>| 48      | 3m 52s       | 0.406022          | 0.636352              | 0.130208    |</pre>"
      ],
      "text/plain": [
       "| 48      | 3m 52s       | 0.406022          | 0.636352              | 0.130208    |"
      ]
     },
     "metadata": {},
     "output_type": "display_data"
    },
    {
     "data": {
      "text/html": [
       "<pre>| 49      | 3m 57s       | 0.404523          | 0.635171              | 0.130208    |</pre>"
      ],
      "text/plain": [
       "| 49      | 3m 57s       | 0.404523          | 0.635171              | 0.130208    |"
      ]
     },
     "metadata": {},
     "output_type": "display_data"
    },
    {
     "data": {
      "text/html": [
       "<pre>| 50      | 4m 1s        | 0.403171          | 0.634104              | 0.130208    |</pre>"
      ],
      "text/plain": [
       "| 50      | 4m 1s        | 0.403171          | 0.634104              | 0.130208    |"
      ]
     },
     "metadata": {},
     "output_type": "display_data"
    },
    {
     "data": {
      "text/html": [
       "<pre>+---------+--------------+-------------------+-----------------------+-------------+</pre>"
      ],
      "text/plain": [
       "+---------+--------------+-------------------+-----------------------+-------------+"
      ]
     },
     "metadata": {},
     "output_type": "display_data"
    },
    {
     "data": {
      "text/html": [
       "<pre>Optimization Complete: Maximum number of passes through the data reached.</pre>"
      ],
      "text/plain": [
       "Optimization Complete: Maximum number of passes through the data reached."
      ]
     },
     "metadata": {},
     "output_type": "display_data"
    },
    {
     "data": {
      "text/html": [
       "<pre>Computing final objective value and training RMSE.</pre>"
      ],
      "text/plain": [
       "Computing final objective value and training RMSE."
      ]
     },
     "metadata": {},
     "output_type": "display_data"
    },
    {
     "data": {
      "text/html": [
       "<pre>       Final objective value: 0.378887</pre>"
      ],
      "text/plain": [
       "       Final objective value: 0.378887"
      ]
     },
     "metadata": {},
     "output_type": "display_data"
    },
    {
     "data": {
      "text/html": [
       "<pre>       Final training RMSE: 0.614658</pre>"
      ],
      "text/plain": [
       "       Final training RMSE: 0.614658"
      ]
     },
     "metadata": {},
     "output_type": "display_data"
    },
    {
     "name": "stdout",
     "output_type": "stream",
     "text": [
      "PROGRESS: Evaluate model M0\n"
     ]
    },
    {
     "data": {
      "text/html": [
       "<pre>recommendations finished on 1000/96226 queries. users per second: 5007.36</pre>"
      ],
      "text/plain": [
       "recommendations finished on 1000/96226 queries. users per second: 5007.36"
      ]
     },
     "metadata": {},
     "output_type": "display_data"
    },
    {
     "data": {
      "text/html": [
       "<pre>recommendations finished on 2000/96226 queries. users per second: 5047.74</pre>"
      ],
      "text/plain": [
       "recommendations finished on 2000/96226 queries. users per second: 5047.74"
      ]
     },
     "metadata": {},
     "output_type": "display_data"
    },
    {
     "data": {
      "text/html": [
       "<pre>recommendations finished on 3000/96226 queries. users per second: 5934.99</pre>"
      ],
      "text/plain": [
       "recommendations finished on 3000/96226 queries. users per second: 5934.99"
      ]
     },
     "metadata": {},
     "output_type": "display_data"
    },
    {
     "data": {
      "text/html": [
       "<pre>recommendations finished on 4000/96226 queries. users per second: 5706.17</pre>"
      ],
      "text/plain": [
       "recommendations finished on 4000/96226 queries. users per second: 5706.17"
      ]
     },
     "metadata": {},
     "output_type": "display_data"
    },
    {
     "data": {
      "text/html": [
       "<pre>recommendations finished on 5000/96226 queries. users per second: 5570.73</pre>"
      ],
      "text/plain": [
       "recommendations finished on 5000/96226 queries. users per second: 5570.73"
      ]
     },
     "metadata": {},
     "output_type": "display_data"
    },
    {
     "data": {
      "text/html": [
       "<pre>recommendations finished on 6000/96226 queries. users per second: 5943.52</pre>"
      ],
      "text/plain": [
       "recommendations finished on 6000/96226 queries. users per second: 5943.52"
      ]
     },
     "metadata": {},
     "output_type": "display_data"
    },
    {
     "data": {
      "text/html": [
       "<pre>recommendations finished on 7000/96226 queries. users per second: 5815.26</pre>"
      ],
      "text/plain": [
       "recommendations finished on 7000/96226 queries. users per second: 5815.26"
      ]
     },
     "metadata": {},
     "output_type": "display_data"
    },
    {
     "data": {
      "text/html": [
       "<pre>recommendations finished on 8000/96226 queries. users per second: 5714.67</pre>"
      ],
      "text/plain": [
       "recommendations finished on 8000/96226 queries. users per second: 5714.67"
      ]
     },
     "metadata": {},
     "output_type": "display_data"
    },
    {
     "data": {
      "text/html": [
       "<pre>recommendations finished on 9000/96226 queries. users per second: 5634.1</pre>"
      ],
      "text/plain": [
       "recommendations finished on 9000/96226 queries. users per second: 5634.1"
      ]
     },
     "metadata": {},
     "output_type": "display_data"
    },
    {
     "data": {
      "text/html": [
       "<pre>recommendations finished on 10000/96226 queries. users per second: 5853.48</pre>"
      ],
      "text/plain": [
       "recommendations finished on 10000/96226 queries. users per second: 5853.48"
      ]
     },
     "metadata": {},
     "output_type": "display_data"
    },
    {
     "data": {
      "text/html": [
       "<pre>recommendations finished on 11000/96226 queries. users per second: 5779.75</pre>"
      ],
      "text/plain": [
       "recommendations finished on 11000/96226 queries. users per second: 5779.75"
      ]
     },
     "metadata": {},
     "output_type": "display_data"
    },
    {
     "data": {
      "text/html": [
       "<pre>recommendations finished on 12000/96226 queries. users per second: 5715.86</pre>"
      ],
      "text/plain": [
       "recommendations finished on 12000/96226 queries. users per second: 5715.86"
      ]
     },
     "metadata": {},
     "output_type": "display_data"
    },
    {
     "data": {
      "text/html": [
       "<pre>recommendations finished on 13000/96226 queries. users per second: 5663.51</pre>"
      ],
      "text/plain": [
       "recommendations finished on 13000/96226 queries. users per second: 5663.51"
      ]
     },
     "metadata": {},
     "output_type": "display_data"
    },
    {
     "data": {
      "text/html": [
       "<pre>recommendations finished on 14000/96226 queries. users per second: 5823.08</pre>"
      ],
      "text/plain": [
       "recommendations finished on 14000/96226 queries. users per second: 5823.08"
      ]
     },
     "metadata": {},
     "output_type": "display_data"
    },
    {
     "data": {
      "text/html": [
       "<pre>recommendations finished on 15000/96226 queries. users per second: 5768.5</pre>"
      ],
      "text/plain": [
       "recommendations finished on 15000/96226 queries. users per second: 5768.5"
      ]
     },
     "metadata": {},
     "output_type": "display_data"
    },
    {
     "data": {
      "text/html": [
       "<pre>recommendations finished on 16000/96226 queries. users per second: 5720.78</pre>"
      ],
      "text/plain": [
       "recommendations finished on 16000/96226 queries. users per second: 5720.78"
      ]
     },
     "metadata": {},
     "output_type": "display_data"
    },
    {
     "data": {
      "text/html": [
       "<pre>recommendations finished on 17000/96226 queries. users per second: 5844.25</pre>"
      ],
      "text/plain": [
       "recommendations finished on 17000/96226 queries. users per second: 5844.25"
      ]
     },
     "metadata": {},
     "output_type": "display_data"
    },
    {
     "data": {
      "text/html": [
       "<pre>recommendations finished on 18000/96226 queries. users per second: 5797.19</pre>"
      ],
      "text/plain": [
       "recommendations finished on 18000/96226 queries. users per second: 5797.19"
      ]
     },
     "metadata": {},
     "output_type": "display_data"
    },
    {
     "data": {
      "text/html": [
       "<pre>recommendations finished on 19000/96226 queries. users per second: 5755.97</pre>"
      ],
      "text/plain": [
       "recommendations finished on 19000/96226 queries. users per second: 5755.97"
      ]
     },
     "metadata": {},
     "output_type": "display_data"
    },
    {
     "data": {
      "text/html": [
       "<pre>recommendations finished on 20000/96226 queries. users per second: 5718.91</pre>"
      ],
      "text/plain": [
       "recommendations finished on 20000/96226 queries. users per second: 5718.91"
      ]
     },
     "metadata": {},
     "output_type": "display_data"
    },
    {
     "data": {
      "text/html": [
       "<pre>recommendations finished on 21000/96226 queries. users per second: 5823.75</pre>"
      ],
      "text/plain": [
       "recommendations finished on 21000/96226 queries. users per second: 5823.75"
      ]
     },
     "metadata": {},
     "output_type": "display_data"
    },
    {
     "data": {
      "text/html": [
       "<pre>recommendations finished on 22000/96226 queries. users per second: 5785.67</pre>"
      ],
      "text/plain": [
       "recommendations finished on 22000/96226 queries. users per second: 5785.67"
      ]
     },
     "metadata": {},
     "output_type": "display_data"
    },
    {
     "data": {
      "text/html": [
       "<pre>recommendations finished on 23000/96226 queries. users per second: 5750.38</pre>"
      ],
      "text/plain": [
       "recommendations finished on 23000/96226 queries. users per second: 5750.38"
      ]
     },
     "metadata": {},
     "output_type": "display_data"
    },
    {
     "data": {
      "text/html": [
       "<pre>recommendations finished on 24000/96226 queries. users per second: 5719.25</pre>"
      ],
      "text/plain": [
       "recommendations finished on 24000/96226 queries. users per second: 5719.25"
      ]
     },
     "metadata": {},
     "output_type": "display_data"
    },
    {
     "data": {
      "text/html": [
       "<pre>recommendations finished on 25000/96226 queries. users per second: 5807.41</pre>"
      ],
      "text/plain": [
       "recommendations finished on 25000/96226 queries. users per second: 5807.41"
      ]
     },
     "metadata": {},
     "output_type": "display_data"
    },
    {
     "data": {
      "text/html": [
       "<pre>recommendations finished on 26000/96226 queries. users per second: 5776.31</pre>"
      ],
      "text/plain": [
       "recommendations finished on 26000/96226 queries. users per second: 5776.31"
      ]
     },
     "metadata": {},
     "output_type": "display_data"
    },
    {
     "data": {
      "text/html": [
       "<pre>recommendations finished on 27000/96226 queries. users per second: 5747.92</pre>"
      ],
      "text/plain": [
       "recommendations finished on 27000/96226 queries. users per second: 5747.92"
      ]
     },
     "metadata": {},
     "output_type": "display_data"
    },
    {
     "data": {
      "text/html": [
       "<pre>recommendations finished on 28000/96226 queries. users per second: 5824.79</pre>"
      ],
      "text/plain": [
       "recommendations finished on 28000/96226 queries. users per second: 5824.79"
      ]
     },
     "metadata": {},
     "output_type": "display_data"
    },
    {
     "data": {
      "text/html": [
       "<pre>recommendations finished on 29000/96226 queries. users per second: 5796.22</pre>"
      ],
      "text/plain": [
       "recommendations finished on 29000/96226 queries. users per second: 5796.22"
      ]
     },
     "metadata": {},
     "output_type": "display_data"
    },
    {
     "data": {
      "text/html": [
       "<pre>recommendations finished on 30000/96226 queries. users per second: 5769.98</pre>"
      ],
      "text/plain": [
       "recommendations finished on 30000/96226 queries. users per second: 5769.98"
      ]
     },
     "metadata": {},
     "output_type": "display_data"
    },
    {
     "data": {
      "text/html": [
       "<pre>recommendations finished on 31000/96226 queries. users per second: 5745.52</pre>"
      ],
      "text/plain": [
       "recommendations finished on 31000/96226 queries. users per second: 5745.52"
      ]
     },
     "metadata": {},
     "output_type": "display_data"
    },
    {
     "data": {
      "text/html": [
       "<pre>recommendations finished on 32000/96226 queries. users per second: 5813.24</pre>"
      ],
      "text/plain": [
       "recommendations finished on 32000/96226 queries. users per second: 5813.24"
      ]
     },
     "metadata": {},
     "output_type": "display_data"
    },
    {
     "data": {
      "text/html": [
       "<pre>recommendations finished on 33000/96226 queries. users per second: 5789.11</pre>"
      ],
      "text/plain": [
       "recommendations finished on 33000/96226 queries. users per second: 5789.11"
      ]
     },
     "metadata": {},
     "output_type": "display_data"
    },
    {
     "data": {
      "text/html": [
       "<pre>recommendations finished on 34000/96226 queries. users per second: 5761.96</pre>"
      ],
      "text/plain": [
       "recommendations finished on 34000/96226 queries. users per second: 5761.96"
      ]
     },
     "metadata": {},
     "output_type": "display_data"
    },
    {
     "data": {
      "text/html": [
       "<pre>recommendations finished on 35000/96226 queries. users per second: 5738.89</pre>"
      ],
      "text/plain": [
       "recommendations finished on 35000/96226 queries. users per second: 5738.89"
      ]
     },
     "metadata": {},
     "output_type": "display_data"
    },
    {
     "data": {
      "text/html": [
       "<pre>recommendations finished on 36000/96226 queries. users per second: 5718.24</pre>"
      ],
      "text/plain": [
       "recommendations finished on 36000/96226 queries. users per second: 5718.24"
      ]
     },
     "metadata": {},
     "output_type": "display_data"
    },
    {
     "data": {
      "text/html": [
       "<pre>recommendations finished on 37000/96226 queries. users per second: 5776.62</pre>"
      ],
      "text/plain": [
       "recommendations finished on 37000/96226 queries. users per second: 5776.62"
      ]
     },
     "metadata": {},
     "output_type": "display_data"
    },
    {
     "data": {
      "text/html": [
       "<pre>recommendations finished on 38000/96226 queries. users per second: 5756.22</pre>"
      ],
      "text/plain": [
       "recommendations finished on 38000/96226 queries. users per second: 5756.22"
      ]
     },
     "metadata": {},
     "output_type": "display_data"
    },
    {
     "data": {
      "text/html": [
       "<pre>recommendations finished on 39000/96226 queries. users per second: 5737.93</pre>"
      ],
      "text/plain": [
       "recommendations finished on 39000/96226 queries. users per second: 5737.93"
      ]
     },
     "metadata": {},
     "output_type": "display_data"
    },
    {
     "data": {
      "text/html": [
       "<pre>recommendations finished on 40000/96226 queries. users per second: 5791.7</pre>"
      ],
      "text/plain": [
       "recommendations finished on 40000/96226 queries. users per second: 5791.7"
      ]
     },
     "metadata": {},
     "output_type": "display_data"
    },
    {
     "data": {
      "text/html": [
       "<pre>recommendations finished on 41000/96226 queries. users per second: 5772.5</pre>"
      ],
      "text/plain": [
       "recommendations finished on 41000/96226 queries. users per second: 5772.5"
      ]
     },
     "metadata": {},
     "output_type": "display_data"
    },
    {
     "data": {
      "text/html": [
       "<pre>recommendations finished on 42000/96226 queries. users per second: 5754.64</pre>"
      ],
      "text/plain": [
       "recommendations finished on 42000/96226 queries. users per second: 5754.64"
      ]
     },
     "metadata": {},
     "output_type": "display_data"
    },
    {
     "data": {
      "text/html": [
       "<pre>recommendations finished on 43000/96226 queries. users per second: 5737.55</pre>"
      ],
      "text/plain": [
       "recommendations finished on 43000/96226 queries. users per second: 5737.55"
      ]
     },
     "metadata": {},
     "output_type": "display_data"
    },
    {
     "data": {
      "text/html": [
       "<pre>recommendations finished on 44000/96226 queries. users per second: 5786.49</pre>"
      ],
      "text/plain": [
       "recommendations finished on 44000/96226 queries. users per second: 5786.49"
      ]
     },
     "metadata": {},
     "output_type": "display_data"
    },
    {
     "data": {
      "text/html": [
       "<pre>recommendations finished on 45000/96226 queries. users per second: 5768.82</pre>"
      ],
      "text/plain": [
       "recommendations finished on 45000/96226 queries. users per second: 5768.82"
      ]
     },
     "metadata": {},
     "output_type": "display_data"
    },
    {
     "data": {
      "text/html": [
       "<pre>recommendations finished on 46000/96226 queries. users per second: 5752.02</pre>"
      ],
      "text/plain": [
       "recommendations finished on 46000/96226 queries. users per second: 5752.02"
      ]
     },
     "metadata": {},
     "output_type": "display_data"
    },
    {
     "data": {
      "text/html": [
       "<pre>recommendations finished on 47000/96226 queries. users per second: 5797.75</pre>"
      ],
      "text/plain": [
       "recommendations finished on 47000/96226 queries. users per second: 5797.75"
      ]
     },
     "metadata": {},
     "output_type": "display_data"
    },
    {
     "data": {
      "text/html": [
       "<pre>recommendations finished on 48000/96226 queries. users per second: 5781.28</pre>"
      ],
      "text/plain": [
       "recommendations finished on 48000/96226 queries. users per second: 5781.28"
      ]
     },
     "metadata": {},
     "output_type": "display_data"
    },
    {
     "data": {
      "text/html": [
       "<pre>recommendations finished on 49000/96226 queries. users per second: 5765.48</pre>"
      ],
      "text/plain": [
       "recommendations finished on 49000/96226 queries. users per second: 5765.48"
      ]
     },
     "metadata": {},
     "output_type": "display_data"
    },
    {
     "data": {
      "text/html": [
       "<pre>recommendations finished on 50000/96226 queries. users per second: 5750.42</pre>"
      ],
      "text/plain": [
       "recommendations finished on 50000/96226 queries. users per second: 5750.42"
      ]
     },
     "metadata": {},
     "output_type": "display_data"
    },
    {
     "data": {
      "text/html": [
       "<pre>recommendations finished on 51000/96226 queries. users per second: 5792.58</pre>"
      ],
      "text/plain": [
       "recommendations finished on 51000/96226 queries. users per second: 5792.58"
      ]
     },
     "metadata": {},
     "output_type": "display_data"
    },
    {
     "data": {
      "text/html": [
       "<pre>recommendations finished on 52000/96226 queries. users per second: 5777.62</pre>"
      ],
      "text/plain": [
       "recommendations finished on 52000/96226 queries. users per second: 5777.62"
      ]
     },
     "metadata": {},
     "output_type": "display_data"
    },
    {
     "data": {
      "text/html": [
       "<pre>recommendations finished on 53000/96226 queries. users per second: 5763.4</pre>"
      ],
      "text/plain": [
       "recommendations finished on 53000/96226 queries. users per second: 5763.4"
      ]
     },
     "metadata": {},
     "output_type": "display_data"
    },
    {
     "data": {
      "text/html": [
       "<pre>recommendations finished on 54000/96226 queries. users per second: 5803.56</pre>"
      ],
      "text/plain": [
       "recommendations finished on 54000/96226 queries. users per second: 5803.56"
      ]
     },
     "metadata": {},
     "output_type": "display_data"
    },
    {
     "data": {
      "text/html": [
       "<pre>recommendations finished on 55000/96226 queries. users per second: 5789.2</pre>"
      ],
      "text/plain": [
       "recommendations finished on 55000/96226 queries. users per second: 5789.2"
      ]
     },
     "metadata": {},
     "output_type": "display_data"
    },
    {
     "data": {
      "text/html": [
       "<pre>recommendations finished on 56000/96226 queries. users per second: 5775.16</pre>"
      ],
      "text/plain": [
       "recommendations finished on 56000/96226 queries. users per second: 5775.16"
      ]
     },
     "metadata": {},
     "output_type": "display_data"
    },
    {
     "data": {
      "text/html": [
       "<pre>recommendations finished on 57000/96226 queries. users per second: 5812.91</pre>"
      ],
      "text/plain": [
       "recommendations finished on 57000/96226 queries. users per second: 5812.91"
      ]
     },
     "metadata": {},
     "output_type": "display_data"
    },
    {
     "data": {
      "text/html": [
       "<pre>recommendations finished on 58000/96226 queries. users per second: 5798.44</pre>"
      ],
      "text/plain": [
       "recommendations finished on 58000/96226 queries. users per second: 5798.44"
      ]
     },
     "metadata": {},
     "output_type": "display_data"
    },
    {
     "data": {
      "text/html": [
       "<pre>recommendations finished on 59000/96226 queries. users per second: 5785.65</pre>"
      ],
      "text/plain": [
       "recommendations finished on 59000/96226 queries. users per second: 5785.65"
      ]
     },
     "metadata": {},
     "output_type": "display_data"
    },
    {
     "data": {
      "text/html": [
       "<pre>recommendations finished on 60000/96226 queries. users per second: 5821.48</pre>"
      ],
      "text/plain": [
       "recommendations finished on 60000/96226 queries. users per second: 5821.48"
      ]
     },
     "metadata": {},
     "output_type": "display_data"
    },
    {
     "data": {
      "text/html": [
       "<pre>recommendations finished on 61000/96226 queries. users per second: 5807.66</pre>"
      ],
      "text/plain": [
       "recommendations finished on 61000/96226 queries. users per second: 5807.66"
      ]
     },
     "metadata": {},
     "output_type": "display_data"
    },
    {
     "data": {
      "text/html": [
       "<pre>recommendations finished on 62000/96226 queries. users per second: 5795.42</pre>"
      ],
      "text/plain": [
       "recommendations finished on 62000/96226 queries. users per second: 5795.42"
      ]
     },
     "metadata": {},
     "output_type": "display_data"
    },
    {
     "data": {
      "text/html": [
       "<pre>recommendations finished on 63000/96226 queries. users per second: 5826.95</pre>"
      ],
      "text/plain": [
       "recommendations finished on 63000/96226 queries. users per second: 5826.95"
      ]
     },
     "metadata": {},
     "output_type": "display_data"
    },
    {
     "data": {
      "text/html": [
       "<pre>recommendations finished on 64000/96226 queries. users per second: 5816.19</pre>"
      ],
      "text/plain": [
       "recommendations finished on 64000/96226 queries. users per second: 5816.19"
      ]
     },
     "metadata": {},
     "output_type": "display_data"
    },
    {
     "data": {
      "text/html": [
       "<pre>recommendations finished on 65000/96226 queries. users per second: 5803.72</pre>"
      ],
      "text/plain": [
       "recommendations finished on 65000/96226 queries. users per second: 5803.72"
      ]
     },
     "metadata": {},
     "output_type": "display_data"
    },
    {
     "data": {
      "text/html": [
       "<pre>recommendations finished on 66000/96226 queries. users per second: 5791.72</pre>"
      ],
      "text/plain": [
       "recommendations finished on 66000/96226 queries. users per second: 5791.72"
      ]
     },
     "metadata": {},
     "output_type": "display_data"
    },
    {
     "data": {
      "text/html": [
       "<pre>recommendations finished on 67000/96226 queries. users per second: 5778.74</pre>"
      ],
      "text/plain": [
       "recommendations finished on 67000/96226 queries. users per second: 5778.74"
      ]
     },
     "metadata": {},
     "output_type": "display_data"
    },
    {
     "data": {
      "text/html": [
       "<pre>recommendations finished on 68000/96226 queries. users per second: 5808.92</pre>"
      ],
      "text/plain": [
       "recommendations finished on 68000/96226 queries. users per second: 5808.92"
      ]
     },
     "metadata": {},
     "output_type": "display_data"
    },
    {
     "data": {
      "text/html": [
       "<pre>recommendations finished on 69000/96226 queries. users per second: 5795.12</pre>"
      ],
      "text/plain": [
       "recommendations finished on 69000/96226 queries. users per second: 5795.12"
      ]
     },
     "metadata": {},
     "output_type": "display_data"
    },
    {
     "data": {
      "text/html": [
       "<pre>recommendations finished on 70000/96226 queries. users per second: 5783.25</pre>"
      ],
      "text/plain": [
       "recommendations finished on 70000/96226 queries. users per second: 5783.25"
      ]
     },
     "metadata": {},
     "output_type": "display_data"
    },
    {
     "data": {
      "text/html": [
       "<pre>recommendations finished on 71000/96226 queries. users per second: 5772.29</pre>"
      ],
      "text/plain": [
       "recommendations finished on 71000/96226 queries. users per second: 5772.29"
      ]
     },
     "metadata": {},
     "output_type": "display_data"
    },
    {
     "data": {
      "text/html": [
       "<pre>recommendations finished on 72000/96226 queries. users per second: 5761.62</pre>"
      ],
      "text/plain": [
       "recommendations finished on 72000/96226 queries. users per second: 5761.62"
      ]
     },
     "metadata": {},
     "output_type": "display_data"
    },
    {
     "data": {
      "text/html": [
       "<pre>recommendations finished on 73000/96226 queries. users per second: 5790.97</pre>"
      ],
      "text/plain": [
       "recommendations finished on 73000/96226 queries. users per second: 5790.97"
      ]
     },
     "metadata": {},
     "output_type": "display_data"
    },
    {
     "data": {
      "text/html": [
       "<pre>recommendations finished on 74000/96226 queries. users per second: 5780.58</pre>"
      ],
      "text/plain": [
       "recommendations finished on 74000/96226 queries. users per second: 5780.58"
      ]
     },
     "metadata": {},
     "output_type": "display_data"
    },
    {
     "data": {
      "text/html": [
       "<pre>recommendations finished on 75000/96226 queries. users per second: 5770.4</pre>"
      ],
      "text/plain": [
       "recommendations finished on 75000/96226 queries. users per second: 5770.4"
      ]
     },
     "metadata": {},
     "output_type": "display_data"
    },
    {
     "data": {
      "text/html": [
       "<pre>recommendations finished on 76000/96226 queries. users per second: 5798.05</pre>"
      ],
      "text/plain": [
       "recommendations finished on 76000/96226 queries. users per second: 5798.05"
      ]
     },
     "metadata": {},
     "output_type": "display_data"
    },
    {
     "data": {
      "text/html": [
       "<pre>recommendations finished on 77000/96226 queries. users per second: 5788.56</pre>"
      ],
      "text/plain": [
       "recommendations finished on 77000/96226 queries. users per second: 5788.56"
      ]
     },
     "metadata": {},
     "output_type": "display_data"
    },
    {
     "data": {
      "text/html": [
       "<pre>recommendations finished on 78000/96226 queries. users per second: 5778.51</pre>"
      ],
      "text/plain": [
       "recommendations finished on 78000/96226 queries. users per second: 5778.51"
      ]
     },
     "metadata": {},
     "output_type": "display_data"
    },
    {
     "data": {
      "text/html": [
       "<pre>recommendations finished on 79000/96226 queries. users per second: 5806</pre>"
      ],
      "text/plain": [
       "recommendations finished on 79000/96226 queries. users per second: 5806"
      ]
     },
     "metadata": {},
     "output_type": "display_data"
    },
    {
     "data": {
      "text/html": [
       "<pre>recommendations finished on 80000/96226 queries. users per second: 5796.14</pre>"
      ],
      "text/plain": [
       "recommendations finished on 80000/96226 queries. users per second: 5796.14"
      ]
     },
     "metadata": {},
     "output_type": "display_data"
    },
    {
     "data": {
      "text/html": [
       "<pre>recommendations finished on 81000/96226 queries. users per second: 5786.48</pre>"
      ],
      "text/plain": [
       "recommendations finished on 81000/96226 queries. users per second: 5786.48"
      ]
     },
     "metadata": {},
     "output_type": "display_data"
    },
    {
     "data": {
      "text/html": [
       "<pre>recommendations finished on 82000/96226 queries. users per second: 5811.41</pre>"
      ],
      "text/plain": [
       "recommendations finished on 82000/96226 queries. users per second: 5811.41"
      ]
     },
     "metadata": {},
     "output_type": "display_data"
    },
    {
     "data": {
      "text/html": [
       "<pre>recommendations finished on 83000/96226 queries. users per second: 5803.16</pre>"
      ],
      "text/plain": [
       "recommendations finished on 83000/96226 queries. users per second: 5803.16"
      ]
     },
     "metadata": {},
     "output_type": "display_data"
    },
    {
     "data": {
      "text/html": [
       "<pre>recommendations finished on 84000/96226 queries. users per second: 5793.71</pre>"
      ],
      "text/plain": [
       "recommendations finished on 84000/96226 queries. users per second: 5793.71"
      ]
     },
     "metadata": {},
     "output_type": "display_data"
    },
    {
     "data": {
      "text/html": [
       "<pre>recommendations finished on 85000/96226 queries. users per second: 5817.82</pre>"
      ],
      "text/plain": [
       "recommendations finished on 85000/96226 queries. users per second: 5817.82"
      ]
     },
     "metadata": {},
     "output_type": "display_data"
    },
    {
     "data": {
      "text/html": [
       "<pre>recommendations finished on 86000/96226 queries. users per second: 5809.58</pre>"
      ],
      "text/plain": [
       "recommendations finished on 86000/96226 queries. users per second: 5809.58"
      ]
     },
     "metadata": {},
     "output_type": "display_data"
    },
    {
     "data": {
      "text/html": [
       "<pre>recommendations finished on 87000/96226 queries. users per second: 5800.46</pre>"
      ],
      "text/plain": [
       "recommendations finished on 87000/96226 queries. users per second: 5800.46"
      ]
     },
     "metadata": {},
     "output_type": "display_data"
    },
    {
     "data": {
      "text/html": [
       "<pre>recommendations finished on 88000/96226 queries. users per second: 5791.33</pre>"
      ],
      "text/plain": [
       "recommendations finished on 88000/96226 queries. users per second: 5791.33"
      ]
     },
     "metadata": {},
     "output_type": "display_data"
    },
    {
     "data": {
      "text/html": [
       "<pre>recommendations finished on 89000/96226 queries. users per second: 5815.6</pre>"
      ],
      "text/plain": [
       "recommendations finished on 89000/96226 queries. users per second: 5815.6"
      ]
     },
     "metadata": {},
     "output_type": "display_data"
    },
    {
     "data": {
      "text/html": [
       "<pre>recommendations finished on 90000/96226 queries. users per second: 5806.56</pre>"
      ],
      "text/plain": [
       "recommendations finished on 90000/96226 queries. users per second: 5806.56"
      ]
     },
     "metadata": {},
     "output_type": "display_data"
    },
    {
     "data": {
      "text/html": [
       "<pre>recommendations finished on 91000/96226 queries. users per second: 5797.8</pre>"
      ],
      "text/plain": [
       "recommendations finished on 91000/96226 queries. users per second: 5797.8"
      ]
     },
     "metadata": {},
     "output_type": "display_data"
    },
    {
     "data": {
      "text/html": [
       "<pre>recommendations finished on 92000/96226 queries. users per second: 5820.93</pre>"
      ],
      "text/plain": [
       "recommendations finished on 92000/96226 queries. users per second: 5820.93"
      ]
     },
     "metadata": {},
     "output_type": "display_data"
    },
    {
     "data": {
      "text/html": [
       "<pre>recommendations finished on 93000/96226 queries. users per second: 5812.13</pre>"
      ],
      "text/plain": [
       "recommendations finished on 93000/96226 queries. users per second: 5812.13"
      ]
     },
     "metadata": {},
     "output_type": "display_data"
    },
    {
     "data": {
      "text/html": [
       "<pre>recommendations finished on 94000/96226 queries. users per second: 5803.92</pre>"
      ],
      "text/plain": [
       "recommendations finished on 94000/96226 queries. users per second: 5803.92"
      ]
     },
     "metadata": {},
     "output_type": "display_data"
    },
    {
     "data": {
      "text/html": [
       "<pre>recommendations finished on 95000/96226 queries. users per second: 5825.79</pre>"
      ],
      "text/plain": [
       "recommendations finished on 95000/96226 queries. users per second: 5825.79"
      ]
     },
     "metadata": {},
     "output_type": "display_data"
    },
    {
     "data": {
      "text/html": [
       "<pre>recommendations finished on 96000/96226 queries. users per second: 5819.82</pre>"
      ],
      "text/plain": [
       "recommendations finished on 96000/96226 queries. users per second: 5819.82"
      ]
     },
     "metadata": {},
     "output_type": "display_data"
    },
    {
     "name": "stdout",
     "output_type": "stream",
     "text": [
      "\n",
      "Precision and recall summary statistics by cutoff\n",
      "+--------+-------------------+-------------------+\n",
      "| cutoff |   mean_precision  |    mean_recall    |\n",
      "+--------+-------------------+-------------------+\n",
      "|   1    | 1.03922016919e-05 | 3.46406723062e-06 |\n",
      "|   2    | 1.03922016919e-05 | 6.06211765358e-06 |\n",
      "|   3    | 6.92813446123e-06 | 6.06211765358e-06 |\n",
      "|   4    | 5.19610084593e-06 | 6.06211765358e-06 |\n",
      "|   5    | 4.15688067674e-06 | 6.06211765358e-06 |\n",
      "|   6    | 3.46406723062e-06 | 6.06211765358e-06 |\n",
      "|   7    | 2.96920048339e-06 | 6.06211765358e-06 |\n",
      "|   8    | 2.59805042296e-06 | 6.06211765358e-06 |\n",
      "|   9    | 3.46406723062e-06 | 7.79415126889e-06 |\n",
      "|   10   | 5.19610084593e-06 | 1.64543193454e-05 |\n",
      "+--------+-------------------+-------------------+\n",
      "[10 rows x 3 columns]\n",
      "\n",
      "PROGRESS: Evaluate model M1\n"
     ]
    },
    {
     "data": {
      "text/html": [
       "<pre>recommendations finished on 1000/96226 queries. users per second: 4139.55</pre>"
      ],
      "text/plain": [
       "recommendations finished on 1000/96226 queries. users per second: 4139.55"
      ]
     },
     "metadata": {},
     "output_type": "display_data"
    },
    {
     "data": {
      "text/html": [
       "<pre>recommendations finished on 2000/96226 queries. users per second: 4518.56</pre>"
      ],
      "text/plain": [
       "recommendations finished on 2000/96226 queries. users per second: 4518.56"
      ]
     },
     "metadata": {},
     "output_type": "display_data"
    },
    {
     "data": {
      "text/html": [
       "<pre>recommendations finished on 3000/96226 queries. users per second: 4657.97</pre>"
      ],
      "text/plain": [
       "recommendations finished on 3000/96226 queries. users per second: 4657.97"
      ]
     },
     "metadata": {},
     "output_type": "display_data"
    },
    {
     "data": {
      "text/html": [
       "<pre>recommendations finished on 4000/96226 queries. users per second: 4734.61</pre>"
      ],
      "text/plain": [
       "recommendations finished on 4000/96226 queries. users per second: 4734.61"
      ]
     },
     "metadata": {},
     "output_type": "display_data"
    },
    {
     "data": {
      "text/html": [
       "<pre>recommendations finished on 5000/96226 queries. users per second: 4778.21</pre>"
      ],
      "text/plain": [
       "recommendations finished on 5000/96226 queries. users per second: 4778.21"
      ]
     },
     "metadata": {},
     "output_type": "display_data"
    },
    {
     "data": {
      "text/html": [
       "<pre>recommendations finished on 6000/96226 queries. users per second: 4810.94</pre>"
      ],
      "text/plain": [
       "recommendations finished on 6000/96226 queries. users per second: 4810.94"
      ]
     },
     "metadata": {},
     "output_type": "display_data"
    },
    {
     "data": {
      "text/html": [
       "<pre>recommendations finished on 7000/96226 queries. users per second: 4833.78</pre>"
      ],
      "text/plain": [
       "recommendations finished on 7000/96226 queries. users per second: 4833.78"
      ]
     },
     "metadata": {},
     "output_type": "display_data"
    },
    {
     "data": {
      "text/html": [
       "<pre>recommendations finished on 8000/96226 queries. users per second: 4850.24</pre>"
      ],
      "text/plain": [
       "recommendations finished on 8000/96226 queries. users per second: 4850.24"
      ]
     },
     "metadata": {},
     "output_type": "display_data"
    },
    {
     "data": {
      "text/html": [
       "<pre>recommendations finished on 9000/96226 queries. users per second: 4644.05</pre>"
      ],
      "text/plain": [
       "recommendations finished on 9000/96226 queries. users per second: 4644.05"
      ]
     },
     "metadata": {},
     "output_type": "display_data"
    },
    {
     "data": {
      "text/html": [
       "<pre>recommendations finished on 10000/96226 queries. users per second: 4674.83</pre>"
      ],
      "text/plain": [
       "recommendations finished on 10000/96226 queries. users per second: 4674.83"
      ]
     },
     "metadata": {},
     "output_type": "display_data"
    },
    {
     "data": {
      "text/html": [
       "<pre>recommendations finished on 11000/96226 queries. users per second: 4701.02</pre>"
      ],
      "text/plain": [
       "recommendations finished on 11000/96226 queries. users per second: 4701.02"
      ]
     },
     "metadata": {},
     "output_type": "display_data"
    },
    {
     "data": {
      "text/html": [
       "<pre>recommendations finished on 12000/96226 queries. users per second: 4723.17</pre>"
      ],
      "text/plain": [
       "recommendations finished on 12000/96226 queries. users per second: 4723.17"
      ]
     },
     "metadata": {},
     "output_type": "display_data"
    },
    {
     "data": {
      "text/html": [
       "<pre>recommendations finished on 13000/96226 queries. users per second: 4741.69</pre>"
      ],
      "text/plain": [
       "recommendations finished on 13000/96226 queries. users per second: 4741.69"
      ]
     },
     "metadata": {},
     "output_type": "display_data"
    },
    {
     "data": {
      "text/html": [
       "<pre>recommendations finished on 14000/96226 queries. users per second: 4757.24</pre>"
      ],
      "text/plain": [
       "recommendations finished on 14000/96226 queries. users per second: 4757.24"
      ]
     },
     "metadata": {},
     "output_type": "display_data"
    },
    {
     "data": {
      "text/html": [
       "<pre>recommendations finished on 15000/96226 queries. users per second: 4770.55</pre>"
      ],
      "text/plain": [
       "recommendations finished on 15000/96226 queries. users per second: 4770.55"
      ]
     },
     "metadata": {},
     "output_type": "display_data"
    },
    {
     "data": {
      "text/html": [
       "<pre>recommendations finished on 16000/96226 queries. users per second: 4783.28</pre>"
      ],
      "text/plain": [
       "recommendations finished on 16000/96226 queries. users per second: 4783.28"
      ]
     },
     "metadata": {},
     "output_type": "display_data"
    },
    {
     "data": {
      "text/html": [
       "<pre>recommendations finished on 17000/96226 queries. users per second: 4792.26</pre>"
      ],
      "text/plain": [
       "recommendations finished on 17000/96226 queries. users per second: 4792.26"
      ]
     },
     "metadata": {},
     "output_type": "display_data"
    },
    {
     "data": {
      "text/html": [
       "<pre>recommendations finished on 18000/96226 queries. users per second: 4800.77</pre>"
      ],
      "text/plain": [
       "recommendations finished on 18000/96226 queries. users per second: 4800.77"
      ]
     },
     "metadata": {},
     "output_type": "display_data"
    },
    {
     "data": {
      "text/html": [
       "<pre>recommendations finished on 19000/96226 queries. users per second: 4705.87</pre>"
      ],
      "text/plain": [
       "recommendations finished on 19000/96226 queries. users per second: 4705.87"
      ]
     },
     "metadata": {},
     "output_type": "display_data"
    },
    {
     "data": {
      "text/html": [
       "<pre>recommendations finished on 20000/96226 queries. users per second: 4719.07</pre>"
      ],
      "text/plain": [
       "recommendations finished on 20000/96226 queries. users per second: 4719.07"
      ]
     },
     "metadata": {},
     "output_type": "display_data"
    },
    {
     "data": {
      "text/html": [
       "<pre>recommendations finished on 21000/96226 queries. users per second: 4729.75</pre>"
      ],
      "text/plain": [
       "recommendations finished on 21000/96226 queries. users per second: 4729.75"
      ]
     },
     "metadata": {},
     "output_type": "display_data"
    },
    {
     "data": {
      "text/html": [
       "<pre>recommendations finished on 22000/96226 queries. users per second: 4740.6</pre>"
      ],
      "text/plain": [
       "recommendations finished on 22000/96226 queries. users per second: 4740.6"
      ]
     },
     "metadata": {},
     "output_type": "display_data"
    },
    {
     "data": {
      "text/html": [
       "<pre>recommendations finished on 23000/96226 queries. users per second: 4750.42</pre>"
      ],
      "text/plain": [
       "recommendations finished on 23000/96226 queries. users per second: 4750.42"
      ]
     },
     "metadata": {},
     "output_type": "display_data"
    },
    {
     "data": {
      "text/html": [
       "<pre>recommendations finished on 24000/96226 queries. users per second: 4759.5</pre>"
      ],
      "text/plain": [
       "recommendations finished on 24000/96226 queries. users per second: 4759.5"
      ]
     },
     "metadata": {},
     "output_type": "display_data"
    },
    {
     "data": {
      "text/html": [
       "<pre>recommendations finished on 25000/96226 queries. users per second: 4767.55</pre>"
      ],
      "text/plain": [
       "recommendations finished on 25000/96226 queries. users per second: 4767.55"
      ]
     },
     "metadata": {},
     "output_type": "display_data"
    },
    {
     "data": {
      "text/html": [
       "<pre>recommendations finished on 26000/96226 queries. users per second: 4775.46</pre>"
      ],
      "text/plain": [
       "recommendations finished on 26000/96226 queries. users per second: 4775.46"
      ]
     },
     "metadata": {},
     "output_type": "display_data"
    },
    {
     "data": {
      "text/html": [
       "<pre>recommendations finished on 27000/96226 queries. users per second: 4782.49</pre>"
      ],
      "text/plain": [
       "recommendations finished on 27000/96226 queries. users per second: 4782.49"
      ]
     },
     "metadata": {},
     "output_type": "display_data"
    },
    {
     "data": {
      "text/html": [
       "<pre>recommendations finished on 28000/96226 queries. users per second: 4788.99</pre>"
      ],
      "text/plain": [
       "recommendations finished on 28000/96226 queries. users per second: 4788.99"
      ]
     },
     "metadata": {},
     "output_type": "display_data"
    },
    {
     "data": {
      "text/html": [
       "<pre>recommendations finished on 29000/96226 queries. users per second: 4795.54</pre>"
      ],
      "text/plain": [
       "recommendations finished on 29000/96226 queries. users per second: 4795.54"
      ]
     },
     "metadata": {},
     "output_type": "display_data"
    },
    {
     "data": {
      "text/html": [
       "<pre>recommendations finished on 30000/96226 queries. users per second: 4733.14</pre>"
      ],
      "text/plain": [
       "recommendations finished on 30000/96226 queries. users per second: 4733.14"
      ]
     },
     "metadata": {},
     "output_type": "display_data"
    },
    {
     "data": {
      "text/html": [
       "<pre>recommendations finished on 31000/96226 queries. users per second: 4740.51</pre>"
      ],
      "text/plain": [
       "recommendations finished on 31000/96226 queries. users per second: 4740.51"
      ]
     },
     "metadata": {},
     "output_type": "display_data"
    },
    {
     "data": {
      "text/html": [
       "<pre>recommendations finished on 32000/96226 queries. users per second: 4747.39</pre>"
      ],
      "text/plain": [
       "recommendations finished on 32000/96226 queries. users per second: 4747.39"
      ]
     },
     "metadata": {},
     "output_type": "display_data"
    },
    {
     "data": {
      "text/html": [
       "<pre>recommendations finished on 33000/96226 queries. users per second: 4753.53</pre>"
      ],
      "text/plain": [
       "recommendations finished on 33000/96226 queries. users per second: 4753.53"
      ]
     },
     "metadata": {},
     "output_type": "display_data"
    },
    {
     "data": {
      "text/html": [
       "<pre>recommendations finished on 34000/96226 queries. users per second: 4758.31</pre>"
      ],
      "text/plain": [
       "recommendations finished on 34000/96226 queries. users per second: 4758.31"
      ]
     },
     "metadata": {},
     "output_type": "display_data"
    },
    {
     "data": {
      "text/html": [
       "<pre>recommendations finished on 35000/96226 queries. users per second: 4762.39</pre>"
      ],
      "text/plain": [
       "recommendations finished on 35000/96226 queries. users per second: 4762.39"
      ]
     },
     "metadata": {},
     "output_type": "display_data"
    },
    {
     "data": {
      "text/html": [
       "<pre>recommendations finished on 36000/96226 queries. users per second: 4713.43</pre>"
      ],
      "text/plain": [
       "recommendations finished on 36000/96226 queries. users per second: 4713.43"
      ]
     },
     "metadata": {},
     "output_type": "display_data"
    },
    {
     "data": {
      "text/html": [
       "<pre>recommendations finished on 37000/96226 queries. users per second: 4720.14</pre>"
      ],
      "text/plain": [
       "recommendations finished on 37000/96226 queries. users per second: 4720.14"
      ]
     },
     "metadata": {},
     "output_type": "display_data"
    },
    {
     "data": {
      "text/html": [
       "<pre>recommendations finished on 38000/96226 queries. users per second: 4726.71</pre>"
      ],
      "text/plain": [
       "recommendations finished on 38000/96226 queries. users per second: 4726.71"
      ]
     },
     "metadata": {},
     "output_type": "display_data"
    },
    {
     "data": {
      "text/html": [
       "<pre>recommendations finished on 39000/96226 queries. users per second: 4732.59</pre>"
      ],
      "text/plain": [
       "recommendations finished on 39000/96226 queries. users per second: 4732.59"
      ]
     },
     "metadata": {},
     "output_type": "display_data"
    },
    {
     "data": {
      "text/html": [
       "<pre>recommendations finished on 40000/96226 queries. users per second: 4738.05</pre>"
      ],
      "text/plain": [
       "recommendations finished on 40000/96226 queries. users per second: 4738.05"
      ]
     },
     "metadata": {},
     "output_type": "display_data"
    },
    {
     "data": {
      "text/html": [
       "<pre>recommendations finished on 41000/96226 queries. users per second: 4744.05</pre>"
      ],
      "text/plain": [
       "recommendations finished on 41000/96226 queries. users per second: 4744.05"
      ]
     },
     "metadata": {},
     "output_type": "display_data"
    },
    {
     "data": {
      "text/html": [
       "<pre>recommendations finished on 42000/96226 queries. users per second: 4749.48</pre>"
      ],
      "text/plain": [
       "recommendations finished on 42000/96226 queries. users per second: 4749.48"
      ]
     },
     "metadata": {},
     "output_type": "display_data"
    },
    {
     "data": {
      "text/html": [
       "<pre>recommendations finished on 43000/96226 queries. users per second: 4754.98</pre>"
      ],
      "text/plain": [
       "recommendations finished on 43000/96226 queries. users per second: 4754.98"
      ]
     },
     "metadata": {},
     "output_type": "display_data"
    },
    {
     "data": {
      "text/html": [
       "<pre>recommendations finished on 44000/96226 queries. users per second: 4759.72</pre>"
      ],
      "text/plain": [
       "recommendations finished on 44000/96226 queries. users per second: 4759.72"
      ]
     },
     "metadata": {},
     "output_type": "display_data"
    },
    {
     "data": {
      "text/html": [
       "<pre>recommendations finished on 45000/96226 queries. users per second: 4764.38</pre>"
      ],
      "text/plain": [
       "recommendations finished on 45000/96226 queries. users per second: 4764.38"
      ]
     },
     "metadata": {},
     "output_type": "display_data"
    },
    {
     "data": {
      "text/html": [
       "<pre>recommendations finished on 46000/96226 queries. users per second: 4768.72</pre>"
      ],
      "text/plain": [
       "recommendations finished on 46000/96226 queries. users per second: 4768.72"
      ]
     },
     "metadata": {},
     "output_type": "display_data"
    },
    {
     "data": {
      "text/html": [
       "<pre>recommendations finished on 47000/96226 queries. users per second: 4773.1</pre>"
      ],
      "text/plain": [
       "recommendations finished on 47000/96226 queries. users per second: 4773.1"
      ]
     },
     "metadata": {},
     "output_type": "display_data"
    },
    {
     "data": {
      "text/html": [
       "<pre>recommendations finished on 48000/96226 queries. users per second: 4777</pre>"
      ],
      "text/plain": [
       "recommendations finished on 48000/96226 queries. users per second: 4777"
      ]
     },
     "metadata": {},
     "output_type": "display_data"
    },
    {
     "data": {
      "text/html": [
       "<pre>recommendations finished on 49000/96226 queries. users per second: 4781.14</pre>"
      ],
      "text/plain": [
       "recommendations finished on 49000/96226 queries. users per second: 4781.14"
      ]
     },
     "metadata": {},
     "output_type": "display_data"
    },
    {
     "data": {
      "text/html": [
       "<pre>recommendations finished on 50000/96226 queries. users per second: 4745.02</pre>"
      ],
      "text/plain": [
       "recommendations finished on 50000/96226 queries. users per second: 4745.02"
      ]
     },
     "metadata": {},
     "output_type": "display_data"
    },
    {
     "data": {
      "text/html": [
       "<pre>recommendations finished on 51000/96226 queries. users per second: 4748.83</pre>"
      ],
      "text/plain": [
       "recommendations finished on 51000/96226 queries. users per second: 4748.83"
      ]
     },
     "metadata": {},
     "output_type": "display_data"
    },
    {
     "data": {
      "text/html": [
       "<pre>recommendations finished on 52000/96226 queries. users per second: 4753.19</pre>"
      ],
      "text/plain": [
       "recommendations finished on 52000/96226 queries. users per second: 4753.19"
      ]
     },
     "metadata": {},
     "output_type": "display_data"
    },
    {
     "data": {
      "text/html": [
       "<pre>recommendations finished on 53000/96226 queries. users per second: 4757.49</pre>"
      ],
      "text/plain": [
       "recommendations finished on 53000/96226 queries. users per second: 4757.49"
      ]
     },
     "metadata": {},
     "output_type": "display_data"
    },
    {
     "data": {
      "text/html": [
       "<pre>recommendations finished on 54000/96226 queries. users per second: 4761.59</pre>"
      ],
      "text/plain": [
       "recommendations finished on 54000/96226 queries. users per second: 4761.59"
      ]
     },
     "metadata": {},
     "output_type": "display_data"
    },
    {
     "data": {
      "text/html": [
       "<pre>recommendations finished on 55000/96226 queries. users per second: 4765.35</pre>"
      ],
      "text/plain": [
       "recommendations finished on 55000/96226 queries. users per second: 4765.35"
      ]
     },
     "metadata": {},
     "output_type": "display_data"
    },
    {
     "data": {
      "text/html": [
       "<pre>recommendations finished on 56000/96226 queries. users per second: 4768.94</pre>"
      ],
      "text/plain": [
       "recommendations finished on 56000/96226 queries. users per second: 4768.94"
      ]
     },
     "metadata": {},
     "output_type": "display_data"
    },
    {
     "data": {
      "text/html": [
       "<pre>recommendations finished on 57000/96226 queries. users per second: 4772.48</pre>"
      ],
      "text/plain": [
       "recommendations finished on 57000/96226 queries. users per second: 4772.48"
      ]
     },
     "metadata": {},
     "output_type": "display_data"
    },
    {
     "data": {
      "text/html": [
       "<pre>recommendations finished on 58000/96226 queries. users per second: 4775.83</pre>"
      ],
      "text/plain": [
       "recommendations finished on 58000/96226 queries. users per second: 4775.83"
      ]
     },
     "metadata": {},
     "output_type": "display_data"
    },
    {
     "data": {
      "text/html": [
       "<pre>recommendations finished on 59000/96226 queries. users per second: 4779.21</pre>"
      ],
      "text/plain": [
       "recommendations finished on 59000/96226 queries. users per second: 4779.21"
      ]
     },
     "metadata": {},
     "output_type": "display_data"
    },
    {
     "data": {
      "text/html": [
       "<pre>recommendations finished on 60000/96226 queries. users per second: 4782.4</pre>"
      ],
      "text/plain": [
       "recommendations finished on 60000/96226 queries. users per second: 4782.4"
      ]
     },
     "metadata": {},
     "output_type": "display_data"
    },
    {
     "data": {
      "text/html": [
       "<pre>recommendations finished on 61000/96226 queries. users per second: 4785.42</pre>"
      ],
      "text/plain": [
       "recommendations finished on 61000/96226 queries. users per second: 4785.42"
      ]
     },
     "metadata": {},
     "output_type": "display_data"
    },
    {
     "data": {
      "text/html": [
       "<pre>recommendations finished on 62000/96226 queries. users per second: 4788.41</pre>"
      ],
      "text/plain": [
       "recommendations finished on 62000/96226 queries. users per second: 4788.41"
      ]
     },
     "metadata": {},
     "output_type": "display_data"
    },
    {
     "data": {
      "text/html": [
       "<pre>recommendations finished on 63000/96226 queries. users per second: 4791.36</pre>"
      ],
      "text/plain": [
       "recommendations finished on 63000/96226 queries. users per second: 4791.36"
      ]
     },
     "metadata": {},
     "output_type": "display_data"
    },
    {
     "data": {
      "text/html": [
       "<pre>recommendations finished on 64000/96226 queries. users per second: 4794.1</pre>"
      ],
      "text/plain": [
       "recommendations finished on 64000/96226 queries. users per second: 4794.1"
      ]
     },
     "metadata": {},
     "output_type": "display_data"
    },
    {
     "data": {
      "text/html": [
       "<pre>recommendations finished on 65000/96226 queries. users per second: 4766.34</pre>"
      ],
      "text/plain": [
       "recommendations finished on 65000/96226 queries. users per second: 4766.34"
      ]
     },
     "metadata": {},
     "output_type": "display_data"
    },
    {
     "data": {
      "text/html": [
       "<pre>recommendations finished on 66000/96226 queries. users per second: 4769.29</pre>"
      ],
      "text/plain": [
       "recommendations finished on 66000/96226 queries. users per second: 4769.29"
      ]
     },
     "metadata": {},
     "output_type": "display_data"
    },
    {
     "data": {
      "text/html": [
       "<pre>recommendations finished on 67000/96226 queries. users per second: 4771.67</pre>"
      ],
      "text/plain": [
       "recommendations finished on 67000/96226 queries. users per second: 4771.67"
      ]
     },
     "metadata": {},
     "output_type": "display_data"
    },
    {
     "data": {
      "text/html": [
       "<pre>recommendations finished on 68000/96226 queries. users per second: 4771.01</pre>"
      ],
      "text/plain": [
       "recommendations finished on 68000/96226 queries. users per second: 4771.01"
      ]
     },
     "metadata": {},
     "output_type": "display_data"
    },
    {
     "data": {
      "text/html": [
       "<pre>recommendations finished on 69000/96226 queries. users per second: 4745.13</pre>"
      ],
      "text/plain": [
       "recommendations finished on 69000/96226 queries. users per second: 4745.13"
      ]
     },
     "metadata": {},
     "output_type": "display_data"
    },
    {
     "data": {
      "text/html": [
       "<pre>recommendations finished on 70000/96226 queries. users per second: 4747.28</pre>"
      ],
      "text/plain": [
       "recommendations finished on 70000/96226 queries. users per second: 4747.28"
      ]
     },
     "metadata": {},
     "output_type": "display_data"
    },
    {
     "data": {
      "text/html": [
       "<pre>recommendations finished on 71000/96226 queries. users per second: 4750.08</pre>"
      ],
      "text/plain": [
       "recommendations finished on 71000/96226 queries. users per second: 4750.08"
      ]
     },
     "metadata": {},
     "output_type": "display_data"
    },
    {
     "data": {
      "text/html": [
       "<pre>recommendations finished on 72000/96226 queries. users per second: 4752.32</pre>"
      ],
      "text/plain": [
       "recommendations finished on 72000/96226 queries. users per second: 4752.32"
      ]
     },
     "metadata": {},
     "output_type": "display_data"
    },
    {
     "data": {
      "text/html": [
       "<pre>recommendations finished on 73000/96226 queries. users per second: 4728.77</pre>"
      ],
      "text/plain": [
       "recommendations finished on 73000/96226 queries. users per second: 4728.77"
      ]
     },
     "metadata": {},
     "output_type": "display_data"
    },
    {
     "data": {
      "text/html": [
       "<pre>recommendations finished on 74000/96226 queries. users per second: 4731.96</pre>"
      ],
      "text/plain": [
       "recommendations finished on 74000/96226 queries. users per second: 4731.96"
      ]
     },
     "metadata": {},
     "output_type": "display_data"
    },
    {
     "data": {
      "text/html": [
       "<pre>recommendations finished on 75000/96226 queries. users per second: 4735.1</pre>"
      ],
      "text/plain": [
       "recommendations finished on 75000/96226 queries. users per second: 4735.1"
      ]
     },
     "metadata": {},
     "output_type": "display_data"
    },
    {
     "data": {
      "text/html": [
       "<pre>recommendations finished on 76000/96226 queries. users per second: 4738.37</pre>"
      ],
      "text/plain": [
       "recommendations finished on 76000/96226 queries. users per second: 4738.37"
      ]
     },
     "metadata": {},
     "output_type": "display_data"
    },
    {
     "data": {
      "text/html": [
       "<pre>recommendations finished on 77000/96226 queries. users per second: 4741.32</pre>"
      ],
      "text/plain": [
       "recommendations finished on 77000/96226 queries. users per second: 4741.32"
      ]
     },
     "metadata": {},
     "output_type": "display_data"
    },
    {
     "data": {
      "text/html": [
       "<pre>recommendations finished on 78000/96226 queries. users per second: 4744.04</pre>"
      ],
      "text/plain": [
       "recommendations finished on 78000/96226 queries. users per second: 4744.04"
      ]
     },
     "metadata": {},
     "output_type": "display_data"
    },
    {
     "data": {
      "text/html": [
       "<pre>recommendations finished on 79000/96226 queries. users per second: 4746.78</pre>"
      ],
      "text/plain": [
       "recommendations finished on 79000/96226 queries. users per second: 4746.78"
      ]
     },
     "metadata": {},
     "output_type": "display_data"
    },
    {
     "data": {
      "text/html": [
       "<pre>recommendations finished on 80000/96226 queries. users per second: 4749.75</pre>"
      ],
      "text/plain": [
       "recommendations finished on 80000/96226 queries. users per second: 4749.75"
      ]
     },
     "metadata": {},
     "output_type": "display_data"
    },
    {
     "data": {
      "text/html": [
       "<pre>recommendations finished on 81000/96226 queries. users per second: 4752.4</pre>"
      ],
      "text/plain": [
       "recommendations finished on 81000/96226 queries. users per second: 4752.4"
      ]
     },
     "metadata": {},
     "output_type": "display_data"
    },
    {
     "data": {
      "text/html": [
       "<pre>recommendations finished on 82000/96226 queries. users per second: 4755.34</pre>"
      ],
      "text/plain": [
       "recommendations finished on 82000/96226 queries. users per second: 4755.34"
      ]
     },
     "metadata": {},
     "output_type": "display_data"
    },
    {
     "data": {
      "text/html": [
       "<pre>recommendations finished on 83000/96226 queries. users per second: 4757.85</pre>"
      ],
      "text/plain": [
       "recommendations finished on 83000/96226 queries. users per second: 4757.85"
      ]
     },
     "metadata": {},
     "output_type": "display_data"
    },
    {
     "data": {
      "text/html": [
       "<pre>recommendations finished on 84000/96226 queries. users per second: 4760.56</pre>"
      ],
      "text/plain": [
       "recommendations finished on 84000/96226 queries. users per second: 4760.56"
      ]
     },
     "metadata": {},
     "output_type": "display_data"
    },
    {
     "data": {
      "text/html": [
       "<pre>recommendations finished on 85000/96226 queries. users per second: 4763.16</pre>"
      ],
      "text/plain": [
       "recommendations finished on 85000/96226 queries. users per second: 4763.16"
      ]
     },
     "metadata": {},
     "output_type": "display_data"
    },
    {
     "data": {
      "text/html": [
       "<pre>recommendations finished on 86000/96226 queries. users per second: 4765.72</pre>"
      ],
      "text/plain": [
       "recommendations finished on 86000/96226 queries. users per second: 4765.72"
      ]
     },
     "metadata": {},
     "output_type": "display_data"
    },
    {
     "data": {
      "text/html": [
       "<pre>recommendations finished on 87000/96226 queries. users per second: 4768.18</pre>"
      ],
      "text/plain": [
       "recommendations finished on 87000/96226 queries. users per second: 4768.18"
      ]
     },
     "metadata": {},
     "output_type": "display_data"
    },
    {
     "data": {
      "text/html": [
       "<pre>recommendations finished on 88000/96226 queries. users per second: 4770.52</pre>"
      ],
      "text/plain": [
       "recommendations finished on 88000/96226 queries. users per second: 4770.52"
      ]
     },
     "metadata": {},
     "output_type": "display_data"
    },
    {
     "data": {
      "text/html": [
       "<pre>recommendations finished on 89000/96226 queries. users per second: 4772.74</pre>"
      ],
      "text/plain": [
       "recommendations finished on 89000/96226 queries. users per second: 4772.74"
      ]
     },
     "metadata": {},
     "output_type": "display_data"
    },
    {
     "data": {
      "text/html": [
       "<pre>recommendations finished on 90000/96226 queries. users per second: 4775.22</pre>"
      ],
      "text/plain": [
       "recommendations finished on 90000/96226 queries. users per second: 4775.22"
      ]
     },
     "metadata": {},
     "output_type": "display_data"
    },
    {
     "data": {
      "text/html": [
       "<pre>recommendations finished on 91000/96226 queries. users per second: 4777.27</pre>"
      ],
      "text/plain": [
       "recommendations finished on 91000/96226 queries. users per second: 4777.27"
      ]
     },
     "metadata": {},
     "output_type": "display_data"
    },
    {
     "data": {
      "text/html": [
       "<pre>recommendations finished on 92000/96226 queries. users per second: 4779.24</pre>"
      ],
      "text/plain": [
       "recommendations finished on 92000/96226 queries. users per second: 4779.24"
      ]
     },
     "metadata": {},
     "output_type": "display_data"
    },
    {
     "data": {
      "text/html": [
       "<pre>recommendations finished on 93000/96226 queries. users per second: 4781.08</pre>"
      ],
      "text/plain": [
       "recommendations finished on 93000/96226 queries. users per second: 4781.08"
      ]
     },
     "metadata": {},
     "output_type": "display_data"
    },
    {
     "data": {
      "text/html": [
       "<pre>recommendations finished on 94000/96226 queries. users per second: 4783.55</pre>"
      ],
      "text/plain": [
       "recommendations finished on 94000/96226 queries. users per second: 4783.55"
      ]
     },
     "metadata": {},
     "output_type": "display_data"
    },
    {
     "data": {
      "text/html": [
       "<pre>recommendations finished on 95000/96226 queries. users per second: 4785.3</pre>"
      ],
      "text/plain": [
       "recommendations finished on 95000/96226 queries. users per second: 4785.3"
      ]
     },
     "metadata": {},
     "output_type": "display_data"
    },
    {
     "data": {
      "text/html": [
       "<pre>recommendations finished on 96000/96226 queries. users per second: 4783.75</pre>"
      ],
      "text/plain": [
       "recommendations finished on 96000/96226 queries. users per second: 4783.75"
      ]
     },
     "metadata": {},
     "output_type": "display_data"
    },
    {
     "name": "stdout",
     "output_type": "stream",
     "text": [
      "\n",
      "Precision and recall summary statistics by cutoff\n",
      "+--------+-------------------+-------------------+\n",
      "| cutoff |   mean_precision  |    mean_recall    |\n",
      "+--------+-------------------+-------------------+\n",
      "|   1    | 1.03922016919e-05 | 1.03922016919e-05 |\n",
      "|   2    | 1.55883025378e-05 | 1.13664706005e-05 |\n",
      "|   3    | 1.38562689225e-05 | 1.39645210234e-05 |\n",
      "|   4    | 1.29902521148e-05 | 2.43567227153e-05 |\n",
      "|   5    | 1.03922016919e-05 | 2.43567227153e-05 |\n",
      "|   6    | 8.66016807654e-06 | 2.43567227153e-05 |\n",
      "|   7    | 7.42300120846e-06 | 2.43567227153e-05 |\n",
      "|   8    | 6.49512605741e-06 | 2.43567227153e-05 |\n",
      "|   9    | 6.92813446123e-06 | 2.60887563306e-05 |\n",
      "|   10   | 6.23532101511e-06 | 2.60887563306e-05 |\n",
      "+--------+-------------------+-------------------+\n",
      "[10 rows x 3 columns]\n",
      "\n",
      "PROGRESS: Evaluate model M2\n"
     ]
    },
    {
     "data": {
      "text/html": [
       "<pre>recommendations finished on 1000/96226 queries. users per second: 614.855</pre>"
      ],
      "text/plain": [
       "recommendations finished on 1000/96226 queries. users per second: 614.855"
      ]
     },
     "metadata": {},
     "output_type": "display_data"
    },
    {
     "data": {
      "text/html": [
       "<pre>recommendations finished on 2000/96226 queries. users per second: 618.228</pre>"
      ],
      "text/plain": [
       "recommendations finished on 2000/96226 queries. users per second: 618.228"
      ]
     },
     "metadata": {},
     "output_type": "display_data"
    },
    {
     "data": {
      "text/html": [
       "<pre>recommendations finished on 3000/96226 queries. users per second: 621.177</pre>"
      ],
      "text/plain": [
       "recommendations finished on 3000/96226 queries. users per second: 621.177"
      ]
     },
     "metadata": {},
     "output_type": "display_data"
    },
    {
     "data": {
      "text/html": [
       "<pre>recommendations finished on 4000/96226 queries. users per second: 613.108</pre>"
      ],
      "text/plain": [
       "recommendations finished on 4000/96226 queries. users per second: 613.108"
      ]
     },
     "metadata": {},
     "output_type": "display_data"
    },
    {
     "data": {
      "text/html": [
       "<pre>recommendations finished on 5000/96226 queries. users per second: 622.615</pre>"
      ],
      "text/plain": [
       "recommendations finished on 5000/96226 queries. users per second: 622.615"
      ]
     },
     "metadata": {},
     "output_type": "display_data"
    },
    {
     "data": {
      "text/html": [
       "<pre>recommendations finished on 6000/96226 queries. users per second: 616.413</pre>"
      ],
      "text/plain": [
       "recommendations finished on 6000/96226 queries. users per second: 616.413"
      ]
     },
     "metadata": {},
     "output_type": "display_data"
    },
    {
     "data": {
      "text/html": [
       "<pre>recommendations finished on 7000/96226 queries. users per second: 607.387</pre>"
      ],
      "text/plain": [
       "recommendations finished on 7000/96226 queries. users per second: 607.387"
      ]
     },
     "metadata": {},
     "output_type": "display_data"
    },
    {
     "data": {
      "text/html": [
       "<pre>recommendations finished on 8000/96226 queries. users per second: 609.643</pre>"
      ],
      "text/plain": [
       "recommendations finished on 8000/96226 queries. users per second: 609.643"
      ]
     },
     "metadata": {},
     "output_type": "display_data"
    },
    {
     "data": {
      "text/html": [
       "<pre>recommendations finished on 9000/96226 queries. users per second: 611.126</pre>"
      ],
      "text/plain": [
       "recommendations finished on 9000/96226 queries. users per second: 611.126"
      ]
     },
     "metadata": {},
     "output_type": "display_data"
    },
    {
     "data": {
      "text/html": [
       "<pre>recommendations finished on 10000/96226 queries. users per second: 608.831</pre>"
      ],
      "text/plain": [
       "recommendations finished on 10000/96226 queries. users per second: 608.831"
      ]
     },
     "metadata": {},
     "output_type": "display_data"
    },
    {
     "data": {
      "text/html": [
       "<pre>recommendations finished on 11000/96226 queries. users per second: 606.917</pre>"
      ],
      "text/plain": [
       "recommendations finished on 11000/96226 queries. users per second: 606.917"
      ]
     },
     "metadata": {},
     "output_type": "display_data"
    },
    {
     "data": {
      "text/html": [
       "<pre>recommendations finished on 12000/96226 queries. users per second: 605.127</pre>"
      ],
      "text/plain": [
       "recommendations finished on 12000/96226 queries. users per second: 605.127"
      ]
     },
     "metadata": {},
     "output_type": "display_data"
    },
    {
     "data": {
      "text/html": [
       "<pre>recommendations finished on 13000/96226 queries. users per second: 603.641</pre>"
      ],
      "text/plain": [
       "recommendations finished on 13000/96226 queries. users per second: 603.641"
      ]
     },
     "metadata": {},
     "output_type": "display_data"
    },
    {
     "data": {
      "text/html": [
       "<pre>recommendations finished on 14000/96226 queries. users per second: 602.484</pre>"
      ],
      "text/plain": [
       "recommendations finished on 14000/96226 queries. users per second: 602.484"
      ]
     },
     "metadata": {},
     "output_type": "display_data"
    },
    {
     "data": {
      "text/html": [
       "<pre>recommendations finished on 15000/96226 queries. users per second: 604.08</pre>"
      ],
      "text/plain": [
       "recommendations finished on 15000/96226 queries. users per second: 604.08"
      ]
     },
     "metadata": {},
     "output_type": "display_data"
    },
    {
     "data": {
      "text/html": [
       "<pre>recommendations finished on 16000/96226 queries. users per second: 603.21</pre>"
      ],
      "text/plain": [
       "recommendations finished on 16000/96226 queries. users per second: 603.21"
      ]
     },
     "metadata": {},
     "output_type": "display_data"
    },
    {
     "data": {
      "text/html": [
       "<pre>recommendations finished on 17000/96226 queries. users per second: 604.463</pre>"
      ],
      "text/plain": [
       "recommendations finished on 17000/96226 queries. users per second: 604.463"
      ]
     },
     "metadata": {},
     "output_type": "display_data"
    },
    {
     "data": {
      "text/html": [
       "<pre>recommendations finished on 18000/96226 queries. users per second: 607.394</pre>"
      ],
      "text/plain": [
       "recommendations finished on 18000/96226 queries. users per second: 607.394"
      ]
     },
     "metadata": {},
     "output_type": "display_data"
    },
    {
     "data": {
      "text/html": [
       "<pre>recommendations finished on 19000/96226 queries. users per second: 608.303</pre>"
      ],
      "text/plain": [
       "recommendations finished on 19000/96226 queries. users per second: 608.303"
      ]
     },
     "metadata": {},
     "output_type": "display_data"
    },
    {
     "data": {
      "text/html": [
       "<pre>recommendations finished on 20000/96226 queries. users per second: 611.001</pre>"
      ],
      "text/plain": [
       "recommendations finished on 20000/96226 queries. users per second: 611.001"
      ]
     },
     "metadata": {},
     "output_type": "display_data"
    },
    {
     "data": {
      "text/html": [
       "<pre>recommendations finished on 21000/96226 queries. users per second: 611.753</pre>"
      ],
      "text/plain": [
       "recommendations finished on 21000/96226 queries. users per second: 611.753"
      ]
     },
     "metadata": {},
     "output_type": "display_data"
    },
    {
     "data": {
      "text/html": [
       "<pre>recommendations finished on 22000/96226 queries. users per second: 612.417</pre>"
      ],
      "text/plain": [
       "recommendations finished on 22000/96226 queries. users per second: 612.417"
      ]
     },
     "metadata": {},
     "output_type": "display_data"
    },
    {
     "data": {
      "text/html": [
       "<pre>recommendations finished on 23000/96226 queries. users per second: 612.706</pre>"
      ],
      "text/plain": [
       "recommendations finished on 23000/96226 queries. users per second: 612.706"
      ]
     },
     "metadata": {},
     "output_type": "display_data"
    },
    {
     "data": {
      "text/html": [
       "<pre>recommendations finished on 24000/96226 queries. users per second: 608.764</pre>"
      ],
      "text/plain": [
       "recommendations finished on 24000/96226 queries. users per second: 608.764"
      ]
     },
     "metadata": {},
     "output_type": "display_data"
    },
    {
     "data": {
      "text/html": [
       "<pre>recommendations finished on 25000/96226 queries. users per second: 606.368</pre>"
      ],
      "text/plain": [
       "recommendations finished on 25000/96226 queries. users per second: 606.368"
      ]
     },
     "metadata": {},
     "output_type": "display_data"
    },
    {
     "data": {
      "text/html": [
       "<pre>recommendations finished on 26000/96226 queries. users per second: 604.175</pre>"
      ],
      "text/plain": [
       "recommendations finished on 26000/96226 queries. users per second: 604.175"
      ]
     },
     "metadata": {},
     "output_type": "display_data"
    },
    {
     "data": {
      "text/html": [
       "<pre>recommendations finished on 27000/96226 queries. users per second: 602.247</pre>"
      ],
      "text/plain": [
       "recommendations finished on 27000/96226 queries. users per second: 602.247"
      ]
     },
     "metadata": {},
     "output_type": "display_data"
    },
    {
     "data": {
      "text/html": [
       "<pre>recommendations finished on 28000/96226 queries. users per second: 603.039</pre>"
      ],
      "text/plain": [
       "recommendations finished on 28000/96226 queries. users per second: 603.039"
      ]
     },
     "metadata": {},
     "output_type": "display_data"
    },
    {
     "data": {
      "text/html": [
       "<pre>recommendations finished on 29000/96226 queries. users per second: 603.818</pre>"
      ],
      "text/plain": [
       "recommendations finished on 29000/96226 queries. users per second: 603.818"
      ]
     },
     "metadata": {},
     "output_type": "display_data"
    },
    {
     "data": {
      "text/html": [
       "<pre>recommendations finished on 30000/96226 queries. users per second: 603.203</pre>"
      ],
      "text/plain": [
       "recommendations finished on 30000/96226 queries. users per second: 603.203"
      ]
     },
     "metadata": {},
     "output_type": "display_data"
    },
    {
     "data": {
      "text/html": [
       "<pre>recommendations finished on 31000/96226 queries. users per second: 602.716</pre>"
      ],
      "text/plain": [
       "recommendations finished on 31000/96226 queries. users per second: 602.716"
      ]
     },
     "metadata": {},
     "output_type": "display_data"
    },
    {
     "data": {
      "text/html": [
       "<pre>recommendations finished on 32000/96226 queries. users per second: 601.184</pre>"
      ],
      "text/plain": [
       "recommendations finished on 32000/96226 queries. users per second: 601.184"
      ]
     },
     "metadata": {},
     "output_type": "display_data"
    },
    {
     "data": {
      "text/html": [
       "<pre>recommendations finished on 33000/96226 queries. users per second: 600.785</pre>"
      ],
      "text/plain": [
       "recommendations finished on 33000/96226 queries. users per second: 600.785"
      ]
     },
     "metadata": {},
     "output_type": "display_data"
    },
    {
     "data": {
      "text/html": [
       "<pre>recommendations finished on 34000/96226 queries. users per second: 600.435</pre>"
      ],
      "text/plain": [
       "recommendations finished on 34000/96226 queries. users per second: 600.435"
      ]
     },
     "metadata": {},
     "output_type": "display_data"
    },
    {
     "data": {
      "text/html": [
       "<pre>recommendations finished on 35000/96226 queries. users per second: 601.082</pre>"
      ],
      "text/plain": [
       "recommendations finished on 35000/96226 queries. users per second: 601.082"
      ]
     },
     "metadata": {},
     "output_type": "display_data"
    },
    {
     "data": {
      "text/html": [
       "<pre>recommendations finished on 36000/96226 queries. users per second: 600.773</pre>"
      ],
      "text/plain": [
       "recommendations finished on 36000/96226 queries. users per second: 600.773"
      ]
     },
     "metadata": {},
     "output_type": "display_data"
    },
    {
     "data": {
      "text/html": [
       "<pre>recommendations finished on 37000/96226 queries. users per second: 600.314</pre>"
      ],
      "text/plain": [
       "recommendations finished on 37000/96226 queries. users per second: 600.314"
      ]
     },
     "metadata": {},
     "output_type": "display_data"
    },
    {
     "data": {
      "text/html": [
       "<pre>recommendations finished on 38000/96226 queries. users per second: 599.084</pre>"
      ],
      "text/plain": [
       "recommendations finished on 38000/96226 queries. users per second: 599.084"
      ]
     },
     "metadata": {},
     "output_type": "display_data"
    },
    {
     "data": {
      "text/html": [
       "<pre>recommendations finished on 39000/96226 queries. users per second: 598.74</pre>"
      ],
      "text/plain": [
       "recommendations finished on 39000/96226 queries. users per second: 598.74"
      ]
     },
     "metadata": {},
     "output_type": "display_data"
    },
    {
     "data": {
      "text/html": [
       "<pre>recommendations finished on 40000/96226 queries. users per second: 597.693</pre>"
      ],
      "text/plain": [
       "recommendations finished on 40000/96226 queries. users per second: 597.693"
      ]
     },
     "metadata": {},
     "output_type": "display_data"
    },
    {
     "data": {
      "text/html": [
       "<pre>recommendations finished on 41000/96226 queries. users per second: 597.403</pre>"
      ],
      "text/plain": [
       "recommendations finished on 41000/96226 queries. users per second: 597.403"
      ]
     },
     "metadata": {},
     "output_type": "display_data"
    },
    {
     "data": {
      "text/html": [
       "<pre>recommendations finished on 42000/96226 queries. users per second: 596.398</pre>"
      ],
      "text/plain": [
       "recommendations finished on 42000/96226 queries. users per second: 596.398"
      ]
     },
     "metadata": {},
     "output_type": "display_data"
    },
    {
     "data": {
      "text/html": [
       "<pre>recommendations finished on 43000/96226 queries. users per second: 596.923</pre>"
      ],
      "text/plain": [
       "recommendations finished on 43000/96226 queries. users per second: 596.923"
      ]
     },
     "metadata": {},
     "output_type": "display_data"
    },
    {
     "data": {
      "text/html": [
       "<pre>recommendations finished on 44000/96226 queries. users per second: 595.186</pre>"
      ],
      "text/plain": [
       "recommendations finished on 44000/96226 queries. users per second: 595.186"
      ]
     },
     "metadata": {},
     "output_type": "display_data"
    },
    {
     "data": {
      "text/html": [
       "<pre>recommendations finished on 45000/96226 queries. users per second: 594.987</pre>"
      ],
      "text/plain": [
       "recommendations finished on 45000/96226 queries. users per second: 594.987"
      ]
     },
     "metadata": {},
     "output_type": "display_data"
    },
    {
     "data": {
      "text/html": [
       "<pre>recommendations finished on 46000/96226 queries. users per second: 594.858</pre>"
      ],
      "text/plain": [
       "recommendations finished on 46000/96226 queries. users per second: 594.858"
      ]
     },
     "metadata": {},
     "output_type": "display_data"
    },
    {
     "data": {
      "text/html": [
       "<pre>recommendations finished on 47000/96226 queries. users per second: 594.696</pre>"
      ],
      "text/plain": [
       "recommendations finished on 47000/96226 queries. users per second: 594.696"
      ]
     },
     "metadata": {},
     "output_type": "display_data"
    },
    {
     "data": {
      "text/html": [
       "<pre>recommendations finished on 48000/96226 queries. users per second: 595.307</pre>"
      ],
      "text/plain": [
       "recommendations finished on 48000/96226 queries. users per second: 595.307"
      ]
     },
     "metadata": {},
     "output_type": "display_data"
    },
    {
     "data": {
      "text/html": [
       "<pre>recommendations finished on 49000/96226 queries. users per second: 595.923</pre>"
      ],
      "text/plain": [
       "recommendations finished on 49000/96226 queries. users per second: 595.923"
      ]
     },
     "metadata": {},
     "output_type": "display_data"
    },
    {
     "data": {
      "text/html": [
       "<pre>recommendations finished on 50000/96226 queries. users per second: 597.184</pre>"
      ],
      "text/plain": [
       "recommendations finished on 50000/96226 queries. users per second: 597.184"
      ]
     },
     "metadata": {},
     "output_type": "display_data"
    },
    {
     "data": {
      "text/html": [
       "<pre>recommendations finished on 51000/96226 queries. users per second: 598.331</pre>"
      ],
      "text/plain": [
       "recommendations finished on 51000/96226 queries. users per second: 598.331"
      ]
     },
     "metadata": {},
     "output_type": "display_data"
    },
    {
     "data": {
      "text/html": [
       "<pre>recommendations finished on 52000/96226 queries. users per second: 598.235</pre>"
      ],
      "text/plain": [
       "recommendations finished on 52000/96226 queries. users per second: 598.235"
      ]
     },
     "metadata": {},
     "output_type": "display_data"
    },
    {
     "data": {
      "text/html": [
       "<pre>recommendations finished on 53000/96226 queries. users per second: 598.7</pre>"
      ],
      "text/plain": [
       "recommendations finished on 53000/96226 queries. users per second: 598.7"
      ]
     },
     "metadata": {},
     "output_type": "display_data"
    },
    {
     "data": {
      "text/html": [
       "<pre>recommendations finished on 54000/96226 queries. users per second: 599.162</pre>"
      ],
      "text/plain": [
       "recommendations finished on 54000/96226 queries. users per second: 599.162"
      ]
     },
     "metadata": {},
     "output_type": "display_data"
    },
    {
     "data": {
      "text/html": [
       "<pre>recommendations finished on 55000/96226 queries. users per second: 599.63</pre>"
      ],
      "text/plain": [
       "recommendations finished on 55000/96226 queries. users per second: 599.63"
      ]
     },
     "metadata": {},
     "output_type": "display_data"
    },
    {
     "data": {
      "text/html": [
       "<pre>recommendations finished on 56000/96226 queries. users per second: 600.692</pre>"
      ],
      "text/plain": [
       "recommendations finished on 56000/96226 queries. users per second: 600.692"
      ]
     },
     "metadata": {},
     "output_type": "display_data"
    },
    {
     "data": {
      "text/html": [
       "<pre>recommendations finished on 57000/96226 queries. users per second: 601.065</pre>"
      ],
      "text/plain": [
       "recommendations finished on 57000/96226 queries. users per second: 601.065"
      ]
     },
     "metadata": {},
     "output_type": "display_data"
    },
    {
     "data": {
      "text/html": [
       "<pre>recommendations finished on 58000/96226 queries. users per second: 601.426</pre>"
      ],
      "text/plain": [
       "recommendations finished on 58000/96226 queries. users per second: 601.426"
      ]
     },
     "metadata": {},
     "output_type": "display_data"
    },
    {
     "data": {
      "text/html": [
       "<pre>recommendations finished on 59000/96226 queries. users per second: 601.834</pre>"
      ],
      "text/plain": [
       "recommendations finished on 59000/96226 queries. users per second: 601.834"
      ]
     },
     "metadata": {},
     "output_type": "display_data"
    },
    {
     "data": {
      "text/html": [
       "<pre>recommendations finished on 60000/96226 queries. users per second: 602.279</pre>"
      ],
      "text/plain": [
       "recommendations finished on 60000/96226 queries. users per second: 602.279"
      ]
     },
     "metadata": {},
     "output_type": "display_data"
    },
    {
     "data": {
      "text/html": [
       "<pre>recommendations finished on 61000/96226 queries. users per second: 602.587</pre>"
      ],
      "text/plain": [
       "recommendations finished on 61000/96226 queries. users per second: 602.587"
      ]
     },
     "metadata": {},
     "output_type": "display_data"
    },
    {
     "data": {
      "text/html": [
       "<pre>recommendations finished on 62000/96226 queries. users per second: 603.493</pre>"
      ],
      "text/plain": [
       "recommendations finished on 62000/96226 queries. users per second: 603.493"
      ]
     },
     "metadata": {},
     "output_type": "display_data"
    },
    {
     "data": {
      "text/html": [
       "<pre>recommendations finished on 63000/96226 queries. users per second: 604.961</pre>"
      ],
      "text/plain": [
       "recommendations finished on 63000/96226 queries. users per second: 604.961"
      ]
     },
     "metadata": {},
     "output_type": "display_data"
    },
    {
     "data": {
      "text/html": [
       "<pre>recommendations finished on 64000/96226 queries. users per second: 605.86</pre>"
      ],
      "text/plain": [
       "recommendations finished on 64000/96226 queries. users per second: 605.86"
      ]
     },
     "metadata": {},
     "output_type": "display_data"
    },
    {
     "data": {
      "text/html": [
       "<pre>recommendations finished on 65000/96226 queries. users per second: 606.731</pre>"
      ],
      "text/plain": [
       "recommendations finished on 65000/96226 queries. users per second: 606.731"
      ]
     },
     "metadata": {},
     "output_type": "display_data"
    },
    {
     "data": {
      "text/html": [
       "<pre>recommendations finished on 66000/96226 queries. users per second: 607.022</pre>"
      ],
      "text/plain": [
       "recommendations finished on 66000/96226 queries. users per second: 607.022"
      ]
     },
     "metadata": {},
     "output_type": "display_data"
    },
    {
     "data": {
      "text/html": [
       "<pre>recommendations finished on 67000/96226 queries. users per second: 607.278</pre>"
      ],
      "text/plain": [
       "recommendations finished on 67000/96226 queries. users per second: 607.278"
      ]
     },
     "metadata": {},
     "output_type": "display_data"
    },
    {
     "data": {
      "text/html": [
       "<pre>recommendations finished on 68000/96226 queries. users per second: 608.047</pre>"
      ],
      "text/plain": [
       "recommendations finished on 68000/96226 queries. users per second: 608.047"
      ]
     },
     "metadata": {},
     "output_type": "display_data"
    },
    {
     "data": {
      "text/html": [
       "<pre>recommendations finished on 69000/96226 queries. users per second: 608.824</pre>"
      ],
      "text/plain": [
       "recommendations finished on 69000/96226 queries. users per second: 608.824"
      ]
     },
     "metadata": {},
     "output_type": "display_data"
    },
    {
     "data": {
      "text/html": [
       "<pre>recommendations finished on 70000/96226 queries. users per second: 610.09</pre>"
      ],
      "text/plain": [
       "recommendations finished on 70000/96226 queries. users per second: 610.09"
      ]
     },
     "metadata": {},
     "output_type": "display_data"
    },
    {
     "data": {
      "text/html": [
       "<pre>recommendations finished on 71000/96226 queries. users per second: 610.868</pre>"
      ],
      "text/plain": [
       "recommendations finished on 71000/96226 queries. users per second: 610.868"
      ]
     },
     "metadata": {},
     "output_type": "display_data"
    },
    {
     "data": {
      "text/html": [
       "<pre>recommendations finished on 72000/96226 queries. users per second: 612.05</pre>"
      ],
      "text/plain": [
       "recommendations finished on 72000/96226 queries. users per second: 612.05"
      ]
     },
     "metadata": {},
     "output_type": "display_data"
    },
    {
     "data": {
      "text/html": [
       "<pre>recommendations finished on 73000/96226 queries. users per second: 612.753</pre>"
      ],
      "text/plain": [
       "recommendations finished on 73000/96226 queries. users per second: 612.753"
      ]
     },
     "metadata": {},
     "output_type": "display_data"
    },
    {
     "data": {
      "text/html": [
       "<pre>recommendations finished on 74000/96226 queries. users per second: 613.401</pre>"
      ],
      "text/plain": [
       "recommendations finished on 74000/96226 queries. users per second: 613.401"
      ]
     },
     "metadata": {},
     "output_type": "display_data"
    },
    {
     "data": {
      "text/html": [
       "<pre>recommendations finished on 75000/96226 queries. users per second: 613.586</pre>"
      ],
      "text/plain": [
       "recommendations finished on 75000/96226 queries. users per second: 613.586"
      ]
     },
     "metadata": {},
     "output_type": "display_data"
    },
    {
     "data": {
      "text/html": [
       "<pre>recommendations finished on 76000/96226 queries. users per second: 613.771</pre>"
      ],
      "text/plain": [
       "recommendations finished on 76000/96226 queries. users per second: 613.771"
      ]
     },
     "metadata": {},
     "output_type": "display_data"
    },
    {
     "data": {
      "text/html": [
       "<pre>recommendations finished on 77000/96226 queries. users per second: 613.912</pre>"
      ],
      "text/plain": [
       "recommendations finished on 77000/96226 queries. users per second: 613.912"
      ]
     },
     "metadata": {},
     "output_type": "display_data"
    },
    {
     "data": {
      "text/html": [
       "<pre>recommendations finished on 78000/96226 queries. users per second: 614.475</pre>"
      ],
      "text/plain": [
       "recommendations finished on 78000/96226 queries. users per second: 614.475"
      ]
     },
     "metadata": {},
     "output_type": "display_data"
    },
    {
     "data": {
      "text/html": [
       "<pre>recommendations finished on 79000/96226 queries. users per second: 615.101</pre>"
      ],
      "text/plain": [
       "recommendations finished on 79000/96226 queries. users per second: 615.101"
      ]
     },
     "metadata": {},
     "output_type": "display_data"
    },
    {
     "data": {
      "text/html": [
       "<pre>recommendations finished on 80000/96226 queries. users per second: 616.632</pre>"
      ],
      "text/plain": [
       "recommendations finished on 80000/96226 queries. users per second: 616.632"
      ]
     },
     "metadata": {},
     "output_type": "display_data"
    },
    {
     "data": {
      "text/html": [
       "<pre>recommendations finished on 81000/96226 queries. users per second: 618.208</pre>"
      ],
      "text/plain": [
       "recommendations finished on 81000/96226 queries. users per second: 618.208"
      ]
     },
     "metadata": {},
     "output_type": "display_data"
    },
    {
     "data": {
      "text/html": [
       "<pre>recommendations finished on 82000/96226 queries. users per second: 621.032</pre>"
      ],
      "text/plain": [
       "recommendations finished on 82000/96226 queries. users per second: 621.032"
      ]
     },
     "metadata": {},
     "output_type": "display_data"
    },
    {
     "data": {
      "text/html": [
       "<pre>recommendations finished on 83000/96226 queries. users per second: 623.489</pre>"
      ],
      "text/plain": [
       "recommendations finished on 83000/96226 queries. users per second: 623.489"
      ]
     },
     "metadata": {},
     "output_type": "display_data"
    },
    {
     "data": {
      "text/html": [
       "<pre>recommendations finished on 84000/96226 queries. users per second: 625.822</pre>"
      ],
      "text/plain": [
       "recommendations finished on 84000/96226 queries. users per second: 625.822"
      ]
     },
     "metadata": {},
     "output_type": "display_data"
    },
    {
     "data": {
      "text/html": [
       "<pre>recommendations finished on 85000/96226 queries. users per second: 628.473</pre>"
      ],
      "text/plain": [
       "recommendations finished on 85000/96226 queries. users per second: 628.473"
      ]
     },
     "metadata": {},
     "output_type": "display_data"
    },
    {
     "data": {
      "text/html": [
       "<pre>recommendations finished on 86000/96226 queries. users per second: 631.621</pre>"
      ],
      "text/plain": [
       "recommendations finished on 86000/96226 queries. users per second: 631.621"
      ]
     },
     "metadata": {},
     "output_type": "display_data"
    },
    {
     "data": {
      "text/html": [
       "<pre>recommendations finished on 87000/96226 queries. users per second: 635.732</pre>"
      ],
      "text/plain": [
       "recommendations finished on 87000/96226 queries. users per second: 635.732"
      ]
     },
     "metadata": {},
     "output_type": "display_data"
    },
    {
     "data": {
      "text/html": [
       "<pre>recommendations finished on 88000/96226 queries. users per second: 640.198</pre>"
      ],
      "text/plain": [
       "recommendations finished on 88000/96226 queries. users per second: 640.198"
      ]
     },
     "metadata": {},
     "output_type": "display_data"
    },
    {
     "data": {
      "text/html": [
       "<pre>recommendations finished on 89000/96226 queries. users per second: 644.336</pre>"
      ],
      "text/plain": [
       "recommendations finished on 89000/96226 queries. users per second: 644.336"
      ]
     },
     "metadata": {},
     "output_type": "display_data"
    },
    {
     "data": {
      "text/html": [
       "<pre>recommendations finished on 90000/96226 queries. users per second: 648.689</pre>"
      ],
      "text/plain": [
       "recommendations finished on 90000/96226 queries. users per second: 648.689"
      ]
     },
     "metadata": {},
     "output_type": "display_data"
    },
    {
     "data": {
      "text/html": [
       "<pre>recommendations finished on 91000/96226 queries. users per second: 652.922</pre>"
      ],
      "text/plain": [
       "recommendations finished on 91000/96226 queries. users per second: 652.922"
      ]
     },
     "metadata": {},
     "output_type": "display_data"
    },
    {
     "data": {
      "text/html": [
       "<pre>recommendations finished on 92000/96226 queries. users per second: 656.315</pre>"
      ],
      "text/plain": [
       "recommendations finished on 92000/96226 queries. users per second: 656.315"
      ]
     },
     "metadata": {},
     "output_type": "display_data"
    },
    {
     "data": {
      "text/html": [
       "<pre>recommendations finished on 93000/96226 queries. users per second: 659.629</pre>"
      ],
      "text/plain": [
       "recommendations finished on 93000/96226 queries. users per second: 659.629"
      ]
     },
     "metadata": {},
     "output_type": "display_data"
    },
    {
     "data": {
      "text/html": [
       "<pre>recommendations finished on 94000/96226 queries. users per second: 662.931</pre>"
      ],
      "text/plain": [
       "recommendations finished on 94000/96226 queries. users per second: 662.931"
      ]
     },
     "metadata": {},
     "output_type": "display_data"
    },
    {
     "data": {
      "text/html": [
       "<pre>recommendations finished on 95000/96226 queries. users per second: 666.463</pre>"
      ],
      "text/plain": [
       "recommendations finished on 95000/96226 queries. users per second: 666.463"
      ]
     },
     "metadata": {},
     "output_type": "display_data"
    },
    {
     "data": {
      "text/html": [
       "<pre>recommendations finished on 96000/96226 queries. users per second: 668.865</pre>"
      ],
      "text/plain": [
       "recommendations finished on 96000/96226 queries. users per second: 668.865"
      ]
     },
     "metadata": {},
     "output_type": "display_data"
    },
    {
     "name": "stdout",
     "output_type": "stream",
     "text": [
      "\n",
      "Precision and recall summary statistics by cutoff\n",
      "+--------+------------------+------------------+\n",
      "| cutoff |  mean_precision  |   mean_recall    |\n",
      "+--------+------------------+------------------+\n",
      "|   1    | 0.0108494585663  | 0.00243820258362 |\n",
      "|   2    | 0.00785650447904 | 0.00360404695889 |\n",
      "|   3    | 0.00654362299864 | 0.00459962148588 |\n",
      "|   4    | 0.00570531872883 | 0.00533079189612 |\n",
      "|   5    | 0.00517947332322 | 0.00607772321917 |\n",
      "|   6    | 0.00475616430764 | 0.00670381618461 |\n",
      "|   7    | 0.0044404393229  | 0.00731151345478 |\n",
      "|   8    | 0.00416857190364 | 0.00786999940604 |\n",
      "|   9    | 0.00398252262613 | 0.00849827116364 |\n",
      "|   10   | 0.00382121256209 | 0.00912320325612 |\n",
      "+--------+------------------+------------------+\n",
      "[10 rows x 3 columns]\n",
      "\n",
      "Model compare metric: precision_recall\n",
      "Canvas is accessible via web browser at the URL: http://localhost:42953/index.html\n",
      "Opening Canvas in default web browser.\n"
     ]
    }
   ],
   "source": [
    "item_sim_model = graphlab.item_similarity_recommender.create(train_data, user_id='user_id', item_id='product_id', target='rating', similarity_type='pearson')\n",
    "popularity_model = graphlab.popularity_recommender.create(train_data, user_id='user_id', item_id='product_id', target='rating')\n",
    "latent_model=graphlab.factorization_recommender.create(train_data, user_id='user_id', item_id='product_id', target='rating')\n",
    "model_performance = graphlab.compare(test_data, [popularity_model, item_sim_model,latent_model])\n",
    "graphlab.show_comparison(model_performance,[popularity_model, item_sim_model,latent_model])"
   ]
  },
  {
   "cell_type": "markdown",
   "metadata": {
    "collapsed": true
   },
   "source": [
    "###  As we can see that latent model which uses unsupervised learning to shrink the users traits into latent features gives us the best result\n",
    "\n",
    "###  Below is the code that is happening in the library\n",
    "  product_crosstab=pd.pivot_table(data=normratings,values='rating',index='user_id',columns='product_id',fill_value=0)\n",
    "\n",
    "  X=product_crosstab.values.T\n",
    "  \n",
    "  import sklearn\n",
    "  \n",
    "  from sklearn.decomposition import TruncatedSVD\n",
    "\n",
    "  SVD=TruncatedSVD(n_components=20,random_state=17)\n",
    "\n",
    "  resultant_matrix=SVD.fit_transform(X)  \n",
    "  \n",
    "  resultant_matrix.shape\n",
    "  \n",
    "  import numpy as np\n",
    "  \n",
    "  corr_mat = np.corrcoef(resultant_matrix)\n",
    "   \n",
    "  product_ids=product_crosstab.columns\n",
    "  \n",
    "  productlist=list(product_ids)\n",
    "  \n",
    "  productindexlist=[]\n",
    "  \n",
    " for i in productlist:\n",
    " \n",
    "    productindexlist.append(productlist.index(i))\n",
    "    \n",
    "  allrecommendations=[]    \n",
    "  \n",
    "  for j in productindexlist:\n",
    "  \n",
    "    corr_j=corr_mat[j]\n",
    " \n",
    "    corrlist=list(product_ids[(corr_j<1.0)&(corr_j>0.98)])\n",
    "    \n",
    "    corrlist.append(j)\n",
    "  \n",
    "    allrecommendations.append(corrlist)\n",
    "  \n",
    "  print(allrecommendations)\n",
    "\n",
    "### We use the Graphlab because it was able to scale since it was able to utilize the ibm dsx spark clusters"
   ]
  },
  {
   "cell_type": "code",
   "execution_count": null,
   "metadata": {},
   "outputs": [],
   "source": []
  }
 ],
 "metadata": {
  "kernelspec": {
   "display_name": "Python 2 with Spark 2.1",
   "language": "python",
   "name": "python2-spark21"
  },
  "language_info": {
   "codemirror_mode": {
    "name": "ipython",
    "version": 2
   },
   "file_extension": ".py",
   "mimetype": "text/x-python",
   "name": "python",
   "nbconvert_exporter": "python",
   "pygments_lexer": "ipython2",
   "version": "2.7.11"
  }
 },
 "nbformat": 4,
 "nbformat_minor": 1
}
