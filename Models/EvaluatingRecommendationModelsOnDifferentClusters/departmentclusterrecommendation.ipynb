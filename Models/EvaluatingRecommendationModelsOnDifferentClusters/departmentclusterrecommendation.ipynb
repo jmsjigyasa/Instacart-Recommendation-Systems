{
 "cells": [
  {
   "cell_type": "markdown",
   "metadata": {},
   "source": [
    "### Evaluating Recommendations on Department Clusters"
   ]
  },
  {
   "cell_type": "code",
   "execution_count": 2,
   "metadata": {},
   "outputs": [],
   "source": [
    "\n",
    "from io import StringIO\n",
    "import requests\n",
    "import json\n",
    "import pandas as pd\n",
    "\n",
    "# @hidden_cell\n",
    "# This function accesses a file in your Object Storage. The definition contains your credentials.\n",
    "# You might want to remove those credentials before you share your notebook.\n",
    "def get_object_storage_file_with_credentials_836eb90819e64bfab21841eef5b3bf3c(container, filename):\n",
    "    \"\"\"This functions returns a StringIO object containing\n",
    "    the file content from Bluemix Object Storage.\"\"\"\n",
    "\n",
    "    url1 = ''.join(['https://identity.open.softlayer.com', '/v3/auth/tokens'])\n",
    "    data = {'auth': {'identity': {'methods': ['password'],\n",
    "            'password': {'user': {'name': 'member_6429e107b4727d3f5906de019f7fad88ada04fb8','domain': {'id': 'b5bbfbbc2d764a9096fd4aeb7d0d1477'},\n",
    "            'password': 'o{a{0]Dnx^MJ-dc1'}}}}}\n",
    "    headers1 = {'Content-Type': 'application/json'}\n",
    "    resp1 = requests.post(url=url1, data=json.dumps(data), headers=headers1)\n",
    "    resp1_body = resp1.json()\n",
    "    for e1 in resp1_body['token']['catalog']:\n",
    "        if(e1['type']=='object-store'):\n",
    "            for e2 in e1['endpoints']:\n",
    "                        if(e2['interface']=='public'and e2['region']=='dallas'):\n",
    "                            url2 = ''.join([e2['url'],'/', container, '/', filename])\n",
    "    s_subject_token = resp1.headers['x-subject-token']\n",
    "    headers2 = {'X-Auth-Token': s_subject_token, 'accept': 'application/json'}\n",
    "    resp2 = requests.get(url=url2, headers=headers2)\n",
    "    return StringIO(resp2.text)\n",
    "\n"
   ]
  },
  {
   "cell_type": "code",
   "execution_count": 6,
   "metadata": {},
   "outputs": [
    {
     "data": {
      "text/html": [
       "<div>\n",
       "<table border=\"1\" class=\"dataframe\">\n",
       "  <thead>\n",
       "    <tr style=\"text-align: right;\">\n",
       "      <th></th>\n",
       "      <th>Unnamed: 0</th>\n",
       "      <th>user_id</th>\n",
       "      <th>product_id</th>\n",
       "      <th>rating</th>\n",
       "    </tr>\n",
       "  </thead>\n",
       "  <tbody>\n",
       "    <tr>\n",
       "      <th>0</th>\n",
       "      <td>0</td>\n",
       "      <td>1</td>\n",
       "      <td>13176</td>\n",
       "      <td>5.0</td>\n",
       "    </tr>\n",
       "    <tr>\n",
       "      <th>1</th>\n",
       "      <td>1</td>\n",
       "      <td>1</td>\n",
       "      <td>10326</td>\n",
       "      <td>2.5</td>\n",
       "    </tr>\n",
       "    <tr>\n",
       "      <th>2</th>\n",
       "      <td>2</td>\n",
       "      <td>1</td>\n",
       "      <td>17122</td>\n",
       "      <td>2.5</td>\n",
       "    </tr>\n",
       "    <tr>\n",
       "      <th>3</th>\n",
       "      <td>3</td>\n",
       "      <td>1</td>\n",
       "      <td>41787</td>\n",
       "      <td>2.5</td>\n",
       "    </tr>\n",
       "    <tr>\n",
       "      <th>4</th>\n",
       "      <td>4</td>\n",
       "      <td>2</td>\n",
       "      <td>24852</td>\n",
       "      <td>5.0</td>\n",
       "    </tr>\n",
       "  </tbody>\n",
       "</table>\n",
       "</div>"
      ],
      "text/plain": [
       "   Unnamed: 0  user_id  product_id  rating\n",
       "0           0        1       13176     5.0\n",
       "1           1        1       10326     2.5\n",
       "2           2        1       17122     2.5\n",
       "3           3        1       41787     2.5\n",
       "4           4        2       24852     5.0"
      ]
     },
     "execution_count": 6,
     "metadata": {},
     "output_type": "execute_result"
    }
   ],
   "source": [
    "normratings= pd.read_csv(get_object_storage_file_with_credentials_836eb90819e64bfab21841eef5b3bf3c('insta', 'depcluster1.csv'))\n",
    "normratings.head()\n"
   ]
  },
  {
   "cell_type": "code",
   "execution_count": 3,
   "metadata": {
    "scrolled": true
   },
   "outputs": [
    {
     "name": "stdout",
     "output_type": "stream",
     "text": [
      "Collecting https://get.graphlab.com/GraphLab-Create/2.1/goel.t@husky.neu.edu/E914-C086-1338-7082-B278-E8A7-1C13-1FDE/GraphLab-Create-License.tar.gz\n",
      "  Downloading https://get.graphlab.com/GraphLab-Create/2.1/goel.t@husky.neu.edu/E914-C086-1338-7082-B278-E8A7-1C13-1FDE/GraphLab-Create-License.tar.gz\n",
      "Requirement already up-to-date: graphlab-create>=2.1 in /gpfs/global_fs01/sym_shared/YPProdSpark/user/sed1-980fc88e6d89d3-f770736419c3/.local/lib/python2.7/site-packages (from GraphLab-Create-License==2.1)\n",
      "Requirement already up-to-date: psclient in /gpfs/global_fs01/sym_shared/YPProdSpark/user/sed1-980fc88e6d89d3-f770736419c3/.local/lib/python2.7/site-packages (from graphlab-create>=2.1->GraphLab-Create-License==2.1)\n",
      "Requirement already up-to-date: boto==2.33.0 in /gpfs/global_fs01/sym_shared/YPProdSpark/user/sed1-980fc88e6d89d3-f770736419c3/.local/lib/python2.7/site-packages (from graphlab-create>=2.1->GraphLab-Create-License==2.1)\n",
      "Requirement already up-to-date: decorator==4.0.9 in /gpfs/global_fs01/sym_shared/YPProdSpark/user/sed1-980fc88e6d89d3-f770736419c3/.local/lib/python2.7/site-packages (from graphlab-create>=2.1->GraphLab-Create-License==2.1)\n",
      "Requirement already up-to-date: tornado==4.3 in /usr/local/src/bluemix_jupyter_bundle.v73/notebook/lib/python2.7/site-packages (from graphlab-create>=2.1->GraphLab-Create-License==2.1)\n",
      "Requirement already up-to-date: prettytable==0.7.2 in /usr/local/src/bluemix_jupyter_bundle.v73/notebook/lib/python2.7/site-packages (from graphlab-create>=2.1->GraphLab-Create-License==2.1)\n",
      "Requirement already up-to-date: requests==2.9.1 in /gpfs/global_fs01/sym_shared/YPProdSpark/user/sed1-980fc88e6d89d3-f770736419c3/.local/lib/python2.7/site-packages (from graphlab-create>=2.1->GraphLab-Create-License==2.1)\n",
      "Requirement already up-to-date: awscli==1.6.2 in /gpfs/global_fs01/sym_shared/YPProdSpark/user/sed1-980fc88e6d89d3-f770736419c3/.local/lib/python2.7/site-packages (from graphlab-create>=2.1->GraphLab-Create-License==2.1)\n",
      "Requirement already up-to-date: sseclient==0.0.8 in /gpfs/global_fs01/sym_shared/YPProdSpark/user/sed1-980fc88e6d89d3-f770736419c3/.local/lib/python2.7/site-packages (from graphlab-create>=2.1->GraphLab-Create-License==2.1)\n",
      "Requirement already up-to-date: multipledispatch>=0.4.7 in /gpfs/global_fs01/sym_shared/YPProdSpark/user/sed1-980fc88e6d89d3-f770736419c3/.local/lib/python2.7/site-packages (from graphlab-create>=2.1->GraphLab-Create-License==2.1)\n",
      "Requirement already up-to-date: certifi==2015.04.28 in /gpfs/global_fs01/sym_shared/YPProdSpark/user/sed1-980fc88e6d89d3-f770736419c3/.local/lib/python2.7/site-packages (from graphlab-create>=2.1->GraphLab-Create-License==2.1)\n",
      "Requirement already up-to-date: jsonschema==2.5.1 in /usr/local/src/bluemix_jupyter_bundle.v73/notebook/lib/python2.7/site-packages (from graphlab-create>=2.1->GraphLab-Create-License==2.1)\n",
      "Requirement already up-to-date: genson==0.1.0 in /gpfs/global_fs01/sym_shared/YPProdSpark/user/sed1-980fc88e6d89d3-f770736419c3/.local/lib/python2.7/site-packages (from graphlab-create>=2.1->GraphLab-Create-License==2.1)\n",
      "Requirement already up-to-date: python-dateutil in /gpfs/global_fs01/sym_shared/YPProdSpark/user/sed1-980fc88e6d89d3-f770736419c3/.local/lib/python2.7/site-packages (from psclient->graphlab-create>=2.1->GraphLab-Create-License==2.1)\n",
      "Requirement already up-to-date: backports.ssl_match_hostname in /gpfs/global_fs01/sym_shared/YPProdSpark/user/sed1-980fc88e6d89d3-f770736419c3/.local/lib/python2.7/site-packages (from tornado==4.3->graphlab-create>=2.1->GraphLab-Create-License==2.1)\n",
      "Requirement already up-to-date: singledispatch in /usr/local/src/bluemix_jupyter_bundle.v73/notebook/lib/python2.7/site-packages (from tornado==4.3->graphlab-create>=2.1->GraphLab-Create-License==2.1)\n",
      "Requirement already up-to-date: backports_abc>=0.4 in /gpfs/global_fs01/sym_shared/YPProdSpark/user/sed1-980fc88e6d89d3-f770736419c3/.local/lib/python2.7/site-packages (from tornado==4.3->graphlab-create>=2.1->GraphLab-Create-License==2.1)\n",
      "Requirement already up-to-date: botocore<0.74.0,>=0.73.0 in /gpfs/global_fs01/sym_shared/YPProdSpark/user/sed1-980fc88e6d89d3-f770736419c3/.local/lib/python2.7/site-packages (from awscli==1.6.2->graphlab-create>=2.1->GraphLab-Create-License==2.1)\n",
      "Requirement already up-to-date: bcdoc<0.13.0,>=0.12.0 in /gpfs/global_fs01/sym_shared/YPProdSpark/user/sed1-980fc88e6d89d3-f770736419c3/.local/lib/python2.7/site-packages (from awscli==1.6.2->graphlab-create>=2.1->GraphLab-Create-License==2.1)\n",
      "Requirement already up-to-date: six>=1.1.0 in /gpfs/global_fs01/sym_shared/YPProdSpark/user/sed1-980fc88e6d89d3-f770736419c3/.local/lib/python2.7/site-packages (from awscli==1.6.2->graphlab-create>=2.1->GraphLab-Create-License==2.1)\n",
      "Requirement already up-to-date: colorama==0.2.5 in /gpfs/global_fs01/sym_shared/YPProdSpark/user/sed1-980fc88e6d89d3-f770736419c3/.local/lib/python2.7/site-packages (from awscli==1.6.2->graphlab-create>=2.1->GraphLab-Create-License==2.1)\n",
      "Requirement already up-to-date: docutils>=0.10 in /gpfs/global_fs01/sym_shared/YPProdSpark/user/sed1-980fc88e6d89d3-f770736419c3/.local/lib/python2.7/site-packages (from awscli==1.6.2->graphlab-create>=2.1->GraphLab-Create-License==2.1)\n",
      "Requirement already up-to-date: rsa==3.1.2 in /gpfs/global_fs01/sym_shared/YPProdSpark/user/sed1-980fc88e6d89d3-f770736419c3/.local/lib/python2.7/site-packages (from awscli==1.6.2->graphlab-create>=2.1->GraphLab-Create-License==2.1)\n",
      "Requirement already up-to-date: functools32; python_version == \"2.7\" in /usr/local/src/bluemix_jupyter_bundle.v73/notebook/lib/python2.7/site-packages (from jsonschema==2.5.1->graphlab-create>=2.1->GraphLab-Create-License==2.1)\n",
      "Requirement already up-to-date: jmespath==0.5.0 in /gpfs/global_fs01/sym_shared/YPProdSpark/user/sed1-980fc88e6d89d3-f770736419c3/.local/lib/python2.7/site-packages (from botocore<0.74.0,>=0.73.0->awscli==1.6.2->graphlab-create>=2.1->GraphLab-Create-License==2.1)\n",
      "Requirement already up-to-date: pyasn1>=0.1.3 in /gpfs/global_fs01/sym_shared/YPProdSpark/user/sed1-980fc88e6d89d3-f770736419c3/.local/lib/python2.7/site-packages (from rsa==3.1.2->awscli==1.6.2->graphlab-create>=2.1->GraphLab-Create-License==2.1)\n",
      "Installing collected packages: GraphLab-Create-License\n",
      "  Found existing installation: GraphLab-Create-License 2.1\n",
      "    Uninstalling GraphLab-Create-License-2.1:\n",
      "      Successfully uninstalled GraphLab-Create-License-2.1\n",
      "  Running setup.py install for GraphLab-Create-License ... \u001b[?25ldone\n",
      "\u001b[?25hSuccessfully installed GraphLab-Create-License-2.1\n"
     ]
    }
   ],
   "source": [
    "!pip install --user --upgrade --no-cache-dir https://get.graphlab.com/GraphLab-Create/2.1/goel.t@husky.neu.edu/E914-C086-1338-7082-B278-E8A7-1C13-1FDE/GraphLab-Create-License.tar.gz\n",
    "    "
   ]
  },
  {
   "cell_type": "markdown",
   "metadata": {},
   "source": [
    "### Running Recommendations by clustering on basis of department"
   ]
  },
  {
   "cell_type": "code",
   "execution_count": 8,
   "metadata": {},
   "outputs": [],
   "source": [
    "import numpy as np\n",
    "import graphlab\n",
    "\n",
    "msk = np.random.rand(len(normratings)) < 0.8\n",
    "train = normratings[msk]\n",
    "test = normratings[~msk]\n",
    "train_data = graphlab.SFrame(train)\n",
    "test_data=graphlab.SFrame(test)"
   ]
  },
  {
   "cell_type": "markdown",
   "metadata": {},
   "source": [
    "#### Creating item similarity model, popularity model and latent model on the clustered data for comparing and selecting best out of them"
   ]
  },
  {
   "cell_type": "code",
   "execution_count": 9,
   "metadata": {},
   "outputs": [
    {
     "data": {
      "text/html": [
       "<pre>Recsys training: model = item_similarity</pre>"
      ],
      "text/plain": [
       "Recsys training: model = item_similarity"
      ]
     },
     "metadata": {},
     "output_type": "display_data"
    },
    {
     "data": {
      "text/html": [
       "<pre>Warning: Ignoring columns Unnamed: 0;</pre>"
      ],
      "text/plain": [
       "Warning: Ignoring columns Unnamed: 0;"
      ]
     },
     "metadata": {},
     "output_type": "display_data"
    },
    {
     "data": {
      "text/html": [
       "<pre>    To use these columns in scoring predictions, use a model that allows the use of additional features.</pre>"
      ],
      "text/plain": [
       "    To use these columns in scoring predictions, use a model that allows the use of additional features."
      ]
     },
     "metadata": {},
     "output_type": "display_data"
    },
    {
     "data": {
      "text/html": [
       "<pre>Preparing data set.</pre>"
      ],
      "text/plain": [
       "Preparing data set."
      ]
     },
     "metadata": {},
     "output_type": "display_data"
    },
    {
     "data": {
      "text/html": [
       "<pre>    Data has 2764256 observations with 192166 users and 1684 items.</pre>"
      ],
      "text/plain": [
       "    Data has 2764256 observations with 192166 users and 1684 items."
      ]
     },
     "metadata": {},
     "output_type": "display_data"
    },
    {
     "data": {
      "text/html": [
       "<pre>    Data prepared in: 3.54629s</pre>"
      ],
      "text/plain": [
       "    Data prepared in: 3.54629s"
      ]
     },
     "metadata": {},
     "output_type": "display_data"
    },
    {
     "data": {
      "text/html": [
       "<pre>Training model from provided data.</pre>"
      ],
      "text/plain": [
       "Training model from provided data."
      ]
     },
     "metadata": {},
     "output_type": "display_data"
    },
    {
     "data": {
      "text/html": [
       "<pre>Gathering per-item and per-user statistics.</pre>"
      ],
      "text/plain": [
       "Gathering per-item and per-user statistics."
      ]
     },
     "metadata": {},
     "output_type": "display_data"
    },
    {
     "data": {
      "text/html": [
       "<pre>+--------------------------------+------------+</pre>"
      ],
      "text/plain": [
       "+--------------------------------+------------+"
      ]
     },
     "metadata": {},
     "output_type": "display_data"
    },
    {
     "data": {
      "text/html": [
       "<pre>| Elapsed Time (Item Statistics) | % Complete |</pre>"
      ],
      "text/plain": [
       "| Elapsed Time (Item Statistics) | % Complete |"
      ]
     },
     "metadata": {},
     "output_type": "display_data"
    },
    {
     "data": {
      "text/html": [
       "<pre>+--------------------------------+------------+</pre>"
      ],
      "text/plain": [
       "+--------------------------------+------------+"
      ]
     },
     "metadata": {},
     "output_type": "display_data"
    },
    {
     "data": {
      "text/html": [
       "<pre>| 1.698ms                        | 3.5        |</pre>"
      ],
      "text/plain": [
       "| 1.698ms                        | 3.5        |"
      ]
     },
     "metadata": {},
     "output_type": "display_data"
    },
    {
     "data": {
      "text/html": [
       "<pre>| 1.01s                          | 47.75      |</pre>"
      ],
      "text/plain": [
       "| 1.01s                          | 47.75      |"
      ]
     },
     "metadata": {},
     "output_type": "display_data"
    },
    {
     "data": {
      "text/html": [
       "<pre>| 2.00s                          | 86.25      |</pre>"
      ],
      "text/plain": [
       "| 2.00s                          | 86.25      |"
      ]
     },
     "metadata": {},
     "output_type": "display_data"
    },
    {
     "data": {
      "text/html": [
       "<pre>| 2.31s                          | 100        |</pre>"
      ],
      "text/plain": [
       "| 2.31s                          | 100        |"
      ]
     },
     "metadata": {},
     "output_type": "display_data"
    },
    {
     "data": {
      "text/html": [
       "<pre>+--------------------------------+------------+</pre>"
      ],
      "text/plain": [
       "+--------------------------------+------------+"
      ]
     },
     "metadata": {},
     "output_type": "display_data"
    },
    {
     "data": {
      "text/html": [
       "<pre>Setting up lookup tables.</pre>"
      ],
      "text/plain": [
       "Setting up lookup tables."
      ]
     },
     "metadata": {},
     "output_type": "display_data"
    },
    {
     "data": {
      "text/html": [
       "<pre>Processing data in one pass using dense lookup tables.</pre>"
      ],
      "text/plain": [
       "Processing data in one pass using dense lookup tables."
      ]
     },
     "metadata": {},
     "output_type": "display_data"
    },
    {
     "data": {
      "text/html": [
       "<pre>+-------------------------------------+------------------+-----------------+</pre>"
      ],
      "text/plain": [
       "+-------------------------------------+------------------+-----------------+"
      ]
     },
     "metadata": {},
     "output_type": "display_data"
    },
    {
     "data": {
      "text/html": [
       "<pre>| Elapsed Time (Constructing Lookups) | Total % Complete | Items Processed |</pre>"
      ],
      "text/plain": [
       "| Elapsed Time (Constructing Lookups) | Total % Complete | Items Processed |"
      ]
     },
     "metadata": {},
     "output_type": "display_data"
    },
    {
     "data": {
      "text/html": [
       "<pre>+-------------------------------------+------------------+-----------------+</pre>"
      ],
      "text/plain": [
       "+-------------------------------------+------------------+-----------------+"
      ]
     },
     "metadata": {},
     "output_type": "display_data"
    },
    {
     "data": {
      "text/html": [
       "<pre>| 2.32s                               | 0                | 0               |</pre>"
      ],
      "text/plain": [
       "| 2.32s                               | 0                | 0               |"
      ]
     },
     "metadata": {},
     "output_type": "display_data"
    },
    {
     "data": {
      "text/html": [
       "<pre>| 3.40s                               | 5.25             | 91              |</pre>"
      ],
      "text/plain": [
       "| 3.40s                               | 5.25             | 91              |"
      ]
     },
     "metadata": {},
     "output_type": "display_data"
    },
    {
     "data": {
      "text/html": [
       "<pre>| 4.32s                               | 10               | 170             |</pre>"
      ],
      "text/plain": [
       "| 4.32s                               | 10               | 170             |"
      ]
     },
     "metadata": {},
     "output_type": "display_data"
    },
    {
     "data": {
      "text/html": [
       "<pre>| 5.40s                               | 15.25            | 259             |</pre>"
      ],
      "text/plain": [
       "| 5.40s                               | 15.25            | 259             |"
      ]
     },
     "metadata": {},
     "output_type": "display_data"
    },
    {
     "data": {
      "text/html": [
       "<pre>| 6.40s                               | 20.5             | 348             |</pre>"
      ],
      "text/plain": [
       "| 6.40s                               | 20.5             | 348             |"
      ]
     },
     "metadata": {},
     "output_type": "display_data"
    },
    {
     "data": {
      "text/html": [
       "<pre>| 7.32s                               | 24.75            | 417             |</pre>"
      ],
      "text/plain": [
       "| 7.32s                               | 24.75            | 417             |"
      ]
     },
     "metadata": {},
     "output_type": "display_data"
    },
    {
     "data": {
      "text/html": [
       "<pre>| 8.40s                               | 29.5             | 500             |</pre>"
      ],
      "text/plain": [
       "| 8.40s                               | 29.5             | 500             |"
      ]
     },
     "metadata": {},
     "output_type": "display_data"
    },
    {
     "data": {
      "text/html": [
       "<pre>| 9.33s                               | 34               | 574             |</pre>"
      ],
      "text/plain": [
       "| 9.33s                               | 34               | 574             |"
      ]
     },
     "metadata": {},
     "output_type": "display_data"
    },
    {
     "data": {
      "text/html": [
       "<pre>| 10.40s                              | 39.5             | 665             |</pre>"
      ],
      "text/plain": [
       "| 10.40s                              | 39.5             | 665             |"
      ]
     },
     "metadata": {},
     "output_type": "display_data"
    },
    {
     "data": {
      "text/html": [
       "<pre>| 11.40s                              | 44.75            | 755             |</pre>"
      ],
      "text/plain": [
       "| 11.40s                              | 44.75            | 755             |"
      ]
     },
     "metadata": {},
     "output_type": "display_data"
    },
    {
     "data": {
      "text/html": [
       "<pre>| 12.40s                              | 50.5             | 852             |</pre>"
      ],
      "text/plain": [
       "| 12.40s                              | 50.5             | 852             |"
      ]
     },
     "metadata": {},
     "output_type": "display_data"
    },
    {
     "data": {
      "text/html": [
       "<pre>| 13.40s                              | 56.5             | 953             |</pre>"
      ],
      "text/plain": [
       "| 13.40s                              | 56.5             | 953             |"
      ]
     },
     "metadata": {},
     "output_type": "display_data"
    },
    {
     "data": {
      "text/html": [
       "<pre>| 14.40s                              | 62               | 1046            |</pre>"
      ],
      "text/plain": [
       "| 14.40s                              | 62               | 1046            |"
      ]
     },
     "metadata": {},
     "output_type": "display_data"
    },
    {
     "data": {
      "text/html": [
       "<pre>| 15.40s                              | 68               | 1148            |</pre>"
      ],
      "text/plain": [
       "| 15.40s                              | 68               | 1148            |"
      ]
     },
     "metadata": {},
     "output_type": "display_data"
    },
    {
     "data": {
      "text/html": [
       "<pre>| 16.40s                              | 73.75            | 1246            |</pre>"
      ],
      "text/plain": [
       "| 16.40s                              | 73.75            | 1246            |"
      ]
     },
     "metadata": {},
     "output_type": "display_data"
    },
    {
     "data": {
      "text/html": [
       "<pre>| 17.40s                              | 79.75            | 1344            |</pre>"
      ],
      "text/plain": [
       "| 17.40s                              | 79.75            | 1344            |"
      ]
     },
     "metadata": {},
     "output_type": "display_data"
    },
    {
     "data": {
      "text/html": [
       "<pre>| 18.40s                              | 85.25            | 1437            |</pre>"
      ],
      "text/plain": [
       "| 18.40s                              | 85.25            | 1437            |"
      ]
     },
     "metadata": {},
     "output_type": "display_data"
    },
    {
     "data": {
      "text/html": [
       "<pre>| 19.40s                              | 91.5             | 1543            |</pre>"
      ],
      "text/plain": [
       "| 19.40s                              | 91.5             | 1543            |"
      ]
     },
     "metadata": {},
     "output_type": "display_data"
    },
    {
     "data": {
      "text/html": [
       "<pre>| 19.91s                              | 100              | 1684            |</pre>"
      ],
      "text/plain": [
       "| 19.91s                              | 100              | 1684            |"
      ]
     },
     "metadata": {},
     "output_type": "display_data"
    },
    {
     "data": {
      "text/html": [
       "<pre>+-------------------------------------+------------------+-----------------+</pre>"
      ],
      "text/plain": [
       "+-------------------------------------+------------------+-----------------+"
      ]
     },
     "metadata": {},
     "output_type": "display_data"
    },
    {
     "data": {
      "text/html": [
       "<pre>Finalizing lookup tables.</pre>"
      ],
      "text/plain": [
       "Finalizing lookup tables."
      ]
     },
     "metadata": {},
     "output_type": "display_data"
    },
    {
     "data": {
      "text/html": [
       "<pre>Generating candidate set for working with new users.</pre>"
      ],
      "text/plain": [
       "Generating candidate set for working with new users."
      ]
     },
     "metadata": {},
     "output_type": "display_data"
    },
    {
     "data": {
      "text/html": [
       "<pre>Finished training in 20.4499s</pre>"
      ],
      "text/plain": [
       "Finished training in 20.4499s"
      ]
     },
     "metadata": {},
     "output_type": "display_data"
    },
    {
     "data": {
      "text/html": [
       "<pre>Recsys training: model = popularity</pre>"
      ],
      "text/plain": [
       "Recsys training: model = popularity"
      ]
     },
     "metadata": {},
     "output_type": "display_data"
    },
    {
     "data": {
      "text/html": [
       "<pre>Warning: Ignoring columns Unnamed: 0;</pre>"
      ],
      "text/plain": [
       "Warning: Ignoring columns Unnamed: 0;"
      ]
     },
     "metadata": {},
     "output_type": "display_data"
    },
    {
     "data": {
      "text/html": [
       "<pre>    To use these columns in scoring predictions, use a model that allows the use of additional features.</pre>"
      ],
      "text/plain": [
       "    To use these columns in scoring predictions, use a model that allows the use of additional features."
      ]
     },
     "metadata": {},
     "output_type": "display_data"
    },
    {
     "data": {
      "text/html": [
       "<pre>Preparing data set.</pre>"
      ],
      "text/plain": [
       "Preparing data set."
      ]
     },
     "metadata": {},
     "output_type": "display_data"
    },
    {
     "data": {
      "text/html": [
       "<pre>    Data has 2764256 observations with 192166 users and 1684 items.</pre>"
      ],
      "text/plain": [
       "    Data has 2764256 observations with 192166 users and 1684 items."
      ]
     },
     "metadata": {},
     "output_type": "display_data"
    },
    {
     "data": {
      "text/html": [
       "<pre>    Data prepared in: 3.52389s</pre>"
      ],
      "text/plain": [
       "    Data prepared in: 3.52389s"
      ]
     },
     "metadata": {},
     "output_type": "display_data"
    },
    {
     "data": {
      "text/html": [
       "<pre>2764256 observations to process; with 1684 unique items.</pre>"
      ],
      "text/plain": [
       "2764256 observations to process; with 1684 unique items."
      ]
     },
     "metadata": {},
     "output_type": "display_data"
    },
    {
     "data": {
      "text/html": [
       "<pre>Recsys training: model = factorization_recommender</pre>"
      ],
      "text/plain": [
       "Recsys training: model = factorization_recommender"
      ]
     },
     "metadata": {},
     "output_type": "display_data"
    },
    {
     "data": {
      "text/html": [
       "<pre>Preparing data set.</pre>"
      ],
      "text/plain": [
       "Preparing data set."
      ]
     },
     "metadata": {},
     "output_type": "display_data"
    },
    {
     "data": {
      "text/html": [
       "<pre>    Data has 2764256 observations with 192166 users and 1684 items.</pre>"
      ],
      "text/plain": [
       "    Data has 2764256 observations with 192166 users and 1684 items."
      ]
     },
     "metadata": {},
     "output_type": "display_data"
    },
    {
     "data": {
      "text/html": [
       "<pre>    Data prepared in: 3.75718s</pre>"
      ],
      "text/plain": [
       "    Data prepared in: 3.75718s"
      ]
     },
     "metadata": {},
     "output_type": "display_data"
    },
    {
     "data": {
      "text/html": [
       "<pre>Training factorization_recommender for recommendations.</pre>"
      ],
      "text/plain": [
       "Training factorization_recommender for recommendations."
      ]
     },
     "metadata": {},
     "output_type": "display_data"
    },
    {
     "data": {
      "text/html": [
       "<pre>+--------------------------------+--------------------------------------------------+----------+</pre>"
      ],
      "text/plain": [
       "+--------------------------------+--------------------------------------------------+----------+"
      ]
     },
     "metadata": {},
     "output_type": "display_data"
    },
    {
     "data": {
      "text/html": [
       "<pre>| Parameter                      | Description                                      | Value    |</pre>"
      ],
      "text/plain": [
       "| Parameter                      | Description                                      | Value    |"
      ]
     },
     "metadata": {},
     "output_type": "display_data"
    },
    {
     "data": {
      "text/html": [
       "<pre>+--------------------------------+--------------------------------------------------+----------+</pre>"
      ],
      "text/plain": [
       "+--------------------------------+--------------------------------------------------+----------+"
      ]
     },
     "metadata": {},
     "output_type": "display_data"
    },
    {
     "data": {
      "text/html": [
       "<pre>| num_factors                    | Factor Dimension                                 | 8        |</pre>"
      ],
      "text/plain": [
       "| num_factors                    | Factor Dimension                                 | 8        |"
      ]
     },
     "metadata": {},
     "output_type": "display_data"
    },
    {
     "data": {
      "text/html": [
       "<pre>| regularization                 | L2 Regularization on Factors                     | 1e-08    |</pre>"
      ],
      "text/plain": [
       "| regularization                 | L2 Regularization on Factors                     | 1e-08    |"
      ]
     },
     "metadata": {},
     "output_type": "display_data"
    },
    {
     "data": {
      "text/html": [
       "<pre>| solver                         | Solver used for training                         | adagrad  |</pre>"
      ],
      "text/plain": [
       "| solver                         | Solver used for training                         | adagrad  |"
      ]
     },
     "metadata": {},
     "output_type": "display_data"
    },
    {
     "data": {
      "text/html": [
       "<pre>| linear_regularization          | L2 Regularization on Linear Coefficients         | 1e-10    |</pre>"
      ],
      "text/plain": [
       "| linear_regularization          | L2 Regularization on Linear Coefficients         | 1e-10    |"
      ]
     },
     "metadata": {},
     "output_type": "display_data"
    },
    {
     "data": {
      "text/html": [
       "<pre>| max_iterations                 | Maximum Number of Iterations                     | 50       |</pre>"
      ],
      "text/plain": [
       "| max_iterations                 | Maximum Number of Iterations                     | 50       |"
      ]
     },
     "metadata": {},
     "output_type": "display_data"
    },
    {
     "data": {
      "text/html": [
       "<pre>+--------------------------------+--------------------------------------------------+----------+</pre>"
      ],
      "text/plain": [
       "+--------------------------------+--------------------------------------------------+----------+"
      ]
     },
     "metadata": {},
     "output_type": "display_data"
    },
    {
     "data": {
      "text/html": [
       "<pre>  Optimizing model using SGD; tuning step size.</pre>"
      ],
      "text/plain": [
       "  Optimizing model using SGD; tuning step size."
      ]
     },
     "metadata": {},
     "output_type": "display_data"
    },
    {
     "data": {
      "text/html": [
       "<pre>  Using 345532 / 2764256 points for tuning the step size.</pre>"
      ],
      "text/plain": [
       "  Using 345532 / 2764256 points for tuning the step size."
      ]
     },
     "metadata": {},
     "output_type": "display_data"
    },
    {
     "data": {
      "text/html": [
       "<pre>+---------+-------------------+------------------------------------------+</pre>"
      ],
      "text/plain": [
       "+---------+-------------------+------------------------------------------+"
      ]
     },
     "metadata": {},
     "output_type": "display_data"
    },
    {
     "data": {
      "text/html": [
       "<pre>| Attempt | Initial Step Size | Estimated Objective Value                |</pre>"
      ],
      "text/plain": [
       "| Attempt | Initial Step Size | Estimated Objective Value                |"
      ]
     },
     "metadata": {},
     "output_type": "display_data"
    },
    {
     "data": {
      "text/html": [
       "<pre>+---------+-------------------+------------------------------------------+</pre>"
      ],
      "text/plain": [
       "+---------+-------------------+------------------------------------------+"
      ]
     },
     "metadata": {},
     "output_type": "display_data"
    },
    {
     "data": {
      "text/html": [
       "<pre>| 0       | 16.6667           | Not Viable                               |</pre>"
      ],
      "text/plain": [
       "| 0       | 16.6667           | Not Viable                               |"
      ]
     },
     "metadata": {},
     "output_type": "display_data"
    },
    {
     "data": {
      "text/html": [
       "<pre>| 1       | 4.16667           | Not Viable                               |</pre>"
      ],
      "text/plain": [
       "| 1       | 4.16667           | Not Viable                               |"
      ]
     },
     "metadata": {},
     "output_type": "display_data"
    },
    {
     "data": {
      "text/html": [
       "<pre>| 2       | 1.04167           | Not Viable                               |</pre>"
      ],
      "text/plain": [
       "| 2       | 1.04167           | Not Viable                               |"
      ]
     },
     "metadata": {},
     "output_type": "display_data"
    },
    {
     "data": {
      "text/html": [
       "<pre>| 3       | 0.260417          | 0.296723                                 |</pre>"
      ],
      "text/plain": [
       "| 3       | 0.260417          | 0.296723                                 |"
      ]
     },
     "metadata": {},
     "output_type": "display_data"
    },
    {
     "data": {
      "text/html": [
       "<pre>| 4       | 0.130208          | 0.268048                                 |</pre>"
      ],
      "text/plain": [
       "| 4       | 0.130208          | 0.268048                                 |"
      ]
     },
     "metadata": {},
     "output_type": "display_data"
    },
    {
     "data": {
      "text/html": [
       "<pre>| 5       | 0.0651042         | 0.639904                                 |</pre>"
      ],
      "text/plain": [
       "| 5       | 0.0651042         | 0.639904                                 |"
      ]
     },
     "metadata": {},
     "output_type": "display_data"
    },
    {
     "data": {
      "text/html": [
       "<pre>+---------+-------------------+------------------------------------------+</pre>"
      ],
      "text/plain": [
       "+---------+-------------------+------------------------------------------+"
      ]
     },
     "metadata": {},
     "output_type": "display_data"
    },
    {
     "data": {
      "text/html": [
       "<pre>| Final   | 0.130208          | 0.268048                                 |</pre>"
      ],
      "text/plain": [
       "| Final   | 0.130208          | 0.268048                                 |"
      ]
     },
     "metadata": {},
     "output_type": "display_data"
    },
    {
     "data": {
      "text/html": [
       "<pre>+---------+-------------------+------------------------------------------+</pre>"
      ],
      "text/plain": [
       "+---------+-------------------+------------------------------------------+"
      ]
     },
     "metadata": {},
     "output_type": "display_data"
    },
    {
     "data": {
      "text/html": [
       "<pre>Starting Optimization.</pre>"
      ],
      "text/plain": [
       "Starting Optimization."
      ]
     },
     "metadata": {},
     "output_type": "display_data"
    },
    {
     "data": {
      "text/html": [
       "<pre>+---------+--------------+-------------------+-----------------------+-------------+</pre>"
      ],
      "text/plain": [
       "+---------+--------------+-------------------+-----------------------+-------------+"
      ]
     },
     "metadata": {},
     "output_type": "display_data"
    },
    {
     "data": {
      "text/html": [
       "<pre>| Iter.   | Elapsed Time | Approx. Objective | Approx. Training RMSE | Step Size   |</pre>"
      ],
      "text/plain": [
       "| Iter.   | Elapsed Time | Approx. Objective | Approx. Training RMSE | Step Size   |"
      ]
     },
     "metadata": {},
     "output_type": "display_data"
    },
    {
     "data": {
      "text/html": [
       "<pre>+---------+--------------+-------------------+-----------------------+-------------+</pre>"
      ],
      "text/plain": [
       "+---------+--------------+-------------------+-----------------------+-------------+"
      ]
     },
     "metadata": {},
     "output_type": "display_data"
    },
    {
     "data": {
      "text/html": [
       "<pre>| Initial | 130us        | 2.02838           | 1.42421               |             |</pre>"
      ],
      "text/plain": [
       "| Initial | 130us        | 2.02838           | 1.42421               |             |"
      ]
     },
     "metadata": {},
     "output_type": "display_data"
    },
    {
     "data": {
      "text/html": [
       "<pre>+---------+--------------+-------------------+-----------------------+-------------+</pre>"
      ],
      "text/plain": [
       "+---------+--------------+-------------------+-----------------------+-------------+"
      ]
     },
     "metadata": {},
     "output_type": "display_data"
    },
    {
     "data": {
      "text/html": [
       "<pre>| 1       | 5.94s        | 2.0532            | 1.43281               | 0.130208    |</pre>"
      ],
      "text/plain": [
       "| 1       | 5.94s        | 2.0532            | 1.43281               | 0.130208    |"
      ]
     },
     "metadata": {},
     "output_type": "display_data"
    },
    {
     "data": {
      "text/html": [
       "<pre>| 2       | 12.13s       | 1.32955           | 1.15294               | 0.130208    |</pre>"
      ],
      "text/plain": [
       "| 2       | 12.13s       | 1.32955           | 1.15294               | 0.130208    |"
      ]
     },
     "metadata": {},
     "output_type": "display_data"
    },
    {
     "data": {
      "text/html": [
       "<pre>| 3       | 19.11s       | 1.3019            | 1.14087               | 0.130208    |</pre>"
      ],
      "text/plain": [
       "| 3       | 19.11s       | 1.3019            | 1.14087               | 0.130208    |"
      ]
     },
     "metadata": {},
     "output_type": "display_data"
    },
    {
     "data": {
      "text/html": [
       "<pre>| 4       | 26.40s       | 1.53996           | 1.24083               | 0.130208    |</pre>"
      ],
      "text/plain": [
       "| 4       | 26.40s       | 1.53996           | 1.24083               | 0.130208    |"
      ]
     },
     "metadata": {},
     "output_type": "display_data"
    },
    {
     "data": {
      "text/html": [
       "<pre>| 5       | 33.50s       | 1.39774           | 1.18214               | 0.130208    |</pre>"
      ],
      "text/plain": [
       "| 5       | 33.50s       | 1.39774           | 1.18214               | 0.130208    |"
      ]
     },
     "metadata": {},
     "output_type": "display_data"
    },
    {
     "data": {
      "text/html": [
       "<pre>| 6       | 39.32s       | 1.33483           | 1.15522               | 0.130208    |</pre>"
      ],
      "text/plain": [
       "| 6       | 39.32s       | 1.33483           | 1.15522               | 0.130208    |"
      ]
     },
     "metadata": {},
     "output_type": "display_data"
    },
    {
     "data": {
      "text/html": [
       "<pre>| 7       | 46.04s       | 1.26081           | 1.12272               | 0.130208    |</pre>"
      ],
      "text/plain": [
       "| 7       | 46.04s       | 1.26081           | 1.12272               | 0.130208    |"
      ]
     },
     "metadata": {},
     "output_type": "display_data"
    },
    {
     "data": {
      "text/html": [
       "<pre>| 8       | 52.30s       | 1.20774           | 1.09883               | 0.130208    |</pre>"
      ],
      "text/plain": [
       "| 8       | 52.30s       | 1.20774           | 1.09883               | 0.130208    |"
      ]
     },
     "metadata": {},
     "output_type": "display_data"
    },
    {
     "data": {
      "text/html": [
       "<pre>| 9       | 59.52s       | 1.15862           | 1.07624               | 0.130208    |</pre>"
      ],
      "text/plain": [
       "| 9       | 59.52s       | 1.15862           | 1.07624               | 0.130208    |"
      ]
     },
     "metadata": {},
     "output_type": "display_data"
    },
    {
     "data": {
      "text/html": [
       "<pre>| 10      | 1m 5s        | 1.12024           | 1.05825               | 0.130208    |</pre>"
      ],
      "text/plain": [
       "| 10      | 1m 5s        | 1.12024           | 1.05825               | 0.130208    |"
      ]
     },
     "metadata": {},
     "output_type": "display_data"
    },
    {
     "data": {
      "text/html": [
       "<pre>| 11      | 1m 11s       | 1.08513           | 1.04153               | 0.130208    |</pre>"
      ],
      "text/plain": [
       "| 11      | 1m 11s       | 1.08513           | 1.04153               | 0.130208    |"
      ]
     },
     "metadata": {},
     "output_type": "display_data"
    },
    {
     "data": {
      "text/html": [
       "<pre>| 12      | 1m 18s       | 1.05589           | 1.02739               | 0.130208    |</pre>"
      ],
      "text/plain": [
       "| 12      | 1m 18s       | 1.05589           | 1.02739               | 0.130208    |"
      ]
     },
     "metadata": {},
     "output_type": "display_data"
    },
    {
     "data": {
      "text/html": [
       "<pre>| 13      | 1m 24s       | 1.02859           | 1.01402               | 0.130208    |</pre>"
      ],
      "text/plain": [
       "| 13      | 1m 24s       | 1.02859           | 1.01402               | 0.130208    |"
      ]
     },
     "metadata": {},
     "output_type": "display_data"
    },
    {
     "data": {
      "text/html": [
       "<pre>| 14      | 1m 30s       | 1.00541           | 1.00252               | 0.130208    |</pre>"
      ],
      "text/plain": [
       "| 14      | 1m 30s       | 1.00541           | 1.00252               | 0.130208    |"
      ]
     },
     "metadata": {},
     "output_type": "display_data"
    },
    {
     "data": {
      "text/html": [
       "<pre>| 15      | 1m 36s       | 0.984505          | 0.992032              | 0.130208    |</pre>"
      ],
      "text/plain": [
       "| 15      | 1m 36s       | 0.984505          | 0.992032              | 0.130208    |"
      ]
     },
     "metadata": {},
     "output_type": "display_data"
    },
    {
     "data": {
      "text/html": [
       "<pre>| 16      | 1m 43s       | 0.965097          | 0.982197              | 0.130208    |</pre>"
      ],
      "text/plain": [
       "| 16      | 1m 43s       | 0.965097          | 0.982197              | 0.130208    |"
      ]
     },
     "metadata": {},
     "output_type": "display_data"
    },
    {
     "data": {
      "text/html": [
       "<pre>| 17      | 1m 49s       | 0.948261          | 0.973585              | 0.130208    |</pre>"
      ],
      "text/plain": [
       "| 17      | 1m 49s       | 0.948261          | 0.973585              | 0.130208    |"
      ]
     },
     "metadata": {},
     "output_type": "display_data"
    },
    {
     "data": {
      "text/html": [
       "<pre>| 18      | 1m 56s       | 0.93279           | 0.965604              | 0.130208    |</pre>"
      ],
      "text/plain": [
       "| 18      | 1m 56s       | 0.93279           | 0.965604              | 0.130208    |"
      ]
     },
     "metadata": {},
     "output_type": "display_data"
    },
    {
     "data": {
      "text/html": [
       "<pre>| 19      | 2m 1s        | 0.919295          | 0.958588              | 0.130208    |</pre>"
      ],
      "text/plain": [
       "| 19      | 2m 1s        | 0.919295          | 0.958588              | 0.130208    |"
      ]
     },
     "metadata": {},
     "output_type": "display_data"
    },
    {
     "data": {
      "text/html": [
       "<pre>| 20      | 2m 9s        | 0.906801          | 0.952046              | 0.130208    |</pre>"
      ],
      "text/plain": [
       "| 20      | 2m 9s        | 0.906801          | 0.952046              | 0.130208    |"
      ]
     },
     "metadata": {},
     "output_type": "display_data"
    },
    {
     "data": {
      "text/html": [
       "<pre>| 21      | 2m 18s       | 0.895945          | 0.946324              | 0.130208    |</pre>"
      ],
      "text/plain": [
       "| 21      | 2m 18s       | 0.895945          | 0.946324              | 0.130208    |"
      ]
     },
     "metadata": {},
     "output_type": "display_data"
    },
    {
     "data": {
      "text/html": [
       "<pre>| 22      | 2m 26s       | 0.885547          | 0.940812              | 0.130208    |</pre>"
      ],
      "text/plain": [
       "| 22      | 2m 26s       | 0.885547          | 0.940812              | 0.130208    |"
      ]
     },
     "metadata": {},
     "output_type": "display_data"
    },
    {
     "data": {
      "text/html": [
       "<pre>| 23      | 2m 35s       | 0.87601           | 0.935727              | 0.130208    |</pre>"
      ],
      "text/plain": [
       "| 23      | 2m 35s       | 0.87601           | 0.935727              | 0.130208    |"
      ]
     },
     "metadata": {},
     "output_type": "display_data"
    },
    {
     "data": {
      "text/html": [
       "<pre>| 24      | 2m 44s       | 0.867669          | 0.931257              | 0.130208    |</pre>"
      ],
      "text/plain": [
       "| 24      | 2m 44s       | 0.867669          | 0.931257              | 0.130208    |"
      ]
     },
     "metadata": {},
     "output_type": "display_data"
    },
    {
     "data": {
      "text/html": [
       "<pre>| 25      | 2m 52s       | 0.858803          | 0.926483              | 0.130208    |</pre>"
      ],
      "text/plain": [
       "| 25      | 2m 52s       | 0.858803          | 0.926483              | 0.130208    |"
      ]
     },
     "metadata": {},
     "output_type": "display_data"
    },
    {
     "data": {
      "text/html": [
       "<pre>| 26      | 3m 0s        | 0.851014          | 0.922267              | 0.130208    |</pre>"
      ],
      "text/plain": [
       "| 26      | 3m 0s        | 0.851014          | 0.922267              | 0.130208    |"
      ]
     },
     "metadata": {},
     "output_type": "display_data"
    },
    {
     "data": {
      "text/html": [
       "<pre>| 27      | 3m 8s        | 0.843751          | 0.918319              | 0.130208    |</pre>"
      ],
      "text/plain": [
       "| 27      | 3m 8s        | 0.843751          | 0.918319              | 0.130208    |"
      ]
     },
     "metadata": {},
     "output_type": "display_data"
    },
    {
     "data": {
      "text/html": [
       "<pre>| 28      | 3m 17s       | 0.836748          | 0.914497              | 0.130208    |</pre>"
      ],
      "text/plain": [
       "| 28      | 3m 17s       | 0.836748          | 0.914497              | 0.130208    |"
      ]
     },
     "metadata": {},
     "output_type": "display_data"
    },
    {
     "data": {
      "text/html": [
       "<pre>| 29      | 3m 26s       | 0.830226          | 0.910922              | 0.130208    |</pre>"
      ],
      "text/plain": [
       "| 29      | 3m 26s       | 0.830226          | 0.910922              | 0.130208    |"
      ]
     },
     "metadata": {},
     "output_type": "display_data"
    },
    {
     "data": {
      "text/html": [
       "<pre>| 30      | 3m 36s       | 0.823762          | 0.907365              | 0.130208    |</pre>"
      ],
      "text/plain": [
       "| 30      | 3m 36s       | 0.823762          | 0.907365              | 0.130208    |"
      ]
     },
     "metadata": {},
     "output_type": "display_data"
    },
    {
     "data": {
      "text/html": [
       "<pre>| 31      | 3m 46s       | 0.81776           | 0.90405               | 0.130208    |</pre>"
      ],
      "text/plain": [
       "| 31      | 3m 46s       | 0.81776           | 0.90405               | 0.130208    |"
      ]
     },
     "metadata": {},
     "output_type": "display_data"
    },
    {
     "data": {
      "text/html": [
       "<pre>| 32      | 3m 57s       | 0.812348          | 0.90105               | 0.130208    |</pre>"
      ],
      "text/plain": [
       "| 32      | 3m 57s       | 0.812348          | 0.90105               | 0.130208    |"
      ]
     },
     "metadata": {},
     "output_type": "display_data"
    },
    {
     "data": {
      "text/html": [
       "<pre>| 33      | 4m 7s        | 0.807088          | 0.898125              | 0.130208    |</pre>"
      ],
      "text/plain": [
       "| 33      | 4m 7s        | 0.807088          | 0.898125              | 0.130208    |"
      ]
     },
     "metadata": {},
     "output_type": "display_data"
    },
    {
     "data": {
      "text/html": [
       "<pre>| 34      | 4m 17s       | 0.801818          | 0.895185              | 0.130208    |</pre>"
      ],
      "text/plain": [
       "| 34      | 4m 17s       | 0.801818          | 0.895185              | 0.130208    |"
      ]
     },
     "metadata": {},
     "output_type": "display_data"
    },
    {
     "data": {
      "text/html": [
       "<pre>| 35      | 4m 25s       | 0.796957          | 0.892465              | 0.130208    |</pre>"
      ],
      "text/plain": [
       "| 35      | 4m 25s       | 0.796957          | 0.892465              | 0.130208    |"
      ]
     },
     "metadata": {},
     "output_type": "display_data"
    },
    {
     "data": {
      "text/html": [
       "<pre>| 36      | 4m 30s       | 0.792288          | 0.889843              | 0.130208    |</pre>"
      ],
      "text/plain": [
       "| 36      | 4m 30s       | 0.792288          | 0.889843              | 0.130208    |"
      ]
     },
     "metadata": {},
     "output_type": "display_data"
    },
    {
     "data": {
      "text/html": [
       "<pre>| 37      | 4m 38s       | 0.787743          | 0.887285              | 0.130208    |</pre>"
      ],
      "text/plain": [
       "| 37      | 4m 38s       | 0.787743          | 0.887285              | 0.130208    |"
      ]
     },
     "metadata": {},
     "output_type": "display_data"
    },
    {
     "data": {
      "text/html": [
       "<pre>| 38      | 4m 44s       | 0.783516          | 0.884898              | 0.130208    |</pre>"
      ],
      "text/plain": [
       "| 38      | 4m 44s       | 0.783516          | 0.884898              | 0.130208    |"
      ]
     },
     "metadata": {},
     "output_type": "display_data"
    },
    {
     "data": {
      "text/html": [
       "<pre>| 39      | 4m 51s       | 0.779305          | 0.882514              | 0.130208    |</pre>"
      ],
      "text/plain": [
       "| 39      | 4m 51s       | 0.779305          | 0.882514              | 0.130208    |"
      ]
     },
     "metadata": {},
     "output_type": "display_data"
    },
    {
     "data": {
      "text/html": [
       "<pre>| 40      | 4m 57s       | 0.775195          | 0.880181              | 0.130208    |</pre>"
      ],
      "text/plain": [
       "| 40      | 4m 57s       | 0.775195          | 0.880181              | 0.130208    |"
      ]
     },
     "metadata": {},
     "output_type": "display_data"
    },
    {
     "data": {
      "text/html": [
       "<pre>| 41      | 5m 4s        | 0.771314          | 0.877972              | 0.130208    |</pre>"
      ],
      "text/plain": [
       "| 41      | 5m 4s        | 0.771314          | 0.877972              | 0.130208    |"
      ]
     },
     "metadata": {},
     "output_type": "display_data"
    },
    {
     "data": {
      "text/html": [
       "<pre>| 42      | 5m 11s       | 0.767596          | 0.875851              | 0.130208    |</pre>"
      ],
      "text/plain": [
       "| 42      | 5m 11s       | 0.767596          | 0.875851              | 0.130208    |"
      ]
     },
     "metadata": {},
     "output_type": "display_data"
    },
    {
     "data": {
      "text/html": [
       "<pre>| 43      | 5m 17s       | 0.763911          | 0.873744              | 0.130208    |</pre>"
      ],
      "text/plain": [
       "| 43      | 5m 17s       | 0.763911          | 0.873744              | 0.130208    |"
      ]
     },
     "metadata": {},
     "output_type": "display_data"
    },
    {
     "data": {
      "text/html": [
       "<pre>| 44      | 5m 23s       | 0.76041           | 0.871737              | 0.130208    |</pre>"
      ],
      "text/plain": [
       "| 44      | 5m 23s       | 0.76041           | 0.871737              | 0.130208    |"
      ]
     },
     "metadata": {},
     "output_type": "display_data"
    },
    {
     "data": {
      "text/html": [
       "<pre>| 45      | 5m 29s       | 0.756881          | 0.869709              | 0.130208    |</pre>"
      ],
      "text/plain": [
       "| 45      | 5m 29s       | 0.756881          | 0.869709              | 0.130208    |"
      ]
     },
     "metadata": {},
     "output_type": "display_data"
    },
    {
     "data": {
      "text/html": [
       "<pre>| 46      | 5m 36s       | 0.753823          | 0.867948              | 0.130208    |</pre>"
      ],
      "text/plain": [
       "| 46      | 5m 36s       | 0.753823          | 0.867948              | 0.130208    |"
      ]
     },
     "metadata": {},
     "output_type": "display_data"
    },
    {
     "data": {
      "text/html": [
       "<pre>| 47      | 5m 43s       | 0.750564          | 0.866068              | 0.130208    |</pre>"
      ],
      "text/plain": [
       "| 47      | 5m 43s       | 0.750564          | 0.866068              | 0.130208    |"
      ]
     },
     "metadata": {},
     "output_type": "display_data"
    },
    {
     "data": {
      "text/html": [
       "<pre>| 48      | 5m 48s       | 0.74761           | 0.86436               | 0.130208    |</pre>"
      ],
      "text/plain": [
       "| 48      | 5m 48s       | 0.74761           | 0.86436               | 0.130208    |"
      ]
     },
     "metadata": {},
     "output_type": "display_data"
    },
    {
     "data": {
      "text/html": [
       "<pre>| 49      | 5m 55s       | 0.744379          | 0.862488              | 0.130208    |</pre>"
      ],
      "text/plain": [
       "| 49      | 5m 55s       | 0.744379          | 0.862488              | 0.130208    |"
      ]
     },
     "metadata": {},
     "output_type": "display_data"
    },
    {
     "data": {
      "text/html": [
       "<pre>| 50      | 6m 2s        | 0.741636          | 0.860895              | 0.130208    |</pre>"
      ],
      "text/plain": [
       "| 50      | 6m 2s        | 0.741636          | 0.860895              | 0.130208    |"
      ]
     },
     "metadata": {},
     "output_type": "display_data"
    },
    {
     "data": {
      "text/html": [
       "<pre>+---------+--------------+-------------------+-----------------------+-------------+</pre>"
      ],
      "text/plain": [
       "+---------+--------------+-------------------+-----------------------+-------------+"
      ]
     },
     "metadata": {},
     "output_type": "display_data"
    },
    {
     "data": {
      "text/html": [
       "<pre>Optimization Complete: Maximum number of passes through the data reached.</pre>"
      ],
      "text/plain": [
       "Optimization Complete: Maximum number of passes through the data reached."
      ]
     },
     "metadata": {},
     "output_type": "display_data"
    },
    {
     "data": {
      "text/html": [
       "<pre>Computing final objective value and training RMSE.</pre>"
      ],
      "text/plain": [
       "Computing final objective value and training RMSE."
      ]
     },
     "metadata": {},
     "output_type": "display_data"
    },
    {
     "data": {
      "text/html": [
       "<pre>       Final objective value: 0.693225</pre>"
      ],
      "text/plain": [
       "       Final objective value: 0.693225"
      ]
     },
     "metadata": {},
     "output_type": "display_data"
    },
    {
     "data": {
      "text/html": [
       "<pre>       Final training RMSE: 0.832303</pre>"
      ],
      "text/plain": [
       "       Final training RMSE: 0.832303"
      ]
     },
     "metadata": {},
     "output_type": "display_data"
    },
    {
     "name": "stdout",
     "output_type": "stream",
     "text": [
      "PROGRESS: Evaluate model M0\n"
     ]
    },
    {
     "data": {
      "text/html": [
       "<pre>recommendations finished on 1000/161955 queries. users per second: 30791</pre>"
      ],
      "text/plain": [
       "recommendations finished on 1000/161955 queries. users per second: 30791"
      ]
     },
     "metadata": {},
     "output_type": "display_data"
    },
    {
     "data": {
      "text/html": [
       "<pre>recommendations finished on 2000/161955 queries. users per second: 50511.4</pre>"
      ],
      "text/plain": [
       "recommendations finished on 2000/161955 queries. users per second: 50511.4"
      ]
     },
     "metadata": {},
     "output_type": "display_data"
    },
    {
     "data": {
      "text/html": [
       "<pre>recommendations finished on 3000/161955 queries. users per second: 22947.2</pre>"
      ],
      "text/plain": [
       "recommendations finished on 3000/161955 queries. users per second: 22947.2"
      ]
     },
     "metadata": {},
     "output_type": "display_data"
    },
    {
     "data": {
      "text/html": [
       "<pre>recommendations finished on 4000/161955 queries. users per second: 29045.1</pre>"
      ],
      "text/plain": [
       "recommendations finished on 4000/161955 queries. users per second: 29045.1"
      ]
     },
     "metadata": {},
     "output_type": "display_data"
    },
    {
     "data": {
      "text/html": [
       "<pre>recommendations finished on 5000/161955 queries. users per second: 21868.8</pre>"
      ],
      "text/plain": [
       "recommendations finished on 5000/161955 queries. users per second: 21868.8"
      ]
     },
     "metadata": {},
     "output_type": "display_data"
    },
    {
     "data": {
      "text/html": [
       "<pre>recommendations finished on 6000/161955 queries. users per second: 25515.7</pre>"
      ],
      "text/plain": [
       "recommendations finished on 6000/161955 queries. users per second: 25515.7"
      ]
     },
     "metadata": {},
     "output_type": "display_data"
    },
    {
     "data": {
      "text/html": [
       "<pre>recommendations finished on 7000/161955 queries. users per second: 21423.1</pre>"
      ],
      "text/plain": [
       "recommendations finished on 7000/161955 queries. users per second: 21423.1"
      ]
     },
     "metadata": {},
     "output_type": "display_data"
    },
    {
     "data": {
      "text/html": [
       "<pre>recommendations finished on 8000/161955 queries. users per second: 23985.5</pre>"
      ],
      "text/plain": [
       "recommendations finished on 8000/161955 queries. users per second: 23985.5"
      ]
     },
     "metadata": {},
     "output_type": "display_data"
    },
    {
     "data": {
      "text/html": [
       "<pre>recommendations finished on 9000/161955 queries. users per second: 26417.1</pre>"
      ],
      "text/plain": [
       "recommendations finished on 9000/161955 queries. users per second: 26417.1"
      ]
     },
     "metadata": {},
     "output_type": "display_data"
    },
    {
     "data": {
      "text/html": [
       "<pre>recommendations finished on 10000/161955 queries. users per second: 23228</pre>"
      ],
      "text/plain": [
       "recommendations finished on 10000/161955 queries. users per second: 23228"
      ]
     },
     "metadata": {},
     "output_type": "display_data"
    },
    {
     "data": {
      "text/html": [
       "<pre>recommendations finished on 11000/161955 queries. users per second: 25157.8</pre>"
      ],
      "text/plain": [
       "recommendations finished on 11000/161955 queries. users per second: 25157.8"
      ]
     },
     "metadata": {},
     "output_type": "display_data"
    },
    {
     "data": {
      "text/html": [
       "<pre>recommendations finished on 12000/161955 queries. users per second: 22665.8</pre>"
      ],
      "text/plain": [
       "recommendations finished on 12000/161955 queries. users per second: 22665.8"
      ]
     },
     "metadata": {},
     "output_type": "display_data"
    },
    {
     "data": {
      "text/html": [
       "<pre>recommendations finished on 13000/161955 queries. users per second: 24240.9</pre>"
      ],
      "text/plain": [
       "recommendations finished on 13000/161955 queries. users per second: 24240.9"
      ]
     },
     "metadata": {},
     "output_type": "display_data"
    },
    {
     "data": {
      "text/html": [
       "<pre>recommendations finished on 14000/161955 queries. users per second: 22259.2</pre>"
      ],
      "text/plain": [
       "recommendations finished on 14000/161955 queries. users per second: 22259.2"
      ]
     },
     "metadata": {},
     "output_type": "display_data"
    },
    {
     "data": {
      "text/html": [
       "<pre>recommendations finished on 15000/161955 queries. users per second: 23596.3</pre>"
      ],
      "text/plain": [
       "recommendations finished on 15000/161955 queries. users per second: 23596.3"
      ]
     },
     "metadata": {},
     "output_type": "display_data"
    },
    {
     "data": {
      "text/html": [
       "<pre>recommendations finished on 16000/161955 queries. users per second: 22010.7</pre>"
      ],
      "text/plain": [
       "recommendations finished on 16000/161955 queries. users per second: 22010.7"
      ]
     },
     "metadata": {},
     "output_type": "display_data"
    },
    {
     "data": {
      "text/html": [
       "<pre>recommendations finished on 17000/161955 queries. users per second: 23174.7</pre>"
      ],
      "text/plain": [
       "recommendations finished on 17000/161955 queries. users per second: 23174.7"
      ]
     },
     "metadata": {},
     "output_type": "display_data"
    },
    {
     "data": {
      "text/html": [
       "<pre>recommendations finished on 18000/161955 queries. users per second: 24261.6</pre>"
      ],
      "text/plain": [
       "recommendations finished on 18000/161955 queries. users per second: 24261.6"
      ]
     },
     "metadata": {},
     "output_type": "display_data"
    },
    {
     "data": {
      "text/html": [
       "<pre>recommendations finished on 19000/161955 queries. users per second: 22874.7</pre>"
      ],
      "text/plain": [
       "recommendations finished on 19000/161955 queries. users per second: 22874.7"
      ]
     },
     "metadata": {},
     "output_type": "display_data"
    },
    {
     "data": {
      "text/html": [
       "<pre>recommendations finished on 20000/161955 queries. users per second: 23887.1</pre>"
      ],
      "text/plain": [
       "recommendations finished on 20000/161955 queries. users per second: 23887.1"
      ]
     },
     "metadata": {},
     "output_type": "display_data"
    },
    {
     "data": {
      "text/html": [
       "<pre>recommendations finished on 21000/161955 queries. users per second: 22637.1</pre>"
      ],
      "text/plain": [
       "recommendations finished on 21000/161955 queries. users per second: 22637.1"
      ]
     },
     "metadata": {},
     "output_type": "display_data"
    },
    {
     "data": {
      "text/html": [
       "<pre>recommendations finished on 22000/161955 queries. users per second: 23553.4</pre>"
      ],
      "text/plain": [
       "recommendations finished on 22000/161955 queries. users per second: 23553.4"
      ]
     },
     "metadata": {},
     "output_type": "display_data"
    },
    {
     "data": {
      "text/html": [
       "<pre>recommendations finished on 23000/161955 queries. users per second: 22403.4</pre>"
      ],
      "text/plain": [
       "recommendations finished on 23000/161955 queries. users per second: 22403.4"
      ]
     },
     "metadata": {},
     "output_type": "display_data"
    },
    {
     "data": {
      "text/html": [
       "<pre>recommendations finished on 24000/161955 queries. users per second: 23231.6</pre>"
      ],
      "text/plain": [
       "recommendations finished on 24000/161955 queries. users per second: 23231.6"
      ]
     },
     "metadata": {},
     "output_type": "display_data"
    },
    {
     "data": {
      "text/html": [
       "<pre>recommendations finished on 25000/161955 queries. users per second: 24044.4</pre>"
      ],
      "text/plain": [
       "recommendations finished on 25000/161955 queries. users per second: 24044.4"
      ]
     },
     "metadata": {},
     "output_type": "display_data"
    },
    {
     "data": {
      "text/html": [
       "<pre>recommendations finished on 26000/161955 queries. users per second: 23046.6</pre>"
      ],
      "text/plain": [
       "recommendations finished on 26000/161955 queries. users per second: 23046.6"
      ]
     },
     "metadata": {},
     "output_type": "display_data"
    },
    {
     "data": {
      "text/html": [
       "<pre>recommendations finished on 27000/161955 queries. users per second: 23798.5</pre>"
      ],
      "text/plain": [
       "recommendations finished on 27000/161955 queries. users per second: 23798.5"
      ]
     },
     "metadata": {},
     "output_type": "display_data"
    },
    {
     "data": {
      "text/html": [
       "<pre>recommendations finished on 28000/161955 queries. users per second: 22848.6</pre>"
      ],
      "text/plain": [
       "recommendations finished on 28000/161955 queries. users per second: 22848.6"
      ]
     },
     "metadata": {},
     "output_type": "display_data"
    },
    {
     "data": {
      "text/html": [
       "<pre>recommendations finished on 29000/161955 queries. users per second: 23543.3</pre>"
      ],
      "text/plain": [
       "recommendations finished on 29000/161955 queries. users per second: 23543.3"
      ]
     },
     "metadata": {},
     "output_type": "display_data"
    },
    {
     "data": {
      "text/html": [
       "<pre>recommendations finished on 30000/161955 queries. users per second: 24210.5</pre>"
      ],
      "text/plain": [
       "recommendations finished on 30000/161955 queries. users per second: 24210.5"
      ]
     },
     "metadata": {},
     "output_type": "display_data"
    },
    {
     "data": {
      "text/html": [
       "<pre>recommendations finished on 31000/161955 queries. users per second: 23327.3</pre>"
      ],
      "text/plain": [
       "recommendations finished on 31000/161955 queries. users per second: 23327.3"
      ]
     },
     "metadata": {},
     "output_type": "display_data"
    },
    {
     "data": {
      "text/html": [
       "<pre>recommendations finished on 32000/161955 queries. users per second: 23964.2</pre>"
      ],
      "text/plain": [
       "recommendations finished on 32000/161955 queries. users per second: 23964.2"
      ]
     },
     "metadata": {},
     "output_type": "display_data"
    },
    {
     "data": {
      "text/html": [
       "<pre>recommendations finished on 33000/161955 queries. users per second: 23143.2</pre>"
      ],
      "text/plain": [
       "recommendations finished on 33000/161955 queries. users per second: 23143.2"
      ]
     },
     "metadata": {},
     "output_type": "display_data"
    },
    {
     "data": {
      "text/html": [
       "<pre>recommendations finished on 34000/161955 queries. users per second: 23739.2</pre>"
      ],
      "text/plain": [
       "recommendations finished on 34000/161955 queries. users per second: 23739.2"
      ]
     },
     "metadata": {},
     "output_type": "display_data"
    },
    {
     "data": {
      "text/html": [
       "<pre>recommendations finished on 35000/161955 queries. users per second: 24302.6</pre>"
      ],
      "text/plain": [
       "recommendations finished on 35000/161955 queries. users per second: 24302.6"
      ]
     },
     "metadata": {},
     "output_type": "display_data"
    },
    {
     "data": {
      "text/html": [
       "<pre>recommendations finished on 36000/161955 queries. users per second: 23528.8</pre>"
      ],
      "text/plain": [
       "recommendations finished on 36000/161955 queries. users per second: 23528.8"
      ]
     },
     "metadata": {},
     "output_type": "display_data"
    },
    {
     "data": {
      "text/html": [
       "<pre>recommendations finished on 37000/161955 queries. users per second: 24079.2</pre>"
      ],
      "text/plain": [
       "recommendations finished on 37000/161955 queries. users per second: 24079.2"
      ]
     },
     "metadata": {},
     "output_type": "display_data"
    },
    {
     "data": {
      "text/html": [
       "<pre>recommendations finished on 38000/161955 queries. users per second: 23359.6</pre>"
      ],
      "text/plain": [
       "recommendations finished on 38000/161955 queries. users per second: 23359.6"
      ]
     },
     "metadata": {},
     "output_type": "display_data"
    },
    {
     "data": {
      "text/html": [
       "<pre>recommendations finished on 39000/161955 queries. users per second: 23878.5</pre>"
      ],
      "text/plain": [
       "recommendations finished on 39000/161955 queries. users per second: 23878.5"
      ]
     },
     "metadata": {},
     "output_type": "display_data"
    },
    {
     "data": {
      "text/html": [
       "<pre>recommendations finished on 40000/161955 queries. users per second: 24389.8</pre>"
      ],
      "text/plain": [
       "recommendations finished on 40000/161955 queries. users per second: 24389.8"
      ]
     },
     "metadata": {},
     "output_type": "display_data"
    },
    {
     "data": {
      "text/html": [
       "<pre>recommendations finished on 41000/161955 queries. users per second: 23700</pre>"
      ],
      "text/plain": [
       "recommendations finished on 41000/161955 queries. users per second: 23700"
      ]
     },
     "metadata": {},
     "output_type": "display_data"
    },
    {
     "data": {
      "text/html": [
       "<pre>recommendations finished on 42000/161955 queries. users per second: 24185.3</pre>"
      ],
      "text/plain": [
       "recommendations finished on 42000/161955 queries. users per second: 24185.3"
      ]
     },
     "metadata": {},
     "output_type": "display_data"
    },
    {
     "data": {
      "text/html": [
       "<pre>recommendations finished on 43000/161955 queries. users per second: 23531.3</pre>"
      ],
      "text/plain": [
       "recommendations finished on 43000/161955 queries. users per second: 23531.3"
      ]
     },
     "metadata": {},
     "output_type": "display_data"
    },
    {
     "data": {
      "text/html": [
       "<pre>recommendations finished on 44000/161955 queries. users per second: 23994</pre>"
      ],
      "text/plain": [
       "recommendations finished on 44000/161955 queries. users per second: 23994"
      ]
     },
     "metadata": {},
     "output_type": "display_data"
    },
    {
     "data": {
      "text/html": [
       "<pre>recommendations finished on 45000/161955 queries. users per second: 24440.6</pre>"
      ],
      "text/plain": [
       "recommendations finished on 45000/161955 queries. users per second: 24440.6"
      ]
     },
     "metadata": {},
     "output_type": "display_data"
    },
    {
     "data": {
      "text/html": [
       "<pre>recommendations finished on 46000/161955 queries. users per second: 23836.1</pre>"
      ],
      "text/plain": [
       "recommendations finished on 46000/161955 queries. users per second: 23836.1"
      ]
     },
     "metadata": {},
     "output_type": "display_data"
    },
    {
     "data": {
      "text/html": [
       "<pre>recommendations finished on 47000/161955 queries. users per second: 24273.5</pre>"
      ],
      "text/plain": [
       "recommendations finished on 47000/161955 queries. users per second: 24273.5"
      ]
     },
     "metadata": {},
     "output_type": "display_data"
    },
    {
     "data": {
      "text/html": [
       "<pre>recommendations finished on 48000/161955 queries. users per second: 23688.5</pre>"
      ],
      "text/plain": [
       "recommendations finished on 48000/161955 queries. users per second: 23688.5"
      ]
     },
     "metadata": {},
     "output_type": "display_data"
    },
    {
     "data": {
      "text/html": [
       "<pre>recommendations finished on 49000/161955 queries. users per second: 24104.9</pre>"
      ],
      "text/plain": [
       "recommendations finished on 49000/161955 queries. users per second: 24104.9"
      ]
     },
     "metadata": {},
     "output_type": "display_data"
    },
    {
     "data": {
      "text/html": [
       "<pre>recommendations finished on 50000/161955 queries. users per second: 24513.4</pre>"
      ],
      "text/plain": [
       "recommendations finished on 50000/161955 queries. users per second: 24513.4"
      ]
     },
     "metadata": {},
     "output_type": "display_data"
    },
    {
     "data": {
      "text/html": [
       "<pre>recommendations finished on 51000/161955 queries. users per second: 23953</pre>"
      ],
      "text/plain": [
       "recommendations finished on 51000/161955 queries. users per second: 23953"
      ]
     },
     "metadata": {},
     "output_type": "display_data"
    },
    {
     "data": {
      "text/html": [
       "<pre>recommendations finished on 52000/161955 queries. users per second: 24347.6</pre>"
      ],
      "text/plain": [
       "recommendations finished on 52000/161955 queries. users per second: 24347.6"
      ]
     },
     "metadata": {},
     "output_type": "display_data"
    },
    {
     "data": {
      "text/html": [
       "<pre>recommendations finished on 53000/161955 queries. users per second: 23805.9</pre>"
      ],
      "text/plain": [
       "recommendations finished on 53000/161955 queries. users per second: 23805.9"
      ]
     },
     "metadata": {},
     "output_type": "display_data"
    },
    {
     "data": {
      "text/html": [
       "<pre>recommendations finished on 54000/161955 queries. users per second: 24186.1</pre>"
      ],
      "text/plain": [
       "recommendations finished on 54000/161955 queries. users per second: 24186.1"
      ]
     },
     "metadata": {},
     "output_type": "display_data"
    },
    {
     "data": {
      "text/html": [
       "<pre>recommendations finished on 55000/161955 queries. users per second: 24560.3</pre>"
      ],
      "text/plain": [
       "recommendations finished on 55000/161955 queries. users per second: 24560.3"
      ]
     },
     "metadata": {},
     "output_type": "display_data"
    },
    {
     "data": {
      "text/html": [
       "<pre>recommendations finished on 56000/161955 queries. users per second: 24049.9</pre>"
      ],
      "text/plain": [
       "recommendations finished on 56000/161955 queries. users per second: 24049.9"
      ]
     },
     "metadata": {},
     "output_type": "display_data"
    },
    {
     "data": {
      "text/html": [
       "<pre>recommendations finished on 57000/161955 queries. users per second: 24412.4</pre>"
      ],
      "text/plain": [
       "recommendations finished on 57000/161955 queries. users per second: 24412.4"
      ]
     },
     "metadata": {},
     "output_type": "display_data"
    },
    {
     "data": {
      "text/html": [
       "<pre>recommendations finished on 58000/161955 queries. users per second: 23915.4</pre>"
      ],
      "text/plain": [
       "recommendations finished on 58000/161955 queries. users per second: 23915.4"
      ]
     },
     "metadata": {},
     "output_type": "display_data"
    },
    {
     "data": {
      "text/html": [
       "<pre>recommendations finished on 59000/161955 queries. users per second: 24263</pre>"
      ],
      "text/plain": [
       "recommendations finished on 59000/161955 queries. users per second: 24263"
      ]
     },
     "metadata": {},
     "output_type": "display_data"
    },
    {
     "data": {
      "text/html": [
       "<pre>recommendations finished on 60000/161955 queries. users per second: 24604.4</pre>"
      ],
      "text/plain": [
       "recommendations finished on 60000/161955 queries. users per second: 24604.4"
      ]
     },
     "metadata": {},
     "output_type": "display_data"
    },
    {
     "data": {
      "text/html": [
       "<pre>recommendations finished on 61000/161955 queries. users per second: 24126.1</pre>"
      ],
      "text/plain": [
       "recommendations finished on 61000/161955 queries. users per second: 24126.1"
      ]
     },
     "metadata": {},
     "output_type": "display_data"
    },
    {
     "data": {
      "text/html": [
       "<pre>recommendations finished on 62000/161955 queries. users per second: 24459.3</pre>"
      ],
      "text/plain": [
       "recommendations finished on 62000/161955 queries. users per second: 24459.3"
      ]
     },
     "metadata": {},
     "output_type": "display_data"
    },
    {
     "data": {
      "text/html": [
       "<pre>recommendations finished on 63000/161955 queries. users per second: 23997</pre>"
      ],
      "text/plain": [
       "recommendations finished on 63000/161955 queries. users per second: 23997"
      ]
     },
     "metadata": {},
     "output_type": "display_data"
    },
    {
     "data": {
      "text/html": [
       "<pre>recommendations finished on 64000/161955 queries. users per second: 24319.8</pre>"
      ],
      "text/plain": [
       "recommendations finished on 64000/161955 queries. users per second: 24319.8"
      ]
     },
     "metadata": {},
     "output_type": "display_data"
    },
    {
     "data": {
      "text/html": [
       "<pre>recommendations finished on 65000/161955 queries. users per second: 24636.7</pre>"
      ],
      "text/plain": [
       "recommendations finished on 65000/161955 queries. users per second: 24636.7"
      ]
     },
     "metadata": {},
     "output_type": "display_data"
    },
    {
     "data": {
      "text/html": [
       "<pre>recommendations finished on 66000/161955 queries. users per second: 24166.5</pre>"
      ],
      "text/plain": [
       "recommendations finished on 66000/161955 queries. users per second: 24166.5"
      ]
     },
     "metadata": {},
     "output_type": "display_data"
    },
    {
     "data": {
      "text/html": [
       "<pre>recommendations finished on 67000/161955 queries. users per second: 24473.7</pre>"
      ],
      "text/plain": [
       "recommendations finished on 67000/161955 queries. users per second: 24473.7"
      ]
     },
     "metadata": {},
     "output_type": "display_data"
    },
    {
     "data": {
      "text/html": [
       "<pre>recommendations finished on 68000/161955 queries. users per second: 24049.5</pre>"
      ],
      "text/plain": [
       "recommendations finished on 68000/161955 queries. users per second: 24049.5"
      ]
     },
     "metadata": {},
     "output_type": "display_data"
    },
    {
     "data": {
      "text/html": [
       "<pre>recommendations finished on 69000/161955 queries. users per second: 24348.2</pre>"
      ],
      "text/plain": [
       "recommendations finished on 69000/161955 queries. users per second: 24348.2"
      ]
     },
     "metadata": {},
     "output_type": "display_data"
    },
    {
     "data": {
      "text/html": [
       "<pre>recommendations finished on 70000/161955 queries. users per second: 23926.9</pre>"
      ],
      "text/plain": [
       "recommendations finished on 70000/161955 queries. users per second: 23926.9"
      ]
     },
     "metadata": {},
     "output_type": "display_data"
    },
    {
     "data": {
      "text/html": [
       "<pre>recommendations finished on 71000/161955 queries. users per second: 24201.7</pre>"
      ],
      "text/plain": [
       "recommendations finished on 71000/161955 queries. users per second: 24201.7"
      ]
     },
     "metadata": {},
     "output_type": "display_data"
    },
    {
     "data": {
      "text/html": [
       "<pre>recommendations finished on 72000/161955 queries. users per second: 24477.4</pre>"
      ],
      "text/plain": [
       "recommendations finished on 72000/161955 queries. users per second: 24477.4"
      ]
     },
     "metadata": {},
     "output_type": "display_data"
    },
    {
     "data": {
      "text/html": [
       "<pre>recommendations finished on 73000/161955 queries. users per second: 24082.5</pre>"
      ],
      "text/plain": [
       "recommendations finished on 73000/161955 queries. users per second: 24082.5"
      ]
     },
     "metadata": {},
     "output_type": "display_data"
    },
    {
     "data": {
      "text/html": [
       "<pre>recommendations finished on 74000/161955 queries. users per second: 24356.8</pre>"
      ],
      "text/plain": [
       "recommendations finished on 74000/161955 queries. users per second: 24356.8"
      ]
     },
     "metadata": {},
     "output_type": "display_data"
    },
    {
     "data": {
      "text/html": [
       "<pre>recommendations finished on 75000/161955 queries. users per second: 23979.2</pre>"
      ],
      "text/plain": [
       "recommendations finished on 75000/161955 queries. users per second: 23979.2"
      ]
     },
     "metadata": {},
     "output_type": "display_data"
    },
    {
     "data": {
      "text/html": [
       "<pre>recommendations finished on 76000/161955 queries. users per second: 24248.3</pre>"
      ],
      "text/plain": [
       "recommendations finished on 76000/161955 queries. users per second: 24248.3"
      ]
     },
     "metadata": {},
     "output_type": "display_data"
    },
    {
     "data": {
      "text/html": [
       "<pre>recommendations finished on 77000/161955 queries. users per second: 23878.1</pre>"
      ],
      "text/plain": [
       "recommendations finished on 77000/161955 queries. users per second: 23878.1"
      ]
     },
     "metadata": {},
     "output_type": "display_data"
    },
    {
     "data": {
      "text/html": [
       "<pre>recommendations finished on 78000/161955 queries. users per second: 24138.1</pre>"
      ],
      "text/plain": [
       "recommendations finished on 78000/161955 queries. users per second: 24138.1"
      ]
     },
     "metadata": {},
     "output_type": "display_data"
    },
    {
     "data": {
      "text/html": [
       "<pre>recommendations finished on 79000/161955 queries. users per second: 24395.6</pre>"
      ],
      "text/plain": [
       "recommendations finished on 79000/161955 queries. users per second: 24395.6"
      ]
     },
     "metadata": {},
     "output_type": "display_data"
    },
    {
     "data": {
      "text/html": [
       "<pre>recommendations finished on 80000/161955 queries. users per second: 24039.4</pre>"
      ],
      "text/plain": [
       "recommendations finished on 80000/161955 queries. users per second: 24039.4"
      ]
     },
     "metadata": {},
     "output_type": "display_data"
    },
    {
     "data": {
      "text/html": [
       "<pre>recommendations finished on 81000/161955 queries. users per second: 24290.8</pre>"
      ],
      "text/plain": [
       "recommendations finished on 81000/161955 queries. users per second: 24290.8"
      ]
     },
     "metadata": {},
     "output_type": "display_data"
    },
    {
     "data": {
      "text/html": [
       "<pre>recommendations finished on 82000/161955 queries. users per second: 23938.4</pre>"
      ],
      "text/plain": [
       "recommendations finished on 82000/161955 queries. users per second: 23938.4"
      ]
     },
     "metadata": {},
     "output_type": "display_data"
    },
    {
     "data": {
      "text/html": [
       "<pre>recommendations finished on 83000/161955 queries. users per second: 24183.4</pre>"
      ],
      "text/plain": [
       "recommendations finished on 83000/161955 queries. users per second: 24183.4"
      ]
     },
     "metadata": {},
     "output_type": "display_data"
    },
    {
     "data": {
      "text/html": [
       "<pre>recommendations finished on 84000/161955 queries. users per second: 24424.9</pre>"
      ],
      "text/plain": [
       "recommendations finished on 84000/161955 queries. users per second: 24424.9"
      ]
     },
     "metadata": {},
     "output_type": "display_data"
    },
    {
     "data": {
      "text/html": [
       "<pre>recommendations finished on 85000/161955 queries. users per second: 24085.1</pre>"
      ],
      "text/plain": [
       "recommendations finished on 85000/161955 queries. users per second: 24085.1"
      ]
     },
     "metadata": {},
     "output_type": "display_data"
    },
    {
     "data": {
      "text/html": [
       "<pre>recommendations finished on 86000/161955 queries. users per second: 24324.4</pre>"
      ],
      "text/plain": [
       "recommendations finished on 86000/161955 queries. users per second: 24324.4"
      ]
     },
     "metadata": {},
     "output_type": "display_data"
    },
    {
     "data": {
      "text/html": [
       "<pre>recommendations finished on 87000/161955 queries. users per second: 23992.4</pre>"
      ],
      "text/plain": [
       "recommendations finished on 87000/161955 queries. users per second: 23992.4"
      ]
     },
     "metadata": {},
     "output_type": "display_data"
    },
    {
     "data": {
      "text/html": [
       "<pre>recommendations finished on 88000/161955 queries. users per second: 24225.9</pre>"
      ],
      "text/plain": [
       "recommendations finished on 88000/161955 queries. users per second: 24225.9"
      ]
     },
     "metadata": {},
     "output_type": "display_data"
    },
    {
     "data": {
      "text/html": [
       "<pre>recommendations finished on 89000/161955 queries. users per second: 24449.1</pre>"
      ],
      "text/plain": [
       "recommendations finished on 89000/161955 queries. users per second: 24449.1"
      ]
     },
     "metadata": {},
     "output_type": "display_data"
    },
    {
     "data": {
      "text/html": [
       "<pre>recommendations finished on 90000/161955 queries. users per second: 24128.5</pre>"
      ],
      "text/plain": [
       "recommendations finished on 90000/161955 queries. users per second: 24128.5"
      ]
     },
     "metadata": {},
     "output_type": "display_data"
    },
    {
     "data": {
      "text/html": [
       "<pre>recommendations finished on 91000/161955 queries. users per second: 24354.5</pre>"
      ],
      "text/plain": [
       "recommendations finished on 91000/161955 queries. users per second: 24354.5"
      ]
     },
     "metadata": {},
     "output_type": "display_data"
    },
    {
     "data": {
      "text/html": [
       "<pre>recommendations finished on 93000/161955 queries. users per second: 24262.5</pre>"
      ],
      "text/plain": [
       "recommendations finished on 93000/161955 queries. users per second: 24262.5"
      ]
     },
     "metadata": {},
     "output_type": "display_data"
    },
    {
     "data": {
      "text/html": [
       "<pre>recommendations finished on 94000/161955 queries. users per second: 24474.6</pre>"
      ],
      "text/plain": [
       "recommendations finished on 94000/161955 queries. users per second: 24474.6"
      ]
     },
     "metadata": {},
     "output_type": "display_data"
    },
    {
     "data": {
      "text/html": [
       "<pre>recommendations finished on 92000/161955 queries. users per second: 24042.1</pre>"
      ],
      "text/plain": [
       "recommendations finished on 92000/161955 queries. users per second: 24042.1"
      ]
     },
     "metadata": {},
     "output_type": "display_data"
    },
    {
     "data": {
      "text/html": [
       "<pre>recommendations finished on 95000/161955 queries. users per second: 24170.2</pre>"
      ],
      "text/plain": [
       "recommendations finished on 95000/161955 queries. users per second: 24170.2"
      ]
     },
     "metadata": {},
     "output_type": "display_data"
    },
    {
     "data": {
      "text/html": [
       "<pre>recommendations finished on 96000/161955 queries. users per second: 24384.4</pre>"
      ],
      "text/plain": [
       "recommendations finished on 96000/161955 queries. users per second: 24384.4"
      ]
     },
     "metadata": {},
     "output_type": "display_data"
    },
    {
     "data": {
      "text/html": [
       "<pre>recommendations finished on 97000/161955 queries. users per second: 24076.4</pre>"
      ],
      "text/plain": [
       "recommendations finished on 97000/161955 queries. users per second: 24076.4"
      ]
     },
     "metadata": {},
     "output_type": "display_data"
    },
    {
     "data": {
      "text/html": [
       "<pre>recommendations finished on 98000/161955 queries. users per second: 24285.6</pre>"
      ],
      "text/plain": [
       "recommendations finished on 98000/161955 queries. users per second: 24285.6"
      ]
     },
     "metadata": {},
     "output_type": "display_data"
    },
    {
     "data": {
      "text/html": [
       "<pre>recommendations finished on 99000/161955 queries. users per second: 23988.3</pre>"
      ],
      "text/plain": [
       "recommendations finished on 99000/161955 queries. users per second: 23988.3"
      ]
     },
     "metadata": {},
     "output_type": "display_data"
    },
    {
     "data": {
      "text/html": [
       "<pre>recommendations finished on 100000/161955 queries. users per second: 24192.2</pre>"
      ],
      "text/plain": [
       "recommendations finished on 100000/161955 queries. users per second: 24192.2"
      ]
     },
     "metadata": {},
     "output_type": "display_data"
    },
    {
     "data": {
      "text/html": [
       "<pre>recommendations finished on 101000/161955 queries. users per second: 24389.8</pre>"
      ],
      "text/plain": [
       "recommendations finished on 101000/161955 queries. users per second: 24389.8"
      ]
     },
     "metadata": {},
     "output_type": "display_data"
    },
    {
     "data": {
      "text/html": [
       "<pre>recommendations finished on 102000/161955 queries. users per second: 24109.3</pre>"
      ],
      "text/plain": [
       "recommendations finished on 102000/161955 queries. users per second: 24109.3"
      ]
     },
     "metadata": {},
     "output_type": "display_data"
    },
    {
     "data": {
      "text/html": [
       "<pre>recommendations finished on 103000/161955 queries. users per second: 24307.6</pre>"
      ],
      "text/plain": [
       "recommendations finished on 103000/161955 queries. users per second: 24307.6"
      ]
     },
     "metadata": {},
     "output_type": "display_data"
    },
    {
     "data": {
      "text/html": [
       "<pre>recommendations finished on 104000/161955 queries. users per second: 24029.1</pre>"
      ],
      "text/plain": [
       "recommendations finished on 104000/161955 queries. users per second: 24029.1"
      ]
     },
     "metadata": {},
     "output_type": "display_data"
    },
    {
     "data": {
      "text/html": [
       "<pre>recommendations finished on 105000/161955 queries. users per second: 24223.1</pre>"
      ],
      "text/plain": [
       "recommendations finished on 105000/161955 queries. users per second: 24223.1"
      ]
     },
     "metadata": {},
     "output_type": "display_data"
    },
    {
     "data": {
      "text/html": [
       "<pre>recommendations finished on 106000/161955 queries. users per second: 23943.5</pre>"
      ],
      "text/plain": [
       "recommendations finished on 106000/161955 queries. users per second: 23943.5"
      ]
     },
     "metadata": {},
     "output_type": "display_data"
    },
    {
     "data": {
      "text/html": [
       "<pre>recommendations finished on 107000/161955 queries. users per second: 24134.8</pre>"
      ],
      "text/plain": [
       "recommendations finished on 107000/161955 queries. users per second: 24134.8"
      ]
     },
     "metadata": {},
     "output_type": "display_data"
    },
    {
     "data": {
      "text/html": [
       "<pre>recommendations finished on 108000/161955 queries. users per second: 23868.4</pre>"
      ],
      "text/plain": [
       "recommendations finished on 108000/161955 queries. users per second: 23868.4"
      ]
     },
     "metadata": {},
     "output_type": "display_data"
    },
    {
     "data": {
      "text/html": [
       "<pre>recommendations finished on 109000/161955 queries. users per second: 24055.3</pre>"
      ],
      "text/plain": [
       "recommendations finished on 109000/161955 queries. users per second: 24055.3"
      ]
     },
     "metadata": {},
     "output_type": "display_data"
    },
    {
     "data": {
      "text/html": [
       "<pre>recommendations finished on 110000/161955 queries. users per second: 24238.6</pre>"
      ],
      "text/plain": [
       "recommendations finished on 110000/161955 queries. users per second: 24238.6"
      ]
     },
     "metadata": {},
     "output_type": "display_data"
    },
    {
     "data": {
      "text/html": [
       "<pre>recommendations finished on 111000/161955 queries. users per second: 23972.1</pre>"
      ],
      "text/plain": [
       "recommendations finished on 111000/161955 queries. users per second: 23972.1"
      ]
     },
     "metadata": {},
     "output_type": "display_data"
    },
    {
     "data": {
      "text/html": [
       "<pre>recommendations finished on 112000/161955 queries. users per second: 24152.9</pre>"
      ],
      "text/plain": [
       "recommendations finished on 112000/161955 queries. users per second: 24152.9"
      ]
     },
     "metadata": {},
     "output_type": "display_data"
    },
    {
     "data": {
      "text/html": [
       "<pre>recommendations finished on 113000/161955 queries. users per second: 23903.5</pre>"
      ],
      "text/plain": [
       "recommendations finished on 113000/161955 queries. users per second: 23903.5"
      ]
     },
     "metadata": {},
     "output_type": "display_data"
    },
    {
     "data": {
      "text/html": [
       "<pre>recommendations finished on 114000/161955 queries. users per second: 24080.6</pre>"
      ],
      "text/plain": [
       "recommendations finished on 114000/161955 queries. users per second: 24080.6"
      ]
     },
     "metadata": {},
     "output_type": "display_data"
    },
    {
     "data": {
      "text/html": [
       "<pre>recommendations finished on 115000/161955 queries. users per second: 23831.7</pre>"
      ],
      "text/plain": [
       "recommendations finished on 115000/161955 queries. users per second: 23831.7"
      ]
     },
     "metadata": {},
     "output_type": "display_data"
    },
    {
     "data": {
      "text/html": [
       "<pre>recommendations finished on 116000/161955 queries. users per second: 24004.8</pre>"
      ],
      "text/plain": [
       "recommendations finished on 116000/161955 queries. users per second: 24004.8"
      ]
     },
     "metadata": {},
     "output_type": "display_data"
    },
    {
     "data": {
      "text/html": [
       "<pre>recommendations finished on 117000/161955 queries. users per second: 23756.3</pre>"
      ],
      "text/plain": [
       "recommendations finished on 117000/161955 queries. users per second: 23756.3"
      ]
     },
     "metadata": {},
     "output_type": "display_data"
    },
    {
     "data": {
      "text/html": [
       "<pre>recommendations finished on 118000/161955 queries. users per second: 23923.8</pre>"
      ],
      "text/plain": [
       "recommendations finished on 118000/161955 queries. users per second: 23923.8"
      ]
     },
     "metadata": {},
     "output_type": "display_data"
    },
    {
     "data": {
      "text/html": [
       "<pre>recommendations finished on 119000/161955 queries. users per second: 24078.6</pre>"
      ],
      "text/plain": [
       "recommendations finished on 119000/161955 queries. users per second: 24078.6"
      ]
     },
     "metadata": {},
     "output_type": "display_data"
    },
    {
     "data": {
      "text/html": [
       "<pre>recommendations finished on 120000/161955 queries. users per second: 23868.8</pre>"
      ],
      "text/plain": [
       "recommendations finished on 120000/161955 queries. users per second: 23868.8"
      ]
     },
     "metadata": {},
     "output_type": "display_data"
    },
    {
     "data": {
      "text/html": [
       "<pre>recommendations finished on 121000/161955 queries. users per second: 24035.2</pre>"
      ],
      "text/plain": [
       "recommendations finished on 121000/161955 queries. users per second: 24035.2"
      ]
     },
     "metadata": {},
     "output_type": "display_data"
    },
    {
     "data": {
      "text/html": [
       "<pre>recommendations finished on 122000/161955 queries. users per second: 23794.9</pre>"
      ],
      "text/plain": [
       "recommendations finished on 122000/161955 queries. users per second: 23794.9"
      ]
     },
     "metadata": {},
     "output_type": "display_data"
    },
    {
     "data": {
      "text/html": [
       "<pre>recommendations finished on 123000/161955 queries. users per second: 23955.8</pre>"
      ],
      "text/plain": [
       "recommendations finished on 123000/161955 queries. users per second: 23955.8"
      ]
     },
     "metadata": {},
     "output_type": "display_data"
    },
    {
     "data": {
      "text/html": [
       "<pre>recommendations finished on 124000/161955 queries. users per second: 23722.2</pre>"
      ],
      "text/plain": [
       "recommendations finished on 124000/161955 queries. users per second: 23722.2"
      ]
     },
     "metadata": {},
     "output_type": "display_data"
    },
    {
     "data": {
      "text/html": [
       "<pre>recommendations finished on 125000/161955 queries. users per second: 23880.6</pre>"
      ],
      "text/plain": [
       "recommendations finished on 125000/161955 queries. users per second: 23880.6"
      ]
     },
     "metadata": {},
     "output_type": "display_data"
    },
    {
     "data": {
      "text/html": [
       "<pre>recommendations finished on 126000/161955 queries. users per second: 23652.4</pre>"
      ],
      "text/plain": [
       "recommendations finished on 126000/161955 queries. users per second: 23652.4"
      ]
     },
     "metadata": {},
     "output_type": "display_data"
    },
    {
     "data": {
      "text/html": [
       "<pre>recommendations finished on 127000/161955 queries. users per second: 23805.2</pre>"
      ],
      "text/plain": [
       "recommendations finished on 127000/161955 queries. users per second: 23805.2"
      ]
     },
     "metadata": {},
     "output_type": "display_data"
    },
    {
     "data": {
      "text/html": [
       "<pre>recommendations finished on 128000/161955 queries. users per second: 23586.5</pre>"
      ],
      "text/plain": [
       "recommendations finished on 128000/161955 queries. users per second: 23586.5"
      ]
     },
     "metadata": {},
     "output_type": "display_data"
    },
    {
     "data": {
      "text/html": [
       "<pre>recommendations finished on 129000/161955 queries. users per second: 23738.8</pre>"
      ],
      "text/plain": [
       "recommendations finished on 129000/161955 queries. users per second: 23738.8"
      ]
     },
     "metadata": {},
     "output_type": "display_data"
    },
    {
     "data": {
      "text/html": [
       "<pre>recommendations finished on 130000/161955 queries. users per second: 23886.6</pre>"
      ],
      "text/plain": [
       "recommendations finished on 130000/161955 queries. users per second: 23886.6"
      ]
     },
     "metadata": {},
     "output_type": "display_data"
    },
    {
     "data": {
      "text/html": [
       "<pre>recommendations finished on 131000/161955 queries. users per second: 23686.7</pre>"
      ],
      "text/plain": [
       "recommendations finished on 131000/161955 queries. users per second: 23686.7"
      ]
     },
     "metadata": {},
     "output_type": "display_data"
    },
    {
     "data": {
      "text/html": [
       "<pre>recommendations finished on 132000/161955 queries. users per second: 23838</pre>"
      ],
      "text/plain": [
       "recommendations finished on 132000/161955 queries. users per second: 23838"
      ]
     },
     "metadata": {},
     "output_type": "display_data"
    },
    {
     "data": {
      "text/html": [
       "<pre>recommendations finished on 133000/161955 queries. users per second: 23623</pre>"
      ],
      "text/plain": [
       "recommendations finished on 133000/161955 queries. users per second: 23623"
      ]
     },
     "metadata": {},
     "output_type": "display_data"
    },
    {
     "data": {
      "text/html": [
       "<pre>recommendations finished on 134000/161955 queries. users per second: 23773.7</pre>"
      ],
      "text/plain": [
       "recommendations finished on 134000/161955 queries. users per second: 23773.7"
      ]
     },
     "metadata": {},
     "output_type": "display_data"
    },
    {
     "data": {
      "text/html": [
       "<pre>recommendations finished on 135000/161955 queries. users per second: 23573.9</pre>"
      ],
      "text/plain": [
       "recommendations finished on 135000/161955 queries. users per second: 23573.9"
      ]
     },
     "metadata": {},
     "output_type": "display_data"
    },
    {
     "data": {
      "text/html": [
       "<pre>recommendations finished on 136000/161955 queries. users per second: 23721.5</pre>"
      ],
      "text/plain": [
       "recommendations finished on 136000/161955 queries. users per second: 23721.5"
      ]
     },
     "metadata": {},
     "output_type": "display_data"
    },
    {
     "data": {
      "text/html": [
       "<pre>recommendations finished on 137000/161955 queries. users per second: 23519.7</pre>"
      ],
      "text/plain": [
       "recommendations finished on 137000/161955 queries. users per second: 23519.7"
      ]
     },
     "metadata": {},
     "output_type": "display_data"
    },
    {
     "data": {
      "text/html": [
       "<pre>recommendations finished on 138000/161955 queries. users per second: 23664.4</pre>"
      ],
      "text/plain": [
       "recommendations finished on 138000/161955 queries. users per second: 23664.4"
      ]
     },
     "metadata": {},
     "output_type": "display_data"
    },
    {
     "data": {
      "text/html": [
       "<pre>recommendations finished on 139000/161955 queries. users per second: 23806.6</pre>"
      ],
      "text/plain": [
       "recommendations finished on 139000/161955 queries. users per second: 23806.6"
      ]
     },
     "metadata": {},
     "output_type": "display_data"
    },
    {
     "data": {
      "text/html": [
       "<pre>recommendations finished on 140000/161955 queries. users per second: 23611.9</pre>"
      ],
      "text/plain": [
       "recommendations finished on 140000/161955 queries. users per second: 23611.9"
      ]
     },
     "metadata": {},
     "output_type": "display_data"
    },
    {
     "data": {
      "text/html": [
       "<pre>recommendations finished on 141000/161955 queries. users per second: 23751.9</pre>"
      ],
      "text/plain": [
       "recommendations finished on 141000/161955 queries. users per second: 23751.9"
      ]
     },
     "metadata": {},
     "output_type": "display_data"
    },
    {
     "data": {
      "text/html": [
       "<pre>recommendations finished on 142000/161955 queries. users per second: 23550.3</pre>"
      ],
      "text/plain": [
       "recommendations finished on 142000/161955 queries. users per second: 23550.3"
      ]
     },
     "metadata": {},
     "output_type": "display_data"
    },
    {
     "data": {
      "text/html": [
       "<pre>recommendations finished on 143000/161955 queries. users per second: 23687.4</pre>"
      ],
      "text/plain": [
       "recommendations finished on 143000/161955 queries. users per second: 23687.4"
      ]
     },
     "metadata": {},
     "output_type": "display_data"
    },
    {
     "data": {
      "text/html": [
       "<pre>recommendations finished on 144000/161955 queries. users per second: 23504.7</pre>"
      ],
      "text/plain": [
       "recommendations finished on 144000/161955 queries. users per second: 23504.7"
      ]
     },
     "metadata": {},
     "output_type": "display_data"
    },
    {
     "data": {
      "text/html": [
       "<pre>recommendations finished on 145000/161955 queries. users per second: 23639.4</pre>"
      ],
      "text/plain": [
       "recommendations finished on 145000/161955 queries. users per second: 23639.4"
      ]
     },
     "metadata": {},
     "output_type": "display_data"
    },
    {
     "data": {
      "text/html": [
       "<pre>recommendations finished on 146000/161955 queries. users per second: 23771.9</pre>"
      ],
      "text/plain": [
       "recommendations finished on 146000/161955 queries. users per second: 23771.9"
      ]
     },
     "metadata": {},
     "output_type": "display_data"
    },
    {
     "data": {
      "text/html": [
       "<pre>recommendations finished on 147000/161955 queries. users per second: 23587.1</pre>"
      ],
      "text/plain": [
       "recommendations finished on 147000/161955 queries. users per second: 23587.1"
      ]
     },
     "metadata": {},
     "output_type": "display_data"
    },
    {
     "data": {
      "text/html": [
       "<pre>recommendations finished on 148000/161955 queries. users per second: 23714.6</pre>"
      ],
      "text/plain": [
       "recommendations finished on 148000/161955 queries. users per second: 23714.6"
      ]
     },
     "metadata": {},
     "output_type": "display_data"
    },
    {
     "data": {
      "text/html": [
       "<pre>recommendations finished on 149000/161955 queries. users per second: 23532.4</pre>"
      ],
      "text/plain": [
       "recommendations finished on 149000/161955 queries. users per second: 23532.4"
      ]
     },
     "metadata": {},
     "output_type": "display_data"
    },
    {
     "data": {
      "text/html": [
       "<pre>recommendations finished on 150000/161955 queries. users per second: 23655.6</pre>"
      ],
      "text/plain": [
       "recommendations finished on 150000/161955 queries. users per second: 23655.6"
      ]
     },
     "metadata": {},
     "output_type": "display_data"
    },
    {
     "data": {
      "text/html": [
       "<pre>recommendations finished on 151000/161955 queries. users per second: 23492.2</pre>"
      ],
      "text/plain": [
       "recommendations finished on 151000/161955 queries. users per second: 23492.2"
      ]
     },
     "metadata": {},
     "output_type": "display_data"
    },
    {
     "data": {
      "text/html": [
       "<pre>recommendations finished on 152000/161955 queries. users per second: 23613.4</pre>"
      ],
      "text/plain": [
       "recommendations finished on 152000/161955 queries. users per second: 23613.4"
      ]
     },
     "metadata": {},
     "output_type": "display_data"
    },
    {
     "data": {
      "text/html": [
       "<pre>recommendations finished on 153000/161955 queries. users per second: 23734.9</pre>"
      ],
      "text/plain": [
       "recommendations finished on 153000/161955 queries. users per second: 23734.9"
      ]
     },
     "metadata": {},
     "output_type": "display_data"
    },
    {
     "data": {
      "text/html": [
       "<pre>recommendations finished on 154000/161955 queries. users per second: 23580</pre>"
      ],
      "text/plain": [
       "recommendations finished on 154000/161955 queries. users per second: 23580"
      ]
     },
     "metadata": {},
     "output_type": "display_data"
    },
    {
     "data": {
      "text/html": [
       "<pre>recommendations finished on 155000/161955 queries. users per second: 23707.7</pre>"
      ],
      "text/plain": [
       "recommendations finished on 155000/161955 queries. users per second: 23707.7"
      ]
     },
     "metadata": {},
     "output_type": "display_data"
    },
    {
     "data": {
      "text/html": [
       "<pre>recommendations finished on 156000/161955 queries. users per second: 23832.3</pre>"
      ],
      "text/plain": [
       "recommendations finished on 156000/161955 queries. users per second: 23832.3"
      ]
     },
     "metadata": {},
     "output_type": "display_data"
    },
    {
     "data": {
      "text/html": [
       "<pre>recommendations finished on 157000/161955 queries. users per second: 23956.3</pre>"
      ],
      "text/plain": [
       "recommendations finished on 157000/161955 queries. users per second: 23956.3"
      ]
     },
     "metadata": {},
     "output_type": "display_data"
    },
    {
     "data": {
      "text/html": [
       "<pre>recommendations finished on 158000/161955 queries. users per second: 23845.6</pre>"
      ],
      "text/plain": [
       "recommendations finished on 158000/161955 queries. users per second: 23845.6"
      ]
     },
     "metadata": {},
     "output_type": "display_data"
    },
    {
     "data": {
      "text/html": [
       "<pre>recommendations finished on 159000/161955 queries. users per second: 23975.4</pre>"
      ],
      "text/plain": [
       "recommendations finished on 159000/161955 queries. users per second: 23975.4"
      ]
     },
     "metadata": {},
     "output_type": "display_data"
    },
    {
     "data": {
      "text/html": [
       "<pre>recommendations finished on 160000/161955 queries. users per second: 24100.2</pre>"
      ],
      "text/plain": [
       "recommendations finished on 160000/161955 queries. users per second: 24100.2"
      ]
     },
     "metadata": {},
     "output_type": "display_data"
    },
    {
     "data": {
      "text/html": [
       "<pre>recommendations finished on 161000/161955 queries. users per second: 24224.1</pre>"
      ],
      "text/plain": [
       "recommendations finished on 161000/161955 queries. users per second: 24224.1"
      ]
     },
     "metadata": {},
     "output_type": "display_data"
    },
    {
     "name": "stdout",
     "output_type": "stream",
     "text": [
      "\n",
      "Precision and recall summary statistics by cutoff\n",
      "+--------+-------------------+-------------------+\n",
      "| cutoff |   mean_precision  |    mean_recall    |\n",
      "+--------+-------------------+-------------------+\n",
      "|   1    |   0.001599209657  | 0.000791626911845 |\n",
      "|   2    | 0.000824303047143 |  0.00081309083995 |\n",
      "|   3    |  0.0319245057784  |  0.0320942678414  |\n",
      "|   4    |  0.0239433793338  |  0.0320942678414  |\n",
      "|   5    |  0.0191559383779  |  0.0320963260263  |\n",
      "|   6    |  0.0159653401665  |  0.0321009569423  |\n",
      "|   7    |  0.0136854593648  |  0.0321015182655  |\n",
      "|   8    |  0.0145117470902  |  0.0369272512449  |\n",
      "|   9    |  0.0195815710125  |  0.0576226077055  |\n",
      "|   10   |  0.0176258837331  |  0.0576266726207  |\n",
      "+--------+-------------------+-------------------+\n",
      "[10 rows x 3 columns]\n",
      "\n",
      "PROGRESS: Evaluate model M1\n"
     ]
    },
    {
     "data": {
      "text/html": [
       "<pre>recommendations finished on 1000/161955 queries. users per second: 39996.8</pre>"
      ],
      "text/plain": [
       "recommendations finished on 1000/161955 queries. users per second: 39996.8"
      ]
     },
     "metadata": {},
     "output_type": "display_data"
    },
    {
     "data": {
      "text/html": [
       "<pre>recommendations finished on 2000/161955 queries. users per second: 17266.7</pre>"
      ],
      "text/plain": [
       "recommendations finished on 2000/161955 queries. users per second: 17266.7"
      ]
     },
     "metadata": {},
     "output_type": "display_data"
    },
    {
     "data": {
      "text/html": [
       "<pre>recommendations finished on 3000/161955 queries. users per second: 24520.4</pre>"
      ],
      "text/plain": [
       "recommendations finished on 3000/161955 queries. users per second: 24520.4"
      ]
     },
     "metadata": {},
     "output_type": "display_data"
    },
    {
     "data": {
      "text/html": [
       "<pre>recommendations finished on 4000/161955 queries. users per second: 30708.8</pre>"
      ],
      "text/plain": [
       "recommendations finished on 4000/161955 queries. users per second: 30708.8"
      ]
     },
     "metadata": {},
     "output_type": "display_data"
    },
    {
     "data": {
      "text/html": [
       "<pre>recommendations finished on 5000/161955 queries. users per second: 22661.7</pre>"
      ],
      "text/plain": [
       "recommendations finished on 5000/161955 queries. users per second: 22661.7"
      ]
     },
     "metadata": {},
     "output_type": "display_data"
    },
    {
     "data": {
      "text/html": [
       "<pre>recommendations finished on 6000/161955 queries. users per second: 26446.7</pre>"
      ],
      "text/plain": [
       "recommendations finished on 6000/161955 queries. users per second: 26446.7"
      ]
     },
     "metadata": {},
     "output_type": "display_data"
    },
    {
     "data": {
      "text/html": [
       "<pre>recommendations finished on 7000/161955 queries. users per second: 21995.3</pre>"
      ],
      "text/plain": [
       "recommendations finished on 7000/161955 queries. users per second: 21995.3"
      ]
     },
     "metadata": {},
     "output_type": "display_data"
    },
    {
     "data": {
      "text/html": [
       "<pre>recommendations finished on 8000/161955 queries. users per second: 24663.1</pre>"
      ],
      "text/plain": [
       "recommendations finished on 8000/161955 queries. users per second: 24663.1"
      ]
     },
     "metadata": {},
     "output_type": "display_data"
    },
    {
     "data": {
      "text/html": [
       "<pre>recommendations finished on 9000/161955 queries. users per second: 21609.8</pre>"
      ],
      "text/plain": [
       "recommendations finished on 9000/161955 queries. users per second: 21609.8"
      ]
     },
     "metadata": {},
     "output_type": "display_data"
    },
    {
     "data": {
      "text/html": [
       "<pre>recommendations finished on 10000/161955 queries. users per second: 23633.8</pre>"
      ],
      "text/plain": [
       "recommendations finished on 10000/161955 queries. users per second: 23633.8"
      ]
     },
     "metadata": {},
     "output_type": "display_data"
    },
    {
     "data": {
      "text/html": [
       "<pre>recommendations finished on 11000/161955 queries. users per second: 25546.9</pre>"
      ],
      "text/plain": [
       "recommendations finished on 11000/161955 queries. users per second: 25546.9"
      ]
     },
     "metadata": {},
     "output_type": "display_data"
    },
    {
     "data": {
      "text/html": [
       "<pre>recommendations finished on 12000/161955 queries. users per second: 23022.3</pre>"
      ],
      "text/plain": [
       "recommendations finished on 12000/161955 queries. users per second: 23022.3"
      ]
     },
     "metadata": {},
     "output_type": "display_data"
    },
    {
     "data": {
      "text/html": [
       "<pre>recommendations finished on 13000/161955 queries. users per second: 24577.2</pre>"
      ],
      "text/plain": [
       "recommendations finished on 13000/161955 queries. users per second: 24577.2"
      ]
     },
     "metadata": {},
     "output_type": "display_data"
    },
    {
     "data": {
      "text/html": [
       "<pre>recommendations finished on 14000/161955 queries. users per second: 22598.9</pre>"
      ],
      "text/plain": [
       "recommendations finished on 14000/161955 queries. users per second: 22598.9"
      ]
     },
     "metadata": {},
     "output_type": "display_data"
    },
    {
     "data": {
      "text/html": [
       "<pre>recommendations finished on 15000/161955 queries. users per second: 23977.2</pre>"
      ],
      "text/plain": [
       "recommendations finished on 15000/161955 queries. users per second: 23977.2"
      ]
     },
     "metadata": {},
     "output_type": "display_data"
    },
    {
     "data": {
      "text/html": [
       "<pre>recommendations finished on 16000/161955 queries. users per second: 22319.8</pre>"
      ],
      "text/plain": [
       "recommendations finished on 16000/161955 queries. users per second: 22319.8"
      ]
     },
     "metadata": {},
     "output_type": "display_data"
    },
    {
     "data": {
      "text/html": [
       "<pre>recommendations finished on 17000/161955 queries. users per second: 23488.2</pre>"
      ],
      "text/plain": [
       "recommendations finished on 17000/161955 queries. users per second: 23488.2"
      ]
     },
     "metadata": {},
     "output_type": "display_data"
    },
    {
     "data": {
      "text/html": [
       "<pre>recommendations finished on 18000/161955 queries. users per second: 24628.9</pre>"
      ],
      "text/plain": [
       "recommendations finished on 18000/161955 queries. users per second: 24628.9"
      ]
     },
     "metadata": {},
     "output_type": "display_data"
    },
    {
     "data": {
      "text/html": [
       "<pre>recommendations finished on 19000/161955 queries. users per second: 23169.7</pre>"
      ],
      "text/plain": [
       "recommendations finished on 19000/161955 queries. users per second: 23169.7"
      ]
     },
     "metadata": {},
     "output_type": "display_data"
    },
    {
     "data": {
      "text/html": [
       "<pre>recommendations finished on 20000/161955 queries. users per second: 24217.6</pre>"
      ],
      "text/plain": [
       "recommendations finished on 20000/161955 queries. users per second: 24217.6"
      ]
     },
     "metadata": {},
     "output_type": "display_data"
    },
    {
     "data": {
      "text/html": [
       "<pre>recommendations finished on 21000/161955 queries. users per second: 22911.7</pre>"
      ],
      "text/plain": [
       "recommendations finished on 21000/161955 queries. users per second: 22911.7"
      ]
     },
     "metadata": {},
     "output_type": "display_data"
    },
    {
     "data": {
      "text/html": [
       "<pre>recommendations finished on 22000/161955 queries. users per second: 23854.1</pre>"
      ],
      "text/plain": [
       "recommendations finished on 22000/161955 queries. users per second: 23854.1"
      ]
     },
     "metadata": {},
     "output_type": "display_data"
    },
    {
     "data": {
      "text/html": [
       "<pre>recommendations finished on 23000/161955 queries. users per second: 24760.7</pre>"
      ],
      "text/plain": [
       "recommendations finished on 23000/161955 queries. users per second: 24760.7"
      ]
     },
     "metadata": {},
     "output_type": "display_data"
    },
    {
     "data": {
      "text/html": [
       "<pre>recommendations finished on 24000/161955 queries. users per second: 23549.8</pre>"
      ],
      "text/plain": [
       "recommendations finished on 24000/161955 queries. users per second: 23549.8"
      ]
     },
     "metadata": {},
     "output_type": "display_data"
    },
    {
     "data": {
      "text/html": [
       "<pre>recommendations finished on 25000/161955 queries. users per second: 24399.7</pre>"
      ],
      "text/plain": [
       "recommendations finished on 25000/161955 queries. users per second: 24399.7"
      ]
     },
     "metadata": {},
     "output_type": "display_data"
    },
    {
     "data": {
      "text/html": [
       "<pre>recommendations finished on 26000/161955 queries. users per second: 23295.8</pre>"
      ],
      "text/plain": [
       "recommendations finished on 26000/161955 queries. users per second: 23295.8"
      ]
     },
     "metadata": {},
     "output_type": "display_data"
    },
    {
     "data": {
      "text/html": [
       "<pre>recommendations finished on 27000/161955 queries. users per second: 24074</pre>"
      ],
      "text/plain": [
       "recommendations finished on 27000/161955 queries. users per second: 24074"
      ]
     },
     "metadata": {},
     "output_type": "display_data"
    },
    {
     "data": {
      "text/html": [
       "<pre>recommendations finished on 28000/161955 queries. users per second: 24849.5</pre>"
      ],
      "text/plain": [
       "recommendations finished on 28000/161955 queries. users per second: 24849.5"
      ]
     },
     "metadata": {},
     "output_type": "display_data"
    },
    {
     "data": {
      "text/html": [
       "<pre>recommendations finished on 29000/161955 queries. users per second: 23801.6</pre>"
      ],
      "text/plain": [
       "recommendations finished on 29000/161955 queries. users per second: 23801.6"
      ]
     },
     "metadata": {},
     "output_type": "display_data"
    },
    {
     "data": {
      "text/html": [
       "<pre>recommendations finished on 30000/161955 queries. users per second: 24504.5</pre>"
      ],
      "text/plain": [
       "recommendations finished on 30000/161955 queries. users per second: 24504.5"
      ]
     },
     "metadata": {},
     "output_type": "display_data"
    },
    {
     "data": {
      "text/html": [
       "<pre>recommendations finished on 31000/161955 queries. users per second: 23564.1</pre>"
      ],
      "text/plain": [
       "recommendations finished on 31000/161955 queries. users per second: 23564.1"
      ]
     },
     "metadata": {},
     "output_type": "display_data"
    },
    {
     "data": {
      "text/html": [
       "<pre>recommendations finished on 32000/161955 queries. users per second: 24216.4</pre>"
      ],
      "text/plain": [
       "recommendations finished on 32000/161955 queries. users per second: 24216.4"
      ]
     },
     "metadata": {},
     "output_type": "display_data"
    },
    {
     "data": {
      "text/html": [
       "<pre>recommendations finished on 33000/161955 queries. users per second: 24846.8</pre>"
      ],
      "text/plain": [
       "recommendations finished on 33000/161955 queries. users per second: 24846.8"
      ]
     },
     "metadata": {},
     "output_type": "display_data"
    },
    {
     "data": {
      "text/html": [
       "<pre>recommendations finished on 34000/161955 queries. users per second: 23968.4</pre>"
      ],
      "text/plain": [
       "recommendations finished on 34000/161955 queries. users per second: 23968.4"
      ]
     },
     "metadata": {},
     "output_type": "display_data"
    },
    {
     "data": {
      "text/html": [
       "<pre>recommendations finished on 35000/161955 queries. users per second: 24578.2</pre>"
      ],
      "text/plain": [
       "recommendations finished on 35000/161955 queries. users per second: 24578.2"
      ]
     },
     "metadata": {},
     "output_type": "display_data"
    },
    {
     "data": {
      "text/html": [
       "<pre>recommendations finished on 36000/161955 queries. users per second: 23748.3</pre>"
      ],
      "text/plain": [
       "recommendations finished on 36000/161955 queries. users per second: 23748.3"
      ]
     },
     "metadata": {},
     "output_type": "display_data"
    },
    {
     "data": {
      "text/html": [
       "<pre>recommendations finished on 37000/161955 queries. users per second: 24311</pre>"
      ],
      "text/plain": [
       "recommendations finished on 37000/161955 queries. users per second: 24311"
      ]
     },
     "metadata": {},
     "output_type": "display_data"
    },
    {
     "data": {
      "text/html": [
       "<pre>recommendations finished on 38000/161955 queries. users per second: 24864.1</pre>"
      ],
      "text/plain": [
       "recommendations finished on 38000/161955 queries. users per second: 24864.1"
      ]
     },
     "metadata": {},
     "output_type": "display_data"
    },
    {
     "data": {
      "text/html": [
       "<pre>recommendations finished on 39000/161955 queries. users per second: 24086.6</pre>"
      ],
      "text/plain": [
       "recommendations finished on 39000/161955 queries. users per second: 24086.6"
      ]
     },
     "metadata": {},
     "output_type": "display_data"
    },
    {
     "data": {
      "text/html": [
       "<pre>recommendations finished on 40000/161955 queries. users per second: 24616.6</pre>"
      ],
      "text/plain": [
       "recommendations finished on 40000/161955 queries. users per second: 24616.6"
      ]
     },
     "metadata": {},
     "output_type": "display_data"
    },
    {
     "data": {
      "text/html": [
       "<pre>recommendations finished on 41000/161955 queries. users per second: 23887.6</pre>"
      ],
      "text/plain": [
       "recommendations finished on 41000/161955 queries. users per second: 23887.6"
      ]
     },
     "metadata": {},
     "output_type": "display_data"
    },
    {
     "data": {
      "text/html": [
       "<pre>recommendations finished on 42000/161955 queries. users per second: 24394.3</pre>"
      ],
      "text/plain": [
       "recommendations finished on 42000/161955 queries. users per second: 24394.3"
      ]
     },
     "metadata": {},
     "output_type": "display_data"
    },
    {
     "data": {
      "text/html": [
       "<pre>recommendations finished on 43000/161955 queries. users per second: 24888.2</pre>"
      ],
      "text/plain": [
       "recommendations finished on 43000/161955 queries. users per second: 24888.2"
      ]
     },
     "metadata": {},
     "output_type": "display_data"
    },
    {
     "data": {
      "text/html": [
       "<pre>recommendations finished on 44000/161955 queries. users per second: 24192</pre>"
      ],
      "text/plain": [
       "recommendations finished on 44000/161955 queries. users per second: 24192"
      ]
     },
     "metadata": {},
     "output_type": "display_data"
    },
    {
     "data": {
      "text/html": [
       "<pre>recommendations finished on 45000/161955 queries. users per second: 24669.5</pre>"
      ],
      "text/plain": [
       "recommendations finished on 45000/161955 queries. users per second: 24669.5"
      ]
     },
     "metadata": {},
     "output_type": "display_data"
    },
    {
     "data": {
      "text/html": [
       "<pre>recommendations finished on 46000/161955 queries. users per second: 24010.6</pre>"
      ],
      "text/plain": [
       "recommendations finished on 46000/161955 queries. users per second: 24010.6"
      ]
     },
     "metadata": {},
     "output_type": "display_data"
    },
    {
     "data": {
      "text/html": [
       "<pre>recommendations finished on 47000/161955 queries. users per second: 24464.1</pre>"
      ],
      "text/plain": [
       "recommendations finished on 47000/161955 queries. users per second: 24464.1"
      ]
     },
     "metadata": {},
     "output_type": "display_data"
    },
    {
     "data": {
      "text/html": [
       "<pre>recommendations finished on 48000/161955 queries. users per second: 24912.1</pre>"
      ],
      "text/plain": [
       "recommendations finished on 48000/161955 queries. users per second: 24912.1"
      ]
     },
     "metadata": {},
     "output_type": "display_data"
    },
    {
     "data": {
      "text/html": [
       "<pre>recommendations finished on 49000/161955 queries. users per second: 24281.7</pre>"
      ],
      "text/plain": [
       "recommendations finished on 49000/161955 queries. users per second: 24281.7"
      ]
     },
     "metadata": {},
     "output_type": "display_data"
    },
    {
     "data": {
      "text/html": [
       "<pre>recommendations finished on 50000/161955 queries. users per second: 24710.6</pre>"
      ],
      "text/plain": [
       "recommendations finished on 50000/161955 queries. users per second: 24710.6"
      ]
     },
     "metadata": {},
     "output_type": "display_data"
    },
    {
     "data": {
      "text/html": [
       "<pre>recommendations finished on 51000/161955 queries. users per second: 25117</pre>"
      ],
      "text/plain": [
       "recommendations finished on 51000/161955 queries. users per second: 25117"
      ]
     },
     "metadata": {},
     "output_type": "display_data"
    },
    {
     "data": {
      "text/html": [
       "<pre>recommendations finished on 52000/161955 queries. users per second: 24526.5</pre>"
      ],
      "text/plain": [
       "recommendations finished on 52000/161955 queries. users per second: 24526.5"
      ]
     },
     "metadata": {},
     "output_type": "display_data"
    },
    {
     "data": {
      "text/html": [
       "<pre>recommendations finished on 53000/161955 queries. users per second: 24925.6</pre>"
      ],
      "text/plain": [
       "recommendations finished on 53000/161955 queries. users per second: 24925.6"
      ]
     },
     "metadata": {},
     "output_type": "display_data"
    },
    {
     "data": {
      "text/html": [
       "<pre>recommendations finished on 54000/161955 queries. users per second: 24350.8</pre>"
      ],
      "text/plain": [
       "recommendations finished on 54000/161955 queries. users per second: 24350.8"
      ]
     },
     "metadata": {},
     "output_type": "display_data"
    },
    {
     "data": {
      "text/html": [
       "<pre>recommendations finished on 55000/161955 queries. users per second: 24736.1</pre>"
      ],
      "text/plain": [
       "recommendations finished on 55000/161955 queries. users per second: 24736.1"
      ]
     },
     "metadata": {},
     "output_type": "display_data"
    },
    {
     "data": {
      "text/html": [
       "<pre>recommendations finished on 56000/161955 queries. users per second: 25104.4</pre>"
      ],
      "text/plain": [
       "recommendations finished on 56000/161955 queries. users per second: 25104.4"
      ]
     },
     "metadata": {},
     "output_type": "display_data"
    },
    {
     "data": {
      "text/html": [
       "<pre>recommendations finished on 57000/161955 queries. users per second: 24559</pre>"
      ],
      "text/plain": [
       "recommendations finished on 57000/161955 queries. users per second: 24559"
      ]
     },
     "metadata": {},
     "output_type": "display_data"
    },
    {
     "data": {
      "text/html": [
       "<pre>recommendations finished on 58000/161955 queries. users per second: 24919</pre>"
      ],
      "text/plain": [
       "recommendations finished on 58000/161955 queries. users per second: 24919"
      ]
     },
     "metadata": {},
     "output_type": "display_data"
    },
    {
     "data": {
      "text/html": [
       "<pre>recommendations finished on 59000/161955 queries. users per second: 24399.5</pre>"
      ],
      "text/plain": [
       "recommendations finished on 59000/161955 queries. users per second: 24399.5"
      ]
     },
     "metadata": {},
     "output_type": "display_data"
    },
    {
     "data": {
      "text/html": [
       "<pre>recommendations finished on 60000/161955 queries. users per second: 24752.4</pre>"
      ],
      "text/plain": [
       "recommendations finished on 60000/161955 queries. users per second: 24752.4"
      ]
     },
     "metadata": {},
     "output_type": "display_data"
    },
    {
     "data": {
      "text/html": [
       "<pre>recommendations finished on 61000/161955 queries. users per second: 25086.9</pre>"
      ],
      "text/plain": [
       "recommendations finished on 61000/161955 queries. users per second: 25086.9"
      ]
     },
     "metadata": {},
     "output_type": "display_data"
    },
    {
     "data": {
      "text/html": [
       "<pre>recommendations finished on 62000/161955 queries. users per second: 24592.9</pre>"
      ],
      "text/plain": [
       "recommendations finished on 62000/161955 queries. users per second: 24592.9"
      ]
     },
     "metadata": {},
     "output_type": "display_data"
    },
    {
     "data": {
      "text/html": [
       "<pre>recommendations finished on 63000/161955 queries. users per second: 24923.7</pre>"
      ],
      "text/plain": [
       "recommendations finished on 63000/161955 queries. users per second: 24923.7"
      ]
     },
     "metadata": {},
     "output_type": "display_data"
    },
    {
     "data": {
      "text/html": [
       "<pre>recommendations finished on 64000/161955 queries. users per second: 24437.1</pre>"
      ],
      "text/plain": [
       "recommendations finished on 64000/161955 queries. users per second: 24437.1"
      ]
     },
     "metadata": {},
     "output_type": "display_data"
    },
    {
     "data": {
      "text/html": [
       "<pre>recommendations finished on 65000/161955 queries. users per second: 24761.6</pre>"
      ],
      "text/plain": [
       "recommendations finished on 65000/161955 queries. users per second: 24761.6"
      ]
     },
     "metadata": {},
     "output_type": "display_data"
    },
    {
     "data": {
      "text/html": [
       "<pre>recommendations finished on 66000/161955 queries. users per second: 24298.9</pre>"
      ],
      "text/plain": [
       "recommendations finished on 66000/161955 queries. users per second: 24298.9"
      ]
     },
     "metadata": {},
     "output_type": "display_data"
    },
    {
     "data": {
      "text/html": [
       "<pre>recommendations finished on 67000/161955 queries. users per second: 24607.7</pre>"
      ],
      "text/plain": [
       "recommendations finished on 67000/161955 queries. users per second: 24607.7"
      ]
     },
     "metadata": {},
     "output_type": "display_data"
    },
    {
     "data": {
      "text/html": [
       "<pre>recommendations finished on 68000/161955 queries. users per second: 24911.8</pre>"
      ],
      "text/plain": [
       "recommendations finished on 68000/161955 queries. users per second: 24911.8"
      ]
     },
     "metadata": {},
     "output_type": "display_data"
    },
    {
     "data": {
      "text/html": [
       "<pre>recommendations finished on 69000/161955 queries. users per second: 24466.4</pre>"
      ],
      "text/plain": [
       "recommendations finished on 69000/161955 queries. users per second: 24466.4"
      ]
     },
     "metadata": {},
     "output_type": "display_data"
    },
    {
     "data": {
      "text/html": [
       "<pre>recommendations finished on 70000/161955 queries. users per second: 24761.3</pre>"
      ],
      "text/plain": [
       "recommendations finished on 70000/161955 queries. users per second: 24761.3"
      ]
     },
     "metadata": {},
     "output_type": "display_data"
    },
    {
     "data": {
      "text/html": [
       "<pre>recommendations finished on 71000/161955 queries. users per second: 24335.6</pre>"
      ],
      "text/plain": [
       "recommendations finished on 71000/161955 queries. users per second: 24335.6"
      ]
     },
     "metadata": {},
     "output_type": "display_data"
    },
    {
     "data": {
      "text/html": [
       "<pre>recommendations finished on 72000/161955 queries. users per second: 24627.5</pre>"
      ],
      "text/plain": [
       "recommendations finished on 72000/161955 queries. users per second: 24627.5"
      ]
     },
     "metadata": {},
     "output_type": "display_data"
    },
    {
     "data": {
      "text/html": [
       "<pre>recommendations finished on 73000/161955 queries. users per second: 24905.8</pre>"
      ],
      "text/plain": [
       "recommendations finished on 73000/161955 queries. users per second: 24905.8"
      ]
     },
     "metadata": {},
     "output_type": "display_data"
    },
    {
     "data": {
      "text/html": [
       "<pre>recommendations finished on 74000/161955 queries. users per second: 24497.2</pre>"
      ],
      "text/plain": [
       "recommendations finished on 74000/161955 queries. users per second: 24497.2"
      ]
     },
     "metadata": {},
     "output_type": "display_data"
    },
    {
     "data": {
      "text/html": [
       "<pre>recommendations finished on 75000/161955 queries. users per second: 24772.8</pre>"
      ],
      "text/plain": [
       "recommendations finished on 75000/161955 queries. users per second: 24772.8"
      ]
     },
     "metadata": {},
     "output_type": "display_data"
    },
    {
     "data": {
      "text/html": [
       "<pre>recommendations finished on 76000/161955 queries. users per second: 24375</pre>"
      ],
      "text/plain": [
       "recommendations finished on 76000/161955 queries. users per second: 24375"
      ]
     },
     "metadata": {},
     "output_type": "display_data"
    },
    {
     "data": {
      "text/html": [
       "<pre>recommendations finished on 77000/161955 queries. users per second: 24649.4</pre>"
      ],
      "text/plain": [
       "recommendations finished on 77000/161955 queries. users per second: 24649.4"
      ]
     },
     "metadata": {},
     "output_type": "display_data"
    },
    {
     "data": {
      "text/html": [
       "<pre>recommendations finished on 78000/161955 queries. users per second: 24911.3</pre>"
      ],
      "text/plain": [
       "recommendations finished on 78000/161955 queries. users per second: 24911.3"
      ]
     },
     "metadata": {},
     "output_type": "display_data"
    },
    {
     "data": {
      "text/html": [
       "<pre>recommendations finished on 79000/161955 queries. users per second: 24527</pre>"
      ],
      "text/plain": [
       "recommendations finished on 79000/161955 queries. users per second: 24527"
      ]
     },
     "metadata": {},
     "output_type": "display_data"
    },
    {
     "data": {
      "text/html": [
       "<pre>recommendations finished on 80000/161955 queries. users per second: 24790.9</pre>"
      ],
      "text/plain": [
       "recommendations finished on 80000/161955 queries. users per second: 24790.9"
      ]
     },
     "metadata": {},
     "output_type": "display_data"
    },
    {
     "data": {
      "text/html": [
       "<pre>recommendations finished on 81000/161955 queries. users per second: 24417.5</pre>"
      ],
      "text/plain": [
       "recommendations finished on 81000/161955 queries. users per second: 24417.5"
      ]
     },
     "metadata": {},
     "output_type": "display_data"
    },
    {
     "data": {
      "text/html": [
       "<pre>recommendations finished on 82000/161955 queries. users per second: 24676</pre>"
      ],
      "text/plain": [
       "recommendations finished on 82000/161955 queries. users per second: 24676"
      ]
     },
     "metadata": {},
     "output_type": "display_data"
    },
    {
     "data": {
      "text/html": [
       "<pre>recommendations finished on 83000/161955 queries. users per second: 24928.4</pre>"
      ],
      "text/plain": [
       "recommendations finished on 83000/161955 queries. users per second: 24928.4"
      ]
     },
     "metadata": {},
     "output_type": "display_data"
    },
    {
     "data": {
      "text/html": [
       "<pre>recommendations finished on 84000/161955 queries. users per second: 24565.3</pre>"
      ],
      "text/plain": [
       "recommendations finished on 84000/161955 queries. users per second: 24565.3"
      ]
     },
     "metadata": {},
     "output_type": "display_data"
    },
    {
     "data": {
      "text/html": [
       "<pre>recommendations finished on 85000/161955 queries. users per second: 24811.2</pre>"
      ],
      "text/plain": [
       "recommendations finished on 85000/161955 queries. users per second: 24811.2"
      ]
     },
     "metadata": {},
     "output_type": "display_data"
    },
    {
     "data": {
      "text/html": [
       "<pre>recommendations finished on 86000/161955 queries. users per second: 24459.6</pre>"
      ],
      "text/plain": [
       "recommendations finished on 86000/161955 queries. users per second: 24459.6"
      ]
     },
     "metadata": {},
     "output_type": "display_data"
    },
    {
     "data": {
      "text/html": [
       "<pre>recommendations finished on 87000/161955 queries. users per second: 24700.8</pre>"
      ],
      "text/plain": [
       "recommendations finished on 87000/161955 queries. users per second: 24700.8"
      ]
     },
     "metadata": {},
     "output_type": "display_data"
    },
    {
     "data": {
      "text/html": [
       "<pre>recommendations finished on 88000/161955 queries. users per second: 24937.9</pre>"
      ],
      "text/plain": [
       "recommendations finished on 88000/161955 queries. users per second: 24937.9"
      ]
     },
     "metadata": {},
     "output_type": "display_data"
    },
    {
     "data": {
      "text/html": [
       "<pre>recommendations finished on 89000/161955 queries. users per second: 24596.8</pre>"
      ],
      "text/plain": [
       "recommendations finished on 89000/161955 queries. users per second: 24596.8"
      ]
     },
     "metadata": {},
     "output_type": "display_data"
    },
    {
     "data": {
      "text/html": [
       "<pre>recommendations finished on 90000/161955 queries. users per second: 24834.3</pre>"
      ],
      "text/plain": [
       "recommendations finished on 90000/161955 queries. users per second: 24834.3"
      ]
     },
     "metadata": {},
     "output_type": "display_data"
    },
    {
     "data": {
      "text/html": [
       "<pre>recommendations finished on 91000/161955 queries. users per second: 25058.4</pre>"
      ],
      "text/plain": [
       "recommendations finished on 91000/161955 queries. users per second: 25058.4"
      ]
     },
     "metadata": {},
     "output_type": "display_data"
    },
    {
     "data": {
      "text/html": [
       "<pre>recommendations finished on 92000/161955 queries. users per second: 24727</pre>"
      ],
      "text/plain": [
       "recommendations finished on 92000/161955 queries. users per second: 24727"
      ]
     },
     "metadata": {},
     "output_type": "display_data"
    },
    {
     "data": {
      "text/html": [
       "<pre>recommendations finished on 93000/161955 queries. users per second: 24954.8</pre>"
      ],
      "text/plain": [
       "recommendations finished on 93000/161955 queries. users per second: 24954.8"
      ]
     },
     "metadata": {},
     "output_type": "display_data"
    },
    {
     "data": {
      "text/html": [
       "<pre>recommendations finished on 94000/161955 queries. users per second: 24628</pre>"
      ],
      "text/plain": [
       "recommendations finished on 94000/161955 queries. users per second: 24628"
      ]
     },
     "metadata": {},
     "output_type": "display_data"
    },
    {
     "data": {
      "text/html": [
       "<pre>recommendations finished on 95000/161955 queries. users per second: 24852.9</pre>"
      ],
      "text/plain": [
       "recommendations finished on 95000/161955 queries. users per second: 24852.9"
      ]
     },
     "metadata": {},
     "output_type": "display_data"
    },
    {
     "data": {
      "text/html": [
       "<pre>recommendations finished on 96000/161955 queries. users per second: 25070.5</pre>"
      ],
      "text/plain": [
       "recommendations finished on 96000/161955 queries. users per second: 25070.5"
      ]
     },
     "metadata": {},
     "output_type": "display_data"
    },
    {
     "data": {
      "text/html": [
       "<pre>recommendations finished on 97000/161955 queries. users per second: 24744.2</pre>"
      ],
      "text/plain": [
       "recommendations finished on 97000/161955 queries. users per second: 24744.2"
      ]
     },
     "metadata": {},
     "output_type": "display_data"
    },
    {
     "data": {
      "text/html": [
       "<pre>recommendations finished on 98000/161955 queries. users per second: 24957.9</pre>"
      ],
      "text/plain": [
       "recommendations finished on 98000/161955 queries. users per second: 24957.9"
      ]
     },
     "metadata": {},
     "output_type": "display_data"
    },
    {
     "data": {
      "text/html": [
       "<pre>recommendations finished on 99000/161955 queries. users per second: 24635.8</pre>"
      ],
      "text/plain": [
       "recommendations finished on 99000/161955 queries. users per second: 24635.8"
      ]
     },
     "metadata": {},
     "output_type": "display_data"
    },
    {
     "data": {
      "text/html": [
       "<pre>recommendations finished on 100000/161955 queries. users per second: 24844.8</pre>"
      ],
      "text/plain": [
       "recommendations finished on 100000/161955 queries. users per second: 24844.8"
      ]
     },
     "metadata": {},
     "output_type": "display_data"
    },
    {
     "data": {
      "text/html": [
       "<pre>recommendations finished on 101000/161955 queries. users per second: 24537.1</pre>"
      ],
      "text/plain": [
       "recommendations finished on 101000/161955 queries. users per second: 24537.1"
      ]
     },
     "metadata": {},
     "output_type": "display_data"
    },
    {
     "data": {
      "text/html": [
       "<pre>recommendations finished on 102000/161955 queries. users per second: 24742</pre>"
      ],
      "text/plain": [
       "recommendations finished on 102000/161955 queries. users per second: 24742"
      ]
     },
     "metadata": {},
     "output_type": "display_data"
    },
    {
     "data": {
      "text/html": [
       "<pre>recommendations finished on 103000/161955 queries. users per second: 24941.2</pre>"
      ],
      "text/plain": [
       "recommendations finished on 103000/161955 queries. users per second: 24941.2"
      ]
     },
     "metadata": {},
     "output_type": "display_data"
    },
    {
     "data": {
      "text/html": [
       "<pre>recommendations finished on 104000/161955 queries. users per second: 24647.7</pre>"
      ],
      "text/plain": [
       "recommendations finished on 104000/161955 queries. users per second: 24647.7"
      ]
     },
     "metadata": {},
     "output_type": "display_data"
    },
    {
     "data": {
      "text/html": [
       "<pre>recommendations finished on 105000/161955 queries. users per second: 24850.3</pre>"
      ],
      "text/plain": [
       "recommendations finished on 105000/161955 queries. users per second: 24850.3"
      ]
     },
     "metadata": {},
     "output_type": "display_data"
    },
    {
     "data": {
      "text/html": [
       "<pre>recommendations finished on 106000/161955 queries. users per second: 24556.9</pre>"
      ],
      "text/plain": [
       "recommendations finished on 106000/161955 queries. users per second: 24556.9"
      ]
     },
     "metadata": {},
     "output_type": "display_data"
    },
    {
     "data": {
      "text/html": [
       "<pre>recommendations finished on 107000/161955 queries. users per second: 24756.2</pre>"
      ],
      "text/plain": [
       "recommendations finished on 107000/161955 queries. users per second: 24756.2"
      ]
     },
     "metadata": {},
     "output_type": "display_data"
    },
    {
     "data": {
      "text/html": [
       "<pre>recommendations finished on 108000/161955 queries. users per second: 24951.9</pre>"
      ],
      "text/plain": [
       "recommendations finished on 108000/161955 queries. users per second: 24951.9"
      ]
     },
     "metadata": {},
     "output_type": "display_data"
    },
    {
     "data": {
      "text/html": [
       "<pre>recommendations finished on 109000/161955 queries. users per second: 24669.9</pre>"
      ],
      "text/plain": [
       "recommendations finished on 109000/161955 queries. users per second: 24669.9"
      ]
     },
     "metadata": {},
     "output_type": "display_data"
    },
    {
     "data": {
      "text/html": [
       "<pre>recommendations finished on 110000/161955 queries. users per second: 24858.1</pre>"
      ],
      "text/plain": [
       "recommendations finished on 110000/161955 queries. users per second: 24858.1"
      ]
     },
     "metadata": {},
     "output_type": "display_data"
    },
    {
     "data": {
      "text/html": [
       "<pre>recommendations finished on 111000/161955 queries. users per second: 24581.3</pre>"
      ],
      "text/plain": [
       "recommendations finished on 111000/161955 queries. users per second: 24581.3"
      ]
     },
     "metadata": {},
     "output_type": "display_data"
    },
    {
     "data": {
      "text/html": [
       "<pre>recommendations finished on 112000/161955 queries. users per second: 24766.7</pre>"
      ],
      "text/plain": [
       "recommendations finished on 112000/161955 queries. users per second: 24766.7"
      ]
     },
     "metadata": {},
     "output_type": "display_data"
    },
    {
     "data": {
      "text/html": [
       "<pre>recommendations finished on 113000/161955 queries. users per second: 24946.1</pre>"
      ],
      "text/plain": [
       "recommendations finished on 113000/161955 queries. users per second: 24946.1"
      ]
     },
     "metadata": {},
     "output_type": "display_data"
    },
    {
     "data": {
      "text/html": [
       "<pre>recommendations finished on 114000/161955 queries. users per second: 24673.9</pre>"
      ],
      "text/plain": [
       "recommendations finished on 114000/161955 queries. users per second: 24673.9"
      ]
     },
     "metadata": {},
     "output_type": "display_data"
    },
    {
     "data": {
      "text/html": [
       "<pre>recommendations finished on 115000/161955 queries. users per second: 24850.7</pre>"
      ],
      "text/plain": [
       "recommendations finished on 115000/161955 queries. users per second: 24850.7"
      ]
     },
     "metadata": {},
     "output_type": "display_data"
    },
    {
     "data": {
      "text/html": [
       "<pre>recommendations finished on 116000/161955 queries. users per second: 24586.8</pre>"
      ],
      "text/plain": [
       "recommendations finished on 116000/161955 queries. users per second: 24586.8"
      ]
     },
     "metadata": {},
     "output_type": "display_data"
    },
    {
     "data": {
      "text/html": [
       "<pre>recommendations finished on 117000/161955 queries. users per second: 24767.9</pre>"
      ],
      "text/plain": [
       "recommendations finished on 117000/161955 queries. users per second: 24767.9"
      ]
     },
     "metadata": {},
     "output_type": "display_data"
    },
    {
     "data": {
      "text/html": [
       "<pre>recommendations finished on 118000/161955 queries. users per second: 24506.8</pre>"
      ],
      "text/plain": [
       "recommendations finished on 118000/161955 queries. users per second: 24506.8"
      ]
     },
     "metadata": {},
     "output_type": "display_data"
    },
    {
     "data": {
      "text/html": [
       "<pre>recommendations finished on 119000/161955 queries. users per second: 24684.1</pre>"
      ],
      "text/plain": [
       "recommendations finished on 119000/161955 queries. users per second: 24684.1"
      ]
     },
     "metadata": {},
     "output_type": "display_data"
    },
    {
     "data": {
      "text/html": [
       "<pre>recommendations finished on 120000/161955 queries. users per second: 24860.2</pre>"
      ],
      "text/plain": [
       "recommendations finished on 120000/161955 queries. users per second: 24860.2"
      ]
     },
     "metadata": {},
     "output_type": "display_data"
    },
    {
     "data": {
      "text/html": [
       "<pre>recommendations finished on 121000/161955 queries. users per second: 24604.8</pre>"
      ],
      "text/plain": [
       "recommendations finished on 121000/161955 queries. users per second: 24604.8"
      ]
     },
     "metadata": {},
     "output_type": "display_data"
    },
    {
     "data": {
      "text/html": [
       "<pre>recommendations finished on 122000/161955 queries. users per second: 24776.6</pre>"
      ],
      "text/plain": [
       "recommendations finished on 122000/161955 queries. users per second: 24776.6"
      ]
     },
     "metadata": {},
     "output_type": "display_data"
    },
    {
     "data": {
      "text/html": [
       "<pre>recommendations finished on 123000/161955 queries. users per second: 24526.3</pre>"
      ],
      "text/plain": [
       "recommendations finished on 123000/161955 queries. users per second: 24526.3"
      ]
     },
     "metadata": {},
     "output_type": "display_data"
    },
    {
     "data": {
      "text/html": [
       "<pre>recommendations finished on 124000/161955 queries. users per second: 24696.2</pre>"
      ],
      "text/plain": [
       "recommendations finished on 124000/161955 queries. users per second: 24696.2"
      ]
     },
     "metadata": {},
     "output_type": "display_data"
    },
    {
     "data": {
      "text/html": [
       "<pre>recommendations finished on 125000/161955 queries. users per second: 24863.4</pre>"
      ],
      "text/plain": [
       "recommendations finished on 125000/161955 queries. users per second: 24863.4"
      ]
     },
     "metadata": {},
     "output_type": "display_data"
    },
    {
     "data": {
      "text/html": [
       "<pre>recommendations finished on 126000/161955 queries. users per second: 24617.9</pre>"
      ],
      "text/plain": [
       "recommendations finished on 126000/161955 queries. users per second: 24617.9"
      ]
     },
     "metadata": {},
     "output_type": "display_data"
    },
    {
     "data": {
      "text/html": [
       "<pre>recommendations finished on 127000/161955 queries. users per second: 24783.4</pre>"
      ],
      "text/plain": [
       "recommendations finished on 127000/161955 queries. users per second: 24783.4"
      ]
     },
     "metadata": {},
     "output_type": "display_data"
    },
    {
     "data": {
      "text/html": [
       "<pre>recommendations finished on 128000/161955 queries. users per second: 24539.8</pre>"
      ],
      "text/plain": [
       "recommendations finished on 128000/161955 queries. users per second: 24539.8"
      ]
     },
     "metadata": {},
     "output_type": "display_data"
    },
    {
     "data": {
      "text/html": [
       "<pre>recommendations finished on 129000/161955 queries. users per second: 24703.2</pre>"
      ],
      "text/plain": [
       "recommendations finished on 129000/161955 queries. users per second: 24703.2"
      ]
     },
     "metadata": {},
     "output_type": "display_data"
    },
    {
     "data": {
      "text/html": [
       "<pre>recommendations finished on 130000/161955 queries. users per second: 24863.2</pre>"
      ],
      "text/plain": [
       "recommendations finished on 130000/161955 queries. users per second: 24863.2"
      ]
     },
     "metadata": {},
     "output_type": "display_data"
    },
    {
     "data": {
      "text/html": [
       "<pre>recommendations finished on 131000/161955 queries. users per second: 24624.5</pre>"
      ],
      "text/plain": [
       "recommendations finished on 131000/161955 queries. users per second: 24624.5"
      ]
     },
     "metadata": {},
     "output_type": "display_data"
    },
    {
     "data": {
      "text/html": [
       "<pre>recommendations finished on 132000/161955 queries. users per second: 24782.3</pre>"
      ],
      "text/plain": [
       "recommendations finished on 132000/161955 queries. users per second: 24782.3"
      ]
     },
     "metadata": {},
     "output_type": "display_data"
    },
    {
     "data": {
      "text/html": [
       "<pre>recommendations finished on 133000/161955 queries. users per second: 24549.1</pre>"
      ],
      "text/plain": [
       "recommendations finished on 133000/161955 queries. users per second: 24549.1"
      ]
     },
     "metadata": {},
     "output_type": "display_data"
    },
    {
     "data": {
      "text/html": [
       "<pre>recommendations finished on 134000/161955 queries. users per second: 24706.1</pre>"
      ],
      "text/plain": [
       "recommendations finished on 134000/161955 queries. users per second: 24706.1"
      ]
     },
     "metadata": {},
     "output_type": "display_data"
    },
    {
     "data": {
      "text/html": [
       "<pre>recommendations finished on 135000/161955 queries. users per second: 24856.1</pre>"
      ],
      "text/plain": [
       "recommendations finished on 135000/161955 queries. users per second: 24856.1"
      ]
     },
     "metadata": {},
     "output_type": "display_data"
    },
    {
     "data": {
      "text/html": [
       "<pre>recommendations finished on 136000/161955 queries. users per second: 24630.8</pre>"
      ],
      "text/plain": [
       "recommendations finished on 136000/161955 queries. users per second: 24630.8"
      ]
     },
     "metadata": {},
     "output_type": "display_data"
    },
    {
     "data": {
      "text/html": [
       "<pre>recommendations finished on 137000/161955 queries. users per second: 24781.8</pre>"
      ],
      "text/plain": [
       "recommendations finished on 137000/161955 queries. users per second: 24781.8"
      ]
     },
     "metadata": {},
     "output_type": "display_data"
    },
    {
     "data": {
      "text/html": [
       "<pre>recommendations finished on 138000/161955 queries. users per second: 24562.5</pre>"
      ],
      "text/plain": [
       "recommendations finished on 138000/161955 queries. users per second: 24562.5"
      ]
     },
     "metadata": {},
     "output_type": "display_data"
    },
    {
     "data": {
      "text/html": [
       "<pre>recommendations finished on 139000/161955 queries. users per second: 24711.7</pre>"
      ],
      "text/plain": [
       "recommendations finished on 139000/161955 queries. users per second: 24711.7"
      ]
     },
     "metadata": {},
     "output_type": "display_data"
    },
    {
     "data": {
      "text/html": [
       "<pre>recommendations finished on 140000/161955 queries. users per second: 24489.2</pre>"
      ],
      "text/plain": [
       "recommendations finished on 140000/161955 queries. users per second: 24489.2"
      ]
     },
     "metadata": {},
     "output_type": "display_data"
    },
    {
     "data": {
      "text/html": [
       "<pre>recommendations finished on 141000/161955 queries. users per second: 24638.2</pre>"
      ],
      "text/plain": [
       "recommendations finished on 141000/161955 queries. users per second: 24638.2"
      ]
     },
     "metadata": {},
     "output_type": "display_data"
    },
    {
     "data": {
      "text/html": [
       "<pre>recommendations finished on 142000/161955 queries. users per second: 24781.6</pre>"
      ],
      "text/plain": [
       "recommendations finished on 142000/161955 queries. users per second: 24781.6"
      ]
     },
     "metadata": {},
     "output_type": "display_data"
    },
    {
     "data": {
      "text/html": [
       "<pre>recommendations finished on 143000/161955 queries. users per second: 24568.9</pre>"
      ],
      "text/plain": [
       "recommendations finished on 143000/161955 queries. users per second: 24568.9"
      ]
     },
     "metadata": {},
     "output_type": "display_data"
    },
    {
     "data": {
      "text/html": [
       "<pre>recommendations finished on 144000/161955 queries. users per second: 24715.6</pre>"
      ],
      "text/plain": [
       "recommendations finished on 144000/161955 queries. users per second: 24715.6"
      ]
     },
     "metadata": {},
     "output_type": "display_data"
    },
    {
     "data": {
      "text/html": [
       "<pre>recommendations finished on 145000/161955 queries. users per second: 24502.7</pre>"
      ],
      "text/plain": [
       "recommendations finished on 145000/161955 queries. users per second: 24502.7"
      ]
     },
     "metadata": {},
     "output_type": "display_data"
    },
    {
     "data": {
      "text/html": [
       "<pre>recommendations finished on 146000/161955 queries. users per second: 24647.7</pre>"
      ],
      "text/plain": [
       "recommendations finished on 146000/161955 queries. users per second: 24647.7"
      ]
     },
     "metadata": {},
     "output_type": "display_data"
    },
    {
     "data": {
      "text/html": [
       "<pre>recommendations finished on 147000/161955 queries. users per second: 24786.1</pre>"
      ],
      "text/plain": [
       "recommendations finished on 147000/161955 queries. users per second: 24786.1"
      ]
     },
     "metadata": {},
     "output_type": "display_data"
    },
    {
     "data": {
      "text/html": [
       "<pre>recommendations finished on 148000/161955 queries. users per second: 24583.6</pre>"
      ],
      "text/plain": [
       "recommendations finished on 148000/161955 queries. users per second: 24583.6"
      ]
     },
     "metadata": {},
     "output_type": "display_data"
    },
    {
     "data": {
      "text/html": [
       "<pre>recommendations finished on 149000/161955 queries. users per second: 24727.7</pre>"
      ],
      "text/plain": [
       "recommendations finished on 149000/161955 queries. users per second: 24727.7"
      ]
     },
     "metadata": {},
     "output_type": "display_data"
    },
    {
     "data": {
      "text/html": [
       "<pre>recommendations finished on 150000/161955 queries. users per second: 24520.3</pre>"
      ],
      "text/plain": [
       "recommendations finished on 150000/161955 queries. users per second: 24520.3"
      ]
     },
     "metadata": {},
     "output_type": "display_data"
    },
    {
     "data": {
      "text/html": [
       "<pre>recommendations finished on 151000/161955 queries. users per second: 24661.4</pre>"
      ],
      "text/plain": [
       "recommendations finished on 151000/161955 queries. users per second: 24661.4"
      ]
     },
     "metadata": {},
     "output_type": "display_data"
    },
    {
     "data": {
      "text/html": [
       "<pre>recommendations finished on 152000/161955 queries. users per second: 24797.5</pre>"
      ],
      "text/plain": [
       "recommendations finished on 152000/161955 queries. users per second: 24797.5"
      ]
     },
     "metadata": {},
     "output_type": "display_data"
    },
    {
     "data": {
      "text/html": [
       "<pre>recommendations finished on 153000/161955 queries. users per second: 24597.8</pre>"
      ],
      "text/plain": [
       "recommendations finished on 153000/161955 queries. users per second: 24597.8"
      ]
     },
     "metadata": {},
     "output_type": "display_data"
    },
    {
     "data": {
      "text/html": [
       "<pre>recommendations finished on 154000/161955 queries. users per second: 24732.5</pre>"
      ],
      "text/plain": [
       "recommendations finished on 154000/161955 queries. users per second: 24732.5"
      ]
     },
     "metadata": {},
     "output_type": "display_data"
    },
    {
     "data": {
      "text/html": [
       "<pre>recommendations finished on 155000/161955 queries. users per second: 24536</pre>"
      ],
      "text/plain": [
       "recommendations finished on 155000/161955 queries. users per second: 24536"
      ]
     },
     "metadata": {},
     "output_type": "display_data"
    },
    {
     "data": {
      "text/html": [
       "<pre>recommendations finished on 156000/161955 queries. users per second: 24665.1</pre>"
      ],
      "text/plain": [
       "recommendations finished on 156000/161955 queries. users per second: 24665.1"
      ]
     },
     "metadata": {},
     "output_type": "display_data"
    },
    {
     "data": {
      "text/html": [
       "<pre>recommendations finished on 157000/161955 queries. users per second: 24795.2</pre>"
      ],
      "text/plain": [
       "recommendations finished on 157000/161955 queries. users per second: 24795.2"
      ]
     },
     "metadata": {},
     "output_type": "display_data"
    },
    {
     "data": {
      "text/html": [
       "<pre>recommendations finished on 158000/161955 queries. users per second: 24608.3</pre>"
      ],
      "text/plain": [
       "recommendations finished on 158000/161955 queries. users per second: 24608.3"
      ]
     },
     "metadata": {},
     "output_type": "display_data"
    },
    {
     "data": {
      "text/html": [
       "<pre>recommendations finished on 159000/161955 queries. users per second: 24733.8</pre>"
      ],
      "text/plain": [
       "recommendations finished on 159000/161955 queries. users per second: 24733.8"
      ]
     },
     "metadata": {},
     "output_type": "display_data"
    },
    {
     "data": {
      "text/html": [
       "<pre>recommendations finished on 160000/161955 queries. users per second: 24861.4</pre>"
      ],
      "text/plain": [
       "recommendations finished on 160000/161955 queries. users per second: 24861.4"
      ]
     },
     "metadata": {},
     "output_type": "display_data"
    },
    {
     "data": {
      "text/html": [
       "<pre>recommendations finished on 161000/161955 queries. users per second: 24692.8</pre>"
      ],
      "text/plain": [
       "recommendations finished on 161000/161955 queries. users per second: 24692.8"
      ]
     },
     "metadata": {},
     "output_type": "display_data"
    },
    {
     "name": "stdout",
     "output_type": "stream",
     "text": [
      "\n",
      "Precision and recall summary statistics by cutoff\n",
      "+--------+-------------------+-------------------+\n",
      "| cutoff |   mean_precision  |    mean_recall    |\n",
      "+--------+-------------------+-------------------+\n",
      "|   1    |   0.001599209657  | 0.000791626911845 |\n",
      "|   2    | 0.000824303047143 |  0.00081309083995 |\n",
      "|   3    |  0.0319245057784  |  0.0320942678414  |\n",
      "|   4    |  0.0239449229724  |  0.0320963260263  |\n",
      "|   5    |  0.0191559383779  |  0.0320963260263  |\n",
      "|   6    |  0.0159653401665  |  0.0321009569423  |\n",
      "|   7    |  0.0136854593648  |  0.0321015182655  |\n",
      "|   8    |  0.0145117470902  |  0.0369272512449  |\n",
      "|   9    |  0.0195815710125  |  0.0576226077055  |\n",
      "|   10   |  0.0176258837331  |  0.0576266726207  |\n",
      "+--------+-------------------+-------------------+\n",
      "[10 rows x 3 columns]\n",
      "\n",
      "PROGRESS: Evaluate model M2\n"
     ]
    },
    {
     "data": {
      "text/html": [
       "<pre>recommendations finished on 1000/161955 queries. users per second: 41886.6</pre>"
      ],
      "text/plain": [
       "recommendations finished on 1000/161955 queries. users per second: 41886.6"
      ]
     },
     "metadata": {},
     "output_type": "display_data"
    },
    {
     "data": {
      "text/html": [
       "<pre>recommendations finished on 2000/161955 queries. users per second: 16713.2</pre>"
      ],
      "text/plain": [
       "recommendations finished on 2000/161955 queries. users per second: 16713.2"
      ]
     },
     "metadata": {},
     "output_type": "display_data"
    },
    {
     "data": {
      "text/html": [
       "<pre>recommendations finished on 3000/161955 queries. users per second: 13817.8</pre>"
      ],
      "text/plain": [
       "recommendations finished on 3000/161955 queries. users per second: 13817.8"
      ]
     },
     "metadata": {},
     "output_type": "display_data"
    },
    {
     "data": {
      "text/html": [
       "<pre>recommendations finished on 4000/161955 queries. users per second: 12726.1</pre>"
      ],
      "text/plain": [
       "recommendations finished on 4000/161955 queries. users per second: 12726.1"
      ]
     },
     "metadata": {},
     "output_type": "display_data"
    },
    {
     "data": {
      "text/html": [
       "<pre>recommendations finished on 5000/161955 queries. users per second: 15328.1</pre>"
      ],
      "text/plain": [
       "recommendations finished on 5000/161955 queries. users per second: 15328.1"
      ]
     },
     "metadata": {},
     "output_type": "display_data"
    },
    {
     "data": {
      "text/html": [
       "<pre>recommendations finished on 6000/161955 queries. users per second: 14177.8</pre>"
      ],
      "text/plain": [
       "recommendations finished on 6000/161955 queries. users per second: 14177.8"
      ]
     },
     "metadata": {},
     "output_type": "display_data"
    },
    {
     "data": {
      "text/html": [
       "<pre>recommendations finished on 7000/161955 queries. users per second: 13461.2</pre>"
      ],
      "text/plain": [
       "recommendations finished on 7000/161955 queries. users per second: 13461.2"
      ]
     },
     "metadata": {},
     "output_type": "display_data"
    },
    {
     "data": {
      "text/html": [
       "<pre>recommendations finished on 8000/161955 queries. users per second: 12990.2</pre>"
      ],
      "text/plain": [
       "recommendations finished on 8000/161955 queries. users per second: 12990.2"
      ]
     },
     "metadata": {},
     "output_type": "display_data"
    },
    {
     "data": {
      "text/html": [
       "<pre>recommendations finished on 9000/161955 queries. users per second: 12636.4</pre>"
      ],
      "text/plain": [
       "recommendations finished on 9000/161955 queries. users per second: 12636.4"
      ]
     },
     "metadata": {},
     "output_type": "display_data"
    },
    {
     "data": {
      "text/html": [
       "<pre>recommendations finished on 10000/161955 queries. users per second: 13820.5</pre>"
      ],
      "text/plain": [
       "recommendations finished on 10000/161955 queries. users per second: 13820.5"
      ]
     },
     "metadata": {},
     "output_type": "display_data"
    },
    {
     "data": {
      "text/html": [
       "<pre>recommendations finished on 11000/161955 queries. users per second: 13424.6</pre>"
      ],
      "text/plain": [
       "recommendations finished on 11000/161955 queries. users per second: 13424.6"
      ]
     },
     "metadata": {},
     "output_type": "display_data"
    },
    {
     "data": {
      "text/html": [
       "<pre>recommendations finished on 12000/161955 queries. users per second: 13101</pre>"
      ],
      "text/plain": [
       "recommendations finished on 12000/161955 queries. users per second: 13101"
      ]
     },
     "metadata": {},
     "output_type": "display_data"
    },
    {
     "data": {
      "text/html": [
       "<pre>recommendations finished on 13000/161955 queries. users per second: 12830.7</pre>"
      ],
      "text/plain": [
       "recommendations finished on 13000/161955 queries. users per second: 12830.7"
      ]
     },
     "metadata": {},
     "output_type": "display_data"
    },
    {
     "data": {
      "text/html": [
       "<pre>recommendations finished on 14000/161955 queries. users per second: 13670.6</pre>"
      ],
      "text/plain": [
       "recommendations finished on 14000/161955 queries. users per second: 13670.6"
      ]
     },
     "metadata": {},
     "output_type": "display_data"
    },
    {
     "data": {
      "text/html": [
       "<pre>recommendations finished on 15000/161955 queries. users per second: 13377</pre>"
      ],
      "text/plain": [
       "recommendations finished on 15000/161955 queries. users per second: 13377"
      ]
     },
     "metadata": {},
     "output_type": "display_data"
    },
    {
     "data": {
      "text/html": [
       "<pre>recommendations finished on 16000/161955 queries. users per second: 13132.2</pre>"
      ],
      "text/plain": [
       "recommendations finished on 16000/161955 queries. users per second: 13132.2"
      ]
     },
     "metadata": {},
     "output_type": "display_data"
    },
    {
     "data": {
      "text/html": [
       "<pre>recommendations finished on 17000/161955 queries. users per second: 12927.8</pre>"
      ],
      "text/plain": [
       "recommendations finished on 17000/161955 queries. users per second: 12927.8"
      ]
     },
     "metadata": {},
     "output_type": "display_data"
    },
    {
     "data": {
      "text/html": [
       "<pre>recommendations finished on 18000/161955 queries. users per second: 13553</pre>"
      ],
      "text/plain": [
       "recommendations finished on 18000/161955 queries. users per second: 13553"
      ]
     },
     "metadata": {},
     "output_type": "display_data"
    },
    {
     "data": {
      "text/html": [
       "<pre>recommendations finished on 19000/161955 queries. users per second: 13350.8</pre>"
      ],
      "text/plain": [
       "recommendations finished on 19000/161955 queries. users per second: 13350.8"
      ]
     },
     "metadata": {},
     "output_type": "display_data"
    },
    {
     "data": {
      "text/html": [
       "<pre>recommendations finished on 20000/161955 queries. users per second: 13168.6</pre>"
      ],
      "text/plain": [
       "recommendations finished on 20000/161955 queries. users per second: 13168.6"
      ]
     },
     "metadata": {},
     "output_type": "display_data"
    },
    {
     "data": {
      "text/html": [
       "<pre>recommendations finished on 21000/161955 queries. users per second: 13000.4</pre>"
      ],
      "text/plain": [
       "recommendations finished on 21000/161955 queries. users per second: 13000.4"
      ]
     },
     "metadata": {},
     "output_type": "display_data"
    },
    {
     "data": {
      "text/html": [
       "<pre>recommendations finished on 22000/161955 queries. users per second: 12842.3</pre>"
      ],
      "text/plain": [
       "recommendations finished on 22000/161955 queries. users per second: 12842.3"
      ]
     },
     "metadata": {},
     "output_type": "display_data"
    },
    {
     "data": {
      "text/html": [
       "<pre>recommendations finished on 23000/161955 queries. users per second: 13337.7</pre>"
      ],
      "text/plain": [
       "recommendations finished on 23000/161955 queries. users per second: 13337.7"
      ]
     },
     "metadata": {},
     "output_type": "display_data"
    },
    {
     "data": {
      "text/html": [
       "<pre>recommendations finished on 24000/161955 queries. users per second: 13168.3</pre>"
      ],
      "text/plain": [
       "recommendations finished on 24000/161955 queries. users per second: 13168.3"
      ]
     },
     "metadata": {},
     "output_type": "display_data"
    },
    {
     "data": {
      "text/html": [
       "<pre>recommendations finished on 25000/161955 queries. users per second: 13019.2</pre>"
      ],
      "text/plain": [
       "recommendations finished on 25000/161955 queries. users per second: 13019.2"
      ]
     },
     "metadata": {},
     "output_type": "display_data"
    },
    {
     "data": {
      "text/html": [
       "<pre>recommendations finished on 26000/161955 queries. users per second: 12884.7</pre>"
      ],
      "text/plain": [
       "recommendations finished on 26000/161955 queries. users per second: 12884.7"
      ]
     },
     "metadata": {},
     "output_type": "display_data"
    },
    {
     "data": {
      "text/html": [
       "<pre>recommendations finished on 27000/161955 queries. users per second: 12769.2</pre>"
      ],
      "text/plain": [
       "recommendations finished on 27000/161955 queries. users per second: 12769.2"
      ]
     },
     "metadata": {},
     "output_type": "display_data"
    },
    {
     "data": {
      "text/html": [
       "<pre>recommendations finished on 28000/161955 queries. users per second: 12658.2</pre>"
      ],
      "text/plain": [
       "recommendations finished on 28000/161955 queries. users per second: 12658.2"
      ]
     },
     "metadata": {},
     "output_type": "display_data"
    },
    {
     "data": {
      "text/html": [
       "<pre>recommendations finished on 29000/161955 queries. users per second: 13042.1</pre>"
      ],
      "text/plain": [
       "recommendations finished on 29000/161955 queries. users per second: 13042.1"
      ]
     },
     "metadata": {},
     "output_type": "display_data"
    },
    {
     "data": {
      "text/html": [
       "<pre>recommendations finished on 30000/161955 queries. users per second: 12926.1</pre>"
      ],
      "text/plain": [
       "recommendations finished on 30000/161955 queries. users per second: 12926.1"
      ]
     },
     "metadata": {},
     "output_type": "display_data"
    },
    {
     "data": {
      "text/html": [
       "<pre>recommendations finished on 31000/161955 queries. users per second: 12818.4</pre>"
      ],
      "text/plain": [
       "recommendations finished on 31000/161955 queries. users per second: 12818.4"
      ]
     },
     "metadata": {},
     "output_type": "display_data"
    },
    {
     "data": {
      "text/html": [
       "<pre>recommendations finished on 32000/161955 queries. users per second: 12716</pre>"
      ],
      "text/plain": [
       "recommendations finished on 32000/161955 queries. users per second: 12716"
      ]
     },
     "metadata": {},
     "output_type": "display_data"
    },
    {
     "data": {
      "text/html": [
       "<pre>recommendations finished on 33000/161955 queries. users per second: 12633.2</pre>"
      ],
      "text/plain": [
       "recommendations finished on 33000/161955 queries. users per second: 12633.2"
      ]
     },
     "metadata": {},
     "output_type": "display_data"
    },
    {
     "data": {
      "text/html": [
       "<pre>recommendations finished on 34000/161955 queries. users per second: 12957.8</pre>"
      ],
      "text/plain": [
       "recommendations finished on 34000/161955 queries. users per second: 12957.8"
      ]
     },
     "metadata": {},
     "output_type": "display_data"
    },
    {
     "data": {
      "text/html": [
       "<pre>recommendations finished on 35000/161955 queries. users per second: 12859.4</pre>"
      ],
      "text/plain": [
       "recommendations finished on 35000/161955 queries. users per second: 12859.4"
      ]
     },
     "metadata": {},
     "output_type": "display_data"
    },
    {
     "data": {
      "text/html": [
       "<pre>recommendations finished on 36000/161955 queries. users per second: 12774.4</pre>"
      ],
      "text/plain": [
       "recommendations finished on 36000/161955 queries. users per second: 12774.4"
      ]
     },
     "metadata": {},
     "output_type": "display_data"
    },
    {
     "data": {
      "text/html": [
       "<pre>recommendations finished on 37000/161955 queries. users per second: 12695.7</pre>"
      ],
      "text/plain": [
       "recommendations finished on 37000/161955 queries. users per second: 12695.7"
      ]
     },
     "metadata": {},
     "output_type": "display_data"
    },
    {
     "data": {
      "text/html": [
       "<pre>recommendations finished on 38000/161955 queries. users per second: 12980.4</pre>"
      ],
      "text/plain": [
       "recommendations finished on 38000/161955 queries. users per second: 12980.4"
      ]
     },
     "metadata": {},
     "output_type": "display_data"
    },
    {
     "data": {
      "text/html": [
       "<pre>recommendations finished on 39000/161955 queries. users per second: 12899.8</pre>"
      ],
      "text/plain": [
       "recommendations finished on 39000/161955 queries. users per second: 12899.8"
      ]
     },
     "metadata": {},
     "output_type": "display_data"
    },
    {
     "data": {
      "text/html": [
       "<pre>recommendations finished on 40000/161955 queries. users per second: 12817.6</pre>"
      ],
      "text/plain": [
       "recommendations finished on 40000/161955 queries. users per second: 12817.6"
      ]
     },
     "metadata": {},
     "output_type": "display_data"
    },
    {
     "data": {
      "text/html": [
       "<pre>recommendations finished on 41000/161955 queries. users per second: 12741.5</pre>"
      ],
      "text/plain": [
       "recommendations finished on 41000/161955 queries. users per second: 12741.5"
      ]
     },
     "metadata": {},
     "output_type": "display_data"
    },
    {
     "data": {
      "text/html": [
       "<pre>recommendations finished on 42000/161955 queries. users per second: 12677.1</pre>"
      ],
      "text/plain": [
       "recommendations finished on 42000/161955 queries. users per second: 12677.1"
      ]
     },
     "metadata": {},
     "output_type": "display_data"
    },
    {
     "data": {
      "text/html": [
       "<pre>recommendations finished on 43000/161955 queries. users per second: 12934.1</pre>"
      ],
      "text/plain": [
       "recommendations finished on 43000/161955 queries. users per second: 12934.1"
      ]
     },
     "metadata": {},
     "output_type": "display_data"
    },
    {
     "data": {
      "text/html": [
       "<pre>recommendations finished on 44000/161955 queries. users per second: 12859.3</pre>"
      ],
      "text/plain": [
       "recommendations finished on 44000/161955 queries. users per second: 12859.3"
      ]
     },
     "metadata": {},
     "output_type": "display_data"
    },
    {
     "data": {
      "text/html": [
       "<pre>recommendations finished on 45000/161955 queries. users per second: 12789.8</pre>"
      ],
      "text/plain": [
       "recommendations finished on 45000/161955 queries. users per second: 12789.8"
      ]
     },
     "metadata": {},
     "output_type": "display_data"
    },
    {
     "data": {
      "text/html": [
       "<pre>recommendations finished on 46000/161955 queries. users per second: 12727.5</pre>"
      ],
      "text/plain": [
       "recommendations finished on 46000/161955 queries. users per second: 12727.5"
      ]
     },
     "metadata": {},
     "output_type": "display_data"
    },
    {
     "data": {
      "text/html": [
       "<pre>recommendations finished on 47000/161955 queries. users per second: 12963.8</pre>"
      ],
      "text/plain": [
       "recommendations finished on 47000/161955 queries. users per second: 12963.8"
      ]
     },
     "metadata": {},
     "output_type": "display_data"
    },
    {
     "data": {
      "text/html": [
       "<pre>recommendations finished on 48000/161955 queries. users per second: 12900.9</pre>"
      ],
      "text/plain": [
       "recommendations finished on 48000/161955 queries. users per second: 12900.9"
      ]
     },
     "metadata": {},
     "output_type": "display_data"
    },
    {
     "data": {
      "text/html": [
       "<pre>recommendations finished on 49000/161955 queries. users per second: 12839.7</pre>"
      ],
      "text/plain": [
       "recommendations finished on 49000/161955 queries. users per second: 12839.7"
      ]
     },
     "metadata": {},
     "output_type": "display_data"
    },
    {
     "data": {
      "text/html": [
       "<pre>recommendations finished on 50000/161955 queries. users per second: 12779.1</pre>"
      ],
      "text/plain": [
       "recommendations finished on 50000/161955 queries. users per second: 12779.1"
      ]
     },
     "metadata": {},
     "output_type": "display_data"
    },
    {
     "data": {
      "text/html": [
       "<pre>recommendations finished on 51000/161955 queries. users per second: 12996.7</pre>"
      ],
      "text/plain": [
       "recommendations finished on 51000/161955 queries. users per second: 12996.7"
      ]
     },
     "metadata": {},
     "output_type": "display_data"
    },
    {
     "data": {
      "text/html": [
       "<pre>recommendations finished on 52000/161955 queries. users per second: 12933.4</pre>"
      ],
      "text/plain": [
       "recommendations finished on 52000/161955 queries. users per second: 12933.4"
      ]
     },
     "metadata": {},
     "output_type": "display_data"
    },
    {
     "data": {
      "text/html": [
       "<pre>recommendations finished on 53000/161955 queries. users per second: 12878.4</pre>"
      ],
      "text/plain": [
       "recommendations finished on 53000/161955 queries. users per second: 12878.4"
      ]
     },
     "metadata": {},
     "output_type": "display_data"
    },
    {
     "data": {
      "text/html": [
       "<pre>recommendations finished on 54000/161955 queries. users per second: 13087</pre>"
      ],
      "text/plain": [
       "recommendations finished on 54000/161955 queries. users per second: 13087"
      ]
     },
     "metadata": {},
     "output_type": "display_data"
    },
    {
     "data": {
      "text/html": [
       "<pre>recommendations finished on 55000/161955 queries. users per second: 13033.8</pre>"
      ],
      "text/plain": [
       "recommendations finished on 55000/161955 queries. users per second: 13033.8"
      ]
     },
     "metadata": {},
     "output_type": "display_data"
    },
    {
     "data": {
      "text/html": [
       "<pre>recommendations finished on 56000/161955 queries. users per second: 12977.8</pre>"
      ],
      "text/plain": [
       "recommendations finished on 56000/161955 queries. users per second: 12977.8"
      ]
     },
     "metadata": {},
     "output_type": "display_data"
    },
    {
     "data": {
      "text/html": [
       "<pre>recommendations finished on 57000/161955 queries. users per second: 13174.8</pre>"
      ],
      "text/plain": [
       "recommendations finished on 57000/161955 queries. users per second: 13174.8"
      ]
     },
     "metadata": {},
     "output_type": "display_data"
    },
    {
     "data": {
      "text/html": [
       "<pre>recommendations finished on 58000/161955 queries. users per second: 13116.9</pre>"
      ],
      "text/plain": [
       "recommendations finished on 58000/161955 queries. users per second: 13116.9"
      ]
     },
     "metadata": {},
     "output_type": "display_data"
    },
    {
     "data": {
      "text/html": [
       "<pre>recommendations finished on 59000/161955 queries. users per second: 13061.6</pre>"
      ],
      "text/plain": [
       "recommendations finished on 59000/161955 queries. users per second: 13061.6"
      ]
     },
     "metadata": {},
     "output_type": "display_data"
    },
    {
     "data": {
      "text/html": [
       "<pre>recommendations finished on 60000/161955 queries. users per second: 13008.9</pre>"
      ],
      "text/plain": [
       "recommendations finished on 60000/161955 queries. users per second: 13008.9"
      ]
     },
     "metadata": {},
     "output_type": "display_data"
    },
    {
     "data": {
      "text/html": [
       "<pre>recommendations finished on 61000/161955 queries. users per second: 13194</pre>"
      ],
      "text/plain": [
       "recommendations finished on 61000/161955 queries. users per second: 13194"
      ]
     },
     "metadata": {},
     "output_type": "display_data"
    },
    {
     "data": {
      "text/html": [
       "<pre>recommendations finished on 62000/161955 queries. users per second: 13136.9</pre>"
      ],
      "text/plain": [
       "recommendations finished on 62000/161955 queries. users per second: 13136.9"
      ]
     },
     "metadata": {},
     "output_type": "display_data"
    },
    {
     "data": {
      "text/html": [
       "<pre>recommendations finished on 63000/161955 queries. users per second: 13084.7</pre>"
      ],
      "text/plain": [
       "recommendations finished on 63000/161955 queries. users per second: 13084.7"
      ]
     },
     "metadata": {},
     "output_type": "display_data"
    },
    {
     "data": {
      "text/html": [
       "<pre>recommendations finished on 64000/161955 queries. users per second: 13259</pre>"
      ],
      "text/plain": [
       "recommendations finished on 64000/161955 queries. users per second: 13259"
      ]
     },
     "metadata": {},
     "output_type": "display_data"
    },
    {
     "data": {
      "text/html": [
       "<pre>recommendations finished on 65000/161955 queries. users per second: 13205</pre>"
      ],
      "text/plain": [
       "recommendations finished on 65000/161955 queries. users per second: 13205"
      ]
     },
     "metadata": {},
     "output_type": "display_data"
    },
    {
     "data": {
      "text/html": [
       "<pre>recommendations finished on 66000/161955 queries. users per second: 13150.4</pre>"
      ],
      "text/plain": [
       "recommendations finished on 66000/161955 queries. users per second: 13150.4"
      ]
     },
     "metadata": {},
     "output_type": "display_data"
    },
    {
     "data": {
      "text/html": [
       "<pre>recommendations finished on 67000/161955 queries. users per second: 13098</pre>"
      ],
      "text/plain": [
       "recommendations finished on 67000/161955 queries. users per second: 13098"
      ]
     },
     "metadata": {},
     "output_type": "display_data"
    },
    {
     "data": {
      "text/html": [
       "<pre>recommendations finished on 68000/161955 queries. users per second: 13262</pre>"
      ],
      "text/plain": [
       "recommendations finished on 68000/161955 queries. users per second: 13262"
      ]
     },
     "metadata": {},
     "output_type": "display_data"
    },
    {
     "data": {
      "text/html": [
       "<pre>recommendations finished on 69000/161955 queries. users per second: 13213.5</pre>"
      ],
      "text/plain": [
       "recommendations finished on 69000/161955 queries. users per second: 13213.5"
      ]
     },
     "metadata": {},
     "output_type": "display_data"
    },
    {
     "data": {
      "text/html": [
       "<pre>recommendations finished on 70000/161955 queries. users per second: 13164.6</pre>"
      ],
      "text/plain": [
       "recommendations finished on 70000/161955 queries. users per second: 13164.6"
      ]
     },
     "metadata": {},
     "output_type": "display_data"
    },
    {
     "data": {
      "text/html": [
       "<pre>recommendations finished on 71000/161955 queries. users per second: 13116.6</pre>"
      ],
      "text/plain": [
       "recommendations finished on 71000/161955 queries. users per second: 13116.6"
      ]
     },
     "metadata": {},
     "output_type": "display_data"
    },
    {
     "data": {
      "text/html": [
       "<pre>recommendations finished on 72000/161955 queries. users per second: 13274.7</pre>"
      ],
      "text/plain": [
       "recommendations finished on 72000/161955 queries. users per second: 13274.7"
      ]
     },
     "metadata": {},
     "output_type": "display_data"
    },
    {
     "data": {
      "text/html": [
       "<pre>recommendations finished on 73000/161955 queries. users per second: 13227</pre>"
      ],
      "text/plain": [
       "recommendations finished on 73000/161955 queries. users per second: 13227"
      ]
     },
     "metadata": {},
     "output_type": "display_data"
    },
    {
     "data": {
      "text/html": [
       "<pre>recommendations finished on 74000/161955 queries. users per second: 13182.3</pre>"
      ],
      "text/plain": [
       "recommendations finished on 74000/161955 queries. users per second: 13182.3"
      ]
     },
     "metadata": {},
     "output_type": "display_data"
    },
    {
     "data": {
      "text/html": [
       "<pre>recommendations finished on 75000/161955 queries. users per second: 13333.4</pre>"
      ],
      "text/plain": [
       "recommendations finished on 75000/161955 queries. users per second: 13333.4"
      ]
     },
     "metadata": {},
     "output_type": "display_data"
    },
    {
     "data": {
      "text/html": [
       "<pre>recommendations finished on 76000/161955 queries. users per second: 13284.4</pre>"
      ],
      "text/plain": [
       "recommendations finished on 76000/161955 queries. users per second: 13284.4"
      ]
     },
     "metadata": {},
     "output_type": "display_data"
    },
    {
     "data": {
      "text/html": [
       "<pre>recommendations finished on 77000/161955 queries. users per second: 13239</pre>"
      ],
      "text/plain": [
       "recommendations finished on 77000/161955 queries. users per second: 13239"
      ]
     },
     "metadata": {},
     "output_type": "display_data"
    },
    {
     "data": {
      "text/html": [
       "<pre>recommendations finished on 78000/161955 queries. users per second: 13384.3</pre>"
      ],
      "text/plain": [
       "recommendations finished on 78000/161955 queries. users per second: 13384.3"
      ]
     },
     "metadata": {},
     "output_type": "display_data"
    },
    {
     "data": {
      "text/html": [
       "<pre>recommendations finished on 79000/161955 queries. users per second: 13339.4</pre>"
      ],
      "text/plain": [
       "recommendations finished on 79000/161955 queries. users per second: 13339.4"
      ]
     },
     "metadata": {},
     "output_type": "display_data"
    },
    {
     "data": {
      "text/html": [
       "<pre>recommendations finished on 80000/161955 queries. users per second: 13296</pre>"
      ],
      "text/plain": [
       "recommendations finished on 80000/161955 queries. users per second: 13296"
      ]
     },
     "metadata": {},
     "output_type": "display_data"
    },
    {
     "data": {
      "text/html": [
       "<pre>recommendations finished on 81000/161955 queries. users per second: 13427.3</pre>"
      ],
      "text/plain": [
       "recommendations finished on 81000/161955 queries. users per second: 13427.3"
      ]
     },
     "metadata": {},
     "output_type": "display_data"
    },
    {
     "data": {
      "text/html": [
       "<pre>recommendations finished on 82000/161955 queries. users per second: 13393</pre>"
      ],
      "text/plain": [
       "recommendations finished on 82000/161955 queries. users per second: 13393"
      ]
     },
     "metadata": {},
     "output_type": "display_data"
    },
    {
     "data": {
      "text/html": [
       "<pre>recommendations finished on 83000/161955 queries. users per second: 13347.9</pre>"
      ],
      "text/plain": [
       "recommendations finished on 83000/161955 queries. users per second: 13347.9"
      ]
     },
     "metadata": {},
     "output_type": "display_data"
    },
    {
     "data": {
      "text/html": [
       "<pre>recommendations finished on 84000/161955 queries. users per second: 13305.8</pre>"
      ],
      "text/plain": [
       "recommendations finished on 84000/161955 queries. users per second: 13305.8"
      ]
     },
     "metadata": {},
     "output_type": "display_data"
    },
    {
     "data": {
      "text/html": [
       "<pre>recommendations finished on 85000/161955 queries. users per second: 13439.2</pre>"
      ],
      "text/plain": [
       "recommendations finished on 85000/161955 queries. users per second: 13439.2"
      ]
     },
     "metadata": {},
     "output_type": "display_data"
    },
    {
     "data": {
      "text/html": [
       "<pre>recommendations finished on 86000/161955 queries. users per second: 13393.8</pre>"
      ],
      "text/plain": [
       "recommendations finished on 86000/161955 queries. users per second: 13393.8"
      ]
     },
     "metadata": {},
     "output_type": "display_data"
    },
    {
     "data": {
      "text/html": [
       "<pre>recommendations finished on 87000/161955 queries. users per second: 13347.5</pre>"
      ],
      "text/plain": [
       "recommendations finished on 87000/161955 queries. users per second: 13347.5"
      ]
     },
     "metadata": {},
     "output_type": "display_data"
    },
    {
     "data": {
      "text/html": [
       "<pre>recommendations finished on 88000/161955 queries. users per second: 13306.8</pre>"
      ],
      "text/plain": [
       "recommendations finished on 88000/161955 queries. users per second: 13306.8"
      ]
     },
     "metadata": {},
     "output_type": "display_data"
    },
    {
     "data": {
      "text/html": [
       "<pre>recommendations finished on 89000/161955 queries. users per second: 13436.4</pre>"
      ],
      "text/plain": [
       "recommendations finished on 89000/161955 queries. users per second: 13436.4"
      ]
     },
     "metadata": {},
     "output_type": "display_data"
    },
    {
     "data": {
      "text/html": [
       "<pre>recommendations finished on 90000/161955 queries. users per second: 13396.1</pre>"
      ],
      "text/plain": [
       "recommendations finished on 90000/161955 queries. users per second: 13396.1"
      ]
     },
     "metadata": {},
     "output_type": "display_data"
    },
    {
     "data": {
      "text/html": [
       "<pre>recommendations finished on 91000/161955 queries. users per second: 13353.9</pre>"
      ],
      "text/plain": [
       "recommendations finished on 91000/161955 queries. users per second: 13353.9"
      ]
     },
     "metadata": {},
     "output_type": "display_data"
    },
    {
     "data": {
      "text/html": [
       "<pre>recommendations finished on 92000/161955 queries. users per second: 13477.7</pre>"
      ],
      "text/plain": [
       "recommendations finished on 92000/161955 queries. users per second: 13477.7"
      ]
     },
     "metadata": {},
     "output_type": "display_data"
    },
    {
     "data": {
      "text/html": [
       "<pre>recommendations finished on 93000/161955 queries. users per second: 13437.3</pre>"
      ],
      "text/plain": [
       "recommendations finished on 93000/161955 queries. users per second: 13437.3"
      ]
     },
     "metadata": {},
     "output_type": "display_data"
    },
    {
     "data": {
      "text/html": [
       "<pre>recommendations finished on 94000/161955 queries. users per second: 13397.5</pre>"
      ],
      "text/plain": [
       "recommendations finished on 94000/161955 queries. users per second: 13397.5"
      ]
     },
     "metadata": {},
     "output_type": "display_data"
    },
    {
     "data": {
      "text/html": [
       "<pre>recommendations finished on 95000/161955 queries. users per second: 13518.5</pre>"
      ],
      "text/plain": [
       "recommendations finished on 95000/161955 queries. users per second: 13518.5"
      ]
     },
     "metadata": {},
     "output_type": "display_data"
    },
    {
     "data": {
      "text/html": [
       "<pre>recommendations finished on 96000/161955 queries. users per second: 13478.9</pre>"
      ],
      "text/plain": [
       "recommendations finished on 96000/161955 queries. users per second: 13478.9"
      ]
     },
     "metadata": {},
     "output_type": "display_data"
    },
    {
     "data": {
      "text/html": [
       "<pre>recommendations finished on 97000/161955 queries. users per second: 13441.8</pre>"
      ],
      "text/plain": [
       "recommendations finished on 97000/161955 queries. users per second: 13441.8"
      ]
     },
     "metadata": {},
     "output_type": "display_data"
    },
    {
     "data": {
      "text/html": [
       "<pre>recommendations finished on 98000/161955 queries. users per second: 13559</pre>"
      ],
      "text/plain": [
       "recommendations finished on 98000/161955 queries. users per second: 13559"
      ]
     },
     "metadata": {},
     "output_type": "display_data"
    },
    {
     "data": {
      "text/html": [
       "<pre>recommendations finished on 99000/161955 queries. users per second: 13519.5</pre>"
      ],
      "text/plain": [
       "recommendations finished on 99000/161955 queries. users per second: 13519.5"
      ]
     },
     "metadata": {},
     "output_type": "display_data"
    },
    {
     "data": {
      "text/html": [
       "<pre>recommendations finished on 100000/161955 queries. users per second: 13484</pre>"
      ],
      "text/plain": [
       "recommendations finished on 100000/161955 queries. users per second: 13484"
      ]
     },
     "metadata": {},
     "output_type": "display_data"
    },
    {
     "data": {
      "text/html": [
       "<pre>recommendations finished on 101000/161955 queries. users per second: 13597.8</pre>"
      ],
      "text/plain": [
       "recommendations finished on 101000/161955 queries. users per second: 13597.8"
      ]
     },
     "metadata": {},
     "output_type": "display_data"
    },
    {
     "data": {
      "text/html": [
       "<pre>recommendations finished on 102000/161955 queries. users per second: 13559</pre>"
      ],
      "text/plain": [
       "recommendations finished on 102000/161955 queries. users per second: 13559"
      ]
     },
     "metadata": {},
     "output_type": "display_data"
    },
    {
     "data": {
      "text/html": [
       "<pre>recommendations finished on 103000/161955 queries. users per second: 13525</pre>"
      ],
      "text/plain": [
       "recommendations finished on 103000/161955 queries. users per second: 13525"
      ]
     },
     "metadata": {},
     "output_type": "display_data"
    },
    {
     "data": {
      "text/html": [
       "<pre>recommendations finished on 104000/161955 queries. users per second: 13636.2</pre>"
      ],
      "text/plain": [
       "recommendations finished on 104000/161955 queries. users per second: 13636.2"
      ]
     },
     "metadata": {},
     "output_type": "display_data"
    },
    {
     "data": {
      "text/html": [
       "<pre>recommendations finished on 105000/161955 queries. users per second: 13598.9</pre>"
      ],
      "text/plain": [
       "recommendations finished on 105000/161955 queries. users per second: 13598.9"
      ]
     },
     "metadata": {},
     "output_type": "display_data"
    },
    {
     "data": {
      "text/html": [
       "<pre>recommendations finished on 106000/161955 queries. users per second: 13565.5</pre>"
      ],
      "text/plain": [
       "recommendations finished on 106000/161955 queries. users per second: 13565.5"
      ]
     },
     "metadata": {},
     "output_type": "display_data"
    },
    {
     "data": {
      "text/html": [
       "<pre>recommendations finished on 107000/161955 queries. users per second: 13672.8</pre>"
      ],
      "text/plain": [
       "recommendations finished on 107000/161955 queries. users per second: 13672.8"
      ]
     },
     "metadata": {},
     "output_type": "display_data"
    },
    {
     "data": {
      "text/html": [
       "<pre>recommendations finished on 108000/161955 queries. users per second: 13635.8</pre>"
      ],
      "text/plain": [
       "recommendations finished on 108000/161955 queries. users per second: 13635.8"
      ]
     },
     "metadata": {},
     "output_type": "display_data"
    },
    {
     "data": {
      "text/html": [
       "<pre>recommendations finished on 109000/161955 queries. users per second: 13601.5</pre>"
      ],
      "text/plain": [
       "recommendations finished on 109000/161955 queries. users per second: 13601.5"
      ]
     },
     "metadata": {},
     "output_type": "display_data"
    },
    {
     "data": {
      "text/html": [
       "<pre>recommendations finished on 110000/161955 queries. users per second: 13706.5</pre>"
      ],
      "text/plain": [
       "recommendations finished on 110000/161955 queries. users per second: 13706.5"
      ]
     },
     "metadata": {},
     "output_type": "display_data"
    },
    {
     "data": {
      "text/html": [
       "<pre>recommendations finished on 111000/161955 queries. users per second: 13672.3</pre>"
      ],
      "text/plain": [
       "recommendations finished on 111000/161955 queries. users per second: 13672.3"
      ]
     },
     "metadata": {},
     "output_type": "display_data"
    },
    {
     "data": {
      "text/html": [
       "<pre>recommendations finished on 112000/161955 queries. users per second: 13777</pre>"
      ],
      "text/plain": [
       "recommendations finished on 112000/161955 queries. users per second: 13777"
      ]
     },
     "metadata": {},
     "output_type": "display_data"
    },
    {
     "data": {
      "text/html": [
       "<pre>recommendations finished on 113000/161955 queries. users per second: 13740.8</pre>"
      ],
      "text/plain": [
       "recommendations finished on 113000/161955 queries. users per second: 13740.8"
      ]
     },
     "metadata": {},
     "output_type": "display_data"
    },
    {
     "data": {
      "text/html": [
       "<pre>recommendations finished on 114000/161955 queries. users per second: 13706.7</pre>"
      ],
      "text/plain": [
       "recommendations finished on 114000/161955 queries. users per second: 13706.7"
      ]
     },
     "metadata": {},
     "output_type": "display_data"
    },
    {
     "data": {
      "text/html": [
       "<pre>recommendations finished on 115000/161955 queries. users per second: 13806.4</pre>"
      ],
      "text/plain": [
       "recommendations finished on 115000/161955 queries. users per second: 13806.4"
      ]
     },
     "metadata": {},
     "output_type": "display_data"
    },
    {
     "data": {
      "text/html": [
       "<pre>recommendations finished on 116000/161955 queries. users per second: 13769.9</pre>"
      ],
      "text/plain": [
       "recommendations finished on 116000/161955 queries. users per second: 13769.9"
      ]
     },
     "metadata": {},
     "output_type": "display_data"
    },
    {
     "data": {
      "text/html": [
       "<pre>recommendations finished on 117000/161955 queries. users per second: 13736.4</pre>"
      ],
      "text/plain": [
       "recommendations finished on 117000/161955 queries. users per second: 13736.4"
      ]
     },
     "metadata": {},
     "output_type": "display_data"
    },
    {
     "data": {
      "text/html": [
       "<pre>recommendations finished on 118000/161955 queries. users per second: 13832.2</pre>"
      ],
      "text/plain": [
       "recommendations finished on 118000/161955 queries. users per second: 13832.2"
      ]
     },
     "metadata": {},
     "output_type": "display_data"
    },
    {
     "data": {
      "text/html": [
       "<pre>recommendations finished on 119000/161955 queries. users per second: 13793.9</pre>"
      ],
      "text/plain": [
       "recommendations finished on 119000/161955 queries. users per second: 13793.9"
      ]
     },
     "metadata": {},
     "output_type": "display_data"
    },
    {
     "data": {
      "text/html": [
       "<pre>recommendations finished on 120000/161955 queries. users per second: 13757.2</pre>"
      ],
      "text/plain": [
       "recommendations finished on 120000/161955 queries. users per second: 13757.2"
      ]
     },
     "metadata": {},
     "output_type": "display_data"
    },
    {
     "data": {
      "text/html": [
       "<pre>recommendations finished on 121000/161955 queries. users per second: 13722.8</pre>"
      ],
      "text/plain": [
       "recommendations finished on 121000/161955 queries. users per second: 13722.8"
      ]
     },
     "metadata": {},
     "output_type": "display_data"
    },
    {
     "data": {
      "text/html": [
       "<pre>recommendations finished on 122000/161955 queries. users per second: 13688.1</pre>"
      ],
      "text/plain": [
       "recommendations finished on 122000/161955 queries. users per second: 13688.1"
      ]
     },
     "metadata": {},
     "output_type": "display_data"
    },
    {
     "data": {
      "text/html": [
       "<pre>recommendations finished on 123000/161955 queries. users per second: 13780.4</pre>"
      ],
      "text/plain": [
       "recommendations finished on 123000/161955 queries. users per second: 13780.4"
      ]
     },
     "metadata": {},
     "output_type": "display_data"
    },
    {
     "data": {
      "text/html": [
       "<pre>recommendations finished on 124000/161955 queries. users per second: 13745.5</pre>"
      ],
      "text/plain": [
       "recommendations finished on 124000/161955 queries. users per second: 13745.5"
      ]
     },
     "metadata": {},
     "output_type": "display_data"
    },
    {
     "data": {
      "text/html": [
       "<pre>recommendations finished on 125000/161955 queries. users per second: 13714.1</pre>"
      ],
      "text/plain": [
       "recommendations finished on 125000/161955 queries. users per second: 13714.1"
      ]
     },
     "metadata": {},
     "output_type": "display_data"
    },
    {
     "data": {
      "text/html": [
       "<pre>recommendations finished on 126000/161955 queries. users per second: 13798.5</pre>"
      ],
      "text/plain": [
       "recommendations finished on 126000/161955 queries. users per second: 13798.5"
      ]
     },
     "metadata": {},
     "output_type": "display_data"
    },
    {
     "data": {
      "text/html": [
       "<pre>recommendations finished on 127000/161955 queries. users per second: 13768.1</pre>"
      ],
      "text/plain": [
       "recommendations finished on 127000/161955 queries. users per second: 13768.1"
      ]
     },
     "metadata": {},
     "output_type": "display_data"
    },
    {
     "data": {
      "text/html": [
       "<pre>recommendations finished on 128000/161955 queries. users per second: 13736.8</pre>"
      ],
      "text/plain": [
       "recommendations finished on 128000/161955 queries. users per second: 13736.8"
      ]
     },
     "metadata": {},
     "output_type": "display_data"
    },
    {
     "data": {
      "text/html": [
       "<pre>recommendations finished on 129000/161955 queries. users per second: 13705.6</pre>"
      ],
      "text/plain": [
       "recommendations finished on 129000/161955 queries. users per second: 13705.6"
      ]
     },
     "metadata": {},
     "output_type": "display_data"
    },
    {
     "data": {
      "text/html": [
       "<pre>recommendations finished on 130000/161955 queries. users per second: 13787.4</pre>"
      ],
      "text/plain": [
       "recommendations finished on 130000/161955 queries. users per second: 13787.4"
      ]
     },
     "metadata": {},
     "output_type": "display_data"
    },
    {
     "data": {
      "text/html": [
       "<pre>recommendations finished on 131000/161955 queries. users per second: 13757</pre>"
      ],
      "text/plain": [
       "recommendations finished on 131000/161955 queries. users per second: 13757"
      ]
     },
     "metadata": {},
     "output_type": "display_data"
    },
    {
     "data": {
      "text/html": [
       "<pre>recommendations finished on 132000/161955 queries. users per second: 13730.1</pre>"
      ],
      "text/plain": [
       "recommendations finished on 132000/161955 queries. users per second: 13730.1"
      ]
     },
     "metadata": {},
     "output_type": "display_data"
    },
    {
     "data": {
      "text/html": [
       "<pre>recommendations finished on 133000/161955 queries. users per second: 13805</pre>"
      ],
      "text/plain": [
       "recommendations finished on 133000/161955 queries. users per second: 13805"
      ]
     },
     "metadata": {},
     "output_type": "display_data"
    },
    {
     "data": {
      "text/html": [
       "<pre>recommendations finished on 134000/161955 queries. users per second: 13780.7</pre>"
      ],
      "text/plain": [
       "recommendations finished on 134000/161955 queries. users per second: 13780.7"
      ]
     },
     "metadata": {},
     "output_type": "display_data"
    },
    {
     "data": {
      "text/html": [
       "<pre>recommendations finished on 135000/161955 queries. users per second: 13757</pre>"
      ],
      "text/plain": [
       "recommendations finished on 135000/161955 queries. users per second: 13757"
      ]
     },
     "metadata": {},
     "output_type": "display_data"
    },
    {
     "data": {
      "text/html": [
       "<pre>recommendations finished on 136000/161955 queries. users per second: 13817.8</pre>"
      ],
      "text/plain": [
       "recommendations finished on 136000/161955 queries. users per second: 13817.8"
      ]
     },
     "metadata": {},
     "output_type": "display_data"
    },
    {
     "data": {
      "text/html": [
       "<pre>recommendations finished on 137000/161955 queries. users per second: 13793.8</pre>"
      ],
      "text/plain": [
       "recommendations finished on 137000/161955 queries. users per second: 13793.8"
      ]
     },
     "metadata": {},
     "output_type": "display_data"
    },
    {
     "data": {
      "text/html": [
       "<pre>recommendations finished on 138000/161955 queries. users per second: 13761.9</pre>"
      ],
      "text/plain": [
       "recommendations finished on 138000/161955 queries. users per second: 13761.9"
      ]
     },
     "metadata": {},
     "output_type": "display_data"
    },
    {
     "data": {
      "text/html": [
       "<pre>recommendations finished on 139000/161955 queries. users per second: 13738.7</pre>"
      ],
      "text/plain": [
       "recommendations finished on 139000/161955 queries. users per second: 13738.7"
      ]
     },
     "metadata": {},
     "output_type": "display_data"
    },
    {
     "data": {
      "text/html": [
       "<pre>recommendations finished on 140000/161955 queries. users per second: 13796.3</pre>"
      ],
      "text/plain": [
       "recommendations finished on 140000/161955 queries. users per second: 13796.3"
      ]
     },
     "metadata": {},
     "output_type": "display_data"
    },
    {
     "data": {
      "text/html": [
       "<pre>recommendations finished on 141000/161955 queries. users per second: 13767.5</pre>"
      ],
      "text/plain": [
       "recommendations finished on 141000/161955 queries. users per second: 13767.5"
      ]
     },
     "metadata": {},
     "output_type": "display_data"
    },
    {
     "data": {
      "text/html": [
       "<pre>recommendations finished on 142000/161955 queries. users per second: 13741.8</pre>"
      ],
      "text/plain": [
       "recommendations finished on 142000/161955 queries. users per second: 13741.8"
      ]
     },
     "metadata": {},
     "output_type": "display_data"
    },
    {
     "data": {
      "text/html": [
       "<pre>recommendations finished on 143000/161955 queries. users per second: 13723.9</pre>"
      ],
      "text/plain": [
       "recommendations finished on 143000/161955 queries. users per second: 13723.9"
      ]
     },
     "metadata": {},
     "output_type": "display_data"
    },
    {
     "data": {
      "text/html": [
       "<pre>recommendations finished on 144000/161955 queries. users per second: 13786.2</pre>"
      ],
      "text/plain": [
       "recommendations finished on 144000/161955 queries. users per second: 13786.2"
      ]
     },
     "metadata": {},
     "output_type": "display_data"
    },
    {
     "data": {
      "text/html": [
       "<pre>recommendations finished on 145000/161955 queries. users per second: 13777.5</pre>"
      ],
      "text/plain": [
       "recommendations finished on 145000/161955 queries. users per second: 13777.5"
      ]
     },
     "metadata": {},
     "output_type": "display_data"
    },
    {
     "data": {
      "text/html": [
       "<pre>recommendations finished on 146000/161955 queries. users per second: 13835.1</pre>"
      ],
      "text/plain": [
       "recommendations finished on 146000/161955 queries. users per second: 13835.1"
      ]
     },
     "metadata": {},
     "output_type": "display_data"
    },
    {
     "data": {
      "text/html": [
       "<pre>recommendations finished on 147000/161955 queries. users per second: 13827.8</pre>"
      ],
      "text/plain": [
       "recommendations finished on 147000/161955 queries. users per second: 13827.8"
      ]
     },
     "metadata": {},
     "output_type": "display_data"
    },
    {
     "data": {
      "text/html": [
       "<pre>recommendations finished on 148000/161955 queries. users per second: 13887.5</pre>"
      ],
      "text/plain": [
       "recommendations finished on 148000/161955 queries. users per second: 13887.5"
      ]
     },
     "metadata": {},
     "output_type": "display_data"
    },
    {
     "data": {
      "text/html": [
       "<pre>recommendations finished on 149000/161955 queries. users per second: 13888.6</pre>"
      ],
      "text/plain": [
       "recommendations finished on 149000/161955 queries. users per second: 13888.6"
      ]
     },
     "metadata": {},
     "output_type": "display_data"
    },
    {
     "data": {
      "text/html": [
       "<pre>recommendations finished on 150000/161955 queries. users per second: 13949.9</pre>"
      ],
      "text/plain": [
       "recommendations finished on 150000/161955 queries. users per second: 13949.9"
      ]
     },
     "metadata": {},
     "output_type": "display_data"
    },
    {
     "data": {
      "text/html": [
       "<pre>recommendations finished on 151000/161955 queries. users per second: 13961.2</pre>"
      ],
      "text/plain": [
       "recommendations finished on 151000/161955 queries. users per second: 13961.2"
      ]
     },
     "metadata": {},
     "output_type": "display_data"
    },
    {
     "data": {
      "text/html": [
       "<pre>recommendations finished on 152000/161955 queries. users per second: 14021.4</pre>"
      ],
      "text/plain": [
       "recommendations finished on 152000/161955 queries. users per second: 14021.4"
      ]
     },
     "metadata": {},
     "output_type": "display_data"
    },
    {
     "data": {
      "text/html": [
       "<pre>recommendations finished on 153000/161955 queries. users per second: 14081.8</pre>"
      ],
      "text/plain": [
       "recommendations finished on 153000/161955 queries. users per second: 14081.8"
      ]
     },
     "metadata": {},
     "output_type": "display_data"
    },
    {
     "data": {
      "text/html": [
       "<pre>recommendations finished on 154000/161955 queries. users per second: 14090.5</pre>"
      ],
      "text/plain": [
       "recommendations finished on 154000/161955 queries. users per second: 14090.5"
      ]
     },
     "metadata": {},
     "output_type": "display_data"
    },
    {
     "data": {
      "text/html": [
       "<pre>recommendations finished on 155000/161955 queries. users per second: 14149.8</pre>"
      ],
      "text/plain": [
       "recommendations finished on 155000/161955 queries. users per second: 14149.8"
      ]
     },
     "metadata": {},
     "output_type": "display_data"
    },
    {
     "data": {
      "text/html": [
       "<pre>recommendations finished on 156000/161955 queries. users per second: 14163.7</pre>"
      ],
      "text/plain": [
       "recommendations finished on 156000/161955 queries. users per second: 14163.7"
      ]
     },
     "metadata": {},
     "output_type": "display_data"
    },
    {
     "data": {
      "text/html": [
       "<pre>recommendations finished on 157000/161955 queries. users per second: 14216.7</pre>"
      ],
      "text/plain": [
       "recommendations finished on 157000/161955 queries. users per second: 14216.7"
      ]
     },
     "metadata": {},
     "output_type": "display_data"
    },
    {
     "data": {
      "text/html": [
       "<pre>recommendations finished on 158000/161955 queries. users per second: 14275.3</pre>"
      ],
      "text/plain": [
       "recommendations finished on 158000/161955 queries. users per second: 14275.3"
      ]
     },
     "metadata": {},
     "output_type": "display_data"
    },
    {
     "data": {
      "text/html": [
       "<pre>recommendations finished on 159000/161955 queries. users per second: 14331</pre>"
      ],
      "text/plain": [
       "recommendations finished on 159000/161955 queries. users per second: 14331"
      ]
     },
     "metadata": {},
     "output_type": "display_data"
    },
    {
     "data": {
      "text/html": [
       "<pre>recommendations finished on 160000/161955 queries. users per second: 14386.8</pre>"
      ],
      "text/plain": [
       "recommendations finished on 160000/161955 queries. users per second: 14386.8"
      ]
     },
     "metadata": {},
     "output_type": "display_data"
    },
    {
     "data": {
      "text/html": [
       "<pre>recommendations finished on 161000/161955 queries. users per second: 14433.5</pre>"
      ],
      "text/plain": [
       "recommendations finished on 161000/161955 queries. users per second: 14433.5"
      ]
     },
     "metadata": {},
     "output_type": "display_data"
    },
    {
     "name": "stdout",
     "output_type": "stream",
     "text": [
      "\n",
      "Precision and recall summary statistics by cutoff\n",
      "+--------+-----------------+-----------------+\n",
      "| cutoff |  mean_precision |   mean_recall   |\n",
      "+--------+-----------------+-----------------+\n",
      "|   1    |  0.110030564046 | 0.0315781469557 |\n",
      "|   2    | 0.0837516594116 | 0.0470210018995 |\n",
      "|   3    | 0.0719397363465 | 0.0603287511205 |\n",
      "|   4    | 0.0646275199901 | 0.0718478555194 |\n",
      "|   5    | 0.0594955388843 | 0.0822278476143 |\n",
      "|   6    | 0.0554207444455 | 0.0913977820511 |\n",
      "|   7    | 0.0521908643053 | 0.0999577482844 |\n",
      "|   8    | 0.0494435182612 |  0.10761302708  |\n",
      "|   9    | 0.0470494204494 |  0.114464644203 |\n",
      "|   10   | 0.0448408508536 |  0.120621192731 |\n",
      "+--------+-----------------+-----------------+\n",
      "[10 rows x 3 columns]\n",
      "\n",
      "Model compare metric: precision_recall\n",
      "Canvas is accessible via web browser at the URL: http://localhost:42953/index.html\n",
      "Opening Canvas in default web browser.\n"
     ]
    }
   ],
   "source": [
    "item_sim_model = graphlab.item_similarity_recommender.create(train_data, user_id='user_id', item_id='product_id', target='rating', similarity_type='pearson')\n",
    "popularity_model = graphlab.popularity_recommender.create(train_data, user_id='user_id', item_id='product_id', target='rating')\n",
    "latent_model=graphlab.factorization_recommender.create(train_data, user_id='user_id', item_id='product_id', target='rating')\n",
    "model_performance = graphlab.compare(test_data, [popularity_model, item_sim_model,latent_model])\n",
    "graphlab.show_comparison(model_performance,[popularity_model, item_sim_model,latent_model])"
   ]
  },
  {
   "cell_type": "markdown",
   "metadata": {
    "collapsed": true
   },
   "source": [
    "###  As we can see that latent model which uses unsupervised learning to shrink the users traits into latent features gives us the best result\n",
    "\n",
    "###  Below is the code that is happening in the library\n",
    "  product_crosstab=pd.pivot_table(data=normratings,values='rating',index='user_id',columns='product_id',fill_value=0)\n",
    "\n",
    "  X=product_crosstab.values.T\n",
    "  \n",
    "  import sklearn\n",
    "  \n",
    "  from sklearn.decomposition import TruncatedSVD\n",
    "\n",
    "  SVD=TruncatedSVD(n_components=20,random_state=17)\n",
    "\n",
    "  resultant_matrix=SVD.fit_transform(X)  \n",
    "  \n",
    "  resultant_matrix.shape\n",
    "  \n",
    "  import numpy as np\n",
    "  \n",
    "  corr_mat = np.corrcoef(resultant_matrix)\n",
    "   \n",
    "  product_ids=product_crosstab.columns\n",
    "  \n",
    "  productlist=list(product_ids)\n",
    "  \n",
    "  productindexlist=[]\n",
    "  \n",
    " for i in productlist:\n",
    " \n",
    "    productindexlist.append(productlist.index(i))\n",
    "    \n",
    "  allrecommendations=[]    \n",
    "  \n",
    "  for j in productindexlist:\n",
    "  \n",
    "    corr_j=corr_mat[j]\n",
    " \n",
    "    corrlist=list(product_ids[(corr_j<1.0)&(corr_j>0.98)])\n",
    "    \n",
    "    corrlist.append(j)\n",
    "  \n",
    "    allrecommendations.append(corrlist)\n",
    "  \n",
    "  print(allrecommendations)\n",
    "\n",
    "### We use the Graphlab because it was able to scale since it was able to utilize the ibm dsx spark clusters"
   ]
  },
  {
   "cell_type": "code",
   "execution_count": null,
   "metadata": {},
   "outputs": [],
   "source": []
  }
 ],
 "metadata": {
  "kernelspec": {
   "display_name": "Python 2",
   "language": "python",
   "name": "python2"
  },
  "language_info": {
   "codemirror_mode": {
    "name": "ipython",
    "version": 2
   },
   "file_extension": ".py",
   "mimetype": "text/x-python",
   "name": "python",
   "nbconvert_exporter": "python",
   "pygments_lexer": "ipython2",
   "version": "2.7.13"
  }
 },
 "nbformat": 4,
 "nbformat_minor": 1
}
